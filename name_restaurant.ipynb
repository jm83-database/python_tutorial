{
 "cells": [
  {
   "cell_type": "code",
   "execution_count": 2,
   "id": "e4d2aad8-7c63-4a70-9726-55e03cdf90be",
   "metadata": {},
   "outputs": [],
   "source": [
    "Korean = {\"덮밥\":[\"?\", \"??\"], \"비빔밥\":[\"?\", \"??\"]}\n",
    "Japanese = {\"우동\":[\"?\", \"??\"],\"돈까스\":[\"?\", \"??\"]}\n",
    "Chinese = {\"짜짱&짬뽕\":[\"?\", \"??\"], \"마라탕\":[\"?\", \"??\"]}\n",
    "American = {\"피자\":[\"?\", \"??\"], \"치킨\":[\"?\", \"??\"]}\n",
    "etc = {\"밥버거\":[\"?\", \"??\"], \"고기\":[\"?\", \"??\"]}\n",
    "\n"
   ]
  }
 ],
 "metadata": {
  "kernelspec": {
   "display_name": "Python 3 (ipykernel)",
   "language": "python",
   "name": "python3"
  },
  "language_info": {
   "codemirror_mode": {
    "name": "ipython",
    "version": 3
   },
   "file_extension": ".py",
   "mimetype": "text/x-python",
   "name": "python",
   "nbconvert_exporter": "python",
   "pygments_lexer": "ipython3",
   "version": "3.9.13"
  }
 },
 "nbformat": 4,
 "nbformat_minor": 5
}

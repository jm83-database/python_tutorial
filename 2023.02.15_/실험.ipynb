{
 "cells": [
  {
   "cell_type": "code",
   "execution_count": 1,
   "id": "59fd79fe-fe2a-4612-8fcf-205550c0c913",
   "metadata": {},
   "outputs": [
    {
     "name": "stdin",
     "output_type": "stream",
     "text": [
      "아이디를 입력하세요: 1\n",
      "회원 등급을 입력해주세요: 2\n"
     ]
    },
    {
     "name": "stdout",
     "output_type": "stream",
     "text": [
      "제한적인 권한을 갖습니다.\n"
     ]
    }
   ],
   "source": [
    "Q = input(\"아이디를 입력하세요:\")\n",
    "\n",
    "if Q == \"admin\":\n",
    "    print(\"최고 관리자, 모든 권한을 갖습니다.\")\n",
    "else:\n",
    "    Q1 = list([int(input(\"회원 등급을 입력해주세요:\"))])\n",
    "    result = []\n",
    "    for i in Q1:\n",
    "        result.append(i)\n",
    "        if 1<= i <= 3:\n",
    "            print(\"제한적인 권한을 갖습니다.\")\n",
    "        else:\n",
    "            print(\"권한이 없습니다.\")\n",
    "            Q1 = list([int(input(\"회원 등급을 입력해주세요:\"))])"
   ]
  },
  {
   "cell_type": "code",
   "execution_count": null,
   "id": "b62f4a71-7cb4-4a17-882f-88ee1e4dbcae",
   "metadata": {},
   "outputs": [],
   "source": []
  }
 ],
 "metadata": {
  "kernelspec": {
   "display_name": "Python 3 (ipykernel)",
   "language": "python",
   "name": "python3"
  },
  "language_info": {
   "codemirror_mode": {
    "name": "ipython",
    "version": 3
   },
   "file_extension": ".py",
   "mimetype": "text/x-python",
   "name": "python",
   "nbconvert_exporter": "python",
   "pygments_lexer": "ipython3",
   "version": "3.9.13"
  }
 },
 "nbformat": 4,
 "nbformat_minor": 5
}

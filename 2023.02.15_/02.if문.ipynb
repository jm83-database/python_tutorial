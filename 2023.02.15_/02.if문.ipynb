{
 "cells": [
  {
   "cell_type": "code",
   "execution_count": 1,
   "id": "f9ba4f2a-2805-4837-be1d-43d6448d84f1",
   "metadata": {},
   "outputs": [
    {
     "name": "stdout",
     "output_type": "stream",
     "text": [
      "Hello World!\n"
     ]
    }
   ],
   "source": [
    "is_greet = True\n",
    "if is_greet:\n",
    "    print(\"Hello World!\")"
   ]
  },
  {
   "cell_type": "code",
   "execution_count": null,
   "id": "151ca7bf-133f-4618-8f3c-6a538a88e1a6",
   "metadata": {},
   "outputs": [],
   "source": [
    "# 객체 타입을 비교할 때 \n",
    "# 좌 is 우\n",
    "# type(inputvalue) is int\n",
    "\n",
    "# True라면 정수, False라면 다른 타입"
   ]
  }
 ],
 "metadata": {
  "kernelspec": {
   "display_name": "Python 3 (ipykernel)",
   "language": "python",
   "name": "python3"
  },
  "language_info": {
   "codemirror_mode": {
    "name": "ipython",
    "version": 3
   },
   "file_extension": ".py",
   "mimetype": "text/x-python",
   "name": "python",
   "nbconvert_exporter": "python",
   "pygments_lexer": "ipython3",
   "version": "3.9.13"
  }
 },
 "nbformat": 4,
 "nbformat_minor": 5
}

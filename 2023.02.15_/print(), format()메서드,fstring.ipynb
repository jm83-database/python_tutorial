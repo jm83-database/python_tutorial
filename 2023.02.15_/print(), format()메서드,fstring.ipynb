{
 "cells": [
  {
   "cell_type": "code",
   "execution_count": 1,
   "id": "fde2e8fe-4f9a-4595-87d2-d89003c61e6a",
   "metadata": {},
   "outputs": [
    {
     "name": "stdout",
     "output_type": "stream",
     "text": [
      "value 1 1.1 [1, 2, 'text']\n"
     ]
    }
   ],
   "source": [
    "# print함수(구분자는 콤마(,))\n",
    "print(\"value\", 1, 1.1, [1,2,'text'])\n",
    "# 값과 값 사이는 기본적으로 공백()으로 되어있다."
   ]
  },
  {
   "cell_type": "code",
   "execution_count": 2,
   "id": "3aa5158c-1845-4e2b-8e95-191a03ae6723",
   "metadata": {},
   "outputs": [
    {
     "name": "stdout",
     "output_type": "stream",
     "text": [
      "value, 1, 1.1, [1, 2, 'text']\n"
     ]
    }
   ],
   "source": [
    "# 값과 값을 구분하는 단위 변경(구분자 바꾸기)\n",
    "print(\"value\", 1, 1.1, [1,2,'text'], sep = \", \")\n",
    "# sep = '구분기호'를 말미에 붙이면 구분자가 변경됨\n",
    "# keyword = value꼴이고, sep, end 등이 있다."
   ]
  },
  {
   "cell_type": "code",
   "execution_count": 3,
   "id": "6d11a32f-2cf8-41c4-8abb-0dd05e1fd9e8",
   "metadata": {},
   "outputs": [
    {
     "name": "stdout",
     "output_type": "stream",
     "text": [
      "줄이 바뀌지 않습니다.그 이유는 end=\"\\n\"과 같이 기본 설정된 값을 빈 스트링으로 변경했기 때문입니다.\n",
      "sep, end는 맨 뒤에 써야하며 둘 간 순서는 상관없습니다.어떻게 사용하는지\n",
      "이해가 되시나요?"
     ]
    }
   ],
   "source": [
    "print(\"줄이 바뀌지 않습니다.\", end= \"\")\n",
    "print(\"그 이유는 end=\\\"\\\\n\\\"과 같이 기본 설정된 값을 빈 스트링으로 변경했기 때문입니다.\")\n",
    "print(\"sep\",\"end는 맨 뒤에 써야하며 둘 간 순서는 상관없습니다.\", sep=\", \", end=\"\")\n",
    "print(\"어떻게 사용하는지\", \"이해가 되시나요\", sep=\"\\n\", end=\"?\")\n",
    "# sep와 end의 default(기본)값\n",
    "# sep = \"\"(공백)\n",
    "# end = \"\\n\"(줄바꿈)"
   ]
  },
  {
   "cell_type": "code",
   "execution_count": 4,
   "id": "774341f2-654d-41cd-bba7-4dcc3e9612ea",
   "metadata": {},
   "outputs": [
    {
     "name": "stdout",
     "output_type": "stream",
     "text": [
      "2021/02/03 18:33:23\n"
     ]
    }
   ],
   "source": [
    "year = \"2021\"\n",
    "month = \"02\"\n",
    "day = \"03\"\n",
    "hour = \"18\"\n",
    "minute = \"33\"\n",
    "second = \"23\"\n",
    "\n",
    "print(year, month, day, sep=\"/\", end = \" \") # 연, 월, 일 사이는 /로 구분하고,\n",
    "#아래줄과 이어서 쓰기 위해 end는 띄어쓰기 한 칸으로 지정\n",
    "print(hour, minute, second, sep=\":\") # 시, 분, 초 사이는 :로 구분"
   ]
  },
  {
   "cell_type": "code",
   "execution_count": 5,
   "id": "fb23429f-059f-48d2-8d1d-983a749d3553",
   "metadata": {},
   "outputs": [
    {
     "name": "stdin",
     "output_type": "stream",
     "text": [
      "사과와 귤을 몇개 드릴까요? 10,20\n"
     ]
    },
    {
     "name": "stdout",
     "output_type": "stream",
     "text": [
      "총 가격은 14000원입니다.\n"
     ]
    }
   ],
   "source": [
    "apple, tangerine = list(map(int, input(\"사과와 귤을 몇개 드릴까요?\").split(',')))\n",
    "# 입력값은 10, 20\n",
    "total = apple*1000 + tangerine*200\n",
    "print(\"총 가격은 \", total, \"원입니다.\", sep=\"\")"
   ]
  },
  {
   "cell_type": "code",
   "execution_count": 6,
   "id": "0ac817c3-6894-48e7-967e-a1762e5804cf",
   "metadata": {},
   "outputs": [
    {
     "name": "stdin",
     "output_type": "stream",
     "text": [
      "사과와 귤을 몇개 드릴까요? 10,20\n"
     ]
    },
    {
     "name": "stdout",
     "output_type": "stream",
     "text": [
      "총 가격은 14000원입니다.\n"
     ]
    }
   ],
   "source": [
    "apple, tangerine = list(map(int, input(\"사과와 귤을 몇개 드릴까요?\").split(',')))\n",
    "# 입력값은 10, 20\n",
    "total = int(apple*1e3 + tangerine*2e2) # 자릿수를 e로 표현하면 float으로 변형됨\n",
    "print(\"총 가격은 \", total, \"원입니다.\", sep=\"\")"
   ]
  },
  {
   "cell_type": "code",
   "execution_count": 7,
   "id": "dd38f3c5-f4ee-4bfb-88d4-99c6deb05535",
   "metadata": {},
   "outputs": [
    {
     "name": "stdout",
     "output_type": "stream",
     "text": [
      "10\n",
      "10 20 30\n",
      "101 202 303 404 505\n",
      "파이썬은 노력에 정비례한다.\n"
     ]
    }
   ],
   "source": [
    "# format() 메서드\n",
    "# {} 내부에 format(값1, 값2, ...)가 순차적으로 대입\n",
    "\n",
    "print(\"{}\".format(10))\n",
    "print(\"{} {} {}\".format(10,20,30))\n",
    "print(\"{} {} {} {} {}\".format(101, 202, 303, 404, 505))\n",
    "print(\"{}은 {}에 {}한다.\".format(\"파이썬\", \"노력\", \"정비례\"))"
   ]
  },
  {
   "cell_type": "code",
   "execution_count": 8,
   "id": "3814d0b8-6638-48e1-80bc-51375c172a13",
   "metadata": {},
   "outputs": [
    {
     "name": "stdout",
     "output_type": "stream",
     "text": [
      "오늘의 날짜를 알려드립니다!\n",
      "2023년 2월 15일입니다.\n"
     ]
    }
   ],
   "source": [
    "import time\n",
    "\n",
    "today = \"\"\"오늘의 날짜를 알려드립니다!\n",
    "{}년 {}월 {}일입니다.\\\n",
    "\"\"\".format(time.localtime().tm_year,\n",
    "           time.localtime().tm_mon,\n",
    "           time.localtime().tm_mday)\n",
    "\n",
    "print(today)"
   ]
  },
  {
   "cell_type": "code",
   "execution_count": 9,
   "id": "7ba313b7-f5d7-4ffd-b3d8-26edeb4773b7",
   "metadata": {},
   "outputs": [
    {
     "name": "stdout",
     "output_type": "stream",
     "text": [
      "중괄호는 2개이고, 여기 인수는\n"
     ]
    }
   ],
   "source": [
    "# 중괄호 개수보다 format 매서드의 인수가 많으면\n",
    "# 초과되는 format 메서드의 인수는 버려진다.\n",
    "\n",
    "some_str = \"중괄호는 2개이고, {} {}\".format(\"여기\", \"인수는\", \"3개 입니다.\")\n",
    "print(some_str)"
   ]
  },
  {
   "cell_type": "code",
   "execution_count": 10,
   "id": "0ef944ab-9443-4a6b-9210-9b5fc9f035ff",
   "metadata": {},
   "outputs": [
    {
     "ename": "IndexError",
     "evalue": "Replacement index 3 out of range for positional args tuple",
     "output_type": "error",
     "traceback": [
      "\u001b[1;31m---------------------------------------------------------------------------\u001b[0m",
      "\u001b[1;31mIndexError\u001b[0m                                Traceback (most recent call last)",
      "\u001b[1;32m~\\AppData\\Local\\Temp\\ipykernel_7552\\1821130939.py\u001b[0m in \u001b[0;36m<module>\u001b[1;34m\u001b[0m\n\u001b[0;32m      1\u001b[0m \u001b[1;31m# 중괄호 개수보다 format 메서드의 인수가 적으면\u001b[0m\u001b[1;33m\u001b[0m\u001b[1;33m\u001b[0m\u001b[0m\n\u001b[0;32m      2\u001b[0m \u001b[1;31m# IndexError가 발생\u001b[0m\u001b[1;33m\u001b[0m\u001b[1;33m\u001b[0m\u001b[0m\n\u001b[1;32m----> 3\u001b[1;33m \u001b[0msome_str\u001b[0m \u001b[1;33m=\u001b[0m \u001b[1;34m\"중괄호는 4개이고, {} {} {} {}\"\u001b[0m\u001b[1;33m.\u001b[0m\u001b[0mformat\u001b[0m\u001b[1;33m(\u001b[0m\u001b[1;34m\"여기\"\u001b[0m\u001b[1;33m,\u001b[0m \u001b[1;34m\"인수는\"\u001b[0m\u001b[1;33m,\u001b[0m \u001b[1;34m\"3개 입니다.\"\u001b[0m\u001b[1;33m)\u001b[0m\u001b[1;33m\u001b[0m\u001b[1;33m\u001b[0m\u001b[0m\n\u001b[0m\u001b[0;32m      4\u001b[0m \u001b[0mprint\u001b[0m\u001b[1;33m(\u001b[0m\u001b[0msome_str\u001b[0m\u001b[1;33m)\u001b[0m\u001b[1;33m\u001b[0m\u001b[1;33m\u001b[0m\u001b[0m\n\u001b[0;32m      5\u001b[0m \u001b[1;31m# 4번째 중괄호(3번 인덱스)가 없다고 경고가 뜸\u001b[0m\u001b[1;33m\u001b[0m\u001b[1;33m\u001b[0m\u001b[0m\n",
      "\u001b[1;31mIndexError\u001b[0m: Replacement index 3 out of range for positional args tuple"
     ]
    }
   ],
   "source": [
    "# 중괄호 개수보다 format 메서드의 인수가 적으면\n",
    "# IndexError가 발생\n",
    "some_str = \"중괄호는 4개이고, {} {} {} {}\".format(\"여기\", \"인수는\", \"3개 입니다.\")\n",
    "print(some_str)\n",
    "# 4번째 중괄호(3번 인덱스)가 없다고 경고가 뜸"
   ]
  },
  {
   "cell_type": "code",
   "execution_count": 11,
   "id": "a5740474-3fad-4966-b0d0-42d0900ebbe4",
   "metadata": {},
   "outputs": [
    {
     "name": "stdin",
     "output_type": "stream",
     "text": [
      "경기장은 어디입니다까? 고척\n",
      "이긴 팀은 어디입니가? KT\n",
      "진 팀은 어디입니까? LG\n",
      "우수 선수는 누구입니까? 강백호\n",
      "스코어는 몇대몇입니까? 10:9\n"
     ]
    },
    {
     "name": "stdout",
     "output_type": "stream",
     "text": [
      "[속보] KT가 10:9로 승리...\n",
      "오늘 고척경기장에서 야구 경기가 있었습니다. \n",
      "KT와 LG는 치열한 공방전을 펼쳤습니다.\n",
      "이 경기에서 강백호가 맹활약을 했습니다.\n",
      "그 끝내 LG가 KT를 10:9로 승리하였습니다.\n",
      "기사 끝.\n"
     ]
    }
   ],
   "source": [
    "#사용자에게 경기장, 점수, 이긴 팀, 진 팀,\n",
    "#우수 선수를 질문하고 변수에 저장합니다.\n",
    "#이들 문자열에 문장을 붙여서 기사를 작성해봅시다.\n",
    "\n",
    "a1 = input(\"경기장은 어디입니다까?\")\n",
    "a2 = input(\"이긴 팀은 어디입니가?\")\n",
    "a3 = input(\"진 팀은 어디입니까?\")\n",
    "a4 = input(\"우수 선수는 누구입니까?\")\n",
    "a5 = input(\"스코어는 몇대몇입니까?\")\n",
    "#고척, KT, LG, 강백호, 10:9 가 입력값\n",
    "\n",
    "print(\"\"\"[속보] {}가 {}로 승리...\n",
    "오늘 {}경기장에서 야구 경기가 있었습니다. \n",
    "{}와 {}는 치열한 공방전을 펼쳤습니다.\n",
    "이 경기에서 {}가 맹활약을 했습니다.\n",
    "그 끝내 {}가 {}를 {}로 승리하였습니다.\n",
    "기사 끝.\"\"\".format(a2,a5,a1, a2,a3,a4,a3,a2,a5))"
   ]
  },
  {
   "cell_type": "code",
   "execution_count": 12,
   "id": "e762cbe6-910e-4089-9873-e9b86746c3f8",
   "metadata": {},
   "outputs": [
    {
     "name": "stdout",
     "output_type": "stream",
     "text": [
      "10\n",
      "10 20 30\n",
      "101 202 303 404 505\n"
     ]
    }
   ],
   "source": [
    "print(f\"{10}\")\n",
    "print(f\"{10} {20} {30}\")\n",
    "print(f\"{101} {202} {303} {404} {505}\")"
   ]
  },
  {
   "cell_type": "code",
   "execution_count": 13,
   "id": "2aea417e-f0bc-48da-a310-e5301b2a634a",
   "metadata": {},
   "outputs": [
    {
     "name": "stdout",
     "output_type": "stream",
     "text": [
      "오늘의 날짜를 알려드립니다!\n",
      "2023년 2월 15일입니다.\n"
     ]
    }
   ],
   "source": [
    "import time\n",
    "\n",
    "today1 = f\"\"\"오늘의 날짜를 알려드립니다!\n",
    "{time.localtime().tm_year}년 {time.localtime().tm_mon}월 {time.localtime().tm_mday}일입니다.\\\n",
    "\"\"\"\n",
    "\n",
    "print(today1)"
   ]
  }
 ],
 "metadata": {
  "kernelspec": {
   "display_name": "Python 3 (ipykernel)",
   "language": "python",
   "name": "python3"
  },
  "language_info": {
   "codemirror_mode": {
    "name": "ipython",
    "version": 3
   },
   "file_extension": ".py",
   "mimetype": "text/x-python",
   "name": "python",
   "nbconvert_exporter": "python",
   "pygments_lexer": "ipython3",
   "version": "3.9.13"
  }
 },
 "nbformat": 4,
 "nbformat_minor": 5
}

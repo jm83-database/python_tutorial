{
 "cells": [
  {
   "cell_type": "code",
   "execution_count": 1,
   "id": "c127aaa5-40ce-4905-9769-303b4c149139",
   "metadata": {},
   "outputs": [],
   "source": [
    "import pandas as pd\n",
    "import numpy as np\n",
    "import seaborn as sns\n",
    "import matplotlib as mpl\n",
    "import matplotlib.pyplot as plt"
   ]
  },
  {
   "cell_type": "code",
   "execution_count": 2,
   "id": "e92ad1ca-8d60-4c17-a8e0-4e1ce8e86a33",
   "metadata": {},
   "outputs": [],
   "source": [
    "font_dir = ['C:/python/fonts']\n",
    "for font in mpl.font_manager.findSystemFonts(fontpaths = font_dir):\n",
    "    mpl.font_manager.fontManager.addfont(font)"
   ]
  },
  {
   "cell_type": "code",
   "execution_count": 3,
   "id": "d313708f-475d-4f7b-bb4c-da7f49c50276",
   "metadata": {},
   "outputs": [
    {
     "name": "stdout",
     "output_type": "stream",
     "text": [
      "['maruburi']\n"
     ]
    }
   ],
   "source": [
    "# Set font family globally\n",
    "mpl.rcParams['font.family'] = 'maruburi'\n",
    "print(mpl.rcParams['font.family'])"
   ]
  },
  {
   "cell_type": "code",
   "execution_count": 4,
   "id": "577de965-4479-4700-bfa2-14f9451052fd",
   "metadata": {},
   "outputs": [],
   "source": [
    "mpl.rc('axes', unicode_minus = False)"
   ]
  },
  {
   "cell_type": "code",
   "execution_count": 5,
   "id": "c3da2bfc-7816-432c-a6cc-6a80bcb478fa",
   "metadata": {},
   "outputs": [],
   "source": [
    "%matplotlib inline"
   ]
  },
  {
   "cell_type": "code",
   "execution_count": null,
   "id": "693465c0-4cdf-446b-aae8-a7bd8e84c663",
   "metadata": {},
   "outputs": [],
   "source": []
  }
 ],
 "metadata": {
  "kernelspec": {
   "display_name": "Python 3 (ipykernel)",
   "language": "python",
   "name": "python3"
  },
  "language_info": {
   "codemirror_mode": {
    "name": "ipython",
    "version": 3
   },
   "file_extension": ".py",
   "mimetype": "text/x-python",
   "name": "python",
   "nbconvert_exporter": "python",
   "pygments_lexer": "ipython3",
   "version": "3.9.13"
  }
 },
 "nbformat": 4,
 "nbformat_minor": 5
}

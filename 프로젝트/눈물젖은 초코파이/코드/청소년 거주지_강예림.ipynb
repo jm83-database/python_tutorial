{
 "cells": [
  {
   "cell_type": "code",
   "execution_count": 2,
   "id": "a9a83aff-a7e3-4704-8452-d6d58973bd2d",
   "metadata": {},
   "outputs": [],
   "source": [
    "import pandas as pd\n",
    "import seaborn as sns\n",
    "import numpy as np\n",
    "import matplotlib as mpl\n",
    "import matplotlib.pyplot as plt\n",
    "%matplotlib inline"
   ]
  },
  {
   "cell_type": "code",
   "execution_count": 3,
   "id": "c5208e33-11d1-4f56-aab2-1a777d277a65",
   "metadata": {
    "scrolled": true,
    "tags": []
   },
   "outputs": [
    {
     "name": "stdout",
     "output_type": "stream",
     "text": [
      "['C:\\\\Windows\\\\Fonts\\\\LTYPEB.TTF', 'C:\\\\WINDOWS\\\\Fonts\\\\CURLZ___.TTF', 'C:\\\\WINDOWS\\\\Fonts\\\\SCHLBKB.TTF', 'C:\\\\WINDOWS\\\\Fonts\\\\TCCM____.TTF', 'C:\\\\WINDOWS\\\\Fonts\\\\LFAXI.TTF', 'C:\\\\WINDOWS\\\\Fonts\\\\PERTIBD.TTF', 'C:\\\\Windows\\\\Fonts\\\\SHOWG.TTF', 'C:\\\\WINDOWS\\\\Fonts\\\\LFAXDI.TTF', 'C:\\\\Windows\\\\Fonts\\\\RAGE.TTF', 'C:\\\\Windows\\\\Fonts\\\\BOD_CB.TTF', 'C:\\\\Windows\\\\Fonts\\\\ERASMD.TTF', 'C:\\\\WINDOWS\\\\Fonts\\\\msgothic.ttc', 'C:\\\\WINDOWS\\\\Fonts\\\\GOTHICB.TTF', 'C:\\\\WINDOWS\\\\Fonts\\\\segoeuisl.ttf', 'C:\\\\WINDOWS\\\\Fonts\\\\FRABK.TTF', 'C:\\\\WINDOWS\\\\Fonts\\\\TCBI____.TTF', 'C:\\\\WINDOWS\\\\Fonts\\\\MTCORSVA.TTF', 'C:\\\\Windows\\\\Fonts\\\\ntailu.ttf', 'C:\\\\WINDOWS\\\\Fonts\\\\seguisbi.ttf', 'C:\\\\WINDOWS\\\\Fonts\\\\BRLNSR.TTF', 'C:\\\\WINDOWS\\\\Fonts\\\\Candarai.ttf', 'C:\\\\Windows\\\\Fonts\\\\CENTAUR.TTF', 'C:\\\\Windows\\\\Fonts\\\\corbelli.ttf', 'C:\\\\WINDOWS\\\\Fonts\\\\BRADHITC.TTF', 'C:\\\\WINDOWS\\\\Fonts\\\\calibrili.ttf', 'C:\\\\WINDOWS\\\\Fonts\\\\FRAHVIT.TTF', 'C:\\\\Windows\\\\Fonts\\\\BKANT.TTF', 'C:\\\\Windows\\\\Fonts\\\\LBRITEI.TTF', 'C:\\\\WINDOWS\\\\Fonts\\\\holomdl2.ttf', 'C:\\\\WINDOWS\\\\Fonts\\\\tahoma.ttf', 'C:\\\\Windows\\\\Fonts\\\\ROCKBI.TTF', 'C:\\\\Windows\\\\Fonts\\\\mingliub.ttc', 'C:\\\\Windows\\\\Fonts\\\\JUMJA.TTF', 'C:\\\\Windows\\\\Fonts\\\\LFAXI.TTF', 'C:\\\\WINDOWS\\\\Fonts\\\\cambria.ttc', 'C:\\\\WINDOWS\\\\Fonts\\\\SNAP____.TTF', 'C:\\\\Windows\\\\Fonts\\\\msjhbd.ttc', 'C:\\\\Windows\\\\Fonts\\\\PERI____.TTF', 'C:\\\\WINDOWS\\\\Fonts\\\\courbi.ttf', 'C:\\\\WINDOWS\\\\Fonts\\\\LTYPEBO.TTF', 'C:\\\\WINDOWS\\\\Fonts\\\\PERI____.TTF', 'C:\\\\WINDOWS\\\\Fonts\\\\trebucbi.ttf', 'C:\\\\Windows\\\\Fonts\\\\ELEPHNT.TTF', 'C:\\\\Windows\\\\Fonts\\\\mmrtextb.ttf', 'C:\\\\Windows\\\\Fonts\\\\SCRIPTBL.TTF', 'C:\\\\Windows\\\\Fonts\\\\NGULIM.TTF', 'C:\\\\WINDOWS\\\\Fonts\\\\SCHLBKBI.TTF', 'C:\\\\WINDOWS\\\\Fonts\\\\phagspab.ttf', 'C:\\\\WINDOWS\\\\Fonts\\\\verdanaz.ttf', 'C:\\\\WINDOWS\\\\Fonts\\\\YuGothL.ttc', 'C:\\\\Windows\\\\Fonts\\\\segoeuii.ttf', 'C:\\\\Windows\\\\Fonts\\\\DUBAI-BOLD.TTF', 'C:\\\\Windows\\\\Fonts\\\\seguisbi.ttf', 'C:\\\\Windows\\\\Fonts\\\\HANBatangExtBB.ttf', 'C:\\\\Windows\\\\Fonts\\\\couri.ttf', 'C:\\\\WINDOWS\\\\Fonts\\\\palai.ttf', 'C:\\\\WINDOWS\\\\Fonts\\\\GARA.TTF', 'C:\\\\Windows\\\\Fonts\\\\ERASDEMI.TTF', 'C:\\\\Windows\\\\Fonts\\\\H2GTRM.TTF', 'C:\\\\WINDOWS\\\\Fonts\\\\GOUDOSB.TTF', 'C:\\\\WINDOWS\\\\Fonts\\\\H2HDRM.TTF', 'C:\\\\WINDOWS\\\\Fonts\\\\HMFMOLD.TTF', 'C:\\\\Windows\\\\Fonts\\\\ebrima.ttf', 'C:\\\\Windows\\\\Fonts\\\\GOTHICBI.TTF', 'C:\\\\WINDOWS\\\\Fonts\\\\ntailub.ttf', 'C:\\\\Windows\\\\Fonts\\\\BOD_CBI.TTF', 'C:\\\\WINDOWS\\\\Fonts\\\\POORICH.TTF', 'C:\\\\WINDOWS\\\\Fonts\\\\ROCKEB.TTF', 'C:\\\\WINDOWS\\\\Fonts\\\\consolab.ttf', 'C:\\\\WINDOWS\\\\Fonts\\\\cambriaz.ttf', 'C:\\\\WINDOWS\\\\Fonts\\\\ANTQUAB.TTF', 'C:\\\\Windows\\\\Fonts\\\\MAIAN.TTF', 'C:\\\\WINDOWS\\\\Fonts\\\\ERASBD.TTF', 'C:\\\\WINDOWS\\\\Fonts\\\\MISTRAL.TTF', 'C:\\\\WINDOWS\\\\Fonts\\\\DUBAI-BOLD.TTF', 'C:\\\\WINDOWS\\\\Fonts\\\\verdana.ttf', 'C:\\\\Windows\\\\Fonts\\\\simsun.ttc', 'C:\\\\WINDOWS\\\\Fonts\\\\comic.ttf', 'C:\\\\Windows\\\\Fonts\\\\H2GTRE.TTF', 'C:\\\\Windows\\\\Fonts\\\\HMFMOLD.TTF', 'C:\\\\Windows\\\\Fonts\\\\msyh.ttc', 'C:\\\\Windows\\\\Fonts\\\\calibriz.ttf', 'C:\\\\Windows\\\\Fonts\\\\calibrib.ttf', 'C:\\\\Windows\\\\Fonts\\\\\\x7f\\x7f\\x7f\\x7fEXTRABOLD.TTF', 'C:\\\\Windows\\\\Fonts\\\\TCM_____.TTF', 'C:\\\\Windows\\\\Fonts\\\\HTOWERTI.TTF', 'C:\\\\Windows\\\\Fonts\\\\SitkaI.ttc', 'C:\\\\Windows\\\\Fonts\\\\msjh.ttc', 'C:\\\\Windows\\\\Fonts\\\\YuGothL.ttc', 'C:\\\\Windows\\\\Fonts\\\\ROCKI.TTF', 'C:\\\\WINDOWS\\\\Fonts\\\\AGENCYR.TTF', 'C:\\\\Windows\\\\Fonts\\\\BASKVILL.TTF', 'C:\\\\WINDOWS\\\\Fonts\\\\Gabriola.ttf', 'C:\\\\WINDOWS\\\\Fonts\\\\BOOKOS.TTF', 'C:\\\\Windows\\\\Fonts\\\\NIAGENG.TTF', 'C:\\\\Windows\\\\Fonts\\\\lucon.ttf', 'C:\\\\Windows\\\\Fonts\\\\HANDotumB.ttf', 'C:\\\\Windows\\\\Fonts\\\\symbol.ttf', 'C:\\\\WINDOWS\\\\Fonts\\\\HTOWERTI.TTF', 'C:\\\\WINDOWS\\\\Fonts\\\\LTYPEB.TTF', 'C:\\\\WINDOWS\\\\Fonts\\\\TCCB____.TTF', 'C:\\\\WINDOWS\\\\Fonts\\\\TCCEB.TTF', 'C:\\\\Windows\\\\Fonts\\\\LeelawUI.ttf', 'C:\\\\WINDOWS\\\\Fonts\\\\MATURASC.TTF', 'C:\\\\Windows\\\\Fonts\\\\PERTIBD.TTF', 'C:\\\\Windows\\\\Fonts\\\\MAGNETOB.TTF', 'C:\\\\Windows\\\\Fonts\\\\VLADIMIR.TTF', 'C:\\\\WINDOWS\\\\Fonts\\\\CENTAUR.TTF', 'C:\\\\WINDOWS\\\\Fonts\\\\lucon.ttf', 'C:\\\\WINDOWS\\\\Fonts\\\\MAIAN.TTF', 'C:\\\\WINDOWS\\\\Fonts\\\\impact.ttf', 'C:\\\\Windows\\\\Fonts\\\\FRADMIT.TTF', 'C:\\\\Windows\\\\Fonts\\\\palab.ttf', 'C:\\\\WINDOWS\\\\Fonts\\\\REFSAN.TTF', 'C:\\\\WINDOWS\\\\Fonts\\\\ITCEDSCR.TTF', 'C:\\\\Windows\\\\Fonts\\\\PRISTINA.TTF', 'C:\\\\WINDOWS\\\\Fonts\\\\ROCKBI.TTF', 'C:\\\\WINDOWS\\\\Fonts\\\\GOUDOS.TTF', 'C:\\\\Windows\\\\Fonts\\\\BRLNSDB.TTF', 'C:\\\\WINDOWS\\\\Fonts\\\\marlett.ttf', 'C:\\\\Windows\\\\Fonts\\\\OCRAEXT.TTF', 'C:\\\\Windows\\\\Fonts\\\\batang.ttc', 'C:\\\\WINDOWS\\\\Fonts\\\\CALISTBI.TTF', 'C:\\\\Windows\\\\Fonts\\\\timesbi.ttf', 'C:\\\\Windows\\\\Fonts\\\\BOOKOSI.TTF', 'C:\\\\Windows\\\\Fonts\\\\VINERITC.TTF', 'C:\\\\Windows\\\\Fonts\\\\MATURASC.TTF', 'C:\\\\Windows\\\\Fonts\\\\calibri.ttf', 'C:\\\\Windows\\\\Fonts\\\\msgothic.ttc', 'C:\\\\Windows\\\\Fonts\\\\OLDENGL.TTF', 'C:\\\\Windows\\\\Fonts\\\\FRAMDCN.TTF', 'C:\\\\Windows\\\\Fonts\\\\taile.ttf', 'C:\\\\Windows\\\\Fonts\\\\MISTRAL.TTF', 'C:\\\\WINDOWS\\\\Fonts\\\\BROADW.TTF', 'C:\\\\WINDOWS\\\\Fonts\\\\NanumBarunGothic.ttf', 'C:\\\\WINDOWS\\\\Fonts\\\\constanz.ttf', 'C:\\\\WINDOWS\\\\Fonts\\\\NirmalaS.ttf', 'C:\\\\Windows\\\\Fonts\\\\Hancom Gothic Regular.ttf', 'C:\\\\Windows\\\\Fonts\\\\COPRGTB.TTF', 'C:\\\\WINDOWS\\\\Fonts\\\\JUICE___.TTF', 'C:\\\\WINDOWS\\\\Fonts\\\\bahnschrift.ttf', 'C:\\\\WINDOWS\\\\Fonts\\\\GLSNECB.TTF', 'C:\\\\WINDOWS\\\\Fonts\\\\GLECB.TTF', 'C:\\\\Windows\\\\Fonts\\\\LATINWD.TTF', 'C:\\\\Windows\\\\Fonts\\\\ROCKB.TTF', 'C:\\\\WINDOWS\\\\Fonts\\\\BRITANIC.TTF', 'C:\\\\WINDOWS\\\\Fonts\\\\COPRGTL.TTF', 'C:\\\\WINDOWS\\\\Fonts\\\\calibrii.ttf', 'C:\\\\WINDOWS\\\\Fonts\\\\GOUDOSI.TTF', 'C:\\\\WINDOWS\\\\Fonts\\\\SangSangTitleM.ttf', 'C:\\\\WINDOWS\\\\Fonts\\\\Candaral.ttf', 'C:\\\\WINDOWS\\\\Fonts\\\\GIL_____.TTF', 'C:\\\\WINDOWS\\\\Fonts\\\\BOD_I.TTF', 'C:\\\\Windows\\\\Fonts\\\\msyhl.ttc', 'C:\\\\Windows\\\\Fonts\\\\Nirmala.ttf', 'C:\\\\WINDOWS\\\\Fonts\\\\HTOWERT.TTF', 'C:\\\\Windows\\\\Fonts\\\\segoesc.ttf', 'C:\\\\Windows\\\\Fonts\\\\CALISTBI.TTF', 'C:\\\\WINDOWS\\\\Fonts\\\\CALIFR.TTF', 'C:\\\\Windows\\\\Fonts\\\\COOPBL.TTF', 'C:\\\\Windows\\\\Fonts\\\\SCHLBKBI.TTF', 'C:\\\\WINDOWS\\\\Fonts\\\\BOD_R.TTF', 'C:\\\\Windows\\\\Fonts\\\\verdanab.ttf', 'C:\\\\Windows\\\\Fonts\\\\palai.ttf', 'C:\\\\Windows\\\\Fonts\\\\javatext.ttf', 'C:\\\\WINDOWS\\\\Fonts\\\\LBRITED.TTF', 'C:\\\\WINDOWS\\\\Fonts\\\\LeelawUI.ttf', 'C:\\\\Windows\\\\Fonts\\\\FRAHVIT.TTF', 'C:\\\\WINDOWS\\\\Fonts\\\\calibril.ttf', 'C:\\\\WINDOWS\\\\Fonts\\\\REFSPCL.TTF', 'C:\\\\Windows\\\\Fonts\\\\WINGDNG3.TTF', 'C:\\\\Windows\\\\Fonts\\\\corbelz.ttf', 'C:\\\\WINDOWS\\\\Fonts\\\\OLDENGL.TTF', 'C:\\\\WINDOWS\\\\Fonts\\\\BRLNSDB.TTF', 'C:\\\\WINDOWS\\\\Fonts\\\\symbol.ttf', 'C:\\\\WINDOWS\\\\Fonts\\\\H2GSRB.TTF', 'C:\\\\Windows\\\\Fonts\\\\WINGDNG2.TTF', 'C:\\\\WINDOWS\\\\Fonts\\\\ANTQUAI.TTF', 'C:\\\\Windows\\\\Fonts\\\\ntailub.ttf', 'C:\\\\WINDOWS\\\\Fonts\\\\GILLUBCD.TTF', 'C:\\\\Windows\\\\Fonts\\\\TCBI____.TTF', 'C:\\\\Windows\\\\Fonts\\\\constan.ttf', 'C:\\\\Windows\\\\Fonts\\\\GARAIT.TTF', 'C:\\\\Windows\\\\Fonts\\\\LBRITED.TTF', 'C:\\\\WINDOWS\\\\Fonts\\\\consolai.ttf', 'C:\\\\WINDOWS\\\\Fonts\\\\ONYX.TTF', 'C:\\\\WINDOWS\\\\Fonts\\\\LSANS.TTF', 'C:\\\\WINDOWS\\\\Fonts\\\\DUBAI-LIGHT.TTF', 'C:\\\\Windows\\\\Fonts\\\\GILBI___.TTF', 'C:\\\\WINDOWS\\\\Fonts\\\\ebrima.ttf', 'C:\\\\Windows\\\\Fonts\\\\ALGER.TTF', 'C:\\\\WINDOWS\\\\Fonts\\\\calibri.ttf', 'C:\\\\WINDOWS\\\\Fonts\\\\Inkfree.ttf', 'C:\\\\WINDOWS\\\\Fonts\\\\pala.ttf', 'C:\\\\Windows\\\\Fonts\\\\segoeuisl.ttf', 'C:\\\\Windows\\\\Fonts\\\\segoepr.ttf', 'C:\\\\Windows\\\\Fonts\\\\BRLNSR.TTF', 'C:\\\\Windows\\\\Fonts\\\\MOD20.TTF', 'C:\\\\WINDOWS\\\\Fonts\\\\BOD_CR.TTF', 'C:\\\\WINDOWS\\\\Fonts\\\\consola.ttf', 'C:\\\\Windows\\\\Fonts\\\\PALSCRI.TTF', 'C:\\\\Windows\\\\Fonts\\\\NirmalaB.ttf', 'C:\\\\WINDOWS\\\\Fonts\\\\LBRITEDI.TTF', 'C:\\\\Windows\\\\Fonts\\\\HTOWERT.TTF', 'C:\\\\WINDOWS\\\\Fonts\\\\malgunsl.ttf', 'C:\\\\Windows\\\\Fonts\\\\AGENCYR.TTF', 'C:\\\\Windows\\\\Fonts\\\\YuGothR.ttc', 'C:\\\\WINDOWS\\\\Fonts\\\\Candarab.ttf', 'C:\\\\Windows\\\\Fonts\\\\HANWing2.ttf', 'C:\\\\Windows\\\\Fonts\\\\LFAXDI.TTF', 'C:\\\\WINDOWS\\\\Fonts\\\\msjhl.ttc', 'C:\\\\WINDOWS\\\\Fonts\\\\KUNSTLER.TTF', 'C:\\\\Windows\\\\Fonts\\\\corbelb.ttf', 'C:\\\\Windows\\\\Fonts\\\\NirmalaS.ttf', 'C:\\\\Windows\\\\Fonts\\\\BRADHITC.TTF', 'C:\\\\Windows\\\\Fonts\\\\tahomabd.ttf', 'C:\\\\Windows\\\\Fonts\\\\BOOKOS.TTF', 'C:\\\\WINDOWS\\\\Fonts\\\\LSANSD.TTF', 'C:\\\\Windows\\\\Fonts\\\\BRUSHSCI.TTF', 'C:\\\\WINDOWS\\\\Fonts\\\\segoesc.ttf', 'C:\\\\WINDOWS\\\\Fonts\\\\TEMPSITC.TTF', 'C:\\\\Windows\\\\Fonts\\\\H2MKPB.TTF', 'C:\\\\Windows\\\\Fonts\\\\cambriaz.ttf', 'C:\\\\Windows\\\\Fonts\\\\H2GSRB.TTF', 'C:\\\\Windows\\\\Fonts\\\\malgunsl.ttf', 'C:\\\\WINDOWS\\\\Fonts\\\\FORTE.TTF', 'C:\\\\WINDOWS\\\\Fonts\\\\MAGNETOB.TTF', 'C:\\\\WINDOWS\\\\Fonts\\\\SitkaI.ttc', 'C:\\\\WINDOWS\\\\Fonts\\\\ARIALNB.TTF', 'C:\\\\WINDOWS\\\\Fonts\\\\TCB_____.TTF', 'C:\\\\WINDOWS\\\\Fonts\\\\H2GPRM.TTF', 'C:\\\\WINDOWS\\\\Fonts\\\\mmrtext.ttf', 'C:\\\\WINDOWS\\\\Fonts\\\\msyh.ttc', 'C:\\\\WINDOWS\\\\Fonts\\\\BELL.TTF', 'C:\\\\WINDOWS\\\\Fonts\\\\ARLRDBD.TTF', 'C:\\\\WINDOWS\\\\Fonts\\\\BAUHS93.TTF', 'C:\\\\Windows\\\\Fonts\\\\Candara.ttf', 'C:\\\\WINDOWS\\\\Fonts\\\\ebrimabd.ttf', 'C:\\\\WINDOWS\\\\Fonts\\\\BOOKOSB.TTF', 'C:\\\\WINDOWS\\\\Fonts\\\\FRAMDCN.TTF', 'C:\\\\Windows\\\\Fonts\\\\LFAX.TTF', 'C:\\\\Windows\\\\Fonts\\\\HMFMPYUN.TTF', 'C:\\\\WINDOWS\\\\Fonts\\\\GOTHICBI.TTF', 'C:\\\\Windows\\\\Fonts\\\\FREESCPT.TTF', 'C:\\\\WINDOWS\\\\Fonts\\\\verdanai.ttf', 'C:\\\\WINDOWS\\\\Fonts\\\\mmrtextb.ttf', 'C:\\\\WINDOWS\\\\Fonts\\\\ANTQUABI.TTF', 'C:\\\\Windows\\\\Fonts\\\\ANTQUAB.TTF', 'C:\\\\Windows\\\\Fonts\\\\FRADM.TTF', 'C:\\\\WINDOWS\\\\Fonts\\\\SCRIPTBL.TTF', 'C:\\\\WINDOWS\\\\Fonts\\\\arial.ttf', 'C:\\\\WINDOWS\\\\Fonts\\\\PALSCRI.TTF', 'C:\\\\Windows\\\\Fonts\\\\Sitka.ttc', 'C:\\\\Windows\\\\Fonts\\\\H2SA1M.TTF', 'C:\\\\WINDOWS\\\\Fonts\\\\DUBAI-REGULAR.TTF', 'C:\\\\WINDOWS\\\\Fonts\\\\georgia.ttf', 'C:\\\\Windows\\\\Fonts\\\\Candaraz.ttf', 'C:\\\\WINDOWS\\\\Fonts\\\\CALIST.TTF', 'C:\\\\Windows\\\\Fonts\\\\CHILLER.TTF', 'C:\\\\Windows\\\\Fonts\\\\verdana.ttf', 'C:\\\\Windows\\\\Fonts\\\\BELLB.TTF', 'C:\\\\Windows\\\\Fonts\\\\FRADMCN.TTF', 'C:\\\\WINDOWS\\\\Fonts\\\\GIGI.TTF', 'C:\\\\WINDOWS\\\\Fonts\\\\GILB____.TTF', 'C:\\\\WINDOWS\\\\Fonts\\\\seguibli.ttf', 'C:\\\\Windows\\\\Fonts\\\\BOD_PSTC.TTF', 'C:\\\\Windows\\\\Fonts\\\\consolaz.ttf', 'C:\\\\Windows\\\\Fonts\\\\HARNGTON.TTF', 'C:\\\\WINDOWS\\\\Fonts\\\\VLADIMIR.TTF', 'C:\\\\Windows\\\\Fonts\\\\wingding.ttf', 'C:\\\\WINDOWS\\\\Fonts\\\\JOKERMAN.TTF', 'C:\\\\Windows\\\\Fonts\\\\ROCCB___.TTF', 'C:\\\\WINDOWS\\\\Fonts\\\\mingliub.ttc', 'C:\\\\WINDOWS\\\\Fonts\\\\H2MJSM.TTF', 'C:\\\\WINDOWS\\\\Fonts\\\\\\x7f\\x7f\\x7f\\x7f.TTF', 'C:\\\\Windows\\\\Fonts\\\\HMKMAMI.TTF', 'C:\\\\WINDOWS\\\\Fonts\\\\CENTURY.TTF', 'C:\\\\WINDOWS\\\\Fonts\\\\H2MKPB.TTF', 'C:\\\\Windows\\\\Fonts\\\\HARLOWSI.TTF', 'C:\\\\WINDOWS\\\\Fonts\\\\palab.ttf', 'C:\\\\WINDOWS\\\\Fonts\\\\constan.ttf', 'C:\\\\Windows\\\\Fonts\\\\verdanaz.ttf', 'C:\\\\Windows\\\\Fonts\\\\NanumBarunGothic.ttf', 'C:\\\\Windows\\\\Fonts\\\\BOD_CR.TTF', 'C:\\\\Windows\\\\Fonts\\\\timesi.ttf', 'C:\\\\WINDOWS\\\\Fonts\\\\Candaraz.ttf', 'C:\\\\Windows\\\\Fonts\\\\SNAP____.TTF', 'C:\\\\Windows\\\\Fonts\\\\seguisym.ttf', 'C:\\\\Windows\\\\Fonts\\\\constani.ttf', 'C:\\\\WINDOWS\\\\Fonts\\\\gulim.ttc', 'C:\\\\WINDOWS\\\\Fonts\\\\NirmalaB.ttf', 'C:\\\\Windows\\\\Fonts\\\\BOD_B.TTF', 'C:\\\\WINDOWS\\\\Fonts\\\\LATINWD.TTF', 'C:\\\\WINDOWS\\\\Fonts\\\\HANBatangExt.ttf', 'C:\\\\Windows\\\\Fonts\\\\ANTQUABI.TTF', 'C:\\\\WINDOWS\\\\Fonts\\\\MTEXTRA.TTF', 'C:\\\\WINDOWS\\\\Fonts\\\\georgiai.ttf', 'C:\\\\WINDOWS\\\\Fonts\\\\HMFMMUEX.TTC', 'C:\\\\Windows\\\\Fonts\\\\ROCKEB.TTF', 'C:\\\\Windows\\\\Fonts\\\\seguihis.ttf', 'C:\\\\Windows\\\\Fonts\\\\FRABK.TTF', 'C:\\\\Windows\\\\Fonts\\\\CALISTB.TTF', 'C:\\\\WINDOWS\\\\Fonts\\\\comicbd.ttf', 'C:\\\\Windows\\\\Fonts\\\\cambriab.ttf', 'C:\\\\Windows\\\\Fonts\\\\holomdl2.ttf', 'C:\\\\Windows\\\\Fonts\\\\HATTEN.TTF', 'C:\\\\Windows\\\\Fonts\\\\CALIFB.TTF', 'C:\\\\Windows\\\\Fonts\\\\LTYPEBO.TTF', 'C:\\\\WINDOWS\\\\Fonts\\\\msyi.ttf', 'C:\\\\Windows\\\\Fonts\\\\TCCEB.TTF', 'C:\\\\WINDOWS\\\\Fonts\\\\georgiab.ttf', 'C:\\\\Windows\\\\Fonts\\\\PERB____.TTF', 'C:\\\\WINDOWS\\\\Fonts\\\\segoescb.ttf', 'C:\\\\WINDOWS\\\\Fonts\\\\msjhbd.ttc', 'C:\\\\Windows\\\\Fonts\\\\LBRITE.TTF', 'C:\\\\WINDOWS\\\\Fonts\\\\BKANT.TTF', 'C:\\\\Windows\\\\Fonts\\\\ariali.ttf', 'C:\\\\Windows\\\\Fonts\\\\PLAYBILL.TTF', 'C:\\\\WINDOWS\\\\Fonts\\\\H2GTRM.TTF', 'C:\\\\Windows\\\\Fonts\\\\comici.ttf', 'C:\\\\Windows\\\\Fonts\\\\GLSNECB.TTF', 'C:\\\\Windows\\\\Fonts\\\\RAVIE.TTF', 'C:\\\\WINDOWS\\\\Fonts\\\\COOPBL.TTF', 'C:\\\\Windows\\\\Fonts\\\\COPRGTL.TTF', 'C:\\\\WINDOWS\\\\Fonts\\\\COPRGTB.TTF', 'C:\\\\WINDOWS\\\\Fonts\\\\palabi.ttf', 'C:\\\\Windows\\\\Fonts\\\\LBRITEDI.TTF', 'C:\\\\Windows\\\\Fonts\\\\ebrimabd.ttf', 'C:\\\\Windows\\\\Fonts\\\\GARABD.TTF', 'C:\\\\Windows\\\\Fonts\\\\corbell.ttf', 'C:\\\\WINDOWS\\\\Fonts\\\\GILI____.TTF', 'C:\\\\WINDOWS\\\\Fonts\\\\ROCC____.TTF', 'C:\\\\Windows\\\\Fonts\\\\BOD_I.TTF', 'C:\\\\Windows\\\\Fonts\\\\GOTHICB.TTF', 'C:\\\\WINDOWS\\\\Fonts\\\\ELEPHNT.TTF', 'C:\\\\WINDOWS\\\\Fonts\\\\FRAHV.TTF', 'C:\\\\WINDOWS\\\\Fonts\\\\BOD_BLAR.TTF', 'C:\\\\WINDOWS\\\\Fonts\\\\HancomEQN.ttf', 'C:\\\\Windows\\\\Fonts\\\\GILSANUB.TTF', 'C:\\\\WINDOWS\\\\Fonts\\\\GARABD.TTF', 'C:\\\\WINDOWS\\\\Fonts\\\\HYHWPEQ.TTF', 'C:\\\\Windows\\\\Fonts\\\\GILLUBCD.TTF', 'C:\\\\Windows\\\\Fonts\\\\H2GPRM.TTF', 'C:\\\\Windows\\\\Fonts\\\\HANBatangB.ttf', 'C:\\\\Windows\\\\Fonts\\\\palabi.ttf', 'C:\\\\Windows\\\\Fonts\\\\\\x7f\\x7f\\x7f\\x7f.TTF', 'C:\\\\WINDOWS\\\\Fonts\\\\corbell.ttf', 'C:\\\\Windows\\\\Fonts\\\\H2MJRE.TTF', 'C:\\\\Windows\\\\Fonts\\\\seguisli.ttf', 'C:\\\\Windows\\\\Fonts\\\\CALIFR.TTF', 'C:\\\\Windows\\\\Fonts\\\\GOUDOSB.TTF', 'C:\\\\Windows\\\\Fonts\\\\timesbd.ttf', 'C:\\\\WINDOWS\\\\Fonts\\\\BOD_CBI.TTF', 'C:\\\\Windows\\\\Fonts\\\\GILI____.TTF', 'C:\\\\Windows\\\\Fonts\\\\LeelaUIb.ttf', 'C:\\\\WINDOWS\\\\Fonts\\\\FRADMCN.TTF', 'C:\\\\WINDOWS\\\\Fonts\\\\GILC____.TTF', 'C:\\\\Windows\\\\Fonts\\\\calibrii.ttf', 'C:\\\\WINDOWS\\\\Fonts\\\\gadugib.ttf', 'C:\\\\WINDOWS\\\\Fonts\\\\GOTHICI.TTF', 'C:\\\\WINDOWS\\\\Fonts\\\\BOD_CI.TTF', 'C:\\\\WINDOWS\\\\Fonts\\\\timesbd.ttf', 'C:\\\\WINDOWS\\\\Fonts\\\\seguibl.ttf', 'C:\\\\WINDOWS\\\\Fonts\\\\ariblk.ttf', 'C:\\\\WINDOWS\\\\Fonts\\\\ARIALN.TTF', 'C:\\\\Windows\\\\Fonts\\\\msyi.ttf', 'C:\\\\WINDOWS\\\\Fonts\\\\H2SA1M.TTF', 'C:\\\\WINDOWS\\\\Fonts\\\\HANBatangB.ttf', 'C:\\\\WINDOWS\\\\Fonts\\\\BOD_CB.TTF', 'C:\\\\WINDOWS\\\\Fonts\\\\corbelb.ttf', 'C:\\\\WINDOWS\\\\Fonts\\\\taile.ttf', 'C:\\\\WINDOWS\\\\Fonts\\\\STENCIL.TTF', 'C:\\\\Windows\\\\Fonts\\\\BELLI.TTF', 'C:\\\\WINDOWS\\\\Fonts\\\\Hancom Gothic Regular.ttf', 'C:\\\\WINDOWS\\\\Fonts\\\\CALISTB.TTF', 'C:\\\\WINDOWS\\\\Fonts\\\\LFAXD.TTF', 'C:\\\\Windows\\\\Fonts\\\\CENSCBK.TTF', 'C:\\\\WINDOWS\\\\Fonts\\\\Sitka.ttc', 'C:\\\\WINDOWS\\\\Fonts\\\\FELIXTI.TTF', 'C:\\\\Windows\\\\Fonts\\\\ROCC____.TTF', 'C:\\\\Windows\\\\Fonts\\\\PERTILI.TTF', 'C:\\\\WINDOWS\\\\Fonts\\\\BOD_BI.TTF', 'C:\\\\Windows\\\\Fonts\\\\CASTELAR.TTF', 'C:\\\\Windows\\\\Fonts\\\\trebucit.ttf', 'C:\\\\WINDOWS\\\\Fonts\\\\PERBI___.TTF', 'C:\\\\WINDOWS\\\\Fonts\\\\BOD_PSTC.TTF', 'C:\\\\Windows\\\\Fonts\\\\HMKMMAG.TTF', 'C:\\\\Windows\\\\Fonts\\\\FRSCRIPT.TTF', 'C:\\\\WINDOWS\\\\Fonts\\\\simsun.ttc', 'C:\\\\WINDOWS\\\\Fonts\\\\H2GTRE.TTF', 'C:\\\\WINDOWS\\\\Fonts\\\\couri.ttf', 'C:\\\\Windows\\\\Fonts\\\\mvboli.ttf', 'C:\\\\WINDOWS\\\\Fonts\\\\corbel.ttf', 'C:\\\\WINDOWS\\\\Fonts\\\\trebuc.ttf', 'C:\\\\WINDOWS\\\\Fonts\\\\segoeuib.ttf', 'C:\\\\Windows\\\\Fonts\\\\GIGI.TTF', 'C:\\\\Windows\\\\Fonts\\\\Candarai.ttf', 'C:\\\\Windows\\\\Fonts\\\\SCHLBKI.TTF', 'C:\\\\WINDOWS\\\\Fonts\\\\segoeui.ttf', 'C:\\\\WINDOWS\\\\Fonts\\\\times.ttf', 'C:\\\\Windows\\\\Fonts\\\\monbaiti.ttf', 'C:\\\\WINDOWS\\\\Fonts\\\\GOTHIC.TTF', 'C:\\\\WINDOWS\\\\Fonts\\\\H2MJRE.TTF', 'C:\\\\WINDOWS\\\\Fonts\\\\timesbi.ttf', 'C:\\\\Windows\\\\Fonts\\\\BOD_BLAR.TTF', 'C:\\\\Windows\\\\Fonts\\\\ITCEDSCR.TTF', 'C:\\\\WINDOWS\\\\Fonts\\\\SCHLBKI.TTF', 'C:\\\\WINDOWS\\\\Fonts\\\\ENGR.TTF', 'C:\\\\Windows\\\\Fonts\\\\ERASLGHT.TTF', 'C:\\\\WINDOWS\\\\Fonts\\\\batang.ttc', 'C:\\\\WINDOWS\\\\Fonts\\\\BERNHC.TTF', 'C:\\\\Windows\\\\Fonts\\\\segoeuil.ttf', 'C:\\\\WINDOWS\\\\Fonts\\\\webdings.ttf', 'C:\\\\Windows\\\\Fonts\\\\TCCB____.TTF', 'C:\\\\Windows\\\\Fonts\\\\taileb.ttf', 'C:\\\\Windows\\\\Fonts\\\\IMPRISHA.TTF', 'C:\\\\Windows\\\\Fonts\\\\HYHWPEQ.TTF', 'C:\\\\Windows\\\\Fonts\\\\CALIFI.TTF', 'C:\\\\WINDOWS\\\\Fonts\\\\YuGothB.ttc', 'C:\\\\WINDOWS\\\\Fonts\\\\CALIFI.TTF', 'C:\\\\WINDOWS\\\\Fonts\\\\NIAGENG.TTF', 'C:\\\\WINDOWS\\\\Fonts\\\\corbelz.ttf', 'C:\\\\WINDOWS\\\\Fonts\\\\ROCK.TTF', 'C:\\\\Windows\\\\Fonts\\\\micross.ttf', 'C:\\\\Windows\\\\Fonts\\\\JOKERMAN.TTF', 'C:\\\\WINDOWS\\\\Fonts\\\\FREESCPT.TTF', 'C:\\\\Windows\\\\Fonts\\\\AGENCYB.TTF', 'C:\\\\Windows\\\\Fonts\\\\msjhl.ttc', 'C:\\\\WINDOWS\\\\Fonts\\\\constani.ttf', 'C:\\\\Windows\\\\Fonts\\\\times.ttf', 'C:\\\\WINDOWS\\\\Fonts\\\\YuGothR.ttc', 'C:\\\\Windows\\\\Fonts\\\\cambria.ttc', 'C:\\\\Windows\\\\Fonts\\\\comicbd.ttf', 'C:\\\\WINDOWS\\\\Fonts\\\\H2PORL.TTF', 'C:\\\\Windows\\\\Fonts\\\\Candarali.ttf', 'C:\\\\WINDOWS\\\\Fonts\\\\PAPYRUS.TTF', 'C:\\\\WINDOWS\\\\Fonts\\\\CHILLER.TTF', 'C:\\\\Windows\\\\Fonts\\\\ARIALNBI.TTF', 'C:\\\\WINDOWS\\\\Fonts\\\\LTYPEO.TTF', 'C:\\\\Windows\\\\Fonts\\\\LFAXD.TTF', 'C:\\\\WINDOWS\\\\Fonts\\\\ITCBLKAD.TTF', 'C:\\\\Windows\\\\Fonts\\\\ariblk.ttf', 'C:\\\\Windows\\\\Fonts\\\\GOTHIC.TTF', 'C:\\\\Windows\\\\Fonts\\\\HANBatangExtB.ttf', 'C:\\\\Windows\\\\Fonts\\\\malgunbd.ttf', 'C:\\\\WINDOWS\\\\Fonts\\\\georgiaz.ttf', 'C:\\\\Windows\\\\Fonts\\\\impact.ttf', 'C:\\\\WINDOWS\\\\Fonts\\\\HANBatang.ttf', 'C:\\\\WINDOWS\\\\Fonts\\\\OUTLOOK.TTF', 'C:\\\\Windows\\\\Fonts\\\\FRAHV.TTF', 'C:\\\\WINDOWS\\\\Fonts\\\\BOD_B.TTF', 'C:\\\\Windows\\\\Fonts\\\\LSANSI.TTF', 'C:\\\\WINDOWS\\\\Fonts\\\\BELLI.TTF', 'C:\\\\WINDOWS\\\\Fonts\\\\ERASDEMI.TTF', 'C:\\\\Windows\\\\Fonts\\\\BERNHC.TTF', 'C:\\\\WINDOWS\\\\Fonts\\\\IMPRISHA.TTF', 'C:\\\\Windows\\\\Fonts\\\\calibrili.ttf', 'C:\\\\Windows\\\\Fonts\\\\Candarab.ttf', 'C:\\\\Windows\\\\Fonts\\\\TEMPSITC.TTF', 'C:\\\\WINDOWS\\\\Fonts\\\\WINGDNG2.TTF', 'C:\\\\Windows\\\\Fonts\\\\GILB____.TTF', 'C:\\\\Windows\\\\Fonts\\\\POORICH.TTF', 'C:\\\\Windows\\\\Fonts\\\\tahoma.ttf', 'C:\\\\Users\\\\user\\\\AppData\\\\Local\\\\Microsoft\\\\Windows\\\\Fonts\\\\GOYANGDEOGYANG EB.TTF', 'C:\\\\WINDOWS\\\\Fonts\\\\GOUDYSTO.TTF', 'C:\\\\WINDOWS\\\\Fonts\\\\LCALLIG.TTF', 'C:\\\\Windows\\\\Fonts\\\\FELIXTI.TTF', 'C:\\\\WINDOWS\\\\Fonts\\\\BOOKOSBI.TTF', 'C:\\\\WINDOWS\\\\Fonts\\\\gadugi.ttf', 'C:\\\\Windows\\\\Fonts\\\\cambriai.ttf', 'C:\\\\WINDOWS\\\\Fonts\\\\LBRITEI.TTF', 'C:\\\\WINDOWS\\\\Fonts\\\\TCM_____.TTF', 'C:\\\\WINDOWS\\\\Fonts\\\\corbelli.ttf', 'C:\\\\Windows\\\\Fonts\\\\seguibli.ttf', 'C:\\\\WINDOWS\\\\Fonts\\\\DUBAI-MEDIUM.TTF', 'C:\\\\WINDOWS\\\\Fonts\\\\corbeli.ttf', 'C:\\\\WINDOWS\\\\Fonts\\\\\\x7f\\x7f\\x7f\\x7fBOLD.TTF', 'C:\\\\WINDOWS\\\\Fonts\\\\CASTELAR.TTF', 'C:\\\\Windows\\\\Fonts\\\\trebuc.ttf', 'C:\\\\Windows\\\\Fonts\\\\GOUDOSI.TTF', 'C:\\\\Windows\\\\Fonts\\\\CALIST.TTF', 'C:\\\\WINDOWS\\\\Fonts\\\\VINERITC.TTF', 'C:\\\\Windows\\\\Fonts\\\\ROCK.TTF', 'C:\\\\Windows\\\\Fonts\\\\BROADW.TTF', 'C:\\\\Windows\\\\Fonts\\\\CENTURY.TTF', 'C:\\\\WINDOWS\\\\Fonts\\\\SitkaB.ttc', 'C:\\\\WINDOWS\\\\Fonts\\\\segoeuii.ttf', 'C:\\\\WINDOWS\\\\Fonts\\\\HANDotumB.ttf', 'C:\\\\Windows\\\\Fonts\\\\OUTLOOK.TTF', 'C:\\\\WINDOWS\\\\Fonts\\\\timesi.ttf', 'C:\\\\Windows\\\\Fonts\\\\webdings.ttf', 'C:\\\\WINDOWS\\\\Fonts\\\\FRABKIT.TTF', 'C:\\\\WINDOWS\\\\Fonts\\\\MOD20.TTF', 'C:\\\\WINDOWS\\\\Fonts\\\\FRADM.TTF', 'C:\\\\Windows\\\\Fonts\\\\LSANSDI.TTF', 'C:\\\\Windows\\\\Fonts\\\\pala.ttf', 'C:\\\\Windows\\\\Fonts\\\\courbi.ttf', 'C:\\\\Windows\\\\Fonts\\\\msyhbd.ttc', 'C:\\\\Windows\\\\Fonts\\\\trebucbi.ttf', 'C:\\\\WINDOWS\\\\Fonts\\\\LFAX.TTF', 'C:\\\\WINDOWS\\\\Fonts\\\\ITCKRIST.TTF', 'C:\\\\Windows\\\\Fonts\\\\LTYPE.TTF', 'C:\\\\Windows\\\\Fonts\\\\l_10646.ttf', 'C:\\\\Windows\\\\Fonts\\\\georgiab.ttf', 'C:\\\\WINDOWS\\\\Fonts\\\\segoepr.ttf', 'C:\\\\WINDOWS\\\\Fonts\\\\ROCKB.TTF', 'C:\\\\Windows\\\\Fonts\\\\phagspa.ttf', 'C:\\\\Windows\\\\Fonts\\\\H2PORM.TTF', 'C:\\\\WINDOWS\\\\Fonts\\\\seguisym.ttf', 'C:\\\\WINDOWS\\\\Fonts\\\\CENSCBK.TTF', 'C:\\\\Windows\\\\Fonts\\\\framd.ttf', 'C:\\\\WINDOWS\\\\Fonts\\\\CALIFB.TTF', 'C:\\\\WINDOWS\\\\Fonts\\\\Nirmala.ttf', 'C:\\\\Windows\\\\Fonts\\\\segoeuib.ttf', 'C:\\\\Windows\\\\Fonts\\\\YuGothB.ttc', 'C:\\\\WINDOWS\\\\Fonts\\\\VIVALDII.TTF', 'C:\\\\WINDOWS\\\\Fonts\\\\RAGE.TTF', 'C:\\\\WINDOWS\\\\Fonts\\\\ALGER.TTF', 'C:\\\\Windows\\\\Fonts\\\\HANDotumExt.ttf', 'C:\\\\WINDOWS\\\\Fonts\\\\ARIALNBI.TTF', 'C:\\\\WINDOWS\\\\Fonts\\\\PER_____.TTF', 'C:\\\\WINDOWS\\\\Fonts\\\\PARCHM.TTF', 'C:\\\\WINDOWS\\\\Fonts\\\\micross.ttf', 'C:\\\\Windows\\\\Fonts\\\\seguibl.ttf', 'C:\\\\Windows\\\\Fonts\\\\BRITANIC.TTF', 'C:\\\\Windows\\\\Fonts\\\\GOUDYSTO.TTF', 'C:\\\\WINDOWS\\\\Fonts\\\\arialbd.ttf', 'C:\\\\Windows\\\\Fonts\\\\calibril.ttf', 'C:\\\\WINDOWS\\\\Fonts\\\\HMKMMAG.TTF', 'C:\\\\Windows\\\\Fonts\\\\bahnschrift.ttf', 'C:\\\\WINDOWS\\\\Fonts\\\\ELEPHNTI.TTF', 'C:\\\\Windows\\\\Fonts\\\\arial.ttf', 'C:\\\\WINDOWS\\\\Fonts\\\\BSSYM7.TTF', 'C:\\\\Windows\\\\Fonts\\\\gadugib.ttf', 'C:\\\\WINDOWS\\\\Fonts\\\\calibrib.ttf', 'C:\\\\Windows\\\\Fonts\\\\DUBAI-REGULAR.TTF', 'C:\\\\Windows\\\\Fonts\\\\Hancom Gothic Bold.ttf', 'C:\\\\WINDOWS\\\\Fonts\\\\YuGothM.ttc', 'C:\\\\WINDOWS\\\\Fonts\\\\CALISTI.TTF', 'C:\\\\WINDOWS\\\\Fonts\\\\PRISTINA.TTF', 'C:\\\\Windows\\\\Fonts\\\\himalaya.ttf', 'C:\\\\WINDOWS\\\\Fonts\\\\OCRAEXT.TTF', 'C:\\\\Windows\\\\Fonts\\\\HANBatang.ttf', 'C:\\\\Windows\\\\Fonts\\\\YuGothM.ttc', 'C:\\\\Windows\\\\Fonts\\\\segoescb.ttf', 'C:\\\\Windows\\\\Fonts\\\\segoeui.ttf', 'C:\\\\Windows\\\\Fonts\\\\H2PORL.TTF', 'C:\\\\Windows\\\\Fonts\\\\framdit.ttf', 'C:\\\\WINDOWS\\\\Fonts\\\\l_10646.ttf', 'C:\\\\Windows\\\\Fonts\\\\HancomEQN.ttf', 'C:\\\\Windows\\\\Fonts\\\\CURLZ___.TTF', 'C:\\\\Windows\\\\Fonts\\\\SangSangTitleM.ttf', 'C:\\\\WINDOWS\\\\Fonts\\\\cour.ttf', 'C:\\\\Windows\\\\Fonts\\\\ITCBLKAD.TTF', 'C:\\\\WINDOWS\\\\Fonts\\\\HMKMRHD.TTF', 'C:\\\\WINDOWS\\\\Fonts\\\\phagspa.ttf', 'C:\\\\Windows\\\\Fonts\\\\FORTE.TTF', 'C:\\\\Windows\\\\Fonts\\\\ERASBD.TTF', 'C:\\\\WINDOWS\\\\Fonts\\\\msyhl.ttc', 'C:\\\\WINDOWS\\\\Fonts\\\\segoeuiz.ttf', 'C:\\\\WINDOWS\\\\Fonts\\\\FRSCRIPT.TTF', 'C:\\\\WINDOWS\\\\Fonts\\\\SHOWG.TTF', 'C:\\\\WINDOWS\\\\Fonts\\\\framd.ttf', 'C:\\\\WINDOWS\\\\Fonts\\\\GILSANUB.TTF', 'C:\\\\WINDOWS\\\\Fonts\\\\malgunbd.ttf', 'C:\\\\WINDOWS\\\\Fonts\\\\HARLOWSI.TTF', 'C:\\\\Windows\\\\Fonts\\\\NIAGSOL.TTF', 'C:\\\\Windows\\\\Fonts\\\\LTYPEO.TTF', 'C:\\\\WINDOWS\\\\Fonts\\\\INFROMAN.TTF', 'C:\\\\Windows\\\\Fonts\\\\LHANDW.TTF', 'C:\\\\WINDOWS\\\\Fonts\\\\H2PORM.TTF', 'C:\\\\Windows\\\\Fonts\\\\sylfaen.ttf', 'C:\\\\WINDOWS\\\\Fonts\\\\Candarali.ttf', 'C:\\\\Windows\\\\Fonts\\\\BOOKOSB.TTF', 'C:\\\\WINDOWS\\\\Fonts\\\\seguili.ttf', 'C:\\\\WINDOWS\\\\Fonts\\\\ntailu.ttf', 'C:\\\\WINDOWS\\\\Fonts\\\\NGULIM.TTF', 'C:\\\\WINDOWS\\\\Fonts\\\\verdanab.ttf', 'C:\\\\Windows\\\\Fonts\\\\GOTHICI.TTF', 'C:\\\\Windows\\\\Fonts\\\\HANBatangExt.ttf', 'C:\\\\WINDOWS\\\\Fonts\\\\FTLTLT.TTF', 'C:\\\\WINDOWS\\\\Fonts\\\\LSANSDI.TTF', 'C:\\\\WINDOWS\\\\Fonts\\\\courbd.ttf', 'C:\\\\WINDOWS\\\\Fonts\\\\FRADMIT.TTF', 'C:\\\\Windows\\\\Fonts\\\\seguisb.ttf', 'C:\\\\Windows\\\\Fonts\\\\LCALLIG.TTF', 'C:\\\\Windows\\\\Fonts\\\\ARLRDBD.TTF', 'C:\\\\WINDOWS\\\\Fonts\\\\LTYPE.TTF', 'C:\\\\Windows\\\\Fonts\\\\DUBAI-MEDIUM.TTF', 'C:\\\\WINDOWS\\\\Fonts\\\\HANDotum.ttf', 'C:\\\\Windows\\\\Fonts\\\\FRABKIT.TTF', 'C:\\\\WINDOWS\\\\Fonts\\\\BASKVILL.TTF', 'C:\\\\Windows\\\\Fonts\\\\comicz.ttf', 'C:\\\\WINDOWS\\\\Fonts\\\\BOD_BLAI.TTF', 'C:\\\\WINDOWS\\\\Fonts\\\\COLONNA.TTF', 'C:\\\\Windows\\\\Fonts\\\\BELL.TTF', 'C:\\\\WINDOWS\\\\Fonts\\\\seguisb.ttf', 'C:\\\\WINDOWS\\\\Fonts\\\\cambriab.ttf', 'C:\\\\WINDOWS\\\\Fonts\\\\Hancom Gothic Bold.ttf', 'C:\\\\Windows\\\\Fonts\\\\INFROMAN.TTF', 'C:\\\\WINDOWS\\\\Fonts\\\\ROCKI.TTF', 'C:\\\\Windows\\\\Fonts\\\\constanz.ttf', 'C:\\\\WINDOWS\\\\Fonts\\\\seguisli.ttf', 'C:\\\\Windows\\\\Fonts\\\\CALISTI.TTF', 'C:\\\\WINDOWS\\\\Fonts\\\\RAVIE.TTF', 'C:\\\\WINDOWS\\\\Fonts\\\\arialbi.ttf', 'C:\\\\Windows\\\\Fonts\\\\simsunb.ttf', 'C:\\\\WINDOWS\\\\Fonts\\\\calibriz.ttf', 'C:\\\\WINDOWS\\\\Fonts\\\\trebucbd.ttf', 'C:\\\\Windows\\\\Fonts\\\\georgiai.ttf', 'C:\\\\Windows\\\\Fonts\\\\LSANSD.TTF', 'C:\\\\Windows\\\\Fonts\\\\georgia.ttf', 'C:\\\\Windows\\\\Fonts\\\\gadugi.ttf', 'C:\\\\Windows\\\\Fonts\\\\TCB_____.TTF', 'C:\\\\WINDOWS\\\\Fonts\\\\segoeuil.ttf', 'C:\\\\WINDOWS\\\\Fonts\\\\HANWing2.ttf', 'C:\\\\Windows\\\\Fonts\\\\seguiemj.ttf', 'C:\\\\Windows\\\\Fonts\\\\georgiaz.ttf', 'C:\\\\WINDOWS\\\\Fonts\\\\constanb.ttf', 'C:\\\\WINDOWS\\\\Fonts\\\\segmdl2.ttf', 'C:\\\\WINDOWS\\\\Fonts\\\\LeelaUIb.ttf', 'C:\\\\WINDOWS\\\\Fonts\\\\cambriai.ttf', 'C:\\\\WINDOWS\\\\Fonts\\\\HATTEN.TTF', 'C:\\\\WINDOWS\\\\Fonts\\\\segoeprb.ttf', 'C:\\\\Windows\\\\Fonts\\\\mmrtext.ttf', 'C:\\\\WINDOWS\\\\Fonts\\\\BRLNSB.TTF', 'C:\\\\Windows\\\\Fonts\\\\cour.ttf', 'C:\\\\WINDOWS\\\\Fonts\\\\ariali.ttf', 'C:\\\\Windows\\\\Fonts\\\\PERBI___.TTF', 'C:\\\\WINDOWS\\\\Fonts\\\\BRUSHSCI.TTF', 'C:\\\\Windows\\\\Fonts\\\\ITCKRIST.TTF', 'C:\\\\Windows\\\\Fonts\\\\BOOKOSBI.TTF', 'C:\\\\Windows\\\\Fonts\\\\seguili.ttf', 'C:\\\\Windows\\\\Fonts\\\\REFSPCL.TTF', 'C:\\\\Windows\\\\Fonts\\\\consolab.ttf', 'C:\\\\WINDOWS\\\\Fonts\\\\SitkaZ.ttc', 'C:\\\\Windows\\\\Fonts\\\\BOD_BI.TTF', 'C:\\\\Windows\\\\Fonts\\\\HANDotum.ttf', 'C:\\\\WINDOWS\\\\Fonts\\\\ROCCB___.TTF', 'C:\\\\Windows\\\\Fonts\\\\SitkaB.ttc', 'C:\\\\WINDOWS\\\\Fonts\\\\taileb.ttf', 'C:\\\\Windows\\\\Fonts\\\\DUBAI-LIGHT.TTF', 'C:\\\\Windows\\\\Fonts\\\\BOD_BLAI.TTF', 'C:\\\\Windows\\\\Fonts\\\\ARIALNB.TTF', 'C:\\\\WINDOWS\\\\Fonts\\\\simsunb.ttf', 'C:\\\\WINDOWS\\\\Fonts\\\\wingding.ttf', 'C:\\\\Windows\\\\Fonts\\\\gulim.ttc', 'C:\\\\Windows\\\\Fonts\\\\ARIALNI.TTF', 'C:\\\\WINDOWS\\\\Fonts\\\\TCMI____.TTF', 'C:\\\\Windows\\\\Fonts\\\\MTCORSVA.TTF', 'C:\\\\WINDOWS\\\\Fonts\\\\BOOKOSI.TTF', 'C:\\\\Windows\\\\Fonts\\\\LSANS.TTF', 'C:\\\\WINDOWS\\\\Fonts\\\\ARIALNI.TTF', 'C:\\\\Windows\\\\Fonts\\\\arialbd.ttf', 'C:\\\\Windows\\\\Fonts\\\\trebucbd.ttf', 'C:\\\\WINDOWS\\\\Fonts\\\\\\x7f\\x7f\\x7f\\x7fEXTRABOLD.TTF', 'C:\\\\WINDOWS\\\\Fonts\\\\JUMJA.TTF', 'C:\\\\Windows\\\\Fonts\\\\ARIALN.TTF', 'C:\\\\Windows\\\\Fonts\\\\BAUHS93.TTF', 'C:\\\\Windows\\\\Fonts\\\\HMFMMUEX.TTC', 'C:\\\\Windows\\\\Fonts\\\\BOD_R.TTF', 'C:\\\\Windows\\\\Fonts\\\\Inkfree.ttf', 'C:\\\\WINDOWS\\\\Fonts\\\\HANBatangExtBB.ttf', 'C:\\\\Windows\\\\Fonts\\\\GOUDOS.TTF', 'C:\\\\Windows\\\\Fonts\\\\FTLTLT.TTF', 'C:\\\\Windows\\\\Fonts\\\\segoeprb.ttf', 'C:\\\\Windows\\\\Fonts\\\\STENCIL.TTF', 'C:\\\\Windows\\\\Fonts\\\\PARCHM.TTF', 'C:\\\\Windows\\\\Fonts\\\\PAPYRUS.TTF', 'C:\\\\Windows\\\\Fonts\\\\comic.ttf', 'C:\\\\WINDOWS\\\\Fonts\\\\seguiemj.ttf', 'C:\\\\WINDOWS\\\\Fonts\\\\HMKMAMI.TTF', 'C:\\\\WINDOWS\\\\Fonts\\\\comici.ttf', 'C:\\\\Windows\\\\Fonts\\\\SCHLBKB.TTF', 'C:\\\\Windows\\\\Fonts\\\\constanb.ttf', 'C:\\\\WINDOWS\\\\Fonts\\\\GARAIT.TTF', 'C:\\\\Windows\\\\Fonts\\\\verdanai.ttf', 'C:\\\\Windows\\\\Fonts\\\\GLECB.TTF', 'C:\\\\Windows\\\\Fonts\\\\segmdl2.ttf', 'C:\\\\Windows\\\\Fonts\\\\MTEXTRA.TTF', 'C:\\\\Windows\\\\Fonts\\\\arialbi.ttf', 'C:\\\\Windows\\\\Fonts\\\\phagspab.ttf', 'C:\\\\WINDOWS\\\\Fonts\\\\GILBI___.TTF', 'C:\\\\Windows\\\\Fonts\\\\ONYX.TTF', 'C:\\\\WINDOWS\\\\Fonts\\\\monbaiti.ttf', 'C:\\\\WINDOWS\\\\Fonts\\\\msjh.ttc', 'C:\\\\WINDOWS\\\\Fonts\\\\WINGDNG3.TTF', 'C:\\\\Windows\\\\Fonts\\\\segoeuiz.ttf', 'C:\\\\WINDOWS\\\\Fonts\\\\BELLB.TTF', 'C:\\\\WINDOWS\\\\Fonts\\\\AGENCYB.TTF', 'C:\\\\Windows\\\\Fonts\\\\BSSYM7.TTF', 'C:\\\\Windows\\\\Fonts\\\\consola.ttf', 'C:\\\\WINDOWS\\\\Fonts\\\\framdit.ttf', 'C:\\\\WINDOWS\\\\Fonts\\\\sylfaen.ttf', 'C:\\\\Windows\\\\Fonts\\\\COLONNA.TTF', 'C:\\\\Windows\\\\Fonts\\\\TCCM____.TTF', 'C:\\\\Windows\\\\Fonts\\\\GIL_____.TTF', 'C:\\\\Windows\\\\Fonts\\\\GILC____.TTF', 'C:\\\\WINDOWS\\\\Fonts\\\\malgun.ttf', 'C:\\\\WINDOWS\\\\Fonts\\\\trebucit.ttf', 'C:\\\\WINDOWS\\\\Fonts\\\\HARNGTON.TTF', 'C:\\\\Windows\\\\Fonts\\\\LeelUIsl.ttf', 'C:\\\\WINDOWS\\\\Fonts\\\\LHANDW.TTF', 'C:\\\\Windows\\\\Fonts\\\\ANTQUAI.TTF', 'C:\\\\WINDOWS\\\\Fonts\\\\seguihis.ttf', 'C:\\\\Windows\\\\Fonts\\\\TCMI____.TTF', 'C:\\\\WINDOWS\\\\Fonts\\\\ERASLGHT.TTF', 'C:\\\\Windows\\\\Fonts\\\\BRLNSB.TTF', 'C:\\\\Windows\\\\Fonts\\\\SitkaZ.ttc', 'C:\\\\Windows\\\\Fonts\\\\H2MJSM.TTF', 'C:\\\\WINDOWS\\\\Fonts\\\\HANDotumExt.ttf', 'C:\\\\Users\\\\user\\\\AppData\\\\Local\\\\Microsoft\\\\Windows\\\\Fonts\\\\GOYANGDEOGYANG B.TTF', 'C:\\\\WINDOWS\\\\Fonts\\\\ERASMD.TTF', 'C:\\\\WINDOWS\\\\Fonts\\\\mvboli.ttf', 'C:\\\\WINDOWS\\\\Fonts\\\\Candara.ttf', 'C:\\\\Windows\\\\Fonts\\\\\\x7f\\x7f\\x7f\\x7fBOLD.TTF', 'C:\\\\Windows\\\\Fonts\\\\PER_____.TTF', 'C:\\\\WINDOWS\\\\Fonts\\\\LBRITE.TTF', 'C:\\\\Windows\\\\Fonts\\\\consolai.ttf', 'C:\\\\Windows\\\\Fonts\\\\ELEPHNTI.TTF', 'C:\\\\Windows\\\\Fonts\\\\KUNSTLER.TTF', 'C:\\\\WINDOWS\\\\Fonts\\\\PERB____.TTF', 'C:\\\\Windows\\\\Fonts\\\\GARA.TTF', 'C:\\\\WINDOWS\\\\Fonts\\\\HMFMPYUN.TTF', 'C:\\\\WINDOWS\\\\Fonts\\\\consolaz.ttf', 'C:\\\\WINDOWS\\\\Fonts\\\\tahomabd.ttf', 'C:\\\\Windows\\\\Fonts\\\\Candaral.ttf', 'C:\\\\Windows\\\\Fonts\\\\HMKMRHD.TTF', 'C:\\\\Windows\\\\Fonts\\\\H2HDRM.TTF', 'C:\\\\Windows\\\\Fonts\\\\courbd.ttf', 'C:\\\\WINDOWS\\\\Fonts\\\\LeelUIsl.ttf', 'C:\\\\Windows\\\\Fonts\\\\REFSAN.TTF', 'C:\\\\WINDOWS\\\\Fonts\\\\LSANSI.TTF', 'C:\\\\Windows\\\\Fonts\\\\VIVALDII.TTF', 'C:\\\\Windows\\\\Fonts\\\\corbeli.ttf', 'C:\\\\WINDOWS\\\\Fonts\\\\msyhbd.ttc', 'C:\\\\Windows\\\\Fonts\\\\JUICE___.TTF', 'C:\\\\Windows\\\\Fonts\\\\corbel.ttf', 'C:\\\\WINDOWS\\\\Fonts\\\\HANBatangExtB.ttf', 'C:\\\\WINDOWS\\\\Fonts\\\\himalaya.ttf', 'C:\\\\Windows\\\\Fonts\\\\ENGR.TTF', 'C:\\\\WINDOWS\\\\Fonts\\\\javatext.ttf', 'C:\\\\Windows\\\\Fonts\\\\malgun.ttf', 'C:\\\\Windows\\\\Fonts\\\\Gabriola.ttf', 'C:\\\\WINDOWS\\\\Fonts\\\\PERTILI.TTF', 'C:\\\\WINDOWS\\\\Fonts\\\\PLAYBILL.TTF', 'C:\\\\Windows\\\\Fonts\\\\BOD_CI.TTF', 'C:\\\\WINDOWS\\\\Fonts\\\\NIAGSOL.TTF', 'C:\\\\WINDOWS\\\\Fonts\\\\comicz.ttf']\n"
     ]
    }
   ],
   "source": [
    "# 시스템 폰트 경로 리스트\n",
    "font_list = mpl.font_manager.findSystemFonts()\n",
    "print(font_list)"
   ]
  },
  {
   "cell_type": "code",
   "execution_count": 4,
   "id": "6dd076da-8ad7-4710-a0e7-97cdc8a237c8",
   "metadata": {
    "scrolled": true,
    "tags": []
   },
   "outputs": [
    {
     "name": "stdout",
     "output_type": "stream",
     "text": [
      "NanumSquareRoundOTF\n",
      "NanumGothic Eco\n",
      "Nanum Brush Script\n",
      "NanumSquare\n",
      "NanumSquare Neo OTF Bold\n",
      "NanumBarunGothic\n",
      "NanumSquareRound\n",
      "NanumBarunGothicOTF\n",
      "NanumBarunGothicOTF\n",
      "NanumSquareOTF_ac\n",
      "NanumSquareOTF_ac\n",
      "D2Coding ligature\n",
      "NanumMyeongjoOTF Eco\n",
      "NanumSquare Neo Light\n",
      "D2Coding ligature\n",
      "NanumBarunpen\n",
      "Nanum Brush Script OTF\n",
      "NanumSquare Neo OTF Light\n",
      "NanumSquare Neo OTF ExtraBold\n",
      "NanumSquare Neo ExtraBold\n",
      "NanumGothicOTF\n",
      "NanumGothic Eco\n",
      "NanumSquare Neo OTF Regular\n",
      "NanumBarunGothic\n",
      "NanumSquareOTF_ac\n",
      "Noto Sans KR\n",
      "Noto Sans KR\n",
      "NanumGothic\n",
      "NanumMyeongjo\n",
      "NanumMyeongjo YetHangul\n",
      "NanumMyeongjoOTF Eco\n",
      "NanumGothicOTF Eco\n",
      "NanumBarunGothic YetHangul\n",
      "NanumGothic\n",
      "NanumSquare Neo Regular\n",
      "NanumSquareRoundOTF\n",
      "NanumGothicOTF\n",
      "NanumSquareRound\n",
      "NanumMyeongjoOTF\n",
      "NanumSquareOTF_ac\n",
      "NanumMyeongjoOTF Eco\n",
      "NanumSquare_ac\n",
      "Nanum Pen Script\n",
      "NanumSquareRound\n",
      "Noto Sans KR\n",
      "NanumSquare Neo OTF Heavy\n",
      "NanumSquare_ac\n",
      "NanumSquare_ac\n",
      "Noto Sans KR\n",
      "NanumBarunpenOTF\n",
      "NanumMyeongjoOTF\n",
      "NanumBarunGothicOTF YetHangul\n",
      "NanumSquare Neo Bold\n",
      "NanumGothicOTF\n",
      "Noto Sans KR\n",
      "NanumMyeongjo Eco\n",
      "NanumSquare Neo Heavy\n",
      "NanumMyeongjo\n",
      "NanumGothicOTF Eco\n",
      "NanumBarunGothic\n",
      "NanumSquare_ac\n",
      "NanumMyeongjoOTF\n",
      "NanumBarunGothicOTF\n",
      "NanumMyeongjoOTF YetHangul\n",
      "NanumSquare\n",
      "NanumGothic Eco\n",
      "NanumMyeongjo Eco\n",
      "NanumGothic\n",
      "NanumSquareOTF\n",
      "NanumSquareRound\n",
      "NanumSquareOTF\n",
      "NanumBarunGothic\n",
      "D2Coding\n",
      "NanumGothicOTF\n",
      "NanumMyeongjo\n",
      "NanumGothicOTF Eco\n",
      "Nanum Pen Script OTF\n",
      "NanumSquareRoundOTF\n",
      "NanumSquare\n",
      "D2Coding ligature\n",
      "NanumSquareOTF\n",
      "NanumBarunGothicOTF\n",
      "NanumSquareRoundOTF\n",
      "NanumGothic\n",
      "NanumSquare\n",
      "NanumBarunpenOTF\n",
      "NanumBarunpen\n",
      "Noto Sans KR\n",
      "NanumSquareOTF\n",
      "NanumMyeongjo Eco\n"
     ]
    }
   ],
   "source": [
    "# Add every font at the specified location\n",
    "font_dir = ['./fonts']\n",
    "for font in mpl.font_manager.findSystemFonts(fontpaths=font_dir):\n",
    "    print(mpl.font_manager.FontProperties(fname=font).get_name())\n",
    "    mpl.font_manager.fontManager.addfont(font)"
   ]
  },
  {
   "cell_type": "code",
   "execution_count": 5,
   "id": "2f95134d-a2d8-435d-9f94-7f47d082ba23",
   "metadata": {},
   "outputs": [
    {
     "name": "stdout",
     "output_type": "stream",
     "text": [
      "['NanumSquare Neo OTF Bold']\n"
     ]
    }
   ],
   "source": [
    "# Set font family globally\n",
    "mpl.rcParams['font.family'] = 'NanumSquare Neo OTF Bold'\n",
    "print(mpl.rcParams['font.family'])"
   ]
  },
  {
   "cell_type": "markdown",
   "id": "14ebac11-4adb-4536-9f67-699b8b7f386b",
   "metadata": {},
   "source": [
    "## 지역별 연령별 주민등록 인구수"
   ]
  },
  {
   "cell_type": "code",
   "execution_count": 6,
   "id": "1a1be16b-db10-4d8a-9a54-a91d8ba2f9a5",
   "metadata": {},
   "outputs": [
    {
     "data": {
      "text/html": [
       "<div>\n",
       "<style scoped>\n",
       "    .dataframe tbody tr th:only-of-type {\n",
       "        vertical-align: middle;\n",
       "    }\n",
       "\n",
       "    .dataframe tbody tr th {\n",
       "        vertical-align: top;\n",
       "    }\n",
       "\n",
       "    .dataframe thead th {\n",
       "        text-align: right;\n",
       "    }\n",
       "</style>\n",
       "<table border=\"1\" class=\"dataframe\">\n",
       "  <thead>\n",
       "    <tr style=\"text-align: right;\">\n",
       "      <th></th>\n",
       "      <th>행정기관코드</th>\n",
       "      <th>기준연월</th>\n",
       "      <th>시도명</th>\n",
       "      <th>시군구명</th>\n",
       "      <th>읍면동명</th>\n",
       "      <th>계</th>\n",
       "      <th>남자</th>\n",
       "      <th>여자</th>\n",
       "      <th>만0세남자</th>\n",
       "      <th>만1세남자</th>\n",
       "      <th>...</th>\n",
       "      <th>만101세여자</th>\n",
       "      <th>만102세여자</th>\n",
       "      <th>만103세여자</th>\n",
       "      <th>만104세여자</th>\n",
       "      <th>만105세여자</th>\n",
       "      <th>만106세여자</th>\n",
       "      <th>만107세여자</th>\n",
       "      <th>만108세여자</th>\n",
       "      <th>만109세여자</th>\n",
       "      <th>만110세이상여자</th>\n",
       "    </tr>\n",
       "  </thead>\n",
       "  <tbody>\n",
       "    <tr>\n",
       "      <th>0</th>\n",
       "      <td>1111051500</td>\n",
       "      <td>2023-02-28</td>\n",
       "      <td>서울특별시</td>\n",
       "      <td>종로구</td>\n",
       "      <td>청운효자동</td>\n",
       "      <td>11605</td>\n",
       "      <td>5325</td>\n",
       "      <td>6280</td>\n",
       "      <td>14</td>\n",
       "      <td>22</td>\n",
       "      <td>...</td>\n",
       "      <td>1</td>\n",
       "      <td>0</td>\n",
       "      <td>0</td>\n",
       "      <td>0</td>\n",
       "      <td>0</td>\n",
       "      <td>0</td>\n",
       "      <td>0</td>\n",
       "      <td>0</td>\n",
       "      <td>0</td>\n",
       "      <td>0</td>\n",
       "    </tr>\n",
       "    <tr>\n",
       "      <th>1</th>\n",
       "      <td>1111053000</td>\n",
       "      <td>2023-02-28</td>\n",
       "      <td>서울특별시</td>\n",
       "      <td>종로구</td>\n",
       "      <td>사직동</td>\n",
       "      <td>9120</td>\n",
       "      <td>4060</td>\n",
       "      <td>5060</td>\n",
       "      <td>12</td>\n",
       "      <td>24</td>\n",
       "      <td>...</td>\n",
       "      <td>0</td>\n",
       "      <td>0</td>\n",
       "      <td>0</td>\n",
       "      <td>0</td>\n",
       "      <td>0</td>\n",
       "      <td>0</td>\n",
       "      <td>0</td>\n",
       "      <td>0</td>\n",
       "      <td>0</td>\n",
       "      <td>0</td>\n",
       "    </tr>\n",
       "    <tr>\n",
       "      <th>2</th>\n",
       "      <td>1111054000</td>\n",
       "      <td>2023-02-28</td>\n",
       "      <td>서울특별시</td>\n",
       "      <td>종로구</td>\n",
       "      <td>삼청동</td>\n",
       "      <td>2322</td>\n",
       "      <td>1104</td>\n",
       "      <td>1218</td>\n",
       "      <td>2</td>\n",
       "      <td>2</td>\n",
       "      <td>...</td>\n",
       "      <td>0</td>\n",
       "      <td>0</td>\n",
       "      <td>0</td>\n",
       "      <td>0</td>\n",
       "      <td>0</td>\n",
       "      <td>0</td>\n",
       "      <td>0</td>\n",
       "      <td>0</td>\n",
       "      <td>0</td>\n",
       "      <td>0</td>\n",
       "    </tr>\n",
       "    <tr>\n",
       "      <th>3</th>\n",
       "      <td>1111055000</td>\n",
       "      <td>2023-02-28</td>\n",
       "      <td>서울특별시</td>\n",
       "      <td>종로구</td>\n",
       "      <td>부암동</td>\n",
       "      <td>9178</td>\n",
       "      <td>4340</td>\n",
       "      <td>4838</td>\n",
       "      <td>13</td>\n",
       "      <td>14</td>\n",
       "      <td>...</td>\n",
       "      <td>1</td>\n",
       "      <td>1</td>\n",
       "      <td>0</td>\n",
       "      <td>0</td>\n",
       "      <td>0</td>\n",
       "      <td>0</td>\n",
       "      <td>0</td>\n",
       "      <td>0</td>\n",
       "      <td>0</td>\n",
       "      <td>0</td>\n",
       "    </tr>\n",
       "    <tr>\n",
       "      <th>4</th>\n",
       "      <td>1111056000</td>\n",
       "      <td>2023-02-28</td>\n",
       "      <td>서울특별시</td>\n",
       "      <td>종로구</td>\n",
       "      <td>평창동</td>\n",
       "      <td>17602</td>\n",
       "      <td>8212</td>\n",
       "      <td>9390</td>\n",
       "      <td>33</td>\n",
       "      <td>46</td>\n",
       "      <td>...</td>\n",
       "      <td>2</td>\n",
       "      <td>0</td>\n",
       "      <td>1</td>\n",
       "      <td>0</td>\n",
       "      <td>0</td>\n",
       "      <td>1</td>\n",
       "      <td>0</td>\n",
       "      <td>1</td>\n",
       "      <td>0</td>\n",
       "      <td>0</td>\n",
       "    </tr>\n",
       "    <tr>\n",
       "      <th>...</th>\n",
       "      <td>...</td>\n",
       "      <td>...</td>\n",
       "      <td>...</td>\n",
       "      <td>...</td>\n",
       "      <td>...</td>\n",
       "      <td>...</td>\n",
       "      <td>...</td>\n",
       "      <td>...</td>\n",
       "      <td>...</td>\n",
       "      <td>...</td>\n",
       "      <td>...</td>\n",
       "      <td>...</td>\n",
       "      <td>...</td>\n",
       "      <td>...</td>\n",
       "      <td>...</td>\n",
       "      <td>...</td>\n",
       "      <td>...</td>\n",
       "      <td>...</td>\n",
       "      <td>...</td>\n",
       "      <td>...</td>\n",
       "      <td>...</td>\n",
       "    </tr>\n",
       "    <tr>\n",
       "      <th>3574</th>\n",
       "      <td>5013058000</td>\n",
       "      <td>2023-02-28</td>\n",
       "      <td>제주특별자치도</td>\n",
       "      <td>서귀포시</td>\n",
       "      <td>서홍동</td>\n",
       "      <td>11236</td>\n",
       "      <td>5556</td>\n",
       "      <td>5680</td>\n",
       "      <td>39</td>\n",
       "      <td>49</td>\n",
       "      <td>...</td>\n",
       "      <td>1</td>\n",
       "      <td>0</td>\n",
       "      <td>0</td>\n",
       "      <td>0</td>\n",
       "      <td>0</td>\n",
       "      <td>0</td>\n",
       "      <td>0</td>\n",
       "      <td>0</td>\n",
       "      <td>0</td>\n",
       "      <td>0</td>\n",
       "    </tr>\n",
       "    <tr>\n",
       "      <th>3575</th>\n",
       "      <td>5013059000</td>\n",
       "      <td>2023-02-28</td>\n",
       "      <td>제주특별자치도</td>\n",
       "      <td>서귀포시</td>\n",
       "      <td>대륜동</td>\n",
       "      <td>15567</td>\n",
       "      <td>7837</td>\n",
       "      <td>7730</td>\n",
       "      <td>59</td>\n",
       "      <td>66</td>\n",
       "      <td>...</td>\n",
       "      <td>2</td>\n",
       "      <td>0</td>\n",
       "      <td>1</td>\n",
       "      <td>2</td>\n",
       "      <td>0</td>\n",
       "      <td>0</td>\n",
       "      <td>0</td>\n",
       "      <td>0</td>\n",
       "      <td>0</td>\n",
       "      <td>0</td>\n",
       "    </tr>\n",
       "    <tr>\n",
       "      <th>3576</th>\n",
       "      <td>5013060000</td>\n",
       "      <td>2023-02-28</td>\n",
       "      <td>제주특별자치도</td>\n",
       "      <td>서귀포시</td>\n",
       "      <td>대천동</td>\n",
       "      <td>13650</td>\n",
       "      <td>6913</td>\n",
       "      <td>6737</td>\n",
       "      <td>52</td>\n",
       "      <td>45</td>\n",
       "      <td>...</td>\n",
       "      <td>0</td>\n",
       "      <td>1</td>\n",
       "      <td>0</td>\n",
       "      <td>0</td>\n",
       "      <td>0</td>\n",
       "      <td>0</td>\n",
       "      <td>0</td>\n",
       "      <td>0</td>\n",
       "      <td>0</td>\n",
       "      <td>0</td>\n",
       "    </tr>\n",
       "    <tr>\n",
       "      <th>3577</th>\n",
       "      <td>5013061000</td>\n",
       "      <td>2023-02-28</td>\n",
       "      <td>제주특별자치도</td>\n",
       "      <td>서귀포시</td>\n",
       "      <td>중문동</td>\n",
       "      <td>12293</td>\n",
       "      <td>6249</td>\n",
       "      <td>6044</td>\n",
       "      <td>27</td>\n",
       "      <td>38</td>\n",
       "      <td>...</td>\n",
       "      <td>1</td>\n",
       "      <td>0</td>\n",
       "      <td>0</td>\n",
       "      <td>1</td>\n",
       "      <td>0</td>\n",
       "      <td>0</td>\n",
       "      <td>0</td>\n",
       "      <td>0</td>\n",
       "      <td>0</td>\n",
       "      <td>0</td>\n",
       "    </tr>\n",
       "    <tr>\n",
       "      <th>3578</th>\n",
       "      <td>5013062000</td>\n",
       "      <td>2023-02-28</td>\n",
       "      <td>제주특별자치도</td>\n",
       "      <td>서귀포시</td>\n",
       "      <td>예래동</td>\n",
       "      <td>3880</td>\n",
       "      <td>1994</td>\n",
       "      <td>1886</td>\n",
       "      <td>4</td>\n",
       "      <td>7</td>\n",
       "      <td>...</td>\n",
       "      <td>0</td>\n",
       "      <td>0</td>\n",
       "      <td>0</td>\n",
       "      <td>0</td>\n",
       "      <td>0</td>\n",
       "      <td>0</td>\n",
       "      <td>0</td>\n",
       "      <td>0</td>\n",
       "      <td>0</td>\n",
       "      <td>0</td>\n",
       "    </tr>\n",
       "  </tbody>\n",
       "</table>\n",
       "<p>3579 rows × 230 columns</p>\n",
       "</div>"
      ],
      "text/plain": [
       "          행정기관코드        기준연월      시도명  시군구명   읍면동명      계    남자    여자  만0세남자  \\\n",
       "0     1111051500  2023-02-28    서울특별시   종로구  청운효자동  11605  5325  6280     14   \n",
       "1     1111053000  2023-02-28    서울특별시   종로구    사직동   9120  4060  5060     12   \n",
       "2     1111054000  2023-02-28    서울특별시   종로구    삼청동   2322  1104  1218      2   \n",
       "3     1111055000  2023-02-28    서울특별시   종로구    부암동   9178  4340  4838     13   \n",
       "4     1111056000  2023-02-28    서울특별시   종로구    평창동  17602  8212  9390     33   \n",
       "...          ...         ...      ...   ...    ...    ...   ...   ...    ...   \n",
       "3574  5013058000  2023-02-28  제주특별자치도  서귀포시    서홍동  11236  5556  5680     39   \n",
       "3575  5013059000  2023-02-28  제주특별자치도  서귀포시    대륜동  15567  7837  7730     59   \n",
       "3576  5013060000  2023-02-28  제주특별자치도  서귀포시    대천동  13650  6913  6737     52   \n",
       "3577  5013061000  2023-02-28  제주특별자치도  서귀포시    중문동  12293  6249  6044     27   \n",
       "3578  5013062000  2023-02-28  제주특별자치도  서귀포시    예래동   3880  1994  1886      4   \n",
       "\n",
       "      만1세남자  ...  만101세여자  만102세여자  만103세여자  만104세여자  만105세여자  만106세여자  \\\n",
       "0        22  ...        1        0        0        0        0        0   \n",
       "1        24  ...        0        0        0        0        0        0   \n",
       "2         2  ...        0        0        0        0        0        0   \n",
       "3        14  ...        1        1        0        0        0        0   \n",
       "4        46  ...        2        0        1        0        0        1   \n",
       "...     ...  ...      ...      ...      ...      ...      ...      ...   \n",
       "3574     49  ...        1        0        0        0        0        0   \n",
       "3575     66  ...        2        0        1        2        0        0   \n",
       "3576     45  ...        0        1        0        0        0        0   \n",
       "3577     38  ...        1        0        0        1        0        0   \n",
       "3578      7  ...        0        0        0        0        0        0   \n",
       "\n",
       "      만107세여자  만108세여자  만109세여자  만110세이상여자  \n",
       "0           0        0        0          0  \n",
       "1           0        0        0          0  \n",
       "2           0        0        0          0  \n",
       "3           0        0        0          0  \n",
       "4           0        1        0          0  \n",
       "...       ...      ...      ...        ...  \n",
       "3574        0        0        0          0  \n",
       "3575        0        0        0          0  \n",
       "3576        0        0        0          0  \n",
       "3577        0        0        0          0  \n",
       "3578        0        0        0          0  \n",
       "\n",
       "[3579 rows x 230 columns]"
      ]
     },
     "execution_count": 6,
     "metadata": {},
     "output_type": "execute_result"
    }
   ],
   "source": [
    "age_live = pd.read_csv(\"datas/행정안전부_지역별(행정동) 성별 연령별 주민등록 인구수_20230228.csv\",encoding = \"cp949\")\n",
    "age_live"
   ]
  },
  {
   "cell_type": "code",
   "execution_count": 7,
   "id": "73a83d11-a90e-46ea-9cff-5fc62f0d5d27",
   "metadata": {},
   "outputs": [
    {
     "data": {
      "text/plain": [
       "Index(['행정기관코드', '기준연월', '시도명', '시군구명', '읍면동명', '계', '남자', '여자', '만0세남자',\n",
       "       '만1세남자',\n",
       "       ...\n",
       "       '만101세여자', '만102세여자', '만103세여자', '만104세여자', '만105세여자', '만106세여자',\n",
       "       '만107세여자', '만108세여자', '만109세여자', '만110세이상여자'],\n",
       "      dtype='object', length=230)"
      ]
     },
     "execution_count": 7,
     "metadata": {},
     "output_type": "execute_result"
    }
   ],
   "source": [
    "age_live.columns"
   ]
  },
  {
   "cell_type": "markdown",
   "id": "796ef33f-6922-4154-ab89-de853da4ae23",
   "metadata": {},
   "source": [
    "## 10대 청소년 들만 전처리"
   ]
  },
  {
   "cell_type": "code",
   "execution_count": 8,
   "id": "6c49d2f7-5c03-48cf-a5fa-c094e16b0b5d",
   "metadata": {},
   "outputs": [],
   "source": [
    "for i in range(20,110):\n",
    "    age_live.drop([f'만{i}세여자'],axis=1,inplace=True)"
   ]
  },
  {
   "cell_type": "code",
   "execution_count": 9,
   "id": "2e6f0315-bdfb-4a62-a8ee-8534a640c885",
   "metadata": {},
   "outputs": [],
   "source": [
    "for i in range(20,110):\n",
    "    age_live.drop([f'만{i}세남자'],axis=1,inplace=True)"
   ]
  },
  {
   "cell_type": "code",
   "execution_count": 10,
   "id": "97c576f1-e1ee-4073-93c2-a5699f1dd283",
   "metadata": {},
   "outputs": [],
   "source": [
    "for i in range(0,10):\n",
    "    age_live.drop([f'만{i}세남자'],axis=1,inplace=True)"
   ]
  },
  {
   "cell_type": "code",
   "execution_count": 11,
   "id": "165b5bf7-c489-4ee9-b780-8fe8c64c6056",
   "metadata": {},
   "outputs": [],
   "source": [
    "for i in range(0,10):\n",
    "    age_live.drop([f'만{i}세여자'],axis=1,inplace=True)"
   ]
  },
  {
   "cell_type": "code",
   "execution_count": 12,
   "id": "ee4a1663-b045-4d4c-bf8c-69669665dd55",
   "metadata": {},
   "outputs": [],
   "source": [
    "age_live.drop(['만110세이상남자'],axis=1,inplace=True)"
   ]
  },
  {
   "cell_type": "code",
   "execution_count": 13,
   "id": "68a4db42-bdda-481c-93e1-603063b9b49e",
   "metadata": {},
   "outputs": [],
   "source": [
    "age_live.drop(['만110세이상여자'],axis=1,inplace=True)"
   ]
  },
  {
   "cell_type": "markdown",
   "id": "6fe9ae84-73c1-4b79-91b0-c5ac65090fc0",
   "metadata": {},
   "source": [
    "## 시군구명, 계, 남자, 여자, 10대들 컬럼만 남기기"
   ]
  },
  {
   "cell_type": "code",
   "execution_count": 14,
   "id": "26f8c8a9-6fb4-479e-952d-196565f8703d",
   "metadata": {},
   "outputs": [],
   "source": [
    "age_live.drop(['행정기관코드'],axis=1,inplace=True)"
   ]
  },
  {
   "cell_type": "code",
   "execution_count": 15,
   "id": "d44cb73b-9b87-4d43-ae18-8e153506f0b4",
   "metadata": {},
   "outputs": [
    {
     "data": {
      "text/plain": [
       "만10세남자    57\n",
       "만11세남자    61\n",
       "만12세남자    57\n",
       "만13세남자    54\n",
       "만14세남자    60\n",
       "만15세남자    60\n",
       "만16세남자    58\n",
       "만17세남자    54\n",
       "만18세남자    70\n",
       "만19세남자    58\n",
       "만10세여자    52\n",
       "만11세여자    52\n",
       "만12세여자    58\n",
       "만13세여자    47\n",
       "만14세여자    61\n",
       "만15세여자    61\n",
       "만16세여자    73\n",
       "만17세여자    36\n",
       "만18세여자    50\n",
       "만19세여자    43\n",
       "Name: 0, dtype: object"
      ]
     },
     "execution_count": 15,
     "metadata": {},
     "output_type": "execute_result"
    }
   ],
   "source": [
    "age_live.loc[0][7:]"
   ]
  },
  {
   "cell_type": "markdown",
   "id": "7a0b3de5-7530-48b0-a0d9-079f2a4f62c6",
   "metadata": {},
   "source": [
    "## 서울특별시만 students_live변수에 넣기"
   ]
  },
  {
   "cell_type": "code",
   "execution_count": 16,
   "id": "8c699116-d0ed-4e71-b52d-44e78867f3e2",
   "metadata": {},
   "outputs": [],
   "source": [
    "students_live = age_live[age_live['시도명'] == '서울특별시']"
   ]
  },
  {
   "cell_type": "markdown",
   "id": "c19f4ae8-cd3c-4d99-87fa-bb98f47ccb4c",
   "metadata": {},
   "source": [
    "## groupby함수를 사용하여 같은 시군구명을 가진 값으로 더한다"
   ]
  },
  {
   "cell_type": "code",
   "execution_count": 17,
   "id": "d64d1d07-e450-480c-9d56-96e2c644afbc",
   "metadata": {},
   "outputs": [],
   "source": [
    "students_live = students_live.groupby(by='시군구명').sum()\n",
    "students_lives = students_live[['계']]"
   ]
  },
  {
   "cell_type": "code",
   "execution_count": 18,
   "id": "4cc7c7cd-88ab-4d89-9103-32531436c15b",
   "metadata": {},
   "outputs": [
    {
     "data": {
      "text/plain": [
       "계         529962\n",
       "남자         31514\n",
       "여자        276464\n",
       "만10세남자      2989\n",
       "만11세남자      3045\n",
       "만12세남자      3395\n",
       "만13세남자      3076\n",
       "만14세남자      3302\n",
       "만15세남자      3555\n",
       "만16세남자      3032\n",
       "만17세남자      2984\n",
       "만18세남자      3090\n",
       "만19세남자      3046\n",
       "만10세여자      2751\n",
       "만11세여자      2745\n",
       "만12세여자      3091\n",
       "만13세여자      2840\n",
       "만14세여자      2994\n",
       "만15세여자      3200\n",
       "만16세여자      2925\n",
       "만17세여자      2655\n",
       "만18세여자      2795\n",
       "만19세여자      2825\n",
       "Name: 강남구, dtype: int64"
      ]
     },
     "execution_count": 18,
     "metadata": {},
     "output_type": "execute_result"
    }
   ],
   "source": [
    "students_live['남자'].loc[students_live.index[0]] = students_live.loc[students_live.index[0]][3:13].sum()\n",
    "students_live.loc['강남구']"
   ]
  },
  {
   "cell_type": "code",
   "execution_count": 19,
   "id": "774844bc-333d-4ff9-a541-0851da06a1fa",
   "metadata": {},
   "outputs": [
    {
     "data": {
      "text/plain": [
       "28821"
      ]
     },
     "execution_count": 19,
     "metadata": {},
     "output_type": "execute_result"
    }
   ],
   "source": [
    "students_live['여자'].loc[students_live.index[0]] = students_live.loc[students_live.index[0]][13:].sum()\n",
    "students_live['여자'].loc[students_live.index[0]]"
   ]
  },
  {
   "cell_type": "code",
   "execution_count": 20,
   "id": "d394a60b-28c8-472f-b595-0b9bb6ea5be7",
   "metadata": {},
   "outputs": [],
   "source": [
    "for i in range(len(students_live.index)):\n",
    "    students_live['남자'].loc[students_live.index[i]] = students_live.loc[students_live.index[i]][3:13].sum()"
   ]
  },
  {
   "cell_type": "code",
   "execution_count": 21,
   "id": "449a45c8-df1c-411c-919f-6232cd0f0dda",
   "metadata": {},
   "outputs": [],
   "source": [
    "for i in range(len(students_live.index)):\n",
    "    students_live['여자'].loc[students_live.index[i]] = students_live.loc[students_live.index[i]][13:].sum()"
   ]
  },
  {
   "cell_type": "code",
   "execution_count": 22,
   "id": "2dac5dc4-821c-4775-830e-bfe4a7216b8f",
   "metadata": {},
   "outputs": [],
   "source": [
    "for i in range(len(students_live.index)):\n",
    "    students_live['계'].loc[students_live.index[i]] = students_live.loc[students_live.index[i]][1:3].sum()"
   ]
  },
  {
   "cell_type": "code",
   "execution_count": 23,
   "id": "643dc9b1-a7a8-4922-82c3-1cbf8de50de9",
   "metadata": {},
   "outputs": [],
   "source": [
    "students_live = students_live.sort_values(by = ['계'], ascending=False)"
   ]
  },
  {
   "cell_type": "markdown",
   "id": "d8be19eb-629b-4050-838c-e203e6db1d9c",
   "metadata": {},
   "source": [
    "## 청소년 거주인구 수를 이미지화 하기"
   ]
  },
  {
   "cell_type": "code",
   "execution_count": 39,
   "id": "6fb3c2c1-e665-4df4-b3b7-edc65bd3fc48",
   "metadata": {},
   "outputs": [
    {
     "data": {
      "image/png": "[encoded data removed]",
      "text/plain": [
       "<Figure size 1000x500 with 1 Axes>"
      ]
     },
     "metadata": {},
     "output_type": "display_data"
    }
   ],
   "source": [
    "#students_live\n",
    "plt.figure(figsize = (10,5))\n",
    "\n",
    "sns.barplot(y = sizes, x = sizes.index, palette = \"Greens_r\")\n",
    "plt.title(\"청소년 거주인구(2023-2-28기준)\")\n",
    "labels = students_live.index\n",
    "sizes = students_live['계']\n",
    "\n",
    "\n",
    "plt.xticks(rotation = 60)\n",
    "plt.ylabel(\"인구 (명)수\")\n",
    "plt.xlabel(\"거주지\")\n",
    "plt.show()"
   ]
  },
  {
   "cell_type": "code",
   "execution_count": 28,
   "id": "ba8601e9-2423-448d-90bd-b67f1a79dc78",
   "metadata": {},
   "outputs": [],
   "source": [
    "students_pd = students_live[['계']]"
   ]
  },
  {
   "cell_type": "code",
   "execution_count": 29,
   "id": "f4c01873-c24b-4bd5-80ea-fdee2713831a",
   "metadata": {},
   "outputs": [],
   "source": [
    "students_pd.to_csv(\"students_lives.csv\")"
   ]
  }
 ],
 "metadata": {
  "kernelspec": {
   "display_name": "Python 3 (ipykernel)",
   "language": "python",
   "name": "python3"
  },
  "language_info": {
   "codemirror_mode": {
    "name": "ipython",
    "version": 3
   },
   "file_extension": ".py",
   "mimetype": "text/x-python",
   "name": "python",
   "nbconvert_exporter": "python",
   "pygments_lexer": "ipython3",
   "version": "3.9.13"
  }
 },
 "nbformat": 4,
 "nbformat_minor": 5
}

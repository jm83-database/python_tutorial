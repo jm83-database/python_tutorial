{
 "cells": [
  {
   "cell_type": "code",
   "execution_count": 1,
   "id": "eeaabba9-60f6-454f-9bc7-bca2a378eadb",
   "metadata": {},
   "outputs": [
    {
     "name": "stdout",
     "output_type": "stream",
     "text": [
      "짜장&짬뽕\n"
     ]
    }
   ],
   "source": [
    "import random\n",
    "\n",
    "menu = [\"덮밥\", \"비빔밥\", \"볶음밥\", \"김치찌개\", \"부대찌개\", \"생선찜\", \"생선구이\",\n",
    "        \"고기\", \"냉면\", \"설렁탕\", \"곱창\",\n",
    "        \"짜장&짬뽕\", \"마라탕\",\n",
    "        \"돈까스\", \"우동\", \"초밥\", \"회\", \"샤브샤브\",\n",
    "        \"피자\", \"치킨\", \"햄버거\", \"밥버거\"]\n",
    "\n",
    "select = random.choice(menu)\n",
    "\n",
    "print(select)"
   ]
  }
 ],
 "metadata": {
  "kernelspec": {
   "display_name": "Python 3 (ipykernel)",
   "language": "python",
   "name": "python3"
  },
  "language_info": {
   "codemirror_mode": {
    "name": "ipython",
    "version": 3
   },
   "file_extension": ".py",
   "mimetype": "text/x-python",
   "name": "python",
   "nbconvert_exporter": "python",
   "pygments_lexer": "ipython3",
   "version": "3.9.13"
  }
 },
 "nbformat": 4,
 "nbformat_minor": 5
}

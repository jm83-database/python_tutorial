{
 "cells": [
  {
   "cell_type": "code",
   "execution_count": 1,
   "id": "ed763ce9-bd39-45c0-a930-ec020d83559d",
   "metadata": {},
   "outputs": [],
   "source": [
    "import numpy as np\n",
    "import pandas as pd"
   ]
  },
  {
   "cell_type": "code",
   "execution_count": 2,
   "id": "3a7f18af-89a0-47fd-ba37-c174101196f5",
   "metadata": {},
   "outputs": [],
   "source": [
    "# df = pd.read_csv(\"C:/python/datas/teams.csv\")\n",
    "# team = df.sample(28)\n",
    "# team[\"team\"] = [j for j in range(1, 8) for i in range(4)]\n",
    "# team.to_csv(\"C:/python/datas/teams_result.csv\", index = False)\n",
    "# pd.read_csv(\"C:/python/datas/teams_result.csv\")"
   ]
  },
  {
   "cell_type": "code",
   "execution_count": 3,
   "id": "e5c8317a-1785-4444-894f-0e1a6043cad6",
   "metadata": {},
   "outputs": [],
   "source": [
    "# df = pd.read_csv('teams.csv')\n",
    "# li=[]\n",
    "# for i in range(4):\n",
    "#     li.extend(np.random.choice(range(1,8),size=7,replace=False))\n",
    "# df.sort_values('team')"
   ]
  },
  {
   "cell_type": "code",
   "execution_count": 4,
   "id": "fec2cfd8-52ec-45a2-9c8b-2781fa34e5ef",
   "metadata": {},
   "outputs": [],
   "source": [
    "# teams = pd.read_csv('datas/teams.csv')\n",
    "# o = list(range(1, 8))*4\n",
    "# np.random.shuffle(o)\n",
    "# teams['team'] = o\n",
    "# teams = teams.sort_values('team')\n",
    "# for i in range(teams.team.max()):\n",
    "#     temp = teams.loc[teams.team==(i+1)]['성명']\n",
    "#     print(f'{i+1}팀: ',list(temp))"
   ]
  },
  {
   "cell_type": "code",
   "execution_count": null,
   "id": "3dbdc00e-714a-4707-b8b1-7be99f73afa6",
   "metadata": {},
   "outputs": [],
   "source": [
    "# df = pd.read_csv('teams.csv')\n",
    "# df['team']=np.random.choice(range(1,len(df)+1),size=len(df),replace=False)%7+1\n",
    "# display(df.sort_values('team'))"
   ]
  }
 ],
 "metadata": {
  "kernelspec": {
   "display_name": "Python 3 (ipykernel)",
   "language": "python",
   "name": "python3"
  },
  "language_info": {
   "codemirror_mode": {
    "name": "ipython",
    "version": 3
   },
   "file_extension": ".py",
   "mimetype": "text/x-python",
   "name": "python",
   "nbconvert_exporter": "python",
   "pygments_lexer": "ipython3",
   "version": "3.9.13"
  }
 },
 "nbformat": 4,
 "nbformat_minor": 5
}

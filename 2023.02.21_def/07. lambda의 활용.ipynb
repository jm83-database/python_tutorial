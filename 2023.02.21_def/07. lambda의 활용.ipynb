{
 "cells": [
  {
   "cell_type": "code",
   "execution_count": 1,
   "id": "998274a1-0671-48bb-8b16-3ade8afc9fe0",
   "metadata": {},
   "outputs": [
    {
     "data": {
      "text/plain": [
       "'B'"
      ]
     },
     "execution_count": 1,
     "metadata": {},
     "output_type": "execute_result"
    }
   ],
   "source": [
    "# if else를 한 줄로 작성\n",
    "# lambda와 사용하면 활용도가 좋다.\n",
    "\n",
    "# if 단독으로 사용 불가!!!!!!(반드시 else 필요)\n",
    "\n",
    "# 중첩해서 사용 가능(중첩이 많아지면 가독성이 나빠지니 주의!)\n",
    "\n",
    "# True일 때 값 if 조건식 else Fasle일 때 값\n",
    "\n",
    "score = 90\n",
    "'A' if 90<score<=100 else 'B' if 80<score else 'C'"
   ]
  },
  {
   "cell_type": "code",
   "execution_count": 2,
   "id": "58dd1ec1-a074-426d-a60b-85187af79907",
   "metadata": {},
   "outputs": [
    {
     "name": "stdout",
     "output_type": "stream",
     "text": [
      "[2, 8, 18, 32, 50]\n"
     ]
    }
   ],
   "source": [
    "# lambda (feat. map())\n",
    "\n",
    "# map(lambda parameter1, parameter2, ...: expression, iterable1, iterable2, ...)\n",
    "\n",
    "a = [_ for _ in range(1, 6)]\n",
    "b = [_ for _ in range(2, 11, 2)]\n",
    "print(list(map(lambda x, y: x*y, a, b)))"
   ]
  },
  {
   "cell_type": "code",
   "execution_count": 3,
   "id": "fd5ba239-f474-4838-94ff-b016770f4ded",
   "metadata": {},
   "outputs": [
    {
     "data": {
      "text/plain": [
       "[3, 9, 9]"
      ]
     },
     "execution_count": 3,
     "metadata": {},
     "output_type": "execute_result"
    }
   ],
   "source": [
    "# lambda (feat.filter())\n",
    "# filter의 첫 인수로 들어가는 함수의 반환 값이 True일 때만 해당 요소를 가져온다.\n",
    "# 속도와 가독성 모두 filter()보다 list comprehension이 더 빠르다.\n",
    "\n",
    "# map(lambda parameter: expression, iterable) ← expression이 True일 때만 해당 요소를 가져온다.\n",
    "\n",
    "a = [3, 2, 8, 22, 10, 7, 0, 11, 9, 9]\n",
    "list(filter(lambda x: x % 3 == 0 and 0 < x < 10, a))"
   ]
  }
 ],
 "metadata": {
  "kernelspec": {
   "display_name": "Python 3 (ipykernel)",
   "language": "python",
   "name": "python3"
  },
  "language_info": {
   "codemirror_mode": {
    "name": "ipython",
    "version": 3
   },
   "file_extension": ".py",
   "mimetype": "text/x-python",
   "name": "python",
   "nbconvert_exporter": "python",
   "pygments_lexer": "ipython3",
   "version": "3.9.13"
  }
 },
 "nbformat": 4,
 "nbformat_minor": 5
}

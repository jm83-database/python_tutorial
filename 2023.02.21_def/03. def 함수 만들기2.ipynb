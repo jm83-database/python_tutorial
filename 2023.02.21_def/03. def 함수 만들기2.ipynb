{
 "cells": [
  {
   "cell_type": "code",
   "execution_count": 1,
   "id": "40cc4a86-5ee7-4a08-8eeb-02ad6023b182",
   "metadata": {},
   "outputs": [
    {
     "ename": "SyntaxError",
     "evalue": "non-default argument follows default argument (1188320507.py, line 1)",
     "output_type": "error",
     "traceback": [
      "\u001b[1;36m  File \u001b[1;32m\"C:\\Users\\user\\AppData\\Local\\Temp\\ipykernel_8416\\1188320507.py\"\u001b[1;36m, line \u001b[1;32m1\u001b[0m\n\u001b[1;33m    def greeting(name = \"default\", age):\u001b[0m\n\u001b[1;37m                                      ^\u001b[0m\n\u001b[1;31mSyntaxError\u001b[0m\u001b[1;31m:\u001b[0m non-default argument follows default argument\n"
     ]
    }
   ],
   "source": [
    "def greeting(name = \"default\", age):\n",
    "    print(f\"{name} 씨 안녕하세요, 약 {age*365.25} 일 되었습니다.\")\n",
    "    \n",
    "# 기본 값을 갖는 default parameter는 기본 값을 갖지 않는 non-default parameter보다 뒤에 와야 된다."
   ]
  },
  {
   "cell_type": "code",
   "execution_count": 3,
   "id": "9520092e-bee8-4799-af36-8490c36f2361",
   "metadata": {},
   "outputs": [],
   "source": [
    "def greeting(name, age = 32):\n",
    "    print(f\"{name} 씨 안녕하세요, 약 {age*365.25} 일 되었습니다.\")"
   ]
  },
  {
   "cell_type": "code",
   "execution_count": 4,
   "id": "52f617b7-bdb4-4794-b4c5-b658eae1806f",
   "metadata": {},
   "outputs": [
    {
     "name": "stdout",
     "output_type": "stream",
     "text": [
      "파이썬 씨 안녕하세요, 약 11688.0 일 되었습니다.\n"
     ]
    }
   ],
   "source": [
    "greeting(\"파이썬\", 32) # 위치 인수만으로 호출\n",
    "#위치 인수는 순서가 중요!!!!\n",
    "# 기본값이 있는 인자에 위치 인수로 값을 전달할 수 있다."
   ]
  },
  {
   "cell_type": "code",
   "execution_count": 5,
   "id": "530b63fe-aa8c-4030-bbcb-7d3e19de3b59",
   "metadata": {},
   "outputs": [
    {
     "name": "stdout",
     "output_type": "stream",
     "text": [
      "파이썬 씨 안녕하세요, 약 11688.0 일 되었습니다.\n"
     ]
    }
   ],
   "source": [
    "greeting(\"파이썬\") # 기본값이 있는 인자는 인수 전달 생략 가능"
   ]
  },
  {
   "cell_type": "code",
   "execution_count": 6,
   "id": "62c5f3de-f31c-438e-a47b-c02bcb6a9e1c",
   "metadata": {},
   "outputs": [
    {
     "name": "stdout",
     "output_type": "stream",
     "text": [
      "파이썬 씨 안녕하세요, 약 11688.0 일 되었습니다.\n"
     ]
    }
   ],
   "source": [
    "greeting(name = \"파이썬\") # 기본값이 없는 인자에 키워드 인수로 값 전달 가능"
   ]
  },
  {
   "cell_type": "code",
   "execution_count": 7,
   "id": "23f2a6c2-f4ce-4328-864b-ffeec9534668",
   "metadata": {},
   "outputs": [
    {
     "name": "stdout",
     "output_type": "stream",
     "text": [
      "파이썬 씨 안녕하세요, 약 11688.0 일 되었습니다.\n"
     ]
    }
   ],
   "source": [
    "greeting(age = 32, name = \"파이썬\") # 키워드 인수만으로 호출할 땐 키워드 인수 간에 순서는 상계 없다."
   ]
  }
 ],
 "metadata": {
  "kernelspec": {
   "display_name": "Python 3 (ipykernel)",
   "language": "python",
   "name": "python3"
  },
  "language_info": {
   "codemirror_mode": {
    "name": "ipython",
    "version": 3
   },
   "file_extension": ".py",
   "mimetype": "text/x-python",
   "name": "python",
   "nbconvert_exporter": "python",
   "pygments_lexer": "ipython3",
   "version": "3.9.13"
  }
 },
 "nbformat": 4,
 "nbformat_minor": 5
}

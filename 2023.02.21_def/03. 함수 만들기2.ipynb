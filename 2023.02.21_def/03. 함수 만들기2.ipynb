{
 "cells": [
  {
   "cell_type": "code",
   "execution_count": 1,
   "id": "40cc4a86-5ee7-4a08-8eeb-02ad6023b182",
   "metadata": {},
   "outputs": [
    {
     "ename": "SyntaxError",
     "evalue": "non-default argument follows default argument (1188320507.py, line 1)",
     "output_type": "error",
     "traceback": [
      "\u001b[1;36m  File \u001b[1;32m\"C:\\Users\\user\\AppData\\Local\\Temp\\ipykernel_9540\\1188320507.py\"\u001b[1;36m, line \u001b[1;32m1\u001b[0m\n\u001b[1;33m    def greeting(name = \"default\", age):\u001b[0m\n\u001b[1;37m                                      ^\u001b[0m\n\u001b[1;31mSyntaxError\u001b[0m\u001b[1;31m:\u001b[0m non-default argument follows default argument\n"
     ]
    }
   ],
   "source": [
    "def greeting(name = \"default\", age):\n",
    "    print(f\"{name} 씨 안녕하세요, 약 {age*365.25} 일 되었습니다.\")\n",
    "    \n",
    "# 기본 값을 갖는 default parameter는 기본 값을 갖지 않는 non-default parameter보다 뒤에 와야 된다."
   ]
  },
  {
   "cell_type": "code",
   "execution_count": 2,
   "id": "9520092e-bee8-4799-af36-8490c36f2361",
   "metadata": {},
   "outputs": [],
   "source": [
    "def greeting(name, age = 32):\n",
    "    print(f\"{name} 씨 안녕하세요, 약 {age*365.25} 일 되었습니다.\")"
   ]
  },
  {
   "cell_type": "code",
   "execution_count": 3,
   "id": "52f617b7-bdb4-4794-b4c5-b658eae1806f",
   "metadata": {},
   "outputs": [
    {
     "name": "stdout",
     "output_type": "stream",
     "text": [
      "파이썬 씨 안녕하세요, 약 11688.0 일 되었습니다.\n"
     ]
    }
   ],
   "source": [
    "greeting(\"파이썬\", 32) # 위치 인수만으로 호출\n",
    "#위치 인수는 순서가 중요!!!!\n",
    "# 기본값이 있는 인자에 위치 인수로 값을 전달할 수 있다."
   ]
  },
  {
   "cell_type": "code",
   "execution_count": 4,
   "id": "530b63fe-aa8c-4030-bbcb-7d3e19de3b59",
   "metadata": {},
   "outputs": [
    {
     "name": "stdout",
     "output_type": "stream",
     "text": [
      "파이썬 씨 안녕하세요, 약 11688.0 일 되었습니다.\n"
     ]
    }
   ],
   "source": [
    "greeting(\"파이썬\") # 기본값이 있는 인자는 인수 전달 생략 가능"
   ]
  },
  {
   "cell_type": "code",
   "execution_count": 5,
   "id": "62c5f3de-f31c-438e-a47b-c02bcb6a9e1c",
   "metadata": {},
   "outputs": [
    {
     "name": "stdout",
     "output_type": "stream",
     "text": [
      "파이썬 씨 안녕하세요, 약 11688.0 일 되었습니다.\n"
     ]
    }
   ],
   "source": [
    "greeting(name = \"파이썬\") # 기본값이 없는 인자에 키워드 인수로 값 전달 가능"
   ]
  },
  {
   "cell_type": "code",
   "execution_count": 6,
   "id": "23f2a6c2-f4ce-4328-864b-ffeec9534668",
   "metadata": {},
   "outputs": [
    {
     "name": "stdout",
     "output_type": "stream",
     "text": [
      "파이썬 씨 안녕하세요, 약 11688.0 일 되었습니다.\n"
     ]
    }
   ],
   "source": [
    "greeting(age = 32, name = \"파이썬\") # 키워드 인수만으로 호출할 땐 키워드 인수 간에 순서는 상계 없다."
   ]
  },
  {
   "cell_type": "code",
   "execution_count": 7,
   "id": "26c1faae-a2cd-4822-a2df-1f96261fe8fe",
   "metadata": {},
   "outputs": [],
   "source": [
    "# 위치 전용 인자\n",
    "def posonly(posonly, /): # /를 인자로 위치시키면 그 왼편의 parameter는 전부 위치 인자로 고정\n",
    "    print(posonly)"
   ]
  },
  {
   "cell_type": "code",
   "execution_count": 8,
   "id": "a2de3966-6aa0-4886-a76c-b22fc031cb6a",
   "metadata": {},
   "outputs": [
    {
     "name": "stdout",
     "output_type": "stream",
     "text": [
      "값만 입력해야 합니다.\n"
     ]
    }
   ],
   "source": [
    "posonly(\"값만 입력해야 합니다.\")"
   ]
  },
  {
   "cell_type": "code",
   "execution_count": 9,
   "id": "e96243fe-de53-4629-8048-db06f2ac281a",
   "metadata": {},
   "outputs": [
    {
     "ename": "TypeError",
     "evalue": "posonly() got some positional-only arguments passed as keyword arguments: 'posonly'",
     "output_type": "error",
     "traceback": [
      "\u001b[1;31m---------------------------------------------------------------------------\u001b[0m",
      "\u001b[1;31mTypeError\u001b[0m                                 Traceback (most recent call last)",
      "\u001b[1;32m~\\AppData\\Local\\Temp\\ipykernel_9540\\3537532500.py\u001b[0m in \u001b[0;36m<module>\u001b[1;34m\u001b[0m\n\u001b[1;32m----> 1\u001b[1;33m \u001b[0mposonly\u001b[0m\u001b[1;33m(\u001b[0m\u001b[0mposonly\u001b[0m \u001b[1;33m=\u001b[0m \u001b[1;34m\"키워드 인수로 전달하면 오류 발생!\"\u001b[0m\u001b[1;33m)\u001b[0m\u001b[1;33m\u001b[0m\u001b[1;33m\u001b[0m\u001b[0m\n\u001b[0m\u001b[0;32m      2\u001b[0m \u001b[1;31m#키워드 인수 꼴로 작성하면 위치 인자 정의에 맞지 않음\u001b[0m\u001b[1;33m\u001b[0m\u001b[1;33m\u001b[0m\u001b[0m\n",
      "\u001b[1;31mTypeError\u001b[0m: posonly() got some positional-only arguments passed as keyword arguments: 'posonly'"
     ]
    }
   ],
   "source": [
    "posonly(posonly = \"키워드 인수로 전달하면 오류 발생!\")\n",
    "#키워드 인수 꼴로 작성하면 위치 인자 정의에 맞지 않음"
   ]
  },
  {
   "cell_type": "code",
   "execution_count": 10,
   "id": "b0873383-faf5-4dee-96c4-03192fb8b68f",
   "metadata": {},
   "outputs": [],
   "source": [
    "# 키워드 전용 인자\n",
    "def keyonly(*, keyonly = \"default\"): # keyword-only도 기본 값 설정이 가능하다.\n",
    "#                             * 우측에 오는 parameter는 모두 keyword-only parameter\n",
    "    print(keyonly)"
   ]
  },
  {
   "cell_type": "code",
   "execution_count": 11,
   "id": "39b73660-dae2-4db0-b057-e4d3c04e6fd2",
   "metadata": {},
   "outputs": [
    {
     "name": "stdout",
     "output_type": "stream",
     "text": [
      "default\n"
     ]
    }
   ],
   "source": [
    "keyonly()"
   ]
  },
  {
   "cell_type": "code",
   "execution_count": 12,
   "id": "0ad61aee-56dd-4801-ae76-3b90dc2100d9",
   "metadata": {},
   "outputs": [
    {
     "name": "stdout",
     "output_type": "stream",
     "text": [
      "키워드로만 입력해야 합니다.\n"
     ]
    }
   ],
   "source": [
    "keyonly(keyonly = \"키워드로만 입력해야 합니다.\") # argument에서 키워드 인수 꼴로 작성"
   ]
  },
  {
   "cell_type": "code",
   "execution_count": 13,
   "id": "5c2f8d5c-7655-4774-a3f8-68e1e0157503",
   "metadata": {},
   "outputs": [],
   "source": [
    "def keyonly(*,keyonly):\n",
    "    print(keyonly)"
   ]
  },
  {
   "cell_type": "code",
   "execution_count": 14,
   "id": "d82237b3-485d-4705-b780-55f25e1ef690",
   "metadata": {},
   "outputs": [
    {
     "ename": "TypeError",
     "evalue": "keyonly() takes 0 positional arguments but 1 was given",
     "output_type": "error",
     "traceback": [
      "\u001b[1;31m---------------------------------------------------------------------------\u001b[0m",
      "\u001b[1;31mTypeError\u001b[0m                                 Traceback (most recent call last)",
      "\u001b[1;32m~\\AppData\\Local\\Temp\\ipykernel_9540\\37319425.py\u001b[0m in \u001b[0;36m<module>\u001b[1;34m\u001b[0m\n\u001b[1;32m----> 1\u001b[1;33m \u001b[0mkeyonly\u001b[0m\u001b[1;33m(\u001b[0m\u001b[1;34m\"키워드로만 입력해야 합니다.\"\u001b[0m\u001b[1;33m)\u001b[0m\u001b[1;33m\u001b[0m\u001b[1;33m\u001b[0m\u001b[0m\n\u001b[0m\u001b[0;32m      2\u001b[0m \u001b[1;31m# 키워드 인수 자리에 위치 인수가 전달되어서 TypeError 발생\u001b[0m\u001b[1;33m\u001b[0m\u001b[1;33m\u001b[0m\u001b[0m\n",
      "\u001b[1;31mTypeError\u001b[0m: keyonly() takes 0 positional arguments but 1 was given"
     ]
    }
   ],
   "source": [
    "keyonly(\"키워드로만 입력해야 합니다.\")\n",
    "# 키워드 인수 자리에 위치 인수가 전달되어서 TypeError 발생"
   ]
  },
  {
   "cell_type": "code",
   "execution_count": 15,
   "id": "1a8e8880-581e-4422-beb0-f4a5957d5225",
   "metadata": {},
   "outputs": [],
   "source": [
    "# 가변-위치 인자\n",
    "def var_positional(*args): # 가변 변수로 사용할 변수 앞에 *를 \n",
    "                           # 하나 붙이면 가변 위치 인자 사용 가능\n",
    "    print(type(args))\n",
    "    return sum([_ for _ in args])"
   ]
  },
  {
   "cell_type": "code",
   "execution_count": 16,
   "id": "51185e8c-a68e-4c54-ba63-5bcb7ebb32b8",
   "metadata": {},
   "outputs": [
    {
     "name": "stdout",
     "output_type": "stream",
     "text": [
      "<class 'tuple'>\n",
      "15\n"
     ]
    }
   ],
   "source": [
    "print(var_positional(1,2,3,4,5)) # 가변-위치 인자에 전달할 위치 인수들을 tuple로\n",
    "                                 # packing한 뒤 전달한다.\n",
    "                                 # tuple()함수의 반환 결과와 동일함"
   ]
  },
  {
   "cell_type": "code",
   "execution_count": 17,
   "id": "f79a798f-3f81-4cf1-a52e-df6d34dc3182",
   "metadata": {},
   "outputs": [],
   "source": [
    "def var_positional(*args):\n",
    "    print(type(args))\n",
    "    return sum([_ for _ in args])"
   ]
  },
  {
   "cell_type": "code",
   "execution_count": 18,
   "id": "85fb3341-4364-455f-a169-3578a351cc7b",
   "metadata": {},
   "outputs": [
    {
     "name": "stdout",
     "output_type": "stream",
     "text": [
      "<class 'tuple'>\n",
      "0\n"
     ]
    }
   ],
   "source": [
    "print(var_positional()) # 가변-위치 인자에 전달할 인수 없이도 호출 가능하다."
   ]
  },
  {
   "cell_type": "code",
   "execution_count": 19,
   "id": "e8f47d59-d451-44ff-8cbf-a8a2cbef1306",
   "metadata": {},
   "outputs": [],
   "source": [
    "# 가변-키워드 인자\n",
    "def var_keyword(**kargs): # 가변 변수로 사용할 변수 앞에 **를\n",
    "                          # 붙이면 가변-키워드 인자로 사용 가능\n",
    "    print(type(kargs))\n",
    "    return kargs"
   ]
  },
  {
   "cell_type": "code",
   "execution_count": 20,
   "id": "0e486c09-f03e-4be6-99c2-ec5bad2118cf",
   "metadata": {},
   "outputs": [
    {
     "name": "stdout",
     "output_type": "stream",
     "text": [
      "<class 'dict'>\n",
      "{'key': 'value', 'key2': 'value2'}\n"
     ]
    }
   ],
   "source": [
    "print(var_keyword(key = \"value\", key2 = \"value2\")) # 가변-키워드 인자에 전달할 키워드\n",
    "                                                   # 인수들을 dict로 packing한 뒤 전달한다.\n",
    "                                                   # dict()함수의 반환 결과와 동일함"
   ]
  },
  {
   "cell_type": "code",
   "execution_count": 21,
   "id": "246b6235-f286-424e-ac37-549309da28bf",
   "metadata": {},
   "outputs": [],
   "source": [
    "def var_keyword(**kargs):\n",
    "    print(type(kargs))\n",
    "    return kargs"
   ]
  },
  {
   "cell_type": "code",
   "execution_count": 22,
   "id": "23325d99-038e-4537-a969-e5d61fdac8ce",
   "metadata": {},
   "outputs": [
    {
     "name": "stdout",
     "output_type": "stream",
     "text": [
      "<class 'dict'>\n",
      "{}\n"
     ]
    }
   ],
   "source": [
    "print(var_keyword()) # dictionary 형태로 가변-키워드 인수가 전달됨"
   ]
  },
  {
   "cell_type": "code",
   "execution_count": 23,
   "id": "88b5b3fd-f05e-4113-ba30-859377967e51",
   "metadata": {},
   "outputs": [],
   "source": [
    "# 함수에서 return을 만나면 함수 종료(반복문의 break와 비슷함)\n",
    "# 함수 내부의 마지막 값을 반환한다."
   ]
  }
 ],
 "metadata": {
  "kernelspec": {
   "display_name": "Python 3 (ipykernel)",
   "language": "python",
   "name": "python3"
  },
  "language_info": {
   "codemirror_mode": {
    "name": "ipython",
    "version": 3
   },
   "file_extension": ".py",
   "mimetype": "text/x-python",
   "name": "python",
   "nbconvert_exporter": "python",
   "pygments_lexer": "ipython3",
   "version": "3.9.13"
  }
 },
 "nbformat": 4,
 "nbformat_minor": 5
}

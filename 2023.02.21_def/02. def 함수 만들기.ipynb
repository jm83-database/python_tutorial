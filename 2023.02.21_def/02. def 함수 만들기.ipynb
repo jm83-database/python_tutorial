{
 "cells": [
  {
   "cell_type": "code",
   "execution_count": 1,
   "id": "27ed13eb-5eff-4b8c-ac3f-aa992daa7d37",
   "metadata": {},
   "outputs": [],
   "source": [
    "# x = 함수명(인수, 인수, ...) ← 여기서 인수를 argument으로 지칭\n",
    "# argument가 parameter로 전달\n",
    "\n",
    "# print(\"결과 값:\", x)\n",
    "\n",
    "\n",
    "# 함수 정의부\n",
    "# def 함수명(인자, 인자,...): ← 여기서 인자는 parameter\n",
    "#     함수코드\n",
    "#     return 반환값\n"
   ]
  },
  {
   "cell_type": "code",
   "execution_count": 2,
   "id": "68713b18-c5b5-4716-a31a-4fbc168c62dd",
   "metadata": {},
   "outputs": [],
   "source": [
    "# 함수는 클래스에 포함되지 않은 채로 사용된다.\n",
    "# 함수명((인수1), (인수2),...)\n",
    "\n",
    "# 메서드는 클래스에 포함되어 객체를 통해 호출\n",
    "# 객체.메서드명((인수1), (인수2), ...)"
   ]
  },
  {
   "cell_type": "code",
   "execution_count": 3,
   "id": "07d2a138-50eb-46d5-aa33-88b364a74fdb",
   "metadata": {},
   "outputs": [],
   "source": [
    "# 함수는 코드창 가장 좌측에 붙어서 def 생성\n",
    "# 클래스는 class 내부에서 indent 한 뒤에 def를 통해 생성"
   ]
  },
  {
   "cell_type": "code",
   "execution_count": 4,
   "id": "a813292e-0e09-4fb3-a611-ea8c1faabcbb",
   "metadata": {},
   "outputs": [],
   "source": [
    "# 함수 정의부의 형태\n",
    "# def 함수_이름(위치_인자, 위치_인자2, *가변_위치, 키워드_인자, 키워드_인자2, **가변_키워드):\n",
    "#     \"\"\"\n",
    "#     Doc String을 적는 곳입니다.       ← 함수 상단부에 적는 string 이름이 Dog string이라고 함\n",
    "#                                        포트폴리오 작성시 Dog string 작성 권장\n",
    "#     작성자 : 최진명\n",
    "#     작성일자: 2022.02.21\n",
    "\n",
    "#     \"\"\"\n",
    "\n",
    "#    함수의 바디\n",
    "#    함수의 바디\n",
    "\n",
    "#    return 반환값"
   ]
  },
  {
   "cell_type": "code",
   "execution_count": 5,
   "id": "6a9aca2c-7fca-439e-a8ff-a720ca6441b4",
   "metadata": {},
   "outputs": [],
   "source": [
    "# print(dd, dd, dd, d, sep = \",\", end=\"\\t\") ← print가 대표적인 함수"
   ]
  },
  {
   "cell_type": "code",
   "execution_count": 6,
   "id": "f0f1508e-2175-4ae4-b6fa-19c5758c06d3",
   "metadata": {},
   "outputs": [],
   "source": [
    "def print_ten():\n",
    "    \"\"\"print(\"hello\")를 열번 출력합니다.\"\"\"\n",
    "    for _ in range(10):\n",
    "        print(\"hello\")"
   ]
  },
  {
   "cell_type": "code",
   "execution_count": 7,
   "id": "6125a316-eb06-48fa-8959-19eda8e8c886",
   "metadata": {},
   "outputs": [
    {
     "name": "stdout",
     "output_type": "stream",
     "text": [
      "hello\n",
      "hello\n",
      "hello\n",
      "hello\n",
      "hello\n",
      "hello\n",
      "hello\n",
      "hello\n",
      "hello\n",
      "hello\n"
     ]
    }
   ],
   "source": [
    "print_ten()"
   ]
  },
  {
   "cell_type": "code",
   "execution_count": 8,
   "id": "fd66e7d8-761f-4ec5-bed5-1152ddea84c3",
   "metadata": {},
   "outputs": [
    {
     "name": "stdout",
     "output_type": "stream",
     "text": [
      "print(\"hello\")를 열번 출력합니다.\n"
     ]
    }
   ],
   "source": [
    "print(print_ten.__doc__) # Dog string 강제 출력 (UnderbarUnderbar|doc|UnderbarUnderbar __doc__형태로 작성)"
   ]
  },
  {
   "cell_type": "code",
   "execution_count": 9,
   "id": "74d19786-cd5f-474f-afa2-ce180ca61820",
   "metadata": {},
   "outputs": [
    {
     "name": "stdout",
     "output_type": "stream",
     "text": [
      "print(value, ..., sep=' ', end='\\n', file=sys.stdout, flush=False)\n",
      "\n",
      "Prints the values to a stream, or to sys.stdout by default.\n",
      "Optional keyword arguments:\n",
      "file:  a file-like object (stream); defaults to the current sys.stdout.\n",
      "sep:   string inserted between values, default a space.\n",
      "end:   string appended after the last value, default a newline.\n",
      "flush: whether to forcibly flush the stream.\n"
     ]
    }
   ],
   "source": [
    "print(print.__doc__)"
   ]
  },
  {
   "cell_type": "code",
   "execution_count": 10,
   "id": "aecf124f-fa96-4e96-842b-3b25ba4cc2cc",
   "metadata": {},
   "outputs": [],
   "source": [
    "def print_ten(some_str):\n",
    "    \"\"\"print(\"hello\")를 열번 출력합니다.\"\"\"\n",
    "    for _ in range(10):\n",
    "        print(\"hello\")"
   ]
  },
  {
   "cell_type": "code",
   "execution_count": 11,
   "id": "e0725515-fff1-4b8d-b774-680bc9cd694b",
   "metadata": {},
   "outputs": [
    {
     "name": "stdout",
     "output_type": "stream",
     "text": [
      "hello\n",
      "hello\n",
      "hello\n",
      "hello\n",
      "hello\n",
      "hello\n",
      "hello\n",
      "hello\n",
      "hello\n",
      "hello\n"
     ]
    }
   ],
   "source": [
    "print_ten(\"문자열\")"
   ]
  },
  {
   "cell_type": "code",
   "execution_count": 12,
   "id": "d1dcb6c0-8476-4a28-aa35-3e0bc7b5e2db",
   "metadata": {},
   "outputs": [],
   "source": [
    "def print_ten(some_str):\n",
    "    \"\"\"print(\"some_str\")를 열번 출력합니다.\"\"\"\n",
    "    for _ in range(10):\n",
    "        print(some_str)"
   ]
  },
  {
   "cell_type": "code",
   "execution_count": 13,
   "id": "90db5baf-1ada-42d8-ad95-38d20561a10d",
   "metadata": {},
   "outputs": [
    {
     "name": "stdout",
     "output_type": "stream",
     "text": [
      "문자열\n",
      "문자열\n",
      "문자열\n",
      "문자열\n",
      "문자열\n",
      "문자열\n",
      "문자열\n",
      "문자열\n",
      "문자열\n",
      "문자열\n"
     ]
    }
   ],
   "source": [
    "print_ten(\"문자열\")"
   ]
  },
  {
   "cell_type": "code",
   "execution_count": 14,
   "id": "5e942824-ecf4-443e-8be8-eea814301636",
   "metadata": {},
   "outputs": [],
   "source": [
    "# 인자 - parameter\n",
    "# 함수(또는 메서드) 정의에서 함수가 받을 수 있는 변수\n",
    "# 함수인자 혹은 매개변수라고 부른다.\n",
    "# 인자는 함수 정의절에서 소괄호 안에 정의 def 함수이름(인자1,인자2, ...)\n",
    "\n",
    "# 위치-키워드(positional or keyword): 위치로 혹은 키워드로 전달될 수 있는 인자\n",
    "#                                    매개변수의 기본 형태\n",
    "# 위치 전용(positional_only) : / 문자를 기준으로 좌측에 위차한 인자\n",
    "#                           print(d, dd, ddd, /, ) ← / 좌측이 다 위치 전용\n",
    "# 키워드 전용(keyword_only) : * 문자를 기준으로 우측에 위치한 인자\n",
    "#                           print(d, dd, ddd, *, sep=, end=) ← * 우측이 다 키워드 전용\n",
    "# 가변 위치(var positional) : 위치 매개변수 외에 추가적인 위치 매개변수를 개수에 상관없이 받을 수 있다.\n",
    "#                            변수명 앞에 *를 1개 붙여 표기\n",
    "#               가변 위치에 패킹을 해서 변환 print(*args)\n",
    "# 가변 키워드(var keyword) : 키워드 매개변수 외에 추가적인 키워드 매개변수를 개수에 상관없이 받을 수 있다.\n",
    "#                           변수명 앞에 **를 2개 붙여 표기\n",
    "#               가변 키워드 위치에 패킹을 해서 변환 print(d, dd, **kargs)"
   ]
  },
  {
   "cell_type": "code",
   "execution_count": 15,
   "id": "9cf99bbe-f32b-4a65-a627-9fc81b4af927",
   "metadata": {},
   "outputs": [],
   "source": [
    "# Parameters는 함수 정의절에서 사용하는 이름\n",
    "# Arguments는 함수 호출할 때 함수에 전달하는 실제 값\n",
    "\n",
    "# 따라서 Parameters는 어떤 종류의 Arguments를 받을지 정의한다."
   ]
  },
  {
   "cell_type": "code",
   "execution_count": 16,
   "id": "7c896653-de5b-4ec9-8aeb-fbfec690b1db",
   "metadata": {},
   "outputs": [],
   "source": [
    "def greeting(name, age): # 함수 정의절에 위치한 Parameters\n",
    "    print(f\"{name} 씨 안녕하세요, 약 {age*365.25} 일 되었습니다.\")"
   ]
  },
  {
   "cell_type": "code",
   "execution_count": 17,
   "id": "dba9d61d-2610-45c9-a1fb-da2e994eec26",
   "metadata": {},
   "outputs": [
    {
     "name": "stdout",
     "output_type": "stream",
     "text": [
      "파이썬 씨 안녕하세요, 약 11688.0 일 되었습니다.\n"
     ]
    }
   ],
   "source": [
    "greeting(\"파이썬\", 32) # 함수 호출부에 위치한 Arguments"
   ]
  },
  {
   "cell_type": "code",
   "execution_count": null,
   "id": "72ff6686-2928-448c-81b1-9fabe796cec9",
   "metadata": {},
   "outputs": [],
   "source": []
  }
 ],
 "metadata": {
  "kernelspec": {
   "display_name": "Python 3 (ipykernel)",
   "language": "python",
   "name": "python3"
  },
  "language_info": {
   "codemirror_mode": {
    "name": "ipython",
    "version": 3
   },
   "file_extension": ".py",
   "mimetype": "text/x-python",
   "name": "python",
   "nbconvert_exporter": "python",
   "pygments_lexer": "ipython3",
   "version": "3.9.13"
  }
 },
 "nbformat": 4,
 "nbformat_minor": 5
}

{
 "cells": [
  {
   "cell_type": "code",
   "execution_count": 1,
   "id": "06a540ad-cc17-49a6-b734-7f3a96acf54b",
   "metadata": {},
   "outputs": [],
   "source": [
    "# 전역변수(global variable)\n",
    "# 변수를 스크립트 전체에서 접근 가능하다.\n",
    "\n",
    "global_variable = \"This is global world.\" # 전역 변수 선언"
   ]
  },
  {
   "cell_type": "code",
   "execution_count": 2,
   "id": "e1462e2b-4ca7-4ada-9ac5-f8d618ee350c",
   "metadata": {},
   "outputs": [
    {
     "ename": "NameError",
     "evalue": "name 'my_variable' is not defined",
     "output_type": "error",
     "traceback": [
      "\u001b[1;31m---------------------------------------------------------------------------\u001b[0m",
      "\u001b[1;31mNameError\u001b[0m                                 Traceback (most recent call last)",
      "\u001b[1;32m~\\AppData\\Local\\Temp\\ipykernel_8992\\3104037497.py\u001b[0m in \u001b[0;36m<module>\u001b[1;34m\u001b[0m\n\u001b[0;32m      3\u001b[0m     \u001b[0mmy_variable\u001b[0m \u001b[1;33m=\u001b[0m \u001b[1;34m\"This is my little world.\"\u001b[0m \u001b[1;31m# 지역 변수 선언\u001b[0m\u001b[1;33m\u001b[0m\u001b[1;33m\u001b[0m\u001b[0m\n\u001b[0;32m      4\u001b[0m \u001b[1;33m\u001b[0m\u001b[0m\n\u001b[1;32m----> 5\u001b[1;33m \u001b[0mprint\u001b[0m\u001b[1;33m(\u001b[0m\u001b[0mmy_variable\u001b[0m\u001b[1;33m)\u001b[0m \u001b[1;31m# my_variable은 my_little_world 함수\u001b[0m\u001b[1;33m\u001b[0m\u001b[1;33m\u001b[0m\u001b[0m\n\u001b[0m\u001b[0;32m      6\u001b[0m                    \u001b[1;31m# 내부에서만 존재하므로 에러 발생\u001b[0m\u001b[1;33m\u001b[0m\u001b[1;33m\u001b[0m\u001b[0m\n",
      "\u001b[1;31mNameError\u001b[0m: name 'my_variable' is not defined"
     ]
    }
   ],
   "source": [
    "# 지역변수(local variable)\n",
    "def my_little_world():\n",
    "    my_variable = \"This is my little world.\" # 지역 변수 선언\n",
    "    \n",
    "print(my_variable) # my_variable은 my_little_world 함수 \n",
    "                   # 내부에서만 존재하므로 에러 발생"
   ]
  },
  {
   "cell_type": "code",
   "execution_count": 3,
   "id": "062cee73-c666-4e6f-99cc-7d101b740f71",
   "metadata": {},
   "outputs": [
    {
     "name": "stdout",
     "output_type": "stream",
     "text": [
      "중요한 것은 꺽이지 않는 마음\n"
     ]
    }
   ],
   "source": [
    "# 지역 범위에서 전역 변수 할당하기 \n",
    "important_is_an_unbroken_heart = \"중요한 것은 꺽이지 않는 마음\"\n",
    "\n",
    "def trials_and_tribulations():\n",
    "    important_is_an_unbroken_heart = \"흔들흔들\" # python은 동일한 이름이더라도 범위가 다르다면 다른 객체이다.\n",
    "                                               # 여기에서는 아무 영향 없는 함수가 된다.\n",
    "\n",
    "trials_and_tribulations()\n",
    "print(important_is_an_unbroken_heart)"
   ]
  },
  {
   "cell_type": "code",
   "execution_count": 4,
   "id": "4274690f-4f67-4fbc-8373-c26ab148f4da",
   "metadata": {},
   "outputs": [
    {
     "name": "stdout",
     "output_type": "stream",
     "text": [
      "global 키워드 활용해서 변경 완료\n"
     ]
    }
   ],
   "source": [
    "global_variable = \"변경이 됩니까?\"\n",
    "\n",
    "def heartbreaker():\n",
    "    global global_variable # global 키워드를 활용하여 전역 변수를 사용하겠다고 설정\n",
    "    global_variable = \"global 키워드 활용해서 변경 완료\"\n",
    "    \n",
    "heartbreaker()\n",
    "print(global_variable)"
   ]
  },
  {
   "cell_type": "code",
   "execution_count": 5,
   "id": "61baf676-fb5d-46d4-a864-6d896e5e1595",
   "metadata": {},
   "outputs": [
    {
     "name": "stdout",
     "output_type": "stream",
     "text": [
      "This is level 1.\n"
     ]
    }
   ],
   "source": [
    "# 함수 중첩\n",
    "def level1():\n",
    "    message = \"This is level 1.\"\n",
    "    def level2():\n",
    "        print(message)\n",
    "    level2() # message 변수에 접근할 수 있는 범위\n",
    "\n",
    "level1()"
   ]
  },
  {
   "cell_type": "code",
   "execution_count": 6,
   "id": "c8d42baf-71d4-4a9d-8c40-21abd2d0751d",
   "metadata": {},
   "outputs": [
    {
     "name": "stdout",
     "output_type": "stream",
     "text": [
      "This is level1.\n"
     ]
    }
   ],
   "source": [
    "def level1():\n",
    "    message = \"This is level1.\"\n",
    "    def level2():\n",
    "        message = \"Level2 is better than level1.\" # 내부 함수에서만 작동하므로 밖으로 적용이 안 된다.(local)\n",
    "    level2()\n",
    "    print(message)\n",
    "\n",
    "level1()"
   ]
  },
  {
   "cell_type": "code",
   "execution_count": 7,
   "id": "591b70b4-5179-4019-ad36-56ab5893dec3",
   "metadata": {},
   "outputs": [
    {
     "name": "stdout",
     "output_type": "stream",
     "text": [
      "Level2 is better than level1.\n"
     ]
    }
   ],
   "source": [
    "def level1():\n",
    "    message = \"This is level1.\"\n",
    "    def level2():\n",
    "        nonlocal message # nonlocal 키워드를 통해 바깥 영역의 변수를 사용하겠다고 설정\n",
    "        message = \"Level2 is better than level1.\"\n",
    "    level2()\n",
    "    print(message)\n",
    "\n",
    "level1()"
   ]
  },
  {
   "cell_type": "code",
   "execution_count": 8,
   "id": "66e9016c-4496-40a9-8b3c-205240a1c756",
   "metadata": {},
   "outputs": [],
   "source": [
    "# global 키워드는 함수의 중첩된 정도와 상관없이 전역 범위 변수를 매칭\n",
    "\n",
    "# 중첩된 함수마다 같은 이름의 변수가 있다면 nonlocal 키워드는 제일 가까운 바깥쪽 변수를 매칭\n",
    "\n",
    "# 가급적이면 함수마다 이름이 같은 변수를 사용하기보다 다른 변수를 사용하는 것이 좋다."
   ]
  }
 ],
 "metadata": {
  "kernelspec": {
   "display_name": "Python 3 (ipykernel)",
   "language": "python",
   "name": "python3"
  },
  "language_info": {
   "codemirror_mode": {
    "name": "ipython",
    "version": 3
   },
   "file_extension": ".py",
   "mimetype": "text/x-python",
   "name": "python",
   "nbconvert_exporter": "python",
   "pygments_lexer": "ipython3",
   "version": "3.9.13"
  }
 },
 "nbformat": 4,
 "nbformat_minor": 5
}

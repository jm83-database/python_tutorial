{
 "cells": [
  {
   "cell_type": "code",
   "execution_count": 1,
   "id": "a1c339e2-1284-485b-a46e-34a2ffa82eb4",
   "metadata": {},
   "outputs": [],
   "source": [
    "# 클래스를 쓰는 이유\n",
    "\n",
    "# 객체지향 프로그래밍은 복잡한 문제를 잘게 나누어 객체로 만들고, 객체를 조합해서 문제 해결\n",
    "\n",
    "# 현실 세계의 복잡한 문제를 처리하는데 유용하며 기능을 개선하고 발전시킬 때도 해당 클래스만\n",
    "# 수정하면 되므로 큰 프로젝트의 유지보수에도 매우 효율적이다.\n",
    "\n",
    "# 객체가 가진 데이터를 클래스의 속성(Attribute)이라 부르고 객체가 갖는 기능을\n",
    "# 메서드(Method)라고 부른다."
   ]
  },
  {
   "cell_type": "code",
   "execution_count": null,
   "id": "6fa08c51-ce4f-46e5-8bb4-8bfe574d4507",
   "metadata": {},
   "outputs": [],
   "source": []
  }
 ],
 "metadata": {
  "kernelspec": {
   "display_name": "Python 3 (ipykernel)",
   "language": "python",
   "name": "python3"
  },
  "language_info": {
   "codemirror_mode": {
    "name": "ipython",
    "version": 3
   },
   "file_extension": ".py",
   "mimetype": "text/x-python",
   "name": "python",
   "nbconvert_exporter": "python",
   "pygments_lexer": "ipython3",
   "version": "3.9.13"
  }
 },
 "nbformat": 4,
 "nbformat_minor": 5
}

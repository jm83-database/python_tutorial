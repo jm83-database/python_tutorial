{
 "cells": [
  {
   "cell_type": "code",
   "execution_count": 21,
   "id": "5fc90b45-0e22-4080-91e2-fbc3041e7a66",
   "metadata": {},
   "outputs": [],
   "source": [
    "#인덱스"
   ]
  },
  {
   "cell_type": "code",
   "execution_count": 2,
   "id": "586b6206-6208-493d-b1f8-08dace3b72ad",
   "metadata": {},
   "outputs": [
    {
     "name": "stdout",
     "output_type": "stream",
     "text": [
      "P\n",
      "n\n",
      "n\n",
      "P\n"
     ]
    }
   ],
   "source": [
    "word = 'Python'\n",
    "# 인덱스는 0부터 시작한다.\n",
    "print(word[0])\n",
    "print(word[5])\n",
    "# 음수는 뒤에서부터 시작한다.\n",
    "print(word[-1])\n",
    "print(word[-6])"
   ]
  },
  {
   "cell_type": "code",
   "execution_count": 3,
   "id": "3928f56c-f79e-41bd-a3ba-1decf6300c59",
   "metadata": {},
   "outputs": [],
   "source": [
    "# 각 시퀀스 자료별로 인덱스가 증감하는 방식\n",
    "# str 타입\n",
    "w1 ='Python'\n",
    "# 0,1,2,3,...\n",
    "# -1,-2,-3,...\n",
    "\n",
    "# list 타입\n",
    "w2 = [0,80, 24, 55, 7 , 3, 55, 7, 3]\n",
    "# 0,1,2,3,...\n",
    "# -1,-2,-3,...\n",
    "\n",
    "# tuple 타입\n",
    "w3 = (32, 20, 21, 72, 36, 47, 21, 72)\n",
    "# 0,1,2,3,...\n",
    "# -1,-2,-3,...\n",
    "\n",
    "# range 타입\n",
    "w4 = range(6)\n",
    "# 0,1,2,3,...\n",
    "# -1,-2,-3,..."
   ]
  },
  {
   "cell_type": "code",
   "execution_count": 6,
   "id": "a2d1092f-b327-4f25-8535-4772fd91bffd",
   "metadata": {},
   "outputs": [
    {
     "name": "stdout",
     "output_type": "stream",
     "text": [
      "꺾\n"
     ]
    }
   ],
   "source": [
    "sentence = \"중요한 것은 꺾이지 않는 마음\"\n",
    "print(sentence[7])"
   ]
  },
  {
   "cell_type": "code",
   "execution_count": null,
   "id": "1690dfde-391b-406a-a783-78453e7182fd",
   "metadata": {
    "tags": []
   },
   "outputs": [],
   "source": [
    "#슬라이싱"
   ]
  },
  {
   "cell_type": "code",
   "execution_count": 9,
   "id": "dd2865e9-e41c-45f5-a9d5-be5caf5701d5",
   "metadata": {},
   "outputs": [
    {
     "name": "stdout",
     "output_type": "stream",
     "text": [
      "Py\n",
      "Py\n",
      "Py\n",
      "on\n",
      "on\n",
      "on\n",
      "yt\n",
      "yt\n"
     ]
    }
   ],
   "source": [
    "# word = 'Python'\n",
    "print(word[0:2]) #시작 인덱스:끝 인덱스 형태이다.\n",
    "# 위 예제는 0이상 2 미만이다.\n",
    "print(word[:2]) # 범위 시작 인덱스를 안 쓰면 처음부터 불러온다.\n",
    "print(word[:-4])\n",
    "print(word[4:6]) # 슬라이싱은 범위가 초과하더라도 범용적으로 허용한다.\n",
    "print(word[4:]) # 범위 끝 인덱스를 안 쓰면 시작점부터 끝까지 불러온다.\n",
    "print(word[-2:])\n",
    "print(word[1:3])\n",
    "print(word[-5:-3])"
   ]
  },
  {
   "cell_type": "code",
   "execution_count": 15,
   "id": "b95bb32e-01c1-41ed-b7db-fdde91498d04",
   "metadata": {},
   "outputs": [
    {
     "name": "stdout",
     "output_type": "stream",
     "text": [
      "Pto\n",
      "Pyt\n",
      "noh\n"
     ]
    }
   ],
   "source": [
    "print(word[::2]) # 옆 예제는 인덱스가 범위가 지정되지 않고 증감 크기만 존재해서 인덱스가 2씩 증가하는 값만 출력한다.\n",
    "# [시작 숫자(이상):끝 숫자(미만):증감크기)\n",
    "print(word[0:3:]) # 증감 크기가 1일 때 생략 가능하다.\n",
    "\n",
    "print(word[-1:-4:-1])"
   ]
  },
  {
   "cell_type": "code",
   "execution_count": 34,
   "id": "ec83f9b1-da54-43eb-8720-de54e55562c5",
   "metadata": {},
   "outputs": [
    {
     "name": "stdout",
     "output_type": "stream",
     "text": [
      "중요한 것은 꺾이지 않는 마음\n",
      "한 것은 꺾이지 않는 마음\n"
     ]
    }
   ],
   "source": [
    "#sentence = \"중요한 것은 꺾이지 않는 마음\"\n",
    "print(sentence[:42])\n",
    "print(sentence[2:42])"
   ]
  },
  {
   "cell_type": "code",
   "execution_count": 22,
   "id": "f849aab3-5ad1-47e3-86ef-e46851a1d9b2",
   "metadata": {},
   "outputs": [
    {
     "name": "stdout",
     "output_type": "stream",
     "text": [
      "꺾이지 않는 마음\n"
     ]
    }
   ],
   "source": [
    "print(sentence[7:])"
   ]
  },
  {
   "cell_type": "code",
   "execution_count": 33,
   "id": "bab418de-5b3c-4dfd-bd29-79c24a03da69",
   "metadata": {},
   "outputs": [
    {
     "name": "stdout",
     "output_type": "stream",
     "text": [
      "한요중\n",
      "한요중\n",
      "한요중\n"
     ]
    }
   ],
   "source": [
    "print(sentence[-14::-1])\n",
    "print(sentence[2::-1])\n",
    "print(sentence[:3][::-1])"
   ]
  },
  {
   "cell_type": "code",
   "execution_count": 27,
   "id": "d1c37b51-ad85-4ab4-9e50-95246818ab9d",
   "metadata": {},
   "outputs": [
    {
     "name": "stdout",
     "output_type": "stream",
     "text": [
      "것 한\n"
     ]
    }
   ],
   "source": [
    "print(sentence[4:1:-1])"
   ]
  }
 ],
 "metadata": {
  "kernelspec": {
   "display_name": "Python 3 (ipykernel)",
   "language": "python",
   "name": "python3"
  },
  "language_info": {
   "codemirror_mode": {
    "name": "ipython",
    "version": 3
   },
   "file_extension": ".py",
   "mimetype": "text/x-python",
   "name": "python",
   "nbconvert_exporter": "python",
   "pygments_lexer": "ipython3",
   "version": "3.9.13"
  }
 },
 "nbformat": 4,
 "nbformat_minor": 5
}

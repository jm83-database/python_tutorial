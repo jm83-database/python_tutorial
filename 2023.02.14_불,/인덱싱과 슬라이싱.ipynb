{
 "cells": [
  {
   "cell_type": "code",
   "execution_count": null,
   "id": "5fc90b45-0e22-4080-91e2-fbc3041e7a66",
   "metadata": {},
   "outputs": [],
   "source": [
    "#인덱스"
   ]
  },
  {
   "cell_type": "code",
   "execution_count": null,
   "id": "586b6206-6208-493d-b1f8-08dace3b72ad",
   "metadata": {},
   "outputs": [],
   "source": []
  },
  {
   "cell_type": "code",
   "execution_count": null,
   "id": "1690dfde-391b-406a-a783-78453e7182fd",
   "metadata": {},
   "outputs": [],
   "source": [
    "#슬라이싱"
   ]
  }
 ],
 "metadata": {
  "kernelspec": {
   "display_name": "Python 3 (ipykernel)",
   "language": "python",
   "name": "python3"
  },
  "language_info": {
   "codemirror_mode": {
    "name": "ipython",
    "version": 3
   },
   "file_extension": ".py",
   "mimetype": "text/x-python",
   "name": "python",
   "nbconvert_exporter": "python",
   "pygments_lexer": "ipython3",
   "version": "3.9.13"
  }
 },
 "nbformat": 4,
 "nbformat_minor": 5
}

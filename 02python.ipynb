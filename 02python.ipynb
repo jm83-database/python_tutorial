{
 "cells": [
  {
   "cell_type": "code",
   "execution_count": 3,
   "id": "4a226514-b3db-48ba-80e8-058acdaea9b2",
   "metadata": {},
   "outputs": [],
   "source": [
    "# 주석 사용하기\n",
    "x = 1 #여기서 =(등호) 기호는 수학의 같다는 의미와는 다르다.\n",
    "      # ... 우측 변의 리터럴은 좌측 변의 변수에 대입한다는 의미다.\n",
    "\n",
    "text = \"# 이것은 주석이 아닙니다. 따옴표 안은 리터럴(값)합니다.\""
   ]
  },
  {
   "cell_type": "code",
   "execution_count": 8,
   "id": "a04b2b52-ad63-4685-89e1-3c8da6e573c6",
   "metadata": {},
   "outputs": [
    {
     "name": "stdout",
     "output_type": "stream",
     "text": [
      "1\n"
     ]
    }
   ],
   "source": [
    "print(x)"
   ]
  },
  {
   "cell_type": "code",
   "execution_count": 9,
   "id": "12fe0008-1ce1-42d7-a522-943fab09703f",
   "metadata": {},
   "outputs": [
    {
     "name": "stdout",
     "output_type": "stream",
     "text": [
      "# 이것은 주석이 아닙니다. 따옴표 안은 리터럴(값)합니다.\n"
     ]
    }
   ],
   "source": [
    "print(text)"
   ]
  },
  {
   "cell_type": "code",
   "execution_count": 10,
   "id": "b3485054-0579-4168-bb63-87ff7cf14b97",
   "metadata": {},
   "outputs": [
    {
     "name": "stdout",
     "output_type": "stream",
     "text": [
      "Hello, world!\n",
      "Hello, world!\n",
      "Python Programming\n"
     ]
    }
   ],
   "source": [
    "print(\"Hello, world!\")\n",
    "print(\"Hello, world!\")\n",
    "print(\"Python Programming\")"
   ]
  },
  {
   "cell_type": "code",
   "execution_count": 14,
   "id": "6460b49c-0d16-4312-b212-62ba0996b7b8",
   "metadata": {},
   "outputs": [
    {
     "name": "stdout",
     "output_type": "stream",
     "text": [
      "Hello, world!\n",
      "Hello, world!\n",
      "Python Programming\n"
     ]
    }
   ],
   "source": [
    "print(\"Hello, world!\\nHello, world!\\nPython Programming\")"
   ]
  },
  {
   "cell_type": "code",
   "execution_count": 18,
   "id": "67d6baa9-0f07-470e-b294-056a81e7985a",
   "metadata": {},
   "outputs": [
    {
     "data": {
      "text/plain": [
       "89"
      ]
     },
     "execution_count": 18,
     "metadata": {},
     "output_type": "execute_result"
    }
   ],
   "source": [
    "13+(22-3)*4"
   ]
  },
  {
   "cell_type": "code",
   "execution_count": 19,
   "id": "f892a4bb-c64c-4df3-a77d-d26f62b2e196",
   "metadata": {},
   "outputs": [
    {
     "data": {
      "text/plain": [
       "28.2"
      ]
     },
     "execution_count": 19,
     "metadata": {},
     "output_type": "execute_result"
    }
   ],
   "source": [
    "13+((22-3)*4)/5"
   ]
  },
  {
   "cell_type": "code",
   "execution_count": 21,
   "id": "800f65c7-cee9-43fe-82a4-6e4ad614a17a",
   "metadata": {},
   "outputs": [],
   "source": [
    "a = complex(3,-4)"
   ]
  },
  {
   "cell_type": "code",
   "execution_count": 22,
   "id": "f4aebff4-c216-428e-8d94-b697441b978b",
   "metadata": {},
   "outputs": [
    {
     "data": {
      "text/plain": [
       "3.0"
      ]
     },
     "execution_count": 22,
     "metadata": {},
     "output_type": "execute_result"
    }
   ],
   "source": [
    "a.real"
   ]
  },
  {
   "cell_type": "code",
   "execution_count": 31,
   "id": "9534fefa-b89a-4b16-b28a-548e5cf09be8",
   "metadata": {},
   "outputs": [
    {
     "data": {
      "text/plain": [
       "-4.0"
      ]
     },
     "execution_count": 31,
     "metadata": {},
     "output_type": "execute_result"
    }
   ],
   "source": [
    "a.imag"
   ]
  },
  {
   "cell_type": "code",
   "execution_count": 35,
   "id": "ad97dc4a-88ff-4776-9353-6d98866b4baf",
   "metadata": {},
   "outputs": [
    {
     "data": {
      "text/plain": [
       "104"
      ]
     },
     "execution_count": 35,
     "metadata": {},
     "output_type": "execute_result"
    }
   ],
   "source": [
    "int('104')"
   ]
  },
  {
   "cell_type": "code",
   "execution_count": 37,
   "id": "7beda754-4c56-49e8-90bd-5009200352f8",
   "metadata": {},
   "outputs": [
    {
     "data": {
      "text/plain": [
       "3.0"
      ]
     },
     "execution_count": 37,
     "metadata": {},
     "output_type": "execute_result"
    }
   ],
   "source": [
    "float(3)"
   ]
  },
  {
   "cell_type": "code",
   "execution_count": null,
   "id": "a0415e89-d797-43ad-b32b-74eb0792c7b5",
   "metadata": {},
   "outputs": [
    {
     "data": {
      "text/plain": [
       "16.0"
      ]
     },
     "execution_count": 38,
     "metadata": {},
     "output_type": "execute_result"
    }
   ],
   "source": [
    "float(4*4)"
   ]
  },
  {
   "cell_type": "code",
   "execution_count": null,
   "id": "d0546d8f-8625-405f-903d-44940216966a",
   "metadata": {},
   "outputs": [
    {
     "data": {
      "text/plain": [
       "3.14"
      ]
     },
     "execution_count": 42,
     "metadata": {},
     "output_type": "execute_result"
    }
   ],
   "source": [
    "float('3.14')"
   ]
  },
  {
   "cell_type": "code",
   "execution_count": 48,
   "id": "95506007-6b3f-4b52-81ee-1d50a73e28c7",
   "metadata": {},
   "outputs": [
    {
     "name": "stdout",
     "output_type": "stream",
     "text": [
      "7\n"
     ]
    }
   ],
   "source": [
    "Z = 12\n",
    "T = 0.2467*Z + 4.159\n",
    "print(int(T))"
   ]
  },
  {
   "cell_type": "code",
   "execution_count": 53,
   "id": "ae1ab50b-6f70-4c25-8623-f2bd7c53fe2e",
   "metadata": {},
   "outputs": [
    {
     "name": "stdout",
     "output_type": "stream",
     "text": [
      "가장 시끄러운 층은 = 7 층입니다.\n"
     ]
    }
   ],
   "source": [
    "print(\"가장 시끄러운 층은 =\", int(T), \"층입니다.\")"
   ]
  },
  {
   "cell_type": "code",
   "execution_count": 58,
   "id": "96e305f9-4952-4f8d-984f-8ab4129bcb88",
   "metadata": {},
   "outputs": [
    {
     "name": "stdin",
     "output_type": "stream",
     "text": [
      "숫자를 입력하세요: 5\n"
     ]
    },
    {
     "name": "stdout",
     "output_type": "stream",
     "text": [
      "5\n"
     ]
    }
   ],
   "source": [
    "Y = input(\"숫자를 입력하세요:\")\n",
    "U = 0.2467*int(Y) + 4.159\n",
    "print(int(U))"
   ]
  },
  {
   "cell_type": "code",
   "execution_count": 60,
   "id": "fc2a1946-ac80-48cb-be7e-020a6ff01bd1",
   "metadata": {},
   "outputs": [
    {
     "name": "stdout",
     "output_type": "stream",
     "text": [
      "냉장고 가격은 1272000 원 입니다.\n"
     ]
    }
   ],
   "source": [
    "Q = 53000*24\n",
    "print(\"냉장고 가격은\", Q, \"원 입니다.\")"
   ]
  },
  {
   "cell_type": "code",
   "execution_count": 64,
   "id": "0a25ee4a-c255-42c3-8115-90b1f4c519a6",
   "metadata": {},
   "outputs": [
    {
     "name": "stdout",
     "output_type": "stream",
     "text": [
      "총 지불 해야 할 금액은 16500000 원 입니다.\n"
     ]
    }
   ],
   "source": [
    "people = 250\n",
    "cost = 20000*3*people\n",
    "tax = cost*0.1\n",
    "total = int(cost+tax)\n",
    "print(\"총 지불 해야 할 금액은\", total,\"원 입니다.\")"
   ]
  },
  {
   "cell_type": "code",
   "execution_count": 65,
   "id": "8890318a-6ccf-408d-8431-f430ad519af8",
   "metadata": {},
   "outputs": [
    {
     "data": {
      "text/plain": [
       "12345000000.0"
      ]
     },
     "execution_count": 65,
     "metadata": {},
     "output_type": "execute_result"
    }
   ],
   "source": [
    "1.2345e10"
   ]
  },
  {
   "cell_type": "code",
   "execution_count": 66,
   "id": "07ff2b9f-1772-4548-90db-a1170b1d7fd7",
   "metadata": {},
   "outputs": [
    {
     "data": {
      "text/plain": [
       "0.0012345"
      ]
     },
     "execution_count": 66,
     "metadata": {},
     "output_type": "execute_result"
    }
   ],
   "source": [
    "1.2345e-3"
   ]
  },
  {
   "cell_type": "code",
   "execution_count": 67,
   "id": "0b9dacad-6f8e-4dd7-b686-d080901fc36b",
   "metadata": {},
   "outputs": [
    {
     "data": {
      "text/plain": [
       "17"
      ]
     },
     "execution_count": 67,
     "metadata": {},
     "output_type": "execute_result"
    }
   ],
   "source": [
    "0b10001"
   ]
  },
  {
   "cell_type": "code",
   "execution_count": 68,
   "id": "9e9f51ac-e4af-47cf-8464-bfe777c36221",
   "metadata": {},
   "outputs": [
    {
     "data": {
      "text/plain": [
       "'0b10001'"
      ]
     },
     "execution_count": 68,
     "metadata": {},
     "output_type": "execute_result"
    }
   ],
   "source": [
    "bin(17)"
   ]
  },
  {
   "cell_type": "code",
   "execution_count": 70,
   "id": "44fa5154-06a0-45c0-b002-3be145c4b3b8",
   "metadata": {},
   "outputs": [
    {
     "data": {
      "text/plain": [
       "17"
      ]
     },
     "execution_count": 70,
     "metadata": {},
     "output_type": "execute_result"
    }
   ],
   "source": [
    "0o21"
   ]
  },
  {
   "cell_type": "code",
   "execution_count": 71,
   "id": "980a7c31-838a-488a-aa99-b4fb87d2f45b",
   "metadata": {},
   "outputs": [
    {
     "data": {
      "text/plain": [
       "'0o21'"
      ]
     },
     "execution_count": 71,
     "metadata": {},
     "output_type": "execute_result"
    }
   ],
   "source": [
    "oct(17)"
   ]
  }
 ],
 "metadata": {
  "kernelspec": {
   "display_name": "Python 3 (ipykernel)",
   "language": "python",
   "name": "python3"
  },
  "language_info": {
   "codemirror_mode": {
    "name": "ipython",
    "version": 3
   },
   "file_extension": ".py",
   "mimetype": "text/x-python",
   "name": "python",
   "nbconvert_exporter": "python",
   "pygments_lexer": "ipython3",
   "version": "3.9.13"
  }
 },
 "nbformat": 4,
 "nbformat_minor": 5
}

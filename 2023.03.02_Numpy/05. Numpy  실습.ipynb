{
 "cells": [
  {
   "cell_type": "code",
   "execution_count": 1,
   "id": "6c3ccdac-befe-4af4-8676-c25992512bf4",
   "metadata": {},
   "outputs": [],
   "source": [
    "import numpy as np"
   ]
  },
  {
   "cell_type": "code",
   "execution_count": 2,
   "id": "5212f532-4f5e-4d05-9e94-2e8a1c4c7de1",
   "metadata": {},
   "outputs": [
    {
     "data": {
      "text/plain": [
       "array([[10, 20, 30, 40],\n",
       "       [50, 60, 70, 80]])"
      ]
     },
     "execution_count": 2,
     "metadata": {},
     "output_type": "execute_result"
    }
   ],
   "source": [
    "np.array([[10, 20, 30, 40], [50, 60, 70, 80]])"
   ]
  },
  {
   "cell_type": "code",
   "execution_count": 3,
   "id": "741385fb-b334-4f2b-86f0-7d009a59c14c",
   "metadata": {},
   "outputs": [
    {
     "data": {
      "text/plain": [
       "array([[10, 20, 30, 40],\n",
       "       [50, 60, 70, 80]])"
      ]
     },
     "execution_count": 3,
     "metadata": {},
     "output_type": "execute_result"
    }
   ],
   "source": [
    "np.array([[_ for _ in range(10, 41, 10)], \n",
    "          [_ for _ in range(50, 81, 10)]])"
   ]
  },
  {
   "cell_type": "code",
   "execution_count": null,
   "id": "31c89871-e53b-4879-91c9-b93deb394957",
   "metadata": {},
   "outputs": [],
   "source": []
  },
  {
   "cell_type": "code",
   "execution_count": 4,
   "id": "973c3458-525f-47dc-902b-bdaf9a38ec7c",
   "metadata": {},
   "outputs": [],
   "source": [
    "m = np.array([[0, 1, 2, 3, 4],\n",
    "              [5, 6, 7, 8, 9],\n",
    "              [10, 11, 12, 13, 14]])"
   ]
  },
  {
   "cell_type": "code",
   "execution_count": 5,
   "id": "9725c8bb-8b9b-49bc-a300-64e1d71d12f1",
   "metadata": {},
   "outputs": [
    {
     "data": {
      "text/plain": [
       "7"
      ]
     },
     "execution_count": 5,
     "metadata": {},
     "output_type": "execute_result"
    }
   ],
   "source": [
    "m[1,2]"
   ]
  },
  {
   "cell_type": "code",
   "execution_count": 6,
   "id": "469b4c91-0b60-4f87-8555-3be2c4334482",
   "metadata": {},
   "outputs": [
    {
     "data": {
      "text/plain": [
       "14"
      ]
     },
     "execution_count": 6,
     "metadata": {},
     "output_type": "execute_result"
    }
   ],
   "source": [
    "m[2,-1]"
   ]
  },
  {
   "cell_type": "code",
   "execution_count": 7,
   "id": "81771cae-34af-461f-89b6-60da09a6f3f6",
   "metadata": {},
   "outputs": [
    {
     "data": {
      "text/plain": [
       "array([6, 7])"
      ]
     },
     "execution_count": 7,
     "metadata": {},
     "output_type": "execute_result"
    }
   ],
   "source": [
    "m[1, 1:3]"
   ]
  },
  {
   "cell_type": "code",
   "execution_count": 8,
   "id": "958a23bc-ce9b-4730-8918-7c909196dff9",
   "metadata": {},
   "outputs": [
    {
     "data": {
      "text/plain": [
       "array([ 7, 12])"
      ]
     },
     "execution_count": 8,
     "metadata": {},
     "output_type": "execute_result"
    }
   ],
   "source": [
    "m[1:, 2]"
   ]
  },
  {
   "cell_type": "code",
   "execution_count": 9,
   "id": "6ee96ec2-9da3-4783-bbcc-961222ff01c7",
   "metadata": {},
   "outputs": [
    {
     "data": {
      "text/plain": [
       "array([[3, 4],\n",
       "       [8, 9]])"
      ]
     },
     "execution_count": 9,
     "metadata": {},
     "output_type": "execute_result"
    }
   ],
   "source": [
    "m[:2, 3:]"
   ]
  },
  {
   "cell_type": "code",
   "execution_count": null,
   "id": "c5bea8b0-9544-4b35-b8be-a5f2e89ba26d",
   "metadata": {},
   "outputs": [],
   "source": []
  },
  {
   "cell_type": "code",
   "execution_count": 10,
   "id": "049b7c55-779c-454c-98ed-3bb8ba1e79e8",
   "metadata": {},
   "outputs": [
    {
     "data": {
      "text/plain": [
       "array([[  0.,   0.,   0.,   1.,   1.],\n",
       "       [  0.,   0.,   0.,   1.,   1.],\n",
       "       [  0.,   0.,   0.,   1.,   1.],\n",
       "       [ 10.,  20.,  30.,  40.,  50.],\n",
       "       [ 60.,  70.,  80.,  90., 100.],\n",
       "       [110., 120., 130., 140., 150.],\n",
       "       [  0.,   0.,   0.,   1.,   1.],\n",
       "       [  0.,   0.,   0.,   1.,   1.],\n",
       "       [  0.,   0.,   0.,   1.,   1.],\n",
       "       [ 10.,  20.,  30.,  40.,  50.],\n",
       "       [ 60.,  70.,  80.,  90., 100.],\n",
       "       [110., 120., 130., 140., 150.]])"
      ]
     },
     "execution_count": 10,
     "metadata": {},
     "output_type": "execute_result"
    }
   ],
   "source": [
    "zeros = np.zeros([3, 3])\n",
    "ones = np.ones([3, 2])\n",
    "numbers = np.reshape(np.arange(10, 160, 10), (3, -1))\n",
    "res = np.tile(np.vstack([np.hstack([zeros, ones]), numbers]), (2,1))\n",
    "res"
   ]
  },
  {
   "cell_type": "code",
   "execution_count": null,
   "id": "d147ee73-9ef3-4f4b-8d66-dbf06c9bcb8e",
   "metadata": {},
   "outputs": [],
   "source": []
  },
  {
   "cell_type": "code",
   "execution_count": 11,
   "id": "428accfb-76e7-4d08-8edb-07f34a97c379",
   "metadata": {},
   "outputs": [],
   "source": [
    "practice = np.array([[1.1, 7.1, 8.0, 2.1, 6.5, 7.2],\n",
    "                     [2.7, 5.2, 3.3, 9.0, 7.7, 2.8],\n",
    "                     [0.7, 8.8, 4.2, 8.9, 4.3, 7.4],\n",
    "                     [8.2, 1.1, 5.4, 2.9, 6.9, 0.2],\n",
    "                     [7.4, 4.8, 2.7, 3.1, 2.8, 8.9]])"
   ]
  },
  {
   "cell_type": "code",
   "execution_count": 12,
   "id": "2ad0ab92-2c7a-47d3-a287-2481011314ec",
   "metadata": {},
   "outputs": [
    {
     "data": {
      "text/plain": [
       "9.0"
      ]
     },
     "execution_count": 12,
     "metadata": {},
     "output_type": "execute_result"
    }
   ],
   "source": [
    "practice.max()"
   ]
  },
  {
   "cell_type": "code",
   "execution_count": 13,
   "id": "f0b9f145-f873-4db0-b953-daaba0ae141c",
   "metadata": {},
   "outputs": [
    {
     "data": {
      "text/plain": [
       "array([20.1, 27. , 23.6, 26. , 28.2, 26.5])"
      ]
     },
     "execution_count": 13,
     "metadata": {},
     "output_type": "execute_result"
    }
   ],
   "source": [
    "practice.sum(axis = 0)"
   ]
  },
  {
   "cell_type": "code",
   "execution_count": 14,
   "id": "8184601c-7dfe-42b3-92f5-fa9da906bb35",
   "metadata": {},
   "outputs": [
    {
     "data": {
      "text/plain": [
       "array([8.2, 8.8, 8. , 9. , 7.7, 8.9])"
      ]
     },
     "execution_count": 14,
     "metadata": {},
     "output_type": "execute_result"
    }
   ],
   "source": [
    "practice.max(axis = 0)"
   ]
  },
  {
   "cell_type": "code",
   "execution_count": 15,
   "id": "41b537ea-0d4f-4bfc-9e8a-50976eede218",
   "metadata": {},
   "outputs": [
    {
     "data": {
      "text/plain": [
       "array([5.33333333, 5.11666667, 5.71666667, 4.11666667, 4.95      ])"
      ]
     },
     "execution_count": 15,
     "metadata": {},
     "output_type": "execute_result"
    }
   ],
   "source": [
    "practice.mean(axis = 1)"
   ]
  },
  {
   "cell_type": "code",
   "execution_count": 16,
   "id": "f6b836e3-592d-4027-acfb-35f2b838b82b",
   "metadata": {},
   "outputs": [
    {
     "data": {
      "text/plain": [
       "array([1.1, 2.7, 0.7, 0.2, 2.7])"
      ]
     },
     "execution_count": 16,
     "metadata": {},
     "output_type": "execute_result"
    }
   ],
   "source": [
    "practice.min(axis = 1)"
   ]
  },
  {
   "cell_type": "code",
   "execution_count": null,
   "id": "ef4158af-abf8-4805-bd71-6ea7740bf4dd",
   "metadata": {},
   "outputs": [],
   "source": []
  },
  {
   "cell_type": "code",
   "execution_count": 17,
   "id": "d4ba5f19-d1f1-4164-84bc-7e15231141cc",
   "metadata": {},
   "outputs": [],
   "source": [
    "scores = np.array([[1, 2, 3, 4],\n",
    "                   [46, 99 ,100, 71],\n",
    "                   [81, 59, 90, 100]])"
   ]
  },
  {
   "cell_type": "code",
   "execution_count": 18,
   "id": "92aaa665-002b-49cc-8493-b72b950bebac",
   "metadata": {},
   "outputs": [],
   "source": [
    "rank = np.argsort(scores[1,:]) \n",
    "# argsort를 활용하여 두 번째 행을 크기순 정렬(인덱스로 위치 저장)"
   ]
  },
  {
   "cell_type": "code",
   "execution_count": 19,
   "id": "20bd38a9-00b4-4428-bd63-e62e332567d3",
   "metadata": {},
   "outputs": [
    {
     "name": "stdout",
     "output_type": "stream",
     "text": [
      "[[  1   4   2   3]\n",
      " [ 46  71  99 100]\n",
      " [ 81 100  59  90]]\n"
     ]
    }
   ],
   "source": [
    "print(scores[:, rank])\n",
    "# 2행의 인덱스를 기준으로 1행과 3행의 인덱스를 같이 정렬"
   ]
  },
  {
   "cell_type": "code",
   "execution_count": null,
   "id": "33693b10-1f8f-4c3f-aed0-dd04cff8c206",
   "metadata": {},
   "outputs": [],
   "source": []
  },
  {
   "cell_type": "code",
   "execution_count": 20,
   "id": "351148f8-45e8-4f07-b767-4be0aaa0783d",
   "metadata": {},
   "outputs": [
    {
     "data": {
      "text/plain": [
       "0.56"
      ]
     },
     "execution_count": 20,
     "metadata": {},
     "output_type": "execute_result"
    }
   ],
   "source": [
    "np.random.seed(0)\n",
    "res = np.random.randint(0, 2, 100)\n",
    "res.sum() / len(res)"
   ]
  },
  {
   "cell_type": "code",
   "execution_count": 21,
   "id": "20cbb734-886c-4e09-9381-0e065a0e7312",
   "metadata": {},
   "outputs": [
    {
     "data": {
      "text/plain": [
       "0.56"
      ]
     },
     "execution_count": 21,
     "metadata": {},
     "output_type": "execute_result"
    }
   ],
   "source": [
    "np.random.seed(0)\n",
    "res = np.random.randint(2, size = 100)\n",
    "res.mean()"
   ]
  },
  {
   "cell_type": "code",
   "execution_count": 22,
   "id": "a1b82f72-0c5d-455a-838c-aabe979b4504",
   "metadata": {},
   "outputs": [
    {
     "data": {
      "text/plain": [
       "0.56"
      ]
     },
     "execution_count": 22,
     "metadata": {},
     "output_type": "execute_result"
    }
   ],
   "source": [
    "np.random.seed(0)\n",
    "k = [np.random.randint(0, 2) for _ in range(100) ]\n",
    "np.mean(k)"
   ]
  },
  {
   "cell_type": "code",
   "execution_count": 23,
   "id": "f19e5417-108b-4f70-b3f3-d5dad2c925e7",
   "metadata": {},
   "outputs": [
    {
     "data": {
      "text/plain": [
       "3.42"
      ]
     },
     "execution_count": 23,
     "metadata": {},
     "output_type": "execute_result"
    }
   ],
   "source": [
    "np.random.seed(0)\n",
    "res2 = np.random.randint(1, 7, 100)\n",
    "res2.mean()"
   ]
  }
 ],
 "metadata": {
  "kernelspec": {
   "display_name": "Python 3 (ipykernel)",
   "language": "python",
   "name": "python3"
  },
  "language_info": {
   "codemirror_mode": {
    "name": "ipython",
    "version": 3
   },
   "file_extension": ".py",
   "mimetype": "text/x-python",
   "name": "python",
   "nbconvert_exporter": "python",
   "pygments_lexer": "ipython3",
   "version": "3.9.13"
  }
 },
 "nbformat": 4,
 "nbformat_minor": 5
}

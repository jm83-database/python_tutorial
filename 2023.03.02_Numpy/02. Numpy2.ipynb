{
 "cells": [
  {
   "cell_type": "code",
   "execution_count": 1,
   "id": "f467bfd1-3539-4417-a7c6-b696772aa277",
   "metadata": {},
   "outputs": [],
   "source": [
    "import numpy as np"
   ]
  },
  {
   "cell_type": "code",
   "execution_count": 2,
   "id": "bd5b99dd-db06-427d-86ba-b942a841bea1",
   "metadata": {},
   "outputs": [],
   "source": [
    "# 배열 생성 명령어\n",
    "\n",
    "# zeros, ones 크기가 정해져 있고 값이 0이면 zeros, 1이면 ones\n",
    "# zeros_like, ones_like\n",
    "# empty\n",
    "# arange\n",
    "# linspace, logspace"
   ]
  },
  {
   "cell_type": "code",
   "execution_count": 3,
   "id": "7f72d066-e144-408d-9500-5d3fb0c8aadb",
   "metadata": {},
   "outputs": [
    {
     "data": {
      "text/plain": [
       "array([0., 0., 0., 0., 0.])"
      ]
     },
     "execution_count": 3,
     "metadata": {},
     "output_type": "execute_result"
    }
   ],
   "source": [
    "a = np.zeros(5)\n",
    "a"
   ]
  },
  {
   "cell_type": "code",
   "execution_count": 4,
   "id": "22e809ba-d77f-48bf-b266-c69564eeb702",
   "metadata": {},
   "outputs": [
    {
     "data": {
      "text/plain": [
       "dtype('float64')"
      ]
     },
     "execution_count": 4,
     "metadata": {},
     "output_type": "execute_result"
    }
   ],
   "source": [
    "a.dtype"
   ]
  },
  {
   "cell_type": "code",
   "execution_count": 5,
   "id": "625d2a35-4db0-4ecf-8818-8e5957c7588b",
   "metadata": {},
   "outputs": [
    {
     "data": {
      "text/plain": [
       "array([[0., 0., 0.],\n",
       "       [0., 0., 0.]])"
      ]
     },
     "execution_count": 5,
     "metadata": {},
     "output_type": "execute_result"
    }
   ],
   "source": [
    "b = np.zeros((2,3))\n",
    "b"
   ]
  },
  {
   "cell_type": "code",
   "execution_count": 6,
   "id": "059e6111-6597-4c60-84e6-46e25d4a54d5",
   "metadata": {},
   "outputs": [
    {
     "data": {
      "text/plain": [
       "dtype('float64')"
      ]
     },
     "execution_count": 6,
     "metadata": {},
     "output_type": "execute_result"
    }
   ],
   "source": [
    "b.dtype"
   ]
  },
  {
   "cell_type": "code",
   "execution_count": 7,
   "id": "9ea7b0fa-90b8-48a1-8a6f-56d6637b203d",
   "metadata": {},
   "outputs": [
    {
     "data": {
      "text/plain": [
       "array([[0, 0],\n",
       "       [0, 0],\n",
       "       [0, 0],\n",
       "       [0, 0],\n",
       "       [0, 0]], dtype=int32)"
      ]
     },
     "execution_count": 7,
     "metadata": {},
     "output_type": "execute_result"
    }
   ],
   "source": [
    "c = np.zeros((5, 2), dtype = 'i')\n",
    "c"
   ]
  },
  {
   "cell_type": "code",
   "execution_count": 8,
   "id": "fed86417-dca9-4f15-bf0a-734e03bee296",
   "metadata": {},
   "outputs": [
    {
     "data": {
      "text/plain": [
       "dtype('int32')"
      ]
     },
     "execution_count": 8,
     "metadata": {},
     "output_type": "execute_result"
    }
   ],
   "source": [
    "c.dtype"
   ]
  },
  {
   "cell_type": "code",
   "execution_count": 9,
   "id": "c7482097-519d-4dbc-bf18-606abfe7fd16",
   "metadata": {},
   "outputs": [],
   "source": [
    "# zeros 메서드로 생성된 문자열 배열도 생성 가능하다.\n",
    "# 주의할 점은 모든 요소의 문자열 크기가 같아야 한다.\n",
    "# 만약 더 큰 크기의 문자열을 할당하면 잘린다."
   ]
  },
  {
   "cell_type": "code",
   "execution_count": 10,
   "id": "f16cb706-6bbd-4439-a977-9e3801f42616",
   "metadata": {},
   "outputs": [
    {
     "data": {
      "text/plain": [
       "array(['', '', '', '', ''], dtype='<U4')"
      ]
     },
     "execution_count": 10,
     "metadata": {},
     "output_type": "execute_result"
    }
   ],
   "source": [
    "d = np.zeros(5, dtype = 'U4')\n",
    "d # dtype 유니코드 스트링을 사용하면 공백으로 구성된 배열 생성 가능"
   ]
  },
  {
   "cell_type": "code",
   "execution_count": 11,
   "id": "fb4f43d9-1227-4b24-a2eb-05f0149abcfe",
   "metadata": {},
   "outputs": [
    {
     "data": {
      "text/plain": [
       "array(['abc', 'abcd', 'ABCD', '', ''], dtype='<U4')"
      ]
     },
     "execution_count": 11,
     "metadata": {},
     "output_type": "execute_result"
    }
   ],
   "source": [
    "d[0] = \"abc\"\n",
    "d[1] = \"abcd\"\n",
    "d[2] = \"ABCDE\" # 공간이 4칸이 할당되었으므로 E가 잘린다\n",
    "d"
   ]
  },
  {
   "cell_type": "code",
   "execution_count": 12,
   "id": "121adc1d-79a9-41e6-8b90-e4e2c03cc5f3",
   "metadata": {},
   "outputs": [
    {
     "data": {
      "text/plain": [
       "array([[[1, 1, 1, 1],\n",
       "        [1, 1, 1, 1],\n",
       "        [1, 1, 1, 1]],\n",
       "\n",
       "       [[1, 1, 1, 1],\n",
       "        [1, 1, 1, 1],\n",
       "        [1, 1, 1, 1]]], dtype=int64)"
      ]
     },
     "execution_count": 12,
     "metadata": {},
     "output_type": "execute_result"
    }
   ],
   "source": [
    "e = np.ones((2,3,4), dtype= 'i8')\n",
    "e"
   ]
  },
  {
   "cell_type": "code",
   "execution_count": 13,
   "id": "fa5a3c02-fb0d-409f-ab21-06a11c94f1bb",
   "metadata": {},
   "outputs": [
    {
     "data": {
      "text/plain": [
       "dtype('int64')"
      ]
     },
     "execution_count": 13,
     "metadata": {},
     "output_type": "execute_result"
    }
   ],
   "source": [
    "e.dtype"
   ]
  },
  {
   "cell_type": "code",
   "execution_count": 14,
   "id": "4b9766d9-cbf8-47ba-a034-13d50b31789a",
   "metadata": {},
   "outputs": [
    {
     "data": {
      "text/plain": [
       "array([[1., 1., 1.],\n",
       "       [1., 1., 1.]], dtype=float32)"
      ]
     },
     "execution_count": 14,
     "metadata": {},
     "output_type": "execute_result"
    }
   ],
   "source": [
    "f = np.ones_like(b, dtype = 'f') \n",
    "f # ones_like 혹은 zeros_like을 쓰면\n",
    "# 같은 shape의 배열을 생성하고 값을 ones_like는 1,\n",
    "# zeros_like는 0으로 값이 채워진다."
   ]
  },
  {
   "cell_type": "code",
   "execution_count": 15,
   "id": "90c95190-016a-4f60-ad1a-88afec86dbe1",
   "metadata": {},
   "outputs": [
    {
     "data": {
      "text/plain": [
       "array([[1.10665574e-311, 3.16202013e-322, 0.00000000e+000],\n",
       "       [0.00000000e+000, 0.00000000e+000, 2.33858438e-052],\n",
       "       [1.91933995e-052, 1.00127652e+165, 8.92801991e+165],\n",
       "       [5.74096444e+174, 1.34028148e-075, 2.21636479e+160]])"
      ]
     },
     "execution_count": 15,
     "metadata": {},
     "output_type": "execute_result"
    }
   ],
   "source": [
    "# empty를 사용하면 배열을 생성만 하고, 특정한 값으로 초기화를 하지 않는다.\n",
    "# empty 명령으로 생성된 배열에는 기존에 메모리에 저장되어 있던 값이\n",
    "# 있으므로 배열의 요소의 값을 미리 알 수 없다.\n",
    "\n",
    "g = np.empty((4, 3))\n",
    "g"
   ]
  },
  {
   "cell_type": "code",
   "execution_count": 16,
   "id": "32449586-e71a-488a-a3b3-a9645e59f08f",
   "metadata": {},
   "outputs": [
    {
     "data": {
      "text/plain": [
       "array([0, 1, 2, 3, 4, 5, 6, 7, 8, 9])"
      ]
     },
     "execution_count": 16,
     "metadata": {},
     "output_type": "execute_result"
    }
   ],
   "source": [
    "# arange는 Numpy 버전의 range와 같다.\n",
    "# 특정한 규칙에 따라 증가하는 수열\n",
    "\n",
    "np.arange(10) # 0 ... n-1"
   ]
  },
  {
   "cell_type": "code",
   "execution_count": 17,
   "id": "b330896b-5ee1-4bdf-a34c-2918627fd5ca",
   "metadata": {},
   "outputs": [
    {
     "data": {
      "text/plain": [
       "array([ 3,  5,  7,  9, 11, 13, 15, 17, 19])"
      ]
     },
     "execution_count": 17,
     "metadata": {},
     "output_type": "execute_result"
    }
   ],
   "source": [
    "np.arange(3, 21, 2) # 시작, 끝(포함하지 않음), 단계"
   ]
  },
  {
   "cell_type": "code",
   "execution_count": 18,
   "id": "d81c4961-ff9b-41b9-a143-a3767e48d073",
   "metadata": {},
   "outputs": [
    {
     "data": {
      "text/plain": [
       "array([  0.,  25.,  50.,  75., 100.])"
      ]
     },
     "execution_count": 18,
     "metadata": {},
     "output_type": "execute_result"
    }
   ],
   "source": [
    "# linspace나 logspace는 선형 구간 혹은 로그 구간을\n",
    "# 지정한 구간의 수만큼 분할\n",
    "\n",
    "ex = np.linspace(0, 100, 5) # 끝 범위가 포함됨\n",
    "ex"
   ]
  },
  {
   "cell_type": "code",
   "execution_count": 19,
   "id": "86b9b18e",
   "metadata": {},
   "outputs": [
    {
     "data": {
      "text/plain": [
       "array([1.e+000, 1.e+025, 1.e+050, 1.e+075, 1.e+100])"
      ]
     },
     "execution_count": 19,
     "metadata": {},
     "output_type": "execute_result"
    }
   ],
   "source": [
    "ex2 = np.logspace(0, 100, 5) # 끝 범위가 포함됨\n",
    "ex2"
   ]
  },
  {
   "cell_type": "code",
   "execution_count": null,
   "id": "0687b620-7229-4843-b8c2-b63429f18274",
   "metadata": {},
   "outputs": [],
   "source": []
  },
  {
   "cell_type": "code",
   "execution_count": 20,
   "id": "776daf15-b60e-40e5-9a2d-993d65375b7c",
   "metadata": {},
   "outputs": [
    {
     "data": {
      "text/plain": [
       "array([[1, 2, 3],\n",
       "       [4, 5, 6]])"
      ]
     },
     "execution_count": 20,
     "metadata": {},
     "output_type": "execute_result"
    }
   ],
   "source": [
    "# 전치 연산(transpose)\n",
    "# transpose는 행과 열 전환\n",
    "\n",
    "A = np.array([[1, 2, 3], [4, 5, 6]])\n",
    "A"
   ]
  },
  {
   "cell_type": "code",
   "execution_count": 21,
   "id": "0435f6e0-5cad-4156-96f8-d0369f15ccb1",
   "metadata": {},
   "outputs": [
    {
     "data": {
      "text/plain": [
       "array([[1, 4],\n",
       "       [2, 5],\n",
       "       [3, 6]])"
      ]
     },
     "execution_count": 21,
     "metadata": {},
     "output_type": "execute_result"
    }
   ],
   "source": [
    "A.T"
   ]
  },
  {
   "cell_type": "code",
   "execution_count": null,
   "id": "9b87cb07-b570-4fa6-a808-35540f90b519",
   "metadata": {},
   "outputs": [],
   "source": []
  },
  {
   "cell_type": "code",
   "execution_count": 22,
   "id": "062f33c5-0682-4aef-a0ee-a7375f70915b",
   "metadata": {},
   "outputs": [
    {
     "data": {
      "text/plain": [
       "array([ 0,  1,  2,  3,  4,  5,  6,  7,  8,  9, 10, 11])"
      ]
     },
     "execution_count": 22,
     "metadata": {},
     "output_type": "execute_result"
    }
   ],
   "source": [
    "# 배열의 크기 변형\n",
    "# 일단 만들어진 배열의 내부 데이터는 보존한 채로 형태만 바꾸려면\n",
    "# reshape 명령이나 메서드 사용\n",
    "\n",
    "a = np.arange(12)\n",
    "a"
   ]
  },
  {
   "cell_type": "code",
   "execution_count": 23,
   "id": "9d2c22cb-7ed4-4c17-a9fe-092663b63ed1",
   "metadata": {},
   "outputs": [
    {
     "data": {
      "text/plain": [
       "(12,)"
      ]
     },
     "execution_count": 23,
     "metadata": {},
     "output_type": "execute_result"
    }
   ],
   "source": [
    "a.shape"
   ]
  },
  {
   "cell_type": "code",
   "execution_count": 24,
   "id": "b512ac63-ba3f-4f71-acfa-f8446ea0f00c",
   "metadata": {},
   "outputs": [
    {
     "data": {
      "text/plain": [
       "1"
      ]
     },
     "execution_count": 24,
     "metadata": {},
     "output_type": "execute_result"
    }
   ],
   "source": [
    "a.ndim"
   ]
  },
  {
   "cell_type": "code",
   "execution_count": 25,
   "id": "764ff1af-681d-4eb8-9c87-e8e7650dd5d3",
   "metadata": {},
   "outputs": [
    {
     "data": {
      "text/plain": [
       "array([[ 0,  1,  2,  3],\n",
       "       [ 4,  5,  6,  7],\n",
       "       [ 8,  9, 10, 11]])"
      ]
     },
     "execution_count": 25,
     "metadata": {},
     "output_type": "execute_result"
    }
   ],
   "source": [
    "b = a.reshape(3, 4)\n",
    "b"
   ]
  },
  {
   "cell_type": "code",
   "execution_count": 26,
   "id": "d4324d4e-6512-4d76-b7ed-44bc22a3ff4a",
   "metadata": {},
   "outputs": [
    {
     "data": {
      "text/plain": [
       "(3, 4)"
      ]
     },
     "execution_count": 26,
     "metadata": {},
     "output_type": "execute_result"
    }
   ],
   "source": [
    "b.shape"
   ]
  },
  {
   "cell_type": "code",
   "execution_count": 27,
   "id": "8c8bf8ab-0bad-4866-b24b-cdf5b3bebf77",
   "metadata": {},
   "outputs": [
    {
     "data": {
      "text/plain": [
       "2"
      ]
     },
     "execution_count": 27,
     "metadata": {},
     "output_type": "execute_result"
    }
   ],
   "source": [
    "b.ndim"
   ]
  },
  {
   "cell_type": "code",
   "execution_count": 28,
   "id": "041e3a53-1453-4613-983a-99bdd08de9ce",
   "metadata": {},
   "outputs": [
    {
     "data": {
      "text/plain": [
       "array([[ 0,  1,  2,  3],\n",
       "       [ 4,  5,  6,  7],\n",
       "       [ 8,  9, 10, 11]])"
      ]
     },
     "execution_count": 28,
     "metadata": {},
     "output_type": "execute_result"
    }
   ],
   "source": [
    "# 사용하는 원소의 개수가 정해져 있기 때문에 reshape 명령의 형태\n",
    "# 튜플의 원소 중 하나는 -1이라는 숫자로 대체가 가능하다.\n",
    "# -1을 넣으면 해당 숫자는 다른 값에서 계산되어 사용된다.\n",
    "\n",
    "a.reshape(3, -1) # 행 3개를 만들고 열은 알아서 구분"
   ]
  },
  {
   "cell_type": "code",
   "execution_count": 29,
   "id": "af78d8a2-ab84-44d0-a997-cdf1e7f5dca6",
   "metadata": {},
   "outputs": [
    {
     "data": {
      "text/plain": [
       "(3, 4)"
      ]
     },
     "execution_count": 29,
     "metadata": {},
     "output_type": "execute_result"
    }
   ],
   "source": [
    "a.reshape(3, -1).shape"
   ]
  },
  {
   "cell_type": "code",
   "execution_count": 30,
   "id": "f66dfbbd-73fc-4201-b60a-a2efa8d1f32a",
   "metadata": {},
   "outputs": [
    {
     "data": {
      "text/plain": [
       "array([[[ 0,  1,  2],\n",
       "        [ 3,  4,  5]],\n",
       "\n",
       "       [[ 6,  7,  8],\n",
       "        [ 9, 10, 11]]])"
      ]
     },
     "execution_count": 30,
     "metadata": {},
     "output_type": "execute_result"
    }
   ],
   "source": [
    "a.reshape(2, 2, -1) # 깊이와 행을 2개로 만들고 열은 알아서 구분"
   ]
  },
  {
   "cell_type": "code",
   "execution_count": 31,
   "id": "216b484a-d893-4511-a20b-c3563e5ba127",
   "metadata": {},
   "outputs": [
    {
     "data": {
      "text/plain": [
       "(2, 2, 3)"
      ]
     },
     "execution_count": 31,
     "metadata": {},
     "output_type": "execute_result"
    }
   ],
   "source": [
    "a.reshape(2, 2, -1).shape"
   ]
  },
  {
   "cell_type": "code",
   "execution_count": 32,
   "id": "c024a771-919d-4570-bda3-0e7017de4407",
   "metadata": {},
   "outputs": [
    {
     "data": {
      "text/plain": [
       "array([[[ 0,  1],\n",
       "        [ 2,  3],\n",
       "        [ 4,  5]],\n",
       "\n",
       "       [[ 6,  7],\n",
       "        [ 8,  9],\n",
       "        [10, 11]]])"
      ]
     },
     "execution_count": 32,
     "metadata": {},
     "output_type": "execute_result"
    }
   ],
   "source": [
    "a.reshape(2, -1, 2) # 깊이와 열을 2개로 만들고 행은 알아서 구분"
   ]
  },
  {
   "cell_type": "code",
   "execution_count": 33,
   "id": "4c34e35e-d6b1-4b50-988d-561dbd879a7f",
   "metadata": {},
   "outputs": [
    {
     "data": {
      "text/plain": [
       "(2, 3, 2)"
      ]
     },
     "execution_count": 33,
     "metadata": {},
     "output_type": "execute_result"
    }
   ],
   "source": [
    "a.reshape(2, -1, 2).shape"
   ]
  },
  {
   "cell_type": "code",
   "execution_count": 34,
   "id": "2a40155e-5dac-401f-94e6-111373c24ad3",
   "metadata": {},
   "outputs": [
    {
     "ename": "ValueError",
     "evalue": "cannot reshape array of size 12 into shape (7,newaxis)",
     "output_type": "error",
     "traceback": [
      "\u001b[1;31m---------------------------------------------------------------------------\u001b[0m",
      "\u001b[1;31mValueError\u001b[0m                                Traceback (most recent call last)",
      "\u001b[1;32m~\\AppData\\Local\\Temp\\ipykernel_11480\\1646486663.py\u001b[0m in \u001b[0;36m<module>\u001b[1;34m\u001b[0m\n\u001b[1;32m----> 1\u001b[1;33m \u001b[0ma\u001b[0m\u001b[1;33m.\u001b[0m\u001b[0mreshape\u001b[0m\u001b[1;33m(\u001b[0m\u001b[1;36m7\u001b[0m\u001b[1;33m,\u001b[0m\u001b[1;33m-\u001b[0m\u001b[1;36m1\u001b[0m\u001b[1;33m)\u001b[0m\u001b[1;33m.\u001b[0m\u001b[0mshape\u001b[0m \u001b[1;31m# 구분할 숫자가 배열의 요소 숫자로 나누어\u001b[0m\u001b[1;33m\u001b[0m\u001b[1;33m\u001b[0m\u001b[0m\n\u001b[0m\u001b[0;32m      2\u001b[0m \u001b[1;31m# 떨어지지 않을 경우 오류 발생\u001b[0m\u001b[1;33m\u001b[0m\u001b[1;33m\u001b[0m\u001b[0m\n",
      "\u001b[1;31mValueError\u001b[0m: cannot reshape array of size 12 into shape (7,newaxis)"
     ]
    }
   ],
   "source": [
    "a.reshape(7,-1).shape # 구분할 숫자가 배열의 요소 숫자로 나누어\n",
    "# 떨어지지 않을 경우 오류 발생"
   ]
  },
  {
   "cell_type": "code",
   "execution_count": 35,
   "id": "8ee90d30-47d9-4799-8db6-cd36c603030e",
   "metadata": {},
   "outputs": [
    {
     "data": {
      "text/plain": [
       "array([ 0,  1,  2,  3,  4,  5,  6,  7,  8,  9, 10, 11])"
      ]
     },
     "execution_count": 35,
     "metadata": {},
     "output_type": "execute_result"
    }
   ],
   "source": [
    "# 다차원 배열을 1차원으로 만들 때는 flatten 혹은 ravel 메서드를 사용한다.\n",
    "a.flatten()"
   ]
  },
  {
   "cell_type": "code",
   "execution_count": 36,
   "id": "5ac6a267-78ab-41fe-ab3f-1e5e4ec4f52f",
   "metadata": {},
   "outputs": [
    {
     "data": {
      "text/plain": [
       "(12,)"
      ]
     },
     "execution_count": 36,
     "metadata": {},
     "output_type": "execute_result"
    }
   ],
   "source": [
    "a.flatten().shape"
   ]
  },
  {
   "cell_type": "code",
   "execution_count": 37,
   "id": "bad0f7e6-e364-4075-ab90-d76f558f5f3b",
   "metadata": {},
   "outputs": [
    {
     "data": {
      "text/plain": [
       "array([ 0,  1,  2,  3,  4,  5,  6,  7,  8,  9, 10, 11])"
      ]
     },
     "execution_count": 37,
     "metadata": {},
     "output_type": "execute_result"
    }
   ],
   "source": [
    "a.ravel()"
   ]
  },
  {
   "cell_type": "code",
   "execution_count": 38,
   "id": "cd3e3f5e-883f-4f7b-98f9-ee616ec63c2f",
   "metadata": {},
   "outputs": [
    {
     "data": {
      "text/plain": [
       "(12,)"
      ]
     },
     "execution_count": 38,
     "metadata": {},
     "output_type": "execute_result"
    }
   ],
   "source": [
    "a.ravel().shape"
   ]
  },
  {
   "cell_type": "code",
   "execution_count": 39,
   "id": "43f17049-f26c-4dd9-9053-4ec7e17b90e1",
   "metadata": {},
   "outputs": [
    {
     "data": {
      "text/plain": [
       "array([0, 1, 2, 3, 4])"
      ]
     },
     "execution_count": 39,
     "metadata": {},
     "output_type": "execute_result"
    }
   ],
   "source": [
    "# 형태가 같아 보여도 1차원 배열, 2차원 배열은 엄연히 다르다.\n",
    "\n",
    "# 아래 예제는 길이가 5인 1차원 배열, 행과 열이 5, 1인 2차원 배열\n",
    "# 혹은 행과 열이 1, 5인 2차원 배열이 다 다름을 보여준다.\n",
    "\n",
    "x = np.arange(5)\n",
    "x"
   ]
  },
  {
   "cell_type": "code",
   "execution_count": 40,
   "id": "83f7d809-5bc3-496f-8fed-ac15db6f5657",
   "metadata": {},
   "outputs": [
    {
     "data": {
      "text/plain": [
       "2239933057040"
      ]
     },
     "execution_count": 40,
     "metadata": {},
     "output_type": "execute_result"
    }
   ],
   "source": [
    "id(x)"
   ]
  },
  {
   "cell_type": "code",
   "execution_count": 41,
   "id": "bed60f15-87fe-4d58-8759-d9dcfcf67aff",
   "metadata": {},
   "outputs": [
    {
     "data": {
      "text/plain": [
       "array([[0, 1, 2, 3, 4]])"
      ]
     },
     "execution_count": 41,
     "metadata": {},
     "output_type": "execute_result"
    }
   ],
   "source": [
    "x.reshape(1, 5)"
   ]
  },
  {
   "cell_type": "code",
   "execution_count": 42,
   "id": "2d433f24-7c04-4cdb-853a-db9eaa5cc74b",
   "metadata": {},
   "outputs": [
    {
     "data": {
      "text/plain": [
       "2239933057040"
      ]
     },
     "execution_count": 42,
     "metadata": {},
     "output_type": "execute_result"
    }
   ],
   "source": [
    "x.reshape(1, 5)\n",
    "id(x)"
   ]
  },
  {
   "cell_type": "code",
   "execution_count": 43,
   "id": "8002fbd0-01e6-4568-a11d-38127509af73",
   "metadata": {},
   "outputs": [
    {
     "data": {
      "text/plain": [
       "array([[0],\n",
       "       [1],\n",
       "       [2],\n",
       "       [3],\n",
       "       [4]])"
      ]
     },
     "execution_count": 43,
     "metadata": {},
     "output_type": "execute_result"
    }
   ],
   "source": [
    "x.reshape(5,1)"
   ]
  },
  {
   "cell_type": "code",
   "execution_count": 44,
   "id": "438771e5-6de5-4ced-8aa6-6b7597bc7212",
   "metadata": {},
   "outputs": [
    {
     "data": {
      "text/plain": [
       "2239933057040"
      ]
     },
     "execution_count": 44,
     "metadata": {},
     "output_type": "execute_result"
    }
   ],
   "source": [
    "x.reshape(5,1)\n",
    "id(x)"
   ]
  },
  {
   "cell_type": "code",
   "execution_count": 45,
   "id": "dd93f13c-8d20-4578-88b4-082ecaedde88",
   "metadata": {},
   "outputs": [
    {
     "data": {
      "text/plain": [
       "array([[0],\n",
       "       [1],\n",
       "       [2],\n",
       "       [3],\n",
       "       [4]])"
      ]
     },
     "execution_count": 45,
     "metadata": {},
     "output_type": "execute_result"
    }
   ],
   "source": [
    "# 차원 증가\n",
    "# 배열에 대하여 1차원 증가시키는 경우에는 nexaxis 명령어 사용\n",
    "\n",
    "x[:, np.newaxis]"
   ]
  },
  {
   "cell_type": "code",
   "execution_count": null,
   "id": "ac5ab194-8785-4b65-855c-2d3543c4fd46",
   "metadata": {},
   "outputs": [],
   "source": []
  },
  {
   "cell_type": "code",
   "execution_count": 46,
   "id": "2a46c88c-8675-4ef3-815b-3ea457eef0b7",
   "metadata": {},
   "outputs": [],
   "source": [
    "# 배열 연결 명령어\n",
    "# 행의 수나 열의 수가 같은 두 개 이상의 배열을 연결(concatenate)하여\n",
    "# 더 큰 배열을 만들 때 사용\n",
    "\n",
    "# hstack\n",
    "# vstack\n",
    "# dstack\n",
    "# stack\n",
    "# r_\n",
    "# c_\n",
    "# tile"
   ]
  },
  {
   "cell_type": "code",
   "execution_count": 47,
   "id": "b277c66f-c914-4055-bce0-cbd909ab6e76",
   "metadata": {},
   "outputs": [
    {
     "data": {
      "text/plain": [
       "array([[1., 1., 1.],\n",
       "       [1., 1., 1.]])"
      ]
     },
     "execution_count": 47,
     "metadata": {},
     "output_type": "execute_result"
    }
   ],
   "source": [
    "# hstack 명령은 행의 수가 같은 두 개 이상의 배열을\n",
    "# 옆으로 연결하여 열의 수가 더 많은 배열을 생성\n",
    "# 연결할 배열은 하나의 리스트에 담아야 한다.\n",
    "\n",
    "a1 = np.ones((2,3))\n",
    "a1"
   ]
  },
  {
   "cell_type": "code",
   "execution_count": 48,
   "id": "4480b5ca-a726-458c-9ce6-90fc1743e651",
   "metadata": {},
   "outputs": [
    {
     "data": {
      "text/plain": [
       "array([[0., 0.],\n",
       "       [0., 0.]])"
      ]
     },
     "execution_count": 48,
     "metadata": {},
     "output_type": "execute_result"
    }
   ],
   "source": [
    "a2 = np.zeros((2,2))\n",
    "a2"
   ]
  },
  {
   "cell_type": "code",
   "execution_count": 49,
   "id": "b2464555-f5de-4e5f-83fe-31c76d8bf657",
   "metadata": {},
   "outputs": [
    {
     "data": {
      "text/plain": [
       "array([[1., 1., 1., 0., 0.],\n",
       "       [1., 1., 1., 0., 0.]])"
      ]
     },
     "execution_count": 49,
     "metadata": {},
     "output_type": "execute_result"
    }
   ],
   "source": [
    "np.hstack([a1, a2])"
   ]
  },
  {
   "cell_type": "code",
   "execution_count": null,
   "id": "cd570cf7-9135-4af3-9465-1dd423579c5f",
   "metadata": {},
   "outputs": [],
   "source": []
  },
  {
   "cell_type": "code",
   "execution_count": 50,
   "id": "33e7efe2-4fcc-4482-aa1c-09ada4c7d62d",
   "metadata": {},
   "outputs": [
    {
     "data": {
      "text/plain": [
       "array([[1., 1., 1.],\n",
       "       [1., 1., 1.]])"
      ]
     },
     "execution_count": 50,
     "metadata": {},
     "output_type": "execute_result"
    }
   ],
   "source": [
    "# vstack명령은 열의 수가 같은 두 개 이상의 배열을\n",
    "# 옆으로 연결하여 행의 수가 더 많은 배열을 생성\n",
    "# 연결할 배열은 하나의 리스트에 담아야 한다.\n",
    "\n",
    "b1 = np.ones((2, 3))\n",
    "b1"
   ]
  },
  {
   "cell_type": "code",
   "execution_count": 51,
   "id": "7b9be846-686e-4a7b-ac4e-b3fdcca4cd91",
   "metadata": {},
   "outputs": [
    {
     "data": {
      "text/plain": [
       "array([[0., 0., 0.],\n",
       "       [0., 0., 0.],\n",
       "       [0., 0., 0.]])"
      ]
     },
     "execution_count": 51,
     "metadata": {},
     "output_type": "execute_result"
    }
   ],
   "source": [
    "b2 = np.zeros((3, 3))\n",
    "b2"
   ]
  },
  {
   "cell_type": "code",
   "execution_count": 52,
   "id": "19892931-1a60-4983-a1f1-2bcdf0ebf404",
   "metadata": {},
   "outputs": [
    {
     "data": {
      "text/plain": [
       "array([[1., 1., 1.],\n",
       "       [1., 1., 1.],\n",
       "       [0., 0., 0.],\n",
       "       [0., 0., 0.],\n",
       "       [0., 0., 0.]])"
      ]
     },
     "execution_count": 52,
     "metadata": {},
     "output_type": "execute_result"
    }
   ],
   "source": [
    "np.vstack([b1, b2])"
   ]
  },
  {
   "cell_type": "code",
   "execution_count": null,
   "id": "5b0656a7-3ad3-431f-965f-0f249323eff9",
   "metadata": {},
   "outputs": [],
   "source": []
  },
  {
   "cell_type": "code",
   "execution_count": 53,
   "id": "12c69e3d-dc45-47d8-b992-9e6f7661380c",
   "metadata": {},
   "outputs": [
    {
     "data": {
      "text/plain": [
       "array([[1., 1., 1., 1.],\n",
       "       [1., 1., 1., 1.],\n",
       "       [1., 1., 1., 1.]])"
      ]
     },
     "execution_count": 53,
     "metadata": {},
     "output_type": "execute_result"
    }
   ],
   "source": [
    "# dstack명령은 제3의 축 즉, 행이나 열이 아닌 깊이(depth)\n",
    "# 방향으로 배열을 합친다.\n",
    "# 가장 안쪽의 원소의 차원이 증가한다.\n",
    "# 즉 가장 내부의 숫자 원소가 배열이 된다.\n",
    "# shape 정보로 보면 가장 끝에 값이 2인 차원이 추가되는 것\n",
    "# 아래 예제의 경우 shape 변화가\n",
    "# 2개의 (3 X 4) → 1개의 (3 X 4 X 2)가 된다.\n",
    "\n",
    "c1 = np.ones((3, 4))\n",
    "c1"
   ]
  },
  {
   "cell_type": "code",
   "execution_count": 54,
   "id": "e646532d-2f95-4311-b445-d9f473913297",
   "metadata": {},
   "outputs": [
    {
     "data": {
      "text/plain": [
       "array([[0., 0., 0., 0.],\n",
       "       [0., 0., 0., 0.],\n",
       "       [0., 0., 0., 0.]])"
      ]
     },
     "execution_count": 54,
     "metadata": {},
     "output_type": "execute_result"
    }
   ],
   "source": [
    "c2 = np.zeros((3, 4))\n",
    "c2"
   ]
  },
  {
   "cell_type": "code",
   "execution_count": 55,
   "id": "d38ca90e-423a-4d68-9abe-6b2a2003a4a7",
   "metadata": {},
   "outputs": [
    {
     "data": {
      "text/plain": [
       "array([[[1., 0.],\n",
       "        [1., 0.],\n",
       "        [1., 0.],\n",
       "        [1., 0.]],\n",
       "\n",
       "       [[1., 0.],\n",
       "        [1., 0.],\n",
       "        [1., 0.],\n",
       "        [1., 0.]],\n",
       "\n",
       "       [[1., 0.],\n",
       "        [1., 0.],\n",
       "        [1., 0.],\n",
       "        [1., 0.]]])"
      ]
     },
     "execution_count": 55,
     "metadata": {},
     "output_type": "execute_result"
    }
   ],
   "source": [
    "np.dstack([c1, c2]) # 두개의 배열이 결합되면서 1개로 통합하는 과정에서\n",
    "# 열이 하나 늘어나서 마지막 자리가 1이 증가한다."
   ]
  },
  {
   "cell_type": "code",
   "execution_count": 56,
   "id": "2c36c3f9-3e12-4229-960b-58feb9035126",
   "metadata": {},
   "outputs": [
    {
     "data": {
      "text/plain": [
       "(3, 4, 2)"
      ]
     },
     "execution_count": 56,
     "metadata": {},
     "output_type": "execute_result"
    }
   ],
   "source": [
    "(np.dstack([c1, c2])).shape"
   ]
  },
  {
   "cell_type": "code",
   "execution_count": null,
   "id": "09144e8c-1fc3-4286-b4f3-a84cdab70821",
   "metadata": {},
   "outputs": [],
   "source": []
  },
  {
   "cell_type": "code",
   "execution_count": 57,
   "id": "68ebed6b-22c1-47fd-810b-dc81f1d7aef2",
   "metadata": {},
   "outputs": [],
   "source": [
    "# stack 명령은 dstack의 기능을 확장한 것으로 dstack처럼\n",
    "# 마지막 차원으로 연결하는 것이 아니라 사용자가 지정한\n",
    "# 차원(축으로) 배열을 연결한다.\n",
    "# axis 인수(default = 0)를 사용하여 연결후의 회전 방향을 정한다.\n",
    "# 가장 앞쪽 차원에 생성되고, 배열 두개가 겹치게 되므로 연결하고자\n",
    "# 하는 배열들의 크기가 모두 같아야 한다."
   ]
  },
  {
   "cell_type": "code",
   "execution_count": 58,
   "id": "aaa43566-0a9d-4eee-8761-558f9c259b47",
   "metadata": {},
   "outputs": [
    {
     "data": {
      "text/plain": [
       "array([[[1., 1., 1., 1.],\n",
       "        [1., 1., 1., 1.],\n",
       "        [1., 1., 1., 1.]],\n",
       "\n",
       "       [[0., 0., 0., 0.],\n",
       "        [0., 0., 0., 0.],\n",
       "        [0., 0., 0., 0.]]])"
      ]
     },
     "execution_count": 58,
     "metadata": {},
     "output_type": "execute_result"
    }
   ],
   "source": [
    "# 아래 예제는 axis = 0이므로 가장 바깥에 값이 2인 차원이 추가\n",
    "# shape 변화는 2개의 (3 X 4) → 1개의 (2 X 3 X 4)\n",
    "c = np.stack([c1, c2])\n",
    "c"
   ]
  },
  {
   "cell_type": "code",
   "execution_count": 59,
   "id": "0b738f85-ee6f-493e-920a-80c2e0c0fc1c",
   "metadata": {},
   "outputs": [
    {
     "data": {
      "text/plain": [
       "(2, 3, 4)"
      ]
     },
     "execution_count": 59,
     "metadata": {},
     "output_type": "execute_result"
    }
   ],
   "source": [
    "c.shape # 어느 축을 합치느냐에 따라 결합한 개수가 보인다.\n",
    "# axis = 0이면 1번째 자리\n",
    "# axis = 1이면 2번째 자리\n",
    "# axis = 2이면 3번째 자리\n",
    "\n",
    "# 지금은 2개의 배열을 결합했으므로 2가 되고,\n",
    "# 3개의 배열을 합치면 (3, ?, ?), (?, 3, ?), (?, ?, 3)이 된다.\n",
    "# 4개의 배열을 합치면 (4, ?, ?), (?, 4, ?), (?, ?, 4)이 된다."
   ]
  },
  {
   "cell_type": "code",
   "execution_count": 60,
   "id": "c05c7379-901f-4ec4-b801-a006d6091960",
   "metadata": {},
   "outputs": [
    {
     "data": {
      "text/plain": [
       "array([[[1., 1., 1., 1.],\n",
       "        [0., 0., 0., 0.]],\n",
       "\n",
       "       [[1., 1., 1., 1.],\n",
       "        [0., 0., 0., 0.]],\n",
       "\n",
       "       [[1., 1., 1., 1.],\n",
       "        [0., 0., 0., 0.]]])"
      ]
     },
     "execution_count": 60,
     "metadata": {},
     "output_type": "execute_result"
    }
   ],
   "source": [
    "c = np.stack([c1, c2], axis = 1)\n",
    "c"
   ]
  },
  {
   "cell_type": "code",
   "execution_count": 61,
   "id": "84bca068-d2bf-49cd-b60a-a9185208cfb5",
   "metadata": {},
   "outputs": [
    {
     "data": {
      "text/plain": [
       "(3, 2, 4)"
      ]
     },
     "execution_count": 61,
     "metadata": {},
     "output_type": "execute_result"
    }
   ],
   "source": [
    "c.shape"
   ]
  },
  {
   "cell_type": "code",
   "execution_count": 62,
   "id": "554ec6fa-8dec-47f1-8220-505fda570720",
   "metadata": {},
   "outputs": [
    {
     "data": {
      "text/plain": [
       "array([[[1., 0.],\n",
       "        [1., 0.],\n",
       "        [1., 0.],\n",
       "        [1., 0.]],\n",
       "\n",
       "       [[1., 0.],\n",
       "        [1., 0.],\n",
       "        [1., 0.],\n",
       "        [1., 0.]],\n",
       "\n",
       "       [[1., 0.],\n",
       "        [1., 0.],\n",
       "        [1., 0.],\n",
       "        [1., 0.]]])"
      ]
     },
     "execution_count": 62,
     "metadata": {},
     "output_type": "execute_result"
    }
   ],
   "source": [
    "c = np.stack([c1, c2], axis = 2) # dstack과 동일\n",
    "c"
   ]
  },
  {
   "cell_type": "code",
   "execution_count": 63,
   "id": "122acdfa-0acc-4f97-acff-498bc58227af",
   "metadata": {},
   "outputs": [
    {
     "data": {
      "text/plain": [
       "(3, 4, 2)"
      ]
     },
     "execution_count": 63,
     "metadata": {},
     "output_type": "execute_result"
    }
   ],
   "source": [
    "c.shape"
   ]
  },
  {
   "cell_type": "code",
   "execution_count": null,
   "id": "4b20a049-a930-4b15-bc15-c25a534f4a2c",
   "metadata": {},
   "outputs": [],
   "source": []
  },
  {
   "cell_type": "code",
   "execution_count": 64,
   "id": "40185266-1fd1-42e8-94c6-c4d9dc207cbb",
   "metadata": {},
   "outputs": [
    {
     "data": {
      "text/plain": [
       "array([1, 2, 3, 4, 5, 6])"
      ]
     },
     "execution_count": 64,
     "metadata": {},
     "output_type": "execute_result"
    }
   ],
   "source": [
    "# r_method\n",
    "# r_method는 hstack과 비슷하게 배열을 좌우로 연결\n",
    "# method임에도 불구하고 소괄호(parenthesis,())를 사용하지 않고\n",
    "# 인덱싱과 같이 대괄호(bracket, [])를 사용한다.\n",
    "# 이런 특수 메서드를 인덱서(indexer)라고 한다.\n",
    "\n",
    "# 아래 예제를 보면 row 단위로 결합함\n",
    "\n",
    "np.r_[np.array([1, 2, 3]), np.array([4, 5, 6])]"
   ]
  },
  {
   "cell_type": "code",
   "execution_count": 65,
   "id": "81c123d2-8640-40e3-9560-1aab72f9b73b",
   "metadata": {},
   "outputs": [
    {
     "data": {
      "text/plain": [
       "array([[ 1,  2,  3],\n",
       "       [ 4,  5,  6],\n",
       "       [ 7,  8,  9],\n",
       "       [10, 11, 12]])"
      ]
     },
     "execution_count": 65,
     "metadata": {},
     "output_type": "execute_result"
    }
   ],
   "source": [
    "np.r_[np.array([[1, 2, 3],[4, 5, 6]]), \n",
    "      np.array([[7, 8, 9],[10, 11, 12]])]"
   ]
  },
  {
   "cell_type": "code",
   "execution_count": null,
   "id": "84641881-2154-431d-8d59-dac9108d02e5",
   "metadata": {},
   "outputs": [],
   "source": []
  },
  {
   "cell_type": "code",
   "execution_count": 66,
   "id": "d04b9562-4549-45e6-9c64-986daf7ec2c1",
   "metadata": {},
   "outputs": [
    {
     "data": {
      "text/plain": [
       "array([[1, 4],\n",
       "       [2, 5],\n",
       "       [3, 6]])"
      ]
     },
     "execution_count": 66,
     "metadata": {},
     "output_type": "execute_result"
    }
   ],
   "source": [
    "# c_method\n",
    "# c_method는 배열의 차원을 증가시킨 후 좌우로 연결\n",
    "# 만약 1차원 베열을 연결하면 2차원 배열이 됨\n",
    "\n",
    "# 아래 예제를 보면 차원을 1개 올리고, \n",
    "# (1,4), (2, 5)와 같이 column 단위로 결합\n",
    "\n",
    "np.c_[np.array([1, 2, 3]), np.array([4, 5, 6])]"
   ]
  },
  {
   "cell_type": "code",
   "execution_count": 67,
   "id": "7921e492-d966-4f6a-ac35-616f77868b56",
   "metadata": {},
   "outputs": [
    {
     "data": {
      "text/plain": [
       "array([[ 1,  2,  3,  7,  8,  9],\n",
       "       [ 4,  5,  6, 10, 11, 12]])"
      ]
     },
     "execution_count": 67,
     "metadata": {},
     "output_type": "execute_result"
    }
   ],
   "source": [
    "np.c_[np.array([[1, 2, 3],[4, 5, 6]]), \n",
    "      np.array([[7, 8, 9],[10, 11, 12]])]"
   ]
  },
  {
   "cell_type": "code",
   "execution_count": 68,
   "id": "774b8b04-485b-4da2-bc24-686a72eb6657",
   "metadata": {},
   "outputs": [
    {
     "data": {
      "text/plain": [
       "array([[ 1,  2,  3, 10, 11, 12],\n",
       "       [ 4,  5,  6, 13, 14, 15],\n",
       "       [ 7,  8,  9, 16, 17, 18]])"
      ]
     },
     "execution_count": 68,
     "metadata": {},
     "output_type": "execute_result"
    }
   ],
   "source": [
    "np.c_[np.array([[1, 2, 3],[4, 5, 6],[7, 8, 9]]), \n",
    "      np.array([[10, 11, 12],[13, 14, 15], [16, 17, 18]])]"
   ]
  },
  {
   "cell_type": "code",
   "execution_count": null,
   "id": "e7bcdce6-a8ab-473d-aea3-09d6cb117119",
   "metadata": {},
   "outputs": [],
   "source": []
  },
  {
   "cell_type": "code",
   "execution_count": 69,
   "id": "55677046-e9fb-4530-9636-cf049b2918eb",
   "metadata": {},
   "outputs": [
    {
     "data": {
      "text/plain": [
       "array([[0, 1, 2, 0, 1, 2],\n",
       "       [3, 4, 5, 3, 4, 5]])"
      ]
     },
     "execution_count": 69,
     "metadata": {},
     "output_type": "execute_result"
    }
   ],
   "source": [
    "# tile\n",
    "# tile은 배열을 반복하여 연결\n",
    "\n",
    "a = np.array([[0, 1, 2], [3, 4, 5]])\n",
    "np.tile(a, 2) # 가로로 배열 반복"
   ]
  },
  {
   "cell_type": "code",
   "execution_count": 70,
   "id": "8c9c315f-5a3a-4dc5-97e1-9cc351dc152c",
   "metadata": {},
   "outputs": [
    {
     "data": {
      "text/plain": [
       "array([[0, 1, 2, 0, 1, 2],\n",
       "       [3, 4, 5, 3, 4, 5],\n",
       "       [0, 1, 2, 0, 1, 2],\n",
       "       [3, 4, 5, 3, 4, 5],\n",
       "       [0, 1, 2, 0, 1, 2],\n",
       "       [3, 4, 5, 3, 4, 5]])"
      ]
     },
     "execution_count": 70,
     "metadata": {},
     "output_type": "execute_result"
    }
   ],
   "source": [
    "np.tile(a, (3, 2)) # 가로로 2번 반복한 후에 세로로 3번 반복"
   ]
  }
 ],
 "metadata": {
  "kernelspec": {
   "display_name": "Python 3 (ipykernel)",
   "language": "python",
   "name": "python3"
  },
  "language_info": {
   "codemirror_mode": {
    "name": "ipython",
    "version": 3
   },
   "file_extension": ".py",
   "mimetype": "text/x-python",
   "name": "python",
   "nbconvert_exporter": "python",
   "pygments_lexer": "ipython3",
   "version": "3.9.13"
  }
 },
 "nbformat": 4,
 "nbformat_minor": 5
}

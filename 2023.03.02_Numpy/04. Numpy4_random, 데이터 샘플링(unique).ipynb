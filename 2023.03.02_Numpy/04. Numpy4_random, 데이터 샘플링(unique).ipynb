{
 "cells": [
  {
   "cell_type": "code",
   "execution_count": 1,
   "id": "431313fc-63af-4a96-989f-c6872233a65b",
   "metadata": {},
   "outputs": [],
   "source": [
    "import numpy as np"
   ]
  },
  {
   "cell_type": "code",
   "execution_count": 2,
   "id": "7cf6e734-9ccd-45b9-8b19-5b6068817b36",
   "metadata": {},
   "outputs": [
    {
     "data": {
      "text/plain": [
       "array([ 18,   5,  10,  23,  19,  -8,  10,   0,   0,   5,   2,  15,   8,\n",
       "         2,   5,   4,  15,  -1,   4,  -7, -24,   7,   9,  -6,  23, -13])"
      ]
     },
     "execution_count": 2,
     "metadata": {},
     "output_type": "execute_result"
    }
   ],
   "source": [
    "# 기술 통계\n",
    "x = np.array([18, 5, 10, 23, 19, -8, 10, 0, 0, 5, 2,\n",
    "             15, 8, 2, 5, 4, 15, -1, 4, -7, -24, 7,\n",
    "             9, -6, 23, -13])\n",
    "x"
   ]
  },
  {
   "cell_type": "code",
   "execution_count": 3,
   "id": "8a34606f-8df1-4cfa-a5da-2cd9916620f8",
   "metadata": {},
   "outputs": [
    {
     "data": {
      "text/plain": [
       "26"
      ]
     },
     "execution_count": 3,
     "metadata": {},
     "output_type": "execute_result"
    }
   ],
   "source": [
    "len(x) #  개수"
   ]
  },
  {
   "cell_type": "code",
   "execution_count": 4,
   "id": "2dc7923d-8d7d-4a83-95a3-6ad139adc678",
   "metadata": {},
   "outputs": [
    {
     "data": {
      "text/plain": [
       "4.8076923076923075"
      ]
     },
     "execution_count": 4,
     "metadata": {},
     "output_type": "execute_result"
    }
   ],
   "source": [
    "np.mean(x) # 표본 평균"
   ]
  },
  {
   "cell_type": "code",
   "execution_count": 5,
   "id": "46d52a30-40ce-4894-83f0-08bb63d461bc",
   "metadata": {},
   "outputs": [
    {
     "data": {
      "text/plain": [
       "115.23224852071006"
      ]
     },
     "execution_count": 5,
     "metadata": {},
     "output_type": "execute_result"
    }
   ],
   "source": [
    "np.var(x) # 표본 분산"
   ]
  },
  {
   "cell_type": "code",
   "execution_count": 6,
   "id": "513484ca-b46b-42e2-bffe-ded67c522f8b",
   "metadata": {},
   "outputs": [
    {
     "data": {
      "text/plain": [
       "119.84153846153846"
      ]
     },
     "execution_count": 6,
     "metadata": {},
     "output_type": "execute_result"
    }
   ],
   "source": [
    "np.var(x, ddof=1) # 비편향 분산"
   ]
  },
  {
   "cell_type": "code",
   "execution_count": 7,
   "id": "b76cbb47-989b-4167-8ab3-c75e6105e3b7",
   "metadata": {},
   "outputs": [
    {
     "data": {
      "text/plain": [
       "10.734628476137871"
      ]
     },
     "execution_count": 7,
     "metadata": {},
     "output_type": "execute_result"
    }
   ],
   "source": [
    "np.std(x) # 표준 편차"
   ]
  },
  {
   "cell_type": "code",
   "execution_count": 8,
   "id": "e1c1432f-9c8f-49ce-be8f-bbbc99d33a82",
   "metadata": {},
   "outputs": [
    {
     "data": {
      "text/plain": [
       "23"
      ]
     },
     "execution_count": 8,
     "metadata": {},
     "output_type": "execute_result"
    }
   ],
   "source": [
    "np.max(x) # 최대값"
   ]
  },
  {
   "cell_type": "code",
   "execution_count": 9,
   "id": "2a021c25-6356-423b-9a4e-0943d3a5c4e5",
   "metadata": {},
   "outputs": [
    {
     "data": {
      "text/plain": [
       "-24"
      ]
     },
     "execution_count": 9,
     "metadata": {},
     "output_type": "execute_result"
    }
   ],
   "source": [
    "np.min(x) # 최소값"
   ]
  },
  {
   "cell_type": "code",
   "execution_count": 10,
   "id": "208001a7-c372-4c02-8053-38653b2d4c32",
   "metadata": {},
   "outputs": [
    {
     "data": {
      "text/plain": [
       "5.0"
      ]
     },
     "execution_count": 10,
     "metadata": {},
     "output_type": "execute_result"
    }
   ],
   "source": [
    "np.median(x) # 중앙값\n",
    "# 개수가 짝수라면 가운데값 2개의 평균을 산출"
   ]
  },
  {
   "cell_type": "code",
   "execution_count": null,
   "id": "c1106103-c020-48d9-8586-927c29818e63",
   "metadata": {},
   "outputs": [],
   "source": []
  },
  {
   "cell_type": "code",
   "execution_count": 11,
   "id": "4cd2adfd-487e-4552-8636-a4f02aa98e5e",
   "metadata": {},
   "outputs": [
    {
     "data": {
      "text/plain": [
       "-24"
      ]
     },
     "execution_count": 11,
     "metadata": {},
     "output_type": "execute_result"
    }
   ],
   "source": [
    "# 사분위수\n",
    "np.min(x) # 최소값"
   ]
  },
  {
   "cell_type": "code",
   "execution_count": 12,
   "id": "7dd73ca0-7953-429b-b436-ffba6b7c2f0e",
   "metadata": {},
   "outputs": [
    {
     "data": {
      "text/plain": [
       "5.0"
      ]
     },
     "execution_count": 12,
     "metadata": {},
     "output_type": "execute_result"
    }
   ],
   "source": [
    "np.median(x) # 중앙값"
   ]
  },
  {
   "cell_type": "code",
   "execution_count": 13,
   "id": "749e1513-3c1d-4cff-a45b-5bfe7377923b",
   "metadata": {},
   "outputs": [
    {
     "data": {
      "text/plain": [
       "-24.0"
      ]
     },
     "execution_count": 13,
     "metadata": {},
     "output_type": "execute_result"
    }
   ],
   "source": [
    "np.percentile(x, 0) # 최소값"
   ]
  },
  {
   "cell_type": "code",
   "execution_count": 14,
   "id": "ffea9dbb-91b9-4b6b-865c-5b833600da26",
   "metadata": {},
   "outputs": [
    {
     "data": {
      "text/plain": [
       "0.0"
      ]
     },
     "execution_count": 14,
     "metadata": {},
     "output_type": "execute_result"
    }
   ],
   "source": [
    "np.percentile(x, 25) # 1사분위 수"
   ]
  },
  {
   "cell_type": "code",
   "execution_count": 15,
   "id": "bb646734-c6aa-43f6-832f-c11bdb103290",
   "metadata": {},
   "outputs": [
    {
     "data": {
      "text/plain": [
       "5.0"
      ]
     },
     "execution_count": 15,
     "metadata": {},
     "output_type": "execute_result"
    }
   ],
   "source": [
    "np.percentile(x, 50) # 2사분위 수"
   ]
  },
  {
   "cell_type": "code",
   "execution_count": 16,
   "id": "8a60a68f-c31e-4280-8ed4-41cdaf7cee97",
   "metadata": {},
   "outputs": [
    {
     "data": {
      "text/plain": [
       "10.0"
      ]
     },
     "execution_count": 16,
     "metadata": {},
     "output_type": "execute_result"
    }
   ],
   "source": [
    "np.percentile(x, 75) # 3사분위 수"
   ]
  },
  {
   "cell_type": "code",
   "execution_count": 17,
   "id": "2422f2cf-c5c8-431a-8533-39d4b2cd636d",
   "metadata": {},
   "outputs": [
    {
     "data": {
      "text/plain": [
       "23.0"
      ]
     },
     "execution_count": 17,
     "metadata": {},
     "output_type": "execute_result"
    }
   ],
   "source": [
    "np.percentile(x, 100) # 최대값"
   ]
  },
  {
   "cell_type": "code",
   "execution_count": null,
   "id": "a694947d-0221-4b87-b2da-9cdb52aeebb1",
   "metadata": {},
   "outputs": [],
   "source": []
  },
  {
   "cell_type": "code",
   "execution_count": 18,
   "id": "3abd5194-4ed8-4f58-b30d-4b261f055e32",
   "metadata": {},
   "outputs": [],
   "source": [
    "# 난수 발생과 카운팅\n",
    "\n",
    "# 컴퓨터 프로그램에서 발생하는 무작위 수는 사실 엄격한 의미의 무작위 수가 아니다.\n",
    "# 컴퓨터가 정해진 알고리즘에 의해 마치 난수처럼 보이는 수열 생성\n",
    "\n",
    "# 이런 기준이 되는 시작 숫자를 시드(seed)라고 한다.\n",
    "# 일단 생성된 난수는 다음 번 난수 생성을 위한 시드값이 된다.\n",
    "\n",
    "# 특정 시드값이 사용되면 그 다음에 만들어지는 난수들은 모두 예측 가능하다."
   ]
  },
  {
   "cell_type": "code",
   "execution_count": 19,
   "id": "0ec48626-94a9-4dc3-ba71-e38c51bc2e13",
   "metadata": {},
   "outputs": [],
   "source": [
    "np.random.seed(0)"
   ]
  },
  {
   "cell_type": "code",
   "execution_count": 20,
   "id": "c2f82604-ef36-42f6-b99e-c96d85e6fc7b",
   "metadata": {},
   "outputs": [
    {
     "data": {
      "text/plain": [
       "array([0.5488135 , 0.71518937, 0.60276338, 0.54488318, 0.4236548 ])"
      ]
     },
     "execution_count": 20,
     "metadata": {},
     "output_type": "execute_result"
    }
   ],
   "source": [
    "np.random.rand(5)"
   ]
  },
  {
   "cell_type": "code",
   "execution_count": 21,
   "id": "c27eb3a3-030a-4e9f-80d4-fd9c6cf6dccc",
   "metadata": {},
   "outputs": [
    {
     "data": {
      "text/plain": [
       "array([0.64589411, 0.43758721, 0.891773  , 0.96366276, 0.38344152,\n",
       "       0.79172504, 0.52889492, 0.56804456, 0.92559664, 0.07103606])"
      ]
     },
     "execution_count": 21,
     "metadata": {},
     "output_type": "execute_result"
    }
   ],
   "source": [
    "np.random.rand(10)"
   ]
  },
  {
   "cell_type": "code",
   "execution_count": 22,
   "id": "84a61b35-d80b-4143-bc43-acd01a437d49",
   "metadata": {},
   "outputs": [
    {
     "data": {
      "text/plain": [
       "array([0.0871293 , 0.0202184 , 0.83261985, 0.77815675, 0.87001215,\n",
       "       0.97861834, 0.79915856, 0.46147936, 0.78052918, 0.11827443])"
      ]
     },
     "execution_count": 22,
     "metadata": {},
     "output_type": "execute_result"
    }
   ],
   "source": [
    "np.random.rand(10)"
   ]
  },
  {
   "cell_type": "code",
   "execution_count": 23,
   "id": "c9f450ba-094d-4575-af39-2bc79d2d1058",
   "metadata": {},
   "outputs": [],
   "source": [
    "# 시드값 초기화\n",
    "np.random.seed(0)"
   ]
  },
  {
   "cell_type": "code",
   "execution_count": 24,
   "id": "d3540a7d-9123-4c83-b2f4-563596a9feaf",
   "metadata": {},
   "outputs": [
    {
     "data": {
      "text/plain": [
       "array([0.5488135 , 0.71518937, 0.60276338, 0.54488318, 0.4236548 ])"
      ]
     },
     "execution_count": 24,
     "metadata": {},
     "output_type": "execute_result"
    }
   ],
   "source": [
    "np.random.rand(5)"
   ]
  },
  {
   "cell_type": "code",
   "execution_count": 25,
   "id": "4073e136-5c95-4940-9b86-77dd01cd607c",
   "metadata": {},
   "outputs": [
    {
     "data": {
      "text/plain": [
       "array([0.64589411, 0.43758721, 0.891773  , 0.96366276, 0.38344152,\n",
       "       0.79172504, 0.52889492, 0.56804456, 0.92559664, 0.07103606])"
      ]
     },
     "execution_count": 25,
     "metadata": {},
     "output_type": "execute_result"
    }
   ],
   "source": [
    "np.random.rand(10)"
   ]
  },
  {
   "cell_type": "code",
   "execution_count": 26,
   "id": "a5f81b6c-8851-4a93-a7dd-f747f2dcb013",
   "metadata": {},
   "outputs": [
    {
     "data": {
      "text/plain": [
       "array([0.0871293 , 0.0202184 , 0.83261985, 0.77815675, 0.87001215,\n",
       "       0.97861834, 0.79915856, 0.46147936, 0.78052918, 0.11827443])"
      ]
     },
     "execution_count": 26,
     "metadata": {},
     "output_type": "execute_result"
    }
   ],
   "source": [
    "np.random.rand(10)"
   ]
  },
  {
   "cell_type": "code",
   "execution_count": 27,
   "id": "28040a5c-a92e-47a8-9811-34ef9e629ebb",
   "metadata": {},
   "outputs": [],
   "source": [
    "# 위와 같이 시드 값이 정해지면 동일한 결과가 나오는 것 확인 가능"
   ]
  },
  {
   "cell_type": "code",
   "execution_count": null,
   "id": "3d624e50-79ad-485a-b1ac-2de0d3c06e46",
   "metadata": {},
   "outputs": [],
   "source": []
  },
  {
   "cell_type": "code",
   "execution_count": 28,
   "id": "549174ae-fe1d-4401-b8d9-7107b74ca535",
   "metadata": {},
   "outputs": [
    {
     "data": {
      "text/plain": [
       "array([0, 1, 2, 3, 4, 5, 6, 7, 8, 9])"
      ]
     },
     "execution_count": 28,
     "metadata": {},
     "output_type": "execute_result"
    }
   ],
   "source": [
    "# 데이터의 순서 바꾸기\n",
    "\n",
    "# 데이터의 순서를 바꾸려면 shuffle 함수를 사용\n",
    "# shuffle 함수도 자체 반환(in-place) 함수로 한 번 사용하면 \n",
    "# 변수의 값이 바뀐다.\n",
    "\n",
    "x = np.arange(10)\n",
    "x"
   ]
  },
  {
   "cell_type": "code",
   "execution_count": 29,
   "id": "20bf2a5b-f4bd-4853-a28e-050a3f1dd6d3",
   "metadata": {},
   "outputs": [
    {
     "data": {
      "text/plain": [
       "array([3, 6, 4, 5, 2, 9, 7, 8, 1, 0])"
      ]
     },
     "execution_count": 29,
     "metadata": {},
     "output_type": "execute_result"
    }
   ],
   "source": [
    "np.random.shuffle(x)\n",
    "x # in-place를 통해 x를 다시 변수로 지정 안 해도 결과가 반영됨\n",
    "# 주의 필요!!"
   ]
  },
  {
   "cell_type": "code",
   "execution_count": null,
   "id": "255ee028-1a48-4f45-bbac-c64e9414eb75",
   "metadata": {},
   "outputs": [],
   "source": []
  },
  {
   "cell_type": "code",
   "execution_count": 30,
   "id": "55bb39a6-c90f-49dc-baa5-7e7e9d5fa17e",
   "metadata": {},
   "outputs": [],
   "source": [
    "# 데이터 샘플링\n",
    "\n",
    "# 이미 있는 데이터 집합에서 일부를 무작위로 선택하는 것을\n",
    "# 표본선택 혹은 샘플링(sampling)이라고 한다.\n",
    "# 샘플링에는 choice 함수를 사용\n",
    "\n",
    "# choice 함수는 다음과 같은 인수를 가진다.\n",
    "# numpy.random.choice(a, size = None, replace = True, p = None)\n",
    "\n",
    "# a : 배열이면 원래 데이터, 정수이면 arange(a)명령으로 데이터 생성\n",
    "# size : 정수, 샘플 숫자\n",
    "# replace : 불리언, True이면 한번 선택한 데이터를 다시 선택 가능\n",
    "# p : 배열. 각 데이터가 선택될 수 있는 확률"
   ]
  },
  {
   "cell_type": "code",
   "execution_count": 31,
   "id": "b8e8ea4e-3d3e-461e-9dbc-c7f1382ba16c",
   "metadata": {},
   "outputs": [
    {
     "data": {
      "text/plain": [
       "array([1, 4, 0, 3, 2])"
      ]
     },
     "execution_count": 31,
     "metadata": {},
     "output_type": "execute_result"
    }
   ],
   "source": [
    "np.random.choice(5, 5, replace = False) # shuffle 명령과 같다."
   ]
  },
  {
   "cell_type": "code",
   "execution_count": 32,
   "id": "eb8ec80c-0a30-4b08-a1e5-1db8a3b1603a",
   "metadata": {},
   "outputs": [
    {
     "data": {
      "text/plain": [
       "array([2, 1, 3])"
      ]
     },
     "execution_count": 32,
     "metadata": {},
     "output_type": "execute_result"
    }
   ],
   "source": [
    "np.random.choice(5, 3, replace = False) # 3개만 선택"
   ]
  },
  {
   "cell_type": "code",
   "execution_count": 33,
   "id": "03e614fe-4cd9-48ad-ab9c-92b4fe577475",
   "metadata": {},
   "outputs": [
    {
     "data": {
      "text/plain": [
       "array([0, 4, 1, 4, 1, 2, 2, 0, 1, 1])"
      ]
     },
     "execution_count": 33,
     "metadata": {},
     "output_type": "execute_result"
    }
   ],
   "source": [
    "np.random.choice(5, 10) # 반복해서 10개 선택"
   ]
  },
  {
   "cell_type": "code",
   "execution_count": 34,
   "id": "3c1723b0-6670-46a0-9f63-e285aae976cc",
   "metadata": {},
   "outputs": [
    {
     "data": {
      "text/plain": [
       "array([0, 3, 3, 2, 2, 3, 3, 2, 0, 3])"
      ]
     },
     "execution_count": 34,
     "metadata": {},
     "output_type": "execute_result"
    }
   ],
   "source": [
    "np.random.choice(5, 10, p =  [0.1, 0, 0.3, 0.6, 0])\n",
    "# 선택 확률을 다르게 해서 10개 선택"
   ]
  },
  {
   "cell_type": "code",
   "execution_count": null,
   "id": "6a3671a2-becf-4613-bf2e-4068b5fc0a26",
   "metadata": {},
   "outputs": [],
   "source": []
  },
  {
   "cell_type": "code",
   "execution_count": 35,
   "id": "8c01656f-2d72-459f-b375-bcb4b879438a",
   "metadata": {},
   "outputs": [
    {
     "data": {
      "text/plain": [
       "array([0.95894927, 0.65279032, 0.63505887, 0.99529957, 0.58185033,\n",
       "       0.41436859, 0.4746975 , 0.6235101 , 0.33800761, 0.67475232])"
      ]
     },
     "execution_count": 35,
     "metadata": {},
     "output_type": "execute_result"
    }
   ],
   "source": [
    "# rand 함수는 0부터 1사이에서 균일한 확률 분포로 실수 난수 생성\n",
    "np.random.rand(10) # 실수를 소수점 아래 8자리까지 생성"
   ]
  },
  {
   "cell_type": "code",
   "execution_count": 36,
   "id": "6ffcaf2b-6457-4da7-9224-8365d9b34e73",
   "metadata": {},
   "outputs": [
    {
     "data": {
      "text/plain": [
       "array([[0.31720174, 0.77834548, 0.94957105, 0.66252687, 0.01357164],\n",
       "       [0.6228461 , 0.67365963, 0.971945  , 0.87819347, 0.50962438],\n",
       "       [0.05571469, 0.45115921, 0.01998767, 0.44171092, 0.97958673]])"
      ]
     },
     "execution_count": 36,
     "metadata": {},
     "output_type": "execute_result"
    }
   ],
   "source": [
    "np.random.rand(3, 5)"
   ]
  },
  {
   "cell_type": "code",
   "execution_count": null,
   "id": "b0bbfb1b-65a0-4493-9b27-6db5b05d9d0f",
   "metadata": {},
   "outputs": [],
   "source": []
  },
  {
   "cell_type": "code",
   "execution_count": 37,
   "id": "efeee6c1-a3a0-4d0d-869a-d2aff98a02ed",
   "metadata": {},
   "outputs": [
    {
     "data": {
      "text/plain": [
       "array([-0.30237513, -2.2244036 ,  0.72400636,  0.35900276,  1.07612104,\n",
       "        0.19214083,  0.85292596,  0.01835718,  0.42830357,  0.99627783])"
      ]
     },
     "execution_count": 37,
     "metadata": {},
     "output_type": "execute_result"
    }
   ],
   "source": [
    "# randn 함수는 기댓값(mean)이 0이고 표준편차가 1인\n",
    "# 표준 정규분포(standard normal distribution)를 따르는 난수 생성\n",
    "np.random.randn(10)"
   ]
  },
  {
   "cell_type": "code",
   "execution_count": 38,
   "id": "07a4e482-27ea-479f-85a8-1f848ec50ff0",
   "metadata": {},
   "outputs": [
    {
     "data": {
      "text/plain": [
       "array([[-0.49114966,  0.71267817,  1.11334035, -2.15367459, -0.41611148],\n",
       "       [-1.07089699,  0.22113881, -1.12305712, -1.05075796,  1.01207905],\n",
       "       [ 1.54371643, -0.40211489,  0.8647491 , -0.22686923,  0.81116027]])"
      ]
     },
     "execution_count": 38,
     "metadata": {},
     "output_type": "execute_result"
    }
   ],
   "source": [
    "np.random.randn(3, 5)"
   ]
  },
  {
   "cell_type": "code",
   "execution_count": null,
   "id": "6848a660-2533-4efb-8a38-24bbc8cac019",
   "metadata": {},
   "outputs": [],
   "source": []
  },
  {
   "cell_type": "code",
   "execution_count": 39,
   "id": "3a0b266f-4800-4162-9c5c-c444e86f8c9c",
   "metadata": {},
   "outputs": [
    {
     "data": {
      "text/plain": [
       "array([0, 4, 3, 6, 9, 8, 0, 8, 5, 9])"
      ]
     },
     "execution_count": 39,
     "metadata": {},
     "output_type": "execute_result"
    }
   ],
   "source": [
    "# randint\n",
    "# randint 함수의 인수\n",
    "# numpy.random.randint(low, high = None, size = None)\n",
    "\n",
    "# 만약 high를 입력하지 않으면 0과 low 사이의 숫자를, \n",
    "# high를 입력하면 low와 high 사이의 숫자를 출력한다.\n",
    "\n",
    "# size는 난수의 개수\n",
    "\n",
    "# high의 범위는 포함하지 않는다.\n",
    "\n",
    "np.random.randint(10, size = 10)"
   ]
  },
  {
   "cell_type": "code",
   "execution_count": 40,
   "id": "b4c4b2f0-673b-46f3-b5bd-39983c719d03",
   "metadata": {},
   "outputs": [
    {
     "data": {
      "text/plain": [
       "array([10, 19, 16, 15, 13, 11, 18, 10, 14, 19])"
      ]
     },
     "execution_count": 40,
     "metadata": {},
     "output_type": "execute_result"
    }
   ],
   "source": [
    "np.random.randint(10, 20, size = 10)"
   ]
  },
  {
   "cell_type": "code",
   "execution_count": 41,
   "id": "08fb7136-6aec-43bc-a6f0-b1f3652dfd48",
   "metadata": {},
   "outputs": [
    {
     "data": {
      "text/plain": [
       "array([[16, 15, 17, 18, 18],\n",
       "       [19, 12, 18, 16, 16],\n",
       "       [19, 11, 16, 18, 18]])"
      ]
     },
     "execution_count": 41,
     "metadata": {},
     "output_type": "execute_result"
    }
   ],
   "source": [
    "np.random.randint(10, 20, size = (3, 5))"
   ]
  },
  {
   "cell_type": "code",
   "execution_count": null,
   "id": "6750bf9c-ecb9-4856-a06b-03284b7c6815",
   "metadata": {},
   "outputs": [],
   "source": []
  },
  {
   "cell_type": "code",
   "execution_count": 42,
   "id": "974b09cf-2210-491e-bbf1-56c04add7f09",
   "metadata": {},
   "outputs": [
    {
     "data": {
      "text/plain": [
       "array([ 2, 11, 34])"
      ]
     },
     "execution_count": 42,
     "metadata": {},
     "output_type": "execute_result"
    }
   ],
   "source": [
    "# 정수 데이터 카운팅\n",
    "# 난수가 정수값이면 unique명령이나 bincount 명령으로 데이터 값 분석 가능\n",
    "\n",
    "# unique()함수는 데이터에서 중복된 값을 제거하고 중복되지 않는 값의 \n",
    "# 리스트를 출력한다.\n",
    "\n",
    "# returns_counts 인수를 True로 설정하면 각 값의 데이터 개수도 출력\n",
    "\n",
    "np.unique([11, 11, 2, 2, 34, 34])"
   ]
  },
  {
   "cell_type": "code",
   "execution_count": 43,
   "id": "f31e17c6-8608-4f7a-9d01-a3964014e0de",
   "metadata": {},
   "outputs": [],
   "source": [
    "a = np.array(['a', 'b', 'c', 'a'])\n",
    "index, count = np.unique(a, return_counts = True)"
   ]
  },
  {
   "cell_type": "code",
   "execution_count": 44,
   "id": "8b8b1e99-c8be-41c7-b41f-8cfed17ae1cb",
   "metadata": {},
   "outputs": [
    {
     "data": {
      "text/plain": [
       "array(['a', 'b', 'c'], dtype='<U1')"
      ]
     },
     "execution_count": 44,
     "metadata": {},
     "output_type": "execute_result"
    }
   ],
   "source": [
    "index"
   ]
  },
  {
   "cell_type": "code",
   "execution_count": 45,
   "id": "789d1462-08ac-4781-870f-239c9c463ea6",
   "metadata": {},
   "outputs": [
    {
     "data": {
      "text/plain": [
       "array([2, 1, 1], dtype=int64)"
      ]
     },
     "execution_count": 45,
     "metadata": {},
     "output_type": "execute_result"
    }
   ],
   "source": [
    "count"
   ]
  },
  {
   "cell_type": "code",
   "execution_count": null,
   "id": "22184036-c1fd-42b9-a94b-490f7f8eb949",
   "metadata": {},
   "outputs": [],
   "source": []
  },
  {
   "cell_type": "code",
   "execution_count": 46,
   "id": "0968f3d5-d87c-4ef3-8e9b-c615412aed92",
   "metadata": {},
   "outputs": [
    {
     "data": {
      "text/plain": [
       "array([0, 2, 3, 1, 0, 0], dtype=int64)"
      ]
     },
     "execution_count": 46,
     "metadata": {},
     "output_type": "execute_result"
    }
   ],
   "source": [
    "# unique()는 데이터에 존재하는 값에 대해서만 개수를 세므로\n",
    "# 데이터 값이 나올 수 있음에도 불구하고 데이터가 하나도 없는\n",
    "# 경우에는 정보를 주지 않는다.\n",
    "\n",
    "# 예를 들어 주사위를 10번 던졌는데 6이 한 번도 나오지 않으면 \n",
    "# 이 값을 0으로 세어주지 않는다.\n",
    "\n",
    "# 따라서 데이터가 주사위를 던졌을 때 나오는 수처럼 특정 범위안의 \n",
    "# 수인 경우에는 bincount 함수에 minlength 인수를 설정하여 쓰는 것이\n",
    "# 편리하다. bincount 함수는 0부터 minlength -1까지의 숫자에 대해 \n",
    "# 각각 카운트를 한다. 데이터가 없을 경우에는 카운트 값이 0이 된다.\n",
    "\n",
    "np.bincount([1, 1, 2, 2, 2, 3], minlength = 6)"
   ]
  },
  {
   "cell_type": "code",
   "execution_count": 47,
   "id": "1f72773b-f46d-4021-b5d5-c9d8ea943cd4",
   "metadata": {},
   "outputs": [],
   "source": [
    "# 0 ~ 5에 대하여 카운트 (minlength가 6이므로)"
   ]
  }
 ],
 "metadata": {
  "kernelspec": {
   "display_name": "Python 3 (ipykernel)",
   "language": "python",
   "name": "python3"
  },
  "language_info": {
   "codemirror_mode": {
    "name": "ipython",
    "version": 3
   },
   "file_extension": ".py",
   "mimetype": "text/x-python",
   "name": "python",
   "nbconvert_exporter": "python",
   "pygments_lexer": "ipython3",
   "version": "3.9.13"
  }
 },
 "nbformat": 4,
 "nbformat_minor": 5
}

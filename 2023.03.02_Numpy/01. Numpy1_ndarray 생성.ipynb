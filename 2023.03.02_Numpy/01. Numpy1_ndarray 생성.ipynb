{
 "cells": [
  {
   "cell_type": "code",
   "execution_count": 1,
   "id": "f254e78f-1d3e-423a-864c-6025a41dd95f",
   "metadata": {},
   "outputs": [],
   "source": [
    "# python 리스트는 length, items으로 구성되어 있다.\n",
    "# length는 시퀀스 길이, items는 요소(주소)이다.\n",
    "# 다양한 자료형을 섞어서 가질 수 있다.\n",
    "# 리스트 요소가 shallow copy, deepcopy로 자유롭게 복사 가능\n",
    "# 메모리 상에 주소가 연속적인 값을 지님\n",
    "\n",
    "# 반면에 numpy는 data, dimensions, strides로 구성되어 있다.\n",
    "# data는 이진 데이터, dimensions는 배열 구조(차원), \n",
    "# strides는 증감 크기(type 크기)이다.\n",
    "# 단일 자료형만 가질 수 있다.\n",
    "# 메모리 상에 연속적인 값을 가짐"
   ]
  },
  {
   "cell_type": "code",
   "execution_count": 2,
   "id": "faa1cf7f-1964-4655-9116-39b00ffa6fea",
   "metadata": {},
   "outputs": [],
   "source": [
    "import numpy as np"
   ]
  },
  {
   "cell_type": "code",
   "execution_count": 3,
   "id": "79335736-01c2-4090-b80a-4709ffb85a8d",
   "metadata": {},
   "outputs": [
    {
     "data": {
      "text/plain": [
       "array([0, 1, 2, 3, 4, 5, 6, 7, 8, 9])"
      ]
     },
     "execution_count": 3,
     "metadata": {},
     "output_type": "execute_result"
    }
   ],
   "source": [
    "# 1차원 배열 만들기\n",
    "ar = np.array([_ for _ in range(10)])\n",
    "ar"
   ]
  },
  {
   "cell_type": "code",
   "execution_count": 4,
   "id": "c23334eb-c252-4ce8-a895-90052987964a",
   "metadata": {},
   "outputs": [
    {
     "data": {
      "text/plain": [
       "(10,)"
      ]
     },
     "execution_count": 4,
     "metadata": {},
     "output_type": "execute_result"
    }
   ],
   "source": [
    "ar.shape # 1차원의 10칸을 갖는 ndarray"
   ]
  },
  {
   "cell_type": "code",
   "execution_count": 5,
   "id": "17085874-13d8-459a-a3f5-d75d997dafa5",
   "metadata": {},
   "outputs": [
    {
     "data": {
      "text/plain": [
       "numpy.ndarray"
      ]
     },
     "execution_count": 5,
     "metadata": {},
     "output_type": "execute_result"
    }
   ],
   "source": [
    "type(ar)"
   ]
  },
  {
   "cell_type": "code",
   "execution_count": 6,
   "id": "f9d73082-6509-495e-ae64-bb13c58fa001",
   "metadata": {},
   "outputs": [
    {
     "data": {
      "text/plain": [
       "array([ 0.1,  5. ,  4. , 12. ,  0.5])"
      ]
     },
     "execution_count": 6,
     "metadata": {},
     "output_type": "execute_result"
    }
   ],
   "source": [
    "ar2 = np.array([0.1, 5, 4, 12, 0.5]) # 하나의 자료형으로 통일\n",
    "ar2 # 5, 4 ,12가 실수로 통일됨"
   ]
  },
  {
   "cell_type": "code",
   "execution_count": 7,
   "id": "a7fcc690-c31f-44df-9590-86e30715ab66",
   "metadata": {},
   "outputs": [
    {
     "data": {
      "text/plain": [
       "dtype('int32')"
      ]
     },
     "execution_count": 7,
     "metadata": {},
     "output_type": "execute_result"
    }
   ],
   "source": [
    "# 넘파이의 자료형\n",
    "x = np.array([1, 2, 3])\n",
    "x.dtype"
   ]
  },
  {
   "cell_type": "code",
   "execution_count": 8,
   "id": "ab93185a-1a9b-4924-96e4-3832ec3099d9",
   "metadata": {},
   "outputs": [
    {
     "data": {
      "text/plain": [
       "dtype('float64')"
      ]
     },
     "execution_count": 8,
     "metadata": {},
     "output_type": "execute_result"
    }
   ],
   "source": [
    "x = np.array([1.0, 2.0, 3.0])\n",
    "x.dtype"
   ]
  },
  {
   "cell_type": "code",
   "execution_count": 9,
   "id": "8208d16b-515b-406e-a8e7-3c95287e7820",
   "metadata": {},
   "outputs": [
    {
     "data": {
      "text/plain": [
       "dtype('float64')"
      ]
     },
     "execution_count": 9,
     "metadata": {},
     "output_type": "execute_result"
    }
   ],
   "source": [
    "x = np.array([1, 2, 3.0])\n",
    "x.dtype"
   ]
  },
  {
   "cell_type": "code",
   "execution_count": 10,
   "id": "ef8ef58f-1b53-4a5d-a73a-feece837a6e8",
   "metadata": {},
   "outputs": [],
   "source": [
    "# dtype접두사    type             example \n",
    "# '?' :        Boolean          ?(True, False)\n",
    "# 'i' :          int            i8(64bit)\n",
    "# 'u' :      unsigned int       u8(64bit)\n",
    "# 'f' :         float           f8(64bit)\n",
    "# 'c' :        complex          c16(128bit)\n",
    "# 'O' :         Object          0(객체에 대한 포인터)\n",
    "# 'U' :     Unicode string      U24(24 유니코드 글자)"
   ]
  },
  {
   "cell_type": "code",
   "execution_count": 11,
   "id": "661b6f18-4809-45a4-9953-6ba4a94eb961",
   "metadata": {},
   "outputs": [
    {
     "data": {
      "text/plain": [
       "dtype('float32')"
      ]
     },
     "execution_count": 11,
     "metadata": {},
     "output_type": "execute_result"
    }
   ],
   "source": [
    "x = np.array([1, 2, 3], dtype = 'f')\n",
    "x.dtype"
   ]
  },
  {
   "cell_type": "code",
   "execution_count": 12,
   "id": "51a24f0c-82ec-483f-a9fe-cbeaca5f7874",
   "metadata": {},
   "outputs": [
    {
     "data": {
      "text/plain": [
       "3.0"
      ]
     },
     "execution_count": 12,
     "metadata": {},
     "output_type": "execute_result"
    }
   ],
   "source": [
    "x[0] + x[1]"
   ]
  },
  {
   "cell_type": "code",
   "execution_count": 13,
   "id": "2d53fb6a-a965-41b0-93be-ef8ff980af6d",
   "metadata": {},
   "outputs": [
    {
     "data": {
      "text/plain": [
       "dtype('<U1')"
      ]
     },
     "execution_count": 13,
     "metadata": {},
     "output_type": "execute_result"
    }
   ],
   "source": [
    "x = np.array([1, 2, 3], dtype = 'U')\n",
    "x.dtype # 1칸 짜리 공간 생성(1차원)\n",
    "# 최대한 메모리를 적게 사용하려고 함"
   ]
  },
  {
   "cell_type": "code",
   "execution_count": 14,
   "id": "f995bfdf-1ff3-4c4b-8f4f-111f0f91fd6f",
   "metadata": {},
   "outputs": [
    {
     "data": {
      "text/plain": [
       "'12'"
      ]
     },
     "execution_count": 14,
     "metadata": {},
     "output_type": "execute_result"
    }
   ],
   "source": [
    "x[0] + x[1]"
   ]
  },
  {
   "cell_type": "code",
   "execution_count": 15,
   "id": "7f663a83-1ad5-4e31-a21d-88912554a0ef",
   "metadata": {},
   "outputs": [
    {
     "name": "stderr",
     "output_type": "stream",
     "text": [
      "C:\\Users\\user\\AppData\\Local\\Temp\\ipykernel_11036\\169884558.py:1: RuntimeWarning: divide by zero encountered in true_divide\n",
      "  np.array([0, 1, -1, 0]) / np.array([1, 0, 0, 0])\n",
      "C:\\Users\\user\\AppData\\Local\\Temp\\ipykernel_11036\\169884558.py:1: RuntimeWarning: invalid value encountered in true_divide\n",
      "  np.array([0, 1, -1, 0]) / np.array([1, 0, 0, 0])\n"
     ]
    },
    {
     "data": {
      "text/plain": [
       "array([  0.,  inf, -inf,  nan])"
      ]
     },
     "execution_count": 15,
     "metadata": {},
     "output_type": "execute_result"
    }
   ],
   "source": [
    "np.array([0, 1, -1, 0]) / np.array([1, 0, 0, 0])\n",
    "# 무한대가 값이면 np.inf가 나온다\n",
    "# 0을 0으로 나눌 경우 np.nan이 나온다."
   ]
  },
  {
   "cell_type": "code",
   "execution_count": 16,
   "id": "3b4a84bf-810c-4a29-897c-c7f149d43034",
   "metadata": {},
   "outputs": [
    {
     "name": "stderr",
     "output_type": "stream",
     "text": [
      "C:\\Users\\user\\AppData\\Local\\Temp\\ipykernel_11036\\1995227575.py:1: RuntimeWarning: divide by zero encountered in log\n",
      "  np.log(0) # 무한대\n"
     ]
    },
    {
     "data": {
      "text/plain": [
       "-inf"
      ]
     },
     "execution_count": 16,
     "metadata": {},
     "output_type": "execute_result"
    }
   ],
   "source": [
    "np.log(0) # 무한대"
   ]
  },
  {
   "cell_type": "code",
   "execution_count": 17,
   "id": "12027ff0-d2b6-4eee-979e-2fe48a705336",
   "metadata": {},
   "outputs": [
    {
     "data": {
      "text/plain": [
       "0.0"
      ]
     },
     "execution_count": 17,
     "metadata": {},
     "output_type": "execute_result"
    }
   ],
   "source": [
    "np.exp(-np.inf)"
   ]
  },
  {
   "cell_type": "code",
   "execution_count": 18,
   "id": "2e138c4c-787a-46e3-8ed5-1cbd66f1e207",
   "metadata": {},
   "outputs": [
    {
     "data": {
      "text/plain": [
       "[0, 2, 4, 6, 8, 10, 12, 14, 16, 18]"
      ]
     },
     "execution_count": 18,
     "metadata": {},
     "output_type": "execute_result"
    }
   ],
   "source": [
    "# 벡터화 연산\n",
    "data = [0, 1, 2, 3, 4, 5, 6, 7, 8, 9] # python list\n",
    "answer = [2 * d for d in data]\n",
    "answer"
   ]
  },
  {
   "cell_type": "code",
   "execution_count": 19,
   "id": "71e6ee97-c347-4d52-abec-f9254dfd0f3b",
   "metadata": {},
   "outputs": [
    {
     "data": {
      "text/plain": [
       "array([0, 1, 2, 3, 4, 5, 6, 7, 8, 9])"
      ]
     },
     "execution_count": 19,
     "metadata": {},
     "output_type": "execute_result"
    }
   ],
   "source": [
    "x = np.array(data) # ndarray로 전환\n",
    "x"
   ]
  },
  {
   "cell_type": "code",
   "execution_count": 20,
   "id": "edd62562-a253-4af8-a14d-2d14267fcca2",
   "metadata": {},
   "outputs": [
    {
     "data": {
      "text/plain": [
       "array([ 0,  2,  4,  6,  8, 10, 12, 14, 16, 18])"
      ]
     },
     "execution_count": 20,
     "metadata": {},
     "output_type": "execute_result"
    }
   ],
   "source": [
    "2 * x # 1bit를 왼쪽으로 밀어내면 X2, 오른쪽으로 밀면 /2다.\n",
    "# 따라서 벡터 연산을 하는 numpy가 리스트보다 더 빠른 연산이 가능하다."
   ]
  },
  {
   "cell_type": "code",
   "execution_count": 21,
   "id": "24598e69-7ab4-43e6-9d59-b9d1613b7c6f",
   "metadata": {},
   "outputs": [
    {
     "name": "stdout",
     "output_type": "stream",
     "text": [
      "[0, 1, 2, 0, 1, 2, 0, 1, 2, 0, 1, 2, 0, 1, 2]\n"
     ]
    }
   ],
   "source": [
    "list_samp = [_ for _ in range(3)]\n",
    "print(list_samp * 5) # 리스트에 곱 연산을 하면 리스트 길이가 연산이 된다.\n",
    "# 이 예제에서는 list_samp가 5번 곱해짐"
   ]
  },
  {
   "cell_type": "code",
   "execution_count": 22,
   "id": "927fc7d3-a2c6-4a38-9250-c18e45910ee7",
   "metadata": {},
   "outputs": [],
   "source": [
    "a = np.array([1, 2, 3])\n",
    "b = np.array([10, 20, 30])"
   ]
  },
  {
   "cell_type": "code",
   "execution_count": 23,
   "id": "b3ee1305-76f8-4c1a-8cb5-4e6b9afc71a7",
   "metadata": {},
   "outputs": [
    {
     "data": {
      "text/plain": [
       "array([12, 24, 36])"
      ]
     },
     "execution_count": 23,
     "metadata": {},
     "output_type": "execute_result"
    }
   ],
   "source": [
    "2 * a + b # ndarray는 각 요소에 대하여 연산이 이루어지는 것을 확인 가능\n",
    "# 만일 ndarray랑 리스트가 연산되면 ndarray를 기준으로 계산된다."
   ]
  },
  {
   "cell_type": "code",
   "execution_count": 24,
   "id": "84d7f706-1b33-4fce-b682-9dcf70151c4d",
   "metadata": {},
   "outputs": [
    {
     "data": {
      "text/plain": [
       "array([False,  True, False])"
      ]
     },
     "execution_count": 24,
     "metadata": {},
     "output_type": "execute_result"
    }
   ],
   "source": [
    "a == 2 # 해당 요소가 있는 자리가 True 반환"
   ]
  },
  {
   "cell_type": "code",
   "execution_count": 25,
   "id": "e2209e94-7125-4ace-a30b-baaa9958c3e6",
   "metadata": {},
   "outputs": [
    {
     "data": {
      "text/plain": [
       "array([False,  True, False])"
      ]
     },
     "execution_count": 25,
     "metadata": {},
     "output_type": "execute_result"
    }
   ],
   "source": [
    "a == np.array([2, 2, 2]) # a==2의 구조\n",
    "# 이를 broadcasting이라고 함"
   ]
  },
  {
   "cell_type": "code",
   "execution_count": 26,
   "id": "b06df668-40f3-4a76-b8aa-206c42759b7c",
   "metadata": {},
   "outputs": [
    {
     "data": {
      "text/plain": [
       "array([False,  True,  True])"
      ]
     },
     "execution_count": 26,
     "metadata": {},
     "output_type": "execute_result"
    }
   ],
   "source": [
    "b > 10"
   ]
  },
  {
   "cell_type": "code",
   "execution_count": 27,
   "id": "26dd4e38-2807-4065-a4f2-f0acfcd73861",
   "metadata": {},
   "outputs": [
    {
     "data": {
      "text/plain": [
       "array([False,  True, False])"
      ]
     },
     "execution_count": 27,
     "metadata": {},
     "output_type": "execute_result"
    }
   ],
   "source": [
    "(a == 2) & (b > 10) # a 와 b에 and 조건으로 참인 것만 반환\n",
    "# 이 예제에서는 2번째 요소(1번 인덱스)만 참이다\n",
    "# & 동작은 비교대상의 비트를 비교한다.\n",
    "# and과 다름"
   ]
  },
  {
   "cell_type": "code",
   "execution_count": 28,
   "id": "7eef3b78-f73b-437a-9524-e66ee6c02fa8",
   "metadata": {},
   "outputs": [
    {
     "ename": "ValueError",
     "evalue": "The truth value of an array with more than one element is ambiguous. Use a.any() or a.all()",
     "output_type": "error",
     "traceback": [
      "\u001b[1;31m---------------------------------------------------------------------------\u001b[0m",
      "\u001b[1;31mValueError\u001b[0m                                Traceback (most recent call last)",
      "\u001b[1;32m~\\AppData\\Local\\Temp\\ipykernel_11036\\1828667892.py\u001b[0m in \u001b[0;36m<module>\u001b[1;34m\u001b[0m\n\u001b[1;32m----> 1\u001b[1;33m \u001b[1;33m(\u001b[0m\u001b[0ma\u001b[0m \u001b[1;33m==\u001b[0m \u001b[1;36m2\u001b[0m\u001b[1;33m)\u001b[0m \u001b[1;32mand\u001b[0m \u001b[1;33m(\u001b[0m\u001b[0mb\u001b[0m \u001b[1;33m>\u001b[0m \u001b[1;36m10\u001b[0m\u001b[1;33m)\u001b[0m \u001b[1;31m# numpy에서는 and를 쓰면 에러 발생\u001b[0m\u001b[1;33m\u001b[0m\u001b[1;33m\u001b[0m\u001b[0m\n\u001b[0m\u001b[0;32m      2\u001b[0m \u001b[1;31m# &를 통해 비트 연산을 하여 and과 동일한 결과 생성\u001b[0m\u001b[1;33m\u001b[0m\u001b[1;33m\u001b[0m\u001b[0m\n",
      "\u001b[1;31mValueError\u001b[0m: The truth value of an array with more than one element is ambiguous. Use a.any() or a.all()"
     ]
    }
   ],
   "source": [
    "(a == 2) and (b > 10) # numpy에서는 and를 쓰면 에러 발생\n",
    "# &를 통해 비트 연산을 하여 and과 동일한 결과 생성"
   ]
  },
  {
   "cell_type": "code",
   "execution_count": 29,
   "id": "270ed01b-3640-43f7-8161-28fc06b89ebf",
   "metadata": {},
   "outputs": [
    {
     "ename": "ValueError",
     "evalue": "The truth value of an array with more than one element is ambiguous. Use a.any() or a.all()",
     "output_type": "error",
     "traceback": [
      "\u001b[1;31m---------------------------------------------------------------------------\u001b[0m",
      "\u001b[1;31mValueError\u001b[0m                                Traceback (most recent call last)",
      "\u001b[1;32m~\\AppData\\Local\\Temp\\ipykernel_11036\\1997370448.py\u001b[0m in \u001b[0;36m<module>\u001b[1;34m\u001b[0m\n\u001b[1;32m----> 1\u001b[1;33m \u001b[0ma\u001b[0m \u001b[1;33m==\u001b[0m \u001b[1;36m2\u001b[0m \u001b[1;33m&\u001b[0m \u001b[0mb\u001b[0m \u001b[1;33m>\u001b[0m \u001b[1;36m10\u001b[0m \u001b[1;31m# &가 우선순위가 밀려서 연산이 안 됨\u001b[0m\u001b[1;33m\u001b[0m\u001b[1;33m\u001b[0m\u001b[0m\n\u001b[0m",
      "\u001b[1;31mValueError\u001b[0m: The truth value of an array with more than one element is ambiguous. Use a.any() or a.all()"
     ]
    }
   ],
   "source": [
    "a == 2 & b > 10 # &가 우선순위가 밀려서 연산이 안 됨"
   ]
  },
  {
   "cell_type": "code",
   "execution_count": null,
   "id": "ef4da355-a3d1-4430-b954-6b029b4fd491",
   "metadata": {},
   "outputs": [],
   "source": []
  },
  {
   "cell_type": "code",
   "execution_count": 30,
   "id": "f536ffc1-e0c2-4c3a-9fad-54dd8dca8b58",
   "metadata": {},
   "outputs": [
    {
     "data": {
      "text/plain": [
       "array([[0, 1, 2],\n",
       "       [3, 4, 5]])"
      ]
     },
     "execution_count": 30,
     "metadata": {},
     "output_type": "execute_result"
    }
   ],
   "source": [
    "# 2차원 배열 만들기\n",
    "# axis는 0이 행, 1이 열이다.\n",
    "# 행 X 열\n",
    "\n",
    "c = np.array([[0, 1, 2], [3, 4, 5]]) # 2 X 3 array\n",
    "c"
   ]
  },
  {
   "cell_type": "code",
   "execution_count": 31,
   "id": "03d316f5-2b6a-4ca0-980e-933cbb4af251",
   "metadata": {},
   "outputs": [
    {
     "data": {
      "text/plain": [
       "2"
      ]
     },
     "execution_count": 31,
     "metadata": {},
     "output_type": "execute_result"
    }
   ],
   "source": [
    "# 행의 개수\n",
    "len(c)"
   ]
  },
  {
   "cell_type": "code",
   "execution_count": 32,
   "id": "95242abc-5e15-44c6-97dc-b70e1474a4f8",
   "metadata": {},
   "outputs": [
    {
     "data": {
      "text/plain": [
       "3"
      ]
     },
     "execution_count": 32,
     "metadata": {},
     "output_type": "execute_result"
    }
   ],
   "source": [
    "# 열의 개수\n",
    "len(c[0])"
   ]
  },
  {
   "cell_type": "code",
   "execution_count": 33,
   "id": "7f48dfcb-6629-4aba-ab31-a9dc57aea4a8",
   "metadata": {},
   "outputs": [
    {
     "data": {
      "text/plain": [
       "(2, 3)"
      ]
     },
     "execution_count": 33,
     "metadata": {},
     "output_type": "execute_result"
    }
   ],
   "source": [
    "c.shape"
   ]
  },
  {
   "cell_type": "code",
   "execution_count": null,
   "id": "3a637357-70c0-4f92-823d-ff6e619ba1d7",
   "metadata": {},
   "outputs": [],
   "source": []
  },
  {
   "cell_type": "code",
   "execution_count": 34,
   "id": "2c285dad-9975-4a05-9f02-2000fb857249",
   "metadata": {},
   "outputs": [],
   "source": [
    "# 3차원 배열 만들기\n",
    "# axis는 0이 깊이, 1이 행, 2가 열이다.\n",
    "# 깊이 X 행 X 열"
   ]
  },
  {
   "cell_type": "code",
   "execution_count": 35,
   "id": "814851a6-eb27-4d45-b059-02b94f51089e",
   "metadata": {},
   "outputs": [
    {
     "data": {
      "text/plain": [
       "array([[[ 1,  2,  3,  4],\n",
       "        [ 5,  6,  7,  8],\n",
       "        [ 9, 10, 11, 12]],\n",
       "\n",
       "       [[11, 12, 13, 14],\n",
       "        [15, 16, 17, 18],\n",
       "        [19, 20, 21, 22]]])"
      ]
     },
     "execution_count": 35,
     "metadata": {},
     "output_type": "execute_result"
    }
   ],
   "source": [
    "d = np.array([[[1, 2, 3, 4], \n",
    "              [5, 6, 7, 8], \n",
    "              [9, 10, 11, 12]],\n",
    "             [[11, 12, 13, 14], \n",
    "              [15, 16, 17, 18],\n",
    "              [19, 20, 21, 22]]])\n",
    "d"
   ]
  },
  {
   "cell_type": "code",
   "execution_count": 36,
   "id": "b6b5262f-7913-46fa-96b8-6403982069a2",
   "metadata": {},
   "outputs": [
    {
     "data": {
      "text/plain": [
       "(2, 3, 4)"
      ]
     },
     "execution_count": 36,
     "metadata": {},
     "output_type": "execute_result"
    }
   ],
   "source": [
    "len(d), len(d[0]), len(d[0][0]) # 한줄에 쓰면 tuple로 인식됨"
   ]
  },
  {
   "cell_type": "code",
   "execution_count": 37,
   "id": "0d7b9838-00ba-4027-8a50-9edac8f270f0",
   "metadata": {},
   "outputs": [
    {
     "data": {
      "text/plain": [
       "(2, 3, 4)"
      ]
     },
     "execution_count": 37,
     "metadata": {},
     "output_type": "execute_result"
    }
   ],
   "source": [
    "d.shape"
   ]
  },
  {
   "cell_type": "code",
   "execution_count": null,
   "id": "b3413691-6b9d-4e78-a9c2-295666ba1340",
   "metadata": {},
   "outputs": [],
   "source": []
  },
  {
   "cell_type": "code",
   "execution_count": 38,
   "id": "f3cd79b5-d1be-4550-b4cf-2d6faff23c73",
   "metadata": {},
   "outputs": [
    {
     "name": "stdout",
     "output_type": "stream",
     "text": [
      "1\n",
      "(3,)\n"
     ]
    }
   ],
   "source": [
    "# 배열의 차원과 크기 알아내기\n",
    "# a = np.array([1, 2, 3])\n",
    "print(a.ndim)\n",
    "print(a.shape)"
   ]
  },
  {
   "cell_type": "code",
   "execution_count": 39,
   "id": "e4e06a04-816f-425d-b39e-b73dc6e16c04",
   "metadata": {},
   "outputs": [
    {
     "name": "stdout",
     "output_type": "stream",
     "text": [
      "2\n",
      "(2, 3)\n"
     ]
    }
   ],
   "source": [
    "# c = np.array([[0, 1, 2], [3, 4, 5]])\n",
    "print(c.ndim)\n",
    "print(c.shape)"
   ]
  },
  {
   "cell_type": "code",
   "execution_count": 40,
   "id": "3305c6ad-2f6b-4edb-b2eb-0fb535d9efba",
   "metadata": {},
   "outputs": [
    {
     "name": "stdout",
     "output_type": "stream",
     "text": [
      "3\n",
      "(2, 3, 4)\n"
     ]
    }
   ],
   "source": [
    "print(d.ndim)\n",
    "print(d.shape)"
   ]
  },
  {
   "cell_type": "code",
   "execution_count": null,
   "id": "5c70140f-ea7f-4324-a958-e8caa65a25ef",
   "metadata": {},
   "outputs": [],
   "source": []
  },
  {
   "cell_type": "code",
   "execution_count": 41,
   "id": "c7b22c72-4c72-4f15-aff1-1b2a5473a0c1",
   "metadata": {},
   "outputs": [],
   "source": [
    "# 배열의 인덱싱\n",
    "a = np.array([0, 1, 2, 3, 4])"
   ]
  },
  {
   "cell_type": "code",
   "execution_count": 42,
   "id": "496cd0da-d979-4dc9-83b5-39a42751af55",
   "metadata": {},
   "outputs": [
    {
     "data": {
      "text/plain": [
       "2"
      ]
     },
     "execution_count": 42,
     "metadata": {},
     "output_type": "execute_result"
    }
   ],
   "source": [
    "a[2]"
   ]
  },
  {
   "cell_type": "code",
   "execution_count": 43,
   "id": "70a62f67-4143-46ca-b83b-13675104865e",
   "metadata": {},
   "outputs": [
    {
     "data": {
      "text/plain": [
       "4"
      ]
     },
     "execution_count": 43,
     "metadata": {},
     "output_type": "execute_result"
    }
   ],
   "source": [
    "a[-1]"
   ]
  },
  {
   "cell_type": "code",
   "execution_count": 44,
   "id": "91d3274a-aa3c-4cc6-9086-57bb34caadd5",
   "metadata": {},
   "outputs": [
    {
     "data": {
      "text/plain": [
       "array([[0, 1, 2],\n",
       "       [3, 4, 5]])"
      ]
     },
     "execution_count": 44,
     "metadata": {},
     "output_type": "execute_result"
    }
   ],
   "source": [
    "# 다차원 배열의 인덱싱\n",
    "a = np.array([[0, 1, 2], [3, 4, 5]])\n",
    "a"
   ]
  },
  {
   "cell_type": "code",
   "execution_count": 45,
   "id": "c8b84605-553a-486e-ad93-d6ac2f09ce0e",
   "metadata": {},
   "outputs": [
    {
     "data": {
      "text/plain": [
       "0"
      ]
     },
     "execution_count": 45,
     "metadata": {},
     "output_type": "execute_result"
    }
   ],
   "source": [
    "a[0, 0] # 첫번째 행의 첫번째 열"
   ]
  },
  {
   "cell_type": "code",
   "execution_count": 46,
   "id": "a6bcea0c-3f65-4d74-bbe7-fe21048369f8",
   "metadata": {},
   "outputs": [
    {
     "data": {
      "text/plain": [
       "1"
      ]
     },
     "execution_count": 46,
     "metadata": {},
     "output_type": "execute_result"
    }
   ],
   "source": [
    "a[0, 1] # 첫번째 행의 두번째 열"
   ]
  },
  {
   "cell_type": "code",
   "execution_count": 47,
   "id": "59f261ea-79cc-417e-8870-a824db3bc505",
   "metadata": {},
   "outputs": [
    {
     "data": {
      "text/plain": [
       "5"
      ]
     },
     "execution_count": 47,
     "metadata": {},
     "output_type": "execute_result"
    }
   ],
   "source": [
    "a[-1, -1] # 마지막 행의 마지막 열"
   ]
  },
  {
   "cell_type": "code",
   "execution_count": null,
   "id": "dd32f680-43a9-459e-8c8b-b9bd23684398",
   "metadata": {},
   "outputs": [],
   "source": []
  },
  {
   "cell_type": "code",
   "execution_count": 48,
   "id": "6306d625-df3a-4bd1-a89b-be2b3e17b081",
   "metadata": {},
   "outputs": [
    {
     "data": {
      "text/plain": [
       "array([[0, 1, 2, 3],\n",
       "       [4, 5, 6, 7]])"
      ]
     },
     "execution_count": 48,
     "metadata": {},
     "output_type": "execute_result"
    }
   ],
   "source": [
    "#배열의 슬라이싱\n",
    "a = np.array([[0, 1, 2, 3], [4, 5, 6 ,7]])\n",
    "a"
   ]
  },
  {
   "cell_type": "code",
   "execution_count": 49,
   "id": "fe572221-af07-4199-86e2-e02e2a642564",
   "metadata": {},
   "outputs": [
    {
     "data": {
      "text/plain": [
       "array([0, 1, 2, 3])"
      ]
     },
     "execution_count": 49,
     "metadata": {},
     "output_type": "execute_result"
    }
   ],
   "source": [
    "a[0, :] # 첫번째 행 전체"
   ]
  },
  {
   "cell_type": "code",
   "execution_count": 50,
   "id": "72193bbf-c03f-4894-a21e-e39d4be57e70",
   "metadata": {},
   "outputs": [
    {
     "data": {
      "text/plain": [
       "array([1, 5])"
      ]
     },
     "execution_count": 50,
     "metadata": {},
     "output_type": "execute_result"
    }
   ],
   "source": [
    "a[:, 1] # 두번째 열 전체"
   ]
  },
  {
   "cell_type": "code",
   "execution_count": 51,
   "id": "ab02e9d8-82f6-41a4-bf09-419aaa1867cc",
   "metadata": {},
   "outputs": [
    {
     "data": {
      "text/plain": [
       "array([5, 6, 7])"
      ]
     },
     "execution_count": 51,
     "metadata": {},
     "output_type": "execute_result"
    }
   ],
   "source": [
    "a[1, 1:] # 두번째 행의 두번째 열부터 마지막 열까지"
   ]
  },
  {
   "cell_type": "code",
   "execution_count": 52,
   "id": "5cce7907-72f1-4a64-88bb-fbd934cf554e",
   "metadata": {},
   "outputs": [
    {
     "data": {
      "text/plain": [
       "array([[0, 1],\n",
       "       [4, 5]])"
      ]
     },
     "execution_count": 52,
     "metadata": {},
     "output_type": "execute_result"
    }
   ],
   "source": [
    "a[:2, :2] # 두번째 행과 2번째 열까지"
   ]
  }
 ],
 "metadata": {
  "kernelspec": {
   "display_name": "Python 3 (ipykernel)",
   "language": "python",
   "name": "python3"
  },
  "language_info": {
   "codemirror_mode": {
    "name": "ipython",
    "version": 3
   },
   "file_extension": ".py",
   "mimetype": "text/x-python",
   "name": "python",
   "nbconvert_exporter": "python",
   "pygments_lexer": "ipython3",
   "version": "3.9.13"
  }
 },
 "nbformat": 4,
 "nbformat_minor": 5
}

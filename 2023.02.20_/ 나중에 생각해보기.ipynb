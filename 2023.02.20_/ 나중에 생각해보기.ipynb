{
 "cells": [
  {
   "cell_type": "code",
   "execution_count": 1,
   "id": "2710192b-63e3-4b35-8308-3c9df3208e58",
   "metadata": {},
   "outputs": [],
   "source": [
    "# def count_5(x):\n",
    "#     if x == '1':\n",
    "#         x = \"소프트웨어 설계\"\n",
    "#     elif x == '2':\n",
    "#         x = \"소프트웨어 개발\"\n",
    "#     elif x == '3':\n",
    "#         x = \"데이터베이스 구축\"\n",
    "#     elif x == '4':\n",
    "#         x = \"프로그래밍 언어\"\n",
    "#     else:\n",
    "#         x = \"정보시스템 구축관리\"\n",
    "#     return x\n",
    "\n",
    "# def check_value(var, x):\n",
    "#     while True:\n",
    "#         var = int(input(f\"{count_5(x)}과목 점수를 입력하세요\"))\n",
    "#         if 0<= var <= 100:\n",
    "#             return var\n",
    "#         else:\n",
    "#             print(f\"{var}이 입력되었습니다.\\n0~100사이의 숫자(정수)를 입력하세요.\")\n",
    "#             continue\n",
    "\n",
    "# def avg_5(a, b, c, d, e):\n",
    "#     print(f\"입력하신 값은 {a}, {b}, {c}, {d}, {e}입니다.\")\n",
    "#     avg = (a + b + c + d + e)/5\n",
    "#     if avg >= 60:\n",
    "#         print(avg, \"합격\")\n",
    "#     else:\n",
    "#         print(avg, \"불합격\")\n",
    "#     return avg"
   ]
  },
  {
   "cell_type": "code",
   "execution_count": 5,
   "id": "473a2ed5-f913-44af-a5bf-82b5c279257d",
   "metadata": {},
   "outputs": [],
   "source": [
    "def count_5(x): # 1:1 대응일 때 dictionary도 좋은 방법이 됨\n",
    "    subject = {\n",
    "        '1':\"소프트웨어 설계\",\n",
    "        '2':\"소프트웨어 개발\",\n",
    "        '3':\"데이터베이스 구축\",\n",
    "        '4':\"프로그래밍 언어\",\n",
    "        '5':\"정보시스템 구축관리\"\n",
    "    }\n",
    "    return subject[x]\n",
    "\n",
    "def check_value(var, x):\n",
    "    while True:\n",
    "        var = int(input(f\"{count_5(x)}과목 점수를 입력하세요\"))\n",
    "        if 0<= var <= 100:\n",
    "            return var\n",
    "        else:\n",
    "            print(f\"{var}이 입력되었습니다.\\n0~100사이의 숫자(정수)를 입력하세요.\")\n",
    "            continue\n",
    "\n",
    "def avg_5(a, b, c, d, e):\n",
    "    print(f\"입력하신 값은 {a}, {b}, {c}, {d}, {e}입니다.\")\n",
    "    avg = (a + b + c + d + e)/5\n",
    "    if avg >= 60:\n",
    "        print(avg, \"합격\")\n",
    "    else:\n",
    "        print(avg, \"불합격\")\n",
    "    return avg"
   ]
  },
  {
   "cell_type": "code",
   "execution_count": 3,
   "id": "619de60a-6793-47c2-a23f-935273e9d925",
   "metadata": {},
   "outputs": [
    {
     "name": "stdin",
     "output_type": "stream",
     "text": [
      "소프트웨어 설계과목 점수를 입력하세요 30\n",
      "소프트웨어 개발과목 점수를 입력하세요 40\n",
      "데이터베이스 구축과목 점수를 입력하세요 50\n",
      "프로그래밍 언어과목 점수를 입력하세요 60\n",
      "정보시스템 구축관리과목 점수를 입력하세요 70\n"
     ]
    },
    {
     "name": "stdout",
     "output_type": "stream",
     "text": [
      "입력하신 값은 30, 40, 50, 60, 70입니다.\n",
      "50.0 불합격\n"
     ]
    },
    {
     "data": {
      "text/plain": [
       "50.0"
      ]
     },
     "execution_count": 3,
     "metadata": {},
     "output_type": "execute_result"
    }
   ],
   "source": [
    "a,b,c,d,e = 0,0,0,0,0\n",
    "a1 = check_value(a,'1')\n",
    "b1 = check_value(b,'2')\n",
    "c1 = check_value(c,'3')\n",
    "d1 = check_value(d,'4')\n",
    "e1 = check_value(e,'5')\n",
    "\n",
    "avg_5(a1, b1, c1, d1, e1)"
   ]
  },
  {
   "cell_type": "code",
   "execution_count": 4,
   "id": "cb29ff47-9f83-4994-94f2-8500bc3caff6",
   "metadata": {},
   "outputs": [
    {
     "name": "stdin",
     "output_type": "stream",
     "text": [
      "a값을 입력 30\n"
     ]
    },
    {
     "name": "stdout",
     "output_type": "stream",
     "text": [
      "30\n"
     ]
    },
    {
     "name": "stdin",
     "output_type": "stream",
     "text": [
      "b값을 입력 40\n"
     ]
    },
    {
     "name": "stdout",
     "output_type": "stream",
     "text": [
      "40\n"
     ]
    },
    {
     "name": "stdin",
     "output_type": "stream",
     "text": [
      "c값을 입력 50\n"
     ]
    },
    {
     "name": "stdout",
     "output_type": "stream",
     "text": [
      "50\n"
     ]
    },
    {
     "name": "stdin",
     "output_type": "stream",
     "text": [
      "d값을 입력 60\n"
     ]
    },
    {
     "name": "stdout",
     "output_type": "stream",
     "text": [
      "60\n"
     ]
    },
    {
     "name": "stdin",
     "output_type": "stream",
     "text": [
      "e값을 입력 70\n"
     ]
    },
    {
     "name": "stdout",
     "output_type": "stream",
     "text": [
      "70\n",
      "50.0 점으로 불합격\n"
     ]
    }
   ],
   "source": [
    "#노가다 코드\n",
    "while True:\n",
    "    while True:\n",
    "        while True:\n",
    "            while True:\n",
    "                while True:\n",
    "                    a = int(input(\"a값을 입력\"))\n",
    "                    if 0 <= a <= 100: \n",
    "                        print(a)\n",
    "                        break\n",
    "                    else:\n",
    "                        print(a, \"다시 입력하세요\")\n",
    "                        continue\n",
    "                b = int(input(\"b값을 입력\"))\n",
    "                if 0 <= b <= 100: \n",
    "                    print(b)\n",
    "                    break\n",
    "                else:\n",
    "                    print(b, \"다시 입력하세요\")\n",
    "                    continue\n",
    "            c = int(input(\"c값을 입력\"))\n",
    "            if 0 <= c <= 100: \n",
    "                print(c)\n",
    "                break\n",
    "            else:\n",
    "                print(c, \"다시 입력하세요\")\n",
    "                continue\n",
    "        d = int(input(\"d값을 입력\"))\n",
    "        if 0 <= d <= 100: \n",
    "            print(d)\n",
    "            break\n",
    "        else:\n",
    "            print(d, \"다시 입력하세요\")\n",
    "            continue            \n",
    "    e = int(input(\"e값을 입력\"))\n",
    "    if 0 <= e <= 100: \n",
    "        print(e)\n",
    "        break\n",
    "    else:\n",
    "        print(e, \"다시 입력하세요\")\n",
    "        continue\n",
    "avg = (a+b+c+d+e)/5\n",
    "if avg >= 60:\n",
    "    print(avg, \"점으로 합격\")\n",
    "else:\n",
    "    print(avg, \"점으로 불합격\")"
   ]
  }
 ],
 "metadata": {
  "kernelspec": {
   "display_name": "Python 3 (ipykernel)",
   "language": "python",
   "name": "python3"
  },
  "language_info": {
   "codemirror_mode": {
    "name": "ipython",
    "version": 3
   },
   "file_extension": ".py",
   "mimetype": "text/x-python",
   "name": "python",
   "nbconvert_exporter": "python",
   "pygments_lexer": "ipython3",
   "version": "3.9.13"
  }
 },
 "nbformat": 4,
 "nbformat_minor": 5
}

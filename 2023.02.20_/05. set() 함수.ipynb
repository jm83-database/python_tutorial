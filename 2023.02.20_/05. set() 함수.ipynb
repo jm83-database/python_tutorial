{
 "cells": [
  {
   "cell_type": "code",
   "execution_count": 1,
   "id": "6b896e29-bb74-4343-a390-eab7ce662312",
   "metadata": {},
   "outputs": [],
   "source": [
    "# set()\n",
    "# set_variable = {키1, 키2, 키3, ...}\n",
    "# set 함수는 중복이 안 된다. + key와 value값이 동일\n",
    "# 인덱스를 가지지 않고 키값으로 조회한다.(순서 X)"
   ]
  },
  {
   "cell_type": "code",
   "execution_count": 2,
   "id": "5b456c8f-1d9f-4d35-9b4e-68035082306b",
   "metadata": {},
   "outputs": [
    {
     "name": "stdout",
     "output_type": "stream",
     "text": [
      "<class 'dict'>\n"
     ]
    }
   ],
   "source": [
    "#{}는 빈 딕셔너리(Dictionary)객체를 만든다.\n",
    "print(type({}))"
   ]
  },
  {
   "cell_type": "code",
   "execution_count": 3,
   "id": "b76aeb1d-8ba6-42cc-996c-39ed06bf62a7",
   "metadata": {},
   "outputs": [
    {
     "name": "stdout",
     "output_type": "stream",
     "text": [
      "set()\n"
     ]
    }
   ],
   "source": [
    "print(set())"
   ]
  },
  {
   "cell_type": "code",
   "execution_count": 4,
   "id": "6c4cd1aa-9242-41f1-a971-7c65155e80b1",
   "metadata": {},
   "outputs": [],
   "source": [
    "# set_variable = {expression for 변수 in iterable if 조건식}"
   ]
  },
  {
   "cell_type": "code",
   "execution_count": 5,
   "id": "e3099617-d29c-429d-9129-348bf7b98fc7",
   "metadata": {},
   "outputs": [
    {
     "name": "stdout",
     "output_type": "stream",
     "text": [
      "set() <class 'set'>\n"
     ]
    }
   ],
   "source": [
    "set_variable = set()\n",
    "print(set_variable, type(set_variable))"
   ]
  },
  {
   "cell_type": "code",
   "execution_count": 6,
   "id": "dce88d64-f315-4b3f-81be-8163b59aee9e",
   "metadata": {},
   "outputs": [
    {
     "name": "stdout",
     "output_type": "stream",
     "text": [
      "{1}\n"
     ]
    }
   ],
   "source": [
    "# 정수 1값을 set_variable에 5차례 넣는다.\n",
    "[set_variable.add(1) for _ in range(5)] # ← 리스트 생성시에만 컴프리헨션 사용\n",
    "# 위와 같이 무의미한 반복은 메모리 낭비가 있다.\n",
    "\n",
    "# 출력하면 중복된 값 없이 요소를 갖는 걸 볼 수 있다.\n",
    "print(set_variable)"
   ]
  },
  {
   "cell_type": "code",
   "execution_count": 7,
   "id": "9275ab86-e4c9-4af4-80eb-88e9958c891b",
   "metadata": {},
   "outputs": [
    {
     "name": "stdout",
     "output_type": "stream",
     "text": [
      "{0, 1, 2, 3, 4, 5, 6, 7, 8, 9}\n",
      "{0, 1, 2, 3, 4, 5, 6, 7, 8}\n"
     ]
    }
   ],
   "source": [
    "# 요소 삭제하기 remove()\n",
    "set_variable = set(range(10))\n",
    "print(set_variable)\n",
    "set_variable.remove(9)\n",
    "print(set_variable) # "
   ]
  },
  {
   "cell_type": "code",
   "execution_count": 8,
   "id": "f8179e0e-67e3-4fbc-aae9-cc1c14c4bd1a",
   "metadata": {},
   "outputs": [
    {
     "ename": "KeyError",
     "evalue": "'없는 값'",
     "output_type": "error",
     "traceback": [
      "\u001b[1;31m---------------------------------------------------------------------------\u001b[0m",
      "\u001b[1;31mKeyError\u001b[0m                                  Traceback (most recent call last)",
      "\u001b[1;32m~\\AppData\\Local\\Temp\\ipykernel_10988\\2513709908.py\u001b[0m in \u001b[0;36m<module>\u001b[1;34m\u001b[0m\n\u001b[1;32m----> 1\u001b[1;33m \u001b[0mset_variable\u001b[0m\u001b[1;33m.\u001b[0m\u001b[0mremove\u001b[0m\u001b[1;33m(\u001b[0m\u001b[1;34m'없는 값'\u001b[0m\u001b[1;33m)\u001b[0m \u001b[1;31m# 키 값으로 요소를 인식하고, 없다면 오류 발생\u001b[0m\u001b[1;33m\u001b[0m\u001b[1;33m\u001b[0m\u001b[0m\n\u001b[0m",
      "\u001b[1;31mKeyError\u001b[0m: '없는 값'"
     ]
    }
   ],
   "source": [
    "set_variable.remove('없는 값') # 키 값으로 요소를 인식하고, 없다면 오류 발생"
   ]
  },
  {
   "cell_type": "code",
   "execution_count": 9,
   "id": "0472f1e0-a09b-4a0a-836b-c7b970e58258",
   "metadata": {},
   "outputs": [
    {
     "name": "stdout",
     "output_type": "stream",
     "text": [
      "{0, 1, 2, 3, 4, 5, 6, 7, 8}\n",
      "{0, 1, 2, 3, 4, 5, 6, 7}\n"
     ]
    }
   ],
   "source": [
    "print(set_variable)\n",
    "set_variable.discard(8)\n",
    "print(set_variable)"
   ]
  },
  {
   "cell_type": "code",
   "execution_count": 10,
   "id": "fd41519e-2096-4da2-a134-24cd7d6a2d50",
   "metadata": {},
   "outputs": [
    {
     "name": "stdout",
     "output_type": "stream",
     "text": [
      "{0, 3, 6, 9, 12, 15, 18}\n"
     ]
    },
    {
     "data": {
      "text/plain": [
       "[0, 3, 6, 9, 12, 15, 18]"
      ]
     },
     "execution_count": 10,
     "metadata": {},
     "output_type": "execute_result"
    }
   ],
   "source": [
    "set_variable = {_ for _ in range(20) if _%3 == 0}\n",
    "print(set_variable)\n",
    "[set_variable.pop() for _ in range(len(set_variable))]"
   ]
  },
  {
   "cell_type": "code",
   "execution_count": 11,
   "id": "0dbc0e96-06ae-41dd-a02f-cc64f1087325",
   "metadata": {},
   "outputs": [
    {
     "name": "stdout",
     "output_type": "stream",
     "text": [
      "set() 0\n"
     ]
    },
    {
     "ename": "KeyError",
     "evalue": "'pop from an empty set'",
     "output_type": "error",
     "traceback": [
      "\u001b[1;31m---------------------------------------------------------------------------\u001b[0m",
      "\u001b[1;31mKeyError\u001b[0m                                  Traceback (most recent call last)",
      "\u001b[1;32m~\\AppData\\Local\\Temp\\ipykernel_10988\\1815758775.py\u001b[0m in \u001b[0;36m<module>\u001b[1;34m\u001b[0m\n\u001b[0;32m      1\u001b[0m \u001b[0mprint\u001b[0m\u001b[1;33m(\u001b[0m\u001b[0mset_variable\u001b[0m\u001b[1;33m,\u001b[0m \u001b[0mlen\u001b[0m\u001b[1;33m(\u001b[0m\u001b[0mset_variable\u001b[0m\u001b[1;33m)\u001b[0m\u001b[1;33m)\u001b[0m\u001b[1;33m\u001b[0m\u001b[1;33m\u001b[0m\u001b[0m\n\u001b[1;32m----> 2\u001b[1;33m \u001b[0mset_variable\u001b[0m\u001b[1;33m.\u001b[0m\u001b[0mpop\u001b[0m\u001b[1;33m(\u001b[0m\u001b[1;33m)\u001b[0m \u001b[1;31m# set은 순서가 없으므로 pop도 순서가 없다.\u001b[0m\u001b[1;33m\u001b[0m\u001b[1;33m\u001b[0m\u001b[0m\n\u001b[0m",
      "\u001b[1;31mKeyError\u001b[0m: 'pop from an empty set'"
     ]
    }
   ],
   "source": [
    "print(set_variable, len(set_variable))\n",
    "set_variable.pop() # set은 순서가 없으므로 pop도 순서가 없다."
   ]
  },
  {
   "cell_type": "code",
   "execution_count": 12,
   "id": "f9ace675-21c3-42e4-95fa-dc57767446ce",
   "metadata": {},
   "outputs": [
    {
     "name": "stdout",
     "output_type": "stream",
     "text": [
      "{0, 3, 6, 9, 12, 15, 18}\n",
      "set()\n"
     ]
    }
   ],
   "source": [
    "set_variable = {_ for _ in range(20) if _%3 == 0}\n",
    "print(set_variable)\n",
    "set_variable.clear()\n",
    "print(set_variable)"
   ]
  },
  {
   "cell_type": "code",
   "execution_count": 13,
   "id": "f351d1ae-8666-46d4-aae6-28e85085f2f7",
   "metadata": {},
   "outputs": [],
   "source": [
    "# set 요소 개수는 len()으로 구한다."
   ]
  },
  {
   "cell_type": "code",
   "execution_count": 14,
   "id": "81ce2ffa-6b6b-4690-9c04-b10539a865df",
   "metadata": {},
   "outputs": [
    {
     "name": "stdout",
     "output_type": "stream",
     "text": [
      "A: {1, 2, 3, 4} \n",
      "B: {2, 4, 5}\n",
      "set.union(A,B): {1, 2, 3, 4, 5}\n",
      "A | B: {1, 2, 3, 4, 5}\n"
     ]
    }
   ],
   "source": [
    "# 합집합 구하기( .union() 혹은 Vertical bar(|)\n",
    "A = {_ for _ in range(1,5)}\n",
    "B = {_ for _ in range(2,6) if _ != 3}\n",
    "print(\"A:\", A, \"\\nB:\", B)\n",
    "print(\"set.union(A,B):\", set.union(A,B))\n",
    "print(\"A | B:\", A | B)"
   ]
  },
  {
   "cell_type": "code",
   "execution_count": 15,
   "id": "091c4164-320e-4082-8297-8b375b7fcff6",
   "metadata": {},
   "outputs": [
    {
     "name": "stdout",
     "output_type": "stream",
     "text": [
      "A: {1, 2, 3, 4} \n",
      "B: {2, 4, 5}\n",
      "set.intersection(A,B): {2, 4}\n",
      "A & B: {2, 4}\n"
     ]
    }
   ],
   "source": [
    "#교집합 구하기( .intersection() 혹은 &)\n",
    "A = {_ for _ in range(1,5)}\n",
    "B = {_ for _ in range(2,6) if _ != 3}\n",
    "print(\"A:\", A, \"\\nB:\", B)\n",
    "print(\"set.intersection(A,B):\", set.intersection(A,B))\n",
    "print(\"A & B:\", A & B)"
   ]
  },
  {
   "cell_type": "code",
   "execution_count": 16,
   "id": "871575c9-8c44-4c7a-bc00-e60521ec5ece",
   "metadata": {},
   "outputs": [
    {
     "name": "stdout",
     "output_type": "stream",
     "text": [
      "A: {1, 2, 3, 4} \n",
      "B: {2, 4, 5}\n",
      "set.difference(A,B): {1, 3}\n",
      "A - B: {1, 3}\n"
     ]
    }
   ],
   "source": [
    "#차집합 구하기( .difference 혹은 -)\n",
    "A = {_ for _ in range(1,5)}\n",
    "B = {_ for _ in range(2,6) if _ != 3}\n",
    "print(\"A:\", A, \"\\nB:\", B)\n",
    "print(\"set.difference(A,B):\", set.difference(A,B))\n",
    "print(\"A - B:\", A - B)"
   ]
  },
  {
   "cell_type": "code",
   "execution_count": 17,
   "id": "e07280f7-4bfa-498a-ab82-fbde83ade07c",
   "metadata": {
    "tags": []
   },
   "outputs": [
    {
     "name": "stdout",
     "output_type": "stream",
     "text": [
      "A: {1, 2, 3, 4} \n",
      "B: {2, 4, 5}\n",
      "set.symmetric_difference(A,B): {1, 3, 5}\n",
      "A ^ B: {1, 3, 5}\n"
     ]
    }
   ],
   "source": [
    "#대칭차집합 구하기 (symmetric_difference() 혹은 ^)\n",
    "A = {_ for _ in range(1,5)}\n",
    "B = {_ for _ in range(2,6) if _ != 3}\n",
    "print(\"A:\", A, \"\\nB:\", B)\n",
    "print(\"set.symmetric_difference(A,B):\", set.symmetric_difference(A,B))\n",
    "print(\"A ^ B:\", A ^ B)"
   ]
  },
  {
   "cell_type": "code",
   "execution_count": 18,
   "id": "89e7a739-1103-4975-856e-f212023a68a7",
   "metadata": {},
   "outputs": [
    {
     "name": "stdout",
     "output_type": "stream",
     "text": [
      "A: {1, 2, 3, 4} \n",
      "B: {2, 4, 5}\n",
      "A.update(B): {1, 2, 3, 4, 5}\n"
     ]
    }
   ],
   "source": [
    "#업데이트 (update() 혹은 |= ← vertical bar(|) + =)\n",
    "A = {_ for _ in range(1,5)}\n",
    "B = {_ for _ in range(2,6) if _ != 3}\n",
    "print(\"A:\", A, \"\\nB:\", B)\n",
    "A.update(B) # A |= B와 같다.\n",
    "print(\"A.update(B):\", A)"
   ]
  },
  {
   "cell_type": "code",
   "execution_count": 19,
   "id": "c507a0c8-f8c3-4024-b500-cfebdfd974f1",
   "metadata": {},
   "outputs": [
    {
     "name": "stdout",
     "output_type": "stream",
     "text": [
      "A: {1, 2, 3, 4} \n",
      "B: {2, 4, 5}\n",
      "A.intersection_update(B): {2, 4}\n"
     ]
    }
   ],
   "source": [
    "#intersection_update() 혹은 &=\n",
    "A = {_ for _ in range(1,5)}\n",
    "B = {_ for _ in range(2,6) if _ != 3}\n",
    "print(\"A:\", A, \"\\nB:\", B)\n",
    "A.intersection_update(B) # A &= B와 같다.\n",
    "print(\"A.intersection_update(B):\", A)"
   ]
  },
  {
   "cell_type": "code",
   "execution_count": 20,
   "id": "9f09d51d-2bab-4e9f-a3fd-c72e8ad3862a",
   "metadata": {},
   "outputs": [
    {
     "name": "stdout",
     "output_type": "stream",
     "text": [
      "A: {1, 2, 3, 4} \n",
      "B: {2, 4, 5}\n",
      "A.difference_update(B): {1, 3}\n"
     ]
    }
   ],
   "source": [
    "#difference_update 혹은 -=\n",
    "A = {_ for _ in range(1,5)}\n",
    "B = {_ for _ in range(2,6) if _ != 3}\n",
    "print(\"A:\", A, \"\\nB:\", B)\n",
    "A.difference_update(B) # A -= B와 같다.\n",
    "print(\"A.difference_update(B):\", A)"
   ]
  },
  {
   "cell_type": "code",
   "execution_count": 21,
   "id": "94564bc1-5412-4bb7-ac73-bd6f18add5d7",
   "metadata": {},
   "outputs": [
    {
     "name": "stdout",
     "output_type": "stream",
     "text": [
      "A: {1, 2, 3, 4} \n",
      "B: {2, 4, 5}\n",
      "A.symmetric_difference_update(B): {1, 3, 5}\n"
     ]
    }
   ],
   "source": [
    "#symmetric_difference_update 혹은 ^=\n",
    "A = {_ for _ in range(1,5)}\n",
    "B = {_ for _ in range(2,6) if _ != 3}\n",
    "print(\"A:\", A, \"\\nB:\", B)\n",
    "A.symmetric_difference_update(B) # A ^= B와 같다.\n",
    "print(\"A.symmetric_difference_update(B):\", A)"
   ]
  },
  {
   "cell_type": "code",
   "execution_count": 22,
   "id": "fd4f2685-d784-4e42-a1eb-80a0300cbd1d",
   "metadata": {
    "tags": []
   },
   "outputs": [
    {
     "name": "stdout",
     "output_type": "stream",
     "text": [
      "A: {0, 1, 2} \n",
      "B: {0, 1, 2}\n",
      "A.issubset(B): True\n"
     ]
    }
   ],
   "source": [
    "#부분집합 issubset()\n",
    "A = {_ for _ in range(0,3)}\n",
    "B = {_ for _ in range(0,3)}\n",
    "print(\"A:\", A, \"\\nB:\", B)\n",
    "print(\"A.issubset(B):\", A.issubset(B)) # 이 예제는 진부분집합이다."
   ]
  },
  {
   "cell_type": "code",
   "execution_count": 23,
   "id": "77e618d6-05a9-4a83-b460-0b3a309acfed",
   "metadata": {},
   "outputs": [
    {
     "name": "stdout",
     "output_type": "stream",
     "text": [
      "A: {0, 1, 2} \n",
      "B: {0, 1}\n",
      "B.issubset(A): True\n"
     ]
    }
   ],
   "source": [
    "#부분집합 issubset()\n",
    "A = {_ for _ in range(0,3)}\n",
    "B = {_ for _ in range(0,2)}\n",
    "print(\"A:\", A, \"\\nB:\", B)\n",
    "print(\"B.issubset(A):\", B.issubset(A)) # 이 예제는 B가 A에 속하는 진부분집합"
   ]
  },
  {
   "cell_type": "code",
   "execution_count": 24,
   "id": "49de7fc4-b445-4659-a25f-f143906065db",
   "metadata": {},
   "outputs": [
    {
     "name": "stdout",
     "output_type": "stream",
     "text": [
      "A: {0, 1, 2} \n",
      "B: {0, 1, 2}\n",
      "A.issuperset(B): True\n"
     ]
    }
   ],
   "source": [
    "#상위집합 issuperset()\n",
    "A = {_ for _ in range(0,3)}\n",
    "B = {_ for _ in range(0,3)}\n",
    "print(\"A:\", A, \"\\nB:\", B)\n",
    "print(\"A.issuperset(B):\", A.issuperset(B)) # 이 예제는 진부분집합이다."
   ]
  },
  {
   "cell_type": "code",
   "execution_count": 25,
   "id": "f56f6b50-36d8-4ca1-b147-5545b3660492",
   "metadata": {},
   "outputs": [
    {
     "name": "stdout",
     "output_type": "stream",
     "text": [
      "A: {0, 1, 2} \n",
      "B: {0, 1}\n",
      "A.issuperset(B): True\n"
     ]
    }
   ],
   "source": [
    "#상위집합 issuperset()\n",
    "A = {_ for _ in range(0,3)}\n",
    "B = {_ for _ in range(0,2)}\n",
    "print(\"A:\", A, \"\\nB:\", B)\n",
    "print(\"A.issuperset(B):\", A.issuperset(B)) # 이 예제는 A가 B보다 상위집합이므로 참이다."
   ]
  },
  {
   "cell_type": "code",
   "execution_count": 26,
   "id": "9de60d38-7359-4447-b930-268687207d85",
   "metadata": {},
   "outputs": [
    {
     "name": "stdout",
     "output_type": "stream",
     "text": [
      "A: {0, 1, 2} \n",
      "B: {0, 1, 2}\n",
      "A > B: False\n",
      "A < B: False\n"
     ]
    }
   ],
   "source": [
    "#진부분집합과 진상위집합 >, <\n",
    "A = {_ for _ in range(0,3)}\n",
    "B = {_ for _ in range(0,3)}\n",
    "print(\"A:\", A, \"\\nB:\", B)\n",
    "print(\"A > B:\", A > B)\n",
    "print(\"A < B:\", A < B) # A와 B는 서로 동일하므로 False 출력"
   ]
  },
  {
   "cell_type": "code",
   "execution_count": 27,
   "id": "92d0b6be-af93-433c-b024-c1d446488441",
   "metadata": {},
   "outputs": [
    {
     "name": "stdout",
     "output_type": "stream",
     "text": [
      "A: {0, 1, 2} \n",
      "B: {0, 1}\n",
      "A > B: True\n",
      "A < B: False\n"
     ]
    }
   ],
   "source": [
    "#진부분집합과 진상위집합 >, <\n",
    "A = {_ for _ in range(0,3)}\n",
    "B = {_ for _ in range(0,2)}\n",
    "print(\"A:\", A, \"\\nB:\", B)\n",
    "print(\"A > B:\", A > B) # A가 크므로 True\n",
    "print(\"A < B:\", A < B) # A와 크므로 False"
   ]
  },
  {
   "cell_type": "code",
   "execution_count": 28,
   "id": "fac4c272-9ad8-4eef-a5b7-8c1fe05da02b",
   "metadata": {},
   "outputs": [
    {
     "name": "stdout",
     "output_type": "stream",
     "text": [
      "A: {0, 1, 2} \n",
      "B: {0, 1, 2}\n",
      "A == B: True\n"
     ]
    }
   ],
   "source": [
    "# 같다 ==\n",
    "A = {_ for _ in range(0,3)}\n",
    "B = {_ for _ in range(0,3)}\n",
    "print(\"A:\", A, \"\\nB:\", B)\n",
    "print(\"A == B:\", A == B) # A와 B가 같으므로 True 출력"
   ]
  },
  {
   "cell_type": "code",
   "execution_count": 29,
   "id": "92c26af4-1226-4dd3-acc6-3ad404c0ed53",
   "metadata": {},
   "outputs": [
    {
     "name": "stdout",
     "output_type": "stream",
     "text": [
      "A: {0, 1, 2} \n",
      "B: {3, 4, 5}\n",
      "A.isdisjoint(B): True\n"
     ]
    }
   ],
   "source": [
    "#세트가 겹치지 않는지 확인 isdisjoint()\n",
    "# 같다 ==\n",
    "A = {_ for _ in range(0,3)}\n",
    "B = {_ for _ in range(3,6)}\n",
    "print(\"A:\", A, \"\\nB:\", B)\n",
    "print(\"A.isdisjoint(B):\", A.isdisjoint(B)) #서로 겹치지 않으므로 True가 뜬다."
   ]
  },
  {
   "cell_type": "code",
   "execution_count": 30,
   "id": "b07b062d-ec6f-4460-a82d-f820750ec100",
   "metadata": {},
   "outputs": [
    {
     "name": "stdout",
     "output_type": "stream",
     "text": [
      "{1, 2, 3, 4}\n"
     ]
    }
   ],
   "source": [
    "list_sample = [1, 2, 2, 3, 3, 3, 4, 4, 4, 4]\n",
    "set_a = set(list_sample)\n",
    "print(set_a) # set는 키값이 중복되지 않으므로 set 변환 시 중복된 값 제거"
   ]
  },
  {
   "cell_type": "code",
   "execution_count": 31,
   "id": "71aa26cb-40b7-4f04-b228-0a3877de8dc2",
   "metadata": {},
   "outputs": [
    {
     "name": "stdout",
     "output_type": "stream",
     "text": [
      "{1, 2, 3, 4}\n"
     ]
    }
   ],
   "source": [
    "list_sample = [1, 2, 2, 3, 3, 3, 4, 4, 4, 4]\n",
    "print(set(list_sample))"
   ]
  }
 ],
 "metadata": {
  "kernelspec": {
   "display_name": "Python 3 (ipykernel)",
   "language": "python",
   "name": "python3"
  },
  "language_info": {
   "codemirror_mode": {
    "name": "ipython",
    "version": 3
   },
   "file_extension": ".py",
   "mimetype": "text/x-python",
   "name": "python",
   "nbconvert_exporter": "python",
   "pygments_lexer": "ipython3",
   "version": "3.9.13"
  }
 },
 "nbformat": 4,
 "nbformat_minor": 5
}

{
 "cells": [
  {
   "cell_type": "code",
   "execution_count": 1,
   "id": "05b4a949-c4d2-4bd3-a893-45a41a8464ed",
   "metadata": {},
   "outputs": [],
   "source": [
    "# list comprehension if 조건문\n",
    "# list_variable = [expression for 변수 in iterable if 조건식]\n",
    "# 조건식이 True일 때만 expression 출력\n",
    "\n",
    "# iterable 복습 : 리스트와 같이 요소를 꺼내올 수 있는 것"
   ]
  },
  {
   "cell_type": "code",
   "execution_count": 2,
   "id": "e94a1266-a6d7-447d-a751-fed14061f199",
   "metadata": {},
   "outputs": [
    {
     "name": "stdout",
     "output_type": "stream",
     "text": [
      "[0, 3, 6, 9]\n"
     ]
    }
   ],
   "source": [
    "list_p = [i for i in range(10) if i%3 == 0]\n",
    "print(list_p)"
   ]
  }
 ],
 "metadata": {
  "kernelspec": {
   "display_name": "Python 3 (ipykernel)",
   "language": "python",
   "name": "python3"
  },
  "language_info": {
   "codemirror_mode": {
    "name": "ipython",
    "version": 3
   },
   "file_extension": ".py",
   "mimetype": "text/x-python",
   "name": "python",
   "nbconvert_exporter": "python",
   "pygments_lexer": "ipython3",
   "version": "3.9.13"
  }
 },
 "nbformat": 4,
 "nbformat_minor": 5
}

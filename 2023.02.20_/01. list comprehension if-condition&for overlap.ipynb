{
 "cells": [
  {
   "cell_type": "code",
   "execution_count": 1,
   "id": "05b4a949-c4d2-4bd3-a893-45a41a8464ed",
   "metadata": {},
   "outputs": [],
   "source": [
    "# list comprehension if 조건문\n",
    "# list_variable = [expression for 변수 in iterable if 조건식]\n",
    "# 조건식이 True일 때만 expression 출력\n",
    "\n",
    "# iterable 복습 : 리스트와 같이 요소를 꺼내올 수 있는 것"
   ]
  },
  {
   "cell_type": "code",
   "execution_count": 2,
   "id": "e94a1266-a6d7-447d-a751-fed14061f199",
   "metadata": {},
   "outputs": [
    {
     "name": "stdout",
     "output_type": "stream",
     "text": [
      "[0, 3, 6, 9]\n"
     ]
    }
   ],
   "source": [
    "list_p = [i for i in range(10) if i%3 == 0]\n",
    "print(list_p)"
   ]
  },
  {
   "cell_type": "code",
   "execution_count": 3,
   "id": "bb7bc0ff-5def-4f7e-bfc3-a42a819aee49",
   "metadata": {},
   "outputs": [
    {
     "name": "stdout",
     "output_type": "stream",
     "text": [
      "[(1, 3), (1, 4), (1, 5), (2, 3), (2, 4), (2, 5), (3, 3), (3, 4), (3, 5)]\n"
     ]
    }
   ],
   "source": [
    "# list comprehension for문 중첩\n",
    "# [expression for 변수 in iterable for 변수 in iterable]\n",
    "# 동작 순서는 우측에서 좌측 방향으로 진행 \n",
    "\n",
    "# 위 표현에서 보면\n",
    "# for 변수 in interable:\n",
    "#     for 변수 in iterable:\n",
    "#         expression\n",
    "\n",
    "l = [(a,b) for a in (1,2,3) for b in (3,4,5)] \n",
    "# b의 3, 4, 5가 출력되고 나서 a의 1,2,3이 출력되는 것을 확인할 수 있다.\n",
    "print(l)"
   ]
  },
  {
   "cell_type": "code",
   "execution_count": 4,
   "id": "18d19237-95db-4363-80d3-6362c41ee8e2",
   "metadata": {},
   "outputs": [],
   "source": [
    "# 가독성 확보를 위해 줄바꿈하면 좋다.\n",
    "# [expression for 변수 in iterable \n",
    "#             for 변수 in iterable\n",
    "#             for 변수 in iterable\n",
    "#             for 변수 in iterable\n",
    "#             for 변수 in iterable]"
   ]
  },
  {
   "cell_type": "code",
   "execution_count": 5,
   "id": "bad23aa8-ed72-47db-90c4-69e86c77f06e",
   "metadata": {},
   "outputs": [
    {
     "name": "stdout",
     "output_type": "stream",
     "text": [
      "1\n",
      "2\n",
      "3\n",
      "4\n",
      "5\n",
      "3\n",
      "4\n"
     ]
    }
   ],
   "source": [
    "easy_list = [[1,2,3,4,5],[3,4]] # 2개의 요소로 구성되어 있다.\n",
    "# 중첩된 리스트는 차원처럼 생각하면 안 된다.\n",
    "for item in easy_list:\n",
    "    for i in item:\n",
    "        print(i)"
   ]
  },
  {
   "cell_type": "code",
   "execution_count": 6,
   "id": "61956aaa-730f-4225-902a-bf32ece6b189",
   "metadata": {},
   "outputs": [
    {
     "name": "stdout",
     "output_type": "stream",
     "text": [
      "[1, 2, 3, 4, 5]\n",
      "1\n",
      "2\n",
      "3 \n",
      "\n",
      "[3, 4]\n"
     ]
    }
   ],
   "source": [
    "print(easy_list[0])\n",
    "print(easy_list[0][0])\n",
    "print(easy_list[0][1])\n",
    "print(easy_list[0][2],\"\\n\")\n",
    "\n",
    "print(easy_list[1])"
   ]
  },
  {
   "cell_type": "code",
   "execution_count": 7,
   "id": "f3004cd5-6dcb-4319-a9c2-c6ce55d64b66",
   "metadata": {},
   "outputs": [
    {
     "name": "stdout",
     "output_type": "stream",
     "text": [
      "1\n",
      "2\n",
      "3\n",
      "4\n",
      "5\n",
      "3\n",
      "4\n"
     ]
    }
   ],
   "source": [
    "easy_list = [[1,2,3,4,5], [3,4]]\n",
    "i = 0 # easy_list 인덱스용\n",
    "\n",
    "while i < len(easy_list):\n",
    "    j = 0 # easy_list[0], easy_list[1] 인덱스용\n",
    "    while j < len(easy_list[i]):\n",
    "        print(easy_list[i][j])\n",
    "        j += 1\n",
    "    i += 1"
   ]
  }
 ],
 "metadata": {
  "kernelspec": {
   "display_name": "Python 3 (ipykernel)",
   "language": "python",
   "name": "python3"
  },
  "language_info": {
   "codemirror_mode": {
    "name": "ipython",
    "version": 3
   },
   "file_extension": ".py",
   "mimetype": "text/x-python",
   "name": "python",
   "nbconvert_exporter": "python",
   "pygments_lexer": "ipython3",
   "version": "3.9.13"
  }
 },
 "nbformat": 4,
 "nbformat_minor": 5
}

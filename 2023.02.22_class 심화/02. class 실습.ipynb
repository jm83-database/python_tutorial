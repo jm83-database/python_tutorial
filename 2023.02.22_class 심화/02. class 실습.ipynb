{
 "cells": [
  {
   "cell_type": "code",
   "execution_count": 1,
   "id": "6404d2f3-79aa-4fef-915e-5f980ea9c6aa",
   "metadata": {},
   "outputs": [
    {
     "name": "stdin",
     "output_type": "stream",
     "text": [
      "이름은 무엇인가요?: 마리아\n",
      "나이는 무엇인가요?: 20\n",
      "주소는 무엇인가요?: 강남구\n",
      "이름은 무엇인가요?: 제임스\n",
      "나이는 무엇인가요?: 21\n",
      "주소는 무엇인가요?: 서울시 구로구\n"
     ]
    },
    {
     "name": "stdout",
     "output_type": "stream",
     "text": [
      "첫번째 이름: 마리아\n",
      "첫번째 나이: 20\n",
      "첫번째 주소: 강남구\n",
      "\n",
      "두번째 이름: 제임스\n",
      "두번째 나이: 21\n",
      "두번째 주소: 서울시 구로구\n",
      "\n"
     ]
    }
   ],
   "source": [
    "class Person:\n",
    "    def __init__(self, name, age, address):\n",
    "        self.name = name\n",
    "        self.age = age\n",
    "        self.address = address\n",
    "    \n",
    "    def Print1(self):\n",
    "        print(f\"\"\"첫번째 이름: {self.name}\n",
    "첫번째 나이: {self.age}\n",
    "첫번째 주소: {self.address}\n",
    "\"\"\")\n",
    "              \n",
    "    def Print2(self):\n",
    "        print(f\"\"\"두번째 이름: {self.name}\n",
    "두번째 나이: {self.age}\n",
    "두번째 주소: {self.address}\n",
    "\"\"\")\n",
    "\n",
    "p1_1 = input(\"이름은 무엇인가요?:\") # 입력값 : 마리아\n",
    "p1_2 = input(\"나이는 무엇인가요?:\") # 입력값 : 20\n",
    "p1_3 = input(\"주소는 무엇인가요?:\") # 서울시 강남구\n",
    "p2_1 = input(\"이름은 무엇인가요?:\") # 입력값 : 제임스\n",
    "p2_2 = input(\"나이는 무엇인가요?:\") # 입력값 : 21\n",
    "p2_3 = input(\"주소는 무엇인가요?:\") # 서울시 구로구\n",
    "\n",
    "p1 = Person(p1_1,p1_2,p1_3)\n",
    "p2 = Person(p2_1,p2_2,p2_3)\n",
    "\n",
    "p1.Print1()\n",
    "p2.Print2()\n"
   ]
  },
  {
   "cell_type": "code",
   "execution_count": 2,
   "id": "0600e4de-0e2f-4063-ae93-2c38736c22b4",
   "metadata": {},
   "outputs": [
    {
     "name": "stdin",
     "output_type": "stream",
     "text": [
      "이름은 무엇인가요?: 마리아\n",
      "나이는 무엇인가요?: 20\n",
      "주소는 무엇인가요?: 서울시 강남구\n",
      "이름은 무엇인가요?: 제임스\n",
      "나이는 무엇인가요?: 21\n",
      "주소는 무엇인가요?: 서울시 구로구\n"
     ]
    },
    {
     "name": "stdout",
     "output_type": "stream",
     "text": [
      "첫번째 이름: 마리아\n",
      "첫번째 나이: 20\n",
      "첫번째 주소: 서울시 강남구\n",
      "\n",
      "두번째 이름: 제임스\n",
      "두번째 나이: 21\n",
      "두번째 주소: 서울시 구로구\n",
      "\n"
     ]
    }
   ],
   "source": [
    "class Person:\n",
    "    def __init__(self):\n",
    "        self.name = input(\"이름은 무엇인가요?:\")\n",
    "        self.age = input(\"나이는 무엇인가요?:\")\n",
    "        self.address = input(\"주소는 무엇인가요?:\")\n",
    "    \n",
    "    def Print1(self):\n",
    "        print(f\"\"\"첫번째 이름: {self.name}\n",
    "첫번째 나이: {self.age}\n",
    "첫번째 주소: {self.address}\n",
    "\"\"\")\n",
    "              \n",
    "    def Print2(self):\n",
    "        print(f\"\"\"두번째 이름: {self.name}\n",
    "두번째 나이: {self.age}\n",
    "두번째 주소: {self.address}\n",
    "\"\"\")\n",
    "\n",
    "p1 = Person()\n",
    "p2 = Person()\n",
    "\n",
    "p1.Print1()\n",
    "p2.Print2()\n"
   ]
  },
  {
   "cell_type": "code",
   "execution_count": 3,
   "id": "9a8aa2c8-a2c4-4e06-a443-39c3f76d1635",
   "metadata": {},
   "outputs": [
    {
     "name": "stdin",
     "output_type": "stream",
     "text": [
      "체력, 마나, AP를 입력하세요. 511.68 334.0 298\n",
      "체력, 마나, AP를 입력하세요. 1803.68 1184.0 645\n"
     ]
    },
    {
     "name": "stdout",
     "output_type": "stream",
     "text": [
      "티버: 피해량 593.7\n",
      "티버: 피해량 819.25\n"
     ]
    }
   ],
   "source": [
    "class Annie:\n",
    "    def __init__(self):\n",
    "        self.HP, self.MP, self.AP = map(float,input(\"체력, 마나, AP를 입력하세요.\").split())\n",
    "# 입력값1은 511.68 334.0 298\n",
    "# 입력값2는 1803.68 1184.0 645\n",
    "    def damage(self):\n",
    "        power = self.AP * 0.65 + 400\n",
    "        return power\n",
    "\n",
    "tibbers1 = Annie()\n",
    "tibbers2 = Annie()\n",
    "print(\"티버: 피해량\", tibbers1.damage())\n",
    "print(\"티버: 피해량\", tibbers2.damage())"
   ]
  },
  {
   "cell_type": "code",
   "execution_count": 4,
   "id": "c2fc4398-eb39-4315-84a2-0fdc78187be0",
   "metadata": {},
   "outputs": [
    {
     "name": "stdin",
     "output_type": "stream",
     "text": [
      "체력, 마나, AP를 입력하세요. 511.68 334.0 298\n",
      "체력, 마나, AP를 입력하세요. 1803.68 1184.0 645\n"
     ]
    },
    {
     "name": "stdout",
     "output_type": "stream",
     "text": [
      "티버: 피해량 593.7\n",
      "213 데미지를 입었습니다. 이제 체력이 298.68남았네요.\n",
      "100 소모가 되었습니다. 이제 마나가 234.0남았네요.\n",
      "\n",
      "\n",
      "티버: 피해량 819.25\n",
      "623.5 데미지를 입었습니다. 이제 체력이 1180.18남았네요.\n",
      "249.7 소모가 되었습니다. 이제 마나가 934.3남았네요.\n"
     ]
    }
   ],
   "source": [
    "class Annie:\n",
    "    def __init__(self):\n",
    "        self.HP, self.MP, self.AP = map(float,input(\"체력, 마나, AP를 입력하세요.\").split())\n",
    "\n",
    "\n",
    "    def damage(self):\n",
    "        power = self.AP * 0.65 + 400\n",
    "        return power\n",
    "    \n",
    "    def hp_decline(self, hp):\n",
    "        if self.HP <= hp:\n",
    "            print(\"사망하셨습니다.\")\n",
    "            return\n",
    "        self.HP -= hp # 비공개 속성은 클래스 안의 메서드에서만 접근할 수 있음\n",
    "        print(hp, \"데미지를 입었습니다. 이제 체력이 {0}남았네요.\".format(self.HP))\n",
    "    \n",
    "    def mp_use(self, mp):\n",
    "        if self.MP <= mp:\n",
    "            print(\"마나가 고갈되었습니다.\")\n",
    "            return\n",
    "        self.MP -= mp # 비공개 속성은 클래스 안의 메서드에서만 접근할 수 있음\n",
    "        print(mp, \"소모가 되었습니다. 이제 마나가 {0}남았네요.\".format(self.MP))\n",
    "\n",
    "tibbers1 = Annie() # 입력값1은 511.68 334.0 298\n",
    "tibbers2 = Annie() # 입력값2는 1803.68 1184.0 645\n",
    "\n",
    "\n",
    "print(\"티버: 피해량\", tibbers1.damage())\n",
    "tibbers1.hp_decline(213)\n",
    "tibbers1.mp_use(100)\n",
    "\n",
    "print(\"\\n\")\n",
    "\n",
    "print(\"티버: 피해량\", tibbers2.damage())\n",
    "tibbers2.hp_decline(623.5)\n",
    "tibbers2.mp_use(249.7)"
   ]
  }
 ],
 "metadata": {
  "kernelspec": {
   "display_name": "Python 3 (ipykernel)",
   "language": "python",
   "name": "python3"
  },
  "language_info": {
   "codemirror_mode": {
    "name": "ipython",
    "version": 3
   },
   "file_extension": ".py",
   "mimetype": "text/x-python",
   "name": "python",
   "nbconvert_exporter": "python",
   "pygments_lexer": "ipython3",
   "version": "3.9.13"
  }
 },
 "nbformat": 4,
 "nbformat_minor": 5
}

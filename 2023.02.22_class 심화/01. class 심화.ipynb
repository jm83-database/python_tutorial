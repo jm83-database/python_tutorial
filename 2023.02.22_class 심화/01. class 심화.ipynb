{
 "cells": [
  {
   "cell_type": "code",
   "execution_count": 1,
   "id": "910e7b94-a8a7-424f-a7f8-bb804b9d0352",
   "metadata": {},
   "outputs": [],
   "source": [
    "# __는 던더라고 부른다."
   ]
  },
  {
   "cell_type": "code",
   "execution_count": 2,
   "id": "3c2d10f1-c9b4-47d6-8747-18855b766be5",
   "metadata": {},
   "outputs": [
    {
     "name": "stdout",
     "output_type": "stream",
     "text": [
      "안녕하세요. 제 이름은마리아입니다.\n",
      "이름: 마리아\n",
      "이름: 20\n",
      "이름: 서울시 서초구 반포동\n"
     ]
    }
   ],
   "source": [
    "class Person:\n",
    "    def __init__(self, name, age, address):\n",
    "        self.hello = \"안녕하세요.\"\n",
    "        self.name = name\n",
    "        self.age = age\n",
    "        self.address = address\n",
    "        \n",
    "    def greeting(self):\n",
    "        print(f\"{self.hello} 제 이름은{self.name}입니다.\")\n",
    "        \n",
    "maria = Person(\"마리아\",20,\"서울시 서초구 반포동\")\n",
    "maria.greeting()\n",
    "\n",
    "print(\"이름:\",maria.name)\n",
    "print(\"이름:\",maria.age)\n",
    "print(\"이름:\",maria.address)"
   ]
  },
  {
   "cell_type": "code",
   "execution_count": 3,
   "id": "c43df944-c098-40cd-accc-036e59fa659e",
   "metadata": {},
   "outputs": [],
   "source": [
    "# 비공개 속성 사용하기\n",
    "\n",
    "# 우리가 인스턴스.속성 = 값을 통해 새롭게 인스턴스를 저장한다.\n",
    "# 인스턴스 값을 새로 변경 못하게 하려면 비공개 속성을 사용한다.\n",
    "# 사용법은 해당하는 속성 앞에 던더(__)를 붙이면 비공개 속성으로 변경된다.\n",
    "\n",
    "class ClassName:\n",
    "    def __init__(self, parma1,parma2):\n",
    "        self.attr1 = param1\n",
    "        self.__attr2 = parma2 # 비공개 속성"
   ]
  },
  {
   "cell_type": "code",
   "execution_count": 4,
   "id": "e90d21ca-b39b-458b-a840-00c71a8319c8",
   "metadata": {},
   "outputs": [],
   "source": [
    "class ClassExam:\n",
    "    def __init__(self):\n",
    "        self.__secret = \"비밀입니다.\""
   ]
  },
  {
   "cell_type": "code",
   "execution_count": 5,
   "id": "f79ed3ad-4d6f-43a1-aab5-35a38f83ca71",
   "metadata": {},
   "outputs": [],
   "source": [
    "c1 = ClassExam()"
   ]
  },
  {
   "cell_type": "code",
   "execution_count": 6,
   "id": "01f9adb2-bbc2-4f59-bc43-06b547a81fbd",
   "metadata": {},
   "outputs": [
    {
     "ename": "AttributeError",
     "evalue": "'ClassExam' object has no attribute '__secret'",
     "output_type": "error",
     "traceback": [
      "\u001b[1;31m---------------------------------------------------------------------------\u001b[0m",
      "\u001b[1;31mAttributeError\u001b[0m                            Traceback (most recent call last)",
      "\u001b[1;32m~\\AppData\\Local\\Temp\\ipykernel_13820\\3290746879.py\u001b[0m in \u001b[0;36m<module>\u001b[1;34m\u001b[0m\n\u001b[1;32m----> 1\u001b[1;33m \u001b[0mprint\u001b[0m\u001b[1;33m(\u001b[0m\u001b[0mc1\u001b[0m\u001b[1;33m.\u001b[0m\u001b[0m__secret\u001b[0m\u001b[1;33m)\u001b[0m\u001b[1;33m\u001b[0m\u001b[1;33m\u001b[0m\u001b[0m\n\u001b[0m",
      "\u001b[1;31mAttributeError\u001b[0m: 'ClassExam' object has no attribute '__secret'"
     ]
    }
   ],
   "source": [
    "print(c1.__secret)"
   ]
  },
  {
   "cell_type": "code",
   "execution_count": 7,
   "id": "fd4f0322-b4ce-4279-9d4c-73cf6bd2d644",
   "metadata": {},
   "outputs": [
    {
     "ename": "AttributeError",
     "evalue": "'Person' object has no attribute '__wallet'",
     "output_type": "error",
     "traceback": [
      "\u001b[1;31m---------------------------------------------------------------------------\u001b[0m",
      "\u001b[1;31mAttributeError\u001b[0m                            Traceback (most recent call last)",
      "\u001b[1;32m~\\AppData\\Local\\Temp\\ipykernel_13820\\805234898.py\u001b[0m in \u001b[0;36m<module>\u001b[1;34m\u001b[0m\n\u001b[0;32m     11\u001b[0m \u001b[1;33m\u001b[0m\u001b[0m\n\u001b[0;32m     12\u001b[0m \u001b[0mmaria\u001b[0m \u001b[1;33m=\u001b[0m \u001b[0mPerson\u001b[0m\u001b[1;33m(\u001b[0m\u001b[1;34m\"마리아\"\u001b[0m\u001b[1;33m,\u001b[0m\u001b[1;36m20\u001b[0m\u001b[1;33m,\u001b[0m\u001b[1;34m\"서울시 서초구 반포동\"\u001b[0m\u001b[1;33m,\u001b[0m \u001b[1;36m10000\u001b[0m\u001b[1;33m)\u001b[0m\u001b[1;33m\u001b[0m\u001b[1;33m\u001b[0m\u001b[0m\n\u001b[1;32m---> 13\u001b[1;33m \u001b[0mmaria\u001b[0m\u001b[1;33m.\u001b[0m\u001b[0m__wallet\u001b[0m \u001b[1;31m# 클래스 바깥에서 비공개 속성에 접근하면 에러 발생\u001b[0m\u001b[1;33m\u001b[0m\u001b[1;33m\u001b[0m\u001b[0m\n\u001b[0m",
      "\u001b[1;31mAttributeError\u001b[0m: 'Person' object has no attribute '__wallet'"
     ]
    }
   ],
   "source": [
    "class Person:\n",
    "    def __init__(self, name, age, address, wallet):\n",
    "        self.hello = \"안녕하세요.\"\n",
    "        self.name = name\n",
    "        self.age = age\n",
    "        self.address = address\n",
    "        self.__wallet = wallet # 비공개 속성 설정\n",
    "        \n",
    "    def greeting(self):\n",
    "        print(f\"{self.hello} 제 이름은{self.name}입니다.\")\n",
    "        \n",
    "maria = Person(\"마리아\",20,\"서울시 서초구 반포동\", 10000)\n",
    "maria.__wallet # 클래스 바깥에서 비공개 속성에 접근하면 에러 발생"
   ]
  },
  {
   "cell_type": "code",
   "execution_count": 8,
   "id": "bfac0e44-6386-43ad-a729-05de22e58eb9",
   "metadata": {},
   "outputs": [
    {
     "name": "stdout",
     "output_type": "stream",
     "text": [
      "이제 7000원 남았네요.\n"
     ]
    }
   ],
   "source": [
    "class Person:\n",
    "    def __init__(self, name, age, address, wallet):\n",
    "        self.hello = \"안녕하세요.\"\n",
    "        self.name = name\n",
    "        self.age = age\n",
    "        self.address = address\n",
    "        self.__wallet = wallet # 비공개 속성 설정\n",
    "        \n",
    "    def pay(self, amount):\n",
    "        if self.__wallet < amount:\n",
    "            print(\"돈이 모자랍니다.\")\n",
    "            return\n",
    "        self.__wallet -= amount # 비공개 속성은 클래스 안의 메서드에서만 접근할 수 있음\n",
    "        print(\"이제 {0}원 남았네요.\".format(self.__wallet))\n",
    "        \n",
    "maria = Person(\"마리아\",20,\"서울시 서초구 반포동\", 10000)\n",
    "maria.pay(3000)"
   ]
  }
 ],
 "metadata": {
  "kernelspec": {
   "display_name": "Python 3 (ipykernel)",
   "language": "python",
   "name": "python3"
  },
  "language_info": {
   "codemirror_mode": {
    "name": "ipython",
    "version": 3
   },
   "file_extension": ".py",
   "mimetype": "text/x-python",
   "name": "python",
   "nbconvert_exporter": "python",
   "pygments_lexer": "ipython3",
   "version": "3.9.13"
  }
 },
 "nbformat": 4,
 "nbformat_minor": 5
}

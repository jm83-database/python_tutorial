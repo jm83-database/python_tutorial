{
 "cells": [
  {
   "cell_type": "code",
   "execution_count": 1,
   "id": "f61e78d8-95c2-4de4-87a4-dca9e0d08d19",
   "metadata": {},
   "outputs": [
    {
     "name": "stdin",
     "output_type": "stream",
     "text": [
      "아이디를 입력하세요: biana\n",
      "회원 등급을 입력해주세요: 3\n"
     ]
    },
    {
     "name": "stdout",
     "output_type": "stream",
     "text": [
      "제한적인 권한을 갖습니다.\n"
     ]
    }
   ],
   "source": [
    "q = input(\"아이디를 입력하세요:\")\n",
    "\n",
    "if q == \"admin\":\n",
    "    print(\"최고 관리자, 모든 권한을 갖습니다.\")\n",
    "else:\n",
    "    q1 = int(input(\"회원 등급을 입력해주세요:\"))\n",
    "    if 1<= q1 <= 3:\n",
    "        print(\"제한적인 권한을 갖습니다.\")\n",
    "    else:\n",
    "        print(\"권한이 없습니다.\")\n",
    "        \n",
    "# admin이 입력되면\n",
    "# \"최고 관리자, 모든 권한을 갖습니다.\" 출력\n",
    "# admin이 아니라면 회원 등급을 입력해주세요 출력 후\n",
    "# 1~3 사이라면 \"제한적인 권한을 갖습니다.\" 출력\n",
    "# 그 외라면 \"권한이 없습니다.\" 출력\n",
    "\n",
    "\n",
    "# 예시에서는 admin 실행 후 biana, 3이 입력값"
   ]
  },
  {
   "cell_type": "code",
   "execution_count": 2,
   "id": "7a30beed-6452-4c76-8aeb-779356e6e9fe",
   "metadata": {},
   "outputs": [
    {
     "name": "stdin",
     "output_type": "stream",
     "text": [
      "자연수 하나 입력해주세요: 70\n"
     ]
    },
    {
     "name": "stdout",
     "output_type": "stream",
     "text": [
      "20\n"
     ]
    }
   ],
   "source": [
    "n = int(input(\"자연수 하나 입력해주세요:\"))\n",
    "# 21, 70이 입력값\n",
    "if (n-50) >=0:\n",
    "    print((n-50)) # 입력값 - 50이 0이상일 경우 그 값을 출력\n",
    "else:\n",
    "    print(0) #입력값 - 50이 음수일 경우 0 출력"
   ]
  },
  {
   "cell_type": "code",
   "execution_count": 3,
   "id": "bdc3b729-0ced-4689-b819-fabfeb001be3",
   "metadata": {},
   "outputs": [
    {
     "name": "stdin",
     "output_type": "stream",
     "text": [
      "자연수 하나 입력해주세요: 21\n"
     ]
    },
    {
     "name": "stdout",
     "output_type": "stream",
     "text": [
      "홀수입니다.\n"
     ]
    }
   ],
   "source": [
    "n1 = int(input(\"자연수 하나 입력해주세요:\"))\n",
    "\n",
    "if n1%2 == 0: # n1을 2로 나눠서 나머지가 0이면 짝수, 1이면 홀수\n",
    "    print(\"짝수입니다.\")\n",
    "else:\n",
    "    print(\"홀수입니다.\")"
   ]
  },
  {
   "cell_type": "code",
   "execution_count": 4,
   "id": "86f21b5d-6840-4a51-9c87-8b6f4afcdcec",
   "metadata": {},
   "outputs": [
    {
     "name": "stdin",
     "output_type": "stream",
     "text": [
      "소프트웨어 설계 점수를 입력하세요. 60\n",
      "소프트웨어 개발 점수를 입력하세요. -6\n",
      "데이터베이스 구축 점수를 입력하세요. 70\n",
      "프로그래밍 언어 점수를 입력하세요. 90\n",
      "정보시스템 구축관리 점수를 입력하세요. 100\n"
     ]
    },
    {
     "name": "stdout",
     "output_type": "stream",
     "text": [
      "잘못된 점수입니다.\n"
     ]
    }
   ],
   "source": [
    "s1 = int(input(\"소프트웨어 설계 점수를 입력하세요.\"))\n",
    "s2 = int(input(\"소프트웨어 개발 점수를 입력하세요.\"))\n",
    "s3 = int(input(\"데이터베이스 구축 점수를 입력하세요.\"))\n",
    "s4 = int(input(\"프로그래밍 언어 점수를 입력하세요.\"))\n",
    "s5 = int(input(\"정보시스템 구축관리 점수를 입력하세요.\"))\n",
    "\n",
    "\n",
    "if (0<= s1 <=100 and\n",
    "    0<=s2<=100 and \n",
    "    0<=s3<=100 and \n",
    "    0<=s4<=100 and\n",
    "    0<=s5<=100):\n",
    "# s1, s2, s3, s4, s5 모두 0이상 100미만이어야 평균 계산 시작\n",
    "    avg = (s1+s2+s3+s4+s5)/5\n",
    "    if avg >= 60: # 평균이 60점 이상이어야 합격\n",
    "        print(\"합격\")\n",
    "    else:\n",
    "        print(\"불합격\")    \n",
    "else: # 입력이 잘못되었으면 \"잘못된 점수입니다.\" 출력\n",
    "    print(\"잘못된 점수입니다.\")"
   ]
  },
  {
   "cell_type": "code",
   "execution_count": 5,
   "id": "c9dced15-f461-4610-a598-4669976f5ffc",
   "metadata": {},
   "outputs": [
    {
     "name": "stdin",
     "output_type": "stream",
     "text": [
      "현재 물의 온도를 입력해주세요 -0.12\n"
     ]
    },
    {
     "name": "stdout",
     "output_type": "stream",
     "text": [
      "고체로 예상됩니다.\n"
     ]
    }
   ],
   "source": [
    "temp = float(input(\"현재 물의 온도를 입력해주세요\"))\n",
    "#-0.12가 입력값\n",
    "if temp >= 100: # 물의 온도 100도 이상이면 기체\n",
    "    print(\"기체로 예상됩니다.\")\n",
    "elif 0<= temp < 100: #물의 온도 0도이상 100도 미만이면 액체\n",
    "    print(\"액체로 예상됩니다.\")\n",
    "else: #물의 온도 0도 미만이면 고체\n",
    "    print(\"고체로 예상됩니다.\")"
   ]
  },
  {
   "cell_type": "code",
   "execution_count": 6,
   "id": "03417889-a263-49b8-b3f5-e823c98f7949",
   "metadata": {},
   "outputs": [
    {
     "name": "stdin",
     "output_type": "stream",
     "text": [
      "자신의 나이를 입력하세요: 3\n"
     ]
    },
    {
     "name": "stdout",
     "output_type": "stream",
     "text": [
      "무료입니다.\n"
     ]
    }
   ],
   "source": [
    "age = int(input(\"자신의 나이를 입력하세요:\"))\n",
    "\n",
    "if age >= 19: # 19세 이상이면 1500원 출력\n",
    "    print(\"1500원\")\n",
    "elif 19> age >= 12: # 12~18세면 1100원 출력\n",
    "    # elif age >=12:로 표현해도 무방\n",
    "    print(\"1100원\")\n",
    "elif 12> age >= 6: # 6~11세면 800원 출력\n",
    "    # elif age >= 6:로 표현해도 무방\n",
    "    print(\"800원\")\n",
    "else: # 미취학 아동이면 \"무료입니다.\" 출력\n",
    "    print(\"무료입니다.\")"
   ]
  },
  {
   "cell_type": "code",
   "execution_count": 7,
   "id": "8ceb85bb-dfa9-4199-be8d-5457c669e8f6",
   "metadata": {},
   "outputs": [],
   "source": [
    "#if\n",
    "#if\n",
    "#if\n",
    "#if\n",
    "#위의 경우 조건을 전부 체크한 후에 조건문 탈출\n",
    "#각자 독립적인 조건문이다.\n",
    "\n",
    "#if\n",
    "#elif\n",
    "#elif\n",
    "#elif\n",
    "#아래의 경우 조건 중에 하나만 성립하면 조건문을 탈출\n",
    "#모두가 하나인 조건문이다."
   ]
  },
  {
   "cell_type": "code",
   "execution_count": 8,
   "id": "840a3900-2453-4927-beb6-3f534cf4634c",
   "metadata": {},
   "outputs": [
    {
     "name": "stdin",
     "output_type": "stream",
     "text": [
      "발주 수량을 입력하세요: 2001\n"
     ]
    },
    {
     "name": "stdout",
     "output_type": "stream",
     "text": [
      "2001개를 주문하셨습니다.\n",
      "적용 할인율은 20%입니다.\n",
      "총 발주 금액은 $16008입니다.\n"
     ]
    }
   ],
   "source": [
    "price = 10\n",
    "order = int(input(\"발주 수량을 입력하세요:\"))\n",
    "#2001이 입력값\n",
    "print(\"{}개를 주문하셨습니다.\".format(order))\n",
    "if order > 2000:\n",
    "    dc = 20\n",
    "    print(\"적용 할인율은 {}%입니다.\".format(dc))\n",
    "    over = int(order*price*0.8)\n",
    "elif order >= 1500:\n",
    "    dc = 10\n",
    "    print(\"적용 할인율은 {}%입니다.\".format(dc))\n",
    "    over = int(order*price*0.9)\n",
    "elif order >= 1000:\n",
    "    dc = 5\n",
    "    print(\"적용 할인율은 {}%입니다.\".format(dc))\n",
    "    over = int(order*price*0.95)\n",
    "else:\n",
    "    over = order*price\n",
    "\n",
    "print(\"총 발주 금액은 ${}입니다.\".format(over))"
   ]
  },
  {
   "cell_type": "code",
   "execution_count": 9,
   "id": "0259fe44-89f2-4db2-aea8-8a660f30e4e1",
   "metadata": {},
   "outputs": [
    {
     "name": "stdin",
     "output_type": "stream",
     "text": [
      "발주 수량을 입력하세요: 2001\n"
     ]
    },
    {
     "name": "stdout",
     "output_type": "stream",
     "text": [
      "2001개를 주문하셨습니다.\n",
      "적용 할인율은 20%입니다.\n",
      "총 발주 금액은 $16008입니다.\n"
     ]
    }
   ],
   "source": [
    "# format 대신 fstring 사용\n",
    "price = 10\n",
    "order = int(input(\"발주 수량을 입력하세요:\"))\n",
    "#2001이 입력값\n",
    "print(f\"{order}개를 주문하셨습니다.\")\n",
    "if order > 2000:\n",
    "    dc = 20\n",
    "    print(f\"적용 할인율은 {dc}%입니다.\")\n",
    "    over = int(order*price*0.8)\n",
    "elif order >= 1500:\n",
    "    dc = 10\n",
    "    print(f\"적용 할인율은 {dc}%입니다.\")\n",
    "    over = int(order*price*0.9)\n",
    "elif order >= 1000:\n",
    "    dc = 5\n",
    "    print(f\"적용 할인율은 {dc}%입니다.\")\n",
    "    over = int(order*price*0.95)\n",
    "else:\n",
    "    over = order*price\n",
    "\n",
    "print(f\"총 발주 금액은 ${over}입니다.\")"
   ]
  },
  {
   "cell_type": "code",
   "execution_count": 10,
   "id": "6e537db9-fa7a-4ef7-9fc6-26107acccce5",
   "metadata": {},
   "outputs": [
    {
     "name": "stdin",
     "output_type": "stream",
     "text": [
      "발주 수량을 입력하세요: 2001\n"
     ]
    },
    {
     "name": "stdout",
     "output_type": "stream",
     "text": [
      "적용 할인율은 20%입니다.\n",
      "총 발주 금액은 $16008입니다.\n"
     ]
    }
   ],
   "source": [
    "# 더 간략화된 코드\n",
    "price = 10\n",
    "order = int(input(\"발주 수량을 입력하세요:\"))\n",
    "dc = 0\n",
    "order_amount = 0\n",
    "\n",
    "if order > 2000:\n",
    "    dc = 20\n",
    "elif order > 1500:\n",
    "    dc = 10\n",
    "elif order > 1000:\n",
    "    dc = 5\n",
    "\n",
    "order_amount = int(price*order*((100-dc)/100))\n",
    "print(f\"적용 할인율은 {dc}%입니다.\")\n",
    "print(f\"총 발주 금액은 ${order_amount}입니다.\")"
   ]
  },
  {
   "cell_type": "code",
   "execution_count": 11,
   "id": "16190f5a-7648-4606-bbe1-bcada78f10a7",
   "metadata": {},
   "outputs": [
    {
     "name": "stdin",
     "output_type": "stream",
     "text": [
      "주민번호 뒷자리를 입력하세요: 1234567\n"
     ]
    },
    {
     "name": "stdout",
     "output_type": "stream",
     "text": [
      "남자\n"
     ]
    }
   ],
   "source": [
    "num = int(input(\"주민번호 뒷자리를 입력하세요:\"))\n",
    "num_list = list(map(int, str(num)))\n",
    "#1234567이 입력값\n",
    "if len(num_list) == 7:\n",
    "    if (num_list[0] == 1 or\n",
    "        num_list[0] == 3):\n",
    "        print(\"남자\")\n",
    "    elif(num_list[0] == 2 or\n",
    "         num_list[0] == 4):\n",
    "        print(\"여자\")\n",
    "    else:\n",
    "        print(\"잘못된 입력입니다.\")\n",
    "else:\n",
    "    print(\"자리수를 잘못 입력했습니다.\")"
   ]
  },
  {
   "cell_type": "code",
   "execution_count": 12,
   "id": "51fc60d4-0a4d-4134-a9ff-3fa027ffe311",
   "metadata": {},
   "outputs": [
    {
     "name": "stdin",
     "output_type": "stream",
     "text": [
      "주민번호 뒷자리를 입력하세요:  1234567\n"
     ]
    },
    {
     "name": "stdout",
     "output_type": "stream",
     "text": [
      "남자\n"
     ]
    }
   ],
   "source": [
    "#간략화된 코드\n",
    "num = input(\"주민번호 뒷자리를 입력하세요: \")\n",
    "if len(num) != 7:\n",
    "    print(\"자리수를 잘못 입력했습니다.\")\n",
    "else:\n",
    "    first = int(num[0])\n",
    "    if first in (1,3):\n",
    "        print(\"남자\")\n",
    "    elif first in (2,4):\n",
    "        print(\"여자\")\n",
    "    else:\n",
    "        print(\"잘못된 입력입니다.\")"
   ]
  },
  {
   "cell_type": "code",
   "execution_count": 13,
   "id": "a045317c-e828-4c74-b06b-d35bd03fbeae",
   "metadata": {},
   "outputs": [
    {
     "name": "stdin",
     "output_type": "stream",
     "text": [
      "확인할 연도를 입력하세요: 2001\n"
     ]
    },
    {
     "name": "stdout",
     "output_type": "stream",
     "text": [
      "평년입니다.\n"
     ]
    }
   ],
   "source": [
    "year = int(input(\"확인할 연도를 입력하세요:\"))\n",
    "#1900이 입력값\n",
    "if (year%100 == 0 and year%400 != 0):\n",
    "    print(\"평년입니다.\")#100으로 나누어지고, 400으로 안 나누어지면 평년\n",
    "elif year%4 == 0:\n",
    "    print(\"윤년입니다.\")#4로 나누어 떨어지면 윤년\n",
    "else:\n",
    "    print(\"평년입니다.\")#그 외의 경우는 평년"
   ]
  },
  {
   "cell_type": "code",
   "execution_count": 14,
   "id": "b1f78b27-9d03-41b1-86e7-0a26f3fbc60e",
   "metadata": {},
   "outputs": [
    {
     "name": "stdin",
     "output_type": "stream",
     "text": [
      "확인할 연도를 입력하세요: 1900\n"
     ]
    },
    {
     "name": "stdout",
     "output_type": "stream",
     "text": [
      "평년입니다.\n"
     ]
    }
   ],
   "source": [
    "year = int(input(\"확인할 연도를 입력하세요:\"))\n",
    "#2023이 입력값\n",
    "if (year%100 == 0 and year%400 != 0 or year%4 != 0):\n",
    "    print(\"평년입니다.\")\n",
    "else:\n",
    "    print(\"윤년입니다.\")"
   ]
  }
 ],
 "metadata": {
  "kernelspec": {
   "display_name": "Python 3 (ipykernel)",
   "language": "python",
   "name": "python3"
  },
  "language_info": {
   "codemirror_mode": {
    "name": "ipython",
    "version": 3
   },
   "file_extension": ".py",
   "mimetype": "text/x-python",
   "name": "python",
   "nbconvert_exporter": "python",
   "pygments_lexer": "ipython3",
   "version": "3.9.13"
  }
 },
 "nbformat": 4,
 "nbformat_minor": 5
}

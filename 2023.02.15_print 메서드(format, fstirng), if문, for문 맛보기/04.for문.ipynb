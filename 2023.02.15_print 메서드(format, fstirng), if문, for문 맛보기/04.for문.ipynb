{
 "cells": [
  {
   "cell_type": "code",
   "execution_count": 1,
   "id": "3066e8a4-7bc8-4718-886d-38816dc06fea",
   "metadata": {},
   "outputs": [
    {
     "data": {
      "text/plain": [
       "[0, 2, 4]"
      ]
     },
     "execution_count": 1,
     "metadata": {},
     "output_type": "execute_result"
    }
   ],
   "source": [
    "#슬라이싱\n",
    "a = [0,1,2,3,4,5,6,7]\n",
    "\n",
    "a[0:5:2] # 인덱스 0부터 5까지 2의 간격으로 출력"
   ]
  },
  {
   "cell_type": "code",
   "execution_count": 2,
   "id": "d8037a2e-d7f7-4d50-b015-355f4240f259",
   "metadata": {},
   "outputs": [
    {
     "name": "stdout",
     "output_type": "stream",
     "text": [
      "range(0, 8)\n",
      "range(0, 8)\n"
     ]
    },
    {
     "data": {
      "text/plain": [
       "[0, 1, 2, 3, 4, 5, 6, 7, 8]"
      ]
     },
     "execution_count": 2,
     "metadata": {},
     "output_type": "execute_result"
    }
   ],
   "source": [
    "# 함수를 호출할 때 소괄호를 사용\n",
    "# 인수(arguement)가 여럿일 때 콤마로 구분\n",
    "# range(시작하는 숫자(포함), 끝숫자(미포함), 증감)\n",
    "# range는 규칙된 숫자를 만드는데 특화되어 있다.\n",
    "range(0,8,1) # 시작값 0과, 증감값 1은 default(기본)이므로 생략해도 됨\n",
    "#range(8)과 동일한 결과\n",
    "print(range(0,8,1)) # iterable\n",
    "print(range(8)) #윗줄과 동일한 결과\n",
    "\n",
    "\n",
    "list(range(8)) #아래와 같이 연속으로 리스트를 생성할 경우 마지막 리스트만 출력함\n",
    "list(range(9))"
   ]
  },
  {
   "cell_type": "code",
   "execution_count": 3,
   "id": "56ec598f-f83d-48e4-a2bc-afbc7936f06d",
   "metadata": {},
   "outputs": [],
   "source": [
    "# list vs range가 동작하는 큰 차이점\n",
    "# range는 메모리에 미리 만들지 않고 필요할 때 자동생성\n",
    "# (메모리에 필요할 때 생성)\n",
    "# list는 변형이 가능하기에 메모리 소모가 큼\n",
    "# (메모리상에 미리 다 만들어 놓음)"
   ]
  },
  {
   "cell_type": "code",
   "execution_count": 4,
   "id": "d00b98eb-89f7-47f1-9d13-f5061157eb5b",
   "metadata": {},
   "outputs": [
    {
     "name": "stdout",
     "output_type": "stream",
     "text": [
      "Hello world\n",
      "Hello world\n",
      "Hello world\n",
      "Hello world\n",
      "Hello world\n",
      "Hello world\n",
      "Hello world\n",
      "Hello world\n",
      "Hello world\n",
      "Hello world\n",
      "[1, 2, 3, 4, 5, 6, 7, 8, 9, 10]\n"
     ]
    }
   ],
   "source": [
    "# range가 0~9까지의 숫자를 생성\n",
    "word = \"Hello world\"\n",
    "count = [] # 빈 리스트를 생성\n",
    "i_num = 0 # for문 반복 횟수 기록을 위해 초기값 설정\n",
    "\n",
    "for i in range(10):\n",
    "    i = word # i는 word와 같다.\n",
    "    i_num += 1 # i_num 초기값에 1을 반복적으로 더함\n",
    "    count.append(i_num) # count 빈 리스트에 i_num값을 추가\n",
    "    print(i)\n",
    "\n",
    "print(count) # for문이 반복된 만큼 \"Hello World\" 출력하고 마지막에 count를 출력"
   ]
  }
 ],
 "metadata": {
  "kernelspec": {
   "display_name": "Python 3 (ipykernel)",
   "language": "python",
   "name": "python3"
  },
  "language_info": {
   "codemirror_mode": {
    "name": "ipython",
    "version": 3
   },
   "file_extension": ".py",
   "mimetype": "text/x-python",
   "name": "python",
   "nbconvert_exporter": "python",
   "pygments_lexer": "ipython3",
   "version": "3.9.13"
  }
 },
 "nbformat": 4,
 "nbformat_minor": 5
}

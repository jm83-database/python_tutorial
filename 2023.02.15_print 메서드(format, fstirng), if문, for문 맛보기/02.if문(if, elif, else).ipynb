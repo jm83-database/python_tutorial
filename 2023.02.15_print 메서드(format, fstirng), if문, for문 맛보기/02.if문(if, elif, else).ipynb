{
 "cells": [
  {
   "cell_type": "code",
   "execution_count": 1,
   "id": "f9ba4f2a-2805-4837-be1d-43d6448d84f1",
   "metadata": {},
   "outputs": [
    {
     "name": "stdout",
     "output_type": "stream",
     "text": [
      "Hello World!\n"
     ]
    }
   ],
   "source": [
    "is_greet = True\n",
    "if is_greet:\n",
    "    print(\"Hello World!\")"
   ]
  },
  {
   "cell_type": "code",
   "execution_count": 2,
   "id": "151ca7bf-133f-4618-8f3c-6a538a88e1a6",
   "metadata": {},
   "outputs": [],
   "source": [
    "# 객체 타입을 비교할 때 \n",
    "# 좌 is 우\n",
    "# type(inputvalue) is int\n",
    "\n",
    "# True라면 정수, False라면 다른 타입\n",
    "\n",
    "# if type(inputvalue) is int:\n",
    "#     print(\"inputvalue는 정수입니다.)"
   ]
  },
  {
   "cell_type": "code",
   "execution_count": 3,
   "id": "a3291aa5-c8f0-471a-b7dc-381350613d94",
   "metadata": {},
   "outputs": [],
   "source": [
    "# if문은 입력이 조건에 True라면 if문 내부를 작동하고,\n",
    "# 조건에 False라면 if문을 무시하고 main 코드로 돌아온다."
   ]
  },
  {
   "cell_type": "code",
   "execution_count": 4,
   "id": "43af9fbc-8e9d-47eb-bb1e-75ceca05ae82",
   "metadata": {},
   "outputs": [],
   "source": [
    "# 논리 연산자와 if문\n",
    "\n",
    "# and: 좌, 우 모두 True일 때 True 반환\n",
    "#      하나라도 False면 Fasle 반환\n",
    "\n",
    "# or: 좌, 우 중 하나라도 True일 때 True 반환\n",
    "#     모두 Fasle일 때 Fasle 반환\n",
    "\n",
    "# not: True를 False로 False를 True로 반환"
   ]
  },
  {
   "cell_type": "code",
   "execution_count": null,
   "id": "7ddf662f-0c78-46cf-bb2a-cb02c788fb09",
   "metadata": {},
   "outputs": [],
   "source": []
  },
  {
   "cell_type": "code",
   "execution_count": 5,
   "id": "61a5bfdd-a7f3-4734-8e6b-84cc53e91132",
   "metadata": {},
   "outputs": [],
   "source": [
    "# if문과 elif문(elif는 else if)\n",
    "# 조건이 한개가 아니고 다른 조건을 더 넣고 싶을 때 elif활용\n",
    "# tab키를 누르면 공백 4칸이 자동으로 넣어진다.\n",
    "# (메서드의 경우 \"time.l\"에서 tab키를 누르면 time.localtime으로 자동 채우기가 된다.)"
   ]
  },
  {
   "cell_type": "code",
   "execution_count": 6,
   "id": "6af24ac4-89c5-4740-82a6-6d844dc07c68",
   "metadata": {},
   "outputs": [
    {
     "ename": "IndentationError",
     "evalue": "expected an indented block (4221180611.py, line 2)",
     "output_type": "error",
     "traceback": [
      "\u001b[1;36m  File \u001b[1;32m\"C:\\Users\\user\\AppData\\Local\\Temp\\ipykernel_6428\\4221180611.py\"\u001b[1;36m, line \u001b[1;32m2\u001b[0m\n\u001b[1;33m    print(\"hello\") # 들여쓰기(indent)가 안 되어서 오류 발생)\u001b[0m\n\u001b[1;37m    ^\u001b[0m\n\u001b[1;31mIndentationError\u001b[0m\u001b[1;31m:\u001b[0m expected an indented block\n"
     ]
    }
   ],
   "source": [
    "if True:\n",
    "print(\"hello\") # 들여쓰기(indent)가 안 되어서 오류 발생)"
   ]
  },
  {
   "cell_type": "code",
   "execution_count": 7,
   "id": "dfebf0e6-2491-49a0-b296-13fae329472d",
   "metadata": {},
   "outputs": [],
   "source": [
    "a = '100'\n",
    "\n",
    "#a라는 변수 타입이 int라면 True, 아니라면 Fasle\n",
    "if type(a) is int:\n",
    "    print(\"a는 정수입니다.\")"
   ]
  },
  {
   "cell_type": "code",
   "execution_count": 8,
   "id": "e7a32ec6-241b-4d8c-a848-f1aafb965c4c",
   "metadata": {},
   "outputs": [
    {
     "name": "stdout",
     "output_type": "stream",
     "text": [
      "문자열입니다.\n"
     ]
    }
   ],
   "source": [
    "b = '10'\n",
    "\n",
    "if type(b) is int:\n",
    "    print(\"정수입니다.\")\n",
    "    \n",
    "# 앞의 조건이 전부 False일 때 elif 실행\n",
    "elif type(b) is str:\n",
    "    print(\"문자열입니다.\")"
   ]
  },
  {
   "cell_type": "code",
   "execution_count": 9,
   "id": "7b29095c-7a3b-486f-8d20-af8a47dc5314",
   "metadata": {},
   "outputs": [],
   "source": [
    "# elif는 이전 조건(헤당 줄보다 위)에서 True가 성립하면 실행되지 않는다."
   ]
  },
  {
   "cell_type": "code",
   "execution_count": 10,
   "id": "71cf7249-0244-4573-acc2-491d3369930b",
   "metadata": {},
   "outputs": [
    {
     "name": "stdout",
     "output_type": "stream",
     "text": [
      "시작\n",
      "10보다 같거나 작고, 5보단 큽니다.\n",
      "끝\n"
     ]
    }
   ],
   "source": [
    "c = 10\n",
    "print(\"시작\")\n",
    "\n",
    "if c > 10:\n",
    "    print(\"10보다 큽니다.\")\n",
    "elif c < 5:\n",
    "    print(\"10보다 작고, 5보다도 작습니다.\")\n",
    "elif True:\n",
    "    print(\"10보다 같거나 작고, 5보단 큽니다.\")\n",
    "# c는 10이므로 if와 elif 조건에서는 False이다.\n",
    "    \n",
    "print(\"끝\")"
   ]
  },
  {
   "cell_type": "code",
   "execution_count": 11,
   "id": "cdb858a3-113d-46e7-9152-6d9e802c3fc5",
   "metadata": {},
   "outputs": [
    {
     "name": "stdout",
     "output_type": "stream",
     "text": [
      "가\n"
     ]
    }
   ],
   "source": [
    "d = 53 # 0~100 점수\n",
    "\n",
    "if d >= 90:\n",
    "    print(\"수\")\n",
    "elif d < 90 and d >= 80:\n",
    "    print(\"우\")\n",
    "elif d < 80 and d >= 70:\n",
    "    print(\"미\")\n",
    "elif d < 70 and d >= 60:\n",
    "    print(\"양\")\n",
    "elif d < 60 and d >= 50:\n",
    "    print(\"가\")\n",
    "\n",
    "# d가 53점이므로 가가 출력된다."
   ]
  },
  {
   "cell_type": "code",
   "execution_count": 12,
   "id": "09341136-e4c4-4ab7-a9a2-92061f932e0c",
   "metadata": {},
   "outputs": [
    {
     "name": "stdout",
     "output_type": "stream",
     "text": [
      "양\n"
     ]
    }
   ],
   "source": [
    "e = 69 # 0~100 점수\n",
    "\n",
    "if e >= 90:\n",
    "    print(\"수\")\n",
    "elif e >= 80:\n",
    "    print(\"우\")\n",
    "elif e >= 70:\n",
    "    print(\"미\")\n",
    "elif e >= 60:\n",
    "    print(\"양\")\n",
    "elif e >= 50:\n",
    "    print(\"가\")\n",
    "    \n",
    "# if-elif문은 순차적으로 위에서부터 조건을 검색한 후에\n",
    "# 성립되는 마지막 조건에서 출력됨\n",
    "# 위 예시에서 양이 뜬다."
   ]
  },
  {
   "cell_type": "code",
   "execution_count": 13,
   "id": "f6cbdf9b-d5bc-41d1-a967-2b24cb42ab50",
   "metadata": {},
   "outputs": [
    {
     "name": "stdout",
     "output_type": "stream",
     "text": [
      "30대 입니다.\n"
     ]
    }
   ],
   "source": [
    "age = 39\n",
    "\n",
    "if 20 <= age < 30:\n",
    "    print(\"20대 입니다.\")\n",
    "elif 30 <= age < 40:\n",
    "    print(\"30대 입니다.\")"
   ]
  },
  {
   "cell_type": "code",
   "execution_count": 14,
   "id": "f3fbcbbb-210b-4846-b045-97736db4d404",
   "metadata": {},
   "outputs": [],
   "source": [
    "# 조건들이 상호 배타적이라면 if-elif 순서 고려를 안 해도 무방\n",
    "# 상호 배타적이지 않다면 if-elif 순서가 바뀌면 결과가 바뀜\n",
    "\n",
    "# 상호 배타적이란?\n",
    "# A∩B = 0, (A,B)⊂C\n",
    "# A와 B는 C라는 집단에 포함되어 있지만, 서로 공통적인 부분이 없다.\n",
    "# 남성과 여성은 인간이라는 카테고리에 속하지만 서로 다르다.\n",
    "\n",
    "# 독립적이란?\n",
    "# A∩B = 0, A∪B = U\n",
    "# A와 B는 서로 관계도 없으며 하나가 바뀐다고 해서 다른 집단에 영향이 없다.\n",
    "# A가 공부하는 것과 B가 밥 먹는 것은 관계가 없다."
   ]
  },
  {
   "cell_type": "code",
   "execution_count": null,
   "id": "8cb642e8-343c-472d-9019-b20573ff5dee",
   "metadata": {},
   "outputs": [],
   "source": []
  },
  {
   "cell_type": "code",
   "execution_count": 15,
   "id": "1a1519cc-152d-4f34-9516-333145b66b65",
   "metadata": {},
   "outputs": [
    {
     "name": "stdout",
     "output_type": "stream",
     "text": [
      "오우... 불혹을 넘기셨군요\n",
      "감사합니다.\n"
     ]
    }
   ],
   "source": [
    "#if-elif-else문\n",
    "\n",
    "age1 = 40\n",
    "if 20 <= age1 < 30:\n",
    "    print(\"20대 입니다.\")\n",
    "elif 30 <= age1 < 40:\n",
    "    print(\"30대 입니다.\")\n",
    "else:\n",
    "    print(\"오우... 불혹을 넘기셨군요\")\n",
    "    \n",
    "print(\"감사합니다.\")"
   ]
  },
  {
   "cell_type": "code",
   "execution_count": 16,
   "id": "ab2021fa-ee8a-4d1c-bf2d-8465bfa7f4f3",
   "metadata": {},
   "outputs": [],
   "source": [
    "# pass\n",
    "# if 조건식:\n",
    "#     pass ← 문법상의 오류를 발생하지 않게 방지"
   ]
  },
  {
   "cell_type": "code",
   "execution_count": 17,
   "id": "a2a1cbfa-5e27-4578-a05f-5c33d02d935d",
   "metadata": {},
   "outputs": [],
   "source": [
    "# if문 중첩\n",
    "# 중첩이 늘어날수록 들여쓰기가 같이 늘어남"
   ]
  }
 ],
 "metadata": {
  "kernelspec": {
   "display_name": "Python 3 (ipykernel)",
   "language": "python",
   "name": "python3"
  },
  "language_info": {
   "codemirror_mode": {
    "name": "ipython",
    "version": 3
   },
   "file_extension": ".py",
   "mimetype": "text/x-python",
   "name": "python",
   "nbconvert_exporter": "python",
   "pygments_lexer": "ipython3",
   "version": "3.9.13"
  }
 },
 "nbformat": 4,
 "nbformat_minor": 5
}

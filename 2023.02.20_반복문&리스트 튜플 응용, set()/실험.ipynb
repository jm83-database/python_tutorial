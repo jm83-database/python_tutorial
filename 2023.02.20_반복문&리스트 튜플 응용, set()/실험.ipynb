{
 "cells": [
  {
   "cell_type": "code",
   "execution_count": 12,
   "id": "2d46ae95-40d2-47a5-96ea-cc3cdc86d2c8",
   "metadata": {},
   "outputs": [
    {
     "name": "stdin",
     "output_type": "stream",
     "text": [
      "숫자 1개를 입력하세요. 100\n"
     ]
    },
    {
     "name": "stdout",
     "output_type": "stream",
     "text": [
      "그보다 작습니다.\n"
     ]
    },
    {
     "name": "stdin",
     "output_type": "stream",
     "text": [
      "숫자 1개를 입력하세요. 50\n"
     ]
    },
    {
     "name": "stdout",
     "output_type": "stream",
     "text": [
      "그보다 큽니다.\n"
     ]
    },
    {
     "name": "stdin",
     "output_type": "stream",
     "text": [
      "숫자 1개를 입력하세요. 60\n"
     ]
    },
    {
     "name": "stdout",
     "output_type": "stream",
     "text": [
      "그보다 작습니다.\n"
     ]
    },
    {
     "name": "stdin",
     "output_type": "stream",
     "text": [
      "숫자 1개를 입력하세요. 55\n"
     ]
    },
    {
     "name": "stdout",
     "output_type": "stream",
     "text": [
      "그보다 큽니다.\n"
     ]
    },
    {
     "name": "stdin",
     "output_type": "stream",
     "text": [
      "숫자 1개를 입력하세요. 57\n"
     ]
    },
    {
     "name": "stdout",
     "output_type": "stream",
     "text": [
      "그보다 작습니다.\n"
     ]
    },
    {
     "name": "stdin",
     "output_type": "stream",
     "text": [
      "숫자 1개를 입력하세요. 56\n"
     ]
    },
    {
     "name": "stdout",
     "output_type": "stream",
     "text": [
      "맞췄습니다.\n",
      "6번만에 맞추셨습니다.\n",
      "입력하신 숫자는 다음과 같습니다. 100, 50, 60, 55, 57, 56\n"
     ]
    }
   ],
   "source": [
    "import random # 랜덤 패키지 호출\n",
    "X = random.randint(1, 100) # 랜덤 숫자 생성\n",
    "lis = []\n",
    "\n",
    "while True:\n",
    "    lis.append(input(\"숫자 1개를 입력하세요.\"))\n",
    "    _ = int(lis[-1])\n",
    "    \n",
    "    if _ <0 or _ > 100:\n",
    "        print(\"1~100 사이의 숫자를 입력하세요.\")\n",
    "    elif _ < X:\n",
    "        print(\"그보다 큽니다.\")\n",
    "    elif _ > X:\n",
    "        print(\"그보다 작습니다.\")  \n",
    "    else:\n",
    "        print(\"맞췄습니다.\")\n",
    "        break\n",
    "\n",
    "\n",
    "print(f\"{len(lis)}번만에 맞추셨습니다.\")\n",
    "print(\"입력하신 숫자는 다음과 같습니다.\", ', '.join(lis))"
   ]
  }
 ],
 "metadata": {
  "kernelspec": {
   "display_name": "Python 3 (ipykernel)",
   "language": "python",
   "name": "python3"
  },
  "language_info": {
   "codemirror_mode": {
    "name": "ipython",
    "version": 3
   },
   "file_extension": ".py",
   "mimetype": "text/x-python",
   "name": "python",
   "nbconvert_exporter": "python",
   "pygments_lexer": "ipython3",
   "version": "3.9.13"
  }
 },
 "nbformat": 4,
 "nbformat_minor": 5
}

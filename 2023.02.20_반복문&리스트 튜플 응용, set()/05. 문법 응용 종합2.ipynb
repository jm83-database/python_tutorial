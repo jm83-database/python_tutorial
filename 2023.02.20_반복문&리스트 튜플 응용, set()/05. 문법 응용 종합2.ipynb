{
 "cells": [
  {
   "cell_type": "code",
   "execution_count": 1,
   "id": "51b8c872-1b19-43ec-a669-73d409f24ba8",
   "metadata": {},
   "outputs": [
    {
     "name": "stdin",
     "output_type": "stream",
     "text": [
      "시작하는 정수를 입력 4\n",
      "끝나는 정수 입력 7\n"
     ]
    },
    {
     "name": "stdout",
     "output_type": "stream",
     "text": [
      "4부터 7사이의 짝수 제곱의 합은 52입니다.\n"
     ]
    }
   ],
   "source": [
    "n = int(input(\"시작하는 정수를 입력\"))\n",
    "m = int(input(\"끝나는 정수 입력\"))\n",
    "# 입력값은 4, 7\n",
    "res = 0\n",
    "\n",
    "for i in range(n, m+1):\n",
    "    if i%2 == 0:\n",
    "        res += i**2        \n",
    "\n",
    "print(f\"{n}부터 {m}사이의 짝수 제곱의 합은 {res}입니다.\")"
   ]
  },
  {
   "cell_type": "code",
   "execution_count": 2,
   "id": "8ece8265-4863-48ba-a870-e078a7f5fcbf",
   "metadata": {},
   "outputs": [
    {
     "name": "stdin",
     "output_type": "stream",
     "text": [
      "시작하는 정수를 입력 4\n",
      "끝나는 정수 입력 7\n"
     ]
    },
    {
     "name": "stdout",
     "output_type": "stream",
     "text": [
      "4부터 7사이의 짝수 제곱의 합은 52입니다.\n"
     ]
    }
   ],
   "source": [
    "n = int(input(\"시작하는 정수를 입력\"))\n",
    "m = int(input(\"끝나는 정수 입력\"))\n",
    "res = 0\n",
    "i = n\n",
    "\n",
    "while i<m:\n",
    "    if i % 2 == 0:\n",
    "        res += i**2\n",
    "    i += 1\n",
    "    \n",
    "\n",
    "print(f\"{n}부터 {m}사이의 짝수 제곱의 합은 {res}입니다.\")"
   ]
  },
  {
   "cell_type": "code",
   "execution_count": 3,
   "id": "651f5485-5895-47ed-919d-2b3fbb0e8b5e",
   "metadata": {},
   "outputs": [
    {
     "name": "stdout",
     "output_type": "stream",
     "text": [
      "결과는 233168입니다.\n"
     ]
    }
   ],
   "source": [
    "res = 0\n",
    "for i in range(1, 1000):\n",
    "    if i % 3 == 0 or i % 5 == 0:\n",
    "        res += i\n",
    "        \n",
    "print(f\"결과는 {res}입니다.\")"
   ]
  },
  {
   "cell_type": "code",
   "execution_count": 4,
   "id": "071c44a8-ddd8-49f8-8635-95dd4b352f28",
   "metadata": {},
   "outputs": [
    {
     "name": "stdout",
     "output_type": "stream",
     "text": [
      "결과는 233168입니다.\n"
     ]
    }
   ],
   "source": [
    "res = 0\n",
    "i = 1\n",
    "while i < 1000:\n",
    "    if i % 3 == 0 or i % 5 == 0:\n",
    "        res += i\n",
    "    i += 1\n",
    "        \n",
    "print(f\"결과는 {res}입니다.\")"
   ]
  },
  {
   "cell_type": "code",
   "execution_count": 5,
   "id": "ff9d16c9-990c-43c2-83f8-1911fac172ed",
   "metadata": {},
   "outputs": [
    {
     "name": "stdin",
     "output_type": "stream",
     "text": [
      "실기점수를 입력하세요 : 70 50 85 98 82\n"
     ]
    },
    {
     "name": "stdout",
     "output_type": "stream",
     "text": [
      "385\n",
      "98\n",
      "50\n",
      "이 학생의 평균점수는 79.0입니다.\n"
     ]
    }
   ],
   "source": [
    "lis1 = list(map(int, input(\"실기점수를 입력하세요 :\").split()))\n",
    "# 입력값은 70 50 85 98 82\n",
    "res = 0\n",
    "large = 0\n",
    "small = 100\n",
    "\n",
    "for i in lis1:\n",
    "    res += i\n",
    "print(res)\n",
    "\n",
    "for i in lis1:\n",
    "    if i > large:\n",
    "        large = i\n",
    "print(large)\n",
    "\n",
    "for i in lis1:\n",
    "    if i < small:\n",
    "        small = i\n",
    "print(small)\n",
    "\n",
    "\n",
    "final = (res -(large + small))/(len(lis1)-2)\n",
    "print(f\"이 학생의 평균점수는 {final}입니다.\")\n"
   ]
  },
  {
   "cell_type": "code",
   "execution_count": 6,
   "id": "5f02f1cc-05c2-4d61-9e22-4114fcd6efc2",
   "metadata": {},
   "outputs": [
    {
     "name": "stdout",
     "output_type": "stream",
     "text": [
      "[2, 1, 1, 1, 0]\n"
     ]
    }
   ],
   "source": [
    "scores = [86, 72, 98, 60, 45]\n",
    "grade_counter = [0, 0, 0, 0, 0]\n",
    "\n",
    "for i in scores:\n",
    "    if 85 <= i <= 100:\n",
    "        grade_counter[0] += 1 # A학점\n",
    "    elif 70 <= i <= 84:\n",
    "        grade_counter[1] += 1 # B학점\n",
    "    elif 55 <= i <= 69:\n",
    "        grade_counter[2] += 1 # C학점\n",
    "    elif 40 <= i <= 54:\n",
    "        grade_counter[3] += 1 # D학점\n",
    "    else :\n",
    "        grade_counter[4] += 1 # E학점\n",
    "        \n",
    "print(grade_counter)"
   ]
  },
  {
   "cell_type": "code",
   "execution_count": 7,
   "id": "7f6b5038-8718-4505-ab25-756f3ca48aba",
   "metadata": {},
   "outputs": [
    {
     "name": "stdout",
     "output_type": "stream",
     "text": [
      "1\t2\tFizz\t4\tBuzz\tFizz\t7\t8\tFizz\tBuzz\t11\tFizz\t13\t14\tFizzBuzz\t16\t17\tFizz\t19\tBuzz\tFizz\t22\t23\tFizz\tBuzz\t26\tFizz\t28\t29\tFizzBuzz\t31\t32\tFizz\t34\tBuzz\tFizz\t37\t38\tFizz\tBuzz\t41\tFizz\t43\t44\tFizzBuzz\t46\t47\tFizz\t49\tBuzz\tFizz\t52\t53\tFizz\tBuzz\t56\tFizz\t58\t59\tFizzBuzz\t61\t62\tFizz\t64\tBuzz\tFizz\t67\t68\tFizz\tBuzz\t71\tFizz\t73\t74\tFizzBuzz\t76\t77\tFizz\t79\tBuzz\tFizz\t82\t83\tFizz\tBuzz\t86\tFizz\t88\t89\tFizzBuzz\t91\t92\tFizz\t94\tBuzz\tFizz\t97\t98\tFizz\tBuzz\t"
     ]
    }
   ],
   "source": [
    "lis2 = [i for i in range(1,101)]\n",
    "for i in lis2:\n",
    "    if i % 15 == 0:\n",
    "        i = \"FizzBuzz\"\n",
    "        print(i, end = \"\\t\")\n",
    "    elif i % 3 == 0:\n",
    "        i = \"Fizz\"\n",
    "        print(i, end = \"\\t\")\n",
    "    elif i % 5 == 0:\n",
    "        i = \"Buzz\"\n",
    "        print(i, end = \"\\t\")\n",
    "    else:\n",
    "        print(i, end = \"\\t\")"
   ]
  },
  {
   "cell_type": "code",
   "execution_count": 8,
   "id": "b0a5f6a1-2fe1-4ae1-837e-e8c02f59b121",
   "metadata": {},
   "outputs": [
    {
     "name": "stdout",
     "output_type": "stream",
     "text": [
      "m 또는 h 가 이름에 포함된 사람은 3 명 입니다.\n"
     ]
    }
   ],
   "source": [
    "name_list = ['matthew', 'mark', 'luke', 'john', 'paul', 'peter']\n",
    "count = 0\n",
    "for i in name_list:\n",
    "    if 'h' in i or 'm' in i:\n",
    "        count += 1\n",
    "print(\"m 또는 h 가 이름에 포함된 사람은\", count ,\"명 입니다.\")"
   ]
  },
  {
   "cell_type": "code",
   "execution_count": 9,
   "id": "f6f52ca0-66c9-4e73-8ca0-2aa415301470",
   "metadata": {},
   "outputs": [
    {
     "name": "stdout",
     "output_type": "stream",
     "text": [
      "m 또는 h 가 이름에 포함된 사람은 3 명 입니다.\n"
     ]
    }
   ],
   "source": [
    "name_list = ['matthew', 'mark', 'luke', 'john', 'paul', 'peter']\n",
    "count = 0\n",
    "for name in name_list:\n",
    "    for n in name:\n",
    "        if n == 'h' or n == 'm':\n",
    "            count += 1\n",
    "            break\n",
    "print(\"m 또는 h 가 이름에 포함된 사람은\", count ,\"명 입니다.\")"
   ]
  },
  {
   "cell_type": "code",
   "execution_count": 10,
   "id": "844e7b7b-698c-4d15-a93b-af8d637fd327",
   "metadata": {},
   "outputs": [
    {
     "name": "stdout",
     "output_type": "stream",
     "text": [
      "1번 학생 축하합니다. 합격입니다.\n",
      "3번 학생 축하합니다. 합격입니다.\n",
      "5번 학생 축하합니다. 합격입니다.\n"
     ]
    }
   ],
   "source": [
    "marks = [90, 25, 67, 45, 80]\n",
    "\n",
    "for i in range(1,len(marks)+1):\n",
    "    if marks[i-1] > 60:\n",
    "        print(f\"{i}번 학생 축하합니다. 합격입니다.\")"
   ]
  },
  {
   "cell_type": "code",
   "execution_count": 11,
   "id": "9602f8cd-746c-4812-99d3-b10990a40cbf",
   "metadata": {},
   "outputs": [
    {
     "name": "stdout",
     "output_type": "stream",
     "text": [
      "1번 학생 축하합니다. 합격입니다.\n",
      "3번 학생 축하합니다. 합격입니다.\n",
      "5번 학생 축하합니다. 합격입니다.\n"
     ]
    }
   ],
   "source": [
    "marks = [90, 25, 67, 45, 80]\n",
    "number = 0\n",
    "\n",
    "for mark in marks:\n",
    "    number = number + 1\n",
    "    if mark < 60:\n",
    "        continue\n",
    "    print(f\"{number}번 학생 축하합니다. 합격입니다.\")"
   ]
  },
  {
   "cell_type": "code",
   "execution_count": 12,
   "id": "71e3d329-127f-4d06-9274-f3ece21e61f4",
   "metadata": {},
   "outputs": [
    {
     "name": "stdout",
     "output_type": "stream",
     "text": [
      "1번 학생 축하합니다. 합격입니다.\n",
      "3번 학생 축하합니다. 합격입니다.\n",
      "5번 학생 축하합니다. 합격입니다.\n"
     ]
    }
   ],
   "source": [
    "marks = [90, 25, 67, 45, 80]\n",
    "i = 0\n",
    "\n",
    "while i < len(marks):\n",
    "    i += 1\n",
    "    if marks[i-1] < 60:\n",
    "        continue    \n",
    "    print(f\"{i}번 학생 축하합니다. 합격입니다.\")"
   ]
  },
  {
   "cell_type": "code",
   "execution_count": 13,
   "id": "ff67af85-2933-40f1-b7f7-75921b5df02d",
   "metadata": {},
   "outputs": [
    {
     "name": "stdout",
     "output_type": "stream",
     "text": [
      "변환된 arr은 [3, 2, 4, 1] 입니다\n"
     ]
    }
   ],
   "source": [
    "arr = [1,4,2,3]\n",
    "left, right = 0, len(arr) -1\n",
    "\n",
    "while left < (len(arr) // 2): # arr 리스트의 절반보다 작을 경우\n",
    "    arr[left], arr[right] = arr[right], arr[left]\n",
    "    left += 1\n",
    "    right -= 1\n",
    "    \n",
    "print(\"변환된 arr은\", arr, \"입니다\")"
   ]
  },
  {
   "cell_type": "code",
   "execution_count": 14,
   "id": "0eea2414-68f6-4edf-9402-740e4716b459",
   "metadata": {},
   "outputs": [
    {
     "name": "stdout",
     "output_type": "stream",
     "text": [
      "변환된 arr은 [3, 2, 4, 1] 입니다\n"
     ]
    }
   ],
   "source": [
    "arr = [1,4,2,3]\n",
    "left, right = 0, len(arr) -1\n",
    "\n",
    "while left < right:\n",
    "    arr[left], arr[right] = arr[right], arr[left]\n",
    "    left += 1\n",
    "    right -= 1\n",
    "    \n",
    "print(\"변환된 arr은\", arr, \"입니다\")"
   ]
  }
 ],
 "metadata": {
  "kernelspec": {
   "display_name": "Python 3 (ipykernel)",
   "language": "python",
   "name": "python3"
  },
  "language_info": {
   "codemirror_mode": {
    "name": "ipython",
    "version": 3
   },
   "file_extension": ".py",
   "mimetype": "text/x-python",
   "name": "python",
   "nbconvert_exporter": "python",
   "pygments_lexer": "ipython3",
   "version": "3.9.13"
  }
 },
 "nbformat": 4,
 "nbformat_minor": 5
}

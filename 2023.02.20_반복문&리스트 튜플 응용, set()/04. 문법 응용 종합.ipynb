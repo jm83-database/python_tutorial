{
 "cells": [
  {
   "cell_type": "code",
   "execution_count": 1,
   "id": "c95113ef-96c7-4d54-bf7a-20e1f4fda629",
   "metadata": {},
   "outputs": [
    {
     "name": "stdin",
     "output_type": "stream",
     "text": [
      "정수 두 개 입력하세요 99 1\n"
     ]
    },
    {
     "name": "stdout",
     "output_type": "stream",
     "text": [
      "첫번째 값의 범위는 1~20입니다.\n",
      "다시 입력하세요.\n"
     ]
    },
    {
     "name": "stdin",
     "output_type": "stream",
     "text": [
      "정수 두 개 입력하세요 10 1\n"
     ]
    },
    {
     "name": "stdout",
     "output_type": "stream",
     "text": [
      "두번째 값의 범위는 10~30입니다.\n",
      "다시 입력하세요.\n"
     ]
    },
    {
     "name": "stdin",
     "output_type": "stream",
     "text": [
      "정수 두 개 입력하세요 20 10\n"
     ]
    },
    {
     "name": "stdout",
     "output_type": "stream",
     "text": [
      "첫 번째 입력 값은 두 번째 값보다 작게 입력하세요.\n",
      "다시 입력하세요.\n"
     ]
    },
    {
     "name": "stdin",
     "output_type": "stream",
     "text": [
      "정수 두 개 입력하세요 10 20\n"
     ]
    },
    {
     "name": "stdout",
     "output_type": "stream",
     "text": [
      "[1024, 4096, 8192, 16384, 32768, 65536, 131072, 262144, 1048576]\n"
     ]
    }
   ],
   "source": [
    "while True:\n",
    "    a,b = map(int,input(\"정수 두 개 입력하세요\").split(\" \")) # split이 list형태로 반환\n",
    "    # a, b를 한 줄에 값을 집어넣는 과정이 unpacking\n",
    "# 입력값은 99 1, 10 1, 20 10, 10 20 순서    \n",
    "\n",
    "    if 0 < a < 21:\n",
    "        pass\n",
    "    else: \n",
    "        print(\"첫번째 값의 범위는 1~20입니다.\\n다시 입력하세요.\")\n",
    "        continue\n",
    "    if 9 < b < 31:\n",
    "        pass\n",
    "    else:\n",
    "        print(\"두번째 값의 범위는 10~30입니다.\\n다시 입력하세요.\")\n",
    "        continue\n",
    "    if a > b:\n",
    "        print(\"첫 번째 입력 값은 두 번째 값보다 작게 입력하세요.\\n다시 입력하세요.\")\n",
    "        continue   \n",
    "    if 0 < a < 21 and 9 < b < 31:\n",
    "        lis = [2**i for i in range(a,b+1)]\n",
    "        del lis[1]\n",
    "        del lis[len(lis)-2]\n",
    "        print(lis)\n",
    "        break"
   ]
  },
  {
   "cell_type": "code",
   "execution_count": 2,
   "id": "2035faeb-8976-4d0d-9e8f-e87b57a459d5",
   "metadata": {},
   "outputs": [
    {
     "name": "stdin",
     "output_type": "stream",
     "text": [
      "정수 두 개 입력하세요 99 1\n"
     ]
    },
    {
     "name": "stdout",
     "output_type": "stream",
     "text": [
      "첫번째 값의 범위는 1~20입니다.\n",
      "다시 입력하세요.\n"
     ]
    },
    {
     "name": "stdin",
     "output_type": "stream",
     "text": [
      "정수 두 개 입력하세요 10 1\n"
     ]
    },
    {
     "name": "stdout",
     "output_type": "stream",
     "text": [
      "두번째 값의 범위는 10~30입니다.\n",
      "다시 입력하세요.\n"
     ]
    },
    {
     "name": "stdin",
     "output_type": "stream",
     "text": [
      "정수 두 개 입력하세요 20 10\n"
     ]
    },
    {
     "name": "stdout",
     "output_type": "stream",
     "text": [
      "첫 번째 입력 값은 두 번째 값보다 작게 입력하세요.\n",
      "다시 입력하세요.\n"
     ]
    },
    {
     "name": "stdin",
     "output_type": "stream",
     "text": [
      "정수 두 개 입력하세요 10 20\n"
     ]
    },
    {
     "name": "stdout",
     "output_type": "stream",
     "text": [
      "[1024, 4096, 8192, 16384, 32768, 65536, 131072, 262144, 1048576]\n"
     ]
    }
   ],
   "source": [
    "while True:\n",
    "    a,b = map(int,input(\"정수 두 개 입력하세요\").split(\" \"))\n",
    "# 입력값은 99 1, 10 1, 20 10, 10 20 순서    \n",
    "\n",
    "    if a < 1 or a > 20:\n",
    "        print(\"첫번째 값의 범위는 1~20입니다.\\n다시 입력하세요.\")\n",
    "    elif b < 10 or b > 30:\n",
    "        print(\"두번째 값의 범위는 10~30입니다.\\n다시 입력하세요.\")\n",
    "    elif a >= b:\n",
    "        print(\"첫 번째 입력 값은 두 번째 값보다 작게 입력하세요.\\n다시 입력하세요.\")  \n",
    "    else:\n",
    "        lis = [2**i for i in range(a,b+1)]\n",
    "        del lis[1]\n",
    "        del lis[-2]\n",
    "        print(lis)\n",
    "        break\n",
    "    continue # 굳이 없어도 무한 반복이 된다."
   ]
  },
  {
   "cell_type": "code",
   "execution_count": 3,
   "id": "7f646719-b5b5-4c0b-a596-5889816d1fe9",
   "metadata": {},
   "outputs": [
    {
     "name": "stdin",
     "output_type": "stream",
     "text": [
      "정수 두 개 입력하세요 99 1\n"
     ]
    },
    {
     "name": "stdout",
     "output_type": "stream",
     "text": [
      "첫번째 값의 범위는 1~20입니다.\n",
      "다시 입력하세요.\n"
     ]
    },
    {
     "name": "stdin",
     "output_type": "stream",
     "text": [
      "정수 두 개 입력하세요 10 1\n"
     ]
    },
    {
     "name": "stdout",
     "output_type": "stream",
     "text": [
      "두번째 값의 범위는 10~30입니다.\n",
      "다시 입력하세요.\n"
     ]
    },
    {
     "name": "stdin",
     "output_type": "stream",
     "text": [
      "정수 두 개 입력하세요 20 10\n"
     ]
    },
    {
     "name": "stdout",
     "output_type": "stream",
     "text": [
      "첫 번째 입력 값은 두 번째 값보다 작게 입력하세요.\n",
      "다시 입력하세요.\n"
     ]
    },
    {
     "name": "stdin",
     "output_type": "stream",
     "text": [
      "정수 두 개 입력하세요 10 20\n"
     ]
    },
    {
     "name": "stdout",
     "output_type": "stream",
     "text": [
      "[1024, 4096, 8192, 16384, 32768, 65536, 131072, 262144, 1048576]\n"
     ]
    }
   ],
   "source": [
    "while True:\n",
    "    a,b = map(int,input(\"정수 두 개 입력하세요\").split(\" \"))\n",
    "# 입력값은 99 1, 10 1, 20 10, 10 20 순서    \n",
    "\n",
    "    if a < 1 or a > 20:\n",
    "        print(\"첫번째 값의 범위는 1~20입니다.\\n다시 입력하세요.\")\n",
    "    elif b < 10 or b > 30:\n",
    "        print(\"두번째 값의 범위는 10~30입니다.\\n다시 입력하세요.\")\n",
    "    elif a >= b:\n",
    "        print(\"첫 번째 입력 값은 두 번째 값보다 작게 입력하세요.\\n다시 입력하세요.\")  \n",
    "    else:\n",
    "        lis = [2**i for i in range(a,b+1)]\n",
    "        del lis[1]\n",
    "        del lis[-2]\n",
    "        print(lis)\n",
    "        break"
   ]
  },
  {
   "cell_type": "code",
   "execution_count": 4,
   "id": "35cc9200-453b-4c01-9302-497966de9938",
   "metadata": {},
   "outputs": [
    {
     "name": "stdin",
     "output_type": "stream",
     "text": [
      "정수 두 개 입력하세요 99 1\n"
     ]
    },
    {
     "name": "stdout",
     "output_type": "stream",
     "text": [
      "첫번째 값의 범위는 1~20입니다.\n",
      "다시 입력하세요.\n"
     ]
    },
    {
     "name": "stdin",
     "output_type": "stream",
     "text": [
      "정수 두 개 입력하세요 10 1\n"
     ]
    },
    {
     "name": "stdout",
     "output_type": "stream",
     "text": [
      "두번째 값의 범위는 10~30입니다.\n",
      "다시 입력하세요.\n"
     ]
    },
    {
     "name": "stdin",
     "output_type": "stream",
     "text": [
      "정수 두 개 입력하세요 20 10\n"
     ]
    },
    {
     "name": "stdout",
     "output_type": "stream",
     "text": [
      "첫 번째 입력 값은 두 번째 값보다 작게 입력하세요.\n",
      "다시 입력하세요.\n"
     ]
    },
    {
     "name": "stdin",
     "output_type": "stream",
     "text": [
      "정수 두 개 입력하세요 10 20\n"
     ]
    },
    {
     "name": "stdout",
     "output_type": "stream",
     "text": [
      "[1024, 4096, 8192, 16384, 32768, 65536, 131072, 262144, 1048576]\n"
     ]
    }
   ],
   "source": [
    "while True:\n",
    "    a,b = map(int,input(\"정수 두 개 입력하세요\").split(\" \"))\n",
    "# 입력값은 99 1, 10 1, 20 10, 10 20 순서    \n",
    "\n",
    "    if not 0 <= a <= 20:\n",
    "        print(\"첫번째 값의 범위는 1~20입니다.\\n다시 입력하세요.\")\n",
    "    elif b < 10 or b > 30:\n",
    "        print(\"두번째 값의 범위는 10~30입니다.\\n다시 입력하세요.\")\n",
    "    elif a >= b:\n",
    "        print(\"첫 번째 입력 값은 두 번째 값보다 작게 입력하세요.\\n다시 입력하세요.\")  \n",
    "    else:\n",
    "        lis = [2**i for i in range(a,b+1)]\n",
    "        lis.pop(1) and lis.pop(-2)\n",
    "        print(lis)\n",
    "        break"
   ]
  },
  {
   "cell_type": "code",
   "execution_count": 5,
   "id": "96564c3c-2de8-49a1-a5e8-4f402e60795c",
   "metadata": {},
   "outputs": [
    {
     "name": "stdout",
     "output_type": "stream",
     "text": [
      "2부터 입력하신 수까지의 모든 소수를 찾는 프로그램입니다.\n"
     ]
    },
    {
     "name": "stdin",
     "output_type": "stream",
     "text": [
      "찾는 범위를 입력하세요: 100\n"
     ]
    },
    {
     "name": "stdout",
     "output_type": "stream",
     "text": [
      "2 3 5 7 11 13 17 \n",
      "19 23 29 31 37 41 43 \n",
      "47 53 59 61 67 71 73 \n",
      "79 83 89 97 "
     ]
    }
   ],
   "source": [
    "# 지정된 숫자범위까지 소수 찾기 for문\n",
    "print(\"2부터 입력하신 수까지의 모든 소수를 찾는 프로그램입니다.\")\n",
    "n = int(input(\"찾는 범위를 입력하세요:\")) # 100이 입력값\n",
    "lis = []\n",
    "count = 0\n",
    "\n",
    "for i in range(2, n+1):\n",
    "    for j in range(2, i+1):\n",
    "        if j==i:\n",
    "            print(i, end = \" \")\n",
    "            count += 1\n",
    "            if count % 7 == 0:\n",
    "                print(\"\")\n",
    "        if i%j == 0:\n",
    "            break"
   ]
  },
  {
   "cell_type": "code",
   "execution_count": 6,
   "id": "9dd5b680-e97f-46e3-be3c-8bc74ac421d0",
   "metadata": {},
   "outputs": [
    {
     "name": "stdout",
     "output_type": "stream",
     "text": [
      "2부터 입력하신 수까지의 모든 소수를 찾는 프로그램입니다.\n"
     ]
    },
    {
     "name": "stdin",
     "output_type": "stream",
     "text": [
      "찾는 범위를 입력하세요: 100\n"
     ]
    },
    {
     "name": "stdout",
     "output_type": "stream",
     "text": [
      "2 3 5 7 11 13 17 \n",
      "19 23 29 31 37 41 43 \n",
      "47 53 59 61 67 71 73 \n",
      "79 83 89 97 "
     ]
    }
   ],
   "source": [
    "# 지정된 숫자범위까지 소수 찾기 while문\n",
    "print(\"2부터 입력하신 수까지의 모든 소수를 찾는 프로그램입니다.\")\n",
    "n = int(input(\"찾는 범위를 입력하세요:\")) # 100이 입력값\n",
    "i = 2\n",
    "line = 0\n",
    "\n",
    "while i <= n:\n",
    "    j = 2\n",
    "    while j <= i:\n",
    "        if i % j == 0:\n",
    "            break\n",
    "        j += 1\n",
    "    if i == j:\n",
    "        print(i, end = ' ')\n",
    "        line = line + 1\n",
    "        if line == 7:\n",
    "            line = 0\n",
    "            print()\n",
    "    i += 1"
   ]
  },
  {
   "cell_type": "code",
   "execution_count": 7,
   "id": "8d325492-19d7-447f-b889-4471e77edd1c",
   "metadata": {},
   "outputs": [
    {
     "name": "stdout",
     "output_type": "stream",
     "text": [
      "[1, 1, 1, 1, 1, 2, 1, 2, 1, 2]\n"
     ]
    }
   ],
   "source": [
    "import random\n",
    "# random.randint(시작 정수, 끝 정수) \n",
    "\n",
    "random_list = [random.randint(1, 2) for _ in range(10)]\n",
    "print(random_list)"
   ]
  },
  {
   "cell_type": "code",
   "execution_count": 8,
   "id": "5d86a126-eebc-4c3c-88bf-4ab1701b1c51",
   "metadata": {},
   "outputs": [
    {
     "name": "stdin",
     "output_type": "stream",
     "text": [
      "숫자 1개를 입력하세요. 50\n"
     ]
    },
    {
     "name": "stdout",
     "output_type": "stream",
     "text": [
      "그보다 큽니다.\n"
     ]
    },
    {
     "name": "stdin",
     "output_type": "stream",
     "text": [
      "숫자 1개를 입력하세요. 70\n"
     ]
    },
    {
     "name": "stdout",
     "output_type": "stream",
     "text": [
      "그보다 큽니다.\n"
     ]
    },
    {
     "name": "stdin",
     "output_type": "stream",
     "text": [
      "숫자 1개를 입력하세요. 80\n"
     ]
    },
    {
     "name": "stdout",
     "output_type": "stream",
     "text": [
      "그보다 큽니다.\n"
     ]
    },
    {
     "name": "stdin",
     "output_type": "stream",
     "text": [
      "숫자 1개를 입력하세요. 90\n"
     ]
    },
    {
     "name": "stdout",
     "output_type": "stream",
     "text": [
      "그보다 작습니다.\n"
     ]
    },
    {
     "name": "stdin",
     "output_type": "stream",
     "text": [
      "숫자 1개를 입력하세요. 88\n"
     ]
    },
    {
     "name": "stdout",
     "output_type": "stream",
     "text": [
      "그보다 작습니다.\n"
     ]
    },
    {
     "name": "stdin",
     "output_type": "stream",
     "text": [
      "숫자 1개를 입력하세요. 84\n"
     ]
    },
    {
     "name": "stdout",
     "output_type": "stream",
     "text": [
      "그보다 큽니다.\n"
     ]
    },
    {
     "name": "stdin",
     "output_type": "stream",
     "text": [
      "숫자 1개를 입력하세요. 86\n"
     ]
    },
    {
     "name": "stdout",
     "output_type": "stream",
     "text": [
      "그보다 큽니다.\n"
     ]
    },
    {
     "name": "stdin",
     "output_type": "stream",
     "text": [
      "숫자 1개를 입력하세요. 87\n"
     ]
    },
    {
     "name": "stdout",
     "output_type": "stream",
     "text": [
      "맞췄습니다.\n",
      "8번만에 맞추셨습니다.\n",
      "입력하신 숫자는 다음과 같습니다. 50, 70, 80, 90, 88, 84, 86, 87\n"
     ]
    }
   ],
   "source": [
    "import random # 랜덤 패키지 호출\n",
    "X = random.randint(1, 100) # 랜덤 숫자 생성\n",
    "count = 0\n",
    "lis = []\n",
    "while True:\n",
    "    n1 = int(input(\"숫자 1개를 입력하세요.\"))\n",
    "             \n",
    "    if 101 >n1 > X:\n",
    "        print(\"그보다 작습니다.\")\n",
    "        count += 1\n",
    "        lis.append(n1)\n",
    "    elif 0 < n1 < X:\n",
    "        print(\"그보다 큽니다.\")\n",
    "        count += 1\n",
    "        lis.append(n1)\n",
    "    elif n1 < 0 or n1 > 100:\n",
    "        print(\"1~100 사이의 숫자를 입력하세요.\")  \n",
    "        count += 1\n",
    "        lis.append(n1)\n",
    "    else:\n",
    "        lis.append(n1)\n",
    "        list_str = str(lis)[1:-1]\n",
    "        print(\"맞췄습니다.\")\n",
    "        print(f\"{count+1}번만에 맞추셨습니다.\")\n",
    "        print(\"입력하신 숫자는 다음과 같습니다.\",list_str)\n",
    "        break"
   ]
  },
  {
   "cell_type": "code",
   "execution_count": 9,
   "id": "7830e98b-ff7b-4f63-aa36-e0f760f014e8",
   "metadata": {},
   "outputs": [
    {
     "name": "stdin",
     "output_type": "stream",
     "text": [
      "숫자 1개를 입력하세요. 30\n"
     ]
    },
    {
     "name": "stdout",
     "output_type": "stream",
     "text": [
      "그보다 큽니다.\n"
     ]
    },
    {
     "name": "stdin",
     "output_type": "stream",
     "text": [
      "숫자 1개를 입력하세요. 50\n"
     ]
    },
    {
     "name": "stdout",
     "output_type": "stream",
     "text": [
      "그보다 큽니다.\n"
     ]
    },
    {
     "name": "stdin",
     "output_type": "stream",
     "text": [
      "숫자 1개를 입력하세요. 70\n"
     ]
    },
    {
     "name": "stdout",
     "output_type": "stream",
     "text": [
      "그보다 큽니다.\n"
     ]
    },
    {
     "name": "stdin",
     "output_type": "stream",
     "text": [
      "숫자 1개를 입력하세요. 90\n"
     ]
    },
    {
     "name": "stdout",
     "output_type": "stream",
     "text": [
      "그보다 작습니다.\n"
     ]
    },
    {
     "name": "stdin",
     "output_type": "stream",
     "text": [
      "숫자 1개를 입력하세요. 80\n"
     ]
    },
    {
     "name": "stdout",
     "output_type": "stream",
     "text": [
      "그보다 큽니다.\n"
     ]
    },
    {
     "name": "stdin",
     "output_type": "stream",
     "text": [
      "숫자 1개를 입력하세요. 85\n"
     ]
    },
    {
     "name": "stdout",
     "output_type": "stream",
     "text": [
      "그보다 작습니다.\n"
     ]
    },
    {
     "name": "stdin",
     "output_type": "stream",
     "text": [
      "숫자 1개를 입력하세요. 83\n"
     ]
    },
    {
     "name": "stdout",
     "output_type": "stream",
     "text": [
      "그보다 큽니다.\n"
     ]
    },
    {
     "name": "stdin",
     "output_type": "stream",
     "text": [
      "숫자 1개를 입력하세요. 84\n"
     ]
    },
    {
     "name": "stdout",
     "output_type": "stream",
     "text": [
      "맞췄습니다.\n",
      "8번만에 맞추셨습니다.\n",
      "입력하신 숫자는 다음과 같습니다. 30, 50, 70, 90, 80, 85, 83, 84\n"
     ]
    }
   ],
   "source": [
    "import random # 랜덤 패키지 호출\n",
    "X = random.randint(1, 100) # 랜덤 숫자 생성\n",
    "lis = []\n",
    "\n",
    "while True:\n",
    "    lis.append(input(\"숫자 1개를 입력하세요.\"))\n",
    "    _ = int(lis[-1])\n",
    "    \n",
    "    if _ <0 or _ > 100:\n",
    "        print(\"1~100 사이의 숫자를 입력하세요.\")\n",
    "    elif _ < X:\n",
    "        print(\"그보다 큽니다.\")\n",
    "    elif _ > X:\n",
    "        print(\"그보다 작습니다.\")  \n",
    "    else:\n",
    "        print(\"맞췄습니다.\")\n",
    "        break\n",
    "\n",
    "\n",
    "print(f\"{len(lis)}번만에 맞추셨습니다.\")\n",
    "print(\"입력하신 숫자는 다음과 같습니다.\", ', '.join(lis)) \n",
    "# .join 메서드는 str에서만 적용 가능하다.(int같은 경우는 안 된다.)"
   ]
  }
 ],
 "metadata": {
  "kernelspec": {
   "display_name": "Python 3 (ipykernel)",
   "language": "python",
   "name": "python3"
  },
  "language_info": {
   "codemirror_mode": {
    "name": "ipython",
    "version": 3
   },
   "file_extension": ".py",
   "mimetype": "text/x-python",
   "name": "python",
   "nbconvert_exporter": "python",
   "pygments_lexer": "ipython3",
   "version": "3.9.13"
  }
 },
 "nbformat": 4,
 "nbformat_minor": 5
}

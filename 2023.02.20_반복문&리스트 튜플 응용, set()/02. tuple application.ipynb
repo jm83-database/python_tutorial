{
 "cells": [
  {
   "cell_type": "code",
   "execution_count": 1,
   "id": "46295409-2e56-4848-818c-712f789c4414",
   "metadata": {},
   "outputs": [
    {
     "name": "stdout",
     "output_type": "stream",
     "text": [
      "()\n",
      "<class 'tuple'>\n"
     ]
    }
   ],
   "source": [
    "empty_tuple = tuple() # 튜플 함수로 생성\n",
    "print(empty_tuple)\n",
    "print(type(empty_tuple))"
   ]
  },
  {
   "cell_type": "code",
   "execution_count": 2,
   "id": "59cb9d7c-2e5e-40b2-9681-ac8fbc2c3ee6",
   "metadata": {},
   "outputs": [
    {
     "name": "stdout",
     "output_type": "stream",
     "text": [
      "()\n",
      "<class 'tuple'>\n"
     ]
    }
   ],
   "source": [
    "empty_tuple = () # 직접 생성\n",
    "print(empty_tuple)\n",
    "print(type(empty_tuple))"
   ]
  },
  {
   "cell_type": "code",
   "execution_count": 3,
   "id": "53904ab1-564e-43c8-9c09-be87a5b327e4",
   "metadata": {},
   "outputs": [],
   "source": [
    "# tuple comprehension"
   ]
  },
  {
   "cell_type": "code",
   "execution_count": 4,
   "id": "48f9f71b-3428-42f6-9d22-c38fc830fe5c",
   "metadata": {},
   "outputs": [],
   "source": [
    "gen = (i for i in range(10)) # 리스트와 달리 ()만 쓰면 generator가 생성된다."
   ]
  },
  {
   "cell_type": "code",
   "execution_count": 5,
   "id": "90acb0ef-80d3-42dd-87ba-6b679338275a",
   "metadata": {},
   "outputs": [
    {
     "data": {
      "text/plain": [
       "generator"
      ]
     },
     "execution_count": 5,
     "metadata": {},
     "output_type": "execute_result"
    }
   ],
   "source": [
    "type(gen)"
   ]
  },
  {
   "cell_type": "code",
   "execution_count": 6,
   "id": "c21d9710-75a3-4218-b7fe-1818c05f7f64",
   "metadata": {},
   "outputs": [],
   "source": [
    "tup = tuple(i for i in range(10))"
   ]
  },
  {
   "cell_type": "code",
   "execution_count": 7,
   "id": "9f537f2c-372e-4714-afa8-c18bc7063f75",
   "metadata": {},
   "outputs": [
    {
     "data": {
      "text/plain": [
       "tuple"
      ]
     },
     "execution_count": 7,
     "metadata": {},
     "output_type": "execute_result"
    }
   ],
   "source": [
    "type(tup)"
   ]
  },
  {
   "cell_type": "code",
   "execution_count": 8,
   "id": "a954742f-9f90-4953-a5c0-2ed9ecad9a11",
   "metadata": {},
   "outputs": [],
   "source": [
    "lis = list(i for i in range(10))"
   ]
  },
  {
   "cell_type": "code",
   "execution_count": 9,
   "id": "8fdccdad-fa84-4350-a7ae-6c4985a416dc",
   "metadata": {},
   "outputs": [
    {
     "data": {
      "text/plain": [
       "list"
      ]
     },
     "execution_count": 9,
     "metadata": {},
     "output_type": "execute_result"
    }
   ],
   "source": [
    "type(lis)"
   ]
  }
 ],
 "metadata": {
  "kernelspec": {
   "display_name": "Python 3 (ipykernel)",
   "language": "python",
   "name": "python3"
  },
  "language_info": {
   "codemirror_mode": {
    "name": "ipython",
    "version": 3
   },
   "file_extension": ".py",
   "mimetype": "text/x-python",
   "name": "python",
   "nbconvert_exporter": "python",
   "pygments_lexer": "ipython3",
   "version": "3.9.13"
  }
 },
 "nbformat": 4,
 "nbformat_minor": 5
}

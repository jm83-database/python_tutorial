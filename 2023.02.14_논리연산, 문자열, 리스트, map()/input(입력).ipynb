{
 "cells": [
  {
   "cell_type": "code",
   "execution_count": 1,
   "id": "3c792f43-0aa7-4efa-bee4-b1e3fc08402a",
   "metadata": {},
   "outputs": [
    {
     "name": "stdin",
     "output_type": "stream",
     "text": [
      "Message 1111\n"
     ]
    }
   ],
   "source": [
    "# 파이썬 input(입력)\n",
    "# string(문자열)로 입력값 반환\n",
    "input_value = input(\"Message\")\n",
    "#1111이 입력값"
   ]
  },
  {
   "cell_type": "code",
   "execution_count": 2,
   "id": "97788106-0b94-4393-87ce-e15e206d7171",
   "metadata": {},
   "outputs": [
    {
     "name": "stdout",
     "output_type": "stream",
     "text": [
      "input value: 1111 \n",
      "type: <class 'str'>\n"
     ]
    }
   ],
   "source": [
    "print(\"input value:\", input_value, \"\\ntype:\", type(input_value))"
   ]
  },
  {
   "cell_type": "code",
   "execution_count": 3,
   "id": "7c43e14c-9012-41d1-9093-a6e480d34634",
   "metadata": {},
   "outputs": [
    {
     "name": "stdout",
     "output_type": "stream",
     "text": [
      "input_value: 1111 \n",
      "type: <class 'int'>\n"
     ]
    }
   ],
   "source": [
    "input_value = int(input_value)\n",
    "print(\"input_value:\", input_value, \"\\ntype:\", type(input_value))"
   ]
  },
  {
   "cell_type": "code",
   "execution_count": 4,
   "id": "f456a707-6d3c-45bc-80e0-d09365422985",
   "metadata": {},
   "outputs": [
    {
     "name": "stdin",
     "output_type": "stream",
     "text": [
      "정수 외에 다른 값을 입력해보세요. 1.1\n"
     ]
    },
    {
     "name": "stdout",
     "output_type": "stream",
     "text": [
      "1.1\n"
     ]
    }
   ],
   "source": [
    "input_value2 = input(\"정수 외에 다른 값을 입력해보세요.\")\n",
    "print(input_value2)\n",
    "#1.1입력값"
   ]
  },
  {
   "cell_type": "code",
   "execution_count": 5,
   "id": "735b2034-611c-4ad8-9726-0a244e126414",
   "metadata": {},
   "outputs": [
    {
     "name": "stdout",
     "output_type": "stream",
     "text": [
      "1.1\n"
     ]
    }
   ],
   "source": [
    "input_value2 = float(input_value2)\n",
    "print(input_value2)"
   ]
  },
  {
   "cell_type": "code",
   "execution_count": 6,
   "id": "2e810ec1-7719-441c-b42a-b5ab4634d026",
   "metadata": {},
   "outputs": [
    {
     "name": "stdout",
     "output_type": "stream",
     "text": [
      "1\n"
     ]
    }
   ],
   "source": [
    "input_value2 = int(input_value2)\n",
    "print(input_value2)"
   ]
  },
  {
   "cell_type": "code",
   "execution_count": 7,
   "id": "3454d84b-4749-4ae6-ae92-181e1d2bc5a3",
   "metadata": {},
   "outputs": [
    {
     "name": "stdin",
     "output_type": "stream",
     "text": [
      "정수를 입력해주세요: 12.3\n"
     ]
    },
    {
     "ename": "ValueError",
     "evalue": "invalid literal for int() with base 10: '12.3'",
     "output_type": "error",
     "traceback": [
      "\u001b[1;31m---------------------------------------------------------------------------\u001b[0m",
      "\u001b[1;31mValueError\u001b[0m                                Traceback (most recent call last)",
      "\u001b[1;32m~\\AppData\\Local\\Temp\\ipykernel_3336\\1456724683.py\u001b[0m in \u001b[0;36m<module>\u001b[1;34m\u001b[0m\n\u001b[1;32m----> 1\u001b[1;33m \u001b[0minput_value4\u001b[0m \u001b[1;33m=\u001b[0m \u001b[0mint\u001b[0m\u001b[1;33m(\u001b[0m\u001b[0minput\u001b[0m\u001b[1;33m(\u001b[0m\u001b[1;34m\"정수를 입력해주세요:\"\u001b[0m\u001b[1;33m)\u001b[0m\u001b[1;33m)\u001b[0m\u001b[1;33m\u001b[0m\u001b[1;33m\u001b[0m\u001b[0m\n\u001b[0m\u001b[0;32m      2\u001b[0m \u001b[0mprint\u001b[0m\u001b[1;33m(\u001b[0m\u001b[0minput_value4\u001b[0m\u001b[1;33m)\u001b[0m \u001b[1;31m#실수를 입력하면 아래와 같이 오류가 뜸\u001b[0m\u001b[1;33m\u001b[0m\u001b[1;33m\u001b[0m\u001b[0m\n",
      "\u001b[1;31mValueError\u001b[0m: invalid literal for int() with base 10: '12.3'"
     ]
    }
   ],
   "source": [
    "input_value4 = int(input(\"정수를 입력해주세요:\"))\n",
    "print(input_value4) #실수를 입력하면 아래와 같이 오류가 뜸"
   ]
  },
  {
   "cell_type": "code",
   "execution_count": 8,
   "id": "c1fe30c1-4674-45e0-a6e4-7e3169aca563",
   "metadata": {},
   "outputs": [
    {
     "name": "stdin",
     "output_type": "stream",
     "text": [
      "이름을 입력하시오. 엔코아\n"
     ]
    },
    {
     "name": "stdout",
     "output_type": "stream",
     "text": [
      "엔코아 씨, 안녕하세요?\n",
      "파이썬에 오신 것을 환영합니다.\n"
     ]
    },
    {
     "name": "stdin",
     "output_type": "stream",
     "text": [
      "첫 번째 정수를 입력하세요: 300\n",
      "두 번째 정수를 입력하세요: 400\n"
     ]
    },
    {
     "name": "stdout",
     "output_type": "stream",
     "text": [
      "300 과 400 의 합은 700 입니다.\n"
     ]
    }
   ],
   "source": [
    "#연습문제\n",
    "#사용자의 이름을 물어보고 이어서 2개의 정수를 받아서 덧셈을 한 후 결과를 출력하는 프로그램을 작성하시오.\n",
    "\n",
    "x = input(\"이름을 입력하시오.\")\n",
    "print(x, \"씨, 안녕하세요?\\n파이썬에 오신 것을 환영합니다.\")\n",
    "\n",
    "y = int(input(\"첫 번째 정수를 입력하세요:\"))\n",
    "z = int(input(\"두 번째 정수를 입력하세요:\"))\n",
    "print(y,\"과\", z, \"의 합은\", y+z, \"입니다.\")\n",
    "#엔코아, 300, 400이 입력값"
   ]
  },
  {
   "cell_type": "code",
   "execution_count": 9,
   "id": "163da545-2d84-44da-9c5a-2335001d5eec",
   "metadata": {},
   "outputs": [
    {
     "name": "stdin",
     "output_type": "stream",
     "text": [
      "경기장은 어디입니다까? 고척\n",
      "이긴 팀은 어디입니가? KT\n",
      "진 팀은 어디입니까? LG\n",
      "우수 선수는 누구입니까? 강백호\n",
      "스코어는 몇대몇입니까? 10:9\n"
     ]
    },
    {
     "name": "stdout",
     "output_type": "stream",
     "text": [
      "[속보]  KT 가 10:9 로 승리...\n",
      "오늘 고척 경기장에서 야구 경기가 있었습니다.\n",
      " KT 와 LG 는 치열한 공방전을 펼쳤습니다.\n",
      "이 경기에서 강백호 가 맹활약을 했습니다.\n",
      "그 끝내 LG 가 KT 를 10:9 로 승리하였습니다.\n",
      "기사 끝.\n"
     ]
    }
   ],
   "source": [
    "#사용자에게 경기장, 점수, 이긴 팀, 진 팀,\n",
    "#우수 선수를 질문하고 변수에 저장합니다.\n",
    "#이들 문자열에 문장을 붙여서 기사를 작성해봅시다.\n",
    "\n",
    "a1 = input(\"경기장은 어디입니다까?\")\n",
    "a2 = input(\"이긴 팀은 어디입니가?\")\n",
    "a3 = input(\"진 팀은 어디입니까?\")\n",
    "a4 = input(\"우수 선수는 누구입니까?\")\n",
    "a5 = input(\"스코어는 몇대몇입니까?\")\n",
    "#고척, KT, LG, 강백호, 10:9 가 입력값\n",
    "\n",
    "print(\"[속보] \", a2, \"가\", a5, \"로 승리...\\n오늘\", \n",
    "      a1, \"경기장에서 야구 경기가 있었습니다.\\n\", \n",
    "      a2, \"와\", a3, \"는 치열한 공방전을 펼쳤습니다.\\n이 경기에서\", \n",
    "      a4, \"가 맹활약을 했습니다.\\n그 끝내\", a3,\n",
    "      \"가\", a2,\"를\", a5, \"로 승리하였습니다.\\n기사 끝.\")"
   ]
  },
  {
   "cell_type": "code",
   "execution_count": 10,
   "id": "9192032b-2e6d-4409-a5fa-41149adb1098",
   "metadata": {},
   "outputs": [
    {
     "name": "stdout",
     "output_type": "stream",
     "text": [
      "[속보] KT가 10:9로 승리...\n",
      "오늘 고척경기장에서 야구 경기가 있었습니다.\n",
      "KT와 LG는 치열한 공방전을 펼쳤습니다.\n",
      "이 경기에서 강백호가 맹활약을 했습니다.\n",
      "그 끝내 LG가 KT를 10:9로 승리하였습니다.\n",
      "기사 끝.\n"
     ]
    }
   ],
   "source": [
    "a6 = (\"[속보] \" + a2 + \"가 \" + a5 + \"로 승리...\\n\"+\n",
    "    \"오늘 \" +a1 + \"경기장에서 야구 경기가 있었습니다.\\n\" + \n",
    "    a2 + \"와 \" + a3 + \"는 치열한 공방전을 펼쳤습니다.\\n\" +\n",
    "    \"이 경기에서 \" + a4 +  \"가 맹활약을 했습니다.\\n\" +\n",
    "    \"그 끝내 \" + a3 + \"가 \" + a2 +\"를 \" + a5 + \"로 승리하였습니다.\\n\"+ \n",
    "    \"기사 끝.\")\n",
    "print(a6)"
   ]
  },
  {
   "cell_type": "code",
   "execution_count": 11,
   "id": "3e70812a-2995-492b-8e38-0cb1dec089f7",
   "metadata": {
    "tags": []
   },
   "outputs": [
    {
     "name": "stdout",
     "output_type": "stream",
     "text": [
      "[속보] KT가10:9로 승리...\n",
      "오늘고척경기장에서 야구 경기가 있었습니다.\n",
      "KT와LG는 치열한 공방전을 펼쳤습니다.\n",
      "이 경기에서강백호가 맹활약을 했습니다.\n",
      "그 끝내LG가KT를10:9로 승리하였습니다.\n",
      "기사 끝.\n"
     ]
    }
   ],
   "source": [
    "print(\"[속보] \", a2, \"가\", a5, \"로 승리...\\n오늘\", \n",
    "      a1, \"경기장에서 야구 경기가 있었습니다.\\n\", \n",
    "      a2, \"와\", a3, \"는 치열한 공방전을 펼쳤습니다.\\n이 경기에서\", \n",
    "      a4, \"가 맹활약을 했습니다.\\n그 끝내\", a3,\n",
    "      \"가\", a2,\"를\", a5, \"로 승리하였습니다.\\n기사 끝.\", sep = \"\")\n",
    "#입력값 사이 공백 없애기"
   ]
  },
  {
   "cell_type": "code",
   "execution_count": 12,
   "id": "51b09582-af85-41e1-8608-60cea9e29ddb",
   "metadata": {},
   "outputs": [
    {
     "name": "stdout",
     "output_type": "stream",
     "text": [
      "<class 'list'>\n",
      "['1', '2', '3']\n"
     ]
    }
   ],
   "source": [
    "#입력 값을 여러 개의 변수에 저장하기\n",
    "result = '1,2,3'.split(\",\")\n",
    "print(type(result))\n",
    "print(result)"
   ]
  },
  {
   "cell_type": "code",
   "execution_count": 13,
   "id": "3c12d2c4-35cc-460f-9a1b-ed305519e1d0",
   "metadata": {},
   "outputs": [
    {
     "name": "stdin",
     "output_type": "stream",
     "text": [
      "hh:mm:ss의 형태로 시간을 입력해주세요 12:33:23\n"
     ]
    },
    {
     "name": "stdout",
     "output_type": "stream",
     "text": [
      "\n",
      "실행결과:\n",
      "시 : 12 \n",
      "분 : 33 \n",
      "초 : 23\n"
     ]
    }
   ],
   "source": [
    "time_input = input(\"hh:mm:ss의 형태로 시간을 입력해주세요\").split(\":\")\n",
    "print(\"\\n실행결과:\\n시 :\", time_input[0], \"\\n분 :\", time_input[1],\n",
    "      \"\\n초 :\", time_input[2])\n",
    "#12:33:23이 입력값"
   ]
  },
  {
   "cell_type": "code",
   "execution_count": 14,
   "id": "10132d9e-ad0b-4dc5-9208-b28f20bccf8a",
   "metadata": {},
   "outputs": [
    {
     "name": "stdin",
     "output_type": "stream",
     "text": [
      "hh:mm:ss의 형태로 시간을 입력해주세요 12:33:23\n"
     ]
    },
    {
     "name": "stdout",
     "output_type": "stream",
     "text": [
      "시 : 12\n",
      "분 : 33\n",
      "초 : 23\n"
     ]
    }
   ],
   "source": [
    "h,m,s = input(\"hh:mm:ss의 형태로 시간을 입력해주세요\").split(\":\")\n",
    "\n",
    "print(\"시 :\", h)\n",
    "print(\"분 :\", m)\n",
    "print(\"초 :\", s)"
   ]
  }
 ],
 "metadata": {
  "kernelspec": {
   "display_name": "Python 3 (ipykernel)",
   "language": "python",
   "name": "python3"
  },
  "language_info": {
   "codemirror_mode": {
    "name": "ipython",
    "version": 3
   },
   "file_extension": ".py",
   "mimetype": "text/x-python",
   "name": "python",
   "nbconvert_exporter": "python",
   "pygments_lexer": "ipython3",
   "version": "3.9.13"
  }
 },
 "nbformat": 4,
 "nbformat_minor": 5
}

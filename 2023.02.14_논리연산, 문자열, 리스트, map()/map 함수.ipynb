{
 "cells": [
  {
   "cell_type": "code",
   "execution_count": 1,
   "id": "374e5cbc-e87f-4652-a5e1-e6b982d9fec2",
   "metadata": {},
   "outputs": [
    {
     "name": "stdout",
     "output_type": "stream",
     "text": [
      "[1, 2, 3, 4]\n"
     ]
    }
   ],
   "source": [
    "#map()내장 함수 이용하기\n",
    "a = [1.2, 2.5, 3.7, 4.6]\n",
    "a = list(map(int, a)) #int 뒤에 가로가 없으면 함수 자체를 넣음\n",
    "#(다른 함수들도 뒤에 가로를 안 붙이면 함수 그자체를 삽인한 것임)\n",
    "print(a)\n",
    "\n",
    "#iterable이란?\n",
    "#객체에서 요소를 하나하나 꺼내어 특정 함수를 각각\n",
    "#사용 가능한 것이 iterable\n",
    "# ex) list, dict, set, str, bytes, tuple, range\n",
    "\n",
    "#map(function, iteralbe) → <class 'map'>(iterable)\n",
    "#a = list(map(int ← 함수, a ← 시퀀스))\n",
    "\n",
    "# map 함수는 앞에 있는 함수를 앞에 있는 리스트, 튜플 같은 곳에 전체 적용\n",
    "# 위 예시에서는 map 함수가 a 리스트에 대하여 각자 int 함수를 적용"
   ]
  },
  {
   "cell_type": "code",
   "execution_count": 2,
   "id": "e654e333-32b7-4854-9186-0ecc503e7798",
   "metadata": {},
   "outputs": [
    {
     "name": "stdin",
     "output_type": "stream",
     "text": [
      "국어, 영어, 수학, 과학 점수를 입력해주세요 98,100,96,100\n"
     ]
    },
    {
     "name": "stdout",
     "output_type": "stream",
     "text": [
      "\n",
      "실행결과:\n",
      "평균 점수는 98.5 점입니다.\n"
     ]
    }
   ],
   "source": [
    "score = input(\"국어, 영어, 수학, 과학 점수를 입력해주세요\").split(\",\")\n",
    "score = list(map(int, score))\n",
    "avg = sum(score)/len(score)\n",
    "print(\"\\n실행결과:\\n평균 점수는\", avg,\"점입니다.\")"
   ]
  },
  {
   "cell_type": "code",
   "execution_count": 3,
   "id": "7d7bd194-7684-4184-842c-bc8f3b596e19",
   "metadata": {},
   "outputs": [
    {
     "name": "stdin",
     "output_type": "stream",
     "text": [
      "국어, 영어, 수학, 과학 점수를 입력해주세요 98,100,96,100\n"
     ]
    },
    {
     "name": "stdout",
     "output_type": "stream",
     "text": [
      "\n",
      "실행결과:\n",
      "평균 점수는 98.5 점입니다.\n"
     ]
    }
   ],
   "source": [
    "score1 = input(\"국어, 영어, 수학, 과학 점수를 입력해주세요\").split(\",\")\n",
    "score1 = list(map(int, score1))\n",
    "kor = score1[0]\n",
    "eng = score1[1]\n",
    "mat = score1[2]\n",
    "sci = score1[3]\n",
    "print(\"\\n실행결과:\\n평균 점수는\", (kor+eng+mat+sci)/len(score1),\"점입니다.\")"
   ]
  },
  {
   "cell_type": "code",
   "execution_count": 4,
   "id": "dc4dbbd2-5d95-4473-9958-e31e7fe228b1",
   "metadata": {},
   "outputs": [
    {
     "name": "stdin",
     "output_type": "stream",
     "text": [
      "국어, 영어, 수학, 과학 점수를 입력해주세요 98,100,96,100\n"
     ]
    },
    {
     "name": "stdout",
     "output_type": "stream",
     "text": [
      "\n",
      "실행결과:\n",
      "평균 점수는 98.5 점입니다.\n"
     ]
    }
   ],
   "source": [
    "score2 = input(\"국어, 영어, 수학, 과학 점수를 입력해주세요\").split(\",\")\n",
    "score2 = list(map(int, score2))\n",
    "kor, eng, mat, sci = score2\n",
    "print(\"\\n실행결과:\\n평균 점수는\", (kor+eng+mat+sci)/len(score2),\"점입니다.\")"
   ]
  }
 ],
 "metadata": {
  "kernelspec": {
   "display_name": "Python 3 (ipykernel)",
   "language": "python",
   "name": "python3"
  },
  "language_info": {
   "codemirror_mode": {
    "name": "ipython",
    "version": 3
   },
   "file_extension": ".py",
   "mimetype": "text/x-python",
   "name": "python",
   "nbconvert_exporter": "python",
   "pygments_lexer": "ipython3",
   "version": "3.9.13"
  }
 },
 "nbformat": 4,
 "nbformat_minor": 5
}

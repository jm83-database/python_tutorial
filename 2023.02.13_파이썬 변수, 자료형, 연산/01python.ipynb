{
 "cells": [
  {
   "cell_type": "code",
   "execution_count": 1,
   "id": "7b89b186-d86b-4c7a-9126-5960723258c4",
   "metadata": {},
   "outputs": [
    {
     "name": "stdout",
     "output_type": "stream",
     "text": [
      "3.9.13 (main, Aug 25 2022, 23:51:50) [MSC v.1916 64 bit (AMD64)]\n"
     ]
    }
   ],
   "source": [
    "import sys #파이썬 버전 확인\n",
    "print(sys.version)"
   ]
  },
  {
   "cell_type": "code",
   "execution_count": 2,
   "id": "63aeb39b-0589-400f-875e-47dab1bc6ea9",
   "metadata": {},
   "outputs": [
    {
     "name": "stdout",
     "output_type": "stream",
     "text": [
      " C 드라이브의 볼륨에는 이름이 없습니다.\n",
      " 볼륨 일련 번호: D42D-DE20\n",
      "\n",
      " C:\\python\\2023.02.13_파이썬 변수, 자료형, 연산 디렉터리\n",
      "\n",
      "2023-02-13  오후 05:46    <DIR>          .\n",
      "2023-02-13  오후 05:46    <DIR>          ..\n",
      "2023-02-14  오후 02:33    <DIR>          .ipynb_checkpoints\n",
      "2023-02-13  오후 03:29             1,999 01python.ipynb\n",
      "2023-02-13  오후 05:08            11,198 02python.ipynb\n",
      "2023-02-13  오후 05:19               800 03python.ipynb\n",
      "2023-02-13  오후 05:46             4,330 변수_응용.ipynb\n",
      "2023-02-13  오후 05:22             2,757 변수명명법 및 삭제.ipynb\n",
      "               5개 파일              21,084 바이트\n",
      "               3개 디렉터리  173,140,463,616 바이트 남음\n"
     ]
    }
   ],
   "source": [
    "!dir"
   ]
  },
  {
   "cell_type": "code",
   "execution_count": 3,
   "id": "91d92491-d117-480c-9296-1694e35d7002",
   "metadata": {},
   "outputs": [
    {
     "name": "stdout",
     "output_type": "stream",
     "text": [
      "Hello World!\n"
     ]
    }
   ],
   "source": [
    "print(\"Hello World!\")"
   ]
  }
 ],
 "metadata": {
  "kernelspec": {
   "display_name": "Python 3 (ipykernel)",
   "language": "python",
   "name": "python3"
  },
  "language_info": {
   "codemirror_mode": {
    "name": "ipython",
    "version": 3
   },
   "file_extension": ".py",
   "mimetype": "text/x-python",
   "name": "python",
   "nbconvert_exporter": "python",
   "pygments_lexer": "ipython3",
   "version": "3.9.13"
  }
 },
 "nbformat": 4,
 "nbformat_minor": 5
}

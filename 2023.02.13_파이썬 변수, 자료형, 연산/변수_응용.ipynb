{
 "cells": [
  {
   "cell_type": "code",
   "execution_count": 1,
   "id": "267becdf-dd20-4196-83e7-1306f4505e25",
   "metadata": {},
   "outputs": [
    {
     "name": "stdout",
     "output_type": "stream",
     "text": [
      "30\n",
      "40\n"
     ]
    }
   ],
   "source": [
    "a = 10\n",
    "\n",
    "# 변수 a에 20 값을 더하고 할당하지 않았을 때\n",
    "a = a + 20\n",
    "print(a) # 10\n",
    "\n",
    "a += 10 # a = a + 10 과 같다\n",
    "print(a)"
   ]
  },
  {
   "cell_type": "code",
   "execution_count": 2,
   "id": "0821878c-6ce5-4548-801b-49ff0a89c485",
   "metadata": {},
   "outputs": [
    {
     "name": "stdout",
     "output_type": "stream",
     "text": [
      "None\n"
     ]
    }
   ],
   "source": [
    "#변수에 빈 값 할당하기\n",
    "a = None #다른 언어에서는 null과 동일\n",
    "print(a)"
   ]
  },
  {
   "cell_type": "code",
   "execution_count": 3,
   "id": "f3c7a99d-7b91-4675-97f5-c5c217e865ee",
   "metadata": {},
   "outputs": [],
   "source": [
    "#상수\n",
    "#대문자로만 SNAKE_CASE를 활용하여 상수명을 만들어 쓴다."
   ]
  },
  {
   "cell_type": "code",
   "execution_count": 5,
   "id": "7b8adf23-b99b-409a-887d-042d8e26838a",
   "metadata": {},
   "outputs": [
    {
     "data": {
      "text/plain": [
       "bool"
      ]
     },
     "execution_count": 5,
     "metadata": {},
     "output_type": "execute_result"
    }
   ],
   "source": [
    "type(True)"
   ]
  },
  {
   "cell_type": "code",
   "execution_count": 6,
   "id": "f8681917-615f-4e67-87d2-2e09aa7ea035",
   "metadata": {},
   "outputs": [
    {
     "data": {
      "text/plain": [
       "bool"
      ]
     },
     "execution_count": 6,
     "metadata": {},
     "output_type": "execute_result"
    }
   ],
   "source": [
    "type(False)"
   ]
  }
 ],
 "metadata": {
  "kernelspec": {
   "display_name": "Python 3 (ipykernel)",
   "language": "python",
   "name": "python3"
  },
  "language_info": {
   "codemirror_mode": {
    "name": "ipython",
    "version": 3
   },
   "file_extension": ".py",
   "mimetype": "text/x-python",
   "name": "python",
   "nbconvert_exporter": "python",
   "pygments_lexer": "ipython3",
   "version": "3.9.13"
  }
 },
 "nbformat": 4,
 "nbformat_minor": 5
}

{
 "cells": [
  {
   "cell_type": "code",
   "execution_count": 1,
   "id": "267becdf-dd20-4196-83e7-1306f4505e25",
   "metadata": {},
   "outputs": [
    {
     "name": "stdout",
     "output_type": "stream",
     "text": [
      "30\n",
      "40\n"
     ]
    }
   ],
   "source": [
    "a = 10\n",
    "\n",
    "# 변수 a에 20 값을 더하고 할당하지 않았을 때\n",
    "a = a + 20\n",
    "print(a) # 10\n",
    "\n",
    "a += 10 # a = a + 10 과 같다\n",
    "print(a)"
   ]
  },
  {
   "cell_type": "code",
   "execution_count": 2,
   "id": "0821878c-6ce5-4548-801b-49ff0a89c485",
   "metadata": {},
   "outputs": [
    {
     "name": "stdout",
     "output_type": "stream",
     "text": [
      "None\n"
     ]
    }
   ],
   "source": [
    "#변수에 빈 값 할당하기\n",
    "a = None #다른 언어에서는 null과 동일\n",
    "print(a)"
   ]
  },
  {
   "cell_type": "code",
   "execution_count": 3,
   "id": "f3c7a99d-7b91-4675-97f5-c5c217e865ee",
   "metadata": {},
   "outputs": [],
   "source": [
    "#상수\n",
    "#대문자로만 SNAKE_CASE를 활용하여 상수명을 만들어 쓴다."
   ]
  },
  {
   "cell_type": "code",
   "execution_count": 7,
   "id": "7b8adf23-b99b-409a-887d-042d8e26838a",
   "metadata": {},
   "outputs": [
    {
     "data": {
      "text/plain": [
       "bool"
      ]
     },
     "execution_count": 7,
     "metadata": {},
     "output_type": "execute_result"
    }
   ],
   "source": [
    "#Bool literal\n",
    "type(True)"
   ]
  },
  {
   "cell_type": "code",
   "execution_count": 8,
   "id": "f8681917-615f-4e67-87d2-2e09aa7ea035",
   "metadata": {},
   "outputs": [
    {
     "data": {
      "text/plain": [
       "bool"
      ]
     },
     "execution_count": 8,
     "metadata": {},
     "output_type": "execute_result"
    }
   ],
   "source": [
    "type(False)"
   ]
  },
  {
   "cell_type": "code",
   "execution_count": 9,
   "id": "1b80c22c-af7d-4f0e-b855-ad034b3e2957",
   "metadata": {},
   "outputs": [
    {
     "name": "stdout",
     "output_type": "stream",
     "text": [
      "이것은 문자열입니다.\n",
      "이것은 문자열입니다.\n"
     ]
    }
   ],
   "source": [
    "# 문자열 리터럴\n",
    "text1 = '이것은 문자열입니다.'\n",
    "text2 = \"이것은 문자열입니다.\"\n",
    "\n",
    "print(text1)\n",
    "print(text2)"
   ]
  },
  {
   "cell_type": "code",
   "execution_count": 11,
   "id": "eae10e38-2ae8-4235-90fe-0c9ec0740d6a",
   "metadata": {},
   "outputs": [
    {
     "name": "stdout",
     "output_type": "stream",
     "text": [
      "don't do that\n",
      "don't do that\n"
     ]
    }
   ],
   "source": [
    "text3 = 'don\\'t do that' #작은 따옴표 옆에 역 슬래시를 붙여서 문자열 맅터럴의 끝이 아닌 연속적인 것으로 지정할 수 있다.\n",
    "text4 = \"don't do that\"\n",
    "\n",
    "print(text3)\n",
    "print(text4)"
   ]
  },
  {
   "cell_type": "code",
   "execution_count": 13,
   "id": "90131c87-155c-40a6-b722-6f12cc3be365",
   "metadata": {},
   "outputs": [
    {
     "name": "stdout",
     "output_type": "stream",
     "text": [
      "\"안녕?\"이라는 그 인사를 듣고 나는 '누구지?'라고 생각했다.\n"
     ]
    }
   ],
   "source": [
    "alpha = '\"안녕?\"이라는 그 인사를 듣고 나는 \\'누구지?\\'라고 생각했다.'\n",
    "print(alpha)"
   ]
  },
  {
   "cell_type": "code",
   "execution_count": 14,
   "id": "64818cfd-47a6-49c9-bbd6-b29b705816bb",
   "metadata": {},
   "outputs": [
    {
     "name": "stdout",
     "output_type": "stream",
     "text": [
      "\"안녕?\"이라는 그 인사를 듣고 나는 '누구지?'라고 생각했다.\n"
     ]
    }
   ],
   "source": [
    "beta = \"\\\"안녕?\\\"이라는 그 인사를 듣고 나는 '누구지?'라고 생각했다.\"\n",
    "print(beta)"
   ]
  }
 ],
 "metadata": {
  "kernelspec": {
   "display_name": "Python 3 (ipykernel)",
   "language": "python",
   "name": "python3"
  },
  "language_info": {
   "codemirror_mode": {
    "name": "ipython",
    "version": 3
   },
   "file_extension": ".py",
   "mimetype": "text/x-python",
   "name": "python",
   "nbconvert_exporter": "python",
   "pygments_lexer": "ipython3",
   "version": "3.9.13"
  }
 },
 "nbformat": 4,
 "nbformat_minor": 5
}

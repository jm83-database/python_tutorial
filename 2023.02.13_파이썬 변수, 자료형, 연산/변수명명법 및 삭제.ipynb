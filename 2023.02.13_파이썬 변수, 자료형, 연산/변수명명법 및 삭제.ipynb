{
 "cells": [
  {
   "cell_type": "code",
   "execution_count": null,
   "id": "d20196b1-8d54-44a2-a034-1173c49d9f31",
   "metadata": {},
   "outputs": [],
   "source": [
    "#변수 명명법\n",
    "\n",
    "# Snake Case(ex. snake_case, just_do_it)\n",
    "# Pascal Case(ex. SnakeCase, JustDoIt)\n",
    "# Camel Case(ex. snakeCase, justDoit)"
   ]
  },
  {
   "cell_type": "code",
   "execution_count": 1,
   "id": "54c43d40-ed72-44b2-9155-8ef7ef79585b",
   "metadata": {},
   "outputs": [],
   "source": [
    "# 변수 삭제\n",
    "\n",
    "# del 변수명(ex. del x)"
   ]
  },
  {
   "cell_type": "code",
   "execution_count": 2,
   "id": "5cdc5b84-143c-47f3-a44a-95e19ba32dde",
   "metadata": {},
   "outputs": [
    {
     "name": "stdout",
     "output_type": "stream",
     "text": [
      "30\n"
     ]
    }
   ],
   "source": [
    "# a 변수 선언 후 숫자 리터럴 10 값을 할당\n",
    "a=10\n",
    "\n",
    "# a  변수 값에 20을 더한 결과를 a에 할당\n",
    "a = a + 20\n",
    "\n",
    "print(a)"
   ]
  },
  {
   "cell_type": "code",
   "execution_count": 3,
   "id": "5bf3f968-52c3-453d-a690-b37be7f424c9",
   "metadata": {},
   "outputs": [
    {
     "ename": "NameError",
     "evalue": "name 'a' is not defined",
     "output_type": "error",
     "traceback": [
      "\u001b[1;31m---------------------------------------------------------------------------\u001b[0m",
      "\u001b[1;31mNameError\u001b[0m                                 Traceback (most recent call last)",
      "\u001b[1;32m~\\AppData\\Local\\Temp\\ipykernel_8304\\2210216928.py\u001b[0m in \u001b[0;36m<module>\u001b[1;34m\u001b[0m\n\u001b[0;32m      1\u001b[0m \u001b[1;31m# a 변수 삭제 후 a 변수를 출력해보기\u001b[0m\u001b[1;33m\u001b[0m\u001b[1;33m\u001b[0m\u001b[0m\n\u001b[0;32m      2\u001b[0m \u001b[1;32mdel\u001b[0m \u001b[0ma\u001b[0m\u001b[1;33m\u001b[0m\u001b[1;33m\u001b[0m\u001b[0m\n\u001b[1;32m----> 3\u001b[1;33m \u001b[0mprint\u001b[0m\u001b[1;33m(\u001b[0m\u001b[0ma\u001b[0m\u001b[1;33m)\u001b[0m\u001b[1;33m\u001b[0m\u001b[1;33m\u001b[0m\u001b[0m\n\u001b[0m",
      "\u001b[1;31mNameError\u001b[0m: name 'a' is not defined"
     ]
    }
   ],
   "source": [
    "# a 변수 삭제 후 a 변수를 출력해보기\n",
    "del a\n",
    "print(a)"
   ]
  }
 ],
 "metadata": {
  "kernelspec": {
   "display_name": "Python 3 (ipykernel)",
   "language": "python",
   "name": "python3"
  },
  "language_info": {
   "codemirror_mode": {
    "name": "ipython",
    "version": 3
   },
   "file_extension": ".py",
   "mimetype": "text/x-python",
   "name": "python",
   "nbconvert_exporter": "python",
   "pygments_lexer": "ipython3",
   "version": "3.9.13"
  }
 },
 "nbformat": 4,
 "nbformat_minor": 5
}

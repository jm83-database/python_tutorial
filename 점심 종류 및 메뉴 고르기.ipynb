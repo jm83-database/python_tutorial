{
 "cells": [
  {
   "cell_type": "code",
   "execution_count": 11,
   "id": "2449964e-c645-48cc-84be-2ec1c06e1069",
   "metadata": {},
   "outputs": [
    {
     "name": "stdin",
     "output_type": "stream",
     "text": [
      "\n",
      "메뉴를 보고 싶으시다면 Y, y, 예를 써주시고\n",
      "안 봐도 되시면 N, n, 아니오를 써주세요. y\n"
     ]
    },
    {
     "name": "stdout",
     "output_type": "stream",
     "text": [
      "\n",
      "한식은  덮밥, 비빔밥, 볶음밥, 김치찌개, 부대찌개, 생선찜, 생선구이, 냉면, 설렁탕, 분식(김밥&떡볶이&순대) 이 있습니다.\n",
      "\n",
      "중식은  짜장&짬뽕, 마라탕 이 있습니다.\n",
      "\n",
      "일식은  돈까스, 우동, 초밥, 회, 샤브샤브, 라멘 이 있습니다.\n",
      "\n",
      "양식은  피자, 치킨, 햄버거 이 있습니다.\n",
      "\n",
      "기타는  고기, 곱창, 밥버거 이 있습니다.\n"
     ]
    },
    {
     "name": "stdin",
     "output_type": "stream",
     "text": [
      "\n",
      "한식, 중식, 일식, 양식, 기타 중에 입력하세요: 한식\n"
     ]
    },
    {
     "name": "stdout",
     "output_type": "stream",
     "text": [
      "\n",
      "\n",
      "한식 을/를 고르셨습니다.\n",
      "\n",
      "\n",
      "볶음밥 이/가 선택되었습니다.\n",
      "점심식사 맛있게 하세요^^\n"
     ]
    }
   ],
   "source": [
    "import random\n",
    "\n",
    "menu_list = {\"한식\":[\"덮밥\", \"비빔밥\", \"볶음밥\", \"김치찌개\", \"부대찌개\", \n",
    "                    \"생선찜\", \"생선구이\", \"냉면\", \"설렁탕\", \n",
    "                   \"분식(김밥&떡볶이&순대)\"],\n",
    "              \"중식\":[\"짜장&짬뽕\", \"마라탕\"],\n",
    "             \"일식\":[\"돈까스\", \"우동\", \"초밥\", \"회\", \"샤브샤브\", \"라멘\"],\n",
    "             \"양식\":[\"피자\", \"치킨\", \"햄버거\"],\n",
    "             \"기타\":[\"고기\", \"곱창\", \"밥버거\"]}\n",
    "\n",
    "def select_genre():\n",
    "    while True:\n",
    "        var = input(\"\\n한식, 중식, 일식, 양식, 기타 중에 입력하세요:\")\n",
    "        if var in (\"한식\", \"중식\", \"일식\", \"양식\", \"기타\"):\n",
    "            break\n",
    "        else:\n",
    "            print(\"다시 입력해주세요.\")\n",
    "    return var\n",
    "\n",
    "def view_menu_list():\n",
    "    while True:\n",
    "        var = input(\"\"\"\n",
    "메뉴를 보고 싶으시다면 Y, y, 예를 써주시고\n",
    "안 봐도 되시면 N, n, 아니오를 써주세요.\"\"\")\n",
    "        if var == \"Y\" or var == \"y\" or var == \"예\":\n",
    "            print(\"\\n한식은 \", ', '.join(menu_list[\"한식\"]), \"이 있습니다.\\n\")\n",
    "            print(\"중식은 \", ', '.join(menu_list[\"중식\"]), \"이 있습니다.\\n\")\n",
    "            print(\"일식은 \", ', '.join(menu_list[\"일식\"]), \"이 있습니다.\\n\")\n",
    "            print(\"양식은 \", ', '.join(menu_list[\"양식\"]), \"이 있습니다.\\n\")\n",
    "            print(\"기타는 \", ', '.join(menu_list[\"기타\"]),\"이 있습니다.\")\n",
    "            break\n",
    "        elif var == \"N\" or var == \"n\" or var == \"아니오\":\n",
    "            break\n",
    "        else:\n",
    "            print(\"다시 입력해주세요\")\n",
    "\n",
    "view_menu = view_menu_list()\n",
    "\n",
    "menu_type = select_genre()\n",
    "print(f\"\\n\\n{menu_type} 을/를 고르셨습니다.\")\n",
    "\n",
    "selected = random.choice(menu_list[menu_type])\n",
    "print(f\"\\n\\n{selected} 이/가 선택되었습니다.\\n점심식사 맛있게 하세요^^\")"
   ]
  }
 ],
 "metadata": {
  "kernelspec": {
   "display_name": "Python 3 (ipykernel)",
   "language": "python",
   "name": "python3"
  },
  "language_info": {
   "codemirror_mode": {
    "name": "ipython",
    "version": 3
   },
   "file_extension": ".py",
   "mimetype": "text/x-python",
   "name": "python",
   "nbconvert_exporter": "python",
   "pygments_lexer": "ipython3",
   "version": "3.9.13"
  }
 },
 "nbformat": 4,
 "nbformat_minor": 5
}

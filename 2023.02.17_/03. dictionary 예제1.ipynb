{
 "cells": [
  {
   "cell_type": "code",
   "execution_count": 1,
   "id": "4fdac0f3-bfd3-4dcd-8bb3-7d8e1299b582",
   "metadata": {},
   "outputs": [
    {
     "name": "stdin",
     "output_type": "stream",
     "text": [
      "과일 이름을 입력하세요. 사과\n"
     ]
    },
    {
     "name": "stdout",
     "output_type": "stream",
     "text": [
      "사과의 가격은 1500입니다.\n"
     ]
    }
   ],
   "source": [
    "d = {'사과' : 1500, '바나나' : 700, '오렌지' : 1500, '파인애플' : 2000}\n",
    "#사과가 입력값\n",
    "fruit = input(\"과일 이름을 입력하세요.\")\n",
    "print(f\"{fruit}의 가격은 {d[fruit]}입니다.\")"
   ]
  },
  {
   "cell_type": "code",
   "execution_count": 2,
   "id": "931b3872-937c-4ced-9c2a-1f64c7bad733",
   "metadata": {},
   "outputs": [
    {
     "name": "stdout",
     "output_type": "stream",
     "text": [
      "[<class 'int'>, <class 'int'>, <class 'int'>, <class 'int'>]\n"
     ]
    },
    {
     "name": "stdin",
     "output_type": "stream",
     "text": [
      "과일 이름을 입력하세요. 사과\n"
     ]
    },
    {
     "name": "stdout",
     "output_type": "stream",
     "text": [
      "사과의 가격은 1500입니다.\n"
     ]
    }
   ],
   "source": [
    "d = dict(zip(['사과', '바나나', '오렌지', '파인애플'], [1500, 700, 1500, 2000]))\n",
    "print(list(map(type, d.values())))\n",
    "#사과가 입력값\n",
    "fruit = input(\"과일 이름을 입력하세요.\")\n",
    "print(f\"{fruit}의 가격은 {d[fruit]}입니다.\")"
   ]
  },
  {
   "cell_type": "code",
   "execution_count": 3,
   "id": "0a53bbbd-91fc-444a-b1c6-f5d835889e65",
   "metadata": {},
   "outputs": [
    {
     "name": "stdout",
     "output_type": "stream",
     "text": [
      "[<class 'str'>, <class 'str'>, <class 'str'>, <class 'str'>]\n"
     ]
    },
    {
     "name": "stdin",
     "output_type": "stream",
     "text": [
      "과일 이름을 입력하세요. a\n"
     ]
    },
    {
     "name": "stdout",
     "output_type": "stream",
     "text": [
      "a의 가격은 1500입니다.\n"
     ]
    }
   ],
   "source": [
    "d = dict(a = 1500, b= 700, c = 1500, d = 2000)\n",
    "print(list(map(type, d.keys())))\n",
    "#a가 입력값\n",
    "fruit = input(\"과일 이름을 입력하세요.\")\n",
    "print(f\"{fruit}의 가격은 {d[fruit]}입니다.\")"
   ]
  },
  {
   "cell_type": "code",
   "execution_count": 4,
   "id": "1ef30954-b080-4ffc-a6c9-79c7dc20d3ab",
   "metadata": {},
   "outputs": [
    {
     "ename": "SyntaxError",
     "evalue": "expression cannot contain assignment, perhaps you meant \"==\"? (368598602.py, line 1)",
     "output_type": "error",
     "traceback": [
      "\u001b[1;36m  File \u001b[1;32m\"C:\\Users\\user\\AppData\\Local\\Temp\\ipykernel_13856\\368598602.py\"\u001b[1;36m, line \u001b[1;32m1\u001b[0m\n\u001b[1;33m    d = dict(1 = a, 2 =b, 3 = c, 4 = d) # dict()함수는 = 왼쪽에 변수명명법에 맞게 지정 안 하면 오류가 발생한다.\u001b[0m\n\u001b[1;37m             ^\u001b[0m\n\u001b[1;31mSyntaxError\u001b[0m\u001b[1;31m:\u001b[0m expression cannot contain assignment, perhaps you meant \"==\"?\n"
     ]
    }
   ],
   "source": [
    "d = dict(1 = a, 2 =b, 3 = c, 4 = d) # dict()함수는 = 왼쪽에 변수명명법에 맞게 지정 안 하면 오류가 발생한다.\n",
    "# dictionary = {}와는 다르니 주의 필요!!!!\n",
    "# dictionary 직접 생성할 경우 key값으로 str, int, float, bool, tuple 모두 가능\n",
    "\n",
    "print(list(map(type, d.keys())))\n",
    "#a가 입력값\n",
    "fruit = input(\"과일 이름을 입력하세요.\")\n",
    "print(f\"{fruit}의 가격은 {d[fruit]}입니다.\")"
   ]
  },
  {
   "cell_type": "code",
   "execution_count": 5,
   "id": "c95bfd64-1eb9-43d3-bec3-6194c81299ae",
   "metadata": {},
   "outputs": [
    {
     "name": "stdout",
     "output_type": "stream",
     "text": [
      "[<class 'int'>, <class 'int'>, <class 'int'>, <class 'int'>]\n"
     ]
    },
    {
     "name": "stdin",
     "output_type": "stream",
     "text": [
      "과일 이름을 입력하세요. 1\n"
     ]
    },
    {
     "name": "stdout",
     "output_type": "stream",
     "text": [
      "1의 가격은 1500입니다.\n"
     ]
    }
   ],
   "source": [
    "d = dict(zip([1, 2, 3, 4], [1500, 700, 1500, 2000])) # zip()가 (1 , 1500)형태로 불러온다.\n",
    "print(list(map(type, d.keys())))\n",
    "#1이 입력값\n",
    "fruit = int(input(\"과일 이름을 입력하세요.\"))\n",
    "print(f\"{fruit}의 가격은 {d[fruit]}입니다.\")"
   ]
  }
 ],
 "metadata": {
  "kernelspec": {
   "display_name": "Python 3 (ipykernel)",
   "language": "python",
   "name": "python3"
  },
  "language_info": {
   "codemirror_mode": {
    "name": "ipython",
    "version": 3
   },
   "file_extension": ".py",
   "mimetype": "text/x-python",
   "name": "python",
   "nbconvert_exporter": "python",
   "pygments_lexer": "ipython3",
   "version": "3.9.13"
  }
 },
 "nbformat": 4,
 "nbformat_minor": 5
}

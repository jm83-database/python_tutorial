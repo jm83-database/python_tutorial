{
 "cells": [
  {
   "cell_type": "code",
   "execution_count": 1,
   "id": "440c964d-63a5-4690-b0df-f13bbe1ef34b",
   "metadata": {},
   "outputs": [
    {
     "name": "stdin",
     "output_type": "stream",
     "text": [
      "이름을 기입해주세요. 뽀로로 루피 크롱 스누피\n",
      "몸무게를 입력해주세요. 20.4 16.2 22.3 5.2\n"
     ]
    },
    {
     "name": "stdout",
     "output_type": "stream",
     "text": [
      "{'뽀로로': 20.4, '루피': 16.2, '크롱': 22.3, '스누피': 5.2}\n",
      "[<class 'str'>, <class 'str'>, <class 'str'>, <class 'str'>]\n",
      "[<class 'float'>, <class 'float'>, <class 'float'>, <class 'float'>]\n"
     ]
    }
   ],
   "source": [
    "x = input(\"이름을 기입해주세요.\").split(\" \")\n",
    "# x는 \"뽀로로 루피 크롱 스누피\"\n",
    "y = list(map(float,input(\"몸무게를 입력해주세요.\").split(\" \")))\n",
    "# y는 \"20.4 16.2 22.3 5.2\"\n",
    "\n",
    "d = dict(zip(x,y))\n",
    "print(d)\n",
    "print(list(map(type, d.keys())))\n",
    "print(list(map(type, d.values())))"
   ]
  },
  {
   "cell_type": "code",
   "execution_count": 2,
   "id": "1dec05b4-ccbd-4e71-afd9-3330dd3f6a77",
   "metadata": {},
   "outputs": [
    {
     "name": "stdin",
     "output_type": "stream",
     "text": [
      "이름을 기입해주세요. 뽀로로 루피 크롱 스누피\n"
     ]
    },
    {
     "name": "stdout",
     "output_type": "stream",
     "text": [
      "['뽀로로', '루피', '크롱', '스누피']\n"
     ]
    },
    {
     "name": "stdin",
     "output_type": "stream",
     "text": [
      "몸무게를 입력해주세요. 20.4 16.2 22.3 5.2\n"
     ]
    },
    {
     "name": "stdout",
     "output_type": "stream",
     "text": [
      "<map object at 0x0000023951AA40D0>\n",
      "{'뽀로로': 20.4, '루피': 16.2, '크롱': 22.3, '스누피': 5.2}\n",
      "[<class 'str'>, <class 'str'>, <class 'str'>, <class 'str'>]\n",
      "[<class 'float'>, <class 'float'>, <class 'float'>, <class 'float'>]\n"
     ]
    }
   ],
   "source": [
    "x = input(\"이름을 기입해주세요.\").split(\" \")\n",
    "# x는 \"뽀로로 루피 크롱 스누피\"\n",
    "print(x)\n",
    "y = map(float,input(\"몸무게를 입력해주세요.\").split(\" \"))\n",
    "# map() 앞에 list()를 안 쓰면 사람이 읽을 수 없는 상태로 저장된다.\n",
    "print(y)\n",
    "# y는 \"20.4 16.2 22.3 5.2\"\n",
    "\n",
    "d = dict(zip(x,y))\n",
    "print(d)\n",
    "print(list(map(type, d.keys())))\n",
    "print(list(map(type, d.values())))"
   ]
  },
  {
   "cell_type": "code",
   "execution_count": 3,
   "id": "78de0a57-ab0d-427a-82a1-1a16ea696ccd",
   "metadata": {},
   "outputs": [],
   "source": [
    "# map은 iterable한 데이터를 저장한다.\n",
    "# zip은 iterable한 데이터가 입력된다면 처리한다.\n",
    "# list(map())로 만들면 list가 시퀀스이기 때문에 zip()으로 입력 가능하다."
   ]
  }
 ],
 "metadata": {
  "kernelspec": {
   "display_name": "Python 3 (ipykernel)",
   "language": "python",
   "name": "python3"
  },
  "language_info": {
   "codemirror_mode": {
    "name": "ipython",
    "version": 3
   },
   "file_extension": ".py",
   "mimetype": "text/x-python",
   "name": "python",
   "nbconvert_exporter": "python",
   "pygments_lexer": "ipython3",
   "version": "3.9.13"
  }
 },
 "nbformat": 4,
 "nbformat_minor": 5
}

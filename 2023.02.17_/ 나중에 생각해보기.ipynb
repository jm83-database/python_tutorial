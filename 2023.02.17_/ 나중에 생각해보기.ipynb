{
 "cells": [
  {
   "cell_type": "code",
   "execution_count": 2,
   "id": "f8187095-8833-4627-9d74-c1ab46b33cdf",
   "metadata": {},
   "outputs": [],
   "source": [
    "def COMP(i):\n",
    "    while True:\n",
    "        if 0 <= i <= 100:\n",
    "            return i\n",
    "            break\n",
    "        else:\n",
    "            print(i, \"다시 입력하세요\")\n",
    "        break\n",
    "        \n",
    "def AVG5(a1,a2,a3,a4,a5):\n",
    "    avg = (a1+a2+a3+a4+a5)/5\n",
    "    if avg >= 60:\n",
    "        print(avg, \"점으로 합격\")\n",
    "    else:\n",
    "        print(avg, \"점으로 불합격\")\n",
    "    return a1, a2, a3, a4, a5, avg"
   ]
  },
  {
   "cell_type": "code",
   "execution_count": 9,
   "id": "cb29ff47-9f83-4994-94f2-8500bc3caff6",
   "metadata": {},
   "outputs": [
    {
     "name": "stdin",
     "output_type": "stream",
     "text": [
      "a값을 입력 -30\n",
      "b값을 입력 40\n",
      "c값을 입력 -50\n",
      "d값을 입력 60\n",
      "e값을 입력 70\n"
     ]
    },
    {
     "name": "stdout",
     "output_type": "stream",
     "text": [
      "-30 다시 입력하세요\n",
      "-50 다시 입력하세요\n",
      "18.0 점으로 불합격\n"
     ]
    },
    {
     "data": {
      "text/plain": [
       "(-30, 40, -50, 60, 70, 18.0)"
      ]
     },
     "execution_count": 9,
     "metadata": {},
     "output_type": "execute_result"
    }
   ],
   "source": [
    "a = int(input(\"a값을 입력\"))\n",
    "b = int(input(\"b값을 입력\"))\n",
    "c = int(input(\"c값을 입력\"))\n",
    "d = int(input(\"d값을 입력\"))\n",
    "e = int(input(\"e값을 입력\"))\n",
    "    \n",
    "COMP(a)\n",
    "COMP(b)\n",
    "COMP(c)\n",
    "COMP(d)\n",
    "COMP(e)\n",
    "\n",
    "AVG5(a,b,c,d,e)"
   ]
  },
  {
   "cell_type": "code",
   "execution_count": null,
   "id": "619de60a-6793-47c2-a23f-935273e9d925",
   "metadata": {},
   "outputs": [],
   "source": []
  }
 ],
 "metadata": {
  "kernelspec": {
   "display_name": "Python 3 (ipykernel)",
   "language": "python",
   "name": "python3"
  },
  "language_info": {
   "codemirror_mode": {
    "name": "ipython",
    "version": 3
   },
   "file_extension": ".py",
   "mimetype": "text/x-python",
   "name": "python",
   "nbconvert_exporter": "python",
   "pygments_lexer": "ipython3",
   "version": "3.9.13"
  }
 },
 "nbformat": 4,
 "nbformat_minor": 5
}

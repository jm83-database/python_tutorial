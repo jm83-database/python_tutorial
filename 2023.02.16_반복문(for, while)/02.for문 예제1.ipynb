{
 "cells": [
  {
   "cell_type": "code",
   "execution_count": 1,
   "id": "713255a9-7df8-44ae-8d85-5c657d68e154",
   "metadata": {},
   "outputs": [
    {
     "name": "stdin",
     "output_type": "stream",
     "text": [
      "소프트웨어 설계 점수를 입력하세요. 60\n",
      "소프트웨어 개발 점수를 입력하세요. 60\n",
      "데이터베이스 구축 점수를 입력하세요. 60\n",
      "프로그래밍 언어 점수를 입력하세요. 60\n",
      "정보시스템 구축관리 점수를 입력하세요. 60\n"
     ]
    },
    {
     "name": "stdout",
     "output_type": "stream",
     "text": [
      "합격\n"
     ]
    }
   ],
   "source": [
    "s1 = int(input(\"소프트웨어 설계 점수를 입력하세요.\"))\n",
    "s2 = int(input(\"소프트웨어 개발 점수를 입력하세요.\"))\n",
    "s3 = int(input(\"데이터베이스 구축 점수를 입력하세요.\"))\n",
    "s4 = int(input(\"프로그래밍 언어 점수를 입력하세요.\"))\n",
    "s5 = int(input(\"정보시스템 구축관리 점수를 입력하세요.\"))\n",
    "\n",
    "# s1 30, s2 = 40, s3 =50, s4 = 60, s5 = 70이라고 가정할 때\n",
    "# for i range(s1 and s2 and s3 and s4 and s5)이라고 하면\n",
    "# bool 연산에 의해 s1이 True가 나온다.\n",
    "# 즉 뒤의 s2, s3, s4, s5 모두 비교를 하지 않아서 \n",
    "# s1만 나오게 된다.\n",
    "\n",
    "# 이를 방지하기 위해 for 뒤에 조건 부분을 튜플로 넣는다.\n",
    "\n",
    "\n",
    "for i in (s1, s2, s3, s4, s5):# 5가지 입력에 대하여 i를 각자에 대하여 비교\n",
    "    if i < 0 or i > 100: # s1~s5 중에서 하나라도 0보다 작거나 100보다 큰경우 출력\n",
    "        print(\"잘못된 점수입니다.\")\n",
    "        break\n",
    "    else:\n",
    "        avg = (s1+s2+s3+s4+s5)/5 #평균 계산\n",
    "        if avg >= 60: # 평균 60점 이상일 경우\n",
    "            print(\"합격\")\n",
    "            break\n",
    "        else:\n",
    "            print(\"불합격\") # 평균 60점 미만일 경우\n",
    "            break"
   ]
  },
  {
   "cell_type": "code",
   "execution_count": 2,
   "id": "3d176bc9-1544-45d9-89b2-65560072210e",
   "metadata": {},
   "outputs": [
    {
     "name": "stdout",
     "output_type": "stream",
     "text": [
      "Hello World 1\n",
      "Hello World 2\n",
      "Hello World 3\n",
      "Hello World 4\n",
      "Hello World 5\n",
      "Hello World 6\n",
      "Hello World 7\n",
      "Hello World 8\n",
      "Hello World 9\n",
      "Hello World 10\n"
     ]
    }
   ],
   "source": [
    "for i in range(10): #0-9까지 i를 생성\n",
    "    print(f\"Hello World {i+1}\") # Hello wordl 뒤에 1~10출력"
   ]
  },
  {
   "cell_type": "code",
   "execution_count": 3,
   "id": "b4b31a2d-b384-4198-86b8-5115bf4f2a7c",
   "metadata": {},
   "outputs": [
    {
     "name": "stdin",
     "output_type": "stream",
     "text": [
      "인사 몇 번 해드릴까요? 3\n"
     ]
    },
    {
     "name": "stdout",
     "output_type": "stream",
     "text": [
      "Hello World?\n",
      "Hello World?\n",
      "Hello World?\n"
     ]
    }
   ],
   "source": [
    "a = int(input(\"인사 몇 번 해드릴까요?\"))\n",
    "# 3이 입력값\n",
    "for i in range(a):\n",
    "    print(\"Hello World?\") # 입력값 3만큼 반복"
   ]
  },
  {
   "cell_type": "code",
   "execution_count": 4,
   "id": "935e8a58-3221-4ccc-ac29-69dcf3b4a2e3",
   "metadata": {},
   "outputs": [
    {
     "name": "stdin",
     "output_type": "stream",
     "text": [
      "인사 몇 번 해드릴까요? 3\n"
     ]
    },
    {
     "name": "stdout",
     "output_type": "stream",
     "text": [
      "Hello World? 1\n",
      "Hello World? 2\n",
      "Hello World? 3\n"
     ]
    }
   ],
   "source": [
    "a1 = int(input(\"인사 몇 번 해드릴까요?\"))\n",
    "# 3이 입력값\n",
    "for i in range(1, a1 +1):\n",
    "    print(\"Hello World?\", i) # 입력값 3만큼 반복"
   ]
  },
  {
   "cell_type": "code",
   "execution_count": 5,
   "id": "2a6e516e-6908-4978-bb58-c739d9214f45",
   "metadata": {},
   "outputs": [
    {
     "name": "stdout",
     "output_type": "stream",
     "text": [
      "[5, 6, 7, 8, 9]\n"
     ]
    }
   ],
   "source": [
    "print(list(range(5,10)))"
   ]
  },
  {
   "cell_type": "code",
   "execution_count": 6,
   "id": "dc7e26ad-c08a-47a0-8ebc-c40434b34551",
   "metadata": {},
   "outputs": [
    {
     "name": "stdout",
     "output_type": "stream",
     "text": [
      "[0, 3, 6, 9]\n"
     ]
    }
   ],
   "source": [
    "print(list(range(0,10,3))) # 10~12면 결과가 동일"
   ]
  },
  {
   "cell_type": "code",
   "execution_count": 7,
   "id": "60078209-e413-46de-a6d6-bbf540792497",
   "metadata": {},
   "outputs": [
    {
     "name": "stdout",
     "output_type": "stream",
     "text": [
      "[-10, -40, -70]\n"
     ]
    }
   ],
   "source": [
    "print(list(range(-10, -100, -30))) # -71~-100이면 결과가 동일"
   ]
  },
  {
   "cell_type": "code",
   "execution_count": 8,
   "id": "d2027ee6-33aa-47d2-8cac-0e497e420632",
   "metadata": {},
   "outputs": [
    {
     "name": "stdin",
     "output_type": "stream",
     "text": [
      "자연수 하나를 입력해주세요: 6\n"
     ]
    },
    {
     "name": "stdout",
     "output_type": "stream",
     "text": [
      "6\t6\t6\t6\t6\t6\t\n",
      "5\t5\t5\t5\t5\t\n",
      "4\t4\t4\t4\t\n",
      "3\t3\t3\t\n",
      "2\t2\t\n",
      "1\t\n"
     ]
    }
   ],
   "source": [
    "num = int(input(\"자연수 하나를 입력해주세요:\"))\n",
    "# 6이 입력값\n",
    "for i in range(num):\n",
    "    if i <= num: # if문은 이 예제어서 굳이 필요없음\n",
    "        print((num-i)*f\"{num-i}\\t\")"
   ]
  },
  {
   "cell_type": "code",
   "execution_count": 9,
   "id": "11c017b3-7693-4830-bb84-57104165f3a2",
   "metadata": {},
   "outputs": [
    {
     "name": "stdin",
     "output_type": "stream",
     "text": [
      "자연수 하나를 입력해주세요: 6\n"
     ]
    },
    {
     "name": "stdout",
     "output_type": "stream",
     "text": [
      "6\t6\t6\t6\t6\t6\t\n",
      "5\t5\t5\t5\t5\t\n",
      "4\t4\t4\t4\t\n",
      "3\t3\t3\t\n",
      "2\t2\t\n",
      "1\t\n"
     ]
    }
   ],
   "source": [
    "num = int(input(\"자연수 하나를 입력해주세요:\"))\n",
    "# 6이 입력값\n",
    "for i in range(num, 0, -1):\n",
    "    print(i*f\"{i}\\t\")"
   ]
  },
  {
   "cell_type": "code",
   "execution_count": 10,
   "id": "7b9dad42-a983-4904-8502-5991a8f6e007",
   "metadata": {},
   "outputs": [
    {
     "name": "stdin",
     "output_type": "stream",
     "text": [
      "자연수 하나를 입력해주세요: 6\n"
     ]
    },
    {
     "name": "stdout",
     "output_type": "stream",
     "text": [
      "6\t6\t6\t6\t6\t6\t\n",
      "5\t5\t5\t5\t5\t\n",
      "4\t4\t4\t4\t\n",
      "3\t3\t3\t\n",
      "2\t2\t\n",
      "1\t\n"
     ]
    }
   ],
   "source": [
    "# 댜중 for문\n",
    "\n",
    "num = int(input(\"자연수 하나를 입력해주세요:\"))\n",
    "# 6이 입력값\n",
    "\n",
    "for i in range(num, 0, -1): # num~1까지 i 생성\n",
    "    for j in range(i):\n",
    "        print(i,end='\\t') #i와 같은 수만큼 tab(\\t) 이격\n",
    "    print() #줄바꿈"
   ]
  },
  {
   "cell_type": "code",
   "execution_count": 11,
   "id": "1ffe712f-7402-47ac-b0ad-c857c6071267",
   "metadata": {},
   "outputs": [
    {
     "name": "stdout",
     "output_type": "stream",
     "text": [
      "* * * * * * * * * * \n",
      "*\t\t  *\n",
      "*\t\t  *\n",
      "*\t\t  *\n",
      "*\t\t  *\n",
      "*\t\t  *\n",
      "*\t\t  *\n",
      "*\t\t  *\n",
      "*\t\t  *\n",
      "* * * * * * * * * * \n"
     ]
    }
   ],
   "source": [
    "a = 10\n",
    "for i in range(10):\n",
    "    if i == 0 or i == 9:\n",
    "        print(\"* \"*a)\n",
    "    else:\n",
    "        print(\"*\\t\\t  *\")"
   ]
  },
  {
   "cell_type": "code",
   "execution_count": 12,
   "id": "e0c71b36-b491-44a1-85fd-2088465b100b",
   "metadata": {},
   "outputs": [
    {
     "name": "stdin",
     "output_type": "stream",
     "text": [
      "1부터 입력한 자연수까지의 모든 홀수의 합을 구합니다 100\n"
     ]
    },
    {
     "name": "stdout",
     "output_type": "stream",
     "text": [
      "1 + 3 + 5 + 7 + 9 + 11 + 13 + 15 + 17 + 19 + 21 + 23 + 25 + 27 + 29 + 31 + 33 + 35 + 37 + 39 + 41 + 43 + 45 + 47 + 49 + 51 + 53 + 55 + 57 + 59 + 61 + 63 + 65 + 67 + 69 + 71 + 73 + 75 + 77 + 79 + 81 + 83 + 85 + 87 + 89 + 91 + 93 + 95 + 97 + 99 = 2500\n"
     ]
    }
   ],
   "source": [
    "# 복잡한 코드\n",
    "num = int(input(\"1부터 입력한 자연수까지의 모든 홀수의 합을 구합니다\"))\n",
    "lis = []\n",
    "# 입력값은 100\n",
    "for i in range(1,num+1):\n",
    "    if num%2==1:\n",
    "        if i%2==1:\n",
    "            lis.append(i)\n",
    "            if i <= (num-2):\n",
    "                print(f\"{i}\", end = \" + \")\n",
    "            else:\n",
    "                print(i, end = \" \")\n",
    "        if i == num:\n",
    "            print(f\"= {sum(lis)}\")\n",
    "    else:\n",
    "        if i%2==1:\n",
    "            lis.append(i)\n",
    "            if i <= (num-2):\n",
    "                print(f\"{i}\", end = \" + \")\n",
    "            else:\n",
    "                print(i, end = \" \")\n",
    "        if i == num:\n",
    "            print(f\"= {sum(lis)}\")"
   ]
  },
  {
   "cell_type": "code",
   "execution_count": 13,
   "id": "60a7c5d4-8acf-4e89-9034-721e1525d2b4",
   "metadata": {},
   "outputs": [
    {
     "name": "stdin",
     "output_type": "stream",
     "text": [
      "1부터 입력한 자연수까지의 모든 홀수의 합을 구합니다 100\n"
     ]
    },
    {
     "name": "stdout",
     "output_type": "stream",
     "text": [
      "1 + 3 + 5 + 7 + 9 + 11 + 13 + 15 + 17 + 19 + 21 + 23 + 25 + 27 + 29 + 31 + 33 + 35 + 37 + 39 + 41 + 43 + 45 + 47 + 49 + 51 + 53 + 55 + 57 + 59 + 61 + 63 + 65 + 67 + 69 + 71 + 73 + 75 + 77 + 79 + 81 + 83 + 85 + 87 + 89 + 91 + 93 + 95 + 97 + 99 = 2500\n"
     ]
    }
   ],
   "source": [
    "# 간결한 코드1\n",
    "num1 = int(input(\"1부터 입력한 자연수까지의 모든 홀수의 합을 구합니다\"))\n",
    "result = 0\n",
    "\n",
    "for i in range(1, num1+1):\n",
    "    if i%2 ==1:\n",
    "        if(num1-1) == i or num1 == i:\n",
    "            print(i, end = ' = ')\n",
    "        else:\n",
    "            print(i, end = ' + ')\n",
    "        result += i\n",
    "print(result)"
   ]
  },
  {
   "cell_type": "code",
   "execution_count": 14,
   "id": "90dd43e6-8f51-4a45-bb65-9cc4d6337c47",
   "metadata": {},
   "outputs": [
    {
     "name": "stdin",
     "output_type": "stream",
     "text": [
      "1부터 입력한 자연수까지의 모든 홀수의 합을 구합니다 100\n"
     ]
    },
    {
     "name": "stdout",
     "output_type": "stream",
     "text": [
      "1 + 3 + 5 + 7 + 9 + 11 + 13 + 15 + 17 + 19 + 21 + 23 + 25 + 27 + 29 + 31 + 33 + 35 + 37 + 39 + 41 + 43 + 45 + 47 + 49 + 51 + 53 + 55 + 57 + 59 + 61 + 63 + 65 + 67 + 69 + 71 + 73 + 75 + 77 + 79 + 81 + 83 + 85 + 87 + 89 + 91 + 93 + 95 + 97 + 99 = 2500\n"
     ]
    }
   ],
   "source": [
    "#간결한 코드2\n",
    "num2 = int(input(\"1부터 입력한 자연수까지의 모든 홀수의 합을 구합니다\"))\n",
    "print(1, end=\"\") #초기값을 1부터 적용시킨다.\n",
    "result = 1\n",
    "\n",
    "for i in range(3, num2+1):\n",
    "    if i % 2 == 1 :\n",
    "        print(f\" + {i}\", end=\"\") # 1이 없기 때문에 + {i}꼴로 지정\n",
    "        result +=i\n",
    "\n",
    "print(f\" = {result}\")"
   ]
  },
  {
   "cell_type": "code",
   "execution_count": 15,
   "id": "1cc91c69-b657-4333-8edb-7fe2de4d88dd",
   "metadata": {},
   "outputs": [
    {
     "name": "stdin",
     "output_type": "stream",
     "text": [
      "계승을 구할 숫자를 입력하세요. 7\n"
     ]
    },
    {
     "name": "stdout",
     "output_type": "stream",
     "text": [
      "5040\n"
     ]
    }
   ],
   "source": [
    "n = int(input(\"계승을 구할 숫자를 입력하세요.\"))\n",
    "fac = 1 # 곱연산 누적은 초기값을 1로 설정\n",
    "# 입력값은 7\n",
    "for i in range(1,n+1):\n",
    "    fac *= i\n",
    "print(fac)"
   ]
  }
 ],
 "metadata": {
  "kernelspec": {
   "display_name": "Python 3 (ipykernel)",
   "language": "python",
   "name": "python3"
  },
  "language_info": {
   "codemirror_mode": {
    "name": "ipython",
    "version": 3
   },
   "file_extension": ".py",
   "mimetype": "text/x-python",
   "name": "python",
   "nbconvert_exporter": "python",
   "pygments_lexer": "ipython3",
   "version": "3.9.13"
  }
 },
 "nbformat": 4,
 "nbformat_minor": 5
}

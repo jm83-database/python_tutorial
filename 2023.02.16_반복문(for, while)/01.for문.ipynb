{
 "cells": [
  {
   "cell_type": "code",
   "execution_count": 1,
   "id": "a1b61b43-e8c5-45da-8280-e6069e63825a",
   "metadata": {},
   "outputs": [
    {
     "data": {
      "text/plain": [
       "[0, 1, 2, 3, 4, 5, 6, 7]"
      ]
     },
     "execution_count": 1,
     "metadata": {},
     "output_type": "execute_result"
    }
   ],
   "source": [
    "# range() 함수\n",
    "# range변수 = range(시작, 끝, 증감크기)\n",
    "# 시퀀스자료형변수[시작:끝:증감크기] ex)리스트\n",
    "\n",
    "list(range(0,8,1))"
   ]
  },
  {
   "cell_type": "code",
   "execution_count": 2,
   "id": "799f4583-c72e-4644-8d52-ee30176d6f92",
   "metadata": {},
   "outputs": [
    {
     "data": {
      "text/plain": [
       "[0, 1, 2, 3, 4, 5, 6, 7]"
      ]
     },
     "execution_count": 2,
     "metadata": {},
     "output_type": "execute_result"
    }
   ],
   "source": [
    "list(range(8))"
   ]
  },
  {
   "cell_type": "code",
   "execution_count": 3,
   "id": "98996127-5024-4d52-ae78-0a6f9e6e221e",
   "metadata": {},
   "outputs": [
    {
     "name": "stdout",
     "output_type": "stream",
     "text": [
      "[2, 4, 6, 8, 10, 12, 14, 16, 18, 20, 22, 24, 26, 28, 30, 32, 34, 36, 38, 40, 42, 44, 46, 48, 50, 52, 54, 56, 58, 60, 62, 64, 66, 68, 70, 72, 74, 76, 78, 80, 82, 84, 86, 88, 90, 92, 94, 96, 98]\n"
     ]
    }
   ],
   "source": [
    "even_numbers = list(range(2, 100, 2))\n",
    "print(even_numbers)"
   ]
  },
  {
   "cell_type": "code",
   "execution_count": 4,
   "id": "3e1bad30-108b-45fd-b72f-2361feeba26e",
   "metadata": {},
   "outputs": [],
   "source": [
    "# range()가 돌려준 객체는 마치 리스트인 것처럼 동작하지만, \n",
    "# 사실 리스트와는 다르다.\n",
    "\n",
    "# 객체 ← 실제 존재하는 것(메모리 상에서)\n",
    "\n",
    "# iterable(객체)란?\n",
    "# 반복 가능한이라는 사전적 의미를 가진다.\n",
    "# 파이썬에서는 \"여러 개의 요소들로 구성돼있으면서\n",
    "# 요소를 한 번에 하나씩 돌려줄 수 있는 객체\n",
    "\n",
    "# ex)list, tuple, str, range 같은 시퀀스 자료형\n",
    "# 위와 상반되는 비 시퀀스 자료형으로 dictionary\n",
    "\n",
    "# 메모리에 할당되어 있는 것이 객체"
   ]
  },
  {
   "cell_type": "code",
   "execution_count": 5,
   "id": "41d9c91b-e37d-48c2-a50f-34105e6ff67f",
   "metadata": {},
   "outputs": [
    {
     "name": "stdout",
     "output_type": "stream",
     "text": [
      "시\n",
      "미\n",
      "라\n",
      "레\n",
      "솔\n",
      "도\n",
      "파\n"
     ]
    }
   ],
   "source": [
    "for _ in [\"시\", \"미\", \"라\", \"레\", \"솔\", \"도\", \"파\"]: #라스트 인덱스에 따라 변수 _ 증가\n",
    "    print(_)"
   ]
  },
  {
   "cell_type": "code",
   "execution_count": 6,
   "id": "1e165ae6-06e6-4106-8df3-500f5ccb2da8",
   "metadata": {},
   "outputs": [
    {
     "name": "stdout",
     "output_type": "stream",
     "text": [
      "파 도 솔 레 라 미 시 "
     ]
    }
   ],
   "source": [
    "for _ in (\"파\", \"도\", \"솔\", \"레\", \"라\", \"미\", \"시\"): #튜플 인덱스에 따라 변수 _ 증가\n",
    "    print(_, end = \" \")"
   ]
  },
  {
   "cell_type": "code",
   "execution_count": 7,
   "id": "d6263b23-e292-417a-87f8-c51e371d8551",
   "metadata": {},
   "outputs": [
    {
     "name": "stdout",
     "output_type": "stream",
     "text": [
      "일 이 삼 사 오 육 칠 팔 구 십 "
     ]
    }
   ],
   "source": [
    "for _ in \"일이삼사오육칠팔구십\": #문자열 인덱스에 따라 변수 _ 증가\n",
    "    print(_, end = \" \")"
   ]
  },
  {
   "cell_type": "code",
   "execution_count": 8,
   "id": "6f1c727e-0233-4dc0-9b39-4d6d7b628bdd",
   "metadata": {},
   "outputs": [
    {
     "name": "stdout",
     "output_type": "stream",
     "text": [
      "십 구 팔 칠 육 오 사 삼 이 일 "
     ]
    }
   ],
   "source": [
    "for _ in reversed(\"일이삼사오육칠팔구십\"): #문자열 인덱스 역순으로 변수 _ 증가\n",
    "    print(_, end=\" \")\n",
    "    \n",
    "#revered(시퀀스) 함수는 반환값을 주지만 해당 시퀀스르 변경하지 않는다.\n",
    "#built-in함수로서 작동\n",
    "\n",
    "#리스트.reverse() 함수는 리스트 요소 순서를 뒤집어주면 반환값이 없다.\n",
    "#리스트라는 함수 내부에서 reverse method 실행 → 별도로 값을 저장하지 않음(None)\n",
    "\n",
    "# 변수[::-1] 순서를 뒤집어 주고 싶은 시퀀스 객체 적용"
   ]
  }
 ],
 "metadata": {
  "kernelspec": {
   "display_name": "Python 3 (ipykernel)",
   "language": "python",
   "name": "python3"
  },
  "language_info": {
   "codemirror_mode": {
    "name": "ipython",
    "version": 3
   },
   "file_extension": ".py",
   "mimetype": "text/x-python",
   "name": "python",
   "nbconvert_exporter": "python",
   "pygments_lexer": "ipython3",
   "version": "3.9.13"
  }
 },
 "nbformat": 4,
 "nbformat_minor": 5
}

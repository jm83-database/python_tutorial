{
 "cells": [
  {
   "cell_type": "code",
   "execution_count": 1,
   "id": "713255a9-7df8-44ae-8d85-5c657d68e154",
   "metadata": {},
   "outputs": [
    {
     "name": "stdin",
     "output_type": "stream",
     "text": [
      "소프트웨어 설계 점수를 입력하세요. 60\n",
      "소프트웨어 개발 점수를 입력하세요. 70\n",
      "데이터베이스 구축 점수를 입력하세요. 80\n",
      "프로그래밍 언어 점수를 입력하세요. 90\n",
      "정보시스템 구축관리 점수를 입력하세요. 20\n"
     ]
    },
    {
     "name": "stdout",
     "output_type": "stream",
     "text": [
      "합격\n"
     ]
    }
   ],
   "source": [
    "s1 = int(input(\"소프트웨어 설계 점수를 입력하세요.\"))\n",
    "s2 = int(input(\"소프트웨어 개발 점수를 입력하세요.\"))\n",
    "s3 = int(input(\"데이터베이스 구축 점수를 입력하세요.\"))\n",
    "s4 = int(input(\"프로그래밍 언어 점수를 입력하세요.\"))\n",
    "s5 = int(input(\"정보시스템 구축관리 점수를 입력하세요.\"))\n",
    "\n",
    "# s1 30, s2 = 40, s3 =50, s4 = 60, s5 = 70이라고 가정할 때\n",
    "# for i range(s1 and s2 and s3 and s4 and s5)이라고 하면\n",
    "# bool 연산에 의해 s1이 True가 나온다.\n",
    "# 즉 뒤의 s2, s3, s4, s5 모두 비교를 하지 않아서 \n",
    "# s1만 나오게 된다.\n",
    "\n",
    "# 이를 방지하기 위해 for 뒤에 조건 부분을 튜플로 넣는다.\n",
    "\n",
    "\n",
    "for i in (s1, s2, s3, s4, s5):# 5가지 입력에 대하여 i를 각자에 대하여 비교\n",
    "    if i < 0 or i > 100:\n",
    "        print(\"잘못된 점수입니다.\")\n",
    "        break\n",
    "    else:\n",
    "        avg = (s1+s2+s3+s4+s5)/5\n",
    "        if avg >= 60:\n",
    "            print(\"합격\")\n",
    "            break\n",
    "        else:\n",
    "            print(\"불합격\")\n",
    "            break"
   ]
  }
 ],
 "metadata": {
  "kernelspec": {
   "display_name": "Python 3 (ipykernel)",
   "language": "python",
   "name": "python3"
  },
  "language_info": {
   "codemirror_mode": {
    "name": "ipython",
    "version": 3
   },
   "file_extension": ".py",
   "mimetype": "text/x-python",
   "name": "python",
   "nbconvert_exporter": "python",
   "pygments_lexer": "ipython3",
   "version": "3.9.13"
  }
 },
 "nbformat": 4,
 "nbformat_minor": 5
}

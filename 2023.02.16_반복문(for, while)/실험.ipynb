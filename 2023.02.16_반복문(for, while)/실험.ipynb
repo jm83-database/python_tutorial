{
 "cells": [
  {
   "cell_type": "code",
   "execution_count": 1,
   "id": "a0e1f272-8a5f-4d96-9ff2-d5b4074bb0cc",
   "metadata": {},
   "outputs": [
    {
     "name": "stdin",
     "output_type": "stream",
     "text": [
      "1부터 입력한 자연수까지의 모든 홀수의 합을 구합니다 10\n"
     ]
    },
    {
     "name": "stdout",
     "output_type": "stream",
     "text": [
      "1 + 3 + 5 + 7 + 9 = 25\n"
     ]
    }
   ],
   "source": [
    "num = int(input(\"1부터 입력한 자연수까지의 모든 홀수의 합을 구합니다\"))\n",
    "lis = []\n",
    "\n",
    "for i in range(1,num+1):\n",
    "    if num%2==1:\n",
    "        if i%2==1:\n",
    "            lis.append(i)\n",
    "            if i <= (num-2):\n",
    "                print(f\"{i}\", end = \" + \")\n",
    "            else:\n",
    "                print(i, end = \" \")\n",
    "        if i == num:\n",
    "            print(f\"= {sum(lis)}\")\n",
    "    else:\n",
    "        if i%2==1:\n",
    "            lis.append(i)\n",
    "            if i <= (num-2):\n",
    "                print(f\"{i}\", end = \" + \")\n",
    "            else:\n",
    "                print(i, end = \" \")\n",
    "        if i == num:\n",
    "            print(f\"= {sum(lis)}\")"
   ]
  },
  {
   "cell_type": "code",
   "execution_count": 2,
   "id": "87190cda-1f73-4ab7-afe8-79010014974b",
   "metadata": {},
   "outputs": [
    {
     "name": "stdin",
     "output_type": "stream",
     "text": [
      "1부터 입력한 자연수까지의 모든 홀수의 합을 구합니다 10\n"
     ]
    },
    {
     "name": "stdout",
     "output_type": "stream",
     "text": [
      "1 + 3 + 5 + 7 + 9 = 25\n"
     ]
    }
   ],
   "source": [
    "num1 = int(input(\"1부터 입력한 자연수까지의 모든 홀수의 합을 구합니다\"))\n",
    "result = 0\n",
    "\n",
    "for i in range(1, num1+1):\n",
    "    if i%2 ==1:\n",
    "        if(num1-1) == i or num1 == i:\n",
    "            print(i, end = ' = ')\n",
    "        else:\n",
    "            print(i, end = ' + ')\n",
    "        result += i\n",
    "print(result)"
   ]
  },
  {
   "cell_type": "code",
   "execution_count": 10,
   "id": "171f1628-b7f9-454c-b56d-3c7c25b80589",
   "metadata": {},
   "outputs": [
    {
     "name": "stdin",
     "output_type": "stream",
     "text": [
      "1부터 입력한 자연수까지의 모든 홀수의 합을 구합니다 3\n"
     ]
    },
    {
     "name": "stdout",
     "output_type": "stream",
     "text": [
      "1 + 3 = 4\n"
     ]
    }
   ],
   "source": [
    "num2 = int(input(\"1부터 입력한 자연수까지의 모든 홀수의 합을 구합니다\"))\n",
    "print(\"1\", end=\"\")\n",
    "result = 1\n",
    "\n",
    "for i in range(3, num2+1):\n",
    "    if i % 2 == 1 :\n",
    "        print(f\" + {i}\", end=\"\")\n",
    "        result +=i\n",
    "\n",
    "print(f\" = {result}\")"
   ]
  }
 ],
 "metadata": {
  "kernelspec": {
   "display_name": "Python 3 (ipykernel)",
   "language": "python",
   "name": "python3"
  },
  "language_info": {
   "codemirror_mode": {
    "name": "ipython",
    "version": 3
   },
   "file_extension": ".py",
   "mimetype": "text/x-python",
   "name": "python",
   "nbconvert_exporter": "python",
   "pygments_lexer": "ipython3",
   "version": "3.9.13"
  }
 },
 "nbformat": 4,
 "nbformat_minor": 5
}

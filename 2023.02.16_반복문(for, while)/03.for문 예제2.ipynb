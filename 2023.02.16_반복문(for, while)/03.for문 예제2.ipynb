{
 "cells": [
  {
   "cell_type": "code",
   "execution_count": 1,
   "id": "38ec39ed-8022-4311-ba0a-b29988884525",
   "metadata": {},
   "outputs": [
    {
     "name": "stdout",
     "output_type": "stream",
     "text": [
      "100 -420 250 1030 210 770 240 "
     ]
    }
   ],
   "source": [
    "x = [10, -42, 25, 103, 21, 77, 24]\n",
    "a = 10\n",
    "for i in x:\n",
    "    print(i*a, end = \" \") #x의 인덱스에 있는 숫자를 a와 곱함"
   ]
  },
  {
   "cell_type": "code",
   "execution_count": 2,
   "id": "8e848acc-023c-48e6-a459-0539d715521f",
   "metadata": {},
   "outputs": [
    {
     "name": "stdin",
     "output_type": "stream",
     "text": [
      "구구단을 알려드립니다. 숫자를 입력하세요. 9\n"
     ]
    },
    {
     "name": "stdout",
     "output_type": "stream",
     "text": [
      "9 * 1 = 9\n",
      "9 * 2 = 18\n",
      "9 * 3 = 27\n",
      "9 * 4 = 36\n",
      "9 * 5 = 45\n",
      "9 * 6 = 54\n",
      "9 * 7 = 63\n",
      "9 * 8 = 72\n",
      "9 * 9 = 81\n"
     ]
    }
   ],
   "source": [
    "n = int(input(\"구구단을 알려드립니다. 숫자를 입력하세요.\"))\n",
    "#9이 입력값\n",
    "for i in range(1,10): #1~9까지 i 반복\n",
    "    print(f\"{n} * {i} = {n*i}\")"
   ]
  },
  {
   "cell_type": "code",
   "execution_count": 3,
   "id": "da82fbdf-ae3b-43d3-bd53-f8bbdf943577",
   "metadata": {},
   "outputs": [
    {
     "name": "stdin",
     "output_type": "stream",
     "text": [
      "구구단을 알려드립니다. 숫자를 입력하세요. 3\n"
     ]
    },
    {
     "name": "stdout",
     "output_type": "stream",
     "text": [
      "3 * 1 = 3\n",
      "3 * 2 = 6\n",
      "3 * 3 = 9\n",
      "3 * 4 = 12\n",
      "3 * 5 = 15\n",
      "3 * 6 = 18\n",
      "3 * 7 = 21\n",
      "3 * 8 = 24\n",
      "3 * 9 = 27\n"
     ]
    }
   ],
   "source": [
    "n = int(input(\"구구단을 알려드립니다. 숫자를 입력하세요.\"))\n",
    "a = list(range(1,10)) #1~9까지 리스트 생성\n",
    "#3이 입력값\n",
    "\n",
    "for i in a: # a의 요소가 i와 같다\n",
    "    print(f\"{n} * {i} = {n*i}\")"
   ]
  },
  {
   "cell_type": "code",
   "execution_count": 4,
   "id": "e9f17ac1-057f-4635-a475-6c51de7951ac",
   "metadata": {},
   "outputs": [
    {
     "name": "stdin",
     "output_type": "stream",
     "text": [
      "자연수를 입력해주세요: 100\n"
     ]
    },
    {
     "name": "stdout",
     "output_type": "stream",
     "text": [
      "5050\n"
     ]
    }
   ],
   "source": [
    "n = int(input(\"자연수를 입력해주세요:\"))\n",
    "result = 0 #덧셈에 영향없는 초기값 0 설정\n",
    "#100이 입력값\n",
    "\n",
    "for i in range(1, n+1): #1~n까지 i 반복\n",
    "    result += i #i가 증가할 때마다 result값을 더하면서 갱신하고 저장\n",
    "\n",
    "print(result)"
   ]
  },
  {
   "cell_type": "code",
   "execution_count": 5,
   "id": "13f743e9-3c92-44d0-9033-fa13cd44e2fd",
   "metadata": {},
   "outputs": [
    {
     "name": "stdout",
     "output_type": "stream",
     "text": [
      "*****\n",
      "*****\n",
      "*****\n",
      "*****\n",
      "*****\n"
     ]
    }
   ],
   "source": [
    "for i in range(5):\n",
    "    for j in range(5):\n",
    "        print(\"*\", end =\"\") # ***** 생성\n",
    "    print() # 줄바꾸기"
   ]
  },
  {
   "cell_type": "code",
   "execution_count": 6,
   "id": "6399baee-b822-438d-b35f-3c63acfa7d90",
   "metadata": {},
   "outputs": [
    {
     "name": "stdout",
     "output_type": "stream",
     "text": [
      "*****\n",
      "*****\n",
      "*****\n",
      "*****\n",
      "*****\n"
     ]
    }
   ],
   "source": [
    "#if문 추가\n",
    "\n",
    "for i in range(5):\n",
    "    if i == 4:\n",
    "        for j in range(i+1):\n",
    "            print(\"*\"*(i+1))"
   ]
  }
 ],
 "metadata": {
  "kernelspec": {
   "display_name": "Python 3 (ipykernel)",
   "language": "python",
   "name": "python3"
  },
  "language_info": {
   "codemirror_mode": {
    "name": "ipython",
    "version": 3
   },
   "file_extension": ".py",
   "mimetype": "text/x-python",
   "name": "python",
   "nbconvert_exporter": "python",
   "pygments_lexer": "ipython3",
   "version": "3.9.13"
  }
 },
 "nbformat": 4,
 "nbformat_minor": 5
}

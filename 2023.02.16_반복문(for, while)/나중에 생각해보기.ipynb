{
 "cells": [
  {
   "cell_type": "code",
   "execution_count": 11,
   "id": "a215e283-dadb-4af4-be11-262014808440",
   "metadata": {},
   "outputs": [
    {
     "name": "stdin",
     "output_type": "stream",
     "text": [
      "소프트웨어 설계 점수를 입력하세요. 30\n",
      "소프트웨어 개발 점수를 입력하세요. 30\n",
      "데이터베이스 구축 점수를 입력하세요. 30\n",
      "프로그래밍 언어 점수를 입력하세요. 30\n",
      "정보시스템 구축관리 점수를 입력하세요. 30\n"
     ]
    },
    {
     "ename": "TypeError",
     "evalue": "argument of type 'int' is not iterable",
     "output_type": "error",
     "traceback": [
      "\u001b[1;31m---------------------------------------------------------------------------\u001b[0m",
      "\u001b[1;31mTypeError\u001b[0m                                 Traceback (most recent call last)",
      "\u001b[1;32m~\\AppData\\Local\\Temp\\ipykernel_13236\\644102149.py\u001b[0m in \u001b[0;36m<module>\u001b[1;34m\u001b[0m\n\u001b[0;32m      9\u001b[0m \u001b[0mavg\u001b[0m \u001b[1;33m=\u001b[0m \u001b[1;33m(\u001b[0m\u001b[0ms1\u001b[0m\u001b[1;33m+\u001b[0m\u001b[0ms2\u001b[0m\u001b[1;33m+\u001b[0m\u001b[0ms3\u001b[0m\u001b[1;33m+\u001b[0m\u001b[0ms4\u001b[0m\u001b[1;33m+\u001b[0m\u001b[0ms5\u001b[0m\u001b[1;33m)\u001b[0m\u001b[1;33m/\u001b[0m\u001b[1;36m5\u001b[0m \u001b[1;31m#평균 계산\u001b[0m\u001b[1;33m\u001b[0m\u001b[1;33m\u001b[0m\u001b[0m\n\u001b[0;32m     10\u001b[0m \u001b[1;33m\u001b[0m\u001b[0m\n\u001b[1;32m---> 11\u001b[1;33m \u001b[1;32mwhile\u001b[0m \u001b[0mi\u001b[0m \u001b[1;32min\u001b[0m \u001b[0mlen\u001b[0m\u001b[1;33m(\u001b[0m\u001b[0mlis\u001b[0m\u001b[1;33m)\u001b[0m\u001b[1;33m:\u001b[0m\u001b[1;31m# 5가지 입력에 대하여 i를 각자에 대하여 비교\u001b[0m\u001b[1;33m\u001b[0m\u001b[1;33m\u001b[0m\u001b[0m\n\u001b[0m\u001b[0;32m     12\u001b[0m     \u001b[1;32mif\u001b[0m \u001b[1;36m0\u001b[0m \u001b[1;33m<=\u001b[0m \u001b[0mi\u001b[0m \u001b[1;33m<=\u001b[0m \u001b[1;36m100\u001b[0m\u001b[1;33m:\u001b[0m\u001b[1;33m\u001b[0m\u001b[1;33m\u001b[0m\u001b[0m\n\u001b[0;32m     13\u001b[0m         \u001b[1;32mif\u001b[0m \u001b[0mavg\u001b[0m \u001b[1;33m>=\u001b[0m \u001b[1;36m60\u001b[0m\u001b[1;33m:\u001b[0m \u001b[1;31m# 평균 60점 이상일 경우\u001b[0m\u001b[1;33m\u001b[0m\u001b[1;33m\u001b[0m\u001b[0m\n",
      "\u001b[1;31mTypeError\u001b[0m: argument of type 'int' is not iterable"
     ]
    }
   ],
   "source": [
    "s1 = int(input(\"소프트웨어 설계 점수를 입력하세요.\"))\n",
    "s2 = int(input(\"소프트웨어 개발 점수를 입력하세요.\"))\n",
    "s3 = int(input(\"데이터베이스 구축 점수를 입력하세요.\"))\n",
    "s4 = int(input(\"프로그래밍 언어 점수를 입력하세요.\"))\n",
    "s5 = int(input(\"정보시스템 구축관리 점수를 입력하세요.\"))\n",
    "\n",
    "lis = [s1, s2, s3, s4, s5]\n",
    "count = 0\n",
    "avg = (s1+s2+s3+s4+s5)/5 #평균 계산\n",
    "\n",
    "while i in len(lis):# 5가지 입력에 대하여 i를 각자에 대하여 비교\n",
    "    if 0 <= i <= 100:\n",
    "        if avg >= 60: # 평균 60점 이상일 경우\n",
    "            print(\"합격\")\n",
    "            break\n",
    "        else:\n",
    "            print(\"불합격\") # 평균 60점 미만일 경우\n",
    "            break\n",
    "    else:\n",
    "        print(\"잘못된 입력입니다.\")\n",
    "        break\n",
    "    count += 1"
   ]
  },
  {
   "cell_type": "code",
   "execution_count": null,
   "id": "e162cc62-9583-4745-b1cf-fc6785c578b3",
   "metadata": {},
   "outputs": [],
   "source": [
    "### while True:\n",
    "    a = int(input(\"값을 입력\"))\n",
    "    b = int(input(\"값을 입력\"))\n",
    "    c = int(input(\"값을 입력\"))\n",
    "    if -1 < a < 101:\n",
    "        print(\"잘 입력\")\n",
    "        break\n",
    "    else:\n",
    "        print(\"재입력\")"
   ]
  }
 ],
 "metadata": {
  "kernelspec": {
   "display_name": "Python 3 (ipykernel)",
   "language": "python",
   "name": "python3"
  },
  "language_info": {
   "codemirror_mode": {
    "name": "ipython",
    "version": 3
   },
   "file_extension": ".py",
   "mimetype": "text/x-python",
   "name": "python",
   "nbconvert_exporter": "python",
   "pygments_lexer": "ipython3",
   "version": "3.9.13"
  }
 },
 "nbformat": 4,
 "nbformat_minor": 5
}

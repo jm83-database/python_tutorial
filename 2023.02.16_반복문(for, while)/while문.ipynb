{
 "cells": [
  {
   "cell_type": "code",
   "execution_count": 1,
   "id": "a7e0f030-47a2-4d7a-a474-0e8583c25277",
   "metadata": {},
   "outputs": [
    {
     "name": "stdout",
     "output_type": "stream",
     "text": [
      "Hello world!\n",
      "Hello world!\n",
      "Hello world!\n",
      "Hello world!\n",
      "Hello world!\n",
      "Hello world!\n",
      "Hello world!\n",
      "Hello world!\n",
      "Hello world!\n",
      "Hello world!\n"
     ]
    }
   ],
   "source": [
    "#while문은 조건식으로만 동작한다.\n",
    "#while문 실행 순서\n",
    "\n",
    "#while문 실행 순서\n",
    "#1. 조건식 판별\n",
    "#2. 조건식이 True인 동안 내내 while문의 바디를 실행\n",
    "#3. 조건식이 False가 되면 while문을 탈출\n",
    "\n",
    "i = 0                      # 초기식\n",
    "while i < 10:              #while 조건식\n",
    "    print(\"Hello world!\")  #반복할 코드\n",
    "    i += 1                 #변화식"
   ]
  },
  {
   "cell_type": "code",
   "execution_count": 2,
   "id": "55a36165-d3c3-48a3-ad00-1d776f5e107b",
   "metadata": {},
   "outputs": [
    {
     "name": "stdin",
     "output_type": "stream",
     "text": [
      "반복할 횟수를 입력하세요:  3\n"
     ]
    },
    {
     "name": "stdout",
     "output_type": "stream",
     "text": [
      "Hello world 3\n",
      "Hello world 2\n",
      "Hello world 1\n"
     ]
    }
   ],
   "source": [
    "count = int(input(\"반복할 횟수를 입력하세요: \"))\n",
    "#3이 입력값\n",
    "while count >0:\n",
    "    print(\"Hello world\", count)\n",
    "    count -=1"
   ]
  },
  {
   "cell_type": "code",
   "execution_count": 3,
   "id": "3207a955-f117-4dd7-a527-ebb5cd040259",
   "metadata": {},
   "outputs": [
    {
     "name": "stdout",
     "output_type": "stream",
     "text": [
      "2 \t4 \t6 \t8 \t10 \t12 \t14 \t16 \t18 \t20 \t22 \t24 \t26 \t28 \t30 \t32 \t34 \t36 \t38 \t40 \t42 \t44 \t46 \t48 \t50 \t52 \t54 \t56 \t58 \t60 \t62 \t64 \t66 \t68 \t70 \t72 \t74 \t76 \t78 \t80 \t82 \t84 \t86 \t88 \t90 \t92 \t94 \t96 \t98 \t100 \t"
     ]
    }
   ],
   "source": [
    "a = 0 # 초기값 \n",
    "while a < 100: # a가 100미만일때까지 반복\n",
    "    a += 2 # 초기값0에서 2씩 추가함\n",
    "    print(a, \"\\t\", end = \"\")"
   ]
  },
  {
   "cell_type": "code",
   "execution_count": 4,
   "id": "519dd835-d363-4c5a-8dd5-4e942b962d3b",
   "metadata": {},
   "outputs": [
    {
     "name": "stdout",
     "output_type": "stream",
     "text": [
      "0 \t2 \t4 \t6 \t8 \t10 \t12 \t14 \t16 \t18 \t20 \t22 \t24 \t26 \t28 \t30 \t32 \t34 \t36 \t38 \t40 \t42 \t44 \t46 \t48 \t50 \t52 \t54 \t56 \t58 \t60 \t62 \t64 \t66 \t68 \t70 \t72 \t74 \t76 \t78 \t80 \t82 \t84 \t86 \t88 \t90 \t92 \t94 \t96 \t98 \t100 \t"
     ]
    }
   ],
   "source": [
    "a = 0\n",
    "while a < 102:\n",
    "    print(a, \"\\t\", end = \"\")\n",
    "    a += 2 # 0부터 출력 이후에 2씩 추가"
   ]
  },
  {
   "cell_type": "code",
   "execution_count": 5,
   "id": "498e8877-ee7e-4fe6-a897-403d4aa30711",
   "metadata": {},
   "outputs": [
    {
     "name": "stdout",
     "output_type": "stream",
     "text": [
      "2\t4\t6\t8\t10\t12\t14\t16\t18\t20\t22\t24\t26\t28\t30\t32\t34\t36\t38\t40\t42\t44\t46\t48\t50\t52\t54\t56\t58\t60\t62\t64\t66\t68\t70\t72\t74\t76\t78\t80\t82\t84\t86\t88\t90\t92\t94\t96\t98\t100\t"
     ]
    }
   ],
   "source": [
    "i = 1\n",
    "while i <= 50:\n",
    "    print(i*2, end = \"\\t\")#짝수이기에 2를 i에 곱해서 가능하다.\n",
    "    i += 1 "
   ]
  },
  {
   "cell_type": "code",
   "execution_count": 6,
   "id": "6457c2fb-0df8-4e75-a794-06535030126b",
   "metadata": {},
   "outputs": [
    {
     "name": "stdin",
     "output_type": "stream",
     "text": [
      "구구단을 알려드립니다. 숫자를 입력하세요 4\n"
     ]
    },
    {
     "name": "stdout",
     "output_type": "stream",
     "text": [
      "4 * 1 = 4\n",
      "4 * 2 = 8\n",
      "4 * 3 = 12\n",
      "4 * 4 = 16\n",
      "4 * 5 = 20\n",
      "4 * 6 = 24\n",
      "4 * 7 = 28\n",
      "4 * 8 = 32\n",
      "4 * 9 = 36\n"
     ]
    }
   ],
   "source": [
    "#while문으로 구구단\n",
    "n = int(input(\"구구단을 알려드립니다. 숫자를 입력하세요\"))\n",
    "i = 1\n",
    "#입력값은 4\n",
    "while i<10:\n",
    "    print(f\"{n} * {i} = {n*i}\")\n",
    "    i+=1"
   ]
  },
  {
   "cell_type": "code",
   "execution_count": 7,
   "id": "bf417aac-6a32-44cb-8233-07e1eef2f547",
   "metadata": {},
   "outputs": [
    {
     "name": "stdout",
     "output_type": "stream",
     "text": [
      "97\n",
      "100\n",
      "77\n"
     ]
    }
   ],
   "source": [
    "scores = (97,100,77)\n",
    "# scores라는 tuple 생성\n",
    "\n",
    "#인덱싱을 할 때는 정확한 범위의 인덱스에 접근해야 한다.\n",
    "for _ in range(len(scores)): # _가 tuple의 길이만큼 증가\n",
    "    print(scores[_]) # scores[]인덱스에 해당하는 요소 출력 = 인덱싱"
   ]
  },
  {
   "cell_type": "code",
   "execution_count": 8,
   "id": "0eee9fad-b8e3-4cc7-a441-42e68ed9c081",
   "metadata": {},
   "outputs": [
    {
     "name": "stdout",
     "output_type": "stream",
     "text": [
      "97\n",
      "100\n",
      "77\n"
     ]
    }
   ],
   "source": [
    "scores = (97,100,77)\n",
    "i = 0 #초기값 0 설정\n",
    "\n",
    "while i < len(scores): #i가 tuple의 길이만큼 증가\n",
    "    print(scores[i]) #scores[]인덱스에 해당하는 요소 출력 = 인덱싱\n",
    "    i += 1 # i가 1씩 증가"
   ]
  }
 ],
 "metadata": {
  "kernelspec": {
   "display_name": "Python 3 (ipykernel)",
   "language": "python",
   "name": "python3"
  },
  "language_info": {
   "codemirror_mode": {
    "name": "ipython",
    "version": 3
   },
   "file_extension": ".py",
   "mimetype": "text/x-python",
   "name": "python",
   "nbconvert_exporter": "python",
   "pygments_lexer": "ipython3",
   "version": "3.9.13"
  }
 },
 "nbformat": 4,
 "nbformat_minor": 5
}

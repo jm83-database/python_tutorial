{
 "cells": [
  {
   "cell_type": "code",
   "execution_count": 1,
   "id": "896a2e89-6304-44c6-9e51-c6a48fa2b983",
   "metadata": {},
   "outputs": [
    {
     "name": "stdout",
     "output_type": "stream",
     "text": [
      "<class 'dict'>\n",
      "{'key': 'value'}\n"
     ]
    }
   ],
   "source": [
    "# Dictionary 자료형(Dictionary type)은 비 시퀀스 자료\n",
    "\n",
    "# dictionary 구조\n",
    "# key-value pair로 구성, 형태: {key : value}, 인덱스가 존재하지 않고 키가 대체함\n",
    "\n",
    "\n",
    "\n",
    "#iterable 자료의 형태\n",
    "# () → tuple \n",
    "# [] → list 리스트랑 튜플은 시퀀스 자료형(인덱스가 존재)\n",
    "# {} → dictionary(key : value), set(key) → 비 시퀀스 자료형(인덱스X, 대신 key값 존재)\n",
    "# 3.6 ptyhon 이후에는 dictionary도 시퀀스자료형으로 변경(빠른 연산을 위해)\n",
    "\n",
    "\n",
    "dic_var = {\"key\" : \"value\"} # key는 고유값이므로 중복하면 안 된다.\n",
    "print(type(dic_var))\n",
    "print(dic_var)\n",
    "\n",
    "# dictionary_variable = {key:value, key:value, ...}"
   ]
  },
  {
   "cell_type": "code",
   "execution_count": 2,
   "id": "bc8031fa-eae7-4689-b9bf-985224393270",
   "metadata": {},
   "outputs": [
    {
     "name": "stdout",
     "output_type": "stream",
     "text": [
      "{'key': 'last value'}\n"
     ]
    }
   ],
   "source": [
    "dic_var = {\"key\" : \"value\", \"key\" : \"last value\"} \n",
    "print(dic_var) # key값이 중복되면 마지막 value만 출력된다."
   ]
  },
  {
   "cell_type": "code",
   "execution_count": 3,
   "id": "dbe3fce1-dab3-4650-b4a1-6fecfdf6de46",
   "metadata": {},
   "outputs": [
    {
     "name": "stdout",
     "output_type": "stream",
     "text": [
      "[<class 'str'>, <class 'int'>, <class 'float'>, <class 'tuple'>]\n"
     ]
    }
   ],
   "source": [
    "# key 값으로 문자열(str), 정수(int), 실수(float), 불(bool), 튜플(tuple) 사용가능\n",
    "# key에 자료형을 섞어서 사용 가능\n",
    "# 단, 리스트(list), 딕셔너리(dictionary), 집합(set)을 사용할 수 없다.\n",
    "# key값은 고유한 값을 가져야 한다.(인덱스에 겹치는 숫자가 없듯이)\n",
    "\n",
    "dic_var = {\"key\":\"value\", 1: \"value2\", 1.1 : \"value3\", True: \"value4\", (\"key\", 1, 1.1, True): \"value5\"}\n",
    "print(list(map(type, dic_var.keys())))"
   ]
  },
  {
   "cell_type": "code",
   "execution_count": 4,
   "id": "f558b829-09d0-4578-b0ed-7994147f7725",
   "metadata": {},
   "outputs": [
    {
     "name": "stdout",
     "output_type": "stream",
     "text": [
      "[<class 'str'>, <class 'bool'>, <class 'float'>, <class 'tuple'>, <class 'list'>, <class 'dict'>, <class 'set'>]\n"
     ]
    }
   ],
   "source": [
    "# value값은 모든 자료형 사용 가능\n",
    "dic_var = {\"key\":\"value\",\n",
    "           1 : 1, 1.1 : 1.1,\n",
    "           True : False,\n",
    "           (\"key\", 1, 1.1, True) : (\"key\", 1, 1.1, True),\n",
    "           \"list\" : [1, '가', 1.1, True,(1, '나')],\n",
    "           \"dict\" : {\"key\":\"value\", \"key2\":\"value2\"},\n",
    "           \"set\" : {\"key\", \"value\"}\n",
    "          }\n",
    "print(list(map(type,dic_var.values())))"
   ]
  },
  {
   "cell_type": "code",
   "execution_count": 5,
   "id": "0125b70b-e8cb-4852-b52c-ca9d2f268f71",
   "metadata": {},
   "outputs": [
    {
     "name": "stdout",
     "output_type": "stream",
     "text": [
      "dict_keys(['key', 1, 1.1, ('key', 1, 1.1, True), 'list', 'dict', 'set'])\n",
      "dict_values(['value', False, 1.1, ('key', 1, 1.1, True), [1, '가', 1.1, True, (1, '나')], {'key': 'value', 'key2': 'value2'}, {'key', 'value'}])\n"
     ]
    }
   ],
   "source": [
    "print(dic_var.keys()) # key값 출력\n",
    "print(dic_var.values()) # value값 출력"
   ]
  },
  {
   "cell_type": "code",
   "execution_count": 6,
   "id": "bba63816-b6a4-4b71-a18e-e9480ed99d87",
   "metadata": {},
   "outputs": [
    {
     "name": "stdout",
     "output_type": "stream",
     "text": [
      "{}\n",
      "<class 'dict'>\n"
     ]
    }
   ],
   "source": [
    "# 빈 딕셔너리 생성\n",
    "empty_dict = {}\n",
    "print(empty_dict)\n",
    "print(type(empty_dict))"
   ]
  },
  {
   "cell_type": "code",
   "execution_count": 7,
   "id": "e7e959ec-7707-4a20-b994-b75a3566a491",
   "metadata": {},
   "outputs": [
    {
     "name": "stdout",
     "output_type": "stream",
     "text": [
      "{}\n",
      "<class 'dict'>\n"
     ]
    }
   ],
   "source": [
    "empty_dict = dict()\n",
    "print(empty_dict)\n",
    "print(type(empty_dict))"
   ]
  },
  {
   "cell_type": "code",
   "execution_count": 8,
   "id": "79093ecb-c11d-405b-b265-aa8084b176a5",
   "metadata": {},
   "outputs": [],
   "source": [
    "# dictionary는 a= {}꼴로도 빈 딕셔너리가 생성되지만,\n",
    "# set은 dictionary와의 중복을 피하기 위해 생성이 안 된다.\n",
    "\n",
    "# ex. dictionary = {} → dictionary\n",
    "# set = {} → dictionary\n",
    "# dict() → dictionary\n",
    "# set() → set"
   ]
  },
  {
   "cell_type": "code",
   "execution_count": 9,
   "id": "0808fc91-8c5a-4ee4-a0ed-7f1f4e952231",
   "metadata": {},
   "outputs": [
    {
     "name": "stdout",
     "output_type": "stream",
     "text": [
      "{'key': 'value', 'key2': 'value2', 'key3': 'value3'}\n"
     ]
    }
   ],
   "source": [
    "# dict()함수로 생성하기\n",
    "# dict() 함수에 인자값을 활용하면 딕셔너리 생성 가능\n",
    "# 함수에 사용하는 키워드 인자의 키워드 부분은 변수명처럼 따옴표('',\"\")를 사용하지 않음\n",
    "dict_a = dict(key = \"value\", key2 = \"value2\", key3 = \"value3\")\n",
    "# dict()함수에서 key를 변수처럼 입력하지만 출력은 str로 key값을 출력\n",
    "print(dict_a)"
   ]
  },
  {
   "cell_type": "code",
   "execution_count": 10,
   "id": "65b805f6-9981-42b2-8051-e1784c6a5cce",
   "metadata": {},
   "outputs": [
    {
     "data": {
      "text/plain": [
       "{'key': 'value', 'key2': 'value2'}"
      ]
     },
     "execution_count": 10,
     "metadata": {},
     "output_type": "execute_result"
    }
   ],
   "source": [
    "# dict()함수와 시퀀스 객체로 생성하기\n",
    "dict([(\"key\", \"value\"),(\"key2\", \"value2\")]) "
   ]
  },
  {
   "cell_type": "code",
   "execution_count": 11,
   "id": "14419111-3dba-4065-be63-66921ae98434",
   "metadata": {},
   "outputs": [
    {
     "name": "stdout",
     "output_type": "stream",
     "text": [
      "{'key': 'value', 'key2': 'value2', 'key3': 'value3'}\n"
     ]
    }
   ],
   "source": [
    "# dict()함수와 zip() 함수로 셍성\n",
    "dict_b = dict(zip([\"key\", \"key2\", \"key3\"], [\"value\", \"value2\", \"value3\"]))\n",
    "# zip()함수는 구성하는 요소들의 같은 위치에 있는 것을 묶어준다.\n",
    "print(dict_b)"
   ]
  },
  {
   "cell_type": "code",
   "execution_count": 12,
   "id": "5b015b21-3bc9-4700-8a0f-a2f8b98e58e7",
   "metadata": {},
   "outputs": [
    {
     "name": "stdout",
     "output_type": "stream",
     "text": [
      "<zip object at 0x00000282B69AF600>\n"
     ]
    }
   ],
   "source": [
    "print(zip([\"key\", \"key2\", \"key3\"],[\"value\", \"value2\", \"value3\"]))"
   ]
  },
  {
   "cell_type": "code",
   "execution_count": 13,
   "id": "da3283c3-4bce-4ecb-b9ef-f6e1630b5a71",
   "metadata": {},
   "outputs": [
    {
     "data": {
      "text/plain": [
       "[('key', 'value'), ('key2', 'value2'), ('key3', 'value3')]"
      ]
     },
     "execution_count": 13,
     "metadata": {},
     "output_type": "execute_result"
    }
   ],
   "source": [
    "[_ for _ in zip([\"key\", \"key2\", \"key3\"],[\"value\", \"value2\", \"value3\"])]"
   ]
  },
  {
   "cell_type": "code",
   "execution_count": 14,
   "id": "eac65938-2bf7-4f0b-9330-c47d8f74f6ac",
   "metadata": {},
   "outputs": [
    {
     "name": "stdout",
     "output_type": "stream",
     "text": [
      "('key', 'value')\n",
      "('key2', 'value2')\n",
      "('key3', 'value3')\n"
     ]
    }
   ],
   "source": [
    "key = (\"key\", \"key2\", \"key3\")\n",
    "value = (\"value\", \"value2\", \"value3\")\n",
    "\n",
    "for index in range(len(key)):\n",
    "    print((key[index], value[index]))\n"
   ]
  },
  {
   "cell_type": "code",
   "execution_count": 15,
   "id": "a00b38d2-de84-482f-a389-120b207aa22a",
   "metadata": {},
   "outputs": [
    {
     "name": "stdout",
     "output_type": "stream",
     "text": [
      "{'key': 'value', 'key2': 'value2', 'key3': 'value3'}\n",
      "value\n"
     ]
    }
   ],
   "source": [
    "# key로 value에 접근하기\n",
    "print(dict_b)\n",
    "print(dict_b['key'])"
   ]
  },
  {
   "cell_type": "code",
   "execution_count": 16,
   "id": "4f9c22fb-edff-4469-9427-afc6ef2c48c2",
   "metadata": {},
   "outputs": [
    {
     "name": "stdout",
     "output_type": "stream",
     "text": [
      "{'key': 'value', 'key2': 'value2', 'key3': 'value3'}\n",
      "{'key': 'super value', 'key2': 'value2', 'key3': 'value3'}\n"
     ]
    }
   ],
   "source": [
    "# key로 value 변경\n",
    "print(dict_b)\n",
    "dict_b['key'] = \"super value\" # key라는 키의 value에 super value로 변경\n",
    "print(dict_b)"
   ]
  },
  {
   "cell_type": "code",
   "execution_count": 17,
   "id": "d55fd045-9967-4793-8aa9-7e1d2c0994c6",
   "metadata": {},
   "outputs": [
    {
     "name": "stdout",
     "output_type": "stream",
     "text": [
      "{'key': 'super value', 'key2': 'value2', 'key3': 'value3'}\n",
      "{'key': 'super value', 'key2': 'value2', 'key3': 'value3', 'new one': 'new value'}\n"
     ]
    }
   ],
   "source": [
    "# key와 value 추가\n",
    "print(dict_b)\n",
    "dict_b['new one'] = \"new value\" # key-value pair를 새로 추가\n",
    "print(dict_b)"
   ]
  },
  {
   "cell_type": "code",
   "execution_count": 18,
   "id": "7425175c-74dd-418c-8e40-beda9dfad9d9",
   "metadata": {},
   "outputs": [
    {
     "name": "stdout",
     "output_type": "stream",
     "text": [
      "{'key': 'super value', 'key2': 'value2', 'key3': 'value3', 'new one': 'new value'}\n"
     ]
    },
    {
     "ename": "KeyError",
     "evalue": "'없는 키'",
     "output_type": "error",
     "traceback": [
      "\u001b[1;31m---------------------------------------------------------------------------\u001b[0m",
      "\u001b[1;31mKeyError\u001b[0m                                  Traceback (most recent call last)",
      "\u001b[1;32m~\\AppData\\Local\\Temp\\ipykernel_13456\\1541798447.py\u001b[0m in \u001b[0;36m<module>\u001b[1;34m\u001b[0m\n\u001b[0;32m      1\u001b[0m \u001b[1;31m# key값이 없을 경우\u001b[0m\u001b[1;33m\u001b[0m\u001b[1;33m\u001b[0m\u001b[0m\n\u001b[0;32m      2\u001b[0m \u001b[0mprint\u001b[0m\u001b[1;33m(\u001b[0m\u001b[0mdict_b\u001b[0m\u001b[1;33m)\u001b[0m\u001b[1;33m\u001b[0m\u001b[1;33m\u001b[0m\u001b[0m\n\u001b[1;32m----> 3\u001b[1;33m \u001b[0mprint\u001b[0m\u001b[1;33m(\u001b[0m\u001b[0mdict_b\u001b[0m\u001b[1;33m[\u001b[0m\u001b[1;34m'없는 키'\u001b[0m\u001b[1;33m]\u001b[0m\u001b[1;33m)\u001b[0m \u001b[1;31m# 아래 에러 코드를 보면 KeyError 발생\u001b[0m\u001b[1;33m\u001b[0m\u001b[1;33m\u001b[0m\u001b[0m\n\u001b[0m",
      "\u001b[1;31mKeyError\u001b[0m: '없는 키'"
     ]
    }
   ],
   "source": [
    "# key값이 없을 경우\n",
    "print(dict_b)\n",
    "print(dict_b['없는 키']) # 아래 에러 코드를 보면 KeyError 발생"
   ]
  },
  {
   "cell_type": "code",
   "execution_count": 19,
   "id": "14ab20b9-4b1b-4e1e-b1c7-a0a4ec5180cb",
   "metadata": {},
   "outputs": [
    {
     "name": "stdout",
     "output_type": "stream",
     "text": [
      "{'key': 'super value', 'key2': 'value2', 'key3': 'value3', 'new one': 'new value'}\n",
      "True\n"
     ]
    }
   ],
   "source": [
    "# 특정 키가 dictionary 자료형에 있나 확인\n",
    "\n",
    "print(dict_b)\n",
    "print('key' in dict_b) # value값을 보고 싶을 때 찾을 값 in dict_b.values() 꼴로 검색\n",
    "\n",
    "# 위 상태에서는 동일한 key 값이어야만 조회가 가능\n",
    "# 만약 부분 탐지를 하고 싶다면\n",
    "# dict.keys()를 한 상태에서\n",
    "# 그 내부에서 str에 대하여 'ke' in ?로 하면 부분 탐색이 가능 "
   ]
  },
  {
   "cell_type": "code",
   "execution_count": 20,
   "id": "d85aba20-8e11-4cce-b5c3-f4e9f5b71c9a",
   "metadata": {},
   "outputs": [
    {
     "name": "stdout",
     "output_type": "stream",
     "text": [
      "{'key': 'super value', 'key2': 'value2', 'key3': 'value3', 'new one': 'new value'}\n",
      "{'key': 'super value', 'key2': 'value2', 'key3': 'value3'}\n"
     ]
    }
   ],
   "source": [
    "# 특정 키와 값의 쌍을 삭제하기\n",
    "print(dict_b)\n",
    "del dict_b['new one'] # del을 쓰면 'new one'의 key-value pair가 삭제\n",
    "print(dict_b)"
   ]
  },
  {
   "cell_type": "code",
   "execution_count": 21,
   "id": "f8cb7dde-5bbc-481e-b250-62ee8df26a48",
   "metadata": {},
   "outputs": [
    {
     "name": "stdout",
     "output_type": "stream",
     "text": [
      "{'key': 'super value', 'key2': 'value2', 'key3': 'value3'}\n"
     ]
    },
    {
     "data": {
      "text/plain": [
       "3"
      ]
     },
     "execution_count": 21,
     "metadata": {},
     "output_type": "execute_result"
    }
   ],
   "source": [
    "# key-value pair 개수 구하기\n",
    "print(dict_b)\n",
    "len(dict_b) # key_value pair 개수 표시"
   ]
  }
 ],
 "metadata": {
  "kernelspec": {
   "display_name": "Python 3 (ipykernel)",
   "language": "python",
   "name": "python3"
  },
  "language_info": {
   "codemirror_mode": {
    "name": "ipython",
    "version": 3
   },
   "file_extension": ".py",
   "mimetype": "text/x-python",
   "name": "python",
   "nbconvert_exporter": "python",
   "pygments_lexer": "ipython3",
   "version": "3.9.13"
  }
 },
 "nbformat": 4,
 "nbformat_minor": 5
}

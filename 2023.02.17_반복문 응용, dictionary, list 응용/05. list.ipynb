{
 "cells": [
  {
   "cell_type": "code",
   "execution_count": 1,
   "id": "6080f657-63d2-43ba-bc4b-bfbb79da2d67",
   "metadata": {},
   "outputs": [
    {
     "name": "stdout",
     "output_type": "stream",
     "text": [
      "<class 'list'>\n",
      "[48, 48, 33, 95]\n"
     ]
    }
   ],
   "source": [
    "# 리스트 생성 방법\n",
    "# list_a = []\n",
    "# 콤마(,)로 요소 여럿 작성 가능\n",
    "# list 자료형은 class 'list' ← list 클래스로 만들어진 객체이다.\n",
    "\n",
    "list_a = [48, 48, 33, 95]\n",
    "print(type(list_a))\n",
    "print(list_a)"
   ]
  },
  {
   "cell_type": "code",
   "execution_count": 2,
   "id": "10fbb855-d715-4be9-8756-2813a8d9ef89",
   "metadata": {},
   "outputs": [
    {
     "name": "stdout",
     "output_type": "stream",
     "text": [
      "<class 'list'>\n",
      "[]\n"
     ]
    }
   ],
   "source": [
    "empty_list= [] # list의 기본 형태\n",
    "print(type(empty_list))\n",
    "print(empty_list)"
   ]
  },
  {
   "cell_type": "code",
   "execution_count": 3,
   "id": "62703cbb-98cc-4e8e-a2c7-8899ca21df0c",
   "metadata": {},
   "outputs": [
    {
     "name": "stdout",
     "output_type": "stream",
     "text": [
      "<class 'list'>\n",
      "[]\n"
     ]
    }
   ],
   "source": [
    "empty_list1 = list() # list()함수 사용\n",
    "print(type(empty_list1))\n",
    "print(empty_list1)"
   ]
  },
  {
   "cell_type": "code",
   "execution_count": 4,
   "id": "054dbfb7-9863-477b-abfb-f88202c9e72d",
   "metadata": {},
   "outputs": [
    {
     "data": {
      "text/plain": [
       "[0, 1, 4, 9, 16, 25, 36, 49, 64, 81]"
      ]
     },
     "execution_count": 4,
     "metadata": {},
     "output_type": "execute_result"
    }
   ],
   "source": [
    "# list comprehension\n",
    "# list_a = [expresseion for i in list(range())]\n",
    "# while문은 list comprehension을 하려면 def(함수) 지정 후 불러와야 한다.\n",
    "[i**2 for i in list(range(10))]"
   ]
  },
  {
   "cell_type": "code",
   "execution_count": 5,
   "id": "a9f6a7c8-0855-4f64-b406-17976aec46e1",
   "metadata": {},
   "outputs": [],
   "source": [
    "# list comprehension 동작 순서\n",
    "# 1. 반복 가능한 객체(iterable)로부터 값을 하나 꺼내와서 변수에 담는다.\n",
    "# 2. 요소를 담은 변수를 활용해서 표현식(expression)을 실행\n",
    "#    (이때 변수는 활용할 수도 있고 활용하지 않을 수도 있다.)\n",
    "# 3. 표현식 결과 값을 리스트 요소에 넣는다.\n",
    "# 4. 반복 가능한 객체(iterable)로부터 값이 얻어질 때까지 1~3 과정 반복"
   ]
  },
  {
   "cell_type": "code",
   "execution_count": 6,
   "id": "d915b53a-4566-4124-b382-f837efce67e9",
   "metadata": {},
   "outputs": [
    {
     "name": "stdout",
     "output_type": "stream",
     "text": [
      "[1, 2, 3, 4, 5, 6, 7, 8, 9]\n"
     ]
    }
   ],
   "source": [
    "list_c = [i for i in range(1, 10)]\n",
    "print(list_c)"
   ]
  },
  {
   "cell_type": "code",
   "execution_count": 7,
   "id": "1366b869-7786-431a-a99d-91219fff30bc",
   "metadata": {},
   "outputs": [
    {
     "name": "stdout",
     "output_type": "stream",
     "text": [
      "<class 'list'>\n",
      "[1, 4, 9, 16, 25, 36, 49, 64, 81]\n"
     ]
    }
   ],
   "source": [
    "prac_result = [i**2 for i in range(1,10)]\n",
    "\n",
    "print(type(prac_result))\n",
    "print(prac_result)"
   ]
  },
  {
   "cell_type": "code",
   "execution_count": 8,
   "id": "e8b72064-6fdc-4c12-8744-f6c733a63d64",
   "metadata": {},
   "outputs": [
    {
     "name": "stdout",
     "output_type": "stream",
     "text": [
      "[1, 3, 5, 7, 9]\n"
     ]
    }
   ],
   "source": [
    "prac_result2 = [i for i in range(1,10,2)]\n",
    "print(prac_result2)"
   ]
  },
  {
   "cell_type": "code",
   "execution_count": 9,
   "id": "db4d4a0c-8156-4166-942d-493cefb6a67b",
   "metadata": {},
   "outputs": [
    {
     "name": "stdout",
     "output_type": "stream",
     "text": [
      "[1, 3, 5, 7, 9]\n"
     ]
    }
   ],
   "source": [
    "prac_result2 = [i for i in range(1,10) if i%2 == 1]\n",
    "# 리스트 컴프리헨션에서 조건이 있을 때 오른쪽에 붙인다.\n",
    "print(prac_result2)"
   ]
  },
  {
   "cell_type": "code",
   "execution_count": 10,
   "id": "ceee0887-b7d1-4569-837a-7dcb58debca1",
   "metadata": {},
   "outputs": [
    {
     "name": "stdout",
     "output_type": "stream",
     "text": [
      "['a', 'b', 'c', 'd', 'e', 'f', 'g', 'h', 'i', 'j', 'k', 'l', 'm', 'n', 'o', 'p', 'q', 'r', 's', 't', 'u', 'v', 'w', 'x', 'y', 'z']\n"
     ]
    }
   ],
   "source": [
    "# 간결한 코드\n",
    "\n",
    "prac_result3 = [i for i in 'abcdefghijklmnopqrstuvwxyz']\n",
    "print(prac_result3)"
   ]
  },
  {
   "cell_type": "code",
   "execution_count": 11,
   "id": "b102da05-01cb-4641-b1ed-af630ea2dcc6",
   "metadata": {},
   "outputs": [
    {
     "name": "stdout",
     "output_type": "stream",
     "text": [
      "['a', 'b', 'c', 'd', 'e', 'f', 'g', 'h', 'i', 'j', 'k', 'l', 'm', 'n', 'o', 'p', 'q', 'r', 's', 't', 'u', 'v', 'w', 'x', 'y', 'z']\n"
     ]
    }
   ],
   "source": [
    "# 복잡한 코드\n",
    "\n",
    "lis = \"abcdefghijklmnopqrstuvwxyz\"\n",
    "prac_result3 = [lis[i] for i in range(len(lis))]\n",
    "print(prac_result3)"
   ]
  },
  {
   "cell_type": "code",
   "execution_count": 12,
   "id": "b9ac2ec8-4088-4b82-966b-c79e3380968b",
   "metadata": {},
   "outputs": [
    {
     "name": "stdout",
     "output_type": "stream",
     "text": [
      "['2', '3', '4', '5', '6', '7', '8', '9', '10', 'J', 'Q', 'K', 'A']\n"
     ]
    }
   ],
   "source": [
    "prac_result4 = [str(i) for i in range(2,11)]  + [i for i in \"JQKA\"]\n",
    "print(prac_result4)"
   ]
  },
  {
   "cell_type": "code",
   "execution_count": 13,
   "id": "f5ca94bd-2507-4f8b-bf4a-8ce6a91aa18e",
   "metadata": {},
   "outputs": [
    {
     "name": "stdout",
     "output_type": "stream",
     "text": [
      "['2', '3', '4', '5', '6', '7', '8', '9', '10', 'J', 'Q', 'K', 'A']\n"
     ]
    }
   ],
   "source": [
    "prac_result4 = [str(i) for i in range(2, 11)]\n",
    "prac_result4.extend([i for i in 'JQKA'])\n",
    "print(prac_result4)"
   ]
  },
  {
   "cell_type": "code",
   "execution_count": 14,
   "id": "82ce81c2-7ba9-4aec-88b7-8f49b8dec931",
   "metadata": {},
   "outputs": [
    {
     "name": "stdout",
     "output_type": "stream",
     "text": [
      "[['2', '3', '4', '5', '6', '7', '8', '9', '10', 'J', 'Q', 'K', 'A'], ['2', '3', '4', '5', '6', '7', '8', '9', '10', 'J', 'Q', 'K', 'A'], ['2', '3', '4', '5', '6', '7', '8', '9', '10', 'J', 'Q', 'K', 'A'], ['2', '3', '4', '5', '6', '7', '8', '9', '10', 'J', 'Q', 'K', 'A']]\n"
     ]
    }
   ],
   "source": [
    "prac_result5 = [prac_result4 for i in range(4)]\n",
    "print(prac_result5)"
   ]
  },
  {
   "cell_type": "code",
   "execution_count": 15,
   "id": "560b3552-f6e7-4f86-a86d-0dcae383bb53",
   "metadata": {},
   "outputs": [
    {
     "name": "stdout",
     "output_type": "stream",
     "text": [
      "['two', '3', '4', '5', '6', '7', '8', '9', '10', 'J', 'Q', 'K', 'A']\n"
     ]
    }
   ],
   "source": [
    "# 리스트 요소 변경\n",
    "prac_result4[0] = 'two'\n",
    "print(prac_result4)"
   ]
  },
  {
   "cell_type": "code",
   "execution_count": 16,
   "id": "f6e28f8a-c839-4ef3-a0e9-2de58691c9b8",
   "metadata": {},
   "outputs": [
    {
     "name": "stdout",
     "output_type": "stream",
     "text": [
      "[['two', '3', '4', '5', '6', '7', '8', '9', '10', 'J', 'Q', 'K', 'A'], ['two', '3', '4', '5', '6', '7', '8', '9', '10', 'J', 'Q', 'K', 'A'], ['two', '3', '4', '5', '6', '7', '8', '9', '10', 'J', 'Q', 'K', 'A'], ['two', '3', '4', '5', '6', '7', '8', '9', '10', 'J', 'Q', 'K', 'A']]\n"
     ]
    }
   ],
   "source": [
    "print(prac_result5)"
   ]
  },
  {
   "cell_type": "code",
   "execution_count": 17,
   "id": "df971e59-8b23-4146-8515-1c674a350d5e",
   "metadata": {},
   "outputs": [
    {
     "name": "stdout",
     "output_type": "stream",
     "text": [
      "prac_result4의 id: 1354315533312\n",
      "prac_result5[0] : 1354315533312\n",
      "prac_result5[1] : 1354315533312\n",
      "prac_result5[2] : 1354315533312\n",
      "prac_result5[3] : 1354315533312\n"
     ]
    }
   ],
   "source": [
    "# 변수는 메모리 상에 고유의 주소를 갖게 된다.\n",
    "# id() 내장 함수\n",
    "# id()함수는 메모리의 주소값을 조회한다.\n",
    "# id()로 가져온 정수 값이 같다면 같은 객체이다.\n",
    "\n",
    "print(\"prac_result4의 id:\", id(prac_result4))\n",
    "\n",
    "for i, v in enumerate(prac_result5):\n",
    "# enumerate는 함수()내부의 것을 여러 군데에 동시 적용시키고 싶을 때 사용한다.\n",
    "    print(\"prac_result5[\", i, \"] : \", id(v), sep=\"\")"
   ]
  },
  {
   "cell_type": "code",
   "execution_count": 18,
   "id": "fb9d6ba6-e5f0-4ab1-b146-e7c6179a7d57",
   "metadata": {},
   "outputs": [
    {
     "name": "stdout",
     "output_type": "stream",
     "text": [
      "[0, 1, 2, 3, 4, 5, 6, 7, 8, 9]\n"
     ]
    }
   ],
   "source": [
    "test = [i for i in range(10)]\n",
    "print(test)"
   ]
  },
  {
   "cell_type": "code",
   "execution_count": 19,
   "id": "739b52b1-962a-4c69-a979-599590a499c0",
   "metadata": {},
   "outputs": [
    {
     "data": {
      "text/plain": [
       "[0, 1, 2, 3, 4, 5, 6, 7, 8, 9]"
      ]
     },
     "execution_count": 19,
     "metadata": {},
     "output_type": "execute_result"
    }
   ],
   "source": [
    "test"
   ]
  },
  {
   "cell_type": "code",
   "execution_count": 20,
   "id": "2dcbba7d-5134-4275-9337-f4f5b13b2ca7",
   "metadata": {},
   "outputs": [
    {
     "data": {
      "text/plain": [
       "[0, 1, 2, 3, 4, 5, 6, 7, 8, 9]"
      ]
     },
     "execution_count": 20,
     "metadata": {},
     "output_type": "execute_result"
    }
   ],
   "source": [
    "test[:]"
   ]
  },
  {
   "cell_type": "code",
   "execution_count": 21,
   "id": "5ba46890-702c-480d-8578-f38a4e1490ef",
   "metadata": {},
   "outputs": [
    {
     "name": "stdout",
     "output_type": "stream",
     "text": [
      "(0, 1, 2, 3, 4, 5, 6, 7, 8, 9)\n"
     ]
    }
   ],
   "source": [
    "test2 = tuple(test)\n",
    "print(test2)"
   ]
  },
  {
   "cell_type": "code",
   "execution_count": 22,
   "id": "ed988bed-5aa1-4c32-acd3-2b3261eff7e8",
   "metadata": {},
   "outputs": [
    {
     "data": {
      "text/plain": [
       "(0, 1)"
      ]
     },
     "execution_count": 22,
     "metadata": {},
     "output_type": "execute_result"
    }
   ],
   "source": [
    "test2[:2] # tuple을 슬라이싱하면 tuple이 불변이므로 새로운 tuple을 생성"
   ]
  },
  {
   "cell_type": "code",
   "execution_count": 23,
   "id": "a5323940-6d0b-477c-a11a-771d667c7cf5",
   "metadata": {},
   "outputs": [],
   "source": [
    "# 리스트 변수[:] → 새로운 객체를 만들어 반환한다.\n",
    "\n",
    "# mutable(가변) = list, dictionary\n",
    "# immutable(불변) = str, tuple, range 등"
   ]
  },
  {
   "cell_type": "code",
   "execution_count": 24,
   "id": "9c503462-c1c1-4e76-9255-4a6992d4bb0b",
   "metadata": {},
   "outputs": [
    {
     "name": "stdout",
     "output_type": "stream",
     "text": [
      "prac_result4의 id: 1354315533312\n",
      "prac_result6[0] : 1354315540800\n",
      "prac_result6[1] : 1354315417216\n",
      "prac_result6[2] : 1354315699008\n",
      "prac_result6[3] : 1354315487424\n"
     ]
    }
   ],
   "source": [
    "# 슬라이싱은 새로운 객체를 만든다.\n",
    "prac_result6 = [prac_result4[:] for _ in range(4)]\n",
    "\n",
    "print(\"prac_result4의 id:\", id(prac_result4))\n",
    "for i, v in enumerate(prac_result6):\n",
    "    print(\"prac_result6[\", i, \"] : \", id(v), sep=\"\")\n",
    "# 아래 실행결과를 보면  id값이 다르므로 새로운 객체가 만들어졌다는 것을 알 수 있다."
   ]
  },
  {
   "cell_type": "code",
   "execution_count": 25,
   "id": "645ef505-17f2-466f-9c39-5feccc40189b",
   "metadata": {},
   "outputs": [
    {
     "name": "stdout",
     "output_type": "stream",
     "text": [
      "old_list: [0, 1, 2, 3, 4, 5, 6, 7, 8, 9]\n",
      "new_list: [0, 1, 2, 3, 4, 5, 6, 7, 8, 9]\n",
      "old_list id: 1354315701888\n",
      "new_list id: 1354315701632\n",
      "False\n",
      "True\n"
     ]
    }
   ],
   "source": [
    "#[1,2,3,4,5,6,7,8,9]\n",
    "old_list = list(range(10))\n",
    "new_list = old_list[:]\n",
    "\n",
    "print(\"old_list:\",old_list)\n",
    "print(\"new_list:\",new_list)\n",
    "print(\"old_list id:\",id(old_list))\n",
    "print(\"new_list id:\",id(new_list))\n",
    "\n",
    "# id() 함수의 결과를 비교한다.\n",
    "# is와 ==의 차이 :\n",
    "# is는 객체 참조(즉, 주소가 동일하면 True 출력)\n",
    "# 같은 객체이니 값도 당연히 같다.\n",
    "\n",
    "# ==는 값만 비교(다른 주소여도 겂이같다면 True 출력)\n",
    "\n",
    "\n",
    "print(old_list is new_list) \n",
    "\n",
    "print(old_list == new_list)"
   ]
  },
  {
   "cell_type": "code",
   "execution_count": 26,
   "id": "1b157f27-f688-4544-89cb-699a61cdeaf3",
   "metadata": {},
   "outputs": [
    {
     "name": "stdout",
     "output_type": "stream",
     "text": [
      "old_tuple: (0, 1, 2, 3, 4, 5, 6, 7, 8, 9)\n",
      "new_tuple: (0, 1, 2, 3, 4, 5, 6, 7, 8, 9)\n",
      "old_tuple id: 1354315349568\n",
      "new_tuple id: 1354315349568\n",
      "True\n",
      "True\n"
     ]
    }
   ],
   "source": [
    "#(1,2,3,4,5,6,7,8,9)\n",
    "# tuple은 불변이므로 슬라이싱을 해도 요소가 동일하다면 주소가 안 바뀐다.\n",
    "old_tuple = tuple(range(10))\n",
    "new_tuple = old_tuple[:]\n",
    "\n",
    "print(\"old_tuple:\",old_tuple)\n",
    "print(\"new_tuple:\",new_tuple)\n",
    "print(\"old_tuple id:\",id(old_tuple))\n",
    "print(\"new_tuple id:\",id(new_tuple))\n",
    "\n",
    "print(old_tuple is new_tuple) \n",
    "print(old_tuple == new_tuple)"
   ]
  },
  {
   "cell_type": "code",
   "execution_count": 27,
   "id": "64050d70-f5b4-4d7a-8f70-5150008ff00a",
   "metadata": {},
   "outputs": [
    {
     "name": "stdout",
     "output_type": "stream",
     "text": [
      "[0, 1, 8, 27, 64, 125, 216, 343, 512, 729]\n"
     ]
    }
   ],
   "source": [
    "# list()함수로 list comprehension\n",
    "list_d = list(i**3 for i in range(10))\n",
    "print(list_d)"
   ]
  },
  {
   "cell_type": "code",
   "execution_count": 28,
   "id": "5a9199f7-f60a-45b7-bf97-a27e64b81024",
   "metadata": {},
   "outputs": [],
   "source": [
    "# list()는 generator라서 list = []보다 많이 느리다.\n",
    "# 결국 list = []꼴로 comprehension 작성하는 것을 권장"
   ]
  },
  {
   "cell_type": "code",
   "execution_count": 29,
   "id": "bff1361e-8d56-4a25-ab8f-05781b9cad1f",
   "metadata": {},
   "outputs": [
    {
     "name": "stdout",
     "output_type": "stream",
     "text": [
      "[0, 1, 2, 3, 4, 5, 6, 7, 8, 9]\n"
     ]
    }
   ],
   "source": [
    "list_e = [i for i in range(10)]\n",
    "print(list_e)"
   ]
  },
  {
   "cell_type": "code",
   "execution_count": 30,
   "id": "1720b530-66a1-4fd7-afae-9a35d1465b7a",
   "metadata": {},
   "outputs": [
    {
     "name": "stdout",
     "output_type": "stream",
     "text": [
      "1354315536320\n",
      "1354315536320\n"
     ]
    }
   ],
   "source": [
    "list_f = list_e\n",
    "print(id(list_e))\n",
    "print(id(list_f)) # list가 복사가 되어서 주소가 동일하다."
   ]
  },
  {
   "cell_type": "code",
   "execution_count": 31,
   "id": "e5bc546f-affc-4de0-b57b-b654920d8c9f",
   "metadata": {},
   "outputs": [
    {
     "name": "stdout",
     "output_type": "stream",
     "text": [
      "['two', 1, 2, 3, 4, 5, 6, 7, 8, 9]\n",
      "['two', 1, 2, 3, 4, 5, 6, 7, 8, 9]\n",
      "1354315536320\n",
      "1354315536320\n",
      "True\n"
     ]
    }
   ],
   "source": [
    "list_e[0] = \"two\"\n",
    "print(list_e)\n",
    "print(list_f)\n",
    "\n",
    "print(id(list_e))\n",
    "print(id(list_f))\n",
    "print(list_e is list_f) "
   ]
  },
  {
   "cell_type": "code",
   "execution_count": 32,
   "id": "128f7ea2-8d04-45f7-9e62-bb4070217794",
   "metadata": {},
   "outputs": [
    {
     "name": "stdout",
     "output_type": "stream",
     "text": [
      "[0, 1, 2, 3, 4, 5, 6, 7, 8, 9]\n",
      "[0, 1, 2, 3, 4, 5, 6, 7, 8, 9]\n",
      "1354315727552\n",
      "1354315702144\n",
      "False\n"
     ]
    }
   ],
   "source": [
    "# copy메서드를 쓰면 새롭게 객체가 생성되어서 다른 주소를 갖는다.\n",
    "list_g = [i for i in range(10)]\n",
    "list_h = list_g.copy()\n",
    "print(list_g)\n",
    "print(list_h)\n",
    "print(id(list_g))\n",
    "print(id(list_h))\n",
    "print(list_g is list_h) "
   ]
  },
  {
   "cell_type": "code",
   "execution_count": 33,
   "id": "26d056f4-2f88-44d5-a796-6e00009aafec",
   "metadata": {},
   "outputs": [
    {
     "name": "stdout",
     "output_type": "stream",
     "text": [
      "[999, 1, 2, 3, 4, 5, 6, 7, 8, 9]\n",
      "[0, 1, 2, 3, 4, 5, 6, 7, 8, 9]\n"
     ]
    }
   ],
   "source": [
    "list_g[0] = 999\n",
    "print(list_g)\n",
    "print(list_h) # 다른 객체이므로 list_g가 바뀌어도 list_h는 그대로이다."
   ]
  },
  {
   "cell_type": "code",
   "execution_count": 34,
   "id": "664ef0b9-fe79-4d17-87f5-8ceaa0ce5cbc",
   "metadata": {},
   "outputs": [],
   "source": [
    "# 얕은 복사(Shallow Copy)\n",
    "# 리스트 내에 있는 값을 그대로 복사\n",
    "# 리스트 요소 중 메모리 주소를 담고 있는 참조 변수가 있으면 객체 주소만 복사\n",
    "# 리스트에 애스터리스크(*)를 사용하면 얕은 복사가 된다.\n",
    "# 즉 list_i[0]과 list_i[1]과 list_i[2]는 모두 같은 객체를 바라보는 요소를 갖는다.\n",
    "\n",
    "list_i = [[0]]*3"
   ]
  },
  {
   "cell_type": "code",
   "execution_count": 35,
   "id": "b144a837-5ca6-44ee-bbf6-7144581f7773",
   "metadata": {},
   "outputs": [
    {
     "name": "stdout",
     "output_type": "stream",
     "text": [
      "[[0], [0], [0]]\n"
     ]
    }
   ],
   "source": [
    "print(list_i)"
   ]
  },
  {
   "cell_type": "code",
   "execution_count": 36,
   "id": "26b4883d-0c09-4bea-8636-542dde29f3a6",
   "metadata": {},
   "outputs": [],
   "source": [
    "list_i[0][0] = 999"
   ]
  },
  {
   "cell_type": "code",
   "execution_count": 37,
   "id": "32c87380-bb52-4027-b780-06cd521859ff",
   "metadata": {},
   "outputs": [
    {
     "name": "stdout",
     "output_type": "stream",
     "text": [
      "[[999], [999], [999]]\n"
     ]
    }
   ],
   "source": [
    "print(list_i)"
   ]
  },
  {
   "cell_type": "code",
   "execution_count": 38,
   "id": "8465607e-c5fb-405b-890c-9c90dc6611a8",
   "metadata": {},
   "outputs": [
    {
     "data": {
      "text/plain": [
       "True"
      ]
     },
     "execution_count": 38,
     "metadata": {},
     "output_type": "execute_result"
    }
   ],
   "source": [
    "# 요소가 객체로 되어 있다면 메모리 주소만 복사하는 것이 얕은 복사\n",
    "\n",
    "list_i[0][0] is list_i[1][0]"
   ]
  },
  {
   "cell_type": "code",
   "execution_count": 39,
   "id": "e95ba7f3-d21d-49dd-8265-2f24d1f5ee40",
   "metadata": {},
   "outputs": [
    {
     "data": {
      "text/plain": [
       "True"
      ]
     },
     "execution_count": 39,
     "metadata": {},
     "output_type": "execute_result"
    }
   ],
   "source": [
    "list_i[1][0] is list_i[2][0]"
   ]
  },
  {
   "cell_type": "code",
   "execution_count": 40,
   "id": "33d89c36-5a0e-4a6e-acd2-d8147dfccf86",
   "metadata": {},
   "outputs": [
    {
     "data": {
      "text/plain": [
       "True"
      ]
     },
     "execution_count": 40,
     "metadata": {},
     "output_type": "execute_result"
    }
   ],
   "source": [
    "list_i[0][0] is list_i[2][0]"
   ]
  },
  {
   "cell_type": "code",
   "execution_count": 41,
   "id": "68f22a52-993d-4cda-994f-791147198d4e",
   "metadata": {},
   "outputs": [],
   "source": [
    "# 위 3가지는 모두 같은 객체"
   ]
  },
  {
   "cell_type": "code",
   "execution_count": 42,
   "id": "ad62891e-2be4-497d-8033-c1d51a68fbcb",
   "metadata": {},
   "outputs": [
    {
     "name": "stdout",
     "output_type": "stream",
     "text": [
      "True\n"
     ]
    }
   ],
   "source": [
    "# asterisk(*), 슬라이싱, copy()메서드를 통한 복사도 얕은 복사이다.\n",
    "\n",
    "# 슬라이싱으로 복사\n",
    "list_j = [[1,2], [3,4]]\n",
    "list_k = list_j[:]\n",
    "print(list_k[0] is list_j[0])"
   ]
  },
  {
   "cell_type": "code",
   "execution_count": 43,
   "id": "31703d04-1e38-4516-9461-87d8e3954715",
   "metadata": {},
   "outputs": [
    {
     "name": "stdout",
     "output_type": "stream",
     "text": [
      "[[1, 4], [3, 4]]\n",
      "[[1, 4], [3, 4]]\n"
     ]
    }
   ],
   "source": [
    "list_j[0][1] = 2**2\n",
    "print(list_j)\n",
    "print(list_k)"
   ]
  },
  {
   "cell_type": "code",
   "execution_count": 44,
   "id": "58bf1ddd-7c1e-4a8f-a67c-cb966489d6cc",
   "metadata": {},
   "outputs": [],
   "source": [
    "# copy() 메서드로 복사"
   ]
  },
  {
   "cell_type": "code",
   "execution_count": null,
   "id": "2592e2c0-c145-4672-b3ce-08a89d3e1548",
   "metadata": {},
   "outputs": [],
   "source": []
  },
  {
   "cell_type": "code",
   "execution_count": 45,
   "id": "f08a4cd4-2107-4b89-b3b2-e1f186ce553c",
   "metadata": {},
   "outputs": [],
   "source": [
    "# 깊은 복사(Deep Copy)\n",
    "# 리스트 내 요소가 메모리 주소를 담고 있는 객체더라도 객체를 완전하게 깊이에\n",
    "# 상관없이 다 새롭게 복사해서 생성\n",
    "\n",
    "# 전혀 다른 메모리 공간을 차지하는 완전한 리스트로 복사\n",
    "# 두 리스트 간에 값은 같으나(==) 객체는 완전히 다르다(is값은 False)"
   ]
  }
 ],
 "metadata": {
  "kernelspec": {
   "display_name": "Python 3 (ipykernel)",
   "language": "python",
   "name": "python3"
  },
  "language_info": {
   "codemirror_mode": {
    "name": "ipython",
    "version": 3
   },
   "file_extension": ".py",
   "mimetype": "text/x-python",
   "name": "python",
   "nbconvert_exporter": "python",
   "pygments_lexer": "ipython3",
   "version": "3.9.13"
  }
 },
 "nbformat": 4,
 "nbformat_minor": 5
}

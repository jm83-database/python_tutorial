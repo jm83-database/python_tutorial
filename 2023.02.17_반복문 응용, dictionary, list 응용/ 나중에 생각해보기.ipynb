{
 "cells": [
  {
   "cell_type": "code",
   "execution_count": 1,
   "id": "cb29ff47-9f83-4994-94f2-8500bc3caff6",
   "metadata": {},
   "outputs": [
    {
     "name": "stdin",
     "output_type": "stream",
     "text": [
      "a값을 입력 30\n"
     ]
    },
    {
     "name": "stdout",
     "output_type": "stream",
     "text": [
      "30\n"
     ]
    },
    {
     "name": "stdin",
     "output_type": "stream",
     "text": [
      "b값을 입력 40\n"
     ]
    },
    {
     "name": "stdout",
     "output_type": "stream",
     "text": [
      "40\n"
     ]
    },
    {
     "name": "stdin",
     "output_type": "stream",
     "text": [
      "c값을 입력 50\n"
     ]
    },
    {
     "name": "stdout",
     "output_type": "stream",
     "text": [
      "50\n"
     ]
    },
    {
     "name": "stdin",
     "output_type": "stream",
     "text": [
      "d값을 입력 60\n"
     ]
    },
    {
     "name": "stdout",
     "output_type": "stream",
     "text": [
      "60\n"
     ]
    },
    {
     "name": "stdin",
     "output_type": "stream",
     "text": [
      "e값을 입력 -30\n"
     ]
    },
    {
     "name": "stdout",
     "output_type": "stream",
     "text": [
      "-30 다시 입력하세요\n"
     ]
    },
    {
     "name": "stdin",
     "output_type": "stream",
     "text": [
      "a값을 입력 50\n"
     ]
    },
    {
     "name": "stdout",
     "output_type": "stream",
     "text": [
      "50\n"
     ]
    },
    {
     "name": "stdin",
     "output_type": "stream",
     "text": [
      "b값을 입력 60\n"
     ]
    },
    {
     "name": "stdout",
     "output_type": "stream",
     "text": [
      "60\n"
     ]
    },
    {
     "name": "stdin",
     "output_type": "stream",
     "text": [
      "c값을 입력 70\n"
     ]
    },
    {
     "name": "stdout",
     "output_type": "stream",
     "text": [
      "70\n"
     ]
    },
    {
     "name": "stdin",
     "output_type": "stream",
     "text": [
      "d값을 입력 80\n"
     ]
    },
    {
     "name": "stdout",
     "output_type": "stream",
     "text": [
      "80\n"
     ]
    },
    {
     "name": "stdin",
     "output_type": "stream",
     "text": [
      "e값을 입력 90\n"
     ]
    },
    {
     "name": "stdout",
     "output_type": "stream",
     "text": [
      "90\n",
      "70.0 점으로 합격\n"
     ]
    }
   ],
   "source": [
    "while True:\n",
    "    while True:\n",
    "        while True:\n",
    "            while True:\n",
    "                while True:\n",
    "                    a = int(input(\"a값을 입력\"))\n",
    "                    if 0 <= a <= 100: \n",
    "                        print(a)\n",
    "                        break\n",
    "                    else:\n",
    "                        print(a, \"다시 입력하세요\")\n",
    "                        continue\n",
    "                b = int(input(\"b값을 입력\"))\n",
    "                if 0 <= b <= 100: \n",
    "                    print(b)\n",
    "                    break\n",
    "                else:\n",
    "                    print(b, \"다시 입력하세요\")\n",
    "                    continue\n",
    "            c = int(input(\"c값을 입력\"))\n",
    "            if 0 <= c <= 100: \n",
    "                print(c)\n",
    "                break\n",
    "            else:\n",
    "                print(c, \"다시 입력하세요\")\n",
    "                continue\n",
    "        d = int(input(\"d값을 입력\"))\n",
    "        if 0 <= d <= 100: \n",
    "            print(d)\n",
    "            break\n",
    "        else:\n",
    "            print(d, \"다시 입력하세요\")\n",
    "            continue            \n",
    "    e = int(input(\"e값을 입력\"))\n",
    "    if 0 <= e <= 100: \n",
    "        print(e)\n",
    "        break\n",
    "    else:\n",
    "        print(e, \"다시 입력하세요\")\n",
    "        continue\n",
    "avg = (a+b+c+d+e)/5\n",
    "if avg >= 60:\n",
    "    print(avg, \"점으로 합격\")\n",
    "else:\n",
    "    print(avg, \"점으로 불합격\")"
   ]
  },
  {
   "cell_type": "code",
   "execution_count": 2,
   "id": "473a2ed5-f913-44af-a5bf-82b5c279257d",
   "metadata": {},
   "outputs": [],
   "source": [
    "def check_value(var):\n",
    "    while True:\n",
    "        var = int(input(\"숫자를 입력하세요\"))\n",
    "        if 0<= var <= 100:\n",
    "            return var\n",
    "        else:\n",
    "            print(\"0~100사이의 숫자를 입력하세요.\")\n",
    "            continue\n",
    "\n",
    "def avg_5(a, b, c, d, e):\n",
    "    print(f\"입력하신 값은 {a}, {b}, {c}, {d}, {e}입니다.\")\n",
    "    avg = (a + b + c + d + e)/5\n",
    "    if avg >= 60:\n",
    "        print(avg, \"합격\")\n",
    "    else:\n",
    "        print(avg, \"불합격\")\n",
    "    "
   ]
  },
  {
   "cell_type": "code",
   "execution_count": 3,
   "id": "619de60a-6793-47c2-a23f-935273e9d925",
   "metadata": {},
   "outputs": [
    {
     "name": "stdin",
     "output_type": "stream",
     "text": [
      "숫자를 입력하세요 -34\n"
     ]
    },
    {
     "name": "stdout",
     "output_type": "stream",
     "text": [
      "0~100사이의 숫자를 입력하세요.\n"
     ]
    },
    {
     "name": "stdin",
     "output_type": "stream",
     "text": [
      "숫자를 입력하세요 50\n",
      "숫자를 입력하세요 70\n",
      "숫자를 입력하세요 90\n",
      "숫자를 입력하세요 -30\n"
     ]
    },
    {
     "name": "stdout",
     "output_type": "stream",
     "text": [
      "0~100사이의 숫자를 입력하세요.\n"
     ]
    },
    {
     "name": "stdin",
     "output_type": "stream",
     "text": [
      "숫자를 입력하세요 70\n",
      "숫자를 입력하세요 -50\n"
     ]
    },
    {
     "name": "stdout",
     "output_type": "stream",
     "text": [
      "0~100사이의 숫자를 입력하세요.\n"
     ]
    },
    {
     "name": "stdin",
     "output_type": "stream",
     "text": [
      "숫자를 입력하세요 -70\n"
     ]
    },
    {
     "name": "stdout",
     "output_type": "stream",
     "text": [
      "0~100사이의 숫자를 입력하세요.\n"
     ]
    },
    {
     "name": "stdin",
     "output_type": "stream",
     "text": [
      "숫자를 입력하세요 100\n"
     ]
    },
    {
     "name": "stdout",
     "output_type": "stream",
     "text": [
      "입력하신 값은 50, 70, 90, 70, 100입니다.\n",
      "76.0 합격\n"
     ]
    }
   ],
   "source": [
    "a1 = check_value(a)\n",
    "b1 = check_value(b)\n",
    "c1 = check_value(c)\n",
    "d1 = check_value(d)\n",
    "e1 = check_value(e)\n",
    "\n",
    "avg_5(a1, b1, c1, d1, e1)\n",
    "\n"
   ]
  }
 ],
 "metadata": {
  "kernelspec": {
   "display_name": "Python 3 (ipykernel)",
   "language": "python",
   "name": "python3"
  },
  "language_info": {
   "codemirror_mode": {
    "name": "ipython",
    "version": 3
   },
   "file_extension": ".py",
   "mimetype": "text/x-python",
   "name": "python",
   "nbconvert_exporter": "python",
   "pygments_lexer": "ipython3",
   "version": "3.9.13"
  }
 },
 "nbformat": 4,
 "nbformat_minor": 5
}

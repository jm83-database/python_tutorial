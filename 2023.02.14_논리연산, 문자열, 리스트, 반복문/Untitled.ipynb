{
 "cells": [
  {
   "cell_type": "code",
   "execution_count": 6,
   "id": "ec99164d-cea3-4ccb-9375-479ad6618920",
   "metadata": {},
   "outputs": [
    {
     "name": "stdin",
     "output_type": "stream",
     "text": [
      "국어, 영어, 수학, 과학 점수를 입력해주세요 98,100,96,100\n"
     ]
    },
    {
     "name": "stdout",
     "output_type": "stream",
     "text": [
      "[98, 100, 96, 100] \n",
      "\n",
      "[98, 100, 96, 100]\n",
      "\n",
      "실행결과:\n",
      "평균 점수는 98.5 점입니다.\n"
     ]
    }
   ],
   "source": [
    "score1 = input(\"국어, 영어, 수학, 과학 점수를 입력해주세요\").split(\",\")\n",
    "score1 = list(map(int, score1))\n",
    "print(score1, \"\\n\")\n",
    "kor, eng, mat, sci = score1\n",
    "print(score1)\n",
    "print(\"\\n실행결과:\\n평균 점수는\", (kor+eng+mat+sci)/len(score1),\"점입니다.\")"
   ]
  },
  {
   "cell_type": "code",
   "execution_count": null,
   "id": "6c1b7549-cc70-4fd5-bccf-72aa1459342e",
   "metadata": {},
   "outputs": [],
   "source": []
  }
 ],
 "metadata": {
  "kernelspec": {
   "display_name": "Python 3 (ipykernel)",
   "language": "python",
   "name": "python3"
  },
  "language_info": {
   "codemirror_mode": {
    "name": "ipython",
    "version": 3
   },
   "file_extension": ".py",
   "mimetype": "text/x-python",
   "name": "python",
   "nbconvert_exporter": "python",
   "pygments_lexer": "ipython3",
   "version": "3.9.13"
  }
 },
 "nbformat": 4,
 "nbformat_minor": 5
}

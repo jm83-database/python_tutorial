{
 "cells": [
  {
   "cell_type": "code",
   "execution_count": 1,
   "id": "b110c5b5-d945-45d5-bd73-4816ac51c310",
   "metadata": {},
   "outputs": [
    {
     "name": "stdin",
     "output_type": "stream",
     "text": [
      "경기장은 어디입니다까? 고척\n",
      "이긴 팀은 어디입니가? KT\n",
      "진 팀은 어디입니까? LG\n",
      "우수 선수는 누구입니까? 강백호'\n",
      "스코어는 몇대몇입니까? 10:9\n"
     ]
    },
    {
     "name": "stdout",
     "output_type": "stream",
     "text": [
      "[속보] KT가 10:9로 승리...\n",
      "오늘 고척경기장에서 야구 경기가 있었습니다.\n",
      "KT와 LG는 치열한 공방전을 펼쳤습니다.\n",
      "이 경기에서 강백호'가 맹활약을 했습니다.\n",
      "그 끝내 LG가 KT를 10:9로 승리하였습니다.\n",
      "기사 끝.\n"
     ]
    }
   ],
   "source": [
    "a1 = input(\"경기장은 어디입니다까?\")\n",
    "a2 = input(\"이긴 팀은 어디입니가?\")\n",
    "a3 = input(\"진 팀은 어디입니까?\")\n",
    "a4 = input(\"우수 선수는 누구입니까?\")\n",
    "a5 = input(\"스코어는 몇대몇입니까?\")\n",
    "\n",
    "a6 = (\"[속보] \" + a2 + \"가 \" + a5 + \"로 승리...\\n\"+\n",
    "    \"오늘 \" +a1 + \"경기장에서 야구 경기가 있었습니다.\\n\" + \n",
    "    a2 + \"와 \" + a3 + \"는 치열한 공방전을 펼쳤습니다.\\n\" +\n",
    "    \"이 경기에서 \" + a4 +  \"가 맹활약을 했습니다.\\n\" +\n",
    "    \"그 끝내 \" + a3 + \"가 \" + a2 +\"를 \" + a5 + \"로 승리하였습니다.\\n\"+ \n",
    "    \"기사 끝.\")\n",
    "print(a6)"
   ]
  }
 ],
 "metadata": {
  "kernelspec": {
   "display_name": "Python 3 (ipykernel)",
   "language": "python",
   "name": "python3"
  },
  "language_info": {
   "codemirror_mode": {
    "name": "ipython",
    "version": 3
   },
   "file_extension": ".py",
   "mimetype": "text/x-python",
   "name": "python",
   "nbconvert_exporter": "python",
   "pygments_lexer": "ipython3",
   "version": "3.9.13"
  }
 },
 "nbformat": 4,
 "nbformat_minor": 5
}

{
 "cells": [
  {
   "cell_type": "code",
   "execution_count": 9,
   "id": "ed3be787-3ec9-4a29-ad62-f3f787952b76",
   "metadata": {},
   "outputs": [],
   "source": [
    "#함수 만들기\n",
    "#function_name(param1, param2,...):\n",
    "#    result = param1 + param2\n",
    "#    return result"
   ]
  }
 ],
 "metadata": {
  "kernelspec": {
   "display_name": "Python 3 (ipykernel)",
   "language": "python",
   "name": "python3"
  },
  "language_info": {
   "codemirror_mode": {
    "name": "ipython",
    "version": 3
   },
   "file_extension": ".py",
   "mimetype": "text/x-python",
   "name": "python",
   "nbconvert_exporter": "python",
   "pygments_lexer": "ipython3",
   "version": "3.9.13"
  }
 },
 "nbformat": 4,
 "nbformat_minor": 5
}

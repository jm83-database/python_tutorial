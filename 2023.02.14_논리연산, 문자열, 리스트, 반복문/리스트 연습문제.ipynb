{
 "cells": [
  {
   "cell_type": "code",
   "execution_count": 1,
   "id": "e11a09a5-fe48-4df0-92e2-4051ad71c612",
   "metadata": {},
   "outputs": [
    {
     "name": "stdout",
     "output_type": "stream",
     "text": [
      "False\n"
     ]
    }
   ],
   "source": [
    "#[국어, 영어, 한국사, 선택 교과1, 선택교과2]\n",
    "scores = [88, 73, 89, 59, 77] #60점 미만 과락 파악하기\n",
    "print(scores[0]>=60 and scores[1]>=60 and scores[2]>=60 and scores[3]>=60 and scores[4]>=60)"
   ]
  },
  {
   "cell_type": "code",
   "execution_count": 2,
   "id": "09657755-eb06-42e5-acb2-d084ea48e1bc",
   "metadata": {},
   "outputs": [
    {
     "name": "stdout",
     "output_type": "stream",
     "text": [
      "False\n"
     ]
    }
   ],
   "source": [
    "a = 1\n",
    "b = 3\n",
    "print(a>b) #대소 비교는 True, False가 나온다."
   ]
  },
  {
   "cell_type": "code",
   "execution_count": 3,
   "id": "8984511d-df80-4748-a256-fba5a0a67a92",
   "metadata": {},
   "outputs": [
    {
     "name": "stdout",
     "output_type": "stream",
     "text": [
      "False\n"
     ]
    }
   ],
   "source": [
    "for i in scores:\n",
    "    if i>= 60:\n",
    "        continue\n",
    "    else:\n",
    "        print(False)"
   ]
  },
  {
   "cell_type": "code",
   "execution_count": 4,
   "id": "c864260c-bec7-47af-b827-f9ff49895165",
   "metadata": {},
   "outputs": [
    {
     "name": "stdout",
     "output_type": "stream",
     "text": [
      "False\n"
     ]
    }
   ],
   "source": [
    "for i in scores:\n",
    "    if i<= 60:\n",
    "        print(False)"
   ]
  },
  {
   "cell_type": "code",
   "execution_count": 7,
   "id": "484c3cbe-f8d4-486c-8438-ca2ba518dc1f",
   "metadata": {},
   "outputs": [],
   "source": [
    "#리스트와 튜플 중 유리함 판단하기\n",
    "# 1.처음 20번째까지 소수 (Prime number)  ::  튜플  → 바뀔 가능성이 없음\n",
    "# 2.프로그래밍 언어의 종류  :: 리스트 → 앞으로도 계속 새로운 언어가 생길 가능성이 높음 \n",
    "# 3.사람의 나이, 몸무게, 키 :: 리스트 → 한 명이더라도 나이와 같이 변경됨\n",
    "# 4.사람의 생일과 출생지 :: 튜플 → 생일과 출생지는 변하지 않음\n",
    "# 5.롤 게임의 결과 :: 튜플 → 단일 경기 데이터는 튜플로 저장해도 무관함\n",
    "# 6.잇단 롤 게임의 결과 :: 리스트 → 연속적으로 데이터가 쌓일 경우에 데이터 추가가 자유로운 리스트가 유리함"
   ]
  }
 ],
 "metadata": {
  "kernelspec": {
   "display_name": "Python 3 (ipykernel)",
   "language": "python",
   "name": "python3"
  },
  "language_info": {
   "codemirror_mode": {
    "name": "ipython",
    "version": 3
   },
   "file_extension": ".py",
   "mimetype": "text/x-python",
   "name": "python",
   "nbconvert_exporter": "python",
   "pygments_lexer": "ipython3",
   "version": "3.9.13"
  }
 },
 "nbformat": 4,
 "nbformat_minor": 5
}

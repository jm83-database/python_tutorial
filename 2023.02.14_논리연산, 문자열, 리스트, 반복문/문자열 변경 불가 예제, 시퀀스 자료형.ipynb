{
 "cells": [
  {
   "cell_type": "code",
   "execution_count": 1,
   "id": "f50682e2-4179-4e67-a20b-0c27ce5cc5c2",
   "metadata": {},
   "outputs": [],
   "source": [
    "sentence = \"중요한 것은 꺾이지 않는 마음\""
   ]
  },
  {
   "cell_type": "code",
   "execution_count": 2,
   "id": "bc918564-d118-4ab3-85b2-bb9f89bbda90",
   "metadata": {},
   "outputs": [],
   "source": [
    "# sentence[0] = \"한\"\n",
    "# 문자열은 인덱스로 접근해서 값을 변경할 수 없다."
   ]
  },
  {
   "cell_type": "code",
   "execution_count": 3,
   "id": "01863e88-3ef2-438d-9e39-5c3b1c622062",
   "metadata": {},
   "outputs": [],
   "source": [
    "# sentence[0:3] = \"대단한\"\n",
    "# 문자열을 슬라싱으로 접근해도 값을 변경할 수 없다.\n",
    "# 리스트 요소 개수도 [0:3]과 \"대단한\" 자리수가 일치하지 않으면 오류가 발생한다."
   ]
  },
  {
   "cell_type": "code",
   "execution_count": 4,
   "id": "e77e37eb-3d2f-4d61-b17c-f088050fb449",
   "metadata": {},
   "outputs": [
    {
     "name": "stdout",
     "output_type": "stream",
     "text": [
      "대단한 것은 꺾이지 않는 마음\n"
     ]
    }
   ],
   "source": [
    "#문자열을 변경하고 싶은 경우\n",
    "sentence = \"대단한\" + sentence[3:]\n",
    "print(sentence)"
   ]
  },
  {
   "cell_type": "code",
   "execution_count": 5,
   "id": "90560199-5a35-424a-96af-8605ee14c41c",
   "metadata": {},
   "outputs": [
    {
     "name": "stdout",
     "output_type": "stream",
     "text": [
      "재밌어요재밌어요재밌어요재밌어요재밌어요재밌어요재밌어요재밌어요재밌어요재밌어요\n",
      "40\n"
     ]
    }
   ],
   "source": [
    "#시퀀스의 크기\n",
    "s7 = '재밌어요'*10\n",
    "print(s7)\n",
    "print(len(s7))"
   ]
  },
  {
   "cell_type": "code",
   "execution_count": 6,
   "id": "f9b4c3e0-f884-47a1-a383-2bb1c9f5f64d",
   "metadata": {},
   "outputs": [
    {
     "name": "stdout",
     "output_type": "stream",
     "text": [
      "[1, 4, 9, 16, 25]\n",
      "<class 'list'>\n"
     ]
    }
   ],
   "source": [
    "#리스트\n",
    "#리스트 내부에는 여러 타입의 자료가 들어갈 수 있다. ex)list = [str, int, float, obj]\n",
    "squares = [1**2, 2**2, 3**2, 4**2, 5**2]\n",
    "print(squares)\n",
    "print(type(squares))"
   ]
  },
  {
   "cell_type": "code",
   "execution_count": 7,
   "id": "5b85b426-fc4d-4d9a-8648-bff822b37957",
   "metadata": {},
   "outputs": [
    {
     "name": "stdout",
     "output_type": "stream",
     "text": [
      "1\n",
      "25\n"
     ]
    }
   ],
   "source": [
    "#리스트의 인덱싱과 슬라이싱\n",
    "#인덱싱을 통해 해당하는 항목(item)을 반환(return)한다.\n",
    "print(squares[0])\n",
    "print(squares[-1])"
   ]
  },
  {
   "cell_type": "code",
   "execution_count": 8,
   "id": "c4090165-54e9-4163-b417-2894133da9a6",
   "metadata": {},
   "outputs": [
    {
     "name": "stdout",
     "output_type": "stream",
     "text": [
      "[9, 16, 25]\n"
     ]
    }
   ],
   "source": [
    "#슬라이싱을 통해 해당하는 항목(item)을 반환(return)한다.\n",
    "print(squares[-3:])"
   ]
  },
  {
   "cell_type": "code",
   "execution_count": 9,
   "id": "5efc3325-dab0-4040-90cc-c6d68f89ae56",
   "metadata": {},
   "outputs": [
    {
     "name": "stdout",
     "output_type": "stream",
     "text": [
      "[1, 4, 9, 16, 25, 36, 49, 64, 81, 100]\n"
     ]
    }
   ],
   "source": [
    "# + 를 통해 이어붙일 수 있다.\n",
    "print(squares + [36,49,64,81,100])"
   ]
  },
  {
   "cell_type": "code",
   "execution_count": 10,
   "id": "ab6a06a1-ac19-4fdc-bd58-cdb43cb13ee9",
   "metadata": {},
   "outputs": [
    {
     "name": "stdout",
     "output_type": "stream",
     "text": [
      "['a', 'b', 'c', 'd', 'e', 'a', 'b', 'c', 'd', 'e', 'a', 'b', 'c', 'd', 'e']\n"
     ]
    }
   ],
   "source": [
    "#리스트는 곱하기를 통해 요소를 반복할 수 있다.\n",
    "letters = ['a', 'b', 'c', 'd', 'e']\n",
    "print(letters*3)"
   ]
  },
  {
   "cell_type": "code",
   "execution_count": 11,
   "id": "44aaf4f5-b1e1-4e35-9c54-d00b64241ee5",
   "metadata": {},
   "outputs": [
    {
     "name": "stdout",
     "output_type": "stream",
     "text": [
      "[1, 8, 27, 64, 125]\n"
     ]
    }
   ],
   "source": [
    "#리스트 값 변경하기(리스트는 가변(mutable) 가능하다.)\n",
    "cubes = [1, 8, 27, 65, 125] #65가 아니라 64가 올바른 값이다.\n",
    "cubes[3] = 4**3\n",
    "print(cubes)"
   ]
  },
  {
   "cell_type": "code",
   "execution_count": 12,
   "id": "271e40a5-fda7-4024-88ac-f86fefac8ce6",
   "metadata": {},
   "outputs": [
    {
     "name": "stdout",
     "output_type": "stream",
     "text": [
      "['a', 'b', 'C', 'D', 'E']\n"
     ]
    }
   ],
   "source": [
    "letters[2:5] = [\"C\", \"D\", \"E\"]\n",
    "print(letters)"
   ]
  },
  {
   "cell_type": "code",
   "execution_count": 13,
   "id": "326b7b1e-9467-4b9c-a081-e64c9c67f459",
   "metadata": {},
   "outputs": [
    {
     "name": "stdout",
     "output_type": "stream",
     "text": [
      "5\n"
     ]
    }
   ],
   "source": [
    "print(len(letters))"
   ]
  },
  {
   "cell_type": "code",
   "execution_count": 14,
   "id": "298dc78c-1a2e-4a76-ac29-2fab0814862c",
   "metadata": {},
   "outputs": [
    {
     "name": "stdout",
     "output_type": "stream",
     "text": [
      "[['a', 'b', 'c'], [1, 2, 3]]\n"
     ]
    }
   ],
   "source": [
    "#리스트 안에 리스트\n",
    "a = ['a', 'b', 'c']\n",
    "n = [1, 2, 3]\n",
    "x = [a, n]\n",
    "print(x)"
   ]
  },
  {
   "cell_type": "code",
   "execution_count": 15,
   "id": "dd799378-9853-4cdd-a90c-3f7bd9b0006c",
   "metadata": {},
   "outputs": [
    {
     "name": "stdout",
     "output_type": "stream",
     "text": [
      "['a', 'b', 'c']\n"
     ]
    }
   ],
   "source": [
    "print(x[0])"
   ]
  },
  {
   "cell_type": "code",
   "execution_count": 16,
   "id": "71f31bfe-ef25-4301-941a-24614430a19e",
   "metadata": {},
   "outputs": [
    {
     "name": "stdout",
     "output_type": "stream",
     "text": [
      "b\n"
     ]
    }
   ],
   "source": [
    "print(x[0][1]) #내부 리스트(a)의 2번째 요소)"
   ]
  },
  {
   "cell_type": "code",
   "execution_count": 17,
   "id": "93a85ec4-ecf2-4a40-ac36-957952ea7ab9",
   "metadata": {},
   "outputs": [
    {
     "name": "stdout",
     "output_type": "stream",
     "text": [
      "True\n",
      "False\n"
     ]
    }
   ],
   "source": [
    "#리스트에 특정 요소가 있는지 궁금할 때\n",
    "numbers = [1,2,3,4,5,6,7]\n",
    "print(5 in numbers) # 'in'을 사용하여 탐색한다.\n",
    "print(10 in numbers)\n",
    "#탐색 결과는 bool literal로 나온다.(True, False)"
   ]
  },
  {
   "cell_type": "code",
   "execution_count": 18,
   "id": "da1d6222-5fb3-4524-aa4c-35697315d93f",
   "metadata": {},
   "outputs": [
    {
     "name": "stdout",
     "output_type": "stream",
     "text": [
      "[1, 2, 3, 4, 5, 6, 7, 8]\n"
     ]
    }
   ],
   "source": [
    "#리스트 끝에 요소 추가하기\n",
    "numbers = [1,2,3,4,5,6,7]\n",
    "numbers.append(8)\n",
    "#numbers.append([8]) = 리스트 [8]이 추가된다.\n",
    "#numbers.append([8,9]) = 리스트 [8,9]가 추가된다.\n",
    "#numbers.append(8,9) = append는 요소 한 개만 반영 가능하므로 실행 불가능\n",
    "print(numbers)"
   ]
  },
  {
   "cell_type": "code",
   "execution_count": 19,
   "id": "68ac1f93-9aa9-4017-8b46-cbca21f1e52e",
   "metadata": {},
   "outputs": [
    {
     "name": "stdout",
     "output_type": "stream",
     "text": [
      "[0, 1, 2, 3, 0, 4, 0, 5, 6, 7, 8, 0]\n"
     ]
    }
   ],
   "source": [
    "#리스트에 요소를 원하는 인덱스에 추가하기\n",
    "numbers.insert(0,0)\n",
    "numbers.insert(4,0)\n",
    "numbers.insert(6,0)\n",
    "numbers.insert(len(numbers),0)\n",
    "print(numbers)"
   ]
  },
  {
   "cell_type": "code",
   "execution_count": 20,
   "id": "69d6af0a-5576-4466-b0d1-eb39a8f0b486",
   "metadata": {},
   "outputs": [
    {
     "name": "stdout",
     "output_type": "stream",
     "text": [
      "[0, 1, 2, 3, 0, 4, 0, 5, 6, 7, 8, 0, 9, 10, 11]\n"
     ]
    }
   ],
   "source": [
    "#리스트에 리스트 붙이기\n",
    "numbers.extend([9,10,11])\n",
    "print(numbers)"
   ]
  },
  {
   "cell_type": "code",
   "execution_count": 21,
   "id": "1ba33076-6c36-4aa9-85a8-31a0b8e15dfb",
   "metadata": {},
   "outputs": [
    {
     "name": "stdout",
     "output_type": "stream",
     "text": [
      "[1, 2, 3, 0, 4, 0, 5, 6, 7, 8, 0, 9, 10, 11]\n"
     ]
    }
   ],
   "source": [
    "#리스트에서 요소 제거\n",
    "numbers.remove(0) #가장 먼저 만나는 동일한 요소 제거\n",
    "print(numbers)"
   ]
  },
  {
   "cell_type": "code",
   "execution_count": 22,
   "id": "87a17f0e-d208-4dd6-bd0a-5e60db9226a6",
   "metadata": {},
   "outputs": [
    {
     "name": "stdout",
     "output_type": "stream",
     "text": [
      "11\n"
     ]
    }
   ],
   "source": [
    "#제일 마지막 요소를 리스트에서 제거\n",
    "print(numbers.pop()) #제거한 요소를 반환하여 출력한다."
   ]
  },
  {
   "cell_type": "code",
   "execution_count": 23,
   "id": "c7260889-075a-4092-8346-bf5149b139ff",
   "metadata": {},
   "outputs": [
    {
     "name": "stdout",
     "output_type": "stream",
     "text": [
      "[1, 2, 3, 0, 4, 0, 5, 6, 7, 8, 0, 9, 10]\n"
     ]
    }
   ],
   "source": [
    "print(numbers)"
   ]
  },
  {
   "cell_type": "code",
   "execution_count": 24,
   "id": "713316e8-3e07-4c37-bc56-ecdf9903eea3",
   "metadata": {},
   "outputs": [
    {
     "name": "stdout",
     "output_type": "stream",
     "text": [
      "3\n"
     ]
    }
   ],
   "source": [
    "#리스트 내에서 첫번째로 발견된 요소의 인덱스 값 반환\n",
    "print(numbers.index(0))"
   ]
  },
  {
   "cell_type": "code",
   "execution_count": 25,
   "id": "d49d3906-9ff3-45f5-baff-8ec858b21492",
   "metadata": {},
   "outputs": [
    {
     "name": "stdout",
     "output_type": "stream",
     "text": [
      "3\n"
     ]
    }
   ],
   "source": [
    "#리스트에서 인자와 같은 요소의 개수 구하기\n",
    "print(numbers.count(0))"
   ]
  },
  {
   "cell_type": "code",
   "execution_count": 26,
   "id": "7de5913f-d02b-4b91-b985-b4af6febcedc",
   "metadata": {},
   "outputs": [
    {
     "name": "stdout",
     "output_type": "stream",
     "text": [
      "[0, 0, 0, 1, 2, 3, 4, 5, 6, 7, 8, 9, 10]\n"
     ]
    }
   ],
   "source": [
    "#리스트 요소 정렬하기\n",
    "numbers.sort()\n",
    "print(numbers)"
   ]
  },
  {
   "cell_type": "code",
   "execution_count": 27,
   "id": "14ce2ddf-c178-4943-b9a0-f5337d8f8146",
   "metadata": {},
   "outputs": [
    {
     "name": "stdout",
     "output_type": "stream",
     "text": [
      "[10, 9, 8, 7, 6, 5, 4, 3, 2, 1, 0, 0, 0]\n"
     ]
    }
   ],
   "source": [
    "#리스트 요소 반대 방향 재정렬\n",
    "numbers.reverse()\n",
    "print(numbers)"
   ]
  },
  {
   "cell_type": "code",
   "execution_count": 28,
   "id": "d8941318-ca4c-4f5e-acbf-dadaa9493914",
   "metadata": {},
   "outputs": [
    {
     "name": "stdout",
     "output_type": "stream",
     "text": [
      "[3, 4, 5, 6, 7]\n",
      "7\n",
      "[3, 4, 5, 6]\n",
      "6\n",
      "5\n",
      "[3, 4]\n"
     ]
    }
   ],
   "source": [
    "#리스트를 Stack처럼 활용하기\n",
    "#stack은 후입선출(Last in First Out) 구조이다.\n",
    "#stack에서 자료를 꺼낼 때 pop()으로만 꺼내어서 Stack 자료 구조처럼 활용한다.\n",
    "stack = [3,4,5]\n",
    "stack.append(6)\n",
    "stack.append(7)\n",
    "print(stack)\n",
    "\n",
    "print(stack.pop())\n",
    "\n",
    "print(stack)\n",
    "\n",
    "print(stack.pop())\n",
    "\n",
    "print(stack.pop())\n",
    "\n",
    "print(stack)"
   ]
  },
  {
   "cell_type": "code",
   "execution_count": 29,
   "id": "b786cc79-bc84-4a95-ba2e-471f70513f91",
   "metadata": {
    "tags": []
   },
   "outputs": [
    {
     "name": "stdout",
     "output_type": "stream",
     "text": [
      "[]\n"
     ]
    }
   ],
   "source": [
    "#리스트 모든 요소 제거\n",
    "numbers.clear()\n",
    "print(numbers)"
   ]
  },
  {
   "cell_type": "code",
   "execution_count": 30,
   "id": "af0146c8-c7f5-471b-b83b-b52afe5038fd",
   "metadata": {},
   "outputs": [],
   "source": [
    "#리스트 요약\n",
    "\n",
    "#시퀀스는 연속되는 값\n",
    "#인덱스에서 지점으로 검색하면 인덱싱, 구간으로 검색하면 슬라이싱"
   ]
  },
  {
   "cell_type": "code",
   "execution_count": 31,
   "id": "307b91ff-feb3-44d3-afb3-a1ee7cb6ef3a",
   "metadata": {},
   "outputs": [],
   "source": [
    "# 튜플(tuple)\n",
    "\n",
    "#리스트와 거의 비슷하지만 수정이 불가능\n",
    "#튜플은 소괄호 사이에 요소들을 콤마로 구분지어서 작성\n",
    "#튜플변수명 = (항목1, 항목2, 항목3, ...)"
   ]
  },
  {
   "cell_type": "code",
   "execution_count": 32,
   "id": "cd9276c0-82df-4687-be60-3a04b202a491",
   "metadata": {},
   "outputs": [],
   "source": [
    "tuple_variable = (1,2,3,4,5,\"hello\")\n",
    "#tuple_variable[0] = 0 → 튜플은 요소 변경이 불가능(리스트처럼 검색 후 재구성이 불가능)\n",
    "#tuple_variable[0:3] = [1,2,3] → 위와 같은 이유\n",
    "#del tuple_variable[1] → 삭제도 불가능하다."
   ]
  },
  {
   "cell_type": "code",
   "execution_count": 33,
   "id": "27e18055-f2ac-462b-997c-ef6c64e01745",
   "metadata": {},
   "outputs": [
    {
     "name": "stdout",
     "output_type": "stream",
     "text": [
      "<class 'tuple'>\n",
      "('음', '오', '아', '예')\n"
     ]
    }
   ],
   "source": [
    "#튜플은 소괄호 생략이 가능하다.\n",
    "t_v2 = \"음\", \"오\", \"아\", \"예\" # 가급적이면 생략하지 않는다.\n",
    "print(type(t_v2))\n",
    "print(t_v2)"
   ]
  },
  {
   "cell_type": "code",
   "execution_count": 34,
   "id": "77921b01-5aa3-44b8-9bca-7a3a9ce2fb34",
   "metadata": {},
   "outputs": [
    {
     "name": "stdout",
     "output_type": "stream",
     "text": [
      "0.17263293266296387\n"
     ]
    }
   ],
   "source": [
    "#튜플이 리스트보다 좋은 예시\n",
    "import time\n",
    "\n",
    "start_time = time.time() #시작하는 시간\n",
    "test = []\n",
    "\n",
    "#1,000,000번은 반복해서 tuple생성\n",
    "for _ in range(1_000_000):\n",
    "    tp = (_, _) # tuple\n",
    "    test.append(tp)\n",
    "\n",
    "#끝나는 시간 - 시작하는 시간\n",
    "print(time.time() - start_time)\n",
    "#동작한 시간"
   ]
  },
  {
   "cell_type": "code",
   "execution_count": 35,
   "id": "6ad313c4-c54d-4f59-b240-de4baba4e6d6",
   "metadata": {},
   "outputs": [
    {
     "name": "stdout",
     "output_type": "stream",
     "text": [
      "0.5202722549438477\n"
     ]
    }
   ],
   "source": [
    "import time\n",
    "\n",
    "start_time = time.time() #시작하는 시간\n",
    "test = []\n",
    "\n",
    "#1,000,000번은 반복해서 tuple생성\n",
    "for _ in range(1_000_000):\n",
    "    tp = [_, _] # list\n",
    "    test.append(tp)\n",
    "\n",
    "#끝나는 시간 - 시작하는 시간\n",
    "print(time.time() - start_time)\n",
    "#동작한 시간"
   ]
  },
  {
   "cell_type": "code",
   "execution_count": 36,
   "id": "ed4cb210-289e-4386-b002-dd1dcdc2f289",
   "metadata": {},
   "outputs": [],
   "source": [
    "#변수 여럿에 동시 할당하기(Unpacking)\n",
    "# 시퀀스 자료형의 크기만큼 좌변과 우변의 개수가 동일하면 동시 할당 가능\n",
    "# ex) x1, x2, x3 = 값1, 값2, 값3 ← 소괄호가 생략된 튜플"
   ]
  },
  {
   "cell_type": "code",
   "execution_count": 38,
   "id": "5d098794-38a7-4135-822e-20705d41521c",
   "metadata": {},
   "outputs": [
    {
     "name": "stdout",
     "output_type": "stream",
     "text": [
      "text1\n",
      "text2\n"
     ]
    }
   ],
   "source": [
    "s1, s2 = \"text1\", \"text2\"\n",
    "print(s1)\n",
    "print(s2)"
   ]
  },
  {
   "cell_type": "code",
   "execution_count": 39,
   "id": "45613290-8831-4d20-a45a-f94eb5f10969",
   "metadata": {},
   "outputs": [
    {
     "name": "stdout",
     "output_type": "stream",
     "text": [
      "이렇게 리스트도 가능합니다.\n"
     ]
    }
   ],
   "source": [
    "s3, s4, s5 = [\"이렇게\", \"리스트도\", \"가능합니다.\"]\n",
    "print(s3, s4, s5)"
   ]
  },
  {
   "cell_type": "code",
   "execution_count": 40,
   "id": "0cf3d13e-0e82-4449-865a-5c911238d228",
   "metadata": {},
   "outputs": [
    {
     "name": "stdout",
     "output_type": "stream",
     "text": [
      "문 자 열 도\n"
     ]
    }
   ],
   "source": [
    "s6, s7, s8, s9 = \"문자열도\"\n",
    "print(s6, s7, s8, s9)"
   ]
  }
 ],
 "metadata": {
  "kernelspec": {
   "display_name": "Python 3 (ipykernel)",
   "language": "python",
   "name": "python3"
  },
  "language_info": {
   "codemirror_mode": {
    "name": "ipython",
    "version": 3
   },
   "file_extension": ".py",
   "mimetype": "text/x-python",
   "name": "python",
   "nbconvert_exporter": "python",
   "pygments_lexer": "ipython3",
   "version": "3.9.13"
  }
 },
 "nbformat": 4,
 "nbformat_minor": 5
}

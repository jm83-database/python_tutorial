{
 "cells": [
  {
   "cell_type": "code",
   "execution_count": 4,
   "id": "f50682e2-4179-4e67-a20b-0c27ce5cc5c2",
   "metadata": {},
   "outputs": [],
   "source": [
    "sentence = \"중요한 것은 꺾이지 않는 마음\""
   ]
  },
  {
   "cell_type": "code",
   "execution_count": 9,
   "id": "bc918564-d118-4ab3-85b2-bb9f89bbda90",
   "metadata": {},
   "outputs": [],
   "source": [
    "# sentence[0] = \"한\"\n",
    "# 문자열은 인덱스로 접근해서 값을 변경할 수 없다."
   ]
  },
  {
   "cell_type": "code",
   "execution_count": 10,
   "id": "01863e88-3ef2-438d-9e39-5c3b1c622062",
   "metadata": {},
   "outputs": [],
   "source": [
    "# sentence[0:3] = \"대단한\"\n",
    "# 문자열을 슬라싱으로 접근해도 값을 변경할 수 없다.\n",
    "# 리스트 요소 개수도 [0:3]과 \"대단한\" 자리수가 일치하지 않으면 오류가 발생한다."
   ]
  },
  {
   "cell_type": "code",
   "execution_count": 11,
   "id": "e77e37eb-3d2f-4d61-b17c-f088050fb449",
   "metadata": {},
   "outputs": [
    {
     "name": "stdout",
     "output_type": "stream",
     "text": [
      "대단한 것은 꺾이지 않는 마음\n"
     ]
    }
   ],
   "source": [
    "#문자열을 변경하고 싶은 경우\n",
    "sentence = \"대단한\" + sentence[3:]\n",
    "print(sentence)"
   ]
  },
  {
   "cell_type": "code",
   "execution_count": 12,
   "id": "90560199-5a35-424a-96af-8605ee14c41c",
   "metadata": {},
   "outputs": [
    {
     "name": "stdout",
     "output_type": "stream",
     "text": [
      "재밌어요재밌어요재밌어요재밌어요재밌어요재밌어요재밌어요재밌어요재밌어요재밌어요\n",
      "40\n"
     ]
    }
   ],
   "source": [
    "#시퀀스의 크기\n",
    "s7 = '재밌어요'*10\n",
    "print(s7)\n",
    "print(len(s7))"
   ]
  },
  {
   "cell_type": "code",
   "execution_count": 13,
   "id": "f9b4c3e0-f884-47a1-a383-2bb1c9f5f64d",
   "metadata": {},
   "outputs": [
    {
     "name": "stdout",
     "output_type": "stream",
     "text": [
      "[1, 4, 9, 16, 25]\n",
      "<class 'list'>\n"
     ]
    }
   ],
   "source": [
    "#리스트\n",
    "#리스트 내부에는 여러 타입의 자료가 들어갈 수 있다. ex)list = [str, int, float, obj]\n",
    "squares = [1**2, 2**2, 3**2, 4**2, 5**2]\n",
    "print(squares)\n",
    "print(type(squares))"
   ]
  },
  {
   "cell_type": "code",
   "execution_count": 14,
   "id": "5b85b426-fc4d-4d9a-8648-bff822b37957",
   "metadata": {},
   "outputs": [
    {
     "name": "stdout",
     "output_type": "stream",
     "text": [
      "1\n",
      "25\n"
     ]
    }
   ],
   "source": [
    "#리스트의 인덱싱과 슬라이싱\n",
    "#인덱싱을 통해 해당하는 항목(item)을 반환(return)한다.\n",
    "print(squares[0])\n",
    "print(squares[-1])"
   ]
  },
  {
   "cell_type": "code",
   "execution_count": 15,
   "id": "c4090165-54e9-4163-b417-2894133da9a6",
   "metadata": {},
   "outputs": [
    {
     "name": "stdout",
     "output_type": "stream",
     "text": [
      "[9, 16, 25]\n"
     ]
    }
   ],
   "source": [
    "#슬라이싱을 통해 해당하는 항목(item)을 반환(return)한다.\n",
    "print(squares[-3:])"
   ]
  },
  {
   "cell_type": "code",
   "execution_count": 16,
   "id": "5efc3325-dab0-4040-90cc-c6d68f89ae56",
   "metadata": {},
   "outputs": [
    {
     "name": "stdout",
     "output_type": "stream",
     "text": [
      "[1, 4, 9, 16, 25, 36, 49, 64, 81, 100]\n"
     ]
    }
   ],
   "source": [
    "# + 를 통해 이어붙일 수 있다.\n",
    "print(squares + [36,49,64,81,100])"
   ]
  },
  {
   "cell_type": "code",
   "execution_count": 17,
   "id": "ab6a06a1-ac19-4fdc-bd58-cdb43cb13ee9",
   "metadata": {},
   "outputs": [
    {
     "name": "stdout",
     "output_type": "stream",
     "text": [
      "['a', 'b', 'c', 'd', 'e', 'a', 'b', 'c', 'd', 'e', 'a', 'b', 'c', 'd', 'e']\n"
     ]
    }
   ],
   "source": [
    "#리스트는 곱하기를 통해 요소를 반복할 수 있다.\n",
    "letters = ['a', 'b', 'c', 'd', 'e']\n",
    "print(letters*3)"
   ]
  },
  {
   "cell_type": "code",
   "execution_count": 18,
   "id": "44aaf4f5-b1e1-4e35-9c54-d00b64241ee5",
   "metadata": {},
   "outputs": [
    {
     "name": "stdout",
     "output_type": "stream",
     "text": [
      "[1, 8, 27, 64, 125]\n"
     ]
    }
   ],
   "source": [
    "#리스트 값 변경하기(리스트는 가변(mutable) 가능하다.)\n",
    "cubes = [1, 8, 27, 65, 125] #65가 아니라 64가 올바른 값이다.\n",
    "cubes[3] = 4**3\n",
    "print(cubes)"
   ]
  },
  {
   "cell_type": "code",
   "execution_count": 19,
   "id": "271e40a5-fda7-4024-88ac-f86fefac8ce6",
   "metadata": {},
   "outputs": [
    {
     "name": "stdout",
     "output_type": "stream",
     "text": [
      "['a', 'b', 'C', 'D', 'E']\n"
     ]
    }
   ],
   "source": [
    "letters[2:5] = [\"C\", \"D\", \"E\"]\n",
    "print(letters)"
   ]
  },
  {
   "cell_type": "code",
   "execution_count": 20,
   "id": "326b7b1e-9467-4b9c-a081-e64c9c67f459",
   "metadata": {},
   "outputs": [
    {
     "name": "stdout",
     "output_type": "stream",
     "text": [
      "5\n"
     ]
    }
   ],
   "source": [
    "print(len(letters))"
   ]
  },
  {
   "cell_type": "code",
   "execution_count": 21,
   "id": "298dc78c-1a2e-4a76-ac29-2fab0814862c",
   "metadata": {},
   "outputs": [
    {
     "name": "stdout",
     "output_type": "stream",
     "text": [
      "[['a', 'b', 'c'], [1, 2, 3]]\n"
     ]
    }
   ],
   "source": [
    "#리스트 안에 리스트\n",
    "a = ['a', 'b', 'c']\n",
    "n = [1, 2, 3]\n",
    "x = [a, n]\n",
    "print(x)"
   ]
  },
  {
   "cell_type": "code",
   "execution_count": 22,
   "id": "dd799378-9853-4cdd-a90c-3f7bd9b0006c",
   "metadata": {},
   "outputs": [
    {
     "name": "stdout",
     "output_type": "stream",
     "text": [
      "['a', 'b', 'c']\n"
     ]
    }
   ],
   "source": [
    "print(x[0])"
   ]
  },
  {
   "cell_type": "code",
   "execution_count": 24,
   "id": "71f31bfe-ef25-4301-941a-24614430a19e",
   "metadata": {},
   "outputs": [
    {
     "name": "stdout",
     "output_type": "stream",
     "text": [
      "b\n"
     ]
    }
   ],
   "source": [
    "print(x[0][1]) #내부 리스트(a)의 2번째 요소)"
   ]
  },
  {
   "cell_type": "code",
   "execution_count": 27,
   "id": "93a85ec4-ecf2-4a40-ac36-957952ea7ab9",
   "metadata": {},
   "outputs": [
    {
     "name": "stdout",
     "output_type": "stream",
     "text": [
      "True\n",
      "False\n"
     ]
    }
   ],
   "source": [
    "#리스트에 특정 요소가 있는지 궁금할 때\n",
    "numbers = [1,2,3,4,5,6,7]\n",
    "print(5 in numbers) # 'in'을 사용하여 탐색한다.\n",
    "print(10 in numbers)\n",
    "#탐색 결과는 bool literal로 나온다.(True, False)"
   ]
  }
 ],
 "metadata": {
  "kernelspec": {
   "display_name": "Python 3 (ipykernel)",
   "language": "python",
   "name": "python3"
  },
  "language_info": {
   "codemirror_mode": {
    "name": "ipython",
    "version": 3
   },
   "file_extension": ".py",
   "mimetype": "text/x-python",
   "name": "python",
   "nbconvert_exporter": "python",
   "pygments_lexer": "ipython3",
   "version": "3.9.13"
  }
 },
 "nbformat": 4,
 "nbformat_minor": 5
}

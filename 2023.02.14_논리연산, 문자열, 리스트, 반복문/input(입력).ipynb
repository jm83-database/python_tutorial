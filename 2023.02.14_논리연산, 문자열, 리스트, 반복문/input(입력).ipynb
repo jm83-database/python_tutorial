{
 "cells": [
  {
   "cell_type": "code",
   "execution_count": 1,
   "id": "3c792f43-0aa7-4efa-bee4-b1e3fc08402a",
   "metadata": {},
   "outputs": [
    {
     "name": "stdin",
     "output_type": "stream",
     "text": [
      "Message 1111\n"
     ]
    }
   ],
   "source": [
    "# 파이썬 input(입력)\n",
    "# string(문자열)로 입력값 반환\n",
    "input_value = input(\"Message\")"
   ]
  },
  {
   "cell_type": "code",
   "execution_count": 2,
   "id": "97788106-0b94-4393-87ce-e15e206d7171",
   "metadata": {},
   "outputs": [
    {
     "name": "stdout",
     "output_type": "stream",
     "text": [
      "input value: 1111 \n",
      "type: <class 'str'>\n"
     ]
    }
   ],
   "source": [
    "print(\"input value:\", input_value, \"\\ntype:\", type(input_value))"
   ]
  },
  {
   "cell_type": "code",
   "execution_count": 3,
   "id": "7c43e14c-9012-41d1-9093-a6e480d34634",
   "metadata": {},
   "outputs": [
    {
     "name": "stdout",
     "output_type": "stream",
     "text": [
      "input_value: 1111 \n",
      "type: <class 'int'>\n"
     ]
    }
   ],
   "source": [
    "input_value = int(input_value)\n",
    "print(\"input_value:\", input_value, \"\\ntype:\", type(input_value))"
   ]
  },
  {
   "cell_type": "code",
   "execution_count": 4,
   "id": "f456a707-6d3c-45bc-80e0-d09365422985",
   "metadata": {},
   "outputs": [
    {
     "name": "stdin",
     "output_type": "stream",
     "text": [
      "정수 외에 다른 값을 입력해보세요. 1.1\n"
     ]
    },
    {
     "name": "stdout",
     "output_type": "stream",
     "text": [
      "1.1\n"
     ]
    }
   ],
   "source": [
    "input_value2 = input(\"정수 외에 다른 값을 입력해보세요.\")\n",
    "print(input_value2)"
   ]
  },
  {
   "cell_type": "code",
   "execution_count": 5,
   "id": "735b2034-611c-4ad8-9726-0a244e126414",
   "metadata": {},
   "outputs": [
    {
     "name": "stdout",
     "output_type": "stream",
     "text": [
      "1.1\n"
     ]
    }
   ],
   "source": [
    "input_value2 = float(input_value2)\n",
    "print(input_value2)"
   ]
  },
  {
   "cell_type": "code",
   "execution_count": 6,
   "id": "2e810ec1-7719-441c-b42a-b5ab4634d026",
   "metadata": {},
   "outputs": [
    {
     "name": "stdout",
     "output_type": "stream",
     "text": [
      "1\n"
     ]
    }
   ],
   "source": [
    "input_value2 = int(input_value2)\n",
    "print(input_value2)"
   ]
  },
  {
   "cell_type": "code",
   "execution_count": 7,
   "id": "3454d84b-4749-4ae6-ae92-181e1d2bc5a3",
   "metadata": {},
   "outputs": [
    {
     "name": "stdin",
     "output_type": "stream",
     "text": [
      "정수를 입력해주세요: 12.3\n"
     ]
    },
    {
     "ename": "ValueError",
     "evalue": "invalid literal for int() with base 10: '12.3'",
     "output_type": "error",
     "traceback": [
      "\u001b[1;31m---------------------------------------------------------------------------\u001b[0m",
      "\u001b[1;31mValueError\u001b[0m                                Traceback (most recent call last)",
      "\u001b[1;32m~\\AppData\\Local\\Temp\\ipykernel_9372\\463968921.py\u001b[0m in \u001b[0;36m<module>\u001b[1;34m\u001b[0m\n\u001b[1;32m----> 1\u001b[1;33m \u001b[0minput_value4\u001b[0m \u001b[1;33m=\u001b[0m \u001b[0mint\u001b[0m\u001b[1;33m(\u001b[0m\u001b[0minput\u001b[0m\u001b[1;33m(\u001b[0m\u001b[1;34m\"정수를 입력해주세요:\"\u001b[0m\u001b[1;33m)\u001b[0m\u001b[1;33m)\u001b[0m\u001b[1;33m\u001b[0m\u001b[1;33m\u001b[0m\u001b[0m\n\u001b[0m\u001b[0;32m      2\u001b[0m \u001b[0mprint\u001b[0m\u001b[1;33m(\u001b[0m\u001b[0minput_value4\u001b[0m\u001b[1;33m)\u001b[0m\u001b[1;33m\u001b[0m\u001b[1;33m\u001b[0m\u001b[0m\n",
      "\u001b[1;31mValueError\u001b[0m: invalid literal for int() with base 10: '12.3'"
     ]
    }
   ],
   "source": [
    "input_value4 = int(input(\"정수를 입력해주세요:\"))\n",
    "print(input_value4)"
   ]
  }
 ],
 "metadata": {
  "kernelspec": {
   "display_name": "Python 3 (ipykernel)",
   "language": "python",
   "name": "python3"
  },
  "language_info": {
   "codemirror_mode": {
    "name": "ipython",
    "version": 3
   },
   "file_extension": ".py",
   "mimetype": "text/x-python",
   "name": "python",
   "nbconvert_exporter": "python",
   "pygments_lexer": "ipython3",
   "version": "3.9.13"
  }
 },
 "nbformat": 4,
 "nbformat_minor": 5
}

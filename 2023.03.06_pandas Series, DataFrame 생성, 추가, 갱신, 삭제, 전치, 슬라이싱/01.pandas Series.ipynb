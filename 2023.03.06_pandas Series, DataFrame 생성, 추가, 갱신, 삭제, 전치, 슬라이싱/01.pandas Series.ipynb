{
 "cells": [
  {
   "cell_type": "code",
   "execution_count": 1,
   "id": "0611ecbe-7273-471a-bbae-51eadd2fdc75",
   "metadata": {},
   "outputs": [],
   "source": [
    "import pandas as pd"
   ]
  },
  {
   "cell_type": "code",
   "execution_count": 2,
   "id": "b1875536-92e5-4f72-ae71-0fc5083332c9",
   "metadata": {},
   "outputs": [],
   "source": [
    "# 대부분의 데이터는 시계열(series)나 표(table)형태로 나타낸다.\n",
    "# Pandas는 이러한 데이터를 다루기 위한\n",
    "# Series 클래스와 DataFrame 클래스 제공\n",
    "\n",
    "# class pandas.Series(data = None, index = None, dtype = None,\n",
    "#                    name = None, copy = False, fastpath = False)\n",
    "\n",
    "# index는 label이라고 함.\n",
    "# index는 data와 length가 동일해야 함\n",
    "# label은 꼭 유일(unique)할 필요가 없다.\n",
    "# 대신 반드시 hashable type만 사용 가능\n",
    "# 만약 index를 생략하면 RangeIndex(0, 1, 2, ..., n) 제공"
   ]
  },
  {
   "cell_type": "markdown",
   "id": "7126a214-939c-46b5-9b9e-468e0c9fe4dc",
   "metadata": {},
   "source": [
    "# Series class"
   ]
  },
  {
   "cell_type": "code",
   "execution_count": 3,
   "id": "304dac1c-f21c-40dd-af69-8745a335ff9c",
   "metadata": {},
   "outputs": [
    {
     "data": {
      "text/plain": [
       "1     하나\n",
       "2      둘\n",
       "3      셋\n",
       "4      넷\n",
       "5     다섯\n",
       "6     여섯\n",
       "7     일곱\n",
       "8     여덟\n",
       "9     아홉\n",
       "10     열\n",
       "dtype: object"
      ]
     },
     "execution_count": 3,
     "metadata": {},
     "output_type": "execute_result"
    }
   ],
   "source": [
    "series = pd.Series([\"하나\", \"둘\", \"셋\", \"넷\", \"다섯\",\n",
    "                    \"여섯\", \"일곱\", \"여덟\", \"아홉\", \"열\"],\n",
    "                   index = [_ for _ in range(1, 11)])\n",
    "                # index를 1부터 시작하게 초기값 설정\n",
    "series"
   ]
  },
  {
   "cell_type": "code",
   "execution_count": 4,
   "id": "4acbdbf3-3e9b-4b71-b00f-335b1e7e99b0",
   "metadata": {},
   "outputs": [
    {
     "data": {
      "text/plain": [
       "서울    9904312\n",
       "부산    3448737\n",
       "인천    2890451\n",
       "대구    2466052\n",
       "dtype: int64"
      ]
     },
     "execution_count": 4,
     "metadata": {},
     "output_type": "execute_result"
    }
   ],
   "source": [
    "s = pd.Series([9_904_312, 3_448_737, 2_890_451, 2_466_052],\n",
    "             index = [\"서울\", \"부산\", \"인천\", \"대구\"])\n",
    "s"
   ]
  },
  {
   "cell_type": "code",
   "execution_count": 5,
   "id": "4355be29-db17-47f0-b908-9563dcb96e71",
   "metadata": {},
   "outputs": [
    {
     "data": {
      "text/plain": [
       "0    10\n",
       "1    11\n",
       "2    12\n",
       "3    13\n",
       "dtype: int64"
      ]
     },
     "execution_count": 5,
     "metadata": {},
     "output_type": "execute_result"
    }
   ],
   "source": [
    "pd.Series(range(10,14))\n",
    "# index 지정을 안 하면 Series의 index는 0부터 시작하는 정수"
   ]
  },
  {
   "cell_type": "markdown",
   "id": "3d40f66b-fb5f-4781-b0bb-5f7518463474",
   "metadata": {},
   "source": [
    "## Series의 index"
   ]
  },
  {
   "cell_type": "code",
   "execution_count": 6,
   "id": "7171bd94-097d-45ed-81ff-94fba28674fe",
   "metadata": {},
   "outputs": [
    {
     "data": {
      "text/plain": [
       "Index(['서울', '부산', '인천', '대구'], dtype='object')"
      ]
     },
     "execution_count": 6,
     "metadata": {},
     "output_type": "execute_result"
    }
   ],
   "source": [
    "s.index"
   ]
  },
  {
   "cell_type": "code",
   "execution_count": 7,
   "id": "47048422-4fa8-4c96-9c9f-6d3688659fc5",
   "metadata": {},
   "outputs": [
    {
     "data": {
      "text/plain": [
       "array([9904312, 3448737, 2890451, 2466052], dtype=int64)"
      ]
     },
     "execution_count": 7,
     "metadata": {},
     "output_type": "execute_result"
    }
   ],
   "source": [
    "s.values # 데이터 타입이 ndarrays이다."
   ]
  },
  {
   "cell_type": "markdown",
   "id": "5315ac95-7208-4c2b-8247-3542a482feea",
   "metadata": {},
   "source": [
    "## Series 데이터에 이름 붙이기"
   ]
  },
  {
   "cell_type": "code",
   "execution_count": 8,
   "id": "e475d248-4af5-4896-bef8-5175d9a0059d",
   "metadata": {},
   "outputs": [
    {
     "data": {
      "text/plain": [
       "도시\n",
       "서울    9904312\n",
       "부산    3448737\n",
       "인천    2890451\n",
       "대구    2466052\n",
       "Name: 인구, dtype: int64"
      ]
     },
     "execution_count": 8,
     "metadata": {},
     "output_type": "execute_result"
    }
   ],
   "source": [
    "s.name = \"인구\" # Series 이름 생성\n",
    "s.index.name = \"도시\" # 인덱스 상단에 이름 생성\n",
    "s"
   ]
  },
  {
   "cell_type": "code",
   "execution_count": 9,
   "id": "cae69843-9f80-4c69-9ed1-8936d0813e4a",
   "metadata": {},
   "outputs": [
    {
     "data": {
      "text/plain": [
       "a    1\n",
       "b    2\n",
       "c    3\n",
       "dtype: int64"
      ]
     },
     "execution_count": 9,
     "metadata": {},
     "output_type": "execute_result"
    }
   ],
   "source": [
    "d = {'a' : 1, 'b' : 2, 'c' : 3}\n",
    "ser = pd.Series(data = d, index = ['a', 'b', 'c'])\n",
    "ser"
   ]
  },
  {
   "cell_type": "code",
   "execution_count": 10,
   "id": "910659fc-9df3-4c53-bac5-74b554175f35",
   "metadata": {},
   "outputs": [
    {
     "data": {
      "text/plain": [
       "x   NaN\n",
       "y   NaN\n",
       "z   NaN\n",
       "dtype: float64"
      ]
     },
     "execution_count": 10,
     "metadata": {},
     "output_type": "execute_result"
    }
   ],
   "source": [
    "d = {'a' : 1, 'b' : 2, 'c' : 3} # key값이 최초에 index으로 사용\n",
    "ser = pd.Series(data = d, index = ['x', 'y', 'z'])\n",
    "# 키워드 인수로 넘겨받은 index 값 재할당\n",
    "ser # index가 재할당 되면서 맞는 데이터가 없음(NaN)"
   ]
  },
  {
   "cell_type": "markdown",
   "id": "41b27d85-ee99-4df5-ab1d-aae92b3031fa",
   "metadata": {},
   "source": [
    "## index 없이 dict 객체로 Series 만들기"
   ]
  },
  {
   "cell_type": "code",
   "execution_count": 11,
   "id": "aeae4c50-5622-487f-aa78-6f47ca9338ba",
   "metadata": {},
   "outputs": [
    {
     "data": {
      "text/plain": [
       "서울    9904312\n",
       "부산    3448737\n",
       "인천    2890451\n",
       "대구    2466052\n",
       "dtype: int64"
      ]
     },
     "execution_count": 11,
     "metadata": {},
     "output_type": "execute_result"
    }
   ],
   "source": [
    "s2 = pd.Series({\"서울\": 9_904_312,\n",
    "                \"부산\": 3_448_737,\n",
    "                \"인천\": 2_890_451,\n",
    "                \"대구\": 2_466_052\n",
    "                })\n",
    "s2"
   ]
  },
  {
   "cell_type": "markdown",
   "id": "1cb9b167-ffde-47db-b7bf-275009cb7e3f",
   "metadata": {},
   "source": [
    "## Series index를 속성처럼 활용하기"
   ]
  },
  {
   "cell_type": "code",
   "execution_count": 12,
   "id": "6901ede3-5d7c-478a-90c5-2993ea7f07f9",
   "metadata": {},
   "outputs": [
    {
     "data": {
      "text/plain": [
       "a    1\n",
       "b    2\n",
       "c    3\n",
       "dtype: int64"
      ]
     },
     "execution_count": 12,
     "metadata": {},
     "output_type": "execute_result"
    }
   ],
   "source": [
    "d = {'a' : 1, 'b' : 2, 'c' : 3}\n",
    "ser = pd.Series(data = d, index = ['a', 'b', 'c'])\n",
    "ser"
   ]
  },
  {
   "cell_type": "code",
   "execution_count": 13,
   "id": "d46bfd4b-fdb9-4230-a254-25f0012b6100",
   "metadata": {},
   "outputs": [
    {
     "data": {
      "text/plain": [
       "(1, 2, 3)"
      ]
     },
     "execution_count": 13,
     "metadata": {},
     "output_type": "execute_result"
    }
   ],
   "source": [
    "ser.a, ser.b, ser.c"
   ]
  },
  {
   "cell_type": "markdown",
   "id": "0241d3f5-547d-43e3-8d14-abf99ee63897",
   "metadata": {},
   "source": [
    "# Series의 특징"
   ]
  },
  {
   "cell_type": "code",
   "execution_count": 14,
   "id": "6f6fa60d-561e-4e40-82f1-ad61e8ccfa91",
   "metadata": {},
   "outputs": [],
   "source": [
    "# Series 객체는 index label을 키(key)로 사용하기에\n",
    "# 딕셔너리 자료형과 비슷한 특징을 갖고 있음\n",
    "\n",
    "# 예를 들어 in 연산과 itmes()메서드를 사용해서\n",
    "# for문 루프를 돌려 각 요소의 key와 value에 접근 가능"
   ]
  },
  {
   "cell_type": "code",
   "execution_count": 15,
   "id": "4fbac7f6-269b-4670-9395-15a5b7536922",
   "metadata": {},
   "outputs": [
    {
     "data": {
      "text/plain": [
       "True"
      ]
     },
     "execution_count": 15,
     "metadata": {},
     "output_type": "execute_result"
    }
   ],
   "source": [
    "\"서울\" in s # 인덱스 레이블 중에 서울이 있는가"
   ]
  },
  {
   "cell_type": "code",
   "execution_count": 16,
   "id": "112703c9-19fd-41e8-9362-49423b7ec11c",
   "metadata": {},
   "outputs": [
    {
     "data": {
      "text/plain": [
       "False"
      ]
     },
     "execution_count": 16,
     "metadata": {},
     "output_type": "execute_result"
    }
   ],
   "source": [
    "\"대전\" in s # 인덱스 레이블 중에 대전이 있는가"
   ]
  },
  {
   "cell_type": "code",
   "execution_count": 17,
   "id": "a0077920-95f4-4e65-b01a-3782dc1eba5d",
   "metadata": {},
   "outputs": [
    {
     "name": "stdout",
     "output_type": "stream",
     "text": [
      "서울, 9904312\n",
      "부산, 3448737\n",
      "인천, 2890451\n",
      "대구, 2466052\n"
     ]
    }
   ],
   "source": [
    "for k, v in s.items():\n",
    "    print(f\"{k}, {v}\")"
   ]
  },
  {
   "cell_type": "markdown",
   "id": "0f7b1a69-4760-40b7-947a-986ded7626a2",
   "metadata": {},
   "source": [
    "# Series 연산하기"
   ]
  },
  {
   "cell_type": "code",
   "execution_count": 18,
   "id": "18199c62-4f1f-487c-ad3d-e7b129946c64",
   "metadata": {},
   "outputs": [
    {
     "data": {
      "text/plain": [
       "도시\n",
       "서울    9.904312\n",
       "부산    3.448737\n",
       "인천    2.890451\n",
       "대구    2.466052\n",
       "Name: 인구, dtype: float64"
      ]
     },
     "execution_count": 18,
     "metadata": {},
     "output_type": "execute_result"
    }
   ],
   "source": [
    "s / 1000000 # index label을 제외한\n",
    "            # Series value에만 연산 적용"
   ]
  },
  {
   "cell_type": "markdown",
   "id": "0730d677-1478-429e-95ad-05c288038c2e",
   "metadata": {},
   "source": [
    "# Series 인덱싱"
   ]
  },
  {
   "cell_type": "code",
   "execution_count": 19,
   "id": "d5bb9df2-d276-488e-b652-3deb0124cbc9",
   "metadata": {},
   "outputs": [
    {
     "data": {
      "text/plain": [
       "(3448737, 3448737)"
      ]
     },
     "execution_count": 19,
     "metadata": {},
     "output_type": "execute_result"
    }
   ],
   "source": [
    "# Series는 numpy 배열에서 가능한 인덱싱 방법 이외에도\n",
    "# index label을 이용한 인덱싱도 가능\n",
    "s[1], s[\"부산\"] # 배열 인덱싱, index label 인덱싱 순서"
   ]
  },
  {
   "cell_type": "code",
   "execution_count": 20,
   "id": "bde7112c-bcd4-47ec-9593-761f8111cc6a",
   "metadata": {},
   "outputs": [
    {
     "data": {
      "text/plain": [
       "(2466052, 2466052)"
      ]
     },
     "execution_count": 20,
     "metadata": {},
     "output_type": "execute_result"
    }
   ],
   "source": [
    "s[3], s[\"대구\"]"
   ]
  },
  {
   "cell_type": "code",
   "execution_count": 21,
   "id": "b9c09bee-94bc-4d71-a65d-46f6ee5e8fc2",
   "metadata": {},
   "outputs": [
    {
     "data": {
      "text/plain": [
       "도시\n",
       "서울    9904312\n",
       "대구    2466052\n",
       "부산    3448737\n",
       "Name: 인구, dtype: int64"
      ]
     },
     "execution_count": 21,
     "metadata": {},
     "output_type": "execute_result"
    }
   ],
   "source": [
    "# 배열 인덱싱을 하면 부분적인 값을 가지는 Series 자료형 반환\n",
    "# 자료의 순서를 바꾸거나 특정한 자료만 취사 선택 가능\n",
    "\n",
    "s[[0, 3, 1]]"
   ]
  },
  {
   "cell_type": "code",
   "execution_count": 22,
   "id": "d2798dc1-aaa1-45b1-a0bd-3a9bb9ae31be",
   "metadata": {},
   "outputs": [
    {
     "data": {
      "text/plain": [
       "도시\n",
       "서울    9904312\n",
       "대구    2466052\n",
       "부산    3448737\n",
       "Name: 인구, dtype: int64"
      ]
     },
     "execution_count": 22,
     "metadata": {},
     "output_type": "execute_result"
    }
   ],
   "source": [
    "s[[\"서울\", \"대구\", \"부산\"]]"
   ]
  },
  {
   "cell_type": "code",
   "execution_count": 23,
   "id": "eff4b2a1-edbe-4629-b0f9-d894cf13428d",
   "metadata": {},
   "outputs": [
    {
     "data": {
      "text/plain": [
       "도시\n",
       "서울    9904312\n",
       "Name: 인구, dtype: int64"
      ]
     },
     "execution_count": 23,
     "metadata": {},
     "output_type": "execute_result"
    }
   ],
   "source": [
    "# 단 하나의 값을 시리즈 형태로 가져오고 싶으면\n",
    "# 아래와 같이 값이 하나인 리스트로 인덱싱하여 작성 가능\n",
    "\n",
    "s[[0]]"
   ]
  },
  {
   "cell_type": "markdown",
   "id": "ee48e6ff-8a97-44d2-bd11-cb774a8ac7ba",
   "metadata": {},
   "source": [
    "# Series 슬라이싱"
   ]
  },
  {
   "cell_type": "code",
   "execution_count": 24,
   "id": "d87bd1d6-5ed3-4b38-9538-7ced11e540ab",
   "metadata": {},
   "outputs": [
    {
     "data": {
      "text/plain": [
       "도시\n",
       "부산    3448737\n",
       "인천    2890451\n",
       "Name: 인구, dtype: int64"
      ]
     },
     "execution_count": 24,
     "metadata": {},
     "output_type": "execute_result"
    }
   ],
   "source": [
    "# 슬라이싱을 해도 부분적인 Series 반환\n",
    "# 이 때 문자열 label을 이용하여 슬라이싱을 하는 경우에는\n",
    "# 숫자 인덱싱과 달리 콜론(:) 기호 뒤에 오는 값도 결과에 포함되므로 주의!!\n",
    "\n",
    "s[1:3] # 두번째(1)부터 세번째(2)까지 (네번째 (3) 미포함)\n",
    "# 숫자는 끝을 알기 때문에 뒷자리 제외"
   ]
  },
  {
   "cell_type": "code",
   "execution_count": 25,
   "id": "14441c59-fc8b-4e48-ba60-1581a5b5f526",
   "metadata": {},
   "outputs": [
    {
     "data": {
      "text/plain": [
       "도시\n",
       "부산    3448737\n",
       "인천    2890451\n",
       "대구    2466052\n",
       "Name: 인구, dtype: int64"
      ]
     },
     "execution_count": 25,
     "metadata": {},
     "output_type": "execute_result"
    }
   ],
   "source": [
    "s[\"부산\":\"대구\"] # 부산에서 대구까지 (대구도 포함됨)\n",
    "# str는 끝을 모르기 때문에 본인 포함"
   ]
  },
  {
   "cell_type": "markdown",
   "id": "eade3837-39ea-4dbc-8733-28979f9366ae",
   "metadata": {},
   "source": [
    "# Series index 기반 연산"
   ]
  },
  {
   "cell_type": "code",
   "execution_count": 26,
   "id": "fce45450-8197-4f46-a1bf-e1d4297e0265",
   "metadata": {},
   "outputs": [
    {
     "data": {
      "text/plain": [
       "도시\n",
       "서울    9904312\n",
       "부산    3448737\n",
       "인천    2890451\n",
       "대구    2466052\n",
       "Name: 인구, dtype: int64"
      ]
     },
     "execution_count": 26,
     "metadata": {},
     "output_type": "execute_result"
    }
   ],
   "source": [
    "s = pd.Series([9_904_312, 3_448_737, 2_890_451, 2_466_052],\n",
    "             index = [\"서울\", \"부산\", \"인천\", \"대구\"])\n",
    "s.name = \"인구\"\n",
    "s.index.name = \"도시\"\n",
    "s"
   ]
  },
  {
   "cell_type": "code",
   "execution_count": 27,
   "id": "18daf384-dd2d-4344-9765-57eff35d0222",
   "metadata": {},
   "outputs": [
    {
     "data": {
      "text/plain": [
       "서울    9631482\n",
       "부산    3393191\n",
       "인천    2632035\n",
       "대전    1490158\n",
       "dtype: int64"
      ]
     },
     "execution_count": 27,
     "metadata": {},
     "output_type": "execute_result"
    }
   ],
   "source": [
    "s2 = pd.Series({\"서울\" : 9631482,\n",
    "                \"부산\" : 3393191,\n",
    "                \"인천\" : 2632035,\n",
    "                \"대전\" : 1490158\n",
    "                })\n",
    "s2"
   ]
  },
  {
   "cell_type": "code",
   "execution_count": 28,
   "id": "8426c588-08de-450c-8a6b-44450f9caf60",
   "metadata": {},
   "outputs": [
    {
     "data": {
      "text/plain": [
       "대구         NaN\n",
       "대전         NaN\n",
       "부산     55546.0\n",
       "서울    272830.0\n",
       "인천    258416.0\n",
       "dtype: float64"
      ]
     },
     "execution_count": 28,
     "metadata": {},
     "output_type": "execute_result"
    }
   ],
   "source": [
    "ds = s - s2\n",
    "ds\n",
    "# NaN 값이 float 자료형에서만 표현 가능하므로 다른 계산 결과도\n",
    "# 모두 float 자료형이 되는 점 주의!!"
   ]
  },
  {
   "cell_type": "markdown",
   "id": "38cd07a2-8c7b-47ea-aa99-3f3a852073a0",
   "metadata": {},
   "source": [
    "## Series에서 값이 NaN인지 확인"
   ]
  },
  {
   "cell_type": "code",
   "execution_count": 29,
   "id": "bbfda112-b06d-4a95-aa18-42b0e6be22d2",
   "metadata": {},
   "outputs": [
    {
     "data": {
      "text/plain": [
       "대구     True\n",
       "대전     True\n",
       "부산    False\n",
       "서울    False\n",
       "인천    False\n",
       "dtype: bool"
      ]
     },
     "execution_count": 29,
     "metadata": {},
     "output_type": "execute_result"
    }
   ],
   "source": [
    "ds.isnull()"
   ]
  },
  {
   "cell_type": "markdown",
   "id": "fb303f80-3292-4802-a8bc-f05ccdb3f090",
   "metadata": {},
   "source": [
    "## Series에서 값이 NaN이 아닌지 확인"
   ]
  },
  {
   "cell_type": "code",
   "execution_count": 30,
   "id": "bbedee03-af8e-4340-822a-94440436deb4",
   "metadata": {},
   "outputs": [
    {
     "data": {
      "text/plain": [
       "대구    False\n",
       "대전    False\n",
       "부산     True\n",
       "서울     True\n",
       "인천     True\n",
       "dtype: bool"
      ]
     },
     "execution_count": 30,
     "metadata": {},
     "output_type": "execute_result"
    }
   ],
   "source": [
    "ds.notnull()"
   ]
  },
  {
   "cell_type": "markdown",
   "id": "8e533257-8a34-4f30-b857-fd31b1b10140",
   "metadata": {},
   "source": [
    "## Series에서 NaN이 아닌 값만 인덱싱으로 구하기"
   ]
  },
  {
   "cell_type": "code",
   "execution_count": 31,
   "id": "459b785a-4722-40f4-9661-60bcee07dd02",
   "metadata": {},
   "outputs": [
    {
     "data": {
      "text/plain": [
       "부산     55546.0\n",
       "서울    272830.0\n",
       "인천    258416.0\n",
       "dtype: float64"
      ]
     },
     "execution_count": 31,
     "metadata": {},
     "output_type": "execute_result"
    }
   ],
   "source": [
    "ds[ds.notnull()]"
   ]
  },
  {
   "cell_type": "markdown",
   "id": "fd5e24ed-1b23-4f99-a229-1e7da7a108ae",
   "metadata": {},
   "source": [
    "## Series에서 NaN이 아닌 값 구하기"
   ]
  },
  {
   "cell_type": "code",
   "execution_count": 32,
   "id": "7ce606dd-475b-4119-8107-80766e4aff2b",
   "metadata": {},
   "outputs": [
    {
     "data": {
      "text/plain": [
       "도시\n",
       "서울    9904312\n",
       "부산    3448737\n",
       "인천    2890451\n",
       "대구    2466052\n",
       "Name: 인구, dtype: int64"
      ]
     },
     "execution_count": 32,
     "metadata": {},
     "output_type": "execute_result"
    }
   ],
   "source": [
    "s # 2015년 도시별 인구"
   ]
  },
  {
   "cell_type": "code",
   "execution_count": 33,
   "id": "15baf05d-f4a0-4f9a-a639-d4d1b01bb178",
   "metadata": {},
   "outputs": [
    {
     "data": {
      "text/plain": [
       "서울    9631482\n",
       "부산    3393191\n",
       "인천    2632035\n",
       "대전    1490158\n",
       "dtype: int64"
      ]
     },
     "execution_count": 33,
     "metadata": {},
     "output_type": "execute_result"
    }
   ],
   "source": [
    "s2 # 2010년 도시별 인구"
   ]
  },
  {
   "cell_type": "code",
   "execution_count": 34,
   "id": "212f1eb6-713d-45a7-b344-2ca577b973e6",
   "metadata": {},
   "outputs": [
    {
     "data": {
      "text/plain": [
       "부산    1.636984\n",
       "서울    2.832690\n",
       "인천    9.818107\n",
       "dtype: float64"
      ]
     },
     "execution_count": 34,
     "metadata": {},
     "output_type": "execute_result"
    }
   ],
   "source": [
    "rs = (s - s2) / s2 * 100\n",
    "rs = rs[rs.notnull()]\n",
    "rs"
   ]
  },
  {
   "cell_type": "markdown",
   "id": "54123f90-0cd0-43a0-bd7b-0c59f982609a",
   "metadata": {},
   "source": [
    " # Series 데이터 추가, 갱신, 삭제"
   ]
  },
  {
   "cell_type": "markdown",
   "id": "56dd252a-df62-48bb-89c4-8cc34898dda1",
   "metadata": {},
   "source": [
    "## Series 데이터 갱신"
   ]
  },
  {
   "cell_type": "code",
   "execution_count": 35,
   "id": "63f78f81-e27b-4ce7-946f-b241f8caa2c5",
   "metadata": {},
   "outputs": [
    {
     "data": {
      "text/plain": [
       "부산    1.636984\n",
       "서울    2.832690\n",
       "인천    9.818107\n",
       "dtype: float64"
      ]
     },
     "execution_count": 35,
     "metadata": {},
     "output_type": "execute_result"
    }
   ],
   "source": [
    "# 딕셔너리와 비슷하게 인덱싱을 한 경우에 맞춰 사용하면\n",
    "# 데이터를 추가(add)하거나 갱신(update)할 수 있다.\n",
    "\n",
    "# 기존에 있는 index에 값을 할당하면 갱신\n",
    "\n",
    "rs # 인구 증가율(%)"
   ]
  },
  {
   "cell_type": "code",
   "execution_count": 36,
   "id": "ca408fe0-3d35-4dd0-bce0-fc1eaf716ac4",
   "metadata": {},
   "outputs": [
    {
     "data": {
      "text/plain": [
       "부산    1.630000\n",
       "서울    2.832690\n",
       "인천    9.818107\n",
       "dtype: float64"
      ]
     },
     "execution_count": 36,
     "metadata": {},
     "output_type": "execute_result"
    }
   ],
   "source": [
    "rs[\"부산\"] = 1.63\n",
    "rs"
   ]
  },
  {
   "cell_type": "markdown",
   "id": "031b1893-e970-47de-bd35-1e4464b7e603",
   "metadata": {},
   "source": [
    "## Series 데이터 추가"
   ]
  },
  {
   "cell_type": "code",
   "execution_count": 37,
   "id": "fd466e2b-9682-4611-a05e-5fd7d3e6b202",
   "metadata": {},
   "outputs": [
    {
     "data": {
      "text/plain": [
       "부산    1.630000\n",
       "서울    2.832690\n",
       "인천    9.818107\n",
       "대구    1.410000\n",
       "dtype: float64"
      ]
     },
     "execution_count": 37,
     "metadata": {},
     "output_type": "execute_result"
    }
   ],
   "source": [
    "# 없는 index에 값을 할당하면 Series에 데이터가 추가(add)\n",
    "\n",
    "rs[\"대구\"] = 1.41 # rs에 없던 대구에 대한 정보 추가\n",
    "rs"
   ]
  },
  {
   "cell_type": "markdown",
   "id": "f7c1db2d-b8e5-441d-b151-3bbb9d741ebe",
   "metadata": {},
   "source": [
    "## Series 데이터 삭제"
   ]
  },
  {
   "cell_type": "code",
   "execution_count": 38,
   "id": "cdb506a2-d1df-4029-95e3-3444542339df",
   "metadata": {},
   "outputs": [
    {
     "data": {
      "text/plain": [
       "부산    1.630000\n",
       "인천    9.818107\n",
       "대구    1.410000\n",
       "dtype: float64"
      ]
     },
     "execution_count": 38,
     "metadata": {},
     "output_type": "execute_result"
    }
   ],
   "source": [
    "# 데이터 삭제할 때도 딕셔너리처럼 del 명령 사용\n",
    "\n",
    "del rs[\"서울\"]\n",
    "rs"
   ]
  }
 ],
 "metadata": {
  "kernelspec": {
   "display_name": "Python 3 (ipykernel)",
   "language": "python",
   "name": "python3"
  },
  "language_info": {
   "codemirror_mode": {
    "name": "ipython",
    "version": 3
   },
   "file_extension": ".py",
   "mimetype": "text/x-python",
   "name": "python",
   "nbconvert_exporter": "python",
   "pygments_lexer": "ipython3",
   "version": "3.9.13"
  }
 },
 "nbformat": 4,
 "nbformat_minor": 5
}

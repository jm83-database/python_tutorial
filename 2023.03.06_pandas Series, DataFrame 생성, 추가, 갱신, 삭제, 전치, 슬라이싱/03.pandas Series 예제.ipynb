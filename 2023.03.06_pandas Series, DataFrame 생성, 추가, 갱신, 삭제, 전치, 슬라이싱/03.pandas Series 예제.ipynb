{
 "cells": [
  {
   "cell_type": "code",
   "execution_count": 1,
   "id": "4c95aad0-606a-498d-b72e-d7e049b2a275",
   "metadata": {},
   "outputs": [],
   "source": [
    "import pandas as pd"
   ]
  },
  {
   "cell_type": "code",
   "execution_count": 2,
   "id": "84eb6e3a-73c0-42f6-8db7-a5669f6ea89f",
   "metadata": {},
   "outputs": [
    {
     "data": {
      "text/plain": [
       "0    10\n",
       "1    20\n",
       "2    30\n",
       "3    40\n",
       "4    50\n",
       "5    60\n",
       "6    70\n",
       "7    80\n",
       "8    90\n",
       "dtype: int64"
      ]
     },
     "execution_count": 2,
     "metadata": {},
     "output_type": "execute_result"
    }
   ],
   "source": [
    "s1 = pd.Series(range(10, 91, 10))\n",
    "s1"
   ]
  },
  {
   "cell_type": "code",
   "execution_count": 3,
   "id": "10078921-68d7-405a-b2fd-4aa6cb6ed356",
   "metadata": {},
   "outputs": [
    {
     "data": {
      "text/plain": [
       "4"
      ]
     },
     "execution_count": 3,
     "metadata": {},
     "output_type": "execute_result"
    }
   ],
   "source": [
    "s2 = sum(s1.values > 50)\n",
    "s2"
   ]
  },
  {
   "cell_type": "code",
   "execution_count": 4,
   "id": "f1ac626d-cc11-4b28-8023-644dbfd60798",
   "metadata": {},
   "outputs": [
    {
     "data": {
      "text/plain": [
       "이름\n",
       "철수     88\n",
       "영희     95\n",
       "길동    100\n",
       "몽룡     67\n",
       "Name: 사회 시험점수, dtype: int64"
      ]
     },
     "execution_count": 4,
     "metadata": {},
     "output_type": "execute_result"
    }
   ],
   "source": [
    "s3 = pd.Series({\"철수\" : 88,\n",
    "                \"영희\" : 95,\n",
    "                \"길동\" : 100,\n",
    "                \"몽룡\" : 67\n",
    "               })\n",
    "s3.name = \"사회 시험점수\"\n",
    "s3.index.name = \"이름\"\n",
    "\n",
    "s3"
   ]
  },
  {
   "cell_type": "code",
   "execution_count": null,
   "id": "8631f069-9643-4696-9590-e3e45f76cb3e",
   "metadata": {},
   "outputs": [],
   "source": []
  },
  {
   "cell_type": "code",
   "execution_count": 5,
   "id": "25a280b4-160a-41b7-af3b-1f5ac30c2df0",
   "metadata": {},
   "outputs": [
    {
     "data": {
      "text/plain": [
       "서울    9904312\n",
       "부산    3448737\n",
       "인천    2890451\n",
       "대구    2466052\n",
       "dtype: int64"
      ]
     },
     "execution_count": 5,
     "metadata": {},
     "output_type": "execute_result"
    }
   ],
   "source": [
    "s4 = pd.Series({\"서울\": 9_904_312,\n",
    "                \"부산\": 3_448_737,\n",
    "                \"인천\": 2_890_451,\n",
    "                \"대구\": 2_466_052\n",
    "                })\n",
    "s4"
   ]
  },
  {
   "cell_type": "code",
   "execution_count": 6,
   "id": "1b8254b1-07da-48ac-ae73-b17e7717e198",
   "metadata": {},
   "outputs": [
    {
     "name": "stdout",
     "output_type": "stream",
     "text": [
      "서울의 인구는 300만이 넘습니다.\n",
      "부산의 인구는 300만이 넘습니다.\n"
     ]
    }
   ],
   "source": [
    "for k, v in s4.items():\n",
    "    if v > 3_000_000:\n",
    "        print(f\"{k}의 인구는 300만이 넘습니다.\")"
   ]
  },
  {
   "cell_type": "code",
   "execution_count": 7,
   "id": "b596efa5-eebf-4ece-b67d-2b9f820ff878",
   "metadata": {},
   "outputs": [],
   "source": [
    "# 인천의 인덱스와 값을 시리즈로 조회하기"
   ]
  },
  {
   "cell_type": "code",
   "execution_count": 8,
   "id": "f6b589bd-1061-444b-9640-eb61d19debc5",
   "metadata": {},
   "outputs": [
    {
     "data": {
      "text/plain": [
       "인천    2890451\n",
       "dtype: int64"
      ]
     },
     "execution_count": 8,
     "metadata": {},
     "output_type": "execute_result"
    }
   ],
   "source": [
    "s4[[\"인천\"]]"
   ]
  },
  {
   "cell_type": "code",
   "execution_count": null,
   "id": "ec6da6ca-512b-4424-8b4b-9762fdd7d5b5",
   "metadata": {},
   "outputs": [],
   "source": []
  },
  {
   "cell_type": "code",
   "execution_count": 9,
   "id": "691d5e7a-1126-4b92-858b-8026e5f1c9cf",
   "metadata": {},
   "outputs": [
    {
     "data": {
      "text/plain": [
       "도시\n",
       "서울    9904312\n",
       "부산    3448737\n",
       "인천    2890451\n",
       "대구    2466052\n",
       "Name: 인구, dtype: int64"
      ]
     },
     "execution_count": 9,
     "metadata": {},
     "output_type": "execute_result"
    }
   ],
   "source": [
    "s = pd.Series([9_904_312, 3_448_737, 2_890_451, 2_466_052],\n",
    "             index = [\"서울\", \"부산\", \"인천\", \"대구\"])\n",
    "s.name = \"인구\"\n",
    "s.index.name = \"도시\"\n",
    "s"
   ]
  },
  {
   "cell_type": "code",
   "execution_count": 10,
   "id": "3f235055-b666-45b0-acad-f83f9d80fbf2",
   "metadata": {},
   "outputs": [
    {
     "data": {
      "text/plain": [
       "서울    9631482\n",
       "부산    3393191\n",
       "인천    2632035\n",
       "대전    1490158\n",
       "dtype: int64"
      ]
     },
     "execution_count": 10,
     "metadata": {},
     "output_type": "execute_result"
    }
   ],
   "source": [
    "s2 = pd.Series({\"서울\" : 9631482,\n",
    "                \"부산\" : 3393191,\n",
    "                \"인천\" : 2632035,\n",
    "                \"대전\" : 1490158\n",
    "                })\n",
    "s2"
   ]
  },
  {
   "cell_type": "code",
   "execution_count": 11,
   "id": "40d808a3-9f94-46fb-bd27-ad4d84c2075a",
   "metadata": {},
   "outputs": [
    {
     "data": {
      "text/plain": [
       "인천    9.818107\n",
       "dtype: float64"
      ]
     },
     "execution_count": 11,
     "metadata": {},
     "output_type": "execute_result"
    }
   ],
   "source": [
    "rs = (s - s2) / s2 * 100\n",
    "rs = rs[rs.notnull()]\n",
    "\n",
    "rs[[rs.values.argmax()]]\n",
    "# 하나의 값을 Series로 생성"
   ]
  },
  {
   "cell_type": "code",
   "execution_count": 12,
   "id": "f034f0fa-14e9-43c8-98f2-dcd08e3248e3",
   "metadata": {},
   "outputs": [
    {
     "data": {
      "text/plain": [
       "인천    9.818107\n",
       "dtype: float64"
      ]
     },
     "execution_count": 12,
     "metadata": {},
     "output_type": "execute_result"
    }
   ],
   "source": [
    "rs[ rs==rs.max() ]"
   ]
  },
  {
   "cell_type": "code",
   "execution_count": null,
   "id": "bb641c7b-673d-4aaa-bb4a-50cde104544e",
   "metadata": {},
   "outputs": [],
   "source": []
  },
  {
   "cell_type": "code",
   "execution_count": 13,
   "id": "96bd952c-e3cf-4052-bccd-23a49510e0bb",
   "metadata": {},
   "outputs": [
    {
     "data": {
      "text/plain": [
       "부산    1.636984\n",
       "서울    2.832690\n",
       "인천    9.818107\n",
       "dtype: float64"
      ]
     },
     "execution_count": 13,
     "metadata": {},
     "output_type": "execute_result"
    }
   ],
   "source": [
    "rs"
   ]
  },
  {
   "cell_type": "code",
   "execution_count": 14,
   "id": "d9a1d9d1-459c-4aea-aa2a-3a3ae1d08a09",
   "metadata": {},
   "outputs": [
    {
     "data": {
      "text/plain": [
       "부산    1.63\n",
       "서울    2.83\n",
       "인천    9.82\n",
       "dtype: float64"
      ]
     },
     "execution_count": 14,
     "metadata": {},
     "output_type": "execute_result"
    }
   ],
   "source": [
    "rs[\"부산\":\"인천\"] = (1.63, 2.83, 9.82)\n",
    "rs"
   ]
  },
  {
   "cell_type": "code",
   "execution_count": null,
   "id": "b03fdbe6-2585-498d-b3c5-fca27e12a439",
   "metadata": {},
   "outputs": [],
   "source": []
  },
  {
   "cell_type": "code",
   "execution_count": 15,
   "id": "e63b7f86-812c-4584-8bbc-d7d8853c0aa6",
   "metadata": {},
   "outputs": [],
   "source": [
    "fin1 = {\"카카오\":60010, \"삼성전자\":61000, \"LG전자\": 90000}\n",
    "fin2_value = [60200, 61200, 200100]\n",
    "fin2_index = [\"카카오\", \"삼성전자\", \"네이버\"]"
   ]
  },
  {
   "cell_type": "code",
   "execution_count": 16,
   "id": "3ffc22a5-46cb-4993-a35c-cbe3fbdbc241",
   "metadata": {},
   "outputs": [],
   "source": [
    "ser_finance1 = pd.Series(fin1)\n",
    "ser_finance2 = pd.Series(data = fin2_value, index = fin2_index)"
   ]
  },
  {
   "cell_type": "code",
   "execution_count": 17,
   "id": "35742e90-77fa-43e0-80ed-566df41e5cef",
   "metadata": {},
   "outputs": [
    {
     "data": {
      "text/plain": [
       "카카오     60010\n",
       "삼성전자    61000\n",
       "LG전자    90000\n",
       "dtype: int64"
      ]
     },
     "metadata": {},
     "output_type": "display_data"
    },
    {
     "data": {
      "text/plain": [
       "카카오      60200\n",
       "삼성전자     61200\n",
       "네이버     200100\n",
       "dtype: int64"
      ]
     },
     "metadata": {},
     "output_type": "display_data"
    }
   ],
   "source": [
    "display(ser_finance1, ser_finance2)"
   ]
  },
  {
   "cell_type": "code",
   "execution_count": null,
   "id": "7bb80f00-b767-4ed2-9eeb-7a32cad03e2d",
   "metadata": {},
   "outputs": [],
   "source": []
  },
  {
   "cell_type": "code",
   "execution_count": 18,
   "id": "c32d84eb-bd4b-4e60-89e2-204ad9c42ccb",
   "metadata": {},
   "outputs": [
    {
     "data": {
      "text/plain": [
       "LG전자      NaN\n",
       "네이버       NaN\n",
       "삼성전자   -200.0\n",
       "카카오    -190.0\n",
       "dtype: float64"
      ]
     },
     "execution_count": 18,
     "metadata": {},
     "output_type": "execute_result"
    }
   ],
   "source": [
    "ser_finance1 - ser_finance2\n",
    "# NaN이 LG전자와 네이버에서 발생하므로 전체 dtype이 float으로 변경"
   ]
  },
  {
   "cell_type": "code",
   "execution_count": 19,
   "id": "00f057b3-a882-40a5-9607-1d4ed105a8db",
   "metadata": {},
   "outputs": [
    {
     "data": {
      "text/plain": [
       "LG전자         NaN\n",
       "네이버          NaN\n",
       "삼성전자    122200.0\n",
       "카카오     120210.0\n",
       "dtype: float64"
      ]
     },
     "execution_count": 19,
     "metadata": {},
     "output_type": "execute_result"
    }
   ],
   "source": [
    "ser_finance1 + ser_finance2\n",
    "# NaN이 LG전자와 네이버에서 발생하므로 전체 dtype이 float으로 변경"
   ]
  },
  {
   "cell_type": "code",
   "execution_count": 20,
   "id": "d598c15c-3580-44af-862c-048f42f20396",
   "metadata": {},
   "outputs": [
    {
     "data": {
      "text/plain": [
       "LG전자             NaN\n",
       "네이버              NaN\n",
       "삼성전자    3.733200e+09\n",
       "카카오     3.612602e+09\n",
       "dtype: float64"
      ]
     },
     "execution_count": 20,
     "metadata": {},
     "output_type": "execute_result"
    }
   ],
   "source": [
    "ser_finance1 * ser_finance2\n",
    "# NaN이 LG전자와 네이버에서 발생하므로 전체 dtype이 float으로 변경"
   ]
  },
  {
   "cell_type": "code",
   "execution_count": 21,
   "id": "bd3e2311-0c78-483b-a8ad-2fda10013f96",
   "metadata": {},
   "outputs": [
    {
     "data": {
      "text/plain": [
       "LG전자         NaN\n",
       "네이버          NaN\n",
       "삼성전자    0.996732\n",
       "카카오     0.996844\n",
       "dtype: float64"
      ]
     },
     "execution_count": 21,
     "metadata": {},
     "output_type": "execute_result"
    }
   ],
   "source": [
    "ser_finance1 / ser_finance2\n",
    "# NaN이 LG전자와 네이버에서 발생하므로 전체 dtype이 float으로 변경\n",
    "# 그리고 나눗셈은 무조건 float으로 dtype 변경"
   ]
  },
  {
   "cell_type": "code",
   "execution_count": null,
   "id": "6e2bbdc0-f26a-4659-98f1-212321a7e8b1",
   "metadata": {},
   "outputs": [],
   "source": []
  },
  {
   "cell_type": "code",
   "execution_count": 22,
   "id": "4840d522-1748-4ad7-83ff-7f22ce1f06a7",
   "metadata": {},
   "outputs": [
    {
     "data": {
      "text/plain": [
       "삼성전자   -200.0\n",
       "카카오    -190.0\n",
       "dtype: float64"
      ]
     },
     "execution_count": 22,
     "metadata": {},
     "output_type": "execute_result"
    }
   ],
   "source": [
    "result = ser_finance1 - ser_finance2\n",
    "result[result.notnull()]"
   ]
  }
 ],
 "metadata": {
  "kernelspec": {
   "display_name": "Python 3 (ipykernel)",
   "language": "python",
   "name": "python3"
  },
  "language_info": {
   "codemirror_mode": {
    "name": "ipython",
    "version": 3
   },
   "file_extension": ".py",
   "mimetype": "text/x-python",
   "name": "python",
   "nbconvert_exporter": "python",
   "pygments_lexer": "ipython3",
   "version": "3.9.13"
  }
 },
 "nbformat": 4,
 "nbformat_minor": 5
}

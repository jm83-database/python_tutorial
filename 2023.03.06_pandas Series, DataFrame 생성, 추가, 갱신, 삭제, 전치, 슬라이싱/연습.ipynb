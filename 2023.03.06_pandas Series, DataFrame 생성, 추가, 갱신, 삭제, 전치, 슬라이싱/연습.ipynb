{
 "cells": [
  {
   "cell_type": "code",
   "execution_count": 1,
   "id": "86ce6067-cb88-4c42-a4f9-10eacec5c8e9",
   "metadata": {},
   "outputs": [],
   "source": [
    "import wikipediaapi\n",
    "import pandas as pd"
   ]
  },
  {
   "cell_type": "code",
   "execution_count": 2,
   "id": "bc8ad5eb-295f-4408-8b1b-8737482df0cd",
   "metadata": {},
   "outputs": [
    {
     "name": "stdout",
     "output_type": "stream",
     "text": [
      "Page - Exists: True\n"
     ]
    }
   ],
   "source": [
    "import wikipediaapi\n",
    "wiki_wiki = wikipediaapi.Wikipedia('en')\n",
    "page_py = wiki_wiki.page('2023_Australian_Open')\n",
    "print(\"Page - Exists: %s\" % page_py.exists()) # 2023 Australian Open wikipedia 페이지 존재하는지 확인"
   ]
  },
  {
   "cell_type": "code",
   "execution_count": 3,
   "id": "2fb744a8-f1f0-463c-bbd4-f1cb4f015c5b",
   "metadata": {},
   "outputs": [
    {
     "name": "stdout",
     "output_type": "stream",
     "text": [
      "Page - Title: 2023 Australian Open\n",
      "Page - Summary: The 2023 Australian Open was a Grand Slam level tennis tourn\n"
     ]
    }
   ],
   "source": [
    "print(\"Page - Title: %s\" % page_py.title)\n",
    "# Page - Title: 해당 페이지 제목 호출\n",
    "\n",
    "print(\"Page - Summary: %s\" % page_py.summary[0:60])\n",
    "# Page - Summary: 해당페이지 첫 60자 호출"
   ]
  },
  {
   "cell_type": "code",
   "execution_count": 4,
   "id": "c6275c35-0239-40fe-8c6d-30bff10deb69",
   "metadata": {},
   "outputs": [
    {
     "name": "stdout",
     "output_type": "stream",
     "text": [
      "https://en.wikipedia.org/wiki/2023_Australian_Open\n"
     ]
    }
   ],
   "source": [
    "print(page_py.fullurl) # 페이지 URL 호출"
   ]
  },
  {
   "cell_type": "code",
   "execution_count": 12,
   "id": "e20a71fc-c65a-4d01-a660-cfd829169812",
   "metadata": {},
   "outputs": [
    {
     "name": "stdout",
     "output_type": "stream",
     "text": [
      "*: Singles players - Men's singlesWomen's singles\n",
      "*: Events - \n",
      "**: Men's singles - Novak Djokovic def.  Stefanos Tsitsipas,\n",
      "**: Women's singles - Aryna Sabalenka def.  Elena Rybakina, 4–\n",
      "**: Men's doubles - Rinky Hijikata /  Jason Kubler def.  Hug\n",
      "**: Women's doubles - Barbora Krejčíková /  Kateřina Siniaková\n",
      "**: Mixed doubles - Luisa Stefani /  Rafael Matos def.  Sani\n",
      "**: Wheelchair men's singles - Alfie Hewett def.  Tokito Oda, 6–3, 6–1\n",
      "**: Wheelchair women's singles - Diede de Groot def.  Yui Kamiji, 0–6, 6–\n",
      "**: Wheelchair quad singles - Sam Schröder def.  Niels Vink, 6–2, 7–5\n",
      "**: Wheelchair men's doubles - Alfie Hewett /  Gordon Reid def.  Maikel\n",
      "**: Wheelchair women's doubles - Diede de Groot /  Aniek van Koot def.  Y\n",
      "**: Wheelchair quad doubles - Sam Schröder /  Niels Vink def.  Donald \n",
      "**: Boys' singles - Alexander Blockx def.  Learner Tien, 6–1\n",
      "**: Girls' singles - Alina Korneeva def.  Mirra Andreeva, 6–7\n",
      "**: Boys' doubles - Learner Tien /  Cooper Williams def.  Al\n",
      "**: Girls' doubles - Renáta Jamrichová /  Federica Urgesi def\n",
      "*: Point distribution and prize money - \n",
      "**: Point distribution - Below is a series of tables for each com\n",
      "***: Senior points - \n",
      "**: Prize money - The Australian Open total prize money fo\n",
      "*: Controversy - In the wake of the 2022 Russian invasion\n",
      "*: References - \n",
      "*: External links - Australian Open official website\n",
      "*: Singles players - Men's singlesWomen's singles\n",
      "*: Events - \n",
      "**: Men's singles - Novak Djokovic def.  Stefanos Tsitsipas,\n",
      "**: Women's singles - Aryna Sabalenka def.  Elena Rybakina, 4–\n",
      "**: Men's doubles - Rinky Hijikata /  Jason Kubler def.  Hug\n",
      "**: Women's doubles - Barbora Krejčíková /  Kateřina Siniaková\n",
      "**: Mixed doubles - Luisa Stefani /  Rafael Matos def.  Sani\n",
      "**: Wheelchair men's singles - Alfie Hewett def.  Tokito Oda, 6–3, 6–1\n",
      "**: Wheelchair women's singles - Diede de Groot def.  Yui Kamiji, 0–6, 6–\n",
      "**: Wheelchair quad singles - Sam Schröder def.  Niels Vink, 6–2, 7–5\n",
      "**: Wheelchair men's doubles - Alfie Hewett /  Gordon Reid def.  Maikel\n",
      "**: Wheelchair women's doubles - Diede de Groot /  Aniek van Koot def.  Y\n",
      "**: Wheelchair quad doubles - Sam Schröder /  Niels Vink def.  Donald \n",
      "**: Boys' singles - Alexander Blockx def.  Learner Tien, 6–1\n",
      "**: Girls' singles - Alina Korneeva def.  Mirra Andreeva, 6–7\n",
      "**: Boys' doubles - Learner Tien /  Cooper Williams def.  Al\n",
      "**: Girls' doubles - Renáta Jamrichová /  Federica Urgesi def\n",
      "*: Point distribution and prize money - \n",
      "**: Point distribution - Below is a series of tables for each com\n",
      "***: Senior points - \n",
      "**: Prize money - The Australian Open total prize money fo\n",
      "*: Controversy - In the wake of the 2022 Russian invasion\n",
      "*: References - \n",
      "*: External links - Australian Open official website\n",
      "<class 'NoneType'>\n"
     ]
    }
   ],
   "source": [
    "def print_sections(sections, level=0):\n",
    "        for s in sections:\n",
    "                print(\"%s: %s - %s\" % (\"*\" * (level + 1), s.title, s.text[0:40]))\n",
    "                print_sections(s.sections, level + 1)\n",
    "# lis = []\n",
    "# page = lis.extend(page_py.sections)\n",
    "print_sections(page_py.sections) # 페이지의 섹션 이름 출력\n",
    "print(type(print_sections(page_py.sections)))"
   ]
  },
  {
   "cell_type": "code",
   "execution_count": 10,
   "id": "a44d4987-47a1-45b9-87c7-39fa471ad140",
   "metadata": {},
   "outputs": [
    {
     "name": "stdout",
     "output_type": "stream",
     "text": [
      "The 2023 Australian Open was a Grand Slam level tennis tournament held at Melbourne Park, from 16–29 January 2023. It was the 111th edition of the Australian Open, the 55th in the Open Era, and the first major of the year. The tournament consisted of events for professional players in singles, doubles and mixed doubles. Junior and wheelchair players competed in singles and doubles tournaments. During previous years, the tournament's main sponsor was Kia.\n",
      "Novak Djokovic claimed the men's singles title, his tenth Australian Open title and 22nd major title overall, tying Rafael Nadal's all-time record. Djokovic was allowed to play this year despite remaining unvaccinated from COVID-19 after his three-year ban was lifted. The ban was initially handed to him after he was deported in 2022, as Australia's laws required foreigners to be vaccinated for entering the country when the tournament was played in 2022, but the ban was lifted as the vaccination requirement has been lifted. Nadal was the defending champion, but lost to Mackenzie McDonald in the second round. Aryna Sabalenka won the women's title, her first major singles title. Ashleigh Barty was the reigning champion in the women's singles, but she retired from the sport in March 2022.Spectators returned to full capacity for the first time since 2020, targeting to exceed 900,000 fans, after capacity restrictions in the last two events due to the COVID-19 pandemic.With the elimination of world No. 1 Iga Świątek in the fourth round by Elena Rybakina, this became the first edition of the Australian Open in the Open Era to feature neither of the top two singles seeds of either gender in the quarterfinals.\n",
      "\n",
      "Singles players\n",
      "Men's singlesWomen's singles\n",
      "\n",
      "Events\n",
      "Men's singles\n",
      "Novak Djokovic def.  Stefanos Tsitsipas, 6–3, 7–6(7–4), 7–6(7–5)\n",
      "\n",
      "Women's singles\n",
      "Aryna Sabalenka def.  Elena Rybakina, 4–6, 6–3, 6–4\n",
      "\n",
      "Men's doubles\n",
      "Rinky Hijikata /  Jason Kubler def.  Hugo Nys /  Jan Zieliński, 6–4, 7–6(7–4)\n",
      "\n",
      "Women's doubles\n",
      "Barbora Krejčíková /  Kateřina Siniaková def.  Shuko Aoyama /  Ena Shibahara 6–4, 6–3\n",
      "\n",
      "Mixed doubles\n",
      "Luisa Stefani /  Rafael Matos def.  Sania Mirza /  Rohan Bopanna, 7–6(7–2), 6–2\n",
      "\n",
      "Wheelchair men's singles\n",
      "Alfie Hewett def.  Tokito Oda, 6–3, 6–1\n",
      "\n",
      "Wheelchair women's singles\n",
      "Diede de Groot def.  Yui Kamiji, 0–6, 6–2, 6–2\n",
      "\n",
      "Wheelchair quad singles\n",
      "Sam Schröder def.  Niels Vink, 6–2, 7–5\n",
      "\n",
      "Wheelchair men's doubles\n",
      "Alfie Hewett /  Gordon Reid def.  Maikel Scheffers /  Ruben Spaargaren, 6–1, 6–2\n",
      "\n",
      "Wheelchair women's doubles\n",
      "Diede de Groot /  Aniek van Koot def.  Yui Kamiji /  Zhu Zhenzhen, 6–3, 6–2\n",
      "\n",
      "Wheelchair quad doubles\n",
      "Sam Schröder /  Niels Vink def.  Donald Ramphadi /  Ymanitu Silva, 6–1, 6–3\n",
      "\n",
      "Boys' singles\n",
      "Alexander Blockx def.  Learner Tien, 6–1, 2–6, 7–6(11–9)\n",
      "\n",
      "Girls' singles\n",
      "Alina Korneeva def.  Mirra Andreeva, 6–7(2–7), 6–4, 7–5\n",
      "\n",
      "Boys' doubles\n",
      "Learner Tien /  Cooper Williams def.  Alexander Blockx /  João Fonseca, 6–4, 6–4\n",
      "\n",
      "Girls' doubles\n",
      "Renáta Jamrichová /  Federica Urgesi def.  Hayu Kinoshita /  Sara Saito, 7–6(7–5), 1–6, [10–7]\n",
      "\n",
      "Point distribution and prize money\n",
      "Point distribution\n",
      "Below is a series of tables for each competition showing the ranking points offered for each event.\n",
      "\n",
      "Senior points\n",
      "Prize money\n",
      "The Australian Open total prize money for 2023 increased by 3.38% year on year to a tournament record A$76,500,000. This represented a 155% increase in prize money over the last ten years, from the A$30 million on offer in 2013.\n",
      "\n",
      "Controversy\n",
      "In the wake of the 2022 Russian invasion of Ukraine, organizers from the tournament banned Russian and Belarusian flags from being displayed courtside. Nations' flags were initially allowed, but this was reversed after an incident between Russia's Kamilla Rakhimova and Ukraine's Kateryna Baindl. During the game, Russian supporters were accused of taunting Baindl, but the group denied that they were being provocative. They stated that they were merely supporting Rakhimova. \n",
      "The move came after Russian and Belarusian players were banned from playing under their nation's flags.\n",
      "\n",
      "References\n",
      "External links\n",
      "Australian Open official website\n"
     ]
    }
   ],
   "source": [
    "wiki_wiki = wikipediaapi.Wikipedia(\n",
    "        language='en',\n",
    "        extract_format=wikipediaapi.ExtractFormat.WIKI\n",
    ")\n",
    "\n",
    "p_wiki = wiki_wiki.page(\"2023_Australian_Open\")\n",
    "print(p_wiki.text)"
   ]
  },
  {
   "cell_type": "code",
   "execution_count": 6,
   "id": "4d78a23c-d3e8-476a-83d7-8beb1cff0346",
   "metadata": {},
   "outputs": [
    {
     "data": {
      "text/html": [
       "<div>\n",
       "<style scoped>\n",
       "    .dataframe tbody tr th:only-of-type {\n",
       "        vertical-align: middle;\n",
       "    }\n",
       "\n",
       "    .dataframe tbody tr th {\n",
       "        vertical-align: top;\n",
       "    }\n",
       "\n",
       "    .dataframe thead th {\n",
       "        text-align: right;\n",
       "    }\n",
       "</style>\n",
       "<table border=\"1\" class=\"dataframe\">\n",
       "  <thead>\n",
       "    <tr style=\"text-align: right;\">\n",
       "      <th></th>\n",
       "      <th>Prize</th>\n",
       "      <th>Winner</th>\n",
       "      <th>WheelChair Winner</th>\n",
       "      <th>Game Points</th>\n",
       "    </tr>\n",
       "  </thead>\n",
       "  <tbody>\n",
       "    <tr>\n",
       "      <th>Men</th>\n",
       "      <td>2975000</td>\n",
       "      <td>Novak Djokovic</td>\n",
       "      <td>Alfie Hewett</td>\n",
       "      <td>2000.0</td>\n",
       "    </tr>\n",
       "    <tr>\n",
       "      <th>Women</th>\n",
       "      <td>2975000</td>\n",
       "      <td>Aryna Sabalenka</td>\n",
       "      <td>Diede de Groot</td>\n",
       "      <td>2000.0</td>\n",
       "    </tr>\n",
       "    <tr>\n",
       "      <th>MenDoubles</th>\n",
       "      <td>695000</td>\n",
       "      <td>Rinky Hijikata &amp; Jason Kubler</td>\n",
       "      <td>Alfie Hewett &amp; Gordon Reid</td>\n",
       "      <td>0.0</td>\n",
       "    </tr>\n",
       "    <tr>\n",
       "      <th>Women Doubles</th>\n",
       "      <td>695000</td>\n",
       "      <td>Barbora Krejcikova &amp; Katerina Siniakova</td>\n",
       "      <td>Diede de Groot &amp; Niels Vink</td>\n",
       "      <td>0.0</td>\n",
       "    </tr>\n",
       "    <tr>\n",
       "      <th>Mixed Doubles</th>\n",
       "      <td>157750</td>\n",
       "      <td>Luisa Stefani &amp; Rafael Matos</td>\n",
       "      <td>N/A</td>\n",
       "      <td>0.0</td>\n",
       "    </tr>\n",
       "  </tbody>\n",
       "</table>\n",
       "</div>"
      ],
      "text/plain": [
       "                 Prize                                   Winner  \\\n",
       "Men            2975000                           Novak Djokovic   \n",
       "Women          2975000                          Aryna Sabalenka   \n",
       "MenDoubles      695000            Rinky Hijikata & Jason Kubler   \n",
       "Women Doubles   695000  Barbora Krejcikova & Katerina Siniakova   \n",
       "Mixed Doubles   157750             Luisa Stefani & Rafael Matos   \n",
       "\n",
       "                         WheelChair Winner  Game Points  \n",
       "Men                           Alfie Hewett       2000.0  \n",
       "Women                       Diede de Groot       2000.0  \n",
       "MenDoubles      Alfie Hewett & Gordon Reid          0.0  \n",
       "Women Doubles  Diede de Groot & Niels Vink          0.0  \n",
       "Mixed Doubles                          N/A          0.0  "
      ]
     },
     "execution_count": 7,
     "metadata": {},
     "output_type": "execute_result"
    }
   ],
   "source": [
    "_2023_AU_Open = {\n",
    "        \"Prize\" : [2_975_000, 2_975_000, 695_000, 695_000, 157_750],\n",
    "        \"Winner\" : [\"Novak Djokovic\", \n",
    "                    \"Aryna Sabalenka\",\n",
    "                    \"Rinky Hijikata & Jason Kubler\", \n",
    "                    \"Barbora Krejcikova & Katerina Siniakova\",\n",
    "                    \"Luisa Stefani & Rafael Matos\"],\n",
    "        \"WheelChair Winner\" : [\"Alfie Hewett\",\n",
    "                               \"Diede de Groot\",\n",
    "                               \"Alfie Hewett & Gordon Reid\",\n",
    "                               \"Diede de Groot & Niels Vink\",\n",
    "                               \"N/A\"],    \n",
    "        \"Game Points\" : [2000.0, 2000.0, 0, 0, 0 ]\n",
    "        \n",
    "}\n",
    "df = pd.DataFrame(_2023_AU_Open, index = [\"Men\", \"Women\", \"MenDoubles\",\n",
    "                                           \"Women Doubles\", \"Mixed Doubles\"])\n",
    "df"
   ]
  }
 ],
 "metadata": {
  "kernelspec": {
   "display_name": "Python 3 (ipykernel)",
   "language": "python",
   "name": "python3"
  },
  "language_info": {
   "codemirror_mode": {
    "name": "ipython",
    "version": 3
   },
   "file_extension": ".py",
   "mimetype": "text/x-python",
   "name": "python",
   "nbconvert_exporter": "python",
   "pygments_lexer": "ipython3",
   "version": "3.9.13"
  }
 },
 "nbformat": 4,
 "nbformat_minor": 5
}

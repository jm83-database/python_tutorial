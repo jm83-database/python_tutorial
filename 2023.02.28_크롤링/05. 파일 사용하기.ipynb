{
 "cells": [
  {
   "cell_type": "code",
   "execution_count": 1,
   "id": "035321aa-a6d2-42dc-bc2d-eeedf15d36a1",
   "metadata": {},
   "outputs": [],
   "source": [
    "# 파일 열고 쓰기\n",
    "\n",
    "# filename.txt 파일을 쓰기 모드(w)로 열기\n",
    "# open() 함수는 파일 객체 반환\n",
    "file = open('filename.txt', 'w')\n",
    "\n",
    "\n",
    "# 파일 객체의 write() 메서드를 통해 문자열을 파일에 작성 가능\n",
    "file.write(\"파일에 작성할 문자열\")\n",
    "\n",
    "# 파일에 대한 처리가 끝났다면 반드시 파일 객체를 닫아줘야 한다.\n",
    "file.close()"
   ]
  },
  {
   "cell_type": "code",
   "execution_count": 2,
   "id": "0b948161-1b32-46ca-ae85-6d725f3ab631",
   "metadata": {},
   "outputs": [],
   "source": [
    "# close에 대한 처리 없이 간편히 쓰려면 with 활용\n",
    "# 아래 코드는 이전에 작성했던 것과 동일한 동작 수행\n",
    "with open('filename.txt', 'w') as file:\n",
    "    file.write(\"파일에 작성할 문자열\")"
   ]
  },
  {
   "cell_type": "code",
   "execution_count": 3,
   "id": "785477ee-27d5-49e7-ba01-93a7ae1bef7d",
   "metadata": {},
   "outputs": [
    {
     "name": "stdout",
     "output_type": "stream",
     "text": [
      "파일에 작성할 문자열\n"
     ]
    }
   ],
   "source": [
    "# 파일 읽기\n",
    "with open('filename.txt', 'r') as file:\n",
    "    print(file.read())"
   ]
  }
 ],
 "metadata": {
  "kernelspec": {
   "display_name": "Python 3 (ipykernel)",
   "language": "python",
   "name": "python3"
  },
  "language_info": {
   "codemirror_mode": {
    "name": "ipython",
    "version": 3
   },
   "file_extension": ".py",
   "mimetype": "text/x-python",
   "name": "python",
   "nbconvert_exporter": "python",
   "pygments_lexer": "ipython3",
   "version": "3.9.13"
  }
 },
 "nbformat": 4,
 "nbformat_minor": 5
}

{
 "cells": [
  {
   "cell_type": "code",
   "execution_count": 1,
   "id": "060cf7bd-3905-4ad9-a43b-cc478f14d395",
   "metadata": {},
   "outputs": [],
   "source": [
    "# 서버 (칼라이언트로 보내는 것이 response)\n",
    "\n",
    "# 클라이언트 (서버로 요청하는 것을 request)"
   ]
  },
  {
   "cell_type": "code",
   "execution_count": 2,
   "id": "aabe5234-4dea-4f8c-b588-9dca55a79ddf",
   "metadata": {},
   "outputs": [],
   "source": [
    "# Query String\n",
    "# get(request method) → parmas\n",
    "# URI에서 ?뒷 부분\n",
    "# 요러개의 parameter를 쓰고 싶을 때 &로 이어서 작성"
   ]
  },
  {
   "cell_type": "code",
   "execution_count": 3,
   "id": "2389c208-7031-439f-af91-56d4f10a83bc",
   "metadata": {},
   "outputs": [],
   "source": [
    "# URI\n",
    "\n",
    "# URI는 인터넷에 있는 자원을 나타내는 유일한 주소\n",
    "\n",
    "# scheme:[//[user[:password]@host[:port][/path][?query][#fragment]\n",
    "\n",
    "# 80, 443 포트 주소는 생략이 가능 \n",
    "# ex) www.naver.com:80"
   ]
  },
  {
   "cell_type": "code",
   "execution_count": 4,
   "id": "4fa446e5-3fd6-4665-80b2-d84de5fda4f6",
   "metadata": {},
   "outputs": [],
   "source": [
    "# 직렬화(Serialization)는 서버 → 클라이언트 혹은 그 반대의 과정에서\n",
    "# 패킷 단위로 분할하기 위해 하는 과정(encoding,부호화)\n",
    "# 역직렬화(Deserialization)는 클이언트 → 사용자가 식별 가능한 객체\n",
    "# (decoding,복호화)\n",
    "\n",
    "# 컴퓨터 통신 연결은 단순히 바이트, 문자열, 비트를 독립적으로\n",
    "# 연속하여 데이터를 전송"
   ]
  },
  {
   "cell_type": "code",
   "execution_count": 5,
   "id": "00733d44-efbf-4bfa-8444-7c9ceac758b8",
   "metadata": {},
   "outputs": [],
   "source": [
    "# 파싱(Parsing)\n",
    "# 일련의 문자열을 의미있는 토큰으로 분해하고 이들로 이루어진\n",
    "# 파스 트리(parse tree)를 만드는 과정\n",
    "\n",
    "# ex) 네트워크를 통해 전달받은 문자열을 콘텐츠 타입에 따라 의미있는\n",
    "#     단위로 분해하고 이를 다시 객체로서 활용할 수 있도록 하는 것"
   ]
  }
 ],
 "metadata": {
  "kernelspec": {
   "display_name": "Python 3 (ipykernel)",
   "language": "python",
   "name": "python3"
  },
  "language_info": {
   "codemirror_mode": {
    "name": "ipython",
    "version": 3
   },
   "file_extension": ".py",
   "mimetype": "text/x-python",
   "name": "python",
   "nbconvert_exporter": "python",
   "pygments_lexer": "ipython3",
   "version": "3.9.13"
  }
 },
 "nbformat": 4,
 "nbformat_minor": 5
}

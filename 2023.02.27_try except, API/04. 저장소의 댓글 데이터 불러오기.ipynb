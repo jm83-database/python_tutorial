{
 "cells": [
  {
   "cell_type": "code",
   "execution_count": 1,
   "id": "ad277cee-5f3b-4176-b337-7fd48ca0d886",
   "metadata": {},
   "outputs": [
    {
     "name": "stdout",
     "output_type": "stream",
     "text": [
      "Response Code 200\n",
      "Number of comments 30\n"
     ]
    }
   ],
   "source": [
    "import requests\n",
    "\n",
    "response = requests.get('https://api.github.com/repos/pytorch/pytorch/issues', # pytorch가 path parameter이므로 \n",
    "                                                                       # 별도의 parameter 설정 생략 가능\n",
    "                        headers={'Accept' : 'application/vnd.github.text-match+json'})\n",
    "print(\"Response Code\", response.status_code)\n",
    "print(\"Number of comments\", len(response.json()))"
   ]
  },
  {
   "cell_type": "code",
   "execution_count": 2,
   "id": "59710a05-53ed-4dee-974b-746a8dc2400f",
   "metadata": {},
   "outputs": [
    {
     "data": {
      "text/plain": [
       "{'next': {'url': 'https://api.github.com/repositories/65600975/issues?page=2',\n",
       "  'rel': 'next'},\n",
       " 'last': {'url': 'https://api.github.com/repositories/65600975/issues?page=371',\n",
       "  'rel': 'last'}}"
      ]
     },
     "execution_count": 2,
     "metadata": {},
     "output_type": "execute_result"
    }
   ],
   "source": [
    "# Pagination\n",
    "response.links"
   ]
  },
  {
   "cell_type": "code",
   "execution_count": 3,
   "id": "17876ee7-4a24-4dde-bb87-941c8ae27cbc",
   "metadata": {},
   "outputs": [],
   "source": [
    "# 재귀함수\n",
    "# 파이썬에서 기본적으로 최대 1,000회 Recursion(재귀) 반복\n",
    "# 설정을 통해 횟수 상한 증가 가능\n",
    "# import sys\n",
    "# sys.setrecursionlimit(10**5) # 10의 5제곱으로 반복 횟수 증가\n",
    "\n",
    "def get_all_pages(url, params = None, headers = None):\n",
    "    output_json = []\n",
    "    response = requests.get(url, params = params, headers = headers)\n",
    "    if response.status_code == 200:\n",
    "        output_json = response.json()\n",
    "        if 'next' in response.links:\n",
    "            next_url = response.links['next']['url']\n",
    "            if next_url is not None:\n",
    "                output_json += get_all_pages(next_url, params, headers)\n",
    "    return output_json"
   ]
  },
  {
   "cell_type": "code",
   "execution_count": null,
   "id": "9ea2ded0-a997-4af3-85c4-825f9be295a1",
   "metadata": {},
   "outputs": [],
   "source": [
    "# 가장 마지막에 실행된 것 부터 역순으로 return 진행(stack 구조)"
   ]
  },
  {
   "cell_type": "code",
   "execution_count": 4,
   "id": "84bd8897-3a8f-4a0c-80be-d63ca71b1f56",
   "metadata": {},
   "outputs": [
    {
     "name": "stdout",
     "output_type": "stream",
     "text": [
      "1770\n"
     ]
    },
    {
     "data": {
      "text/html": [
       "<div>\n",
       "<style scoped>\n",
       "    .dataframe tbody tr th:only-of-type {\n",
       "        vertical-align: middle;\n",
       "    }\n",
       "\n",
       "    .dataframe tbody tr th {\n",
       "        vertical-align: top;\n",
       "    }\n",
       "\n",
       "    .dataframe thead th {\n",
       "        text-align: right;\n",
       "    }\n",
       "</style>\n",
       "<table border=\"1\" class=\"dataframe\">\n",
       "  <thead>\n",
       "    <tr style=\"text-align: right;\">\n",
       "      <th></th>\n",
       "      <th>id</th>\n",
       "      <th>created_at</th>\n",
       "      <th>body</th>\n",
       "    </tr>\n",
       "  </thead>\n",
       "  <tbody>\n",
       "    <tr>\n",
       "      <th>607</th>\n",
       "      <td>1443765575</td>\n",
       "      <td>2023-02-24T14:35:17Z</td>\n",
       "      <td>&gt; ROCm is not supported on Windows PyTorch at ...</td>\n",
       "    </tr>\n",
       "  </tbody>\n",
       "</table>\n",
       "</div>"
      ],
      "text/plain": [
       "             id            created_at  \\\n",
       "607  1443765575  2023-02-24T14:35:17Z   \n",
       "\n",
       "                                                  body  \n",
       "607  > ROCm is not supported on Windows PyTorch at ...  "
      ]
     },
     "execution_count": 4,
     "metadata": {},
     "output_type": "execute_result"
    }
   ],
   "source": [
    "import pandas as pd\n",
    "\n",
    "out = get_all_pages(\n",
    "    \"https://api.github.com/repos/pytorch/pytorch/issues/comments\",\n",
    "    params={\n",
    "        'since': '2022-01-01T10:00:01Z',\n",
    "        'sorted': 'created',\n",
    "        'direction': 'desc'\n",
    "    },\n",
    "    headers = {\"Accept\": \"application/vnd.github+json\"}\n",
    ")\n",
    "\n",
    "df = pd.DataFrame(out)\n",
    "print(df['body'].count())\n",
    "df[['id', 'created_at', 'body']].sample(1)"
   ]
  },
  {
   "cell_type": "code",
   "execution_count": 5,
   "id": "0e2988c9-754e-43b1-82b2-ec4dc8b82e42",
   "metadata": {},
   "outputs": [
    {
     "name": "stdout",
     "output_type": "stream",
     "text": [
      "X-Ratelimit_Limit 60\n",
      "X-Ratelimit_Remaining 0\n",
      "Rate Limit reset at Mon Feb 27 19:25:10 2023\n"
     ]
    }
   ],
   "source": [
    "# 시간당 속도 제한\n",
    "response = requests.head(\"https://api.github.com/repos/pytorch/pytorch/issues/comments\")\n",
    "print('X-Ratelimit_Limit', response.headers['X-Ratelimit-Limit'])\n",
    "print('X-Ratelimit_Remaining', response.headers['X-Ratelimit-Remaining'])\n",
    "\n",
    "# UTC 시간을 사람이 읽을 수 잇는 형식으로 변환\n",
    "import datetime\n",
    "print('Rate Limit reset at', datetime.datetime.fromtimestamp(int(response.headers['X-RateLimit-Reset'])).strftime('%c'))"
   ]
  },
  {
   "cell_type": "code",
   "execution_count": 6,
   "id": "04d67c9d-981b-4b00-8686-4def742b4bcb",
   "metadata": {},
   "outputs": [],
   "source": [
    "# 분당 속도 제한\n",
    "\n",
    "from datetime import datetime\n",
    "import time\n",
    "\n",
    "def handle_rate_limits(response):\n",
    "    now = datetime.now()\n",
    "    reset_time = datetime.fromtimestamp(int(response.headers['X-RateLimit-Reset']))\n",
    "    remaining_requests = response.headers['X-Ratelimit-Remaining']\n",
    "    remaining_time = (reset_time - now).total_seconds()\n",
    "    intervals = remaining_time / (1.0 + int(remaining_requests))\n",
    "    \n",
    "    print(\"Sleeping for\", intervals)\n",
    "    time.sleep(intevals)\n",
    "    return True"
   ]
  },
  {
   "cell_type": "code",
   "execution_count": 7,
   "id": "5aaa5c7e-0c9e-4c69-908f-5ac87b137aae",
   "metadata": {},
   "outputs": [
    {
     "name": "stdout",
     "output_type": "stream",
     "text": [
      "data-science-from-scratch\n",
      "PySyft\n",
      "data-science-blogs\n",
      "galaxy\n",
      "DataCamp\n"
     ]
    }
   ],
   "source": [
    "# 네트워크 오류를 감안한 코드 작성\n",
    "from requests.adapters import HTTPAdapter\n",
    "from requests.packages.urllib3.util.retry import Retry\n",
    "\n",
    "retry_strategy = Retry(\n",
    "    total = 5, # 재시도 횟수\n",
    "    status_forcelist = [500, 503, 504], # 재시도할 상태코드 목록\n",
    "    backoff_factor = 1 # 각 시도마다 간격을 늘려주는 수치\n",
    "    # time_delay = backoff_factor * (2**(총 재시도 횟수 - 1))\n",
    ")\n",
    "\n",
    "retry_adapter = HTTPAdapter(max_retries=retry_strategy)\n",
    "\n",
    "http = requests.Session()\n",
    "http.mount(\"https://\", retry_adapter)\n",
    "http.mount(\"https://\", retry_adapter)\n",
    "\n",
    "response = http.get(\"https://api.github.com/search/repositories\",\n",
    "                    params={'q':'data_science+language:python'})\n",
    "\n",
    "for item in response.json()['items'][:5]:\n",
    "    print(item['name'])"
   ]
  }
 ],
 "metadata": {
  "kernelspec": {
   "display_name": "Python 3 (ipykernel)",
   "language": "python",
   "name": "python3"
  },
  "language_info": {
   "codemirror_mode": {
    "name": "ipython",
    "version": 3
   },
   "file_extension": ".py",
   "mimetype": "text/x-python",
   "name": "python",
   "nbconvert_exporter": "python",
   "pygments_lexer": "ipython3",
   "version": "3.9.13"
  }
 },
 "nbformat": 4,
 "nbformat_minor": 5
}

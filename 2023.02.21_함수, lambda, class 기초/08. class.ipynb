{
 "cells": [
  {
   "cell_type": "code",
   "execution_count": 1,
   "id": "a1c339e2-1284-485b-a46e-34a2ffa82eb4",
   "metadata": {},
   "outputs": [],
   "source": [
    "# 클래스를 쓰는 이유\n",
    "\n",
    "# 객체지향 프로그래밍은 복잡한 문제를 잘게 나누어 객체로 만들고, 객체를 조합해서 문제 해결\n",
    "\n",
    "# 현실 세계의 복잡한 문제를 처리하는데 유용하며 기능을 개선하고 발전시킬 때도 해당 클래스만\n",
    "# 수정하면 되므로 큰 프로젝트의 유지보수에도 매우 효율적이다.\n",
    "\n",
    "# 객체가 가진 데이터를 클래스의 속성(Attribute)이라 부르고 객체가 갖는 기능을\n",
    "# 메서드(Method)라고 부른다.\n",
    "\n",
    "# 만약 학생이라는 클래스 내에 있는 이름, 나이, 주소가 attribute에 해당함\n",
    "# 차가 클래스라면 휠, 차 종류, 모델명 등 요소고 attribute에 해당함"
   ]
  },
  {
   "cell_type": "code",
   "execution_count": 2,
   "id": "12cfbaf8-e56f-4abc-aeed-493499ce5575",
   "metadata": {},
   "outputs": [],
   "source": [
    "# 클래스는 사용자 정의 객체를 만들기 위한 주형(설계)\n",
    "# 클래스 정의는 보통 클래스의 인스턴스를 대상으로 연산하는 메서드 정의를 포함\n",
    "\n",
    "# class ClassName: ← 클래스명은 주로 PascalCase(UpperCamelCase)를 쓴다.\n",
    "                   # 클래스명 뒤에 ()안 붙이는 경우는 특수 케이스\n",
    "#     def method_name(self):\n",
    "#         method.body\n",
    "        \n",
    "#     class_body\n",
    "#     ..."
   ]
  },
  {
   "cell_type": "code",
   "execution_count": 3,
   "id": "3a77ddbe-3faf-402c-a537-09cb44854c69",
   "metadata": {},
   "outputs": [],
   "source": [
    "# 객체(Object)? 인스턴스(Instance)?\n",
    "\n",
    "# 객체를 언급할 때 단어 하나만 활용하여 단지 '객체'라고 표현 ← 객체지향 ex)python\n",
    "# 인스턴스는 특정 클래스로부터 만들어진 실체 ← ex) 리스트 클래스로 만들어진 인스턴스\n",
    "\n",
    "# 객체는 범용적인 표현, 인슽턴스는 구체적인 표현\n",
    "\n",
    "# instance_variable = ClassName()"
   ]
  },
  {
   "cell_type": "code",
   "execution_count": 4,
   "id": "a41ac647-8d5a-471a-ac0f-b5257ab78d8e",
   "metadata": {},
   "outputs": [
    {
     "name": "stdout",
     "output_type": "stream",
     "text": [
      "안녕하세요.\n"
     ]
    }
   ],
   "source": [
    "# Method\n",
    "\n",
    "# 메서드는 클래스 바디 안에서 정의되는 함수\n",
    "# 클래스의 어트리뷰트(attribute)로서 호출되면,\n",
    "# 그 메서드는 첫번째 인자로 인스턴스 객체(self)를 받는다.\n",
    "\n",
    "\n",
    "# class ClassName:\n",
    "# def __init__(self):\n",
    "#     self.속성 = 값\n",
    "\n",
    "class Person: # 클래스 이름 옆의 ()는 상속하는 경우가 아니라면 생략 가능\n",
    "              # class Animal:\n",
    "              # class Dog(Animal): 개는 동물에 속하므로 Animal에 상속되어 있음\n",
    "              # class Cat(Animal): 고양이는 동물에 속하므로 Animal에 상속되어 있음\n",
    "    def __init__(self): # __init__은 인자를 self로 설정해야 오류가 안 생긴다.\n",
    "        self.hello = \"안녕하세요.\"\n",
    "        \n",
    "    def greeting(self):\n",
    "        print(self.hello)\n",
    "\n",
    "james = Person()\n",
    "james.greeting()"
   ]
  },
  {
   "cell_type": "code",
   "execution_count": 5,
   "id": "92125073-46c2-42bc-9f66-0e58f9842799",
   "metadata": {},
   "outputs": [],
   "source": [
    "class Student:\n",
    "    pass"
   ]
  },
  {
   "cell_type": "code",
   "execution_count": 6,
   "id": "a6e4f049-ebbc-4c3f-a6b2-87206d9e2965",
   "metadata": {},
   "outputs": [],
   "source": [
    "# Student 클래스로부터 객체를 하나 생성\n",
    "s1 = Student()"
   ]
  },
  {
   "cell_type": "code",
   "execution_count": 7,
   "id": "2d713bce-82c0-4bf7-be14-6e990307d885",
   "metadata": {},
   "outputs": [
    {
     "data": {
      "text/plain": [
       "__main__.Student"
      ]
     },
     "execution_count": 7,
     "metadata": {},
     "output_type": "execute_result"
    }
   ],
   "source": [
    "type(s1)"
   ]
  },
  {
   "cell_type": "code",
   "execution_count": 8,
   "id": "43338b35-b994-48fe-894d-4351b616fae6",
   "metadata": {},
   "outputs": [],
   "source": [
    "s1.name = \"홍길동\" # Student class 안에 attribute 생성"
   ]
  },
  {
   "cell_type": "code",
   "execution_count": 9,
   "id": "3049281c-4485-45d4-bfc2-6eaf83f3bcdd",
   "metadata": {},
   "outputs": [
    {
     "name": "stdout",
     "output_type": "stream",
     "text": [
      "홍길동\n"
     ]
    }
   ],
   "source": [
    "print(s1.name)"
   ]
  },
  {
   "cell_type": "code",
   "execution_count": 10,
   "id": "11645c98-abcd-44f3-9764-f9346fb56d25",
   "metadata": {},
   "outputs": [],
   "source": [
    "s1.name = \"이몽룡\""
   ]
  },
  {
   "cell_type": "code",
   "execution_count": 11,
   "id": "ed6411e1-5808-44b5-b9ca-6af91772d58c",
   "metadata": {},
   "outputs": [
    {
     "name": "stdout",
     "output_type": "stream",
     "text": [
      "이몽룡\n"
     ]
    }
   ],
   "source": [
    "print(s1.name)"
   ]
  },
  {
   "cell_type": "code",
   "execution_count": 12,
   "id": "c3c833ed-3cf7-478d-8446-711151f9a7c1",
   "metadata": {},
   "outputs": [],
   "source": [
    "class Student:\n",
    "    # 생성자: 객체가 최초 생성될 때\n",
    "    # 단 한 실행되는 메서드\n",
    "    def __init__(self):\n",
    "        # self라는 것은 내 자신의 인스턴스\n",
    "        self.name = \"홍길동\""
   ]
  },
  {
   "cell_type": "code",
   "execution_count": 13,
   "id": "d137c325-913e-43d3-a2b3-d41a3b0cf905",
   "metadata": {},
   "outputs": [],
   "source": [
    "s2 = Student() #init에 의해 객체가 생성됨\n",
    "# name = \"홍길동\" 생성\n",
    "\n",
    "#위의 s1과 같은 결과가 나온다."
   ]
  },
  {
   "cell_type": "code",
   "execution_count": 14,
   "id": "ddc6c1ae-1b1c-4bb4-b3ad-460f1e384abf",
   "metadata": {},
   "outputs": [
    {
     "data": {
      "text/plain": [
       "__main__.Student"
      ]
     },
     "execution_count": 14,
     "metadata": {},
     "output_type": "execute_result"
    }
   ],
   "source": [
    "type(s2)"
   ]
  },
  {
   "cell_type": "code",
   "execution_count": 15,
   "id": "de01c08d-0911-4bb8-b89f-9017fe031dfa",
   "metadata": {},
   "outputs": [
    {
     "name": "stdout",
     "output_type": "stream",
     "text": [
      "홍길동\n"
     ]
    }
   ],
   "source": [
    "print(s2.name) # s1과 s2는 객체가 값은 같지만 다른 공간에 존재한다."
   ]
  },
  {
   "cell_type": "code",
   "execution_count": 16,
   "id": "62071234-f18d-4701-8e9e-ff19413bf139",
   "metadata": {},
   "outputs": [],
   "source": [
    "class Person:\n",
    "    def __init__(self, name, age):\n",
    "        self.name = name\n",
    "        self.age = age"
   ]
  },
  {
   "cell_type": "code",
   "execution_count": 17,
   "id": "c8ad66ac-f4d0-4336-9cee-b6d3ad81b452",
   "metadata": {},
   "outputs": [],
   "source": [
    "p1 = Person(\"홍길동\", 22)"
   ]
  },
  {
   "cell_type": "code",
   "execution_count": 18,
   "id": "8163398c-47f5-4deb-8029-27a41a9ea14c",
   "metadata": {},
   "outputs": [
    {
     "name": "stdout",
     "output_type": "stream",
     "text": [
      "홍길동\n"
     ]
    }
   ],
   "source": [
    "print(p1.name)"
   ]
  },
  {
   "cell_type": "code",
   "execution_count": 19,
   "id": "9e344fcd-44c6-4a4e-9627-f167c58ea2a6",
   "metadata": {},
   "outputs": [
    {
     "name": "stdout",
     "output_type": "stream",
     "text": [
      "22\n"
     ]
    }
   ],
   "source": [
    "print(p1.age)"
   ]
  },
  {
   "cell_type": "code",
   "execution_count": 20,
   "id": "93c60543-ac87-428d-aaa3-de999a1c063f",
   "metadata": {},
   "outputs": [],
   "source": [
    "p2 = Person(name = \"성춘향\", age = 18)"
   ]
  },
  {
   "cell_type": "code",
   "execution_count": 21,
   "id": "9ec95472-2473-4af7-b2fa-4c24c9fb5a5e",
   "metadata": {},
   "outputs": [
    {
     "name": "stdout",
     "output_type": "stream",
     "text": [
      "성춘향\n",
      "18\n"
     ]
    }
   ],
   "source": [
    "print(p2.name)\n",
    "print(p2.age)"
   ]
  },
  {
   "cell_type": "code",
   "execution_count": 22,
   "id": "f0856fa0-1c2d-4972-84f2-80d152229ab8",
   "metadata": {},
   "outputs": [],
   "source": [
    "# 가변값은 클래스 내에 설정하면 다른 값을 가질 위험이 높으므로\n",
    "# 가급적 가변 변수는 클래스에 사용하지 않는다."
   ]
  }
 ],
 "metadata": {
  "kernelspec": {
   "display_name": "Python 3 (ipykernel)",
   "language": "python",
   "name": "python3"
  },
  "language_info": {
   "codemirror_mode": {
    "name": "ipython",
    "version": 3
   },
   "file_extension": ".py",
   "mimetype": "text/x-python",
   "name": "python",
   "nbconvert_exporter": "python",
   "pygments_lexer": "ipython3",
   "version": "3.9.13"
  }
 },
 "nbformat": 4,
 "nbformat_minor": 5
}

{
 "cells": [
  {
   "cell_type": "code",
   "execution_count": 1,
   "id": "a1c339e2-1284-485b-a46e-34a2ffa82eb4",
   "metadata": {},
   "outputs": [],
   "source": [
    "# 클래스를 쓰는 이유\n",
    "\n",
    "# 객체지향 프로그래밍은 복잡한 문제를 잘게 나누어 객체로 만들고, 객체를 조합해서 문제 해결\n",
    "\n",
    "# 현실 세계의 복잡한 문제를 처리하는데 유용하며 기능을 개선하고 발전시킬 때도 해당 클래스만\n",
    "# 수정하면 되므로 큰 프로젝트의 유지보수에도 매우 효율적이다.\n",
    "\n",
    "# 객체가 가진 데이터를 클래스의 속성(Attribute)이라 부르고 객체가 갖는 기능을\n",
    "# 메서드(Method)라고 부른다."
   ]
  },
  {
   "cell_type": "code",
   "execution_count": 2,
   "id": "12cfbaf8-e56f-4abc-aeed-493499ce5575",
   "metadata": {},
   "outputs": [],
   "source": [
    "# 클래스는 사용자 정의 객체를 만들기 위한 주형(설계)\n",
    "# 클래스 정의는 보통 클래스의 인스턴스를 대상으로 연산하는 메서드 정의를 포함\n",
    "\n",
    "# class ClassName: ← 클래스명은 주로 PascalCase(UpperCamelCase)를 쓴다.\n",
    "                   # 클래스명 뒤에 ()안 붙이는 경우는 특수 케이스\n",
    "#     def method_name(self):\n",
    "#         method.body\n",
    "        \n",
    "#     class_body\n",
    "#     ..."
   ]
  },
  {
   "cell_type": "code",
   "execution_count": 3,
   "id": "3a77ddbe-3faf-402c-a537-09cb44854c69",
   "metadata": {},
   "outputs": [],
   "source": [
    "# 객체(Object)? 인스턴스(Instance)?\n",
    "\n",
    "# 객체를 언급할 때 단어 하나만 활용하여 단지 '객체'라고 표현 ← 객체지향 ex)python\n",
    "# 인스턴스는 특정 클래스로부터 만들어진 실체 ← ex) 리스트 클래스로 만들어진 인스턴스\n",
    "\n",
    "# 객체는 범용적인 표현, 인슽턴스는 구체적인 표현\n",
    "\n",
    "# instance_variable = ClassName()"
   ]
  },
  {
   "cell_type": "code",
   "execution_count": 4,
   "id": "a41ac647-8d5a-471a-ac0f-b5257ab78d8e",
   "metadata": {},
   "outputs": [
    {
     "name": "stdout",
     "output_type": "stream",
     "text": [
      "안녕하세요.\n"
     ]
    }
   ],
   "source": [
    "# Method\n",
    "\n",
    "# 메서드는 클래스 바디 안에서 정의되는 함수\n",
    "# 클래스의 어트리뷰트(attribute)로서 호출되면,\n",
    "# 그 메서드는 첫번째 인자로 인스턴스 객체(self)를 받는다.\n",
    "\n",
    "\n",
    "# class ClassName:\n",
    "# def __init__(self):\n",
    "#     self.속성 = 값\n",
    "\n",
    "class Person:\n",
    "    def __init__(self): # __init__은 인자를 self로 설정해야 오류가 안 생긴다.\n",
    "        self.hello = \"안녕하세요.\"\n",
    "        \n",
    "    def greeting(self):\n",
    "        print(self.hello)\n",
    "\n",
    "james = Person()\n",
    "james.greeting()"
   ]
  }
 ],
 "metadata": {
  "kernelspec": {
   "display_name": "Python 3 (ipykernel)",
   "language": "python",
   "name": "python3"
  },
  "language_info": {
   "codemirror_mode": {
    "name": "ipython",
    "version": 3
   },
   "file_extension": ".py",
   "mimetype": "text/x-python",
   "name": "python",
   "nbconvert_exporter": "python",
   "pygments_lexer": "ipython3",
   "version": "3.9.13"
  }
 },
 "nbformat": 4,
 "nbformat_minor": 5
}

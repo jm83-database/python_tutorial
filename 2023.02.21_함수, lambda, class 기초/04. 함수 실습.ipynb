{
 "cells": [
  {
   "cell_type": "code",
   "execution_count": 1,
   "id": "a4ef8af2-e471-4535-9ce6-c61f27f1472c",
   "metadata": {},
   "outputs": [],
   "source": [
    "def plus_ten(var):\n",
    "    var_plus_ten = var + 10\n",
    "    return var_plus_ten"
   ]
  },
  {
   "cell_type": "code",
   "execution_count": 2,
   "id": "c5bada0c-f24f-4d4f-bda5-3943057263c2",
   "metadata": {},
   "outputs": [
    {
     "name": "stdout",
     "output_type": "stream",
     "text": [
      "80\n"
     ]
    }
   ],
   "source": [
    "print(plus_ten(70))"
   ]
  },
  {
   "cell_type": "code",
   "execution_count": 3,
   "id": "8dc9e468-a367-4d2d-a002-acf30d4ba953",
   "metadata": {},
   "outputs": [],
   "source": [
    "def to_celsius(fahrenheit):\n",
    "    \"\"\"이 함수는 화씨를 섭씨로 바꿔주는 함수이다.\"\"\"\n",
    "    celsius = (fahrenheit - 32) * 5/9\n",
    "    return celsius\n",
    "\n",
    "\n",
    "def to_fahrenheit(celsius):\n",
    "    \"\"\"이 함수는 섭씨를 화씨로 바꿔주는 함수이다.\"\"\"\n",
    "    fahrenheit = celsius * 9/5 + 32\n",
    "    return fahrenheit"
   ]
  },
  {
   "cell_type": "code",
   "execution_count": 4,
   "id": "9f4ea7ef-458b-45f4-8db0-80a4177856b6",
   "metadata": {},
   "outputs": [
    {
     "name": "stdout",
     "output_type": "stream",
     "text": [
      "반환 값: 21.11111111111111\n"
     ]
    }
   ],
   "source": [
    "print(\"반환 값:\",to_celsius(70))"
   ]
  },
  {
   "cell_type": "code",
   "execution_count": 5,
   "id": "da08f5b4-1bd6-44e8-b59d-b976e1c41028",
   "metadata": {},
   "outputs": [
    {
     "name": "stdout",
     "output_type": "stream",
     "text": [
      "반환 값: 158.0\n"
     ]
    }
   ],
   "source": [
    "print(\"반환 값:\",to_fahrenheit(70))"
   ]
  },
  {
   "cell_type": "code",
   "execution_count": 6,
   "id": "986d1b5e-83d3-4e18-8fe6-8ba2477c7803",
   "metadata": {},
   "outputs": [],
   "source": [
    "def odd_even(number):\n",
    "    \"\"\"number가 짝수면 \"짝수\", 홀수면 \"홀수\" 반환\"\"\"\n",
    "    if type(number) != int or number < 1:\n",
    "        return\n",
    "    else:\n",
    "        if number % 2 == 0:\n",
    "            number = \"짝수\"\n",
    "            return number\n",
    "        if number % 2 == 1:\n",
    "            number = \"홀수\"\n",
    "            return number"
   ]
  },
  {
   "cell_type": "code",
   "execution_count": 7,
   "id": "c853a0ed-1af8-497f-a5ba-b1121750870e",
   "metadata": {},
   "outputs": [
    {
     "name": "stdout",
     "output_type": "stream",
     "text": [
      "number가 짝수면 \"짝수\", 홀수면 \"홀수\" 반환\n",
      "짝수\n",
      "홀수\n",
      "None\n"
     ]
    }
   ],
   "source": [
    "print(odd_even.__doc__) # doc string 출력할 때 함수 ()표현을 안 쓴다.\n",
    "print(odd_even(10))\n",
    "print(odd_even(9))\n",
    "print(odd_even(\"가\"))"
   ]
  },
  {
   "cell_type": "code",
   "execution_count": 8,
   "id": "bb7b0117-89dd-4ae3-a7ec-1a184f41f0cb",
   "metadata": {},
   "outputs": [],
   "source": [
    "# 간결한 코드\n",
    "def odd_even(number):\n",
    "    \"\"\"number가 짝수면 \"짝수\", 홀수면 \"홀수\" 반환\"\"\"\n",
    "    if type(number) != int or number < 1:\n",
    "        return\n",
    "    else:\n",
    "        return \"짝수\"*(number%2 == 0) or \"홀수\" # number%2 == 0은 bool 결과가 나온다.\n",
    "                                               # True는 1, False는 0으로 출력\n",
    "                                               # 짝수라면 bool이 True가 나오므로 \"짝수\" 출력,\n",
    "                                               # 홀수라면 bool이 False이므로 우측 \"홀수\" 출력"
   ]
  },
  {
   "cell_type": "code",
   "execution_count": 9,
   "id": "60f3a1a8-d408-4d95-852e-359b20044bd9",
   "metadata": {},
   "outputs": [
    {
     "name": "stdout",
     "output_type": "stream",
     "text": [
      "number가 짝수면 \"짝수\", 홀수면 \"홀수\" 반환\n",
      "짝수\n",
      "홀수\n",
      "None\n"
     ]
    }
   ],
   "source": [
    "print(odd_even.__doc__)\n",
    "print(odd_even(10))\n",
    "print(odd_even(9))\n",
    "print(odd_even(\"가\"))"
   ]
  },
  {
   "cell_type": "code",
   "execution_count": 10,
   "id": "9cf88cc4-025e-45de-b1db-d0d5a7fd411f",
   "metadata": {},
   "outputs": [
    {
     "name": "stdout",
     "output_type": "stream",
     "text": [
      "True\n",
      "True\n",
      "True\n"
     ]
    }
   ],
   "source": [
    "a = '12345678' # 숫자열이 전부 숫자\n",
    "print(a.isdigit())\n",
    "print(a.isdecimal())\n",
    "print(a.isnumeric())"
   ]
  },
  {
   "cell_type": "code",
   "execution_count": 11,
   "id": "4459579c-4a3e-4bf6-81a2-8adfb6898f39",
   "metadata": {},
   "outputs": [
    {
     "name": "stdout",
     "output_type": "stream",
     "text": [
      "True\n",
      "False\n",
      "True\n"
     ]
    }
   ],
   "source": [
    "a = '3²' # 지수같은 경우는 숫자모양의 특수문자\n",
    "print(a.isdigit())\n",
    "print(a.isdecimal())\n",
    "print(a.isnumeric())"
   ]
  },
  {
   "cell_type": "code",
   "execution_count": 12,
   "id": "c270317c-557e-410e-b3ca-41ab925af062",
   "metadata": {},
   "outputs": [],
   "source": [
    "# isdigit() 함수는 단일 글자가 '숫자' 모양으로 생겼으면 무조건 True를 반환하는 함수. \n",
    "# 즉, 숫자처럼 생긴 '모든 글자'를 숫자로 친다.\n",
    "\n",
    "# isdecimal() 함수는 주어진 문자열이 int형으로 변환이 가능한지 알아내는 함수.\n",
    "# 즉, 특수문자 중 숫자모양을 숫자로 치지않는다.\n",
    "\n",
    "# 숫자값 표현에 해당하는 문자열까지 인정한다. \n",
    "#제곱근 및 분수, 거듭제곱 특수문자도 isnumeric() 함수는 True를 반환하는 것을 알 수 있다."
   ]
  },
  {
   "cell_type": "code",
   "execution_count": 13,
   "id": "109a1d00-5e64-426a-a773-022d8463e89b",
   "metadata": {},
   "outputs": [],
   "source": [
    "def check_leap_year(year):\n",
    "    \"\"\"year가 평년인지 윤년인지 판단하는 함수이다.\"\"\"\n",
    "    if (year % 100 == 0 and year % 400 != 0) or year % 4 != 0:\n",
    "        return \"평년\"\n",
    "    else:\n",
    "        return \"윤년\""
   ]
  },
  {
   "cell_type": "code",
   "execution_count": 14,
   "id": "ef317cfa-26cd-4d26-83fb-1b34c696631b",
   "metadata": {},
   "outputs": [
    {
     "data": {
      "text/plain": [
       "'윤년'"
      ]
     },
     "execution_count": 14,
     "metadata": {},
     "output_type": "execute_result"
    }
   ],
   "source": [
    "check_leap_year(2004)"
   ]
  },
  {
   "cell_type": "code",
   "execution_count": 15,
   "id": "3529ed6b-fb18-4e0a-9737-f5b5912a03ab",
   "metadata": {},
   "outputs": [
    {
     "data": {
      "text/plain": [
       "'윤년'"
      ]
     },
     "execution_count": 15,
     "metadata": {},
     "output_type": "execute_result"
    }
   ],
   "source": [
    "check_leap_year(2000)"
   ]
  },
  {
   "cell_type": "code",
   "execution_count": 16,
   "id": "7542c4b8-1482-4d02-bf85-058921182255",
   "metadata": {},
   "outputs": [
    {
     "data": {
      "text/plain": [
       "'평년'"
      ]
     },
     "execution_count": 16,
     "metadata": {},
     "output_type": "execute_result"
    }
   ],
   "source": [
    "check_leap_year(1900)"
   ]
  },
  {
   "cell_type": "code",
   "execution_count": 17,
   "id": "76fc96fb-8b48-4632-9423-28ba8928e3ce",
   "metadata": {},
   "outputs": [
    {
     "name": "stdout",
     "output_type": "stream",
     "text": [
      "30\n",
      "28\n",
      "31\n"
     ]
    }
   ],
   "source": [
    "def days(month):\n",
    "    if month == 1 or month == 3 or month == 5 or month == 7 or month == 8 or month == 10 or month == 12:\n",
    "        return 31\n",
    "    elif month == 4 or month == 6 or month == 9 or month == 11:\n",
    "        return 30\n",
    "    else: return 28\n",
    "\n",
    "print(days(11))\n",
    "print(days(2))\n",
    "print(days(1))"
   ]
  },
  {
   "cell_type": "code",
   "execution_count": 18,
   "id": "53758fce-4030-4585-bf40-3084b8e84398",
   "metadata": {},
   "outputs": [
    {
     "name": "stdout",
     "output_type": "stream",
     "text": [
      "30\n",
      "28\n",
      "31\n"
     ]
    }
   ],
   "source": [
    "def days(month):\n",
    "    if month in (1,3,5,7,8,10,12):\n",
    "        return 31\n",
    "    elif month in (4,6,9,11):\n",
    "        return 30\n",
    "    else: return 28\n",
    "\n",
    "print(days(11))\n",
    "print(days(2))\n",
    "print(days(1))"
   ]
  },
  {
   "cell_type": "code",
   "execution_count": 19,
   "id": "81b545b6-46ec-4314-886f-8c2c65f187c0",
   "metadata": {},
   "outputs": [
    {
     "name": "stdout",
     "output_type": "stream",
     "text": [
      "30\n",
      "31\n",
      "28\n",
      "29\n"
     ]
    }
   ],
   "source": [
    "def days(year, month):\n",
    "    \"\"\"year가 평년인지 윤년인지 판단하고 month가 몇일인지 구해주는 함수이다.\"\"\"\n",
    "    if (year % 100 == 0 and year % 400 != 0) or year % 4 != 0:\n",
    "        if month in (1,3,5,7,8,10,12):\n",
    "            return 31\n",
    "        elif month in (4,6,9,11):\n",
    "            return 30\n",
    "        else:\n",
    "            return 28\n",
    "    else:\n",
    "        if month in (1,3,5,7,8,10,12):\n",
    "            return 31\n",
    "        elif month in (4,6,9,11):\n",
    "            return 30\n",
    "        else: return 29\n",
    "    \n",
    "print(days(1900, 11))\n",
    "print(days(2004, 10))\n",
    "print(days(1900, 2))\n",
    "print(days(2000, 2))"
   ]
  },
  {
   "cell_type": "code",
   "execution_count": 20,
   "id": "b5317d8a-da55-4356-9e5d-8224a1587f8f",
   "metadata": {},
   "outputs": [
    {
     "name": "stdout",
     "output_type": "stream",
     "text": [
      "30\n",
      "31\n",
      "28\n",
      "29\n"
     ]
    }
   ],
   "source": [
    "def days(year, month):\n",
    "    if month in (1,3,5,7,8,10,12):\n",
    "        return 31\n",
    "    elif month in (4,6,9,11):\n",
    "        return 30\n",
    "    elif (year % 100 == 0 and year % 400 != 0) or year % 4 != 0:\n",
    "        return 28\n",
    "    else:\n",
    "        return 29\n",
    "        \n",
    "print(days(1900, 11))\n",
    "print(days(2004, 10))\n",
    "print(days(1900, 2))\n",
    "print(days(2000, 2))"
   ]
  }
 ],
 "metadata": {
  "kernelspec": {
   "display_name": "Python 3 (ipykernel)",
   "language": "python",
   "name": "python3"
  },
  "language_info": {
   "codemirror_mode": {
    "name": "ipython",
    "version": 3
   },
   "file_extension": ".py",
   "mimetype": "text/x-python",
   "name": "python",
   "nbconvert_exporter": "python",
   "pygments_lexer": "ipython3",
   "version": "3.9.13"
  }
 },
 "nbformat": 4,
 "nbformat_minor": 5
}

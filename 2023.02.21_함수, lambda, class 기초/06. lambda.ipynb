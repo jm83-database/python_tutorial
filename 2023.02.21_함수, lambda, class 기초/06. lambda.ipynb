{
 "cells": [
  {
   "cell_type": "code",
   "execution_count": 1,
   "id": "a4e2edc0-410a-4204-bc30-500646f881d6",
   "metadata": {},
   "outputs": [],
   "source": [
    "# 람다(Lambda)\n",
    "# lambda [parameters]:expression ← 표현식\n",
    "# a = lambda [parameters]:expression으로 변수 저장도 가능하다.\n",
    "\n",
    "# def func_name(parameter): ←일반 함수 정의절\n",
    "#     return expression"
   ]
  },
  {
   "cell_type": "code",
   "execution_count": 2,
   "id": "7ad02770-0e02-4139-9e2f-3d45e27a06c9",
   "metadata": {},
   "outputs": [
    {
     "data": {
      "text/plain": [
       "20"
      ]
     },
     "execution_count": 2,
     "metadata": {},
     "output_type": "execute_result"
    }
   ],
   "source": [
    "# 람다 즉시 생성\n",
    "(lambda x: x + 10)(10)\n",
    "# (lambda [parameters]: expression)(arguments)"
   ]
  },
  {
   "cell_type": "code",
   "execution_count": 3,
   "id": "dc2494bf-5d95-459f-aeba-e10089bea70e",
   "metadata": {},
   "outputs": [
    {
     "name": "stdout",
     "output_type": "stream",
     "text": [
      "20\n"
     ]
    }
   ],
   "source": [
    "twice = lambda x: x*2\n",
    "print(twice(10))\n",
    "# variable = lambda [parameters] : expression\n",
    "# variable(argument)"
   ]
  },
  {
   "cell_type": "code",
   "execution_count": 4,
   "id": "25923805-26ec-46a8-8ac7-454f0687c28c",
   "metadata": {},
   "outputs": [
    {
     "ename": "SyntaxError",
     "evalue": "invalid syntax (3658021986.py, line 5)",
     "output_type": "error",
     "traceback": [
      "\u001b[1;36m  File \u001b[1;32m\"C:\\Users\\user\\AppData\\Local\\Temp\\ipykernel_5592\\3658021986.py\"\u001b[1;36m, line \u001b[1;32m5\u001b[0m\n\u001b[1;33m    (lambda x : y = 10; x+y)(1)\u001b[0m\n\u001b[1;37m                  ^\u001b[0m\n\u001b[1;31mSyntaxError\u001b[0m\u001b[1;31m:\u001b[0m invalid syntax\n"
     ]
    }
   ],
   "source": [
    "# lambda는 한 줄로 표현 가능(인라인, in-line)해야 한다.\n",
    "# 람다 표현식 안에 새 변수를 만들 수 없다.\n",
    "# 변수가 필요한 경우 def를 써서 함수를 정의한 후에 함수를 삽입해야 한다.\n",
    "\n",
    "(lambda x : y = 10; x+y)(1)\n",
    "#따라서 위 코드는 새로운 변수 생성이 안 되고 여러 줄도 안 되므로 에러가 발생한다."
   ]
  }
 ],
 "metadata": {
  "kernelspec": {
   "display_name": "Python 3 (ipykernel)",
   "language": "python",
   "name": "python3"
  },
  "language_info": {
   "codemirror_mode": {
    "name": "ipython",
    "version": 3
   },
   "file_extension": ".py",
   "mimetype": "text/x-python",
   "name": "python",
   "nbconvert_exporter": "python",
   "pygments_lexer": "ipython3",
   "version": "3.9.13"
  }
 },
 "nbformat": 4,
 "nbformat_minor": 5
}

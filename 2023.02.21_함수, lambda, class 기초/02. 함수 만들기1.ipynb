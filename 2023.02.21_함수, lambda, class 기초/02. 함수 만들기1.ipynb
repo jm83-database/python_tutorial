{
 "cells": [
  {
   "cell_type": "code",
   "execution_count": 1,
   "id": "27ed13eb-5eff-4b8c-ac3f-aa992daa7d37",
   "metadata": {},
   "outputs": [],
   "source": [
    "# x = 함수명(인수, 인수, ...) ← 여기서 인수를 argument으로 지칭\n",
    "# argument가 parameter로 전달\n",
    "\n",
    "# print(\"결과 값:\", x)\n",
    "\n",
    "\n",
    "# 함수 정의부\n",
    "# def 함수명(인자, 인자,...): ← 여기서 인자는 parameter\n",
    "#     함수코드\n",
    "#     return 반환값\n"
   ]
  },
  {
   "cell_type": "code",
   "execution_count": 2,
   "id": "68713b18-c5b5-4716-a31a-4fbc168c62dd",
   "metadata": {},
   "outputs": [],
   "source": [
    "# 함수는 클래스에 포함되지 않은 채로 사용된다.\n",
    "# 함수명((인수1), (인수2),...)\n",
    "\n",
    "# 메서드는 클래스에 포함되어 객체를 통해 호출\n",
    "# 객체.메서드명((인수1), (인수2), ...)"
   ]
  },
  {
   "cell_type": "code",
   "execution_count": 3,
   "id": "07d2a138-50eb-46d5-aa33-88b364a74fdb",
   "metadata": {},
   "outputs": [],
   "source": [
    "# 함수는 코드창 가장 좌측에 붙어서 def 생성\n",
    "# 클래스는 class 내부에서 indent 한 뒤에 def를 통해 생성"
   ]
  },
  {
   "cell_type": "code",
   "execution_count": 4,
   "id": "a813292e-0e09-4fb3-a611-ea8c1faabcbb",
   "metadata": {},
   "outputs": [],
   "source": [
    "# 함수 정의부의 형태\n",
    "# def 함수_이름(위치_인자, 위치_인자2, *가변_위치, 키워드_인자, 키워드_인자2, **가변_키워드):\n",
    "#     \"\"\"\n",
    "#     Doc String을 적는 곳입니다.       ← 함수 상단부에 적는 string 이름이 Doc string이라고 함\n",
    "#                                        포트폴리오 작성시 Doc string 작성 권장\n",
    "#     작성자 : 최진명\n",
    "#     작성일자: 2022.02.21\n",
    "\n",
    "#     \"\"\"\n",
    "\n",
    "#    함수의 바디\n",
    "#    함수의 바디\n",
    "\n",
    "#    return 반환값"
   ]
  },
  {
   "cell_type": "code",
   "execution_count": 5,
   "id": "6a9aca2c-7fca-439e-a8ff-a720ca6441b4",
   "metadata": {},
   "outputs": [],
   "source": [
    "# print(dd, dd, dd, d, sep = \",\", end=\"\\t\") ← print가 대표적인 함수"
   ]
  },
  {
   "cell_type": "code",
   "execution_count": 6,
   "id": "f0f1508e-2175-4ae4-b6fa-19c5758c06d3",
   "metadata": {},
   "outputs": [],
   "source": [
    "def print_ten():\n",
    "    \"\"\"print(\"hello\")를 열번 출력합니다.\"\"\"\n",
    "    for _ in range(10):\n",
    "        print(\"hello\")"
   ]
  },
  {
   "cell_type": "code",
   "execution_count": 7,
   "id": "6125a316-eb06-48fa-8959-19eda8e8c886",
   "metadata": {},
   "outputs": [
    {
     "name": "stdout",
     "output_type": "stream",
     "text": [
      "hello\n",
      "hello\n",
      "hello\n",
      "hello\n",
      "hello\n",
      "hello\n",
      "hello\n",
      "hello\n",
      "hello\n",
      "hello\n"
     ]
    }
   ],
   "source": [
    "print_ten()"
   ]
  },
  {
   "cell_type": "code",
   "execution_count": 8,
   "id": "fd66e7d8-761f-4ec5-bed5-1152ddea84c3",
   "metadata": {},
   "outputs": [
    {
     "name": "stdout",
     "output_type": "stream",
     "text": [
      "print(\"hello\")를 열번 출력합니다.\n"
     ]
    }
   ],
   "source": [
    "print(print_ten.__doc__) # Doc string 강제 출력 (UnderbarUnderbar|doc|UnderbarUnderbar __doc__형태로 작성)"
   ]
  },
  {
   "cell_type": "code",
   "execution_count": 9,
   "id": "74d19786-cd5f-474f-afa2-ce180ca61820",
   "metadata": {},
   "outputs": [
    {
     "name": "stdout",
     "output_type": "stream",
     "text": [
      "print(value, ..., sep=' ', end='\\n', file=sys.stdout, flush=False)\n",
      "\n",
      "Prints the values to a stream, or to sys.stdout by default.\n",
      "Optional keyword arguments:\n",
      "file:  a file-like object (stream); defaults to the current sys.stdout.\n",
      "sep:   string inserted between values, default a space.\n",
      "end:   string appended after the last value, default a newline.\n",
      "flush: whether to forcibly flush the stream.\n"
     ]
    }
   ],
   "source": [
    "print(print.__doc__)"
   ]
  },
  {
   "cell_type": "code",
   "execution_count": 10,
   "id": "aecf124f-fa96-4e96-842b-3b25ba4cc2cc",
   "metadata": {},
   "outputs": [],
   "source": [
    "def print_ten(some_str):\n",
    "    \"\"\"print(\"hello\")를 열번 출력합니다.\"\"\"\n",
    "    for _ in range(10):\n",
    "        print(\"hello\")"
   ]
  },
  {
   "cell_type": "code",
   "execution_count": 11,
   "id": "e0725515-fff1-4b8d-b774-680bc9cd694b",
   "metadata": {},
   "outputs": [
    {
     "name": "stdout",
     "output_type": "stream",
     "text": [
      "hello\n",
      "hello\n",
      "hello\n",
      "hello\n",
      "hello\n",
      "hello\n",
      "hello\n",
      "hello\n",
      "hello\n",
      "hello\n"
     ]
    }
   ],
   "source": [
    "print_ten(\"문자열\")"
   ]
  },
  {
   "cell_type": "code",
   "execution_count": 12,
   "id": "d1dcb6c0-8476-4a28-aa35-3e0bc7b5e2db",
   "metadata": {},
   "outputs": [],
   "source": [
    "def print_ten(some_str):\n",
    "    \"\"\"print(\"some_str\")를 열번 출력합니다.\"\"\"\n",
    "    for _ in range(10):\n",
    "        print(some_str)"
   ]
  },
  {
   "cell_type": "code",
   "execution_count": 13,
   "id": "90db5baf-1ada-42d8-ad95-38d20561a10d",
   "metadata": {},
   "outputs": [
    {
     "name": "stdout",
     "output_type": "stream",
     "text": [
      "문자열\n",
      "문자열\n",
      "문자열\n",
      "문자열\n",
      "문자열\n",
      "문자열\n",
      "문자열\n",
      "문자열\n",
      "문자열\n",
      "문자열\n"
     ]
    }
   ],
   "source": [
    "print_ten(\"문자열\")"
   ]
  },
  {
   "cell_type": "code",
   "execution_count": 14,
   "id": "5e942824-ecf4-443e-8be8-eea814301636",
   "metadata": {},
   "outputs": [],
   "source": [
    "# 인자 - parameter\n",
    "# 함수(또는 메서드) 정의에서 함수가 받을 수 있는 변수\n",
    "# 함수인자 혹은 매개변수라고 부른다.\n",
    "# 인자는 함수 정의절에서 소괄호 안에 정의 def 함수이름(인자1,인자2, ...)\n",
    "\n",
    "# 위치-키워드(positional or keyword): 위치로 혹은 키워드로 전달될 수 있는 인자\n",
    "#                                    매개변수의 기본 형태\n",
    "# 위치 전용(positional_only) : / 문자를 기준으로 좌측에 위차한 인자\n",
    "#                           print(d, dd, ddd, /, ) ← / 좌측이 다 위치 전용\n",
    "# 키워드 전용(keyword_only) : * 문자를 기준으로 우측에 위치한 인자\n",
    "#                           print(d, dd, ddd, *, sep=, end=) ← * 우측이 다 키워드 전용\n",
    "# 가변 위치(var positional) : 위치 매개변수 외에 추가적인 위치 매개변수를 개수에 상관없이 받을 수 있다.\n",
    "#                            변수명 앞에 *를 1개 붙여 표기\n",
    "#               가변 위치에 패킹을 해서 변환 print(*args)\n",
    "# 가변 키워드(var keyword) : 키워드 매개변수 외에 추가적인 키워드 매개변수를 개수에 상관없이 받을 수 있다.\n",
    "#                           변수명 앞에 **를 2개 붙여 표기\n",
    "#               가변 키워드 위치에 패킹을 해서 변환 print(d, dd, **kargs)"
   ]
  },
  {
   "cell_type": "code",
   "execution_count": 15,
   "id": "9cf99bbe-f32b-4a65-a627-9fc81b4af927",
   "metadata": {},
   "outputs": [],
   "source": [
    "# Parameters는 함수 정의절에서 사용하는 이름\n",
    "# Arguments는 함수 호출할 때 함수에 전달하는 실제 값\n",
    "\n",
    "# 따라서 Parameters는 어떤 종류의 Arguments를 받을지 정의한다."
   ]
  },
  {
   "cell_type": "code",
   "execution_count": 16,
   "id": "7c896653-de5b-4ec9-8aeb-fbfec690b1db",
   "metadata": {},
   "outputs": [],
   "source": [
    "def greeting(name, age): # 함수 정의절에 위치한 Parameters\n",
    "    print(f\"{name} 씨 안녕하세요, 약 {age*365.25} 일 되었습니다.\")"
   ]
  },
  {
   "cell_type": "code",
   "execution_count": 17,
   "id": "dba9d61d-2610-45c9-a1fb-da2e994eec26",
   "metadata": {},
   "outputs": [
    {
     "name": "stdout",
     "output_type": "stream",
     "text": [
      "파이썬 씨 안녕하세요, 약 11688.0 일 되었습니다.\n"
     ]
    }
   ],
   "source": [
    "greeting(\"파이썬\", 32) # 함수 호출부에 위치한 Arguments"
   ]
  },
  {
   "cell_type": "code",
   "execution_count": 18,
   "id": "72ff6686-2928-448c-81b1-9fabe796cec9",
   "metadata": {},
   "outputs": [],
   "source": [
    "# 아래 예제에서 함수 정의절에 위치-키워드 인자가 기본 값을 갖지 않는다.\n",
    "def greeting(name, age): # 함수 정의절에 위치한 Parameters\n",
    "    print(f\"{name} 씨 안녕하세요, 약 {age*365.25} 일 되었습니다.\")"
   ]
  },
  {
   "cell_type": "code",
   "execution_count": 19,
   "id": "3a16d93e-1d01-4b58-bd79-21e7643fdada",
   "metadata": {},
   "outputs": [
    {
     "ename": "TypeError",
     "evalue": "greeting() missing 2 required positional arguments: 'name' and 'age'",
     "output_type": "error",
     "traceback": [
      "\u001b[1;31m---------------------------------------------------------------------------\u001b[0m",
      "\u001b[1;31mTypeError\u001b[0m                                 Traceback (most recent call last)",
      "\u001b[1;32m~\\AppData\\Local\\Temp\\ipykernel_10380\\1746427027.py\u001b[0m in \u001b[0;36m<module>\u001b[1;34m\u001b[0m\n\u001b[1;32m----> 1\u001b[1;33m \u001b[0mgreeting\u001b[0m\u001b[1;33m(\u001b[0m\u001b[1;33m)\u001b[0m \u001b[1;31m# ← 인수(arguments) 없이 호출하고 있다.\u001b[0m\u001b[1;33m\u001b[0m\u001b[1;33m\u001b[0m\u001b[0m\n\u001b[0m",
      "\u001b[1;31mTypeError\u001b[0m: greeting() missing 2 required positional arguments: 'name' and 'age'"
     ]
    }
   ],
   "source": [
    "greeting() # ← 인수(arguments) 없이 호출하고 있다."
   ]
  },
  {
   "cell_type": "code",
   "execution_count": 20,
   "id": "2be6b5af-dd96-4199-8d6d-0655cf345800",
   "metadata": {},
   "outputs": [],
   "source": [
    "# 기본 값이 없는 위치-키워드 인자는 인수 전달이 필수적이다."
   ]
  },
  {
   "cell_type": "code",
   "execution_count": 21,
   "id": "be7c2a4e-b2ad-4eba-8c47-7a72dd13d4e5",
   "metadata": {
    "tags": []
   },
   "outputs": [
    {
     "ename": "TypeError",
     "evalue": "can't multiply sequence by non-int of type 'float'",
     "output_type": "error",
     "traceback": [
      "\u001b[1;31m---------------------------------------------------------------------------\u001b[0m",
      "\u001b[1;31mTypeError\u001b[0m                                 Traceback (most recent call last)",
      "\u001b[1;32m~\\AppData\\Local\\Temp\\ipykernel_10380\\4032280083.py\u001b[0m in \u001b[0;36m<module>\u001b[1;34m\u001b[0m\n\u001b[1;32m----> 1\u001b[1;33m \u001b[0mgreeting\u001b[0m\u001b[1;33m(\u001b[0m\u001b[1;36m32\u001b[0m\u001b[1;33m,\u001b[0m \u001b[1;34m\"파이썬\"\u001b[0m\u001b[1;33m)\u001b[0m \u001b[1;31m#위치-키워드 인자가 타입이 한정되어 있어서 에러가 발생\u001b[0m\u001b[1;33m\u001b[0m\u001b[1;33m\u001b[0m\u001b[0m\n\u001b[0m",
      "\u001b[1;32m~\\AppData\\Local\\Temp\\ipykernel_10380\\2831664039.py\u001b[0m in \u001b[0;36mgreeting\u001b[1;34m(name, age)\u001b[0m\n\u001b[0;32m      1\u001b[0m \u001b[1;31m# 아래 예제에서 함수 정의절에 위치-키워드 인자가 기본 값을 갖지 않는다.\u001b[0m\u001b[1;33m\u001b[0m\u001b[1;33m\u001b[0m\u001b[0m\n\u001b[0;32m      2\u001b[0m \u001b[1;32mdef\u001b[0m \u001b[0mgreeting\u001b[0m\u001b[1;33m(\u001b[0m\u001b[0mname\u001b[0m\u001b[1;33m,\u001b[0m \u001b[0mage\u001b[0m\u001b[1;33m)\u001b[0m\u001b[1;33m:\u001b[0m \u001b[1;31m# 함수 정의절에 위치한 Parameters\u001b[0m\u001b[1;33m\u001b[0m\u001b[1;33m\u001b[0m\u001b[0m\n\u001b[1;32m----> 3\u001b[1;33m     \u001b[0mprint\u001b[0m\u001b[1;33m(\u001b[0m\u001b[1;34mf\"{name} 씨 안녕하세요, 약 {age*365.25} 일 되었습니다.\"\u001b[0m\u001b[1;33m)\u001b[0m\u001b[1;33m\u001b[0m\u001b[1;33m\u001b[0m\u001b[0m\n\u001b[0m",
      "\u001b[1;31mTypeError\u001b[0m: can't multiply sequence by non-int of type 'float'"
     ]
    }
   ],
   "source": [
    "greeting(32, \"파이썬\") #위치-키워드 인자가 타입이 한정되어 있어서 에러가 발생"
   ]
  },
  {
   "cell_type": "code",
   "execution_count": 22,
   "id": "3897b55d-cbb4-4c85-8d68-b10de9b4287c",
   "metadata": {},
   "outputs": [
    {
     "name": "stdout",
     "output_type": "stream",
     "text": [
      "파이썬 씨 안녕하세요, 약 11688.0 일 되었습니다.\n"
     ]
    }
   ],
   "source": [
    "greeting(age = 32, name = \"파이썬\")\n",
    "# 키워드 인수를 활용해서 순서를 상관않고 호출\n",
    "# 키워드 인수는 sep = , end = , age = , name = 과 같이 키워드 입력후 등호(=) 꼴로 표현되는 인수"
   ]
  },
  {
   "cell_type": "code",
   "execution_count": 23,
   "id": "9d69b4a3-0a0f-4e06-9825-6371e0359fea",
   "metadata": {},
   "outputs": [
    {
     "ename": "SyntaxError",
     "evalue": "positional argument follows keyword argument (3356383884.py, line 1)",
     "output_type": "error",
     "traceback": [
      "\u001b[1;36m  File \u001b[1;32m\"C:\\Users\\user\\AppData\\Local\\Temp\\ipykernel_10380\\3356383884.py\"\u001b[1;36m, line \u001b[1;32m1\u001b[0m\n\u001b[1;33m    greeting(name = \"파이썬\", 32)\u001b[0m\n\u001b[1;37m                             ^\u001b[0m\n\u001b[1;31mSyntaxError\u001b[0m\u001b[1;31m:\u001b[0m positional argument follows keyword argument\n"
     ]
    }
   ],
   "source": [
    "greeting(name = \"파이썬\", 32) \n",
    "# 위치 인수는 순서에 영향을 받기 때문에 위치 인수 → 키워드 인수 순으로 작성한다."
   ]
  },
  {
   "cell_type": "code",
   "execution_count": 24,
   "id": "81b1aef9-6960-46c9-9acf-f072babc443e",
   "metadata": {},
   "outputs": [],
   "source": [
    "# print('value', 'value2', sep = \"\", end = \"\") 같은 것처럼 위치 인수 이후 키워드 이후 작성"
   ]
  },
  {
   "cell_type": "code",
   "execution_count": 25,
   "id": "61c8546f-92ca-41a3-93eb-ee6af8293db3",
   "metadata": {},
   "outputs": [],
   "source": [
    "def greeting(name, age):\n",
    "    print(f\"{name} 씨 안녕하세요, 약 {age*365.25} 일 되었습니다.\")"
   ]
  },
  {
   "cell_type": "code",
   "execution_count": 26,
   "id": "0c7de54e-2a1c-420b-8f73-911ae036a4cc",
   "metadata": {},
   "outputs": [
    {
     "name": "stdout",
     "output_type": "stream",
     "text": [
      "파이썬 씨 안녕하세요, 약 11688.0 일 되었습니다.\n"
     ]
    }
   ],
   "source": [
    "greeting(\"파이썬\", 32) # 위치 인수만으로 호출\n",
    "#위치 인수는 순서가 중요!!!!"
   ]
  },
  {
   "cell_type": "code",
   "execution_count": 27,
   "id": "cc650b82-1b31-441c-a1fd-722e6a106bf8",
   "metadata": {},
   "outputs": [
    {
     "name": "stdout",
     "output_type": "stream",
     "text": [
      "파이썬 씨 안녕하세요, 약 11688.0 일 되었습니다.\n"
     ]
    }
   ],
   "source": [
    "greeting(name = \"파이썬\", age = 32) # 키워드 인수만으로 호출"
   ]
  },
  {
   "cell_type": "code",
   "execution_count": 28,
   "id": "0acbe137-136a-46a8-8c1f-bc84c363d94a",
   "metadata": {},
   "outputs": [
    {
     "name": "stdout",
     "output_type": "stream",
     "text": [
      "파이썬 씨 안녕하세요, 약 11688.0 일 되었습니다.\n"
     ]
    }
   ],
   "source": [
    "greeting(\"파이썬\", age = 32) # 위치 인수와 키워드 인수로 호출\n",
    "# 위치 인수가 키워드 인수보다 먼조 호출되어야 함"
   ]
  },
  {
   "cell_type": "code",
   "execution_count": 29,
   "id": "a2789dd8-c957-476b-aea1-dab2c37627d2",
   "metadata": {},
   "outputs": [
    {
     "name": "stdout",
     "output_type": "stream",
     "text": [
      "파이썬 씨 안녕하세요, 약 11688.0 일 되었습니다.\n"
     ]
    }
   ],
   "source": [
    "greeting(age = 32, name = \"파이썬\") # 키워드 인수만으로 호출할 땐 키워드 인수 간에 순서는 상계 X"
   ]
  }
 ],
 "metadata": {
  "kernelspec": {
   "display_name": "Python 3 (ipykernel)",
   "language": "python",
   "name": "python3"
  },
  "language_info": {
   "codemirror_mode": {
    "name": "ipython",
    "version": 3
   },
   "file_extension": ".py",
   "mimetype": "text/x-python",
   "name": "python",
   "nbconvert_exporter": "python",
   "pygments_lexer": "ipython3",
   "version": "3.9.13"
  }
 },
 "nbformat": 4,
 "nbformat_minor": 5
}

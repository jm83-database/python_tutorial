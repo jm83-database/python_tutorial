{
 "cells": [
  {
   "cell_type": "code",
   "execution_count": 1,
   "id": "ff766a57-b55d-44b7-be53-82eff5616cc9",
   "metadata": {},
   "outputs": [],
   "source": [
    "import pandas as pd\n",
    "import numpy as np"
   ]
  },
  {
   "cell_type": "markdown",
   "id": "2a4e1b29-6c88-4ae2-b6c2-5c6b19ba34de",
   "metadata": {},
   "source": [
    "# Series의 값이 많은 경우"
   ]
  },
  {
   "cell_type": "code",
   "execution_count": 2,
   "id": "a55f748f-4c24-4bf6-a006-6064259866ef",
   "metadata": {},
   "outputs": [
    {
     "data": {
      "text/plain": [
       "0        0\n",
       "1        1\n",
       "2        2\n",
       "3        3\n",
       "4        4\n",
       "      ... \n",
       "495    495\n",
       "496    496\n",
       "497    497\n",
       "498    498\n",
       "499    499\n",
       "Length: 500, dtype: int64"
      ]
     },
     "execution_count": 2,
     "metadata": {},
     "output_type": "execute_result"
    }
   ],
   "source": [
    "nums = pd.Series(range(500))\n",
    "nums # ㆍㆍㆍ이란 표시는 생략되었다는 의미"
   ]
  },
  {
   "cell_type": "markdown",
   "id": "36deb7f9-8665-4b76-a353-282dd74d059f",
   "metadata": {},
   "source": [
    "# Series head() 메서드 "
   ]
  },
  {
   "cell_type": "code",
   "execution_count": 3,
   "id": "3ae5fd31-6865-42c1-84e8-ef21241ff783",
   "metadata": {},
   "outputs": [
    {
     "data": {
      "text/plain": [
       "0    0\n",
       "1    1\n",
       "2    2\n",
       "3    3\n",
       "4    4\n",
       "dtype: int64"
      ]
     },
     "execution_count": 3,
     "metadata": {},
     "output_type": "execute_result"
    }
   ],
   "source": [
    "# head() 메서드는 앞부터 출력할 데이터의 개수 지정\n",
    "nums.head() # 디폴트는 5개"
   ]
  },
  {
   "cell_type": "code",
   "execution_count": 4,
   "id": "afbed0d4-d841-43ea-9074-07375d936330",
   "metadata": {},
   "outputs": [
    {
     "data": {
      "text/plain": [
       "0    0\n",
       "1    1\n",
       "2    2\n",
       "3    3\n",
       "4    4\n",
       "5    5\n",
       "6    6\n",
       "7    7\n",
       "8    8\n",
       "9    9\n",
       "dtype: int64"
      ]
     },
     "execution_count": 4,
     "metadata": {},
     "output_type": "execute_result"
    }
   ],
   "source": [
    "nums.head(10) # 괄호 안에 숫자를 넣어서 출력할 데이터 개수 지정 가능"
   ]
  },
  {
   "cell_type": "markdown",
   "id": "60a6c46c-1384-4d44-a709-a1b94b30fa78",
   "metadata": {},
   "source": [
    "# Series tail() 메서드"
   ]
  },
  {
   "cell_type": "code",
   "execution_count": 5,
   "id": "21415a4e-8caf-4762-8ba1-e0a85d89f6a5",
   "metadata": {},
   "outputs": [
    {
     "data": {
      "text/plain": [
       "495    495\n",
       "496    496\n",
       "497    497\n",
       "498    498\n",
       "499    499\n",
       "dtype: int64"
      ]
     },
     "execution_count": 5,
     "metadata": {},
     "output_type": "execute_result"
    }
   ],
   "source": [
    "# tail() 메서드는 맨 뒤에서부터 출력할 데이터의 개수 지정\n",
    "nums.tail() # 디폴트는 5개"
   ]
  },
  {
   "cell_type": "code",
   "execution_count": 6,
   "id": "cc7741b1-4d5f-4e11-9cc1-60c86684a41a",
   "metadata": {},
   "outputs": [
    {
     "data": {
      "text/plain": [
       "490    490\n",
       "491    491\n",
       "492    492\n",
       "493    493\n",
       "494    494\n",
       "495    495\n",
       "496    496\n",
       "497    497\n",
       "498    498\n",
       "499    499\n",
       "dtype: int64"
      ]
     },
     "execution_count": 6,
     "metadata": {},
     "output_type": "execute_result"
    }
   ],
   "source": [
    "nums.tail(10) # head()와 같은 방식으로 괄호 안에 숫자를 넣어서\n",
    "              # 출력할 데이터 개수 지정 가능"
   ]
  },
  {
   "cell_type": "markdown",
   "id": "0f311a6e-c428-4a3d-8859-b7f0184d9d09",
   "metadata": {},
   "source": [
    "# Series 수학 연산"
   ]
  },
  {
   "cell_type": "code",
   "execution_count": 7,
   "id": "a8c295a6-d99c-43ac-8fed-7d4aac2f11fe",
   "metadata": {},
   "outputs": [
    {
     "data": {
      "text/plain": [
       "0    1.0\n",
       "1    2.0\n",
       "2    NaN\n",
       "3    4.0\n",
       "4    5.0\n",
       "dtype: float64"
      ]
     },
     "execution_count": 7,
     "metadata": {},
     "output_type": "execute_result"
    }
   ],
   "source": [
    "nums = pd.Series([1, 2, np.nan, 4, 5])\n",
    "nums # np.nan에 의해 float으로 자료형 통일"
   ]
  },
  {
   "cell_type": "markdown",
   "id": "f8d77b36-bb15-4b64-ae29-e15b87214b9f",
   "metadata": {},
   "source": [
    "## Series 수학 연산 nunique() 메서드"
   ]
  },
  {
   "cell_type": "code",
   "execution_count": 8,
   "id": "afdd3eb2-ef57-4adc-a714-2f6fba85af16",
   "metadata": {},
   "outputs": [
    {
     "data": {
      "text/plain": [
       "0    h\n",
       "1    e\n",
       "2    l\n",
       "3    l\n",
       "4    o\n",
       "dtype: object"
      ]
     },
     "execution_count": 8,
     "metadata": {},
     "output_type": "execute_result"
    }
   ],
   "source": [
    "# nunique() 메서드는 고유한 값의 개수를 계산할 때 사용\n",
    "# 아래 예제에서 'h','e','l','l','o'의 값을 갖는 Series 객체에서\n",
    "# 고유한 값인 'h', 'e', 'l', 'o'에 대한 개수를 구해준다.\n",
    "\n",
    "hello = pd.Series(list(\"hello\"))\n",
    "hello"
   ]
  },
  {
   "cell_type": "markdown",
   "id": "5353b675-664e-4397-82fa-c3028cc57fd0",
   "metadata": {},
   "source": [
    "## Series 수학 연산 count() 메서드"
   ]
  },
  {
   "cell_type": "code",
   "execution_count": 9,
   "id": "9f080ac0-2c96-47aa-8106-402a243e2a21",
   "metadata": {},
   "outputs": [
    {
     "data": {
      "text/plain": [
       "0    1.0\n",
       "1    2.0\n",
       "2    NaN\n",
       "3    4.0\n",
       "4    5.0\n",
       "dtype: float64"
      ]
     },
     "execution_count": 9,
     "metadata": {},
     "output_type": "execute_result"
    }
   ],
   "source": [
    "# count() 메서드는 데이터의 개수를 계산한다.\n",
    "# 이 때 NaN인 값에 대해서는 개수에 포함시키지 않는다.\n",
    "\n",
    "# len()은 그와 별개로 전체 길이를 알려준다.\n",
    "nums"
   ]
  },
  {
   "cell_type": "code",
   "execution_count": 10,
   "id": "5a8de226-6fa6-4b7f-a27d-64d84f4f4371",
   "metadata": {},
   "outputs": [
    {
     "data": {
      "text/plain": [
       "4"
      ]
     },
     "execution_count": 10,
     "metadata": {},
     "output_type": "execute_result"
    }
   ],
   "source": [
    "nums.count()"
   ]
  },
  {
   "cell_type": "code",
   "execution_count": 11,
   "id": "86072935-a149-4603-9a8c-c8b7256ea529",
   "metadata": {},
   "outputs": [
    {
     "data": {
      "text/plain": [
       "5"
      ]
     },
     "execution_count": 11,
     "metadata": {},
     "output_type": "execute_result"
    }
   ],
   "source": [
    "len(nums)"
   ]
  },
  {
   "cell_type": "markdown",
   "id": "b854356e-a1f1-4428-a5b3-c3c8ca673535",
   "metadata": {},
   "source": [
    "## Series 수학 연산 sum() 메서드"
   ]
  },
  {
   "cell_type": "code",
   "execution_count": 12,
   "id": "8c591a6b-6bfa-4a36-a4ae-0fa92bc3dd21",
   "metadata": {},
   "outputs": [
    {
     "data": {
      "text/plain": [
       "0    1.0\n",
       "1    2.0\n",
       "2    NaN\n",
       "3    4.0\n",
       "4    5.0\n",
       "dtype: float64"
      ]
     },
     "execution_count": 12,
     "metadata": {},
     "output_type": "execute_result"
    }
   ],
   "source": [
    "# sum() 메서드는 Series에 있는 데이터를 모두 더한다.\n",
    "# 대부분의 수학 연산과 관련된 메서드는 결측치를 포함하지 않고 계산\n",
    "\n",
    "# 이는 skipna 파라미터의 기본 값이 True이기 때문이다.\n",
    "# skipna의 값을 False로 전달하면 결측값을 포함한 계산 결과가 나온다.\n",
    "nums"
   ]
  },
  {
   "cell_type": "code",
   "execution_count": 13,
   "id": "387f09c2-1c0b-4821-b99a-960b07f19371",
   "metadata": {},
   "outputs": [
    {
     "data": {
      "text/plain": [
       "12.0"
      ]
     },
     "execution_count": 13,
     "metadata": {},
     "output_type": "execute_result"
    }
   ],
   "source": [
    "nums.sum()"
   ]
  },
  {
   "cell_type": "code",
   "execution_count": 14,
   "id": "770fe49b-78df-4ac4-b76e-37928a27c252",
   "metadata": {},
   "outputs": [
    {
     "data": {
      "text/plain": [
       "nan"
      ]
     },
     "execution_count": 14,
     "metadata": {},
     "output_type": "execute_result"
    }
   ],
   "source": [
    "nums.sum(skipna = False)"
   ]
  },
  {
   "cell_type": "markdown",
   "id": "be457bd6-c7c0-47f3-8420-7c9d08660fa3",
   "metadata": {},
   "source": [
    "## Series 수학 연산 mean(), median(), std() 메서드"
   ]
  },
  {
   "cell_type": "code",
   "execution_count": 15,
   "id": "746e04a9-9852-42d5-84cc-7e04f2ba3517",
   "metadata": {},
   "outputs": [
    {
     "data": {
      "text/plain": [
       "0    1.0\n",
       "1    2.0\n",
       "2    NaN\n",
       "3    4.0\n",
       "4    5.0\n",
       "dtype: float64"
      ]
     },
     "execution_count": 15,
     "metadata": {},
     "output_type": "execute_result"
    }
   ],
   "source": [
    "# mean()은 평균\n",
    "# median()은 중앙값\n",
    "# std()는 표준편차\n",
    "nums"
   ]
  },
  {
   "cell_type": "code",
   "execution_count": 16,
   "id": "b19cef16-8afb-48ae-ac1d-efe4f74f25e9",
   "metadata": {},
   "outputs": [
    {
     "data": {
      "text/plain": [
       "3.0"
      ]
     },
     "execution_count": 16,
     "metadata": {},
     "output_type": "execute_result"
    }
   ],
   "source": [
    "nums.mean()"
   ]
  },
  {
   "cell_type": "code",
   "execution_count": 17,
   "id": "fd6a0bf6-0578-4de5-8e4a-79f093e22379",
   "metadata": {},
   "outputs": [
    {
     "data": {
      "text/plain": [
       "3.0"
      ]
     },
     "execution_count": 17,
     "metadata": {},
     "output_type": "execute_result"
    }
   ],
   "source": [
    "nums.median()"
   ]
  },
  {
   "cell_type": "code",
   "execution_count": 18,
   "id": "9f228ca2-da35-442a-95e8-43e4b9d2eba1",
   "metadata": {},
   "outputs": [
    {
     "data": {
      "text/plain": [
       "1.8257418583505538"
      ]
     },
     "execution_count": 18,
     "metadata": {},
     "output_type": "execute_result"
    }
   ],
   "source": [
    "nums.std()"
   ]
  },
  {
   "cell_type": "markdown",
   "id": "f1c80f57-b828-4650-bd82-3338155ab6a1",
   "metadata": {},
   "source": [
    "## Series 수학 연산 max(), min() 메서드"
   ]
  },
  {
   "cell_type": "code",
   "execution_count": 19,
   "id": "f99f4889-e9c7-4914-81db-0d896f09c38f",
   "metadata": {},
   "outputs": [
    {
     "data": {
      "text/plain": [
       "0    1.0\n",
       "1    2.0\n",
       "2    NaN\n",
       "3    4.0\n",
       "4    5.0\n",
       "dtype: float64"
      ]
     },
     "execution_count": 19,
     "metadata": {},
     "output_type": "execute_result"
    }
   ],
   "source": [
    "# max()는 Series에서 가장 큰 값 검색\n",
    "# min()는 Series에서 가장 작은 값 검색\n",
    "nums"
   ]
  },
  {
   "cell_type": "code",
   "execution_count": 20,
   "id": "7fe6bb8b-f590-44bd-af57-33242e0649e6",
   "metadata": {},
   "outputs": [
    {
     "data": {
      "text/plain": [
       "5.0"
      ]
     },
     "execution_count": 20,
     "metadata": {},
     "output_type": "execute_result"
    }
   ],
   "source": [
    "nums.max()"
   ]
  },
  {
   "cell_type": "code",
   "execution_count": 21,
   "id": "14a5e911-27f6-48b7-91f8-d144986d622e",
   "metadata": {},
   "outputs": [
    {
     "data": {
      "text/plain": [
       "1.0"
      ]
     },
     "execution_count": 21,
     "metadata": {},
     "output_type": "execute_result"
    }
   ],
   "source": [
    "nums.min()"
   ]
  },
  {
   "cell_type": "markdown",
   "id": "56e7aecd-6f10-4127-b0b1-e55afc01e1fd",
   "metadata": {},
   "source": [
    "### 문자에 대한 max(), min()메서드"
   ]
  },
  {
   "cell_type": "code",
   "execution_count": 22,
   "id": "6d4ef555-30ca-4357-8694-c5e07babf227",
   "metadata": {},
   "outputs": [
    {
     "data": {
      "text/plain": [
       "0    A\n",
       "1    a\n",
       "2    B\n",
       "3    b\n",
       "4    C\n",
       "5    c\n",
       "dtype: object"
      ]
     },
     "execution_count": 22,
     "metadata": {},
     "output_type": "execute_result"
    }
   ],
   "source": [
    "# Series의 값이 문자인 경우도 최대값과 최소값을 구할 수 있다.\n",
    "\n",
    "# ord() 함수는 하나의 문자를 Unicode 숫자로 변경\n",
    "# 그 크기를 통해 최대값과 최소값 검색\n",
    "\n",
    "somechar = pd.Series(list(\"AaBbCc\"))\n",
    "somechar"
   ]
  },
  {
   "cell_type": "code",
   "execution_count": 23,
   "id": "fac638e7-6730-4dfb-9e51-d5ab800b0089",
   "metadata": {},
   "outputs": [
    {
     "data": {
      "text/plain": [
       "'c'"
      ]
     },
     "execution_count": 23,
     "metadata": {},
     "output_type": "execute_result"
    }
   ],
   "source": [
    "somechar.max()"
   ]
  },
  {
   "cell_type": "code",
   "execution_count": 24,
   "id": "5a433bbe-edca-4ba7-8d0b-801509f5f74a",
   "metadata": {},
   "outputs": [
    {
     "data": {
      "text/plain": [
       "'A'"
      ]
     },
     "execution_count": 24,
     "metadata": {},
     "output_type": "execute_result"
    }
   ],
   "source": [
    "somechar.min()"
   ]
  },
  {
   "cell_type": "code",
   "execution_count": 25,
   "id": "27774bbf-ba67-4fd7-874b-7817898502b9",
   "metadata": {},
   "outputs": [
    {
     "data": {
      "text/plain": [
       "97"
      ]
     },
     "execution_count": 25,
     "metadata": {},
     "output_type": "execute_result"
    }
   ],
   "source": [
    "ord('a')"
   ]
  },
  {
   "cell_type": "code",
   "execution_count": 26,
   "id": "460668c7-81c7-4532-9402-0887d7a47cf5",
   "metadata": {},
   "outputs": [
    {
     "data": {
      "text/plain": [
       "65"
      ]
     },
     "execution_count": 26,
     "metadata": {},
     "output_type": "execute_result"
    }
   ],
   "source": [
    "ord('A')"
   ]
  },
  {
   "cell_type": "markdown",
   "id": "eeb51d58-4415-44ea-af5e-e2266da9661d",
   "metadata": {},
   "source": [
    "## Series 수학 연산 describe() 메서드"
   ]
  },
  {
   "cell_type": "code",
   "execution_count": 27,
   "id": "6e50f263-acdb-4403-9690-f1972ecfb8b5",
   "metadata": {},
   "outputs": [
    {
     "data": {
      "text/plain": [
       "0    1.0\n",
       "1    2.0\n",
       "2    NaN\n",
       "3    4.0\n",
       "4    5.0\n",
       "dtype: float64"
      ]
     },
     "execution_count": 27,
     "metadata": {},
     "output_type": "execute_result"
    }
   ],
   "source": [
    "# describe() 메서드는 수치 값을 갖는 Series에 대해\n",
    "# count, mean, std, min, 25%, median(50%), 75%, max에 대한\n",
    "# 모든 통계를 구해준다.\n",
    "nums"
   ]
  },
  {
   "cell_type": "code",
   "execution_count": 28,
   "id": "e704a8e2-4a12-44c1-84b1-12e41f683d4f",
   "metadata": {},
   "outputs": [
    {
     "data": {
      "text/plain": [
       "count    4.000000\n",
       "mean     3.000000\n",
       "std      1.825742\n",
       "min      1.000000\n",
       "25%      1.750000\n",
       "50%      3.000000\n",
       "75%      4.250000\n",
       "max      5.000000\n",
       "dtype: float64"
      ]
     },
     "execution_count": 28,
     "metadata": {},
     "output_type": "execute_result"
    }
   ],
   "source": [
    "nums.describe()"
   ]
  },
  {
   "cell_type": "code",
   "execution_count": 29,
   "id": "e265f81c-c9ff-41b9-b491-cd98c6da1817",
   "metadata": {},
   "outputs": [
    {
     "data": {
      "text/plain": [
       "0    h\n",
       "1    e\n",
       "2    l\n",
       "3    l\n",
       "4    o\n",
       "dtype: object"
      ]
     },
     "execution_count": 29,
     "metadata": {},
     "output_type": "execute_result"
    }
   ],
   "source": [
    "# object 값을 갖는 Series에 대해서는 데이터 수인 count,\n",
    "# 고유한 값의 수인 unique, 최빈 값 top, \n",
    "# 최빈 값의 빈도 freq에 대한 값을 구해준다.\n",
    "hello"
   ]
  },
  {
   "cell_type": "code",
   "execution_count": 30,
   "id": "81f8da33-4708-46c6-847f-4e4d1eaf0219",
   "metadata": {},
   "outputs": [
    {
     "data": {
      "text/plain": [
       "count     5\n",
       "unique    4\n",
       "top       l\n",
       "freq      2\n",
       "dtype: object"
      ]
     },
     "execution_count": 30,
     "metadata": {},
     "output_type": "execute_result"
    }
   ],
   "source": [
    "hello.describe()"
   ]
  },
  {
   "cell_type": "markdown",
   "id": "21f1154c-bb20-4d72-bb54-f43ce58cacc8",
   "metadata": {},
   "source": [
    "# Series의 변환"
   ]
  },
  {
   "cell_type": "code",
   "execution_count": 31,
   "id": "7b1466b3-12b1-40df-aa12-8d63b36ce0cf",
   "metadata": {},
   "outputs": [
    {
     "data": {
      "text/plain": [
       "0    1.0\n",
       "1    2.0\n",
       "2    NaN\n",
       "3    4.0\n",
       "4    5.0\n",
       "dtype: float64"
      ]
     },
     "execution_count": 31,
     "metadata": {},
     "output_type": "execute_result"
    }
   ],
   "source": [
    "# Series는 파이썬의 기본 자료구조로 변경 가능\n",
    "\n",
    "nums"
   ]
  },
  {
   "cell_type": "code",
   "execution_count": 32,
   "id": "7aed7683-fb4a-489c-945e-ac0dfe0c04a5",
   "metadata": {},
   "outputs": [
    {
     "data": {
      "text/plain": [
       "[1.0, 2.0, nan, 4.0, 5.0]"
      ]
     },
     "execution_count": 32,
     "metadata": {},
     "output_type": "execute_result"
    }
   ],
   "source": [
    "# list() 함수를 사용하여 nums에 담긴 Series 객체를 list 객체로 변경함\n",
    "list(nums)"
   ]
  },
  {
   "cell_type": "code",
   "execution_count": 33,
   "id": "84c55a30-09f2-418d-999a-cb8b5a811be5",
   "metadata": {},
   "outputs": [
    {
     "data": {
      "text/plain": [
       "{0: 1.0, 1: 2.0, 2: nan, 3: 4.0, 4: 5.0}"
      ]
     },
     "execution_count": 33,
     "metadata": {},
     "output_type": "execute_result"
    }
   ],
   "source": [
    "# dict() 함수를 사용하여 nums Series 객체를 닥셔너리 객체로 변환\n",
    "# Series의 index는 dict의 key가 되고,\n",
    "# Series의 value는 dict의 values가 된다.\n",
    "dict(nums)"
   ]
  },
  {
   "cell_type": "markdown",
   "id": "a5d5f821-7ac3-406c-9ad7-7ec254a27bce",
   "metadata": {},
   "source": [
    "# CSV 파일을 Series로 데이터 읽어오기"
   ]
  },
  {
   "cell_type": "code",
   "execution_count": 34,
   "id": "f7ff1adc-3e07-41d9-b841-c70277a3148b",
   "metadata": {},
   "outputs": [],
   "source": [
    "# index와 values로 사용된 두 컬럼만으로 구성된\n",
    "# CSV 파일은 Series로 읽어올 수 있다.\n",
    "\n",
    "# 이때 index_col이란 매개변수로 인덱스로 사용할 Column의 이름을 지정해주고,\n",
    "# squeeze라는 매개변수에 True 값을 전달해야 한다.\n",
    "\n",
    "# squeeze 메서드는 하나의 열을 갖는 DataFrame을 Series로 변환\n",
    "# index_col은 index로 사용할 column을 지정\n",
    "pokemons = pd.read_csv(\"C:/python/datas/pokemon.csv\", index_col = \"Pokemon\").squeeze()\n",
    "# squeez()메서드 사용 권장(squeeze = True 인수 형식은 없어질 예정)"
   ]
  },
  {
   "cell_type": "code",
   "execution_count": 35,
   "id": "179ac012-8e65-4fdc-aca6-214bc653e3c5",
   "metadata": {},
   "outputs": [
    {
     "data": {
      "text/plain": [
       "Pokemon\n",
       "Bulbasaur      Grass / Poison\n",
       "Ivysaur        Grass / Poison\n",
       "Venusaur       Grass / Poison\n",
       "Charmander               Fire\n",
       "Charmeleon               Fire\n",
       "                    ...      \n",
       "Stakataka        Rock / Steel\n",
       "Blacephalon      Fire / Ghost\n",
       "Zeraora              Electric\n",
       "Meltan                  Steel\n",
       "Melmetal                Steel\n",
       "Name: Type, Length: 809, dtype: object"
      ]
     },
     "execution_count": 35,
     "metadata": {},
     "output_type": "execute_result"
    }
   ],
   "source": [
    "pokemons"
   ]
  },
  {
   "cell_type": "markdown",
   "id": "fbd2ac6a-3695-4052-8190-d6c44f930cf7",
   "metadata": {},
   "source": [
    "## 문자로 된 날짜/시간 데이터 파싱하기"
   ]
  },
  {
   "cell_type": "code",
   "execution_count": 36,
   "id": "0acc2fa6-5e11-421c-9cec-fca3f64e97ac",
   "metadata": {},
   "outputs": [
    {
     "data": {
      "text/plain": [
       "Date\n",
       "2004-08-19      49.98\n",
       "2004-08-20      53.95\n",
       "2004-08-23      54.50\n",
       "2004-08-24      52.24\n",
       "2004-08-25      52.80\n",
       "               ...   \n",
       "2019-10-21    1246.15\n",
       "2019-10-22    1242.80\n",
       "2019-10-23    1259.13\n",
       "2019-10-24    1260.99\n",
       "2019-10-25    1265.13\n",
       "Name: Close, Length: 3824, dtype: float64"
      ]
     },
     "execution_count": 36,
     "metadata": {},
     "output_type": "execute_result"
    }
   ],
   "source": [
    "google = pd.read_csv(\"C:/python/datas/google_stocks.csv\",\n",
    "                     parse_dates = [\"Date\"],\n",
    "                     # parse_dates 인수에 파싱할 column명을 \n",
    "                     # 리스트 형태로 전달하면 된다.\n",
    "                     index_col = \"Date\"\n",
    "                     ).squeeze('columns')\n",
    "google"
   ]
  },
  {
   "cell_type": "markdown",
   "id": "092876c9-d667-4cd3-ad0b-66fa5527af7c",
   "metadata": {},
   "source": [
    "## csv 파일에서 필요한 column만 가져오기"
   ]
  },
  {
   "cell_type": "code",
   "execution_count": 37,
   "id": "952e56f7-3a4d-4d9d-8a51-acfa635928e8",
   "metadata": {},
   "outputs": [
    {
     "data": {
      "text/plain": [
       "Start Date\n",
       "1774-09-01    Massachusetts\n",
       "1774-12-14    New Hampshire\n",
       "1775-04-19    Massachusetts\n",
       "1775-04-19    Massachusetts\n",
       "1775-04-20         Virginia\n",
       "                  ...      \n",
       "1782-09-11         Virginia\n",
       "1782-09-13              NaN\n",
       "1782-10-18              NaN\n",
       "1782-12-06              NaN\n",
       "1783-01-22         Virginia\n",
       "Name: State, Length: 232, dtype: object"
      ]
     },
     "execution_count": 37,
     "metadata": {},
     "output_type": "execute_result"
    }
   ],
   "source": [
    "# usecols 인수를 활용하면\n",
    "# csv 파일로부터 pandas가 가져와야 하는 열의 목록 지정 가능\n",
    "\n",
    "war = pd.read_csv(\"C:/python/datas/revolutionary_war.csv\",\n",
    "                  parse_dates = [\"Start Date\"],\n",
    "                  index_col = \"Start Date\",\n",
    "                  usecols = [\"Start Date\", \"State\"]\n",
    "                 ).squeeze('columns')\n",
    "war"
   ]
  },
  {
   "cell_type": "markdown",
   "id": "c6c72f67-c315-42dc-8841-93534762c6f0",
   "metadata": {},
   "source": [
    "# Series의 값 정렬하기 sort_values() 메서드"
   ]
  },
  {
   "cell_type": "code",
   "execution_count": 38,
   "id": "5265eca0-6652-49d7-ae1b-bb70ddeeb7bd",
   "metadata": {},
   "outputs": [
    {
     "data": {
      "text/plain": [
       "Pokemon\n",
       "Illumise                Bug\n",
       "Silcoon                 Bug\n",
       "Pinsir                  Bug\n",
       "Burmy                   Bug\n",
       "Wurmple                 Bug\n",
       "                  ...      \n",
       "Tirtouga       Water / Rock\n",
       "Relicanth      Water / Rock\n",
       "Corsola        Water / Rock\n",
       "Carracosta     Water / Rock\n",
       "Empoleon      Water / Steel\n",
       "Name: Type, Length: 809, dtype: object"
      ]
     },
     "execution_count": 38,
     "metadata": {},
     "output_type": "execute_result"
    }
   ],
   "source": [
    "# Series가 갖는 값을 정렬할 때 사용할 수 있는 메서드가 sort_values()\n",
    "pokemons.sort_values()"
   ]
  },
  {
   "cell_type": "code",
   "execution_count": 39,
   "id": "c4993053-5dcc-4b1a-8a7d-e547408fa71f",
   "metadata": {},
   "outputs": [
    {
     "data": {
      "text/plain": [
       "Pokemon\n",
       "Empoleon      Water / Steel\n",
       "Corsola        Water / Rock\n",
       "Relicanth      Water / Rock\n",
       "Carracosta     Water / Rock\n",
       "Tirtouga       Water / Rock\n",
       "                  ...      \n",
       "Kricketune              Bug\n",
       "Cascoon                 Bug\n",
       "Scatterbug              Bug\n",
       "Kricketot               Bug\n",
       "Grubbin                 Bug\n",
       "Name: Type, Length: 809, dtype: object"
      ]
     },
     "execution_count": 39,
     "metadata": {},
     "output_type": "execute_result"
    }
   ],
   "source": [
    "# sort_values()는 기본적으로 오름차순이다.\n",
    "# 만약 내림차순 하고 싶다면 괄호 안에 \n",
    "# ascending = False를 쓰면 된다.\n",
    "\n",
    "pokemons.sort_values(ascending = False)"
   ]
  },
  {
   "cell_type": "markdown",
   "id": "94825cb9-e5ec-4258-9f4c-026344b910c9",
   "metadata": {},
   "source": [
    "## NaN 값 정렬위치"
   ]
  },
  {
   "cell_type": "code",
   "execution_count": 40,
   "id": "19e23807-7fb1-46e3-84c7-e189a593d6a2",
   "metadata": {},
   "outputs": [],
   "source": [
    "# na_position이라는 인수에 first, last를 쓰면 된다."
   ]
  },
  {
   "cell_type": "code",
   "execution_count": 41,
   "id": "8972d73b-74d2-4c46-9b6c-c5cb70328b75",
   "metadata": {},
   "outputs": [
    {
     "data": {
      "text/plain": [
       "Start Date\n",
       "1775-09-17         NaN\n",
       "1775-12-31         NaN\n",
       "1776-03-03         NaN\n",
       "1776-03-25         NaN\n",
       "1776-05-18         NaN\n",
       "                ...   \n",
       "1781-07-06    Virginia\n",
       "1781-07-01    Virginia\n",
       "1781-06-26    Virginia\n",
       "1781-04-25    Virginia\n",
       "1783-01-22    Virginia\n",
       "Name: State, Length: 232, dtype: object"
      ]
     },
     "execution_count": 41,
     "metadata": {},
     "output_type": "execute_result"
    }
   ],
   "source": [
    "war.sort_values(na_position = \"first\")"
   ]
  },
  {
   "cell_type": "code",
   "execution_count": 42,
   "id": "9eb9fc33-9c42-4cc3-990b-60b9abd013d4",
   "metadata": {},
   "outputs": [
    {
     "data": {
      "text/plain": [
       "Start Date\n",
       "1781-09-06    Connecticut\n",
       "1779-07-05    Connecticut\n",
       "1777-04-27    Connecticut\n",
       "1777-09-03       Delaware\n",
       "1777-05-17        Florida\n",
       "                 ...     \n",
       "1782-08-08            NaN\n",
       "1782-08-25            NaN\n",
       "1782-09-13            NaN\n",
       "1782-10-18            NaN\n",
       "1782-12-06            NaN\n",
       "Name: State, Length: 232, dtype: object"
      ]
     },
     "execution_count": 42,
     "metadata": {},
     "output_type": "execute_result"
    }
   ],
   "source": [
    "war.sort_values(na_position = \"last\")"
   ]
  },
  {
   "cell_type": "markdown",
   "id": "27b06ed3-a8eb-421d-8945-81427c17127f",
   "metadata": {},
   "source": [
    "## Series의 값중 NaN 배제하기 dropna()"
   ]
  },
  {
   "cell_type": "code",
   "execution_count": 43,
   "id": "022c0e84-8fc6-4662-85b2-30e5e6db3cf5",
   "metadata": {},
   "outputs": [
    {
     "data": {
      "text/plain": [
       "Start Date\n",
       "1774-09-01     Massachusetts\n",
       "1774-12-14     New Hampshire\n",
       "1775-04-19     Massachusetts\n",
       "1775-04-19     Massachusetts\n",
       "1775-04-20          Virginia\n",
       "                   ...      \n",
       "1782-08-15          Virginia\n",
       "1782-08-19          Virginia\n",
       "1782-08-26    South Carolina\n",
       "1782-09-11          Virginia\n",
       "1783-01-22          Virginia\n",
       "Name: State, Length: 162, dtype: object"
      ]
     },
     "execution_count": 43,
     "metadata": {},
     "output_type": "execute_result"
    }
   ],
   "source": [
    "# dropna() 메서드를 통해 직접 NaN 값 배제 가능\n",
    "war.dropna()"
   ]
  },
  {
   "cell_type": "markdown",
   "id": "bb61c79b-18f4-4d86-b06b-9d53ea1f22e1",
   "metadata": {},
   "source": [
    "# Series의 index를 기준으로 정렬하기"
   ]
  },
  {
   "cell_type": "code",
   "execution_count": 44,
   "id": "5778c3e0-2c0f-44f2-bc38-37dec2b99a97",
   "metadata": {},
   "outputs": [],
   "source": [
    "# values가 아닌 index 기준 정렬\n",
    "# sort_index() 메서드를 활용\n",
    "\n",
    "# 기본 정렬은 오름차순 ascending = True 상태\n",
    "# 내림차순을 원하면 괄호 안에 ascending = False 입력"
   ]
  },
  {
   "cell_type": "code",
   "execution_count": 45,
   "id": "bec77e82-d5a1-4468-9b7a-dba97da9f43b",
   "metadata": {},
   "outputs": [
    {
     "data": {
      "text/plain": [
       "Pokemon\n",
       "Abomasnow        Grass / Ice\n",
       "Abra                 Psychic\n",
       "Absol                   Dark\n",
       "Accelgor                 Bug\n",
       "Aegislash      Steel / Ghost\n",
       "                  ...       \n",
       "Zoroark                 Dark\n",
       "Zorua                   Dark\n",
       "Zubat        Poison / Flying\n",
       "Zweilous       Dark / Dragon\n",
       "Zygarde      Dragon / Ground\n",
       "Name: Type, Length: 809, dtype: object"
      ]
     },
     "execution_count": 45,
     "metadata": {},
     "output_type": "execute_result"
    }
   ],
   "source": [
    "pokemons.sort_index()"
   ]
  },
  {
   "cell_type": "code",
   "execution_count": 46,
   "id": "dae21473-c8d1-4f64-bf02-e2bc869c64e0",
   "metadata": {},
   "outputs": [
    {
     "data": {
      "text/plain": [
       "Start Date\n",
       "1774-09-01    Massachusetts\n",
       "1774-12-14    New Hampshire\n",
       "1775-04-19    Massachusetts\n",
       "1775-04-19    Massachusetts\n",
       "1775-04-20         Virginia\n",
       "                  ...      \n",
       "1783-01-22         Virginia\n",
       "NaT              New Jersey\n",
       "NaT                Virginia\n",
       "NaT                     NaN\n",
       "NaT                     NaN\n",
       "Name: State, Length: 232, dtype: object"
      ]
     },
     "execution_count": 46,
     "metadata": {},
     "output_type": "execute_result"
    }
   ],
   "source": [
    "# NaT는 Not a Time의 줄임말\n",
    "\n",
    "# NaN은 float인 반면, NaT는 Datetime(날짜/시간) 유형의 데이터\n",
    "war.sort_index()"
   ]
  },
  {
   "cell_type": "markdown",
   "id": "4b30c7fc-0a98-4cbf-b3ca-87cdff75fc1b",
   "metadata": {},
   "source": [
    "## NaN 값 정렬위치"
   ]
  },
  {
   "cell_type": "code",
   "execution_count": 47,
   "id": "08e40e63-e96e-4075-87a9-43854dc06f29",
   "metadata": {},
   "outputs": [
    {
     "data": {
      "text/plain": [
       "Start Date\n",
       "NaT              New Jersey\n",
       "NaT                Virginia\n",
       "NaT                     NaN\n",
       "NaT                     NaN\n",
       "1774-09-01    Massachusetts\n",
       "                  ...      \n",
       "1782-09-11         Virginia\n",
       "1782-09-13              NaN\n",
       "1782-10-18              NaN\n",
       "1782-12-06              NaN\n",
       "1783-01-22         Virginia\n",
       "Name: State, Length: 232, dtype: object"
      ]
     },
     "execution_count": 47,
     "metadata": {},
     "output_type": "execute_result"
    }
   ],
   "source": [
    "# sort_index() 메서드에서도 na_position 인수 사용 가능\n",
    "war.sort_index(na_position = \"first\")"
   ]
  },
  {
   "cell_type": "code",
   "execution_count": 48,
   "id": "aab013b2-23e5-42d8-a579-163328fb4e55",
   "metadata": {},
   "outputs": [
    {
     "data": {
      "text/plain": [
       "Start Date\n",
       "1774-09-01    Massachusetts\n",
       "1774-12-14    New Hampshire\n",
       "1775-04-19    Massachusetts\n",
       "1775-04-19    Massachusetts\n",
       "1775-04-20         Virginia\n",
       "                  ...      \n",
       "1783-01-22         Virginia\n",
       "NaT              New Jersey\n",
       "NaT                Virginia\n",
       "NaT                     NaN\n",
       "NaT                     NaN\n",
       "Name: State, Length: 232, dtype: object"
      ]
     },
     "execution_count": 48,
     "metadata": {},
     "output_type": "execute_result"
    }
   ],
   "source": [
    "war.sort_index(na_position = \"last\")"
   ]
  },
  {
   "cell_type": "markdown",
   "id": "e8277028-e47c-4db3-b091-7d9cd18c2f44",
   "metadata": {},
   "source": [
    "## Series의 index에 NaT 배제하기"
   ]
  },
  {
   "cell_type": "code",
   "execution_count": 49,
   "id": "5ad659ed-674d-4a64-9df8-362f9f26e330",
   "metadata": {},
   "outputs": [
    {
     "data": {
      "text/plain": [
       "1781-04-25    2\n",
       "1781-05-22    2\n",
       "1780-08-18    2\n",
       "1781-09-13    2\n",
       "1782-03-16    2\n",
       "1780-05-25    2\n",
       "1778-09-07    2\n",
       "1782-01-11    2\n",
       "1777-08-22    2\n",
       "1775-04-19    2\n",
       "1781-04-15    2\n",
       "Name: Start Date, dtype: int64"
      ]
     },
     "execution_count": 49,
     "metadata": {},
     "output_type": "execute_result"
    }
   ],
   "source": [
    "war.index.value_counts()[:11]"
   ]
  },
  {
   "cell_type": "code",
   "execution_count": 50,
   "id": "14bdf4a5-eeb8-442c-b66e-f37a9fcd489d",
   "metadata": {},
   "outputs": [
    {
     "data": {
      "text/plain": [
       "Start Date\n",
       "1774-09-01    Massachusetts\n",
       "1774-12-14    New Hampshire\n",
       "1775-04-19    Massachusetts\n",
       "1775-04-19    Massachusetts\n",
       "1775-04-19    Massachusetts\n",
       "                  ...      \n",
       "1782-09-11         Virginia\n",
       "1782-09-13              NaN\n",
       "1782-10-18              NaN\n",
       "1782-12-06              NaN\n",
       "1783-01-22         Virginia\n",
       "Name: State, Length: 250, dtype: object"
      ]
     },
     "execution_count": 50,
     "metadata": {},
     "output_type": "execute_result"
    }
   ],
   "source": [
    "# 1. dropna() 메서드 사용\n",
    "war.loc[war.index.dropna()] # index 중복이 없어야 올바른 결과 보여줌\n",
    "# 따라서 war index는 value가 2개씩 있는 index가 11개 있으므로 \n",
    "# dropna에서 걸러지지 않고 남음"
   ]
  },
  {
   "cell_type": "code",
   "execution_count": 51,
   "id": "e283ed90-c1be-4ef5-a7a8-ad4d7851af2b",
   "metadata": {},
   "outputs": [
    {
     "data": {
      "text/plain": [
       "Start Date\n",
       "1774-09-01    Massachusetts\n",
       "1774-12-14    New Hampshire\n",
       "1775-04-19    Massachusetts\n",
       "1775-04-19    Massachusetts\n",
       "1775-04-20         Virginia\n",
       "                  ...      \n",
       "1782-09-11         Virginia\n",
       "1782-09-13              NaN\n",
       "1782-10-18              NaN\n",
       "1782-12-06              NaN\n",
       "1783-01-22         Virginia\n",
       "Name: State, Length: 228, dtype: object"
      ]
     },
     "execution_count": 51,
     "metadata": {},
     "output_type": "execute_result"
    }
   ],
   "source": [
    "# 2. notnull() 메서드 사용\n",
    "war.loc[war.index.notnull()]\n",
    "# notnull은 중복을 허용 안함"
   ]
  },
  {
   "cell_type": "markdown",
   "id": "ae9edb8a-ab0b-4148-87f7-83dde14f29df",
   "metadata": {},
   "source": [
    "# Series nsmallest(), nlargest() 메서드"
   ]
  },
  {
   "cell_type": "code",
   "execution_count": 52,
   "id": "6651f865-c602-4c8e-8b47-82c880ca4e5a",
   "metadata": {},
   "outputs": [],
   "source": [
    "# nsmallest()는 작은 값을 순서대로 인수의 숫자만큼 구해줌\n",
    "# nlargest()는 큰 값을 순서대로 인수의 숫자만큼 구해줌"
   ]
  },
  {
   "cell_type": "code",
   "execution_count": 53,
   "id": "6f2d3395-7a4f-476d-87e6-ec12f16a077a",
   "metadata": {},
   "outputs": [
    {
     "data": {
      "text/plain": [
       "Date\n",
       "2019-04-29    1287.58\n",
       "2019-04-26    1272.18\n",
       "2018-07-26    1268.33\n",
       "2019-10-25    1265.13\n",
       "2019-04-23    1264.55\n",
       "2018-07-25    1263.70\n",
       "2019-04-25    1263.45\n",
       "2019-10-24    1260.99\n",
       "2019-10-23    1259.13\n",
       "2019-04-24    1256.00\n",
       "Name: Close, dtype: float64"
      ]
     },
     "execution_count": 53,
     "metadata": {},
     "output_type": "execute_result"
    }
   ],
   "source": [
    "google.nlargest(10)"
   ]
  },
  {
   "cell_type": "code",
   "execution_count": 54,
   "id": "a9b07c57-e81b-4751-a013-a195701a27de",
   "metadata": {},
   "outputs": [
    {
     "data": {
      "text/plain": [
       "Date\n",
       "2004-09-03    49.82\n",
       "2004-09-01    49.94\n",
       "2004-08-19    49.98\n",
       "2004-09-02    50.57\n",
       "2004-09-07    50.60\n",
       "2004-08-30    50.81\n",
       "2004-09-08    50.96\n",
       "2004-09-09    50.96\n",
       "2004-08-31    50.99\n",
       "2004-08-24    52.24\n",
       "Name: Close, dtype: float64"
      ]
     },
     "execution_count": 54,
     "metadata": {},
     "output_type": "execute_result"
    }
   ],
   "source": [
    "google.nsmallest(10)"
   ]
  },
  {
   "cell_type": "markdown",
   "id": "b7371274-f38c-44a6-9928-9d69eef37ba1",
   "metadata": {},
   "source": [
    "# Series value_counts() 메서드"
   ]
  },
  {
   "cell_type": "code",
   "execution_count": 55,
   "id": "26c65091-388f-4976-afb7-471e449a3a07",
   "metadata": {},
   "outputs": [
    {
     "data": {
      "text/plain": [
       "Normal                65\n",
       "Water                 61\n",
       "Grass                 38\n",
       "Psychic               35\n",
       "Fire                  30\n",
       "                      ..\n",
       "Fire / Psychic         1\n",
       "Normal / Ground        1\n",
       "Psychic / Fighting     1\n",
       "Dark / Ghost           1\n",
       "Fire / Ghost           1\n",
       "Name: Type, Length: 159, dtype: int64"
      ]
     },
     "execution_count": 55,
     "metadata": {},
     "output_type": "execute_result"
    }
   ],
   "source": [
    "# value_counts() 메서드는 Series 내 데이터의 고유한 값의 빈도를 볼 때 활용\n",
    "\n",
    "pokemons.value_counts()"
   ]
  },
  {
   "cell_type": "code",
   "execution_count": 56,
   "id": "6399213d-3c38-4b91-9404-57aea386a2f4",
   "metadata": {},
   "outputs": [
    {
     "data": {
      "text/plain": [
       "array([   0.,  200.,  400.,  600.,  800., 1000., 1200., 1400.])"
      ]
     },
     "execution_count": 56,
     "metadata": {},
     "output_type": "execute_result"
    }
   ],
   "source": [
    "# 수치형 데이터를 갖는 Series의 경우 범주를 나눠 값의 빈도를 확인 가능\n",
    "\n",
    "# bins 인수에 값의 구간을 갖는 리스트를 넘겨주면 된다.\n",
    "\n",
    "bins = np.linspace(0, 1400, 8)\n",
    "bins"
   ]
  },
  {
   "cell_type": "code",
   "execution_count": 57,
   "id": "b8c3368a-8a7d-4287-b2bf-e1ec0ac10734",
   "metadata": {},
   "outputs": [
    {
     "data": {
      "text/plain": [
       "(200.0, 400.0]      1568\n",
       "(-0.001, 200.0]      595\n",
       "(400.0, 600.0]       575\n",
       "(1000.0, 1200.0]     406\n",
       "(600.0, 800.0]       380\n",
       "(800.0, 1000.0]      207\n",
       "(1200.0, 1400.0]      93\n",
       "Name: Close, dtype: int64"
      ]
     },
     "execution_count": 57,
     "metadata": {},
     "output_type": "execute_result"
    }
   ],
   "source": [
    "google.value_counts(bins = bins)"
   ]
  },
  {
   "cell_type": "code",
   "execution_count": 58,
   "id": "3bea0c92-03b5-48b6-9869-4b6e4cadd5c7",
   "metadata": {},
   "outputs": [
    {
     "data": {
      "text/plain": [
       "(48.581, 204.54]       651\n",
       "(204.54, 359.26]      1435\n",
       "(359.26, 513.98]       263\n",
       "(513.98, 668.7]        466\n",
       "(668.7, 823.42]        334\n",
       "(823.42, 978.14]       161\n",
       "(978.14, 1132.86]      283\n",
       "(1132.86, 1287.58]     231\n",
       "Name: Close, dtype: int64"
      ]
     },
     "execution_count": 58,
     "metadata": {},
     "output_type": "execute_result"
    }
   ],
   "source": [
    "# 범주를 정수로 전달하면 그 정수만큼 알아서 구간을 나눈다.\n",
    "# (단 구간의 크기가 일정치 않을 수 있다.)\n",
    "# 또 sort 인수에 False 값을 줘서 값을 기준으로 정렬하지 않을 수도 있다.\n",
    "\n",
    "google.value_counts(bins = 8, sort = False)"
   ]
  }
 ],
 "metadata": {
  "kernelspec": {
   "display_name": "Python 3 (ipykernel)",
   "language": "python",
   "name": "python3"
  },
  "language_info": {
   "codemirror_mode": {
    "name": "ipython",
    "version": 3
   },
   "file_extension": ".py",
   "mimetype": "text/x-python",
   "name": "python",
   "nbconvert_exporter": "python",
   "pygments_lexer": "ipython3",
   "version": "3.9.13"
  }
 },
 "nbformat": 4,
 "nbformat_minor": 5
}

{
 "cells": [
  {
   "cell_type": "code",
   "execution_count": 1,
   "id": "0e030707-9c3b-434b-aee5-d6c39a489439",
   "metadata": {},
   "outputs": [],
   "source": [
    "import numpy as np"
   ]
  },
  {
   "cell_type": "code",
   "execution_count": 2,
   "id": "7803d8cc-81cb-4105-b2e6-5d2bff2f1c5f",
   "metadata": {},
   "outputs": [
    {
     "data": {
      "text/plain": [
       "array([[['', '', ''],\n",
       "        ['', '', ''],\n",
       "        ['', '', '']],\n",
       "\n",
       "       [['', '', ''],\n",
       "        ['', '', ''],\n",
       "        ['', '', '']],\n",
       "\n",
       "       [['', '', ''],\n",
       "        ['', '', ''],\n",
       "        ['', '', '']]], dtype='<U10')"
      ]
     },
     "execution_count": 2,
     "metadata": {},
     "output_type": "execute_result"
    }
   ],
   "source": [
    "# np.full()\n",
    "\n",
    "# 하나의 특정 값으로 배열의 값을 채우고 싶을 때는\n",
    "# np.full() 메서드를 활용하면 좋다.\n",
    "\n",
    "# numpy.full(shape, fill_value, dtype = None, \n",
    "#            order = 'C', *, like = None)\n",
    "\n",
    "# 첫 번째 인자에는 shape을, 두 번째 인자에는 요소로 채울 값 전달\n",
    "# 타입 명기를 원하면 dtype 키워드 인수 작성\n",
    "\n",
    "np.full((3, 3, 3), '', dtype = \"U10\")"
   ]
  },
  {
   "cell_type": "code",
   "execution_count": null,
   "id": "f42e7af7-0ad9-486a-bd4f-cc2bf70ab44f",
   "metadata": {},
   "outputs": [],
   "source": []
  },
  {
   "cell_type": "code",
   "execution_count": null,
   "id": "26c6e2c5-1963-4dd3-b3fb-422e5e199a5d",
   "metadata": {},
   "outputs": [],
   "source": [
    "# 단위 행렬 만들기\n",
    "\n"
   ]
  }
 ],
 "metadata": {
  "kernelspec": {
   "display_name": "Python 3 (ipykernel)",
   "language": "python",
   "name": "python3"
  },
  "language_info": {
   "codemirror_mode": {
    "name": "ipython",
    "version": 3
   },
   "file_extension": ".py",
   "mimetype": "text/x-python",
   "name": "python",
   "nbconvert_exporter": "python",
   "pygments_lexer": "ipython3",
   "version": "3.9.13"
  }
 },
 "nbformat": 4,
 "nbformat_minor": 5
}

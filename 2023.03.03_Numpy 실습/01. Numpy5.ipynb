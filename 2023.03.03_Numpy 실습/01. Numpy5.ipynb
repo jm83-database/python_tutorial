{
 "cells": [
  {
   "cell_type": "code",
   "execution_count": 1,
   "id": "0e030707-9c3b-434b-aee5-d6c39a489439",
   "metadata": {},
   "outputs": [],
   "source": [
    "import numpy as np"
   ]
  },
  {
   "cell_type": "markdown",
   "id": "41e03401-0ca3-46c4-b85e-e8b4322d60a2",
   "metadata": {
    "tags": []
   },
   "source": [
    "# np.full()"
   ]
  },
  {
   "cell_type": "code",
   "execution_count": 2,
   "id": "7803d8cc-81cb-4105-b2e6-5d2bff2f1c5f",
   "metadata": {},
   "outputs": [
    {
     "data": {
      "text/plain": [
       "array([[['', '', ''],\n",
       "        ['', '', ''],\n",
       "        ['', '', '']],\n",
       "\n",
       "       [['', '', ''],\n",
       "        ['', '', ''],\n",
       "        ['', '', '']],\n",
       "\n",
       "       [['', '', ''],\n",
       "        ['', '', ''],\n",
       "        ['', '', '']]], dtype='<U10')"
      ]
     },
     "execution_count": 2,
     "metadata": {},
     "output_type": "execute_result"
    }
   ],
   "source": [
    "# 하나의 특정 값으로 배열의 값을 채우고 싶을 때는\n",
    "# np.full() 메서드를 활용하면 좋다.\n",
    "\n",
    "# numpy.full(shape, fill_value, dtype = None, \n",
    "#            order = 'C', *, like = None)\n",
    "\n",
    "# 첫 번째 인자에는 shape을, 두 번째 인자에는 요소로 채울 값 전달\n",
    "# 타입 명기를 원하면 dtype 키워드 인수 작성\n",
    "\n",
    "np.full((3, 3, 3), '', dtype = \"U10\")"
   ]
  },
  {
   "cell_type": "markdown",
   "id": "46ce1aba-0e12-4dcf-9e11-b42ad0692572",
   "metadata": {
    "tags": []
   },
   "source": [
    "# 단위 행렬 만들기"
   ]
  },
  {
   "cell_type": "code",
   "execution_count": 3,
   "id": "26c6e2c5-1963-4dd3-b3fb-422e5e199a5d",
   "metadata": {},
   "outputs": [
    {
     "data": {
      "text/plain": [
       "array([[1, 0, 0, 0],\n",
       "       [0, 1, 0, 0],\n",
       "       [0, 0, 1, 0],\n",
       "       [0, 0, 0, 1]], dtype=int32)"
      ]
     },
     "execution_count": 3,
     "metadata": {},
     "output_type": "execute_result"
    }
   ],
   "source": [
    "# 크기가 n인 단위 행렬은 numpy에서 np.eye(n)메서드로 생성\n",
    "# 기본 타입은 float이며, dtype 키워드 인수로 데이터 타입 지정 가능\n",
    "\n",
    "np.eye(4, dtype = 'i')\n"
   ]
  },
  {
   "cell_type": "markdown",
   "id": "b310dde3-1f62-498b-bfd2-64ef2f1a2df7",
   "metadata": {
    "tags": []
   },
   "source": [
    "# 넘파이 배열 데이터 타입 변경하기"
   ]
  },
  {
   "cell_type": "code",
   "execution_count": 4,
   "id": "628c332d-6688-41a8-910f-1738d630cc8f",
   "metadata": {},
   "outputs": [],
   "source": [
    "# 넘파이 배열 데이터 타입 변경하기\n",
    "\n",
    "# ndarray 타입을 변경하기 위해서 astype()메서드 사용\n",
    "\n",
    "# ndarray.astype(dtype, order = 'K', castings = 'unsafe',\n",
    "#                subok = True, copy = True)\n",
    "\n",
    "# 첫번째 위치 키워드 인수인 dtype은 값을 필수로 입력해줘야 한다."
   ]
  },
  {
   "cell_type": "code",
   "execution_count": 5,
   "id": "7a8dcb3e-5cd8-43ee-9f71-41a4acb102bf",
   "metadata": {},
   "outputs": [
    {
     "data": {
      "text/plain": [
       "array([[[1., 1., 1., 1.],\n",
       "        [1., 1., 1., 1.],\n",
       "        [1., 1., 1., 1.]],\n",
       "\n",
       "       [[1., 1., 1., 1.],\n",
       "        [1., 1., 1., 1.],\n",
       "        [1., 1., 1., 1.]]])"
      ]
     },
     "execution_count": 5,
     "metadata": {},
     "output_type": "execute_result"
    }
   ],
   "source": [
    "a = np.ones((2, 3, 4))\n",
    "a"
   ]
  },
  {
   "cell_type": "code",
   "execution_count": 6,
   "id": "0ee6ceb7-177c-4af0-8457-32db65eb3093",
   "metadata": {},
   "outputs": [
    {
     "data": {
      "text/plain": [
       "array([[[1, 1, 1, 1],\n",
       "        [1, 1, 1, 1],\n",
       "        [1, 1, 1, 1]],\n",
       "\n",
       "       [[1, 1, 1, 1],\n",
       "        [1, 1, 1, 1],\n",
       "        [1, 1, 1, 1]]], dtype=int32)"
      ]
     },
     "execution_count": 6,
     "metadata": {},
     "output_type": "execute_result"
    }
   ],
   "source": [
    "a.astype(\"i\")"
   ]
  },
  {
   "cell_type": "markdown",
   "id": "01cabe7f-e933-4bad-8ba5-588e9f3cad1c",
   "metadata": {
    "tags": []
   },
   "source": [
    "# Boolean indexing"
   ]
  },
  {
   "cell_type": "code",
   "execution_count": 7,
   "id": "54dc13be-0153-44c4-924c-520f81d3b9c6",
   "metadata": {},
   "outputs": [],
   "source": [
    "# 같은 shape과 len의 boolean type의 값을 갖는 ndarray로 인덱싱 가능\n",
    "# 해당 위치에 대해 True면 값을 취하고 False면 가져오지 않는다."
   ]
  },
  {
   "cell_type": "code",
   "execution_count": 8,
   "id": "a33280f5-29e7-4bdf-9e28-8525b0d8e75b",
   "metadata": {},
   "outputs": [
    {
     "name": "stdout",
     "output_type": "stream",
     "text": [
      "[1 2 3 4]\n"
     ]
    }
   ],
   "source": [
    "a = np.arange(1, 5)\n",
    "print(a)"
   ]
  },
  {
   "cell_type": "code",
   "execution_count": 9,
   "id": "21c4a1c8-73bb-47b4-97be-a798bdf6217b",
   "metadata": {},
   "outputs": [
    {
     "name": "stdout",
     "output_type": "stream",
     "text": [
      "[False  True False  True]\n"
     ]
    }
   ],
   "source": [
    "even = np.array([True if i%2 == 0 else False for i in range(1, 5)])\n",
    "print(even)"
   ]
  },
  {
   "cell_type": "code",
   "execution_count": 10,
   "id": "fca1d80d-141b-4a38-aab1-f67baeb9fae2",
   "metadata": {},
   "outputs": [
    {
     "data": {
      "text/plain": [
       "array([2, 4])"
      ]
     },
     "execution_count": 10,
     "metadata": {},
     "output_type": "execute_result"
    }
   ],
   "source": [
    "a[even] # 짝수인 것만 반환한다."
   ]
  }
 ],
 "metadata": {
  "kernelspec": {
   "display_name": "Python 3 (ipykernel)",
   "language": "python",
   "name": "python3"
  },
  "language_info": {
   "codemirror_mode": {
    "name": "ipython",
    "version": 3
   },
   "file_extension": ".py",
   "mimetype": "text/x-python",
   "name": "python",
   "nbconvert_exporter": "python",
   "pygments_lexer": "ipython3",
   "version": "3.9.13"
  },
  "toc-showmarkdowntxt": false
 },
 "nbformat": 4,
 "nbformat_minor": 5
}

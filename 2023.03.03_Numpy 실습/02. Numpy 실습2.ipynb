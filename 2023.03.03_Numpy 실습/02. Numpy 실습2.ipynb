{
 "cells": [
  {
   "cell_type": "code",
   "execution_count": 1,
   "id": "de3b0b09-b2e3-4d18-9f9b-1e298a9d5c11",
   "metadata": {},
   "outputs": [],
   "source": [
    "import numpy as np"
   ]
  },
  {
   "cell_type": "code",
   "execution_count": 2,
   "id": "0fde4932-0289-4848-859e-edb967c9b1b9",
   "metadata": {},
   "outputs": [
    {
     "data": {
      "text/plain": [
       "3.42"
      ]
     },
     "execution_count": 2,
     "metadata": {},
     "output_type": "execute_result"
    }
   ],
   "source": [
    "# 복습\n",
    "np.random.seed(0)\n",
    "trial = np.random.randint(1, 7, 100)\n",
    "np.mean(trial)"
   ]
  },
  {
   "cell_type": "code",
   "execution_count": null,
   "id": "2421b36f-807e-4680-ba40-86f25640adda",
   "metadata": {},
   "outputs": [],
   "source": []
  },
  {
   "cell_type": "code",
   "execution_count": 3,
   "id": "71a86893-b45b-4cda-bd4e-30727c72844f",
   "metadata": {},
   "outputs": [
    {
     "data": {
      "text/plain": [
       "array([[ 8, 10, 12],\n",
       "       [14, 16, 18]])"
      ]
     },
     "execution_count": 3,
     "metadata": {},
     "output_type": "execute_result"
    }
   ],
   "source": [
    "a1 = np.array([[1, 2, 3], [4, 5, 6]])\n",
    "a2 = np.array([[7, 8, 9], [10, 11, 12]])\n",
    "\n",
    "a1 + a2"
   ]
  },
  {
   "cell_type": "code",
   "execution_count": null,
   "id": "fc8ca245-5946-414d-a770-7c8c0a16d8d8",
   "metadata": {},
   "outputs": [],
   "source": []
  },
  {
   "cell_type": "code",
   "execution_count": 4,
   "id": "b01dda85-9824-4d4f-8ee9-d4498b506531",
   "metadata": {},
   "outputs": [
    {
     "data": {
      "text/plain": [
       "array([ 3,  6,  9, 12, 15, 18, 21, 24, 27])"
      ]
     },
     "execution_count": 4,
     "metadata": {},
     "output_type": "execute_result"
    }
   ],
   "source": [
    "a3 = (np.arange(1, 10))*3\n",
    "a3"
   ]
  },
  {
   "cell_type": "code",
   "execution_count": null,
   "id": "3465a139-723f-497a-bfe6-4f922a4acfad",
   "metadata": {},
   "outputs": [],
   "source": []
  },
  {
   "cell_type": "code",
   "execution_count": 5,
   "id": "3c92cac1-4c25-49ca-bd19-1f4fd4c6bc26",
   "metadata": {},
   "outputs": [
    {
     "data": {
      "text/plain": [
       "array([0., 0., 0., 0., 1., 0., 0., 0., 0., 0.])"
      ]
     },
     "execution_count": 5,
     "metadata": {},
     "output_type": "execute_result"
    }
   ],
   "source": [
    "a4 = np.zeros(10)\n",
    "a4[4] = 1\n",
    "a4"
   ]
  },
  {
   "cell_type": "code",
   "execution_count": null,
   "id": "ebe8d471-49b8-48aa-8b86-bc83cb22868e",
   "metadata": {},
   "outputs": [],
   "source": []
  },
  {
   "cell_type": "code",
   "execution_count": 6,
   "id": "5111e07a-08ae-476c-aa53-7a8a388900e2",
   "metadata": {},
   "outputs": [
    {
     "data": {
      "text/plain": [
       "array([49, 48, 47, 46, 45, 44, 43, 42, 41, 40, 39, 38, 37, 36, 35, 34, 33,\n",
       "       32, 31, 30, 29, 28, 27, 26, 25, 24, 23, 22, 21, 20, 19, 18, 17, 16,\n",
       "       15, 14, 13, 12, 11, 10,  9,  8,  7,  6,  5,  4,  3,  2,  1,  0])"
      ]
     },
     "execution_count": 6,
     "metadata": {},
     "output_type": "execute_result"
    }
   ],
   "source": [
    "a5 = np.arange(50)\n",
    "np.sort(a5)[::-1]"
   ]
  },
  {
   "cell_type": "code",
   "execution_count": 7,
   "id": "4206184e-a31e-4261-8eaa-92c1cca313e5",
   "metadata": {},
   "outputs": [
    {
     "data": {
      "text/plain": [
       "array([49, 48, 47, 46, 45, 44, 43, 42, 41, 40, 39, 38, 37, 36, 35, 34, 33,\n",
       "       32, 31, 30, 29, 28, 27, 26, 25, 24, 23, 22, 21, 20, 19, 18, 17, 16,\n",
       "       15, 14, 13, 12, 11, 10,  9,  8,  7,  6,  5,  4,  3,  2,  1,  0])"
      ]
     },
     "execution_count": 7,
     "metadata": {},
     "output_type": "execute_result"
    }
   ],
   "source": [
    "a5[np.argsort(-a5)]"
   ]
  },
  {
   "cell_type": "code",
   "execution_count": 8,
   "id": "d9c4e1a3-79ca-4544-af54-6566cee1b4eb",
   "metadata": {},
   "outputs": [
    {
     "data": {
      "text/plain": [
       "array([49, 48, 47, 46, 45, 44, 43, 42, 41, 40, 39, 38, 37, 36, 35, 34, 33,\n",
       "       32, 31, 30, 29, 28, 27, 26, 25, 24, 23, 22, 21, 20, 19, 18, 17, 16,\n",
       "       15, 14, 13, 12, 11, 10,  9,  8,  7,  6,  5,  4,  3,  2,  1,  0])"
      ]
     },
     "execution_count": 8,
     "metadata": {},
     "output_type": "execute_result"
    }
   ],
   "source": [
    "a5[::-1]"
   ]
  },
  {
   "cell_type": "code",
   "execution_count": null,
   "id": "1116b69d-fa61-4af7-ada8-8c3cd2ed6ec7",
   "metadata": {},
   "outputs": [],
   "source": []
  },
  {
   "cell_type": "code",
   "execution_count": 9,
   "id": "6d6518d5-df07-4f20-af69-a69336e57332",
   "metadata": {},
   "outputs": [
    {
     "data": {
      "text/plain": [
       "array([[['', '', ''],\n",
       "        ['', '', ''],\n",
       "        ['', '', '']],\n",
       "\n",
       "       [['', '', ''],\n",
       "        ['', '', ''],\n",
       "        ['', '', '']],\n",
       "\n",
       "       [['', '', ''],\n",
       "        ['', '', ''],\n",
       "        ['', '', '']]], dtype='<U10')"
      ]
     },
     "execution_count": 9,
     "metadata": {},
     "output_type": "execute_result"
    }
   ],
   "source": [
    "a6 = np.zeros((3, 3, 3), dtype = 'U10')\n",
    "a6"
   ]
  },
  {
   "cell_type": "code",
   "execution_count": null,
   "id": "e3fed5ea-4aae-41c9-b450-8e9a6b3297d9",
   "metadata": {},
   "outputs": [],
   "source": []
  },
  {
   "cell_type": "code",
   "execution_count": 10,
   "id": "a6f66666-a078-42a5-a2d5-db951d0c4ef5",
   "metadata": {},
   "outputs": [
    {
     "data": {
      "text/plain": [
       "array([[['playdata', 'playdata', 'playdata'],\n",
       "        ['playdata', 'playdata', 'playdata'],\n",
       "        ['playdata', 'playdata', 'playdata']],\n",
       "\n",
       "       [['playdata', 'playdata', 'playdata'],\n",
       "        ['playdata', 'playdata', 'playdata'],\n",
       "        ['playdata', 'playdata', 'playdata']],\n",
       "\n",
       "       [['playdata', 'playdata', 'playdata'],\n",
       "        ['playdata', 'playdata', 'playdata'],\n",
       "        ['playdata', 'playdata', 'playdata']]], dtype='<U8')"
      ]
     },
     "execution_count": 10,
     "metadata": {},
     "output_type": "execute_result"
    }
   ],
   "source": [
    "a7 = np.full((3, 3, 3), 'playdata')\n",
    "a7"
   ]
  },
  {
   "cell_type": "code",
   "execution_count": null,
   "id": "49ecbea4-4ddf-4820-86a1-bea3b3d5579e",
   "metadata": {},
   "outputs": [],
   "source": []
  },
  {
   "cell_type": "code",
   "execution_count": 11,
   "id": "5e770c90-45e9-4ac0-b61a-bf6a0f8f91a5",
   "metadata": {},
   "outputs": [
    {
     "data": {
      "text/plain": [
       "array([[[ 2,  4,  6,  8, 10],\n",
       "        [12, 14, 16, 18, 20]],\n",
       "\n",
       "       [[22, 24, 26, 28, 30],\n",
       "        [32, 34, 36, 38, 40]]])"
      ]
     },
     "execution_count": 11,
     "metadata": {},
     "output_type": "execute_result"
    }
   ],
   "source": [
    "a8 = np.arange(2, 41, 2).reshape(2, 2, 5)\n",
    "a8"
   ]
  },
  {
   "cell_type": "code",
   "execution_count": null,
   "id": "955454ea-45b4-45a1-a2e7-e41d88bce59e",
   "metadata": {},
   "outputs": [],
   "source": []
  },
  {
   "cell_type": "code",
   "execution_count": 12,
   "id": "858ba38d-f680-46f8-8fa6-0a0f7c188a3a",
   "metadata": {},
   "outputs": [
    {
     "data": {
      "text/plain": [
       "array([[1, 0, 0, 0],\n",
       "       [0, 1, 0, 0],\n",
       "       [0, 0, 1, 0],\n",
       "       [0, 0, 0, 1]], dtype=int32)"
      ]
     },
     "execution_count": 12,
     "metadata": {},
     "output_type": "execute_result"
    }
   ],
   "source": [
    "np.eye(4, dtype = 'i')"
   ]
  },
  {
   "cell_type": "code",
   "execution_count": null,
   "id": "00ade2b4-16e6-4461-aab6-dc59cf114358",
   "metadata": {},
   "outputs": [],
   "source": []
  },
  {
   "cell_type": "code",
   "execution_count": 13,
   "id": "373d2766-e53e-41ad-9428-12dd2d75df23",
   "metadata": {},
   "outputs": [
    {
     "data": {
      "text/plain": [
       "array([[False,  True,  True],\n",
       "       [False,  True,  True],\n",
       "       [ True,  True,  True]])"
      ]
     },
     "execution_count": 13,
     "metadata": {},
     "output_type": "execute_result"
    }
   ],
   "source": [
    "np.random.seed(0)\n",
    "a9 = np.random.randint(0, 2, 9).astype('?').reshape(3, 3)\n",
    "a9"
   ]
  },
  {
   "cell_type": "code",
   "execution_count": null,
   "id": "1c1b62eb-1b14-4f1e-b6ba-e87d0f734e85",
   "metadata": {},
   "outputs": [],
   "source": []
  },
  {
   "cell_type": "code",
   "execution_count": 14,
   "id": "c3a02052-f8bf-4aae-90b7-e31000ac17f6",
   "metadata": {},
   "outputs": [
    {
     "data": {
      "text/plain": [
       "array([5, 7, 6, 5, 4, 6, 4, 8, 9, 3], dtype=int32)"
      ]
     },
     "execution_count": 14,
     "metadata": {},
     "output_type": "execute_result"
    }
   ],
   "source": [
    "np.random.seed(0)\n",
    "a10 = (np.random.rand(10)*10).astype('i')\n",
    "a10"
   ]
  },
  {
   "cell_type": "code",
   "execution_count": null,
   "id": "aebaab9a-1681-4713-a7b5-e8a1856ebfcc",
   "metadata": {},
   "outputs": [],
   "source": []
  },
  {
   "cell_type": "code",
   "execution_count": 15,
   "id": "60a905d3-ee8f-44ad-81fb-eac8931b598f",
   "metadata": {},
   "outputs": [
    {
     "data": {
      "text/plain": [
       "array([[1., 1., 1., 1., 1., 1., 1., 1., 1., 1.],\n",
       "       [1., 0., 0., 0., 0., 0., 0., 0., 0., 1.],\n",
       "       [1., 0., 0., 0., 0., 0., 0., 0., 0., 1.],\n",
       "       [1., 0., 0., 0., 0., 0., 0., 0., 0., 1.],\n",
       "       [1., 0., 0., 0., 0., 0., 0., 0., 0., 1.],\n",
       "       [1., 0., 0., 0., 0., 0., 0., 0., 0., 1.],\n",
       "       [1., 0., 0., 0., 0., 0., 0., 0., 0., 1.],\n",
       "       [1., 0., 0., 0., 0., 0., 0., 0., 0., 1.],\n",
       "       [1., 0., 0., 0., 0., 0., 0., 0., 0., 1.],\n",
       "       [1., 1., 1., 1., 1., 1., 1., 1., 1., 1.]])"
      ]
     },
     "execution_count": 15,
     "metadata": {},
     "output_type": "execute_result"
    }
   ],
   "source": [
    "a11 = np.ones((10, 10))\n",
    "a11[1:-1, 1:-1] = 0\n",
    "a11"
   ]
  },
  {
   "cell_type": "code",
   "execution_count": null,
   "id": "d24d062c-619b-407f-9243-81e5c324be11",
   "metadata": {},
   "outputs": [],
   "source": []
  },
  {
   "cell_type": "code",
   "execution_count": 16,
   "id": "e1b12e9b-cdc2-4f29-aac1-239f70968a14",
   "metadata": {},
   "outputs": [
    {
     "data": {
      "text/plain": [
       "array([[0., 0., 0., 0., 0., 0., 0., 0., 0., 0.],\n",
       "       [0., 1., 1., 1., 1., 1., 1., 1., 1., 0.],\n",
       "       [0., 1., 1., 1., 1., 1., 1., 1., 1., 0.],\n",
       "       [0., 1., 1., 1., 1., 1., 1., 1., 1., 0.],\n",
       "       [0., 1., 1., 1., 1., 1., 1., 1., 1., 0.],\n",
       "       [0., 1., 1., 1., 1., 1., 1., 1., 1., 0.],\n",
       "       [0., 1., 1., 1., 1., 1., 1., 1., 1., 0.],\n",
       "       [0., 1., 1., 1., 1., 1., 1., 1., 1., 0.],\n",
       "       [0., 1., 1., 1., 1., 1., 1., 1., 1., 0.],\n",
       "       [0., 0., 0., 0., 0., 0., 0., 0., 0., 0.]])"
      ]
     },
     "execution_count": 16,
     "metadata": {},
     "output_type": "execute_result"
    }
   ],
   "source": [
    "a12 = np.ones((10, 10))\n",
    "for i in range(10):\n",
    "    if i == 0:\n",
    "        a12[i] = 0\n",
    "        a12[:,i] = 0\n",
    "    elif i == 9:\n",
    "        a12[i] = 0\n",
    "        a12[:,i] = 0\n",
    "a12"
   ]
  },
  {
   "cell_type": "code",
   "execution_count": 17,
   "id": "7c90f4ff-3cbc-4cb0-b215-af6ee06b7a38",
   "metadata": {},
   "outputs": [
    {
     "data": {
      "text/plain": [
       "array([[0., 0., 0., 0., 0., 0., 0., 0., 0., 0.],\n",
       "       [0., 1., 1., 1., 1., 1., 1., 1., 1., 0.],\n",
       "       [0., 1., 1., 1., 1., 1., 1., 1., 1., 0.],\n",
       "       [0., 1., 1., 1., 1., 1., 1., 1., 1., 0.],\n",
       "       [0., 1., 1., 1., 1., 1., 1., 1., 1., 0.],\n",
       "       [0., 1., 1., 1., 1., 1., 1., 1., 1., 0.],\n",
       "       [0., 1., 1., 1., 1., 1., 1., 1., 1., 0.],\n",
       "       [0., 1., 1., 1., 1., 1., 1., 1., 1., 0.],\n",
       "       [0., 1., 1., 1., 1., 1., 1., 1., 1., 0.],\n",
       "       [0., 0., 0., 0., 0., 0., 0., 0., 0., 0.]])"
      ]
     },
     "execution_count": 17,
     "metadata": {},
     "output_type": "execute_result"
    }
   ],
   "source": [
    "a12 = np.ones((10, 10))\n",
    "a12[0] = 0\n",
    "a12[:,0] = 0\n",
    "a12[-1] = 0\n",
    "a12[:,-1] = 0\n",
    "a12"
   ]
  },
  {
   "cell_type": "code",
   "execution_count": 18,
   "id": "01e9dec9-98a3-4df5-a24b-b0da62824bb2",
   "metadata": {},
   "outputs": [
    {
     "data": {
      "text/plain": [
       "array([[0., 0., 0., 0., 0., 0., 0., 0., 0., 0.],\n",
       "       [0., 1., 1., 1., 1., 1., 1., 1., 1., 0.],\n",
       "       [0., 1., 1., 1., 1., 1., 1., 1., 1., 0.],\n",
       "       [0., 1., 1., 1., 1., 1., 1., 1., 1., 0.],\n",
       "       [0., 1., 1., 1., 1., 1., 1., 1., 1., 0.],\n",
       "       [0., 1., 1., 1., 1., 1., 1., 1., 1., 0.],\n",
       "       [0., 1., 1., 1., 1., 1., 1., 1., 1., 0.],\n",
       "       [0., 1., 1., 1., 1., 1., 1., 1., 1., 0.],\n",
       "       [0., 1., 1., 1., 1., 1., 1., 1., 1., 0.],\n",
       "       [0., 0., 0., 0., 0., 0., 0., 0., 0., 0.]])"
      ]
     },
     "execution_count": 18,
     "metadata": {},
     "output_type": "execute_result"
    }
   ],
   "source": [
    "a12 = np.ones((10, 10))\n",
    "a12[::9, :] = 0\n",
    "a12[:, ::9] = 0\n",
    "a12"
   ]
  },
  {
   "cell_type": "code",
   "execution_count": 19,
   "id": "a7306899-d687-425f-a91c-a467c45824b0",
   "metadata": {},
   "outputs": [
    {
     "data": {
      "text/plain": [
       "array([[0., 0., 0., 0., 0., 0., 0., 0., 0., 0.],\n",
       "       [0., 1., 1., 1., 1., 1., 1., 1., 1., 0.],\n",
       "       [0., 1., 1., 1., 1., 1., 1., 1., 1., 0.],\n",
       "       [0., 1., 1., 1., 1., 1., 1., 1., 1., 0.],\n",
       "       [0., 1., 1., 1., 1., 1., 1., 1., 1., 0.],\n",
       "       [0., 1., 1., 1., 1., 1., 1., 1., 1., 0.],\n",
       "       [0., 1., 1., 1., 1., 1., 1., 1., 1., 0.],\n",
       "       [0., 1., 1., 1., 1., 1., 1., 1., 1., 0.],\n",
       "       [0., 1., 1., 1., 1., 1., 1., 1., 1., 0.],\n",
       "       [0., 0., 0., 0., 0., 0., 0., 0., 0., 0.]])"
      ]
     },
     "execution_count": 19,
     "metadata": {},
     "output_type": "execute_result"
    }
   ],
   "source": [
    "a12 = np.ones((10, 10))\n",
    "a12[:, [0, -1]] = 0 # 모든 행에 대하여 0번 열과 -1번 열을 0으로 만든다.\n",
    "a12[[0, -1], :] = 0 # 모든 열에 대하여 0번 행과 -1번 행을 0으로 만든다.\n",
    "a12"
   ]
  },
  {
   "cell_type": "code",
   "execution_count": null,
   "id": "2aef267c-add1-4716-af28-5f08f9d5f1b0",
   "metadata": {},
   "outputs": [],
   "source": []
  },
  {
   "cell_type": "code",
   "execution_count": null,
   "id": "4f0ea271-8541-4de6-8af3-b3e0f355d735",
   "metadata": {},
   "outputs": [],
   "source": []
  },
  {
   "cell_type": "code",
   "execution_count": 20,
   "id": "249b423c-1392-4d9b-9667-5540febc591c",
   "metadata": {},
   "outputs": [
    {
     "data": {
      "text/plain": [
       "array([[1, 0, 1, 0, 1, 0, 1, 0],\n",
       "       [0, 1, 0, 1, 0, 1, 0, 1],\n",
       "       [1, 0, 1, 0, 1, 0, 1, 0],\n",
       "       [0, 1, 0, 1, 0, 1, 0, 1],\n",
       "       [1, 0, 1, 0, 1, 0, 1, 0],\n",
       "       [0, 1, 0, 1, 0, 1, 0, 1],\n",
       "       [1, 0, 1, 0, 1, 0, 1, 0],\n",
       "       [0, 1, 0, 1, 0, 1, 0, 1]], dtype=int32)"
      ]
     },
     "execution_count": 20,
     "metadata": {},
     "output_type": "execute_result"
    }
   ],
   "source": [
    "a13 = np.ones((8,8)).astype('i')\n",
    "for i in range(8):\n",
    "    if i % 2 == 0:\n",
    "        a13[i, 1::2] = 0\n",
    "    else:\n",
    "        a13[i, ::2] = 0\n",
    "a13"
   ]
  },
  {
   "cell_type": "code",
   "execution_count": 21,
   "id": "825a4e07-59f0-460b-a3eb-1ca8acd9308b",
   "metadata": {},
   "outputs": [
    {
     "data": {
      "text/plain": [
       "array([[1, 0, 1, 0, 1, 0, 1, 0],\n",
       "       [0, 1, 0, 1, 0, 1, 0, 1],\n",
       "       [1, 0, 1, 0, 1, 0, 1, 0],\n",
       "       [0, 1, 0, 1, 0, 1, 0, 1],\n",
       "       [1, 0, 1, 0, 1, 0, 1, 0],\n",
       "       [0, 1, 0, 1, 0, 1, 0, 1],\n",
       "       [1, 0, 1, 0, 1, 0, 1, 0],\n",
       "       [0, 1, 0, 1, 0, 1, 0, 1]], dtype=int32)"
      ]
     },
     "execution_count": 21,
     "metadata": {},
     "output_type": "execute_result"
    }
   ],
   "source": [
    "a13 = np.ones((8,8)).astype('i')\n",
    "a13[::2, 1::2] = 0\n",
    "a13[1::2, ::2] = 0\n",
    "a13"
   ]
  },
  {
   "cell_type": "code",
   "execution_count": null,
   "id": "00cdbaad-5795-4042-a51e-cfe805c8b526",
   "metadata": {},
   "outputs": [],
   "source": []
  },
  {
   "cell_type": "code",
   "execution_count": 22,
   "id": "d52e5950-31b9-4fc7-a62e-ab93dba2f888",
   "metadata": {},
   "outputs": [
    {
     "data": {
      "text/plain": [
       "array([[1., 0., 1., 0., 1., 0., 1., 0.],\n",
       "       [0., 1., 0., 1., 0., 1., 0., 1.],\n",
       "       [1., 0., 1., 0., 1., 0., 1., 0.],\n",
       "       [0., 1., 0., 1., 0., 1., 0., 1.],\n",
       "       [1., 0., 1., 0., 1., 0., 1., 0.],\n",
       "       [0., 1., 0., 1., 0., 1., 0., 1.],\n",
       "       [1., 0., 1., 0., 1., 0., 1., 0.],\n",
       "       [0., 1., 0., 1., 0., 1., 0., 1.]])"
      ]
     },
     "execution_count": 22,
     "metadata": {},
     "output_type": "execute_result"
    }
   ],
   "source": [
    "a14 = np.tile(np.eye(2), (4,4))\n",
    "a14"
   ]
  },
  {
   "cell_type": "code",
   "execution_count": null,
   "id": "c153f6bf-3a03-49c6-a48b-66b2bcfea246",
   "metadata": {},
   "outputs": [],
   "source": []
  },
  {
   "cell_type": "code",
   "execution_count": 23,
   "id": "7713329e-a2a4-453b-be96-36a1447438fb",
   "metadata": {},
   "outputs": [
    {
     "data": {
      "text/plain": [
       "array([ 0,  1,  2,  3, -4, -5, -6,  7,  8,  9, 10])"
      ]
     },
     "execution_count": 23,
     "metadata": {},
     "output_type": "execute_result"
    }
   ],
   "source": [
    "a15 = np.arange(11)\n",
    "minus = np.array([-1*True if 3 < i < 7 else True for i in range(11)])\n",
    "a15_minus = a15*minus\n",
    "a15_minus"
   ]
  },
  {
   "cell_type": "code",
   "execution_count": 24,
   "id": "cee1b7f7-a38d-4c98-9157-4a27aee627a8",
   "metadata": {},
   "outputs": [
    {
     "data": {
      "text/plain": [
       "array([ 0,  1,  2,  3, -4, -5, -6,  7,  8,  9, 10])"
      ]
     },
     "execution_count": 24,
     "metadata": {},
     "output_type": "execute_result"
    }
   ],
   "source": [
    "a15 = np.array([-i if 3 < i < 7 else i for i in range(11)])\n",
    "a15"
   ]
  },
  {
   "cell_type": "code",
   "execution_count": 25,
   "id": "e3a90ad1-d66c-4160-82d2-c4764154f67d",
   "metadata": {},
   "outputs": [
    {
     "name": "stdout",
     "output_type": "stream",
     "text": [
      "[ 0  1  2  3 -4 -5 -6  7  8  9 10]\n"
     ]
    }
   ],
   "source": [
    "a15 = np.arange(11)\n",
    "a15[(3 < a15)  & (7 > a15)] *= -1\n",
    "print(a15)"
   ]
  },
  {
   "cell_type": "code",
   "execution_count": null,
   "id": "d91cc8ed-b573-40b3-9a29-7610c109384f",
   "metadata": {},
   "outputs": [],
   "source": []
  },
  {
   "cell_type": "code",
   "execution_count": 26,
   "id": "ad825723-d014-48db-9ee8-45ac31384c74",
   "metadata": {},
   "outputs": [
    {
     "data": {
      "text/plain": [
       "1683"
      ]
     },
     "execution_count": 26,
     "metadata": {},
     "output_type": "execute_result"
    }
   ],
   "source": [
    "a16 = np.arange(1,101)\n",
    "div3 = np.array([True if i%3 == 0 else False for i in range(1, 101)])\n",
    "arr = a16[div3]\n",
    "np.sum(arr)"
   ]
  },
  {
   "cell_type": "code",
   "execution_count": 27,
   "id": "aa46d7dd-6d9d-4663-bb2d-8afb12b5a02e",
   "metadata": {},
   "outputs": [
    {
     "data": {
      "text/plain": [
       "1683"
      ]
     },
     "execution_count": 27,
     "metadata": {},
     "output_type": "execute_result"
    }
   ],
   "source": [
    "a16 = np.arange(3, 101, 3)\n",
    "np.sum(a16)"
   ]
  },
  {
   "cell_type": "code",
   "execution_count": null,
   "id": "aa7da1da-e751-42ea-8e5e-768328e5e0a0",
   "metadata": {},
   "outputs": [],
   "source": []
  },
  {
   "cell_type": "code",
   "execution_count": 28,
   "id": "be164eab-366d-4914-967d-a333172923e0",
   "metadata": {},
   "outputs": [
    {
     "data": {
      "text/plain": [
       "array([0.1, 0.2, 0.3, 0.4, 0.5, 0.6, 0.7, 0.8, 0.9])"
      ]
     },
     "execution_count": 28,
     "metadata": {},
     "output_type": "execute_result"
    }
   ],
   "source": [
    "a17 = np.linspace(0.1, 0.9, 9)\n",
    "a17"
   ]
  },
  {
   "cell_type": "code",
   "execution_count": null,
   "id": "3d925025-8806-4645-8040-61e1d9e40212",
   "metadata": {},
   "outputs": [],
   "source": []
  },
  {
   "cell_type": "code",
   "execution_count": 29,
   "id": "8a52675a-2cd2-4acf-8acc-bd798af57762",
   "metadata": {},
   "outputs": [
    {
     "name": "stdin",
     "output_type": "stream",
     "text": [
      " 3\n"
     ]
    },
    {
     "data": {
      "text/plain": [
       "[7, 33, 35, 37, 44, 45]"
      ]
     },
     "metadata": {},
     "output_type": "display_data"
    },
    {
     "data": {
      "text/plain": [
       "[3, 14, 17, 23, 25, 34]"
      ]
     },
     "metadata": {},
     "output_type": "display_data"
    },
    {
     "data": {
      "text/plain": [
       "[6, 8, 13, 17, 23, 38]"
      ]
     },
     "metadata": {},
     "output_type": "display_data"
    }
   ],
   "source": [
    "while True:    \n",
    "    try:\n",
    "        n1 = int(input())\n",
    "        if n1 <= 0:\n",
    "            print(\"자연수만 입력해주세요.\")\n",
    "            continue\n",
    "        else:\n",
    "            for i in range(n1):\n",
    "                lis = []\n",
    "                a18= np.random.choice(range(1, 46), 6, replace = False)\n",
    "                lis.extend(a18)\n",
    "                lis.sort()\n",
    "                display(lis)\n",
    "        break\n",
    "    except ValueError:\n",
    "        print(\"자연수만 입력해주세요.\")\n",
    "        continue"
   ]
  },
  {
   "cell_type": "code",
   "execution_count": 30,
   "id": "e6080ee8-6b0b-4428-bdaf-798f58d148b9",
   "metadata": {
    "tags": []
   },
   "outputs": [],
   "source": [
    "# while True:\n",
    "#     try:\n",
    "#         number = int(input())\n",
    "#         if number>0:\n",
    "#             for _ in range(number):\n",
    "#                 result = np.random.choice(range(1, 46), size=6, replace=False)\n",
    "#                 result.sort()\n",
    "#                 print(result)\n",
    "#             break\n",
    "#         else:\n",
    "#             print(\"자연수만 입력해주세요.\")\n",
    "#     except ValueError:\n",
    "#         print(\"자연수만 입력해주세요.\")\n",
    "#         continue"
   ]
  },
  {
   "cell_type": "code",
   "execution_count": 31,
   "id": "89ec97f9-26bd-4192-b070-4c0dc9491561",
   "metadata": {},
   "outputs": [],
   "source": [
    "# while True:\n",
    "#     try:\n",
    "#         n = input(\"자연수를 입력해주세요.\")\n",
    "#         if n <= 0:\n",
    "#             raise Error\n",
    "#         numbers = np.arange(1, 46)\n",
    "#         lottos = [np.sort(np.random.choice(numbers, 6, replace = False)) for _ in range(n)]\n",
    "#         display(lottos)\n",
    "#         break\n",
    "#     except:\n",
    "#         print(\"자연수를 입력해주세요.\")"
   ]
  },
  {
   "cell_type": "code",
   "execution_count": 32,
   "id": "6251e2e8-86e5-4818-973d-f39e2ab46755",
   "metadata": {},
   "outputs": [
    {
     "name": "stdin",
     "output_type": "stream",
     "text": [
      "자연수만 입력해주세요. 3\n"
     ]
    },
    {
     "data": {
      "text/plain": [
       "array([[ 2,  8, 11, 18, 24, 39],\n",
       "       [10, 15, 18, 33, 34, 42],\n",
       "       [ 7, 17, 20, 29, 31, 34]])"
      ]
     },
     "metadata": {},
     "output_type": "display_data"
    }
   ],
   "source": [
    "while True:\n",
    "    n = int(input(\"자연수만 입력해주세요.\"))\n",
    "    try:\n",
    "        if n<=0:\n",
    "            continue;\n",
    "        k = [np.random.choice(range(1, 46), size=6, replace=False) for _ in range(n)]\n",
    "        display(np.sort(k))\n",
    "        break;\n",
    "    except ValueError:\n",
    "        continue;"
   ]
  },
  {
   "cell_type": "code",
   "execution_count": null,
   "id": "26d80f7d-45ff-4cfa-885c-ea338ea6ef72",
   "metadata": {},
   "outputs": [],
   "source": []
  },
  {
   "cell_type": "code",
   "execution_count": 33,
   "id": "a39299f3-4c66-46d9-9c99-fe57438aa65b",
   "metadata": {},
   "outputs": [],
   "source": [
    "resp_time = np.array([158, 85, 205, 24, 42, 175, 188, 149, 153, 171, 137, 55, 108,\n",
    "                    199, 177, 209, 218, 76, 103, 189, 110, 192, 136, 119, 4, 102,\n",
    "                    177, 212, 110, 37, 163, 32, 77, 22, 125, 184, 46, 139, 72,\n",
    "                    168, 133, 209, 148, 47, 102, 65, 160, 56, 11, 96, 169, 118,\n",
    "                    55, 135, 217, 49, 100, 85, 179, 15, 139, 199, 124, 142, 15,\n",
    "                    49, 168, 171, 168, 177, 147, 23, 199, 26, 51, 42, 90, 128,\n",
    "                    186, 169, 129, 70, 198, 111, 81, 150, 17, 177, 201, 10, 75,\n",
    "                    199, 55, 151, 183, 152, 119, 193, 110, 204])"
   ]
  },
  {
   "cell_type": "code",
   "execution_count": 34,
   "id": "99948876-5d1c-48d2-ad20-9d5b2525e19a",
   "metadata": {},
   "outputs": [
    {
     "data": {
      "text/plain": [
       "8"
      ]
     },
     "execution_count": 34,
     "metadata": {},
     "output_type": "execute_result"
    }
   ],
   "source": [
    "a19 = resp_time[np.where(resp_time>200)] # np.where(resp_time>200은\n",
    "                                         # resp_time 안에서 200을 넘는 값의 인덱스를 반환\n",
    "                                         # resp_time[np...]은 그 값을 저장\n",
    "len(a19)"
   ]
  },
  {
   "cell_type": "code",
   "execution_count": 35,
   "id": "0f099665-c271-4073-827b-b2e16eec8576",
   "metadata": {},
   "outputs": [
    {
     "data": {
      "text/plain": [
       "8"
      ]
     },
     "execution_count": 35,
     "metadata": {},
     "output_type": "execute_result"
    }
   ],
   "source": [
    "a19 = np.array([resp_time>200])\n",
    "np.sum(a19)"
   ]
  },
  {
   "cell_type": "code",
   "execution_count": 36,
   "id": "66f34140-2f4e-417a-9389-67ce50fd3387",
   "metadata": {},
   "outputs": [
    {
     "data": {
      "text/plain": [
       "8"
      ]
     },
     "execution_count": 36,
     "metadata": {},
     "output_type": "execute_result"
    }
   ],
   "source": [
    "(resp_time > 200).sum()"
   ]
  },
  {
   "cell_type": "code",
   "execution_count": 37,
   "id": "f91d272e-ac81-4d7f-8699-afc558f0ebee",
   "metadata": {},
   "outputs": [
    {
     "data": {
      "text/plain": [
       "8"
      ]
     },
     "execution_count": 37,
     "metadata": {},
     "output_type": "execute_result"
    }
   ],
   "source": [
    "a19 = np.array([True if i > 200\n",
    "                else False\n",
    "               for i in resp_time])\n",
    "len(resp_time[a19])"
   ]
  },
  {
   "cell_type": "code",
   "execution_count": null,
   "id": "5e470c24-647e-4969-8820-bb35b5543dec",
   "metadata": {},
   "outputs": [],
   "source": []
  },
  {
   "cell_type": "code",
   "execution_count": null,
   "id": "260448ed-fd12-403f-aa80-5de40a796a68",
   "metadata": {},
   "outputs": [],
   "source": []
  },
  {
   "cell_type": "code",
   "execution_count": 38,
   "id": "d2a886b9-f294-44d2-ad08-ca4d4ed8943e",
   "metadata": {},
   "outputs": [
    {
     "data": {
      "text/plain": [
       "4.0"
      ]
     },
     "metadata": {},
     "output_type": "display_data"
    },
    {
     "data": {
      "text/plain": [
       "71.5"
      ]
     },
     "metadata": {},
     "output_type": "display_data"
    },
    {
     "data": {
      "text/plain": [
       "131.0"
      ]
     },
     "metadata": {},
     "output_type": "display_data"
    },
    {
     "data": {
      "text/plain": [
       "175.5"
      ]
     },
     "metadata": {},
     "output_type": "display_data"
    },
    {
     "data": {
      "text/plain": [
       "218.0"
      ]
     },
     "metadata": {},
     "output_type": "display_data"
    }
   ],
   "source": [
    "a20 = np.percentile(resp_time, 0)\n",
    "a21 = np.percentile(resp_time, 25)\n",
    "a22 = np.percentile(resp_time, 50)\n",
    "a23 = np.percentile(resp_time, 75)\n",
    "a24 = np.percentile(resp_time, 100)\n",
    "display(a20, a21, a22, a23, a24)"
   ]
  },
  {
   "cell_type": "code",
   "execution_count": 39,
   "id": "2b030177-7315-45f0-abc3-b9d55171cb28",
   "metadata": {},
   "outputs": [
    {
     "name": "stdout",
     "output_type": "stream",
     "text": [
      "1분위(25값%) 값: 71.5ms\n",
      "2분위(50값%) 값: 131.0ms\n",
      "3분위(75값%) 값: 175.5ms\n"
     ]
    }
   ],
   "source": [
    "for i, v in enumerate(range(25, 76, 25)):\n",
    "    print(f\"{i + 1}분위({v}값%) 값: {np.percentile(resp_time, v)}ms\")"
   ]
  },
  {
   "cell_type": "code",
   "execution_count": 40,
   "id": "2862fb5c-7a55-456b-a4aa-1edaa2387398",
   "metadata": {},
   "outputs": [
    {
     "data": {
      "text/plain": [
       "175.5"
      ]
     },
     "execution_count": 40,
     "metadata": {},
     "output_type": "execute_result"
    }
   ],
   "source": [
    "np.quantile(resp_time, 0.75) # 4분위수 계산"
   ]
  },
  {
   "cell_type": "code",
   "execution_count": null,
   "id": "f8268464-860c-4b6a-a277-e46b544c2f74",
   "metadata": {},
   "outputs": [],
   "source": []
  },
  {
   "cell_type": "code",
   "execution_count": 41,
   "id": "d24bc93b-1f9d-45a8-98b3-74c42f2d8285",
   "metadata": {},
   "outputs": [],
   "source": [
    "p = [\"뽀로로\", \"루피\", \"크롱\"]\n",
    "result = np.array([2, 1, 2, 2, 2, 2, 0, 2, 1, 1, 0, 0, 2, 0, 0, 1, 1, 2, 2, 2, 1, 1,\n",
    "                1, 2, 0, 2, 2, 0, 1, 1, 0, 2, 1, 0, 1, 2, 0, 0, 1, 0, 1, 1, 1, 2,\n",
    "                1, 1, 1, 0, 0, 0, 0, 1, 0, 0, 2, 0, 2, 2, 0, 0, 1, 1, 1, 0, 0, 2,\n",
    "                2, 1, 0, 1, 2, 0, 2, 0, 0, 0, 2, 0, 0, 0, 0, 0, 1, 2, 1, 1, 2, 0,\n",
    "                2, 0, 0, 0, 0, 2, 1, 2, 0, 2, 0, 0, 1, 0, 1, 2, 1, 2, 0, 2, 2, 1,\n",
    "                2, 0, 0, 1, 1, 0, 1, 2, 1, 2, 0, 2, 2, 2, 2, 0, 2, 2, 0, 2, 0, 2,\n",
    "                1, 1, 2, 1, 1, 0, 0, 1, 0, 0, 0, 2, 2, 0, 2, 0, 0, 0, 2, 0, 0, 0,\n",
    "                2, 0, 1, 2, 1, 0, 2, 0, 0, 1, 2, 1, 1, 2, 2, 0, 0, 0, 0, 2, 2, 1,\n",
    "                0, 1, 1, 2, 2, 1, 0, 0, 2, 0, 0, 0, 2, 0, 2, 2, 0, 2, 1, 0, 0, 2,\n",
    "                0, 1])"
   ]
  },
  {
   "cell_type": "code",
   "execution_count": 42,
   "id": "6c733dd5-a4b8-4e4c-a9ba-7db057022319",
   "metadata": {},
   "outputs": [],
   "source": [
    "# a25 = result[np.where(result == 0)] # result에서 0이 되는 값 추출\n",
    "# a25_len = len(a25) # 정수로 길이 저장\n",
    "# a26 = result[np.where(result == 1)]\n",
    "# a26_len = len(a26)\n",
    "# a27 = result[np.where(result == 2)]\n",
    "# a27_len = len(a27)\n",
    "\n",
    "# a28 = np.array([a25_len, a26_len, a27_len])\n",
    "# a29 = np.max(a28) # 최대값 찾기\n",
    "# a30 = np.argmax(a28) # 최대값 인덱스 찾기\n",
    "\n",
    "# print(f\"{p[a30]}가 {a29}표로 반장으로 선출되었습니다.\")"
   ]
  },
  {
   "cell_type": "code",
   "execution_count": 43,
   "id": "928f04d7-c230-4abb-b5a4-ba8af1beb281",
   "metadata": {},
   "outputs": [
    {
     "name": "stdout",
     "output_type": "stream",
     "text": [
      "뽀로로가 81표로 반장으로 선출되었습니다.\n"
     ]
    }
   ],
   "source": [
    "a25 = len(result[np.where(result == 0)])\n",
    "a26 = len(result[np.where(result == 1)])\n",
    "a27 = len(result[np.where(result == 2)])\n",
    "\n",
    "a28 = np.array([a25, a26, a27])\n",
    "\n",
    "print(f\"{p[np.argmax(a28)]}가 {np.max(a28)}표로 반장으로 선출되었습니다.\")"
   ]
  },
  {
   "cell_type": "code",
   "execution_count": 44,
   "id": "878ed3ad-8d91-43f6-b463-6368cc10013a",
   "metadata": {},
   "outputs": [
    {
     "name": "stdout",
     "output_type": "stream",
     "text": [
      "뽀로로가(이) 81표로 반장으로 선출되었습니다.\n"
     ]
    }
   ],
   "source": [
    "import collections\n",
    "p=[\"뽀로로\",\"루피\",\"크롱\"]\n",
    "x=np.array([2, 1, 2, 2, 2, 2, 0, 2, 1, 1, 0, 0, 2, 0, 0, 1, 1, 2, 2, 2, 1, 1,\n",
    "                   1, 2, 0, 2, 2, 0, 1, 1, 0, 2, 1, 0, 1, 2, 0, 0, 1, 0, 1, 1, 1, 2,\n",
    "                   1, 1, 1, 0, 0, 0, 0, 1, 0, 0, 2, 0, 2, 2, 0, 0, 1, 1, 1, 0, 0, 2,\n",
    "                   2, 1, 0, 1, 2, 0, 2, 0, 0, 0, 2, 0, 0, 0, 0, 0, 1, 2, 1, 1, 2, 0,\n",
    "                   2, 0, 0, 0, 0, 2, 1, 2, 0, 2, 0, 0, 1, 0, 1, 2, 1, 2, 0, 2, 2, 1,\n",
    "                   2, 0, 0, 1, 1, 0, 1, 2, 1, 2, 0, 2, 2, 2, 2, 0, 2, 2, 0, 2, 0, 2,\n",
    "                   1, 1, 2, 1, 1, 0, 0, 1, 0, 0, 0, 2, 2, 0, 2, 0, 0, 0, 2, 0, 0, 0,\n",
    "                   2, 0, 1, 2, 1, 0, 2, 0, 0, 1, 2, 1, 1, 2, 2, 0, 0, 0, 0, 2, 2, 1,\n",
    "                   0, 1, 1, 2, 2, 1, 0, 0, 2, 0, 0, 0, 2, 0, 2, 2, 0, 2, 1, 0, 0, 2,\n",
    "                   0, 1])\n",
    "dic = dict(collections.Counter(x))\n",
    "print(f'{p[max(dic,key=dic.get)]}가(이) {max(dic.values())}표로 반장으로 선출되었습니다.')"
   ]
  },
  {
   "cell_type": "code",
   "execution_count": 45,
   "id": "fa3362fe-8c68-4621-b4ec-6359248b8874",
   "metadata": {},
   "outputs": [
    {
     "name": "stdout",
     "output_type": "stream",
     "text": [
      "뽀로로가 81표로 반장으로 선출되었습니다.\n"
     ]
    }
   ],
   "source": [
    "a31 = np.bincount(result, minlength = 3)\n",
    "print(f\"{p[a31.argmax()]}가 {a31.max()}표로 반장으로 선출되었습니다.\")"
   ]
  },
  {
   "cell_type": "code",
   "execution_count": 46,
   "id": "adadc1fb-e02a-49f1-9768-cbc7e09523df",
   "metadata": {},
   "outputs": [
    {
     "name": "stdout",
     "output_type": "stream",
     "text": [
      "뽀로로가 81표로 반장으로 선출되었습니다.\n"
     ]
    }
   ],
   "source": [
    "m, n = np.unique(result, return_counts=True)\n",
    "print(f\"{p[np.argmax(n)]}가 {np.max(n)}표로 반장으로 선출되었습니다.\")"
   ]
  },
  {
   "cell_type": "code",
   "execution_count": 47,
   "id": "3dcd01b6-58c8-4ff0-8f43-612a3792b55d",
   "metadata": {},
   "outputs": [
    {
     "name": "stdout",
     "output_type": "stream",
     "text": [
      "루피가 53표로 낙선하였습니다.\n"
     ]
    }
   ],
   "source": [
    "a32 = np.bincount(result, minlength = 3)\n",
    "print(f\"{p[a32.argmin()]}가 {a32.min()}표로 낙선하였습니다.\")"
   ]
  },
  {
   "cell_type": "code",
   "execution_count": 48,
   "id": "161a3174-51ef-45e5-b319-3583e6be33d6",
   "metadata": {},
   "outputs": [
    {
     "name": "stdout",
     "output_type": "stream",
     "text": [
      "[81, 53, 66]\n",
      "뽀로로가 81표로 반장으로 선출되었습니다.\n"
     ]
    }
   ],
   "source": [
    "counts = [0, 0, 0]\n",
    "for i in result:\n",
    "    counts[i] += 1\n",
    "\n",
    "print(counts)\n",
    "print(f\"{p[counts.index(max(counts))]}가 {max(counts)}표로 반장으로 선출되었습니다.\")"
   ]
  }
 ],
 "metadata": {
  "kernelspec": {
   "display_name": "Python 3 (ipykernel)",
   "language": "python",
   "name": "python3"
  },
  "language_info": {
   "codemirror_mode": {
    "name": "ipython",
    "version": 3
   },
   "file_extension": ".py",
   "mimetype": "text/x-python",
   "name": "python",
   "nbconvert_exporter": "python",
   "pygments_lexer": "ipython3",
   "version": "3.9.13"
  }
 },
 "nbformat": 4,
 "nbformat_minor": 5
}
